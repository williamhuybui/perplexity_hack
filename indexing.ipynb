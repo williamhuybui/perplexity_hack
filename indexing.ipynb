{
 "cells": [
  {
   "cell_type": "code",
   "execution_count": null,
   "metadata": {},
   "outputs": [
    {
     "name": "stdout",
     "output_type": "stream",
     "text": [
      "Number of words: 360\n",
      "✅ Indexing complete and saved to 'faiss_index_open'\n"
     ]
    }
   ],
   "source": [
    "from langchain.document_loaders import PyMuPDFLoader\n",
    "from langchain.text_splitter import RecursiveCharacterTextSplitter\n",
    "from langchain.vectorstores import FAISS\n",
    "from langchain_huggingface import HuggingFaceEmbeddings\n",
    "\n",
    "# Step 1: Load PDF\n",
    "loader = PyMuPDFLoader(\"data\\Huy_Bui_Resume.pdf\")  # Replace with your PDF path\n",
    "documents = loader.load()\n",
    "print(\"Number of words:\", len(documents[0].page_content.split(\" \")))\n",
    "\n",
    "# Step 2: Split into chunks\n",
    "splitter = RecursiveCharacterTextSplitter(chunk_size=500, chunk_overlap=50)\n",
    "chunks = splitter.split_documents(documents)\n",
    "\n",
    "# Step 3: Use HuggingFace Embeddings (open source)\n",
    "model_name = \"sentence-transformers/all-mpnet-base-v2\"\n",
    "model_kwargs = {'device': 'cpu'}\n",
    "encode_kwargs = {'normalize_embeddings': False} #False Euclidean, True cosine similarity\n",
    "hf = HuggingFaceEmbeddings(\n",
    "    model_name=model_name,\n",
    "    model_kwargs=model_kwargs,\n",
    "    encode_kwargs=encode_kwargs\n",
    ")\n",
    "\n",
    "# Step 4: Create FAISS vector index\n",
    "vector_store = FAISS.from_documents(chunks, hf)\n",
    "\n",
    "# Step 5: Save the index locally\n",
    "vector_store.save_local(\"faiss_index_open\")\n",
    "print(\"✅ Indexing complete and saved to 'faiss_index_open'\")\n"
   ]
  },
  {
   "cell_type": "code",
   "execution_count": 37,
   "metadata": {},
   "outputs": [
    {
     "name": "stdout",
     "output_type": "stream",
     "text": [
      "\n",
      "🔢 Embedding 1:\n",
      "Text: Huy Bui\n",
      "williamhuybui@gmail.com | linkedin.com/in/huy-bui-ds\n",
      "Experience\n",
      "Publicis Groupe\n",
      "Remote\n",
      "Senio...\n",
      "Vector (first 5 dims): [-0.00920974463224411, 0.09017596393823624, -0.02930494025349617, -0.06725069880485535, 0.003979883622378111]\n",
      "Vector length: 768\n",
      "\n",
      "🔢 Embedding 2:\n",
      "Text: – Built an automated data pipeline leveraging Python, SQL, BigQuery, AWS Lambda, S3, and EventBridge...\n",
      "Vector (first 5 dims): [0.034452714025974274, 0.08983542025089264, -0.04970097914338112, -0.06849124282598495, 0.0050932131707668304]\n",
      "Vector length: 768\n",
      "\n",
      "🔢 Embedding 3:\n",
      "Text: Research Data Scientist\n",
      "April 2020 – June 2022\n",
      "– Lead author of the research Machine Learning Applic...\n",
      "Vector (first 5 dims): [-0.06988286226987839, 0.02098994143307209, -0.006211360916495323, -0.03602774068713188, -0.02026708610355854]\n",
      "Vector length: 768\n"
     ]
    }
   ],
   "source": [
    "# Extract raw texts\n",
    "texts = [chunk.page_content for chunk in chunks[:3]]  # First 3 chunks\n",
    "\n",
    "# Get embeddings\n",
    "vectors = hf.embed_documents(texts)\n",
    "\n",
    "for i, (text, vec) in enumerate(zip(texts, vectors)):\n",
    "    print(f\"\\n🔢 Embedding {i+1}:\")\n",
    "    print(f\"Text: {text[:100]}...\")\n",
    "    print(f\"Vector (first 5 dims): {vec[:5]}\")\n",
    "    print(f\"Vector length: {len(vec)}\")\n"
   ]
  },
  {
   "cell_type": "code",
   "execution_count": 51,
   "metadata": {},
   "outputs": [
    {
     "name": "stdout",
     "output_type": "stream",
     "text": [
      "* [SIM=1.372314] Mentor | Techsphere\n",
      "August 2022 - August 2024\n",
      "– Helped Vietnamese professionals with mock interviews in data science and software engineering.\n",
      "1st Place Team at Glasstire DataHack | Rice University\n",
      "December 2019\n",
      "3rd Place Team at TAMU Hack | Texas A&M University\n",
      "January 2020 [{'producer': 'pdfTeX-1.40.24', 'creator': 'LaTeX with hyperref', 'creationdate': '2025-05-19T01:02:47+00:00', 'source': '/Users/huybui/Desktop/MY_FRAMEWORK/sample_data/Huy_Bui_Resume.pdf', 'file_path': '/Users/huybui/Desktop/MY_FRAMEWORK/sample_data/Huy_Bui_Resume.pdf', 'total_pages': 1, 'format': 'PDF 1.5', 'title': '', 'author': '', 'subject': '', 'keywords': '', 'moddate': '2025-05-19T01:02:47+00:00', 'trapped': '', 'modDate': 'D:20250519010247Z', 'creationDate': 'D:20250519010247Z', 'page': 0}]\n"
     ]
    }
   ],
   "source": [
    "results = vector_store.similarity_search_with_score(\n",
    "    \"Mentor ?\", k=1\n",
    ")\n",
    "for res, score in results:\n",
    "    print(f\"* [SIM={score:3f}] {res.page_content} [{res.metadata}]\")"
   ]
  }
 ],
 "metadata": {
  "kernelspec": {
   "display_name": "Python 3",
   "language": "python",
   "name": "python3"
  },
  "language_info": {
   "codemirror_mode": {
    "name": "ipython",
    "version": 3
   },
   "file_extension": ".py",
   "mimetype": "text/x-python",
   "name": "python",
   "nbconvert_exporter": "python",
   "pygments_lexer": "ipython3",
   "version": "3.11.0"
  }
 },
 "nbformat": 4,
 "nbformat_minor": 2
}
