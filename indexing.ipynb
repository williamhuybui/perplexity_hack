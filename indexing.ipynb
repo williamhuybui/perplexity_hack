{
 "cells": [
  {
   "cell_type": "code",
   "execution_count": 9,
   "metadata": {},
   "outputs": [
    {
     "name": "stdout",
     "output_type": "stream",
     "text": [
      "Number of words: 360\n"
     ]
    },
    {
     "name": "stderr",
     "output_type": "stream",
     "text": [
      "/Users/huybui/Library/Python/3.9/lib/python/site-packages/tqdm/auto.py:21: TqdmWarning: IProgress not found. Please update jupyter and ipywidgets. See https://ipywidgets.readthedocs.io/en/stable/user_install.html\n",
      "  from .autonotebook import tqdm as notebook_tqdm\n"
     ]
    },
    {
     "ename": "ImportError",
     "evalue": "Could not import faiss python package. Please install it with `pip install faiss-gpu` (for CUDA supported GPU) or `pip install faiss-cpu` (depending on Python version).",
     "output_type": "error",
     "traceback": [
      "\u001b[0;31m---------------------------------------------------------------------------\u001b[0m",
      "\u001b[0;31mModuleNotFoundError\u001b[0m                       Traceback (most recent call last)",
      "File \u001b[0;32m~/Library/Python/3.9/lib/python/site-packages/langchain_community/vectorstores/faiss.py:56\u001b[0m, in \u001b[0;36mdependable_faiss_import\u001b[0;34m(no_avx2)\u001b[0m\n\u001b[1;32m     55\u001b[0m     \u001b[39melse\u001b[39;00m:\n\u001b[0;32m---> 56\u001b[0m         \u001b[39mimport\u001b[39;00m \u001b[39mfaiss\u001b[39;00m\n\u001b[1;32m     57\u001b[0m \u001b[39mexcept\u001b[39;00m \u001b[39mImportError\u001b[39;00m:\n",
      "\u001b[0;31mModuleNotFoundError\u001b[0m: No module named 'faiss'",
      "\nDuring handling of the above exception, another exception occurred:\n",
      "\u001b[0;31mImportError\u001b[0m                               Traceback (most recent call last)",
      "\u001b[1;32m/Users/huybui/Desktop/SIMPLE_RAG/indexing.ipynb Cell 1\u001b[0m line \u001b[0;36m2\n\u001b[1;32m     <a href='vscode-notebook-cell:/Users/huybui/Desktop/SIMPLE_RAG/indexing.ipynb#W0sZmlsZQ%3D%3D?line=18'>19</a>\u001b[0m hf \u001b[39m=\u001b[39m HuggingFaceEmbeddings(\n\u001b[1;32m     <a href='vscode-notebook-cell:/Users/huybui/Desktop/SIMPLE_RAG/indexing.ipynb#W0sZmlsZQ%3D%3D?line=19'>20</a>\u001b[0m     model_name\u001b[39m=\u001b[39mmodel_name,\n\u001b[1;32m     <a href='vscode-notebook-cell:/Users/huybui/Desktop/SIMPLE_RAG/indexing.ipynb#W0sZmlsZQ%3D%3D?line=20'>21</a>\u001b[0m     model_kwargs\u001b[39m=\u001b[39mmodel_kwargs,\n\u001b[1;32m     <a href='vscode-notebook-cell:/Users/huybui/Desktop/SIMPLE_RAG/indexing.ipynb#W0sZmlsZQ%3D%3D?line=21'>22</a>\u001b[0m     encode_kwargs\u001b[39m=\u001b[39mencode_kwargs\n\u001b[1;32m     <a href='vscode-notebook-cell:/Users/huybui/Desktop/SIMPLE_RAG/indexing.ipynb#W0sZmlsZQ%3D%3D?line=22'>23</a>\u001b[0m )\n\u001b[1;32m     <a href='vscode-notebook-cell:/Users/huybui/Desktop/SIMPLE_RAG/indexing.ipynb#W0sZmlsZQ%3D%3D?line=24'>25</a>\u001b[0m \u001b[39m# Step 4: Create FAISS vector index\u001b[39;00m\n\u001b[0;32m---> <a href='vscode-notebook-cell:/Users/huybui/Desktop/SIMPLE_RAG/indexing.ipynb#W0sZmlsZQ%3D%3D?line=25'>26</a>\u001b[0m vector_store \u001b[39m=\u001b[39m FAISS\u001b[39m.\u001b[39;49mfrom_documents(chunks, hf)\n\u001b[1;32m     <a href='vscode-notebook-cell:/Users/huybui/Desktop/SIMPLE_RAG/indexing.ipynb#W0sZmlsZQ%3D%3D?line=27'>28</a>\u001b[0m \u001b[39m# Step 5: Save the index locally\u001b[39;00m\n\u001b[1;32m     <a href='vscode-notebook-cell:/Users/huybui/Desktop/SIMPLE_RAG/indexing.ipynb#W0sZmlsZQ%3D%3D?line=28'>29</a>\u001b[0m vector_store\u001b[39m.\u001b[39msave_local(\u001b[39m\"\u001b[39m\u001b[39mfaiss_index_open\u001b[39m\u001b[39m\"\u001b[39m)\n",
      "File \u001b[0;32m~/Library/Python/3.9/lib/python/site-packages/langchain_core/vectorstores/base.py:848\u001b[0m, in \u001b[0;36mVectorStore.from_documents\u001b[0;34m(cls, documents, embedding, **kwargs)\u001b[0m\n\u001b[1;32m    845\u001b[0m     \u001b[39mif\u001b[39;00m \u001b[39many\u001b[39m(ids):\n\u001b[1;32m    846\u001b[0m         kwargs[\u001b[39m\"\u001b[39m\u001b[39mids\u001b[39m\u001b[39m\"\u001b[39m] \u001b[39m=\u001b[39m ids\n\u001b[0;32m--> 848\u001b[0m \u001b[39mreturn\u001b[39;00m \u001b[39mcls\u001b[39;49m\u001b[39m.\u001b[39;49mfrom_texts(texts, embedding, metadatas\u001b[39m=\u001b[39;49mmetadatas, \u001b[39m*\u001b[39;49m\u001b[39m*\u001b[39;49mkwargs)\n",
      "File \u001b[0;32m~/Library/Python/3.9/lib/python/site-packages/langchain_community/vectorstores/faiss.py:1044\u001b[0m, in \u001b[0;36mFAISS.from_texts\u001b[0;34m(cls, texts, embedding, metadatas, ids, **kwargs)\u001b[0m\n\u001b[1;32m   1025\u001b[0m \u001b[39m\u001b[39m\u001b[39m\"\"\"Construct FAISS wrapper from raw documents.\u001b[39;00m\n\u001b[1;32m   1026\u001b[0m \n\u001b[1;32m   1027\u001b[0m \u001b[39mThis is a user friendly interface that:\u001b[39;00m\n\u001b[0;32m   (...)\u001b[0m\n\u001b[1;32m   1041\u001b[0m \u001b[39m        faiss = FAISS.from_texts(texts, embeddings)\u001b[39;00m\n\u001b[1;32m   1042\u001b[0m \u001b[39m\"\"\"\u001b[39;00m\n\u001b[1;32m   1043\u001b[0m embeddings \u001b[39m=\u001b[39m embedding\u001b[39m.\u001b[39membed_documents(texts)\n\u001b[0;32m-> 1044\u001b[0m \u001b[39mreturn\u001b[39;00m \u001b[39mcls\u001b[39;49m\u001b[39m.\u001b[39;49m__from(\n\u001b[1;32m   1045\u001b[0m     texts,\n\u001b[1;32m   1046\u001b[0m     embeddings,\n\u001b[1;32m   1047\u001b[0m     embedding,\n\u001b[1;32m   1048\u001b[0m     metadatas\u001b[39m=\u001b[39;49mmetadatas,\n\u001b[1;32m   1049\u001b[0m     ids\u001b[39m=\u001b[39;49mids,\n\u001b[1;32m   1050\u001b[0m     \u001b[39m*\u001b[39;49m\u001b[39m*\u001b[39;49mkwargs,\n\u001b[1;32m   1051\u001b[0m )\n",
      "File \u001b[0;32m~/Library/Python/3.9/lib/python/site-packages/langchain_community/vectorstores/faiss.py:996\u001b[0m, in \u001b[0;36mFAISS.__from\u001b[0;34m(cls, texts, embeddings, embedding, metadatas, ids, normalize_L2, distance_strategy, **kwargs)\u001b[0m\n\u001b[1;32m    984\u001b[0m \u001b[39m@classmethod\u001b[39m\n\u001b[1;32m    985\u001b[0m \u001b[39mdef\u001b[39;00m \u001b[39m__from\u001b[39m(\n\u001b[1;32m    986\u001b[0m     \u001b[39mcls\u001b[39m,\n\u001b[0;32m   (...)\u001b[0m\n\u001b[1;32m    994\u001b[0m     \u001b[39m*\u001b[39m\u001b[39m*\u001b[39mkwargs: Any,\n\u001b[1;32m    995\u001b[0m ) \u001b[39m-\u001b[39m\u001b[39m>\u001b[39m FAISS:\n\u001b[0;32m--> 996\u001b[0m     faiss \u001b[39m=\u001b[39m dependable_faiss_import()\n\u001b[1;32m    997\u001b[0m     \u001b[39mif\u001b[39;00m distance_strategy \u001b[39m==\u001b[39m DistanceStrategy\u001b[39m.\u001b[39mMAX_INNER_PRODUCT:\n\u001b[1;32m    998\u001b[0m         index \u001b[39m=\u001b[39m faiss\u001b[39m.\u001b[39mIndexFlatIP(\u001b[39mlen\u001b[39m(embeddings[\u001b[39m0\u001b[39m]))\n",
      "File \u001b[0;32m~/Library/Python/3.9/lib/python/site-packages/langchain_community/vectorstores/faiss.py:58\u001b[0m, in \u001b[0;36mdependable_faiss_import\u001b[0;34m(no_avx2)\u001b[0m\n\u001b[1;32m     56\u001b[0m         \u001b[39mimport\u001b[39;00m \u001b[39mfaiss\u001b[39;00m\n\u001b[1;32m     57\u001b[0m \u001b[39mexcept\u001b[39;00m \u001b[39mImportError\u001b[39;00m:\n\u001b[0;32m---> 58\u001b[0m     \u001b[39mraise\u001b[39;00m \u001b[39mImportError\u001b[39;00m(\n\u001b[1;32m     59\u001b[0m         \u001b[39m\"\u001b[39m\u001b[39mCould not import faiss python package. \u001b[39m\u001b[39m\"\u001b[39m\n\u001b[1;32m     60\u001b[0m         \u001b[39m\"\u001b[39m\u001b[39mPlease install it with `pip install faiss-gpu` (for CUDA supported GPU) \u001b[39m\u001b[39m\"\u001b[39m\n\u001b[1;32m     61\u001b[0m         \u001b[39m\"\u001b[39m\u001b[39mor `pip install faiss-cpu` (depending on Python version).\u001b[39m\u001b[39m\"\u001b[39m\n\u001b[1;32m     62\u001b[0m     )\n\u001b[1;32m     63\u001b[0m \u001b[39mreturn\u001b[39;00m faiss\n",
      "\u001b[0;31mImportError\u001b[0m: Could not import faiss python package. Please install it with `pip install faiss-gpu` (for CUDA supported GPU) or `pip install faiss-cpu` (depending on Python version)."
     ]
    }
   ],
   "source": [
    "from langchain.document_loaders import PyMuPDFLoader\n",
    "from langchain.text_splitter import RecursiveCharacterTextSplitter\n",
    "from langchain.vectorstores import FAISS\n",
    "from langchain_huggingface import HuggingFaceEmbeddings\n",
    "\n",
    "# Step 1: Load PDF\n",
    "loader = PyMuPDFLoader(\"data/Huy_Bui_Resume.pdf\")  # Replace with your PDF path\n",
    "documents = loader.load()\n",
    "print(\"Number of words:\", len(documents[0].page_content.split(\" \")))\n",
    "\n",
    "# Step 2: Split into chunks\n",
    "splitter = RecursiveCharacterTextSplitter(chunk_size=500, chunk_overlap=50)\n",
    "chunks = splitter.split_documents(documents)\n",
    "\n",
    "# Step 3: Use HuggingFace Embeddings (open source)\n",
    "model_name = \"sentence-transformers/all-mpnet-base-v2\"\n",
    "model_kwargs = {'device': 'cpu'}\n",
    "encode_kwargs = {'normalize_embeddings': False} #False Euclidean, True cosine similarity\n",
    "hf = HuggingFaceEmbeddings(\n",
    "    model_name=model_name,\n",
    "    model_kwargs=model_kwargs,\n",
    "    encode_kwargs=encode_kwargs\n",
    ")\n",
    "\n",
    "# Step 4: Create FAISS vector index\n",
    "vector_store = FAISS.from_documents(chunks, hf)\n",
    "\n",
    "# Step 5: Save the index locally\n",
    "vector_store.save_local(\"faiss_index_open\")\n",
    "print(\"Indexing complete and saved to 'faiss_index_open'\")\n"
   ]
  },
  {
   "cell_type": "code",
   "execution_count": 8,
   "metadata": {},
   "outputs": [
    {
     "name": "stdout",
     "output_type": "stream",
     "text": [
      "Defaulting to user installation because normal site-packages is not writeable\n",
      "Collecting pymupdf\n",
      "  Using cached pymupdf-1.25.5-cp39-abi3-macosx_11_0_arm64.whl (18.6 MB)\n",
      "Installing collected packages: pymupdf\n",
      "Successfully installed pymupdf-1.25.5\n",
      "\u001b[33mWARNING: You are using pip version 21.2.4; however, version 25.1.1 is available.\n",
      "You should consider upgrading via the '/Library/Developer/CommandLineTools/usr/bin/python3 -m pip install --upgrade pip' command.\u001b[0m\n",
      "Note: you may need to restart the kernel to use updated packages.\n"
     ]
    }
   ],
   "source": [
    "pip install pymupdf"
   ]
  },
  {
   "cell_type": "code",
   "execution_count": 37,
   "metadata": {},
   "outputs": [
    {
     "name": "stdout",
     "output_type": "stream",
     "text": [
      "\n",
      "🔢 Embedding 1:\n",
      "Text: Huy Bui\n",
      "williamhuybui@gmail.com | linkedin.com/in/huy-bui-ds\n",
      "Experience\n",
      "Publicis Groupe\n",
      "Remote\n",
      "Senio...\n",
      "Vector (first 5 dims): [-0.00920974463224411, 0.09017596393823624, -0.02930494025349617, -0.06725069880485535, 0.003979883622378111]\n",
      "Vector length: 768\n",
      "\n",
      "🔢 Embedding 2:\n",
      "Text: – Built an automated data pipeline leveraging Python, SQL, BigQuery, AWS Lambda, S3, and EventBridge...\n",
      "Vector (first 5 dims): [0.034452714025974274, 0.08983542025089264, -0.04970097914338112, -0.06849124282598495, 0.0050932131707668304]\n",
      "Vector length: 768\n",
      "\n",
      "🔢 Embedding 3:\n",
      "Text: Research Data Scientist\n",
      "April 2020 – June 2022\n",
      "– Lead author of the research Machine Learning Applic...\n",
      "Vector (first 5 dims): [-0.06988286226987839, 0.02098994143307209, -0.006211360916495323, -0.03602774068713188, -0.02026708610355854]\n",
      "Vector length: 768\n"
     ]
    }
   ],
   "source": [
    "# Extract raw texts\n",
    "texts = [chunk.page_content for chunk in chunks[:3]]  # First 3 chunks\n",
    "\n",
    "# Get embeddings\n",
    "vectors = hf.embed_documents(texts)\n",
    "\n",
    "for i, (text, vec) in enumerate(zip(texts, vectors)):\n",
    "    print(f\"\\n🔢 Embedding {i+1}:\")\n",
    "    print(f\"Text: {text[:100]}...\")\n",
    "    print(f\"Vector (first 5 dims): {vec[:5]}\")\n",
    "    print(f\"Vector length: {len(vec)}\")\n"
   ]
  },
  {
   "cell_type": "code",
   "execution_count": 1,
   "metadata": {},
   "outputs": [
    {
     "ename": "NameError",
     "evalue": "name 'vector_store' is not defined",
     "output_type": "error",
     "traceback": [
      "\u001b[0;31m---------------------------------------------------------------------------\u001b[0m",
      "\u001b[0;31mNameError\u001b[0m                                 Traceback (most recent call last)",
      "\u001b[1;32m/Users/huybui/Desktop/SIMPLE_RAG/indexing.ipynb Cell 3\u001b[0m line \u001b[0;36m1\n\u001b[0;32m----> <a href='vscode-notebook-cell:/Users/huybui/Desktop/SIMPLE_RAG/indexing.ipynb#W2sZmlsZQ%3D%3D?line=0'>1</a>\u001b[0m results \u001b[39m=\u001b[39m vector_store\u001b[39m.\u001b[39msimilarity_search_with_score(\n\u001b[1;32m      <a href='vscode-notebook-cell:/Users/huybui/Desktop/SIMPLE_RAG/indexing.ipynb#W2sZmlsZQ%3D%3D?line=1'>2</a>\u001b[0m     \u001b[39m\"\u001b[39m\u001b[39mMentor ?\u001b[39m\u001b[39m\"\u001b[39m, k\u001b[39m=\u001b[39m\u001b[39m4\u001b[39m\n\u001b[1;32m      <a href='vscode-notebook-cell:/Users/huybui/Desktop/SIMPLE_RAG/indexing.ipynb#W2sZmlsZQ%3D%3D?line=2'>3</a>\u001b[0m )\n\u001b[1;32m      <a href='vscode-notebook-cell:/Users/huybui/Desktop/SIMPLE_RAG/indexing.ipynb#W2sZmlsZQ%3D%3D?line=3'>4</a>\u001b[0m \u001b[39mfor\u001b[39;00m res, score \u001b[39min\u001b[39;00m results:\n\u001b[1;32m      <a href='vscode-notebook-cell:/Users/huybui/Desktop/SIMPLE_RAG/indexing.ipynb#W2sZmlsZQ%3D%3D?line=4'>5</a>\u001b[0m     \u001b[39mprint\u001b[39m(\u001b[39mf\u001b[39m\u001b[39m\"\u001b[39m\u001b[39m* [SIM=\u001b[39m\u001b[39m{\u001b[39;00mscore\u001b[39m:\u001b[39;00m\u001b[39m3f\u001b[39m\u001b[39m}\u001b[39;00m\u001b[39m] \u001b[39m\u001b[39m{\u001b[39;00mres\u001b[39m.\u001b[39mpage_content\u001b[39m}\u001b[39;00m\u001b[39m [\u001b[39m\u001b[39m{\u001b[39;00mres\u001b[39m.\u001b[39mmetadata\u001b[39m}\u001b[39;00m\u001b[39m]\u001b[39m\u001b[39m\"\u001b[39m)\n",
      "\u001b[0;31mNameError\u001b[0m: name 'vector_store' is not defined"
     ]
    }
   ],
   "source": [
    "results = vector_store.similarity_search_with_score(\n",
    "    \"Mentor ?\", k=4\n",
    ")\n",
    "for res, score in results:\n",
    "    print(f\"* [SIM={score:3f}] {res.page_content} [{res.metadata}]\")"
   ]
  },
  {
   "cell_type": "code",
   "execution_count": null,
   "metadata": {},
   "outputs": [],
   "source": []
  }
 ],
 "metadata": {
  "kernelspec": {
   "display_name": "Python 3",
   "language": "python",
   "name": "python3"
  },
  "language_info": {
   "codemirror_mode": {
    "name": "ipython",
    "version": 3
   },
   "file_extension": ".py",
   "mimetype": "text/x-python",
   "name": "python",
   "nbconvert_exporter": "python",
   "pygments_lexer": "ipython3",
   "version": "3.9.6"
  }
 },
 "nbformat": 4,
 "nbformat_minor": 2
}
