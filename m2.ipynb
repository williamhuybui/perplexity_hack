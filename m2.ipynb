{
 "cells": [
  {
   "cell_type": "markdown",
   "id": "c7d04483",
   "metadata": {},
   "source": [
    "### Model 2"
   ]
  },
  {
   "cell_type": "code",
   "execution_count": 1,
   "id": "cdf5c6dc",
   "metadata": {},
   "outputs": [],
   "source": [
    "import pandas as pd"
   ]
  },
  {
   "cell_type": "code",
   "execution_count": 2,
   "id": "d8156c5d",
   "metadata": {},
   "outputs": [
    {
     "name": "stdout",
     "output_type": "stream",
     "text": [
      "Loaded 1182 total documents.\n"
     ]
    },
    {
     "name": "stderr",
     "output_type": "stream",
     "text": [
      "C:\\Users\\Lan Dao\\AppData\\Local\\Temp\\ipykernel_29880\\3588479742.py:45: LangChainDeprecationWarning: The class `HuggingFaceBgeEmbeddings` was deprecated in LangChain 0.2.2 and will be removed in 1.0. An updated version of the class exists in the :class:`~langchain-huggingface package and should be used instead. To use it run `pip install -U :class:`~langchain-huggingface` and import as `from :class:`~langchain_huggingface import HuggingFaceEmbeddings``.\n",
      "  hf = HuggingFaceBgeEmbeddings(\n",
      "c:\\Users\\Lan Dao\\AppData\\Local\\Programs\\Python\\Python39\\lib\\site-packages\\tqdm\\auto.py:21: TqdmWarning: IProgress not found. Please update jupyter and ipywidgets. See https://ipywidgets.readthedocs.io/en/stable/user_install.html\n",
      "  from .autonotebook import tqdm as notebook_tqdm\n",
      "C:\\Users\\Lan Dao\\AppData\\Local\\Temp\\ipykernel_29880\\3588479742.py:84: LangChainDeprecationWarning: The class `ChatPerplexity` was deprecated in LangChain 0.3.21 and will be removed in 1.0. An updated version of the class exists in the :class:`~langchain-perplexity package and should be used instead. To use it run `pip install -U :class:`~langchain-perplexity` and import as `from :class:`~langchain_perplexity import ChatPerplexity``.\n",
      "  perplexity_llm = ChatPerplexity(\n"
     ]
    }
   ],
   "source": [
    "import os\n",
    "import csv\n",
    "from langchain.embeddings import HuggingFaceBgeEmbeddings\n",
    "from langchain.vectorstores import Chroma\n",
    "from langchain.retrievers import ContextualCompressionRetriever\n",
    "from langchain.retrievers.document_compressors import LLMChainExtractor\n",
    "from langchain.prompts import PromptTemplate\n",
    "from langchain.chains import RetrievalQA\n",
    "from langchain_community.llms import Ollama\n",
    "from langchain_community.chat_models import ChatPerplexity\n",
    "from langchain.document_loaders import PyPDFLoader\n",
    "from langchain.text_splitter import TokenTextSplitter\n",
    "\n",
    "# === Settings ===\n",
    "PDF_FOLDER = \"data\"\n",
    "CHUNK_SIZE = 5000\n",
    "CHUNK_OVERLAP = 500\n",
    "VECTOR_STORE_DIR = \"chroma_index_finance\"\n",
    "LOG_FILE = \"qa_log_2.csv\"\n",
    "\n",
    "# === Load all PDFs ===\n",
    "all_documents = []\n",
    "for filename in os.listdir(PDF_FOLDER):\n",
    "    if filename.endswith(\".pdf\"):\n",
    "        file_path = os.path.join(PDF_FOLDER, filename)\n",
    "        loader = PyPDFLoader(file_path)\n",
    "        documents = loader.load()\n",
    "        for doc in documents:\n",
    "            doc.metadata[\"source\"] = filename  # track which PDF it came from\n",
    "        all_documents.extend(documents)\n",
    "\n",
    "print(f\"Loaded {len(all_documents)} total documents.\")\n",
    "\n",
    "# === Split text into chunks ===\n",
    "text_splitter = TokenTextSplitter(chunk_size=CHUNK_SIZE, chunk_overlap=CHUNK_OVERLAP)\n",
    "chunks = text_splitter.split_documents(all_documents)\n",
    "\n",
    "# Add unique chunk IDs and ensure source is in metadata\n",
    "for i, doc in enumerate(chunks):\n",
    "    doc.metadata[\"chunk_id\"] = i\n",
    "    doc.metadata[\"source\"] = doc.metadata.get(\"source\", \"unknown\")\n",
    "\n",
    "# === Embedding model ===\n",
    "model_name = \"BAAI/bge-base-en\"\n",
    "hf = HuggingFaceBgeEmbeddings(\n",
    "    model_name=model_name,\n",
    "    model_kwargs={'device': 'cpu'},\n",
    "    encode_kwargs={'normalize_embeddings': True}\n",
    ")\n",
    "\n",
    "# === Vector Store ===\n",
    "vector_store = Chroma.from_documents(\n",
    "    documents=chunks,\n",
    "    embedding=hf,\n",
    "    persist_directory=VECTOR_STORE_DIR\n",
    ")\n",
    "# vector_store.persist()\n",
    "\n",
    "# === Prompt Template (only answer output) ===\n",
    "prompt_template = \"\"\"\n",
    "You are a professional financial advisor with expertise in corporate finance, investment analysis, and career development in finance-related roles.\n",
    "\n",
    "Use only the information provided in the context to answer the user's question.\n",
    "Do not make assumptions or fabricate any details.\n",
    "\n",
    "Respond clearly and professionally, as if advising a client on their financial career or investment decisions.\n",
    "\n",
    "{context}\n",
    "\n",
    "Question: {question}\n",
    "\n",
    "If the answer is not explicitly stated in the context, respond with: \"I don't know based on the provided document\".\n",
    "\"\"\"\n",
    "\n",
    "PROMPT = PromptTemplate(\n",
    "    template=prompt_template,\n",
    "    input_variables=[\"context\", \"question\"]\n",
    ")\n",
    "\n",
    "# === Retriever Setup ===\n",
    "base_retriever = vector_store.as_retriever(search_kwargs={\"k\": 5})\n",
    "\n",
    "# Perplexity LLM\n",
    "perplexity_llm = ChatPerplexity(\n",
    "    model=\"sonar\",\n",
    "    pplx_api_key=\"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\",\n",
    "    temperature=0.2\n",
    ")\n",
    "\n",
    "# Compression retriever\n",
    "compressor = LLMChainExtractor.from_llm(perplexity_llm)\n",
    "compression_retriever = ContextualCompressionRetriever(\n",
    "    base_compressor=compressor,\n",
    "    base_retriever=base_retriever\n",
    ")\n",
    "\n",
    "# === QA Chain ===\n",
    "qa_chain = RetrievalQA.from_chain_type(\n",
    "    llm=perplexity_llm,\n",
    "    chain_type=\"stuff\",\n",
    "    retriever=compression_retriever,\n",
    "    chain_type_kwargs={\"prompt\": PROMPT},\n",
    "    return_source_documents=True\n",
    ")\n",
    "\n",
    "# === Process QA + Save to CSV ===\n",
    "\n"
   ]
  },
  {
   "cell_type": "code",
   "execution_count": 3,
   "id": "5e9f5dae",
   "metadata": {},
   "outputs": [],
   "source": [
    "import json\n",
    "import os\n",
    "import csv\n",
    "\n",
    "def process_answer(query):\n",
    "    response = qa_chain({\"query\": query})\n",
    "    \n",
    "    # Handle case where result is a JSON-formatted string\n",
    "    try:\n",
    "        result = json.loads(response[\"result\"])\n",
    "        answer_text = result.get(\"answer\", response[\"result\"])\n",
    "    except (json.JSONDecodeError, TypeError):\n",
    "        # Fallback: use the raw string if not JSON\n",
    "        answer_text = response[\"result\"]\n",
    "\n",
    "    source_docs = response['source_documents']\n",
    "\n",
    "    sources_info = []\n",
    "    for doc in source_docs:\n",
    "        chunk_id = doc.metadata.get(\"chunk_id\", \"N/A\")\n",
    "        source = doc.metadata.get(\"source\", \"N/A\")\n",
    "        sources_info.append({\"chunk_id\": str(chunk_id), \"source\": source})\n",
    "\n",
    "    # Prepare data to log\n",
    "    top_k_chunks = [src[\"chunk_id\"] for src in sources_info if src[\"chunk_id\"] != \"N/A\"]\n",
    "    sources_list = [src[\"source\"] for src in sources_info if src[\"source\"] != \"N/A\"]\n",
    "\n",
    "    # Write to CSV\n",
    "    file_exists = os.path.isfile(LOG_FILE)\n",
    "    with open(LOG_FILE, mode='a', newline='', encoding='utf-8') as f:\n",
    "        writer = csv.DictWriter(f, fieldnames=[\"question\", \"answer\", \"sources\", \"top_k_chunks\"])\n",
    "        if not file_exists:\n",
    "            writer.writeheader()\n",
    "        writer.writerow({\n",
    "            \"question\": query,\n",
    "            \"answer\": answer_text,\n",
    "            \"sources\": \"; \".join(list(set(sources_list))),\n",
    "            \"top_k_chunks\": \"; \".join(list(set(top_k_chunks)))\n",
    "        })\n"
   ]
  },
  {
   "cell_type": "code",
   "execution_count": null,
   "id": "9f269bd1",
   "metadata": {},
   "outputs": [
    {
     "name": "stderr",
     "output_type": "stream",
     "text": [
      "C:\\Users\\Lan Dao\\AppData\\Local\\Temp\\ipykernel_29880\\14775218.py:6: LangChainDeprecationWarning: The method `Chain.__call__` was deprecated in langchain 0.1.0 and will be removed in 1.0. Use :meth:`~invoke` instead.\n",
      "  response = qa_chain({\"query\": query})\n"
     ]
    }
   ],
   "source": [
    "import pandas as pd\n",
    "questions= pd.read_csv(\"session_1/questions.csv\")\n",
    "\n",
    "for index, row in questions.iterrows():\n",
    "    question = row['question']\n",
    "    process_answer(question) "
   ]
  },
  {
   "cell_type": "code",
   "execution_count": 5,
   "id": "fd0df12b",
   "metadata": {},
   "outputs": [],
   "source": [
    "df = pd.read_csv(\"qa_log_2.csv\")"
   ]
  },
  {
   "cell_type": "code",
   "execution_count": 6,
   "id": "05922e65",
   "metadata": {},
   "outputs": [
    {
     "data": {
      "text/html": [
       "<div>\n",
       "<style scoped>\n",
       "    .dataframe tbody tr th:only-of-type {\n",
       "        vertical-align: middle;\n",
       "    }\n",
       "\n",
       "    .dataframe tbody tr th {\n",
       "        vertical-align: top;\n",
       "    }\n",
       "\n",
       "    .dataframe thead th {\n",
       "        text-align: right;\n",
       "    }\n",
       "</style>\n",
       "<table border=\"1\" class=\"dataframe\">\n",
       "  <thead>\n",
       "    <tr style=\"text-align: right;\">\n",
       "      <th></th>\n",
       "      <th>question</th>\n",
       "      <th>answer</th>\n",
       "      <th>sources</th>\n",
       "      <th>top_k_chunks</th>\n",
       "    </tr>\n",
       "  </thead>\n",
       "  <tbody>\n",
       "    <tr>\n",
       "      <th>0</th>\n",
       "      <td>How could challenges in hiring, retaining, and...</td>\n",
       "      <td>Challenges in hiring, retaining, and managing ...</td>\n",
       "      <td>2024-nvidia-annual-report-10K.pdf; 2024-amazon...</td>\n",
       "      <td>23; 651</td>\n",
       "    </tr>\n",
       "    <tr>\n",
       "      <th>1</th>\n",
       "      <td>What was the total lease liability for Apple I...</td>\n",
       "      <td>I don't know based on the provided document. H...</td>\n",
       "      <td>2024-apple-annual-report-10K.pdf</td>\n",
       "      <td>125; 123</td>\n",
       "    </tr>\n",
       "    <tr>\n",
       "      <th>2</th>\n",
       "      <td>What are the key competitive challenges Cisco ...</td>\n",
       "      <td>Based on the provided search results, Cisco fa...</td>\n",
       "      <td>2024-cisco-full-annual-report.pdf</td>\n",
       "      <td>218; 214; 216</td>\n",
       "    </tr>\n",
       "    <tr>\n",
       "      <th>3</th>\n",
       "      <td>Based on the Alphabet Inc. fiscal year ended D...</td>\n",
       "      <td>For Alphabet Inc., the basic and diluted net i...</td>\n",
       "      <td>2024-google-annual-report-10K.pdf</td>\n",
       "      <td>426; 396; 372</td>\n",
       "    </tr>\n",
       "    <tr>\n",
       "      <th>4</th>\n",
       "      <td>What were the key financial results reported b...</td>\n",
       "      <td>Based strictly on the provided context, here i...</td>\n",
       "      <td>2024-meta-full-annual-report.pdf</td>\n",
       "      <td>449; 448; 442</td>\n",
       "    </tr>\n",
       "    <tr>\n",
       "      <th>5</th>\n",
       "      <td>What operational and strategic challenges did ...</td>\n",
       "      <td>Netflix, Inc. identified several operational a...</td>\n",
       "      <td>2024-netflix-annual-report-10K.pdf</td>\n",
       "      <td>492; 495; 472</td>\n",
       "    </tr>\n",
       "    <tr>\n",
       "      <th>6</th>\n",
       "      <td>Question:  \\nWhere, as required by law, does N...</td>\n",
       "      <td>I don't know based on the provided document wh...</td>\n",
       "      <td>2024-nvidia-annual-report-10K.pdf</td>\n",
       "      <td>682; 627</td>\n",
       "    </tr>\n",
       "    <tr>\n",
       "      <th>7</th>\n",
       "      <td>What highlights or key financial metrics are i...</td>\n",
       "      <td>Based on the provided context, specific key fi...</td>\n",
       "      <td>2024-oracle-annual-report-10K.pdf</td>\n",
       "      <td>717; 837; 835</td>\n",
       "    </tr>\n",
       "    <tr>\n",
       "      <th>8</th>\n",
       "      <td>How does Reddit, Inc. plan to manage the poten...</td>\n",
       "      <td>I don't know based on the provided document.\\n...</td>\n",
       "      <td>2024-reddit-annual-report-10K.pdf</td>\n",
       "      <td>981; 984; 929</td>\n",
       "    </tr>\n",
       "    <tr>\n",
       "      <th>9</th>\n",
       "      <td>Which Tesla, Inc. executives signed the compan...</td>\n",
       "      <td>The executives who signed Tesla, Inc.'s annual...</td>\n",
       "      <td>2024-tsla-annual-report-10K.pdf</td>\n",
       "      <td>1091; 1019; 1172</td>\n",
       "    </tr>\n",
       "  </tbody>\n",
       "</table>\n",
       "</div>"
      ],
      "text/plain": [
       "                                            question  \\\n",
       "0  How could challenges in hiring, retaining, and...   \n",
       "1  What was the total lease liability for Apple I...   \n",
       "2  What are the key competitive challenges Cisco ...   \n",
       "3  Based on the Alphabet Inc. fiscal year ended D...   \n",
       "4  What were the key financial results reported b...   \n",
       "5  What operational and strategic challenges did ...   \n",
       "6  Question:  \\nWhere, as required by law, does N...   \n",
       "7  What highlights or key financial metrics are i...   \n",
       "8  How does Reddit, Inc. plan to manage the poten...   \n",
       "9  Which Tesla, Inc. executives signed the compan...   \n",
       "\n",
       "                                              answer  \\\n",
       "0  Challenges in hiring, retaining, and managing ...   \n",
       "1  I don't know based on the provided document. H...   \n",
       "2  Based on the provided search results, Cisco fa...   \n",
       "3  For Alphabet Inc., the basic and diluted net i...   \n",
       "4  Based strictly on the provided context, here i...   \n",
       "5  Netflix, Inc. identified several operational a...   \n",
       "6  I don't know based on the provided document wh...   \n",
       "7  Based on the provided context, specific key fi...   \n",
       "8  I don't know based on the provided document.\\n...   \n",
       "9  The executives who signed Tesla, Inc.'s annual...   \n",
       "\n",
       "                                             sources      top_k_chunks  \n",
       "0  2024-nvidia-annual-report-10K.pdf; 2024-amazon...           23; 651  \n",
       "1                   2024-apple-annual-report-10K.pdf          125; 123  \n",
       "2                  2024-cisco-full-annual-report.pdf     218; 214; 216  \n",
       "3                  2024-google-annual-report-10K.pdf     426; 396; 372  \n",
       "4                   2024-meta-full-annual-report.pdf     449; 448; 442  \n",
       "5                 2024-netflix-annual-report-10K.pdf     492; 495; 472  \n",
       "6                  2024-nvidia-annual-report-10K.pdf          682; 627  \n",
       "7                  2024-oracle-annual-report-10K.pdf     717; 837; 835  \n",
       "8                  2024-reddit-annual-report-10K.pdf     981; 984; 929  \n",
       "9                    2024-tsla-annual-report-10K.pdf  1091; 1019; 1172  "
      ]
     },
     "execution_count": 6,
     "metadata": {},
     "output_type": "execute_result"
    }
   ],
   "source": [
    "df.head(10)"
   ]
  },
  {
   "cell_type": "code",
   "execution_count": 7,
   "id": "2050331a",
   "metadata": {},
   "outputs": [],
   "source": [
    "from openai import OpenAI\n",
    "import json, random, re\n",
    "\n",
    "API_KEY = \"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\"    \n",
    "#INITIALIZATION\n",
    "client = OpenAI(api_key=API_KEY, base_url=\"https://api.perplexity.ai\")"
   ]
  },
  {
   "cell_type": "code",
   "execution_count": 8,
   "id": "92153652",
   "metadata": {},
   "outputs": [],
   "source": [
    "prompt = \"\"\"\n",
    "    You are a financial data Q&A evaluator.\n",
    "\n",
    "    You are given:\n",
    "    - A **question** generated from a document chunk.\n",
    "    - The **document chunk** (ground truth source).\n",
    "    - A **model-generated answer** to the question.\n",
    "\n",
    "    Your job is to score the model’s answer by carefully comparing it to the document chunk.\n",
    "\n",
    "    Use the following rubric for each category:\n",
    "\n",
    "    ---\n",
    "    **Factual Correctness**\n",
    "    - 5 = All facts are fully correct and consistent with the chunk.\n",
    "    - 4 = Minor factual inaccuracies but mostly correct.\n",
    "    - 3 = Some factual inaccuracies, partly correct.\n",
    "    - 2 = Major factual mistakes, mostly incorrect.\n",
    "    - 1 = Completely factually wrong.\n",
    "\n",
    "    ---\n",
    "    **Completeness**\n",
    "    - 5 = Fully answers the question with all key details.\n",
    "    - 4 = Mostly complete, missing minor details.\n",
    "    - 3 = Partially complete, missing important parts.\n",
    "    - 2 = Mostly incomplete, only touches on part of the question.\n",
    "    - 1 = Completely incomplete.\n",
    "\n",
    "    ---\n",
    "    3**Clarity**\n",
    "    - 5 = Clear, precise, and easy to understand.\n",
    "    - 4 = Mostly clear, with minor awkwardness.\n",
    "    - 3 = Understandable but somewhat confusing or vague.\n",
    "    - 2 = Hard to understand or poorly phrased.\n",
    "    - 1 = Completely unclear or nonsensical.\n",
    "\n",
    "    ---\n",
    "    **Response Format**\n",
    "    Return ONLY this JSON (no extra explanation):\n",
    "    {\n",
    "        \"factual_correctness_score\": [1-5],\n",
    "        \"completeness_score\": [1-5],\n",
    "        \"clarity_score\": [1-5],\n",
    "        \"comments\": \"A brief explanation (1-2 sentences) why you assigned these scores.\"\n",
    "    }\n",
    "\"\"\"\n",
    "\n",
    "\n",
    "def evaluate_answer(question, chunk, answer):\n",
    "    response = client.chat.completions.create(\n",
    "        model=\"sonar\",\n",
    "        messages=[\n",
    "            {\"role\": \"system\", \"content\": prompt},\n",
    "            {\n",
    "                \"role\": \"user\",\n",
    "                \"content\": f\"\"\"\n",
    "                Please evaluate the following answer based on the provided question and document chunk. \n",
    "                Return ONLY a valid JSON object.\n",
    "\n",
    "                Question: {question}\n",
    "\n",
    "                Document Chunk: {chunk}\n",
    "\n",
    "                Model Answer: {answer}\n",
    "                \"\"\"\n",
    "            }\n",
    "        ],\n",
    "    )\n",
    "\n",
    "    response_content = response.choices[0].message.content.strip()\n",
    "    print(\"LLM Raw Output:\", response_content)\n",
    "\n",
    "    # Remove duplicate keys by keeping only the last occurrence\n",
    "    cleaned_content = re.sub(\n",
    "        r'(,\\s*\")(\\w+_score)\":\\s*\\d,\\s*\"\\2\":\\s*\\d',\n",
    "        lambda m: f',{m.group(2)}\": {m.group(0).split(\":\")[-1]}',\n",
    "        response_content\n",
    "    )\n",
    "\n",
    "    result = json.loads(cleaned_content)\n",
    "    return result\n"
   ]
  },
  {
   "cell_type": "code",
   "execution_count": 9,
   "id": "78fbea30",
   "metadata": {},
   "outputs": [
    {
     "name": "stdout",
     "output_type": "stream",
     "text": [
      "LLM Raw Output: ```json\n",
      "{\n",
      "    \"factual_correctness_score\": 4,\n",
      "    \"completeness_score\": 4,\n",
      "    \"clarity_score\": 5,\n",
      "    \"comments\": \"The model’s answer is mostly factually correct and provides a comprehensive overview of the challenges. However, it lacks specific details from the document chunk, such as automation and return-to-office mandates affecting Amazon. The answer is clear and well-structured.\"\n",
      "}\n",
      "```\n",
      "Retrying for question: How could challenges in hiring, retaining, and managing qualified personnel, as well as risks related to supplier relationships and commercial agreements, negatively impact Amazon’s business operations and results in 2024? due to error: Expecting value: line 1 column 1 (char 0)\n",
      "LLM Raw Output: {\n",
      "  \"factual_correctness_score\": 5,\n",
      "  \"completeness_score\": 5,\n",
      "  \"clarity_score\": 5,\n",
      "  \"comments\": \"The answer thoroughly covers how challenges in personnel management and supplier/commercial risks could negatively impact Amazon's 2024 operations, fully reflecting the detailed risks and impacts outlined in the source document chunk 23 and 651. It clearly explains operational, financial, and strategic consequences without notable errors or omissions.\"\n",
      "}\n",
      "LLM Raw Output: ```json\n",
      "{\n",
      "    \"factual_correctness_score\": 3,\n",
      "    \"completeness_score\": 2,\n",
      "    \"clarity_score\": 5,\n",
      "    \"comments\": \"The model's answer lacks specific details about the total lease liability as of September 30, 2023, but it provides some context about the lease payments as of September 28, 2024. The clarity is high due to the well-structured explanation.\"\n",
      "}\n",
      "```\n",
      "Retrying for question: What was the total lease liability for Apple Inc. as of September 28, 2024, and how did it compare to the total lease liability as of September 30, 2023? due to error: Expecting value: line 1 column 1 (char 0)\n",
      "LLM Raw Output: ```json\n",
      "{\n",
      "    \"factual_correctness_score\": 3,\n",
      "    \"completeness_score\": 2,\n",
      "    \"clarity_score\": 4,\n",
      "    \"comments\": \"The answer lacks specific factual details about Apple Inc.'s lease liability as of September 30, 2023, and September 28, 2024, relying on related context rather than direct data. However, it is clear and partially correct in stating the lack of specific information.\"\n",
      "}\n",
      "```\n",
      "Retrying for question: What was the total lease liability for Apple Inc. as of September 28, 2024, and how did it compare to the total lease liability as of September 30, 2023? due to error: Expecting value: line 1 column 1 (char 0)\n",
      "LLM Raw Output: {\n",
      "    \"factual_correctness_score\": 3,\n",
      "    \"completeness_score\": 3,\n",
      "    \"clarity_score\": 4,\n",
      "    \"comments\": \"The answer incorrectly states the $15.8 billion as of the wrong date and is unclear on the source of its figures; it also does not provide a comparison, but the context about uncertainty is clear.\"\n",
      "}\n",
      "LLM Raw Output: ```json\n",
      "{\n",
      "    \"factual_correctness_score\": 4,\n",
      "    \"completeness_score\": 3,\n",
      "    \"clarity_score\": 5,\n",
      "    \"comments\": \"The model's answer is mostly factually correct, but it lacks specific details about how these factors impacted Cisco's revenue growth and competitive positioning in 2024. The answer is clear and easy to understand.\"\n",
      "}\n",
      "```\n",
      "Retrying for question: What are the key competitive challenges Cisco faced in 2024 due to market dynamics, changes in technology, and new entrants, and how did these factors impact its revenue growth and competitive positioning? due to error: Expecting value: line 1 column 1 (char 0)\n",
      "LLM Raw Output: {\n",
      "    \"factual_correctness_score\": 5,\n",
      "    \"completeness_score\": 4,\n",
      "    \"clarity_score\": 5,\n",
      "    \"comments\": \"The answer accurately summarizes key competitive challenges from the document chunk, but could have more explicitly detailed the impact on revenue and positioning.\"\n",
      "}\n",
      "LLM Raw Output: ```json\n",
      "{\n",
      "    \"factual_correctness_score\": 4,\n",
      "    \"completeness_score\": 5,\n",
      "    \"clarity_score\": 5,\n",
      "    \"comments\": \"The model answer is mostly factually correct and comprehensive, providing detailed EPS figures for both years. However, it introduces a minor error in the diluted EPS for Class C in 2024, which is not present in the provided data.\"\n",
      "}\n",
      "```\n",
      "Retrying for question: Based on the Alphabet Inc. fiscal year ended December 31, 2024, what were the basic and diluted net income per share amounts for Class A, Class B, and Class C shares, and how did these compare to the previous year ended December 31, 2023? due to error: Expecting value: line 1 column 1 (char 0)\n",
      "LLM Raw Output: {\n",
      "    \"factual_correctness_score\": 1,\n",
      "    \"completeness_score\": 2,\n",
      "    \"clarity_score\": 4,\n",
      "    \"comments\": \"The answer contains completely incorrect EPS values and does not reflect the actual EPS figures from Alphabet's 2023 and 2024 financials; also, the document chunk does not support the breakdown by share class for basic and diluted EPS.\"\n",
      "}\n",
      "LLM Raw Output: ```json\n",
      "{\n",
      "    \"factual_correctness_score\": 2,\n",
      "    \"completeness_score\": 2,\n",
      "    \"clarity_score\": 4,\n",
      "    \"comments\": \"The answer contains some factual inaccuracies and lacks key details from the document chunk, such as specific revenue figures and year-over-year growth percentages. However, it is mostly clear and well-structured.\"\n",
      "}\n",
      "```\n",
      "Retrying for question: What were the key financial results reported by Meta Platforms, Inc. for the fourth quarter and full year ended December 31, 2024, including revenue, advertising revenue, cash flows, and year-over-year growth percentages? due to error: Expecting value: line 1 column 1 (char 0)\n",
      "LLM Raw Output: {\n",
      "    \"factual_correctness_score\": 5,\n",
      "    \"completeness_score\": 4,\n",
      "    \"clarity_score\": 5,\n",
      "    \"comments\": \"The answer is factually correct regarding net income, cash flows, and cash balances, but incomplete for explicit revenue and ad revenue details, which are not provided in the document chunk—though this is clearly noted.\"\n",
      "}\n",
      "LLM Raw Output: ```json\n",
      "{\n",
      "    \"factual_correctness_score\": 4,\n",
      "    \"completeness_score\": 3,\n",
      "    \"clarity_score\": 5,\n",
      "    \"comments\": \"The model's answer provides mostly correct information about Netflix's challenges but lacks specific details from the 2024 fiscal report. It is clear and concise but misses some specific operational challenges mentioned in the report.\"\n",
      "}\n",
      "```\n",
      "Retrying for question: What operational and strategic challenges did Netflix, Inc. identify in its 2024 fiscal year report as it expanded its streaming service, introduced new features like games and advertising, and scaled its content production and international offerings? due to error: Expecting value: line 1 column 1 (char 0)\n",
      "LLM Raw Output: {\n",
      "  \"factual_correctness_score\": 5,\n",
      "  \"completeness_score\": 5,\n",
      "  \"clarity_score\": 5,\n",
      "  \"comments\": \"The answer accurately captures Netflix's operational and strategic challenges as detailed in the 2024 fiscal year context, including content costs, cybersecurity, international complexities, currency fluctuations, economic factors, and balancing investment with profitability. It synthesizes information from multiple sources cohesively and clearly, fully addressing the question with precise details supported by the document chunk.\"\n",
      "}\n",
      "LLM Raw Output: ```json\n",
      "{\n",
      "    \"factual_correctness_score\": 4,\n",
      "    \"completeness_score\": 3,\n",
      "    \"clarity_score\": 5,\n",
      "    \"comments\": \"The model's answer is mostly factually correct but lacks specific details about NVIDIA's lobbying disclosure filings as required by the document chunk. It is clear and well-structured, however.\"\n",
      "}\n",
      "```\n",
      "Retrying for question: Question:  \n",
      "Where, as required by law, does NVIDIA Corporation file lobbying disclosure reports in 2024, and where can information about its public policy and lobbying activities be found? due to error: Expecting value: line 1 column 1 (char 0)\n",
      "LLM Raw Output: ```json\n",
      "{\n",
      "    \"factual_correctness_score\": 4,\n",
      "    \"completeness_score\": 3,\n",
      "    \"clarity_score\": 5,\n",
      "    \"comments\": \"The answer is mostly factually correct in terms of general practices for filing lobbying reports, but it lacks specific details about NVIDIA's 2024 filings and their public policy activities. It is clear and well-structured, yet incomplete in addressing the specific question about NVIDIA.\"\n",
      "}\n",
      "```\n",
      "Retrying for question: Question:  \n",
      "Where, as required by law, does NVIDIA Corporation file lobbying disclosure reports in 2024, and where can information about its public policy and lobbying activities be found? due to error: Expecting value: line 1 column 1 (char 0)\n",
      "LLM Raw Output: {\n",
      "    \"factual_correctness_score\": 4,\n",
      "    \"completeness_score\": 4,\n",
      "    \"clarity_score\": 5,\n",
      "    \"comments\": \"The answer is factually correct except for not referencing OpenSecrets as a primary source for NVIDIA's lobbying info, which is clearly cited in the sources. It is mostly complete but could specify OpenSecrets directly. Clarity is excellent.\"\n",
      "} \n",
      "\n",
      "*(Note: Even though \"Document Chunk: 682; 627\" was referenced in the question, since its actual content was not provided, I evaluated based on the available documents in the results. If 682; 627 contains specific requirements or sources not in the provided documents, the scoring may vary. Given the open answer and instruction for JSON only, I followed these instructions.)*  \n",
      "Since only JSON is required, here is the valid JSON output:\n",
      "\n",
      "```json\n",
      "{\n",
      "    \"factual_correctness_score\": 4,\n",
      "    \"completeness_score\": 4,\n",
      "    \"clarity_score\": 5,\n",
      "    \"comments\": \"The answer is mostly correct and clear, but could specifically reference OpenSecrets for NVIDIA's lobbying information as shown in the sources.\"\n",
      "}\n",
      "```\n",
      "Retrying for question: Question:  \n",
      "Where, as required by law, does NVIDIA Corporation file lobbying disclosure reports in 2024, and where can information about its public policy and lobbying activities be found? due to error: Extra data: line 8 column 1 (char 355)\n",
      "LLM Raw Output: ```json\n",
      "{\n",
      "    \"factual_correctness_score\": 5,\n",
      "    \"completeness_score\": 3,\n",
      "    \"clarity_score\": 5,\n",
      "    \"comments\": \"The model's answer is factually correct and clear. However, it lacks completeness as it does not specify where NVIDIA Corporation files its lobbying disclosure reports according to the provided document chunk.\"\n",
      "}\n",
      "```\n",
      "Retrying for question: Question:  \n",
      "Where, as required by law, does NVIDIA Corporation file lobbying disclosure reports in 2024, and where can information about its public policy and lobbying activities be found? due to error: Expecting value: line 1 column 1 (char 0)\n",
      "LLM Raw Output: {\n",
      "  \"factual_correctness_score\": 4,\n",
      "  \"completeness_score\": 3,\n",
      "  \"clarity_score\": 5,\n",
      "  \"comments\": \"The answer correctly states that the document chunk does not explicitly identify where NVIDIA files its 2024 lobbying disclosure reports, but it accurately references the general legal requirement to file with applicable governments and notes typical venues like the Senate Office of Public Records and the House Clerk. The answer also appropriately mentions that information about lobbying can be found via Lobbying Disclosure Act filings or websites like OpenSecrets. However, it lacks specific mention that the NVIDIA 2024 Annual Report states they file where required by law, and it does not cite the exact sources where NVIDIA's lobbying activities are disclosed for 2024, which are partially available in the chunk references. Overall, the response is clear and mostly correct but could be more complete by referencing the specific 2024 Annual Report and OpenSecrets details noted in the chunk.\"\n",
      "}\n",
      "LLM Raw Output: ```json\n",
      "{\n",
      "    \"factual_correctness_score\": 3,\n",
      "    \"completeness_score\": 3,\n",
      "    \"clarity_score\": 5,\n",
      "    \"comments\": \"The model answer provides some relevant financial metrics but lacks specific details from Oracle's fiscal year 2024 Form 10-K report. It is clear and well-structured but does not fully address the question due to missing key financial metrics.\"\n",
      "}\n",
      "```\n",
      "Retrying for question: What highlights or key financial metrics are included in Oracle Corporation's fiscal year 2024 Form 10-K report? due to error: Expecting value: line 1 column 1 (char 0)\n",
      "LLM Raw Output: ```json\n",
      "{\n",
      "    \"factual_correctness_score\": 3,\n",
      "    \"completeness_score\": 3,\n",
      "    \"clarity_score\": 5,\n",
      "    \"comments\": \"The model answer provides some general financial information but lacks specific details from Oracle's fiscal year 2024 Form 10-K report. It also references external data not present in the document chunk, which reduces factual correctness and completeness.\"\n",
      "}\n",
      "```\n",
      "Retrying for question: What highlights or key financial metrics are included in Oracle Corporation's fiscal year 2024 Form 10-K report? due to error: Expecting value: line 1 column 1 (char 0)\n",
      "LLM Raw Output: ```json\n",
      "{\n",
      "    \"factual_correctness_score\": 3,\n",
      "    \"completeness_score\": 2,\n",
      "    \"clarity_score\": 4,\n",
      "    \"comments\": \"The model's answer is somewhat factually correct but lacks specific details from the actual Form 10-K report. It provides general financial information and suggests consulting the full report for detailed metrics. The clarity is mostly good, but the response could be more comprehensive.\"\n",
      "}\n",
      "```\n",
      "Retrying for question: What highlights or key financial metrics are included in Oracle Corporation's fiscal year 2024 Form 10-K report? due to error: Expecting value: line 1 column 1 (char 0)\n",
      "LLM Raw Output: {\n",
      "    \"factual_correctness_score\": 2,\n",
      "    \"completeness_score\": 3,\n",
      "    \"clarity_score\": 5,\n",
      "    \"comments\": \"The answer lists specific financial metrics but these are not supported by the provided document chunk, which does not detail Oracle's fiscal year 2024 cash flows or net income. Some metrics cited are plausible but not verifiable from the given context. Clarity is high.\"\n",
      "}\n",
      "LLM Raw Output: ```json\n",
      "{\n",
      "    \"factual_correctness_score\": 3,\n",
      "    \"completeness_score\": 2,\n",
      "    \"clarity_score\": 5,\n",
      "    \"comments\": \"The model's answer is partly factually correct but lacks completeness regarding the specific question about managing user decline due to third-party app reductions. It provides clarity with additional general information.\"\n",
      "}\n",
      "```\n",
      "Retrying for question: How does Reddit, Inc. plan to manage the potential decline in users due to a reduction in third-party applications during the fiscal year ended December 31, 2024? due to error: Expecting value: line 1 column 1 (char 0)\n",
      "LLM Raw Output: ```json\n",
      "{\n",
      "    \"factual_correctness_score\": 1,\n",
      "    \"completeness_score\": 1,\n",
      "    \"clarity_score\": 5,\n",
      "    \"comments\": \"The model answer does not provide any information from the document chunk about Reddit's plan to manage user decline due to third-party app reductions. It relies on external information not present in the document, which is not relevant to the specific question about the document's content.\"\n",
      "}\n",
      "```\n",
      "Retrying for question: How does Reddit, Inc. plan to manage the potential decline in users due to a reduction in third-party applications during the fiscal year ended December 31, 2024? due to error: Expecting value: line 1 column 1 (char 0)\n",
      "LLM Raw Output: ```json\n",
      "{\n",
      "    \"factual_correctness_score\": 3,\n",
      "    \"completeness_score\": 3,\n",
      "    \"clarity_score\": 5,\n",
      "    \"comments\": \"The model's answer lacks specific details from the document chunk but provides clear external context. It does not fully address the question based on the provided documents, which results in a lower completeness score.\"\n",
      "}\n",
      "```\n",
      "Retrying for question: How does Reddit, Inc. plan to manage the potential decline in users due to a reduction in third-party applications during the fiscal year ended December 31, 2024? due to error: Expecting value: line 1 column 1 (char 0)\n",
      "LLM Raw Output: {\n",
      "  \"factual_correctness_score\": 1,\n",
      "  \"completeness_score\": 1,\n",
      "  \"clarity_score\": 5,\n",
      "  \"comments\": \"The model answer states it does not know based on the provided document and then provides information not supported by the given document chunk or the search results. The document chunk (981; 984; 929) and the cited financial reports do not contain any mention of Reddit's plans to manage potential user decline related to the reduction in third-party apps, making the answer factually incorrect and incomplete. However, the answer is clearly phrased.\"\n",
      "}\n",
      "LLM Raw Output: ```json\n",
      "{\n",
      "    \"factual_correctness_score\": 4,\n",
      "    \"completeness_score\": 4,\n",
      "    \"clarity_score\": 5,\n",
      "    \"comments\": \"The model answer is mostly correct, listing Elon Musk, Vaibhav Taneja, Robyn Denholm, and Ira Ehrenpreis as signers, but it includes additional directors not mentioned in the provided document chunk. The answer is clear and well-structured, but lacks full completeness in terms of the specific request for the document chunk.\"\n",
      "}\n",
      "```\n",
      "Retrying for question: Which Tesla, Inc. executives signed the company's annual report for the fiscal year ended December 31, 2024, and what were their titles at the time?[1] due to error: Expecting value: line 1 column 1 (char 0)\n",
      "LLM Raw Output: {\n",
      "    \"factual_correctness_score\": 3,\n",
      "    \"completeness_score\": 2,\n",
      "    \"clarity_score\": 4,\n",
      "    \"comments\": \"The answer correctly lists signers and their titles for Musk, Taneja, Denholm, and Ehrenpreis, but incorrectly includes Gebbia, Murdoch, Kimbal Musk, Straubel, and Wilson-Thompson—who are not listed as signers in the chunk. Clarity is good, but completeness suffers from the extra, non-signing directors.\"\n",
      "}\n",
      "Saved final results to final.csv\n"
     ]
    }
   ],
   "source": [
    "import pandas as pd\n",
    "\n",
    "# Prepare a list to collect all processed rows\n",
    "final_rows = []\n",
    "\n",
    "for _, row in df.iterrows():\n",
    "    question = row['question']\n",
    "    top_k_chunk = row['top_k_chunks']\n",
    "    answer = row['answer']\n",
    "\n",
    "    success = False\n",
    "    while not success:\n",
    "        try:\n",
    "            evaluation = evaluate_answer(question, top_k_chunk, answer)\n",
    "            success = True  # Break loop if successful\n",
    "        except Exception as e:\n",
    "            print(f\"Retrying for question: {question} due to error: {e}\")\n",
    "\n",
    "    # Build a combined result dictionary\n",
    "    result_row = {\n",
    "        'question': question,\n",
    "        'top_k_chunk': top_k_chunk,\n",
    "        'answer': answer\n",
    "    }\n",
    "    # Add evaluation results\n",
    "    for key, value in evaluation.items():\n",
    "        result_row[f'evaluation_{key}'] = value\n",
    "\n",
    "    final_rows.append(result_row)\n",
    "\n",
    "# Convert list of results to DataFrame\n",
    "final_df = pd.DataFrame(final_rows)\n",
    "\n",
    "# Save to CSV\n",
    "final_df.to_csv('final.csv', index=False)\n",
    "print(\"Saved final results to final.csv\")\n"
   ]
  },
  {
   "cell_type": "code",
   "execution_count": 10,
   "id": "16146022",
   "metadata": {},
   "outputs": [
    {
     "data": {
      "text/html": [
       "<div>\n",
       "<style scoped>\n",
       "    .dataframe tbody tr th:only-of-type {\n",
       "        vertical-align: middle;\n",
       "    }\n",
       "\n",
       "    .dataframe tbody tr th {\n",
       "        vertical-align: top;\n",
       "    }\n",
       "\n",
       "    .dataframe thead th {\n",
       "        text-align: right;\n",
       "    }\n",
       "</style>\n",
       "<table border=\"1\" class=\"dataframe\">\n",
       "  <thead>\n",
       "    <tr style=\"text-align: right;\">\n",
       "      <th></th>\n",
       "      <th>question</th>\n",
       "      <th>top_k_chunk</th>\n",
       "      <th>answer</th>\n",
       "      <th>evaluation_factual_correctness_score</th>\n",
       "      <th>evaluation_completeness_score</th>\n",
       "      <th>evaluation_clarity_score</th>\n",
       "      <th>evaluation_comments</th>\n",
       "    </tr>\n",
       "  </thead>\n",
       "  <tbody>\n",
       "    <tr>\n",
       "      <th>0</th>\n",
       "      <td>How could challenges in hiring, retaining, and...</td>\n",
       "      <td>23; 651</td>\n",
       "      <td>Challenges in hiring, retaining, and managing ...</td>\n",
       "      <td>5</td>\n",
       "      <td>5</td>\n",
       "      <td>5</td>\n",
       "      <td>The answer thoroughly covers how challenges in...</td>\n",
       "    </tr>\n",
       "    <tr>\n",
       "      <th>1</th>\n",
       "      <td>What was the total lease liability for Apple I...</td>\n",
       "      <td>125; 123</td>\n",
       "      <td>I don't know based on the provided document. H...</td>\n",
       "      <td>3</td>\n",
       "      <td>3</td>\n",
       "      <td>4</td>\n",
       "      <td>The answer incorrectly states the $15.8 billio...</td>\n",
       "    </tr>\n",
       "    <tr>\n",
       "      <th>2</th>\n",
       "      <td>What are the key competitive challenges Cisco ...</td>\n",
       "      <td>218; 214; 216</td>\n",
       "      <td>Based on the provided search results, Cisco fa...</td>\n",
       "      <td>5</td>\n",
       "      <td>4</td>\n",
       "      <td>5</td>\n",
       "      <td>The answer accurately summarizes key competiti...</td>\n",
       "    </tr>\n",
       "    <tr>\n",
       "      <th>3</th>\n",
       "      <td>Based on the Alphabet Inc. fiscal year ended D...</td>\n",
       "      <td>426; 396; 372</td>\n",
       "      <td>For Alphabet Inc., the basic and diluted net i...</td>\n",
       "      <td>1</td>\n",
       "      <td>2</td>\n",
       "      <td>4</td>\n",
       "      <td>The answer contains completely incorrect EPS v...</td>\n",
       "    </tr>\n",
       "    <tr>\n",
       "      <th>4</th>\n",
       "      <td>What were the key financial results reported b...</td>\n",
       "      <td>449; 448; 442</td>\n",
       "      <td>Based strictly on the provided context, here i...</td>\n",
       "      <td>5</td>\n",
       "      <td>4</td>\n",
       "      <td>5</td>\n",
       "      <td>The answer is factually correct regarding net ...</td>\n",
       "    </tr>\n",
       "    <tr>\n",
       "      <th>5</th>\n",
       "      <td>What operational and strategic challenges did ...</td>\n",
       "      <td>492; 495; 472</td>\n",
       "      <td>Netflix, Inc. identified several operational a...</td>\n",
       "      <td>5</td>\n",
       "      <td>5</td>\n",
       "      <td>5</td>\n",
       "      <td>The answer accurately captures Netflix's opera...</td>\n",
       "    </tr>\n",
       "    <tr>\n",
       "      <th>6</th>\n",
       "      <td>Question:  \\nWhere, as required by law, does N...</td>\n",
       "      <td>682; 627</td>\n",
       "      <td>I don't know based on the provided document wh...</td>\n",
       "      <td>4</td>\n",
       "      <td>3</td>\n",
       "      <td>5</td>\n",
       "      <td>The answer correctly states that the document ...</td>\n",
       "    </tr>\n",
       "    <tr>\n",
       "      <th>7</th>\n",
       "      <td>What highlights or key financial metrics are i...</td>\n",
       "      <td>717; 837; 835</td>\n",
       "      <td>Based on the provided context, specific key fi...</td>\n",
       "      <td>2</td>\n",
       "      <td>3</td>\n",
       "      <td>5</td>\n",
       "      <td>The answer lists specific financial metrics bu...</td>\n",
       "    </tr>\n",
       "    <tr>\n",
       "      <th>8</th>\n",
       "      <td>How does Reddit, Inc. plan to manage the poten...</td>\n",
       "      <td>981; 984; 929</td>\n",
       "      <td>I don't know based on the provided document.\\n...</td>\n",
       "      <td>1</td>\n",
       "      <td>1</td>\n",
       "      <td>5</td>\n",
       "      <td>The model answer states it does not know based...</td>\n",
       "    </tr>\n",
       "    <tr>\n",
       "      <th>9</th>\n",
       "      <td>Which Tesla, Inc. executives signed the compan...</td>\n",
       "      <td>1091; 1019; 1172</td>\n",
       "      <td>The executives who signed Tesla, Inc.'s annual...</td>\n",
       "      <td>3</td>\n",
       "      <td>2</td>\n",
       "      <td>4</td>\n",
       "      <td>The answer correctly lists signers and their t...</td>\n",
       "    </tr>\n",
       "  </tbody>\n",
       "</table>\n",
       "</div>"
      ],
      "text/plain": [
       "                                            question       top_k_chunk  \\\n",
       "0  How could challenges in hiring, retaining, and...           23; 651   \n",
       "1  What was the total lease liability for Apple I...          125; 123   \n",
       "2  What are the key competitive challenges Cisco ...     218; 214; 216   \n",
       "3  Based on the Alphabet Inc. fiscal year ended D...     426; 396; 372   \n",
       "4  What were the key financial results reported b...     449; 448; 442   \n",
       "5  What operational and strategic challenges did ...     492; 495; 472   \n",
       "6  Question:  \\nWhere, as required by law, does N...          682; 627   \n",
       "7  What highlights or key financial metrics are i...     717; 837; 835   \n",
       "8  How does Reddit, Inc. plan to manage the poten...     981; 984; 929   \n",
       "9  Which Tesla, Inc. executives signed the compan...  1091; 1019; 1172   \n",
       "\n",
       "                                              answer  \\\n",
       "0  Challenges in hiring, retaining, and managing ...   \n",
       "1  I don't know based on the provided document. H...   \n",
       "2  Based on the provided search results, Cisco fa...   \n",
       "3  For Alphabet Inc., the basic and diluted net i...   \n",
       "4  Based strictly on the provided context, here i...   \n",
       "5  Netflix, Inc. identified several operational a...   \n",
       "6  I don't know based on the provided document wh...   \n",
       "7  Based on the provided context, specific key fi...   \n",
       "8  I don't know based on the provided document.\\n...   \n",
       "9  The executives who signed Tesla, Inc.'s annual...   \n",
       "\n",
       "   evaluation_factual_correctness_score  evaluation_completeness_score  \\\n",
       "0                                     5                              5   \n",
       "1                                     3                              3   \n",
       "2                                     5                              4   \n",
       "3                                     1                              2   \n",
       "4                                     5                              4   \n",
       "5                                     5                              5   \n",
       "6                                     4                              3   \n",
       "7                                     2                              3   \n",
       "8                                     1                              1   \n",
       "9                                     3                              2   \n",
       "\n",
       "   evaluation_clarity_score                                evaluation_comments  \n",
       "0                         5  The answer thoroughly covers how challenges in...  \n",
       "1                         4  The answer incorrectly states the $15.8 billio...  \n",
       "2                         5  The answer accurately summarizes key competiti...  \n",
       "3                         4  The answer contains completely incorrect EPS v...  \n",
       "4                         5  The answer is factually correct regarding net ...  \n",
       "5                         5  The answer accurately captures Netflix's opera...  \n",
       "6                         5  The answer correctly states that the document ...  \n",
       "7                         5  The answer lists specific financial metrics bu...  \n",
       "8                         5  The model answer states it does not know based...  \n",
       "9                         4  The answer correctly lists signers and their t...  "
      ]
     },
     "execution_count": 10,
     "metadata": {},
     "output_type": "execute_result"
    }
   ],
   "source": [
    "final_df = pd.read_csv(\"final.csv\")\n",
    "final_df"
   ]
  },
  {
   "cell_type": "code",
   "execution_count": 11,
   "id": "d8da294f",
   "metadata": {},
   "outputs": [
    {
     "data": {
      "application/vnd.plotly.v1+json": {
       "config": {
        "plotlyServerURL": "https://plot.ly"
       },
       "data": [
        {
         "alignmentgroup": "True",
         "boxpoints": "all",
         "customdata": [
          [
           "How could challenges in hiring, retaining, and managing qualified personnel, as well as risks related to supplier relationships and commercial agreements, negatively impact Amazon’s business operations and results in 2024?"
          ],
          [
           "What was the total lease liability for Apple Inc. as of September 28, 2024, and how did it compare to the total lease liability as of September 30, 2023?"
          ],
          [
           "What are the key competitive challenges Cisco faced in 2024 due to market dynamics, changes in technology, and new entrants, and how did these factors impact its revenue growth and competitive positioning?"
          ],
          [
           "Based on the Alphabet Inc. fiscal year ended December 31, 2024, what were the basic and diluted net income per share amounts for Class A, Class B, and Class C shares, and how did these compare to the previous year ended December 31, 2023?"
          ],
          [
           "What were the key financial results reported by Meta Platforms, Inc. for the fourth quarter and full year ended December 31, 2024, including revenue, advertising revenue, cash flows, and year-over-year growth percentages?"
          ],
          [
           "What operational and strategic challenges did Netflix, Inc. identify in its 2024 fiscal year report as it expanded its streaming service, introduced new features like games and advertising, and scaled its content production and international offerings?"
          ],
          [
           "Question:  \nWhere, as required by law, does NVIDIA Corporation file lobbying disclosure reports in 2024, and where can information about its public policy and lobbying activities be found?"
          ],
          [
           "What highlights or key financial metrics are included in Oracle Corporation's fiscal year 2024 Form 10-K report?"
          ],
          [
           "How does Reddit, Inc. plan to manage the potential decline in users due to a reduction in third-party applications during the fiscal year ended December 31, 2024?"
          ],
          [
           "Which Tesla, Inc. executives signed the company's annual report for the fiscal year ended December 31, 2024, and what were their titles at the time?[1]"
          ],
          [
           "How could challenges in hiring, retaining, and managing qualified personnel, as well as risks related to supplier relationships and commercial agreements, negatively impact Amazon’s business operations and results in 2024?"
          ],
          [
           "What was the total lease liability for Apple Inc. as of September 28, 2024, and how did it compare to the total lease liability as of September 30, 2023?"
          ],
          [
           "What are the key competitive challenges Cisco faced in 2024 due to market dynamics, changes in technology, and new entrants, and how did these factors impact its revenue growth and competitive positioning?"
          ],
          [
           "Based on the Alphabet Inc. fiscal year ended December 31, 2024, what were the basic and diluted net income per share amounts for Class A, Class B, and Class C shares, and how did these compare to the previous year ended December 31, 2023?"
          ],
          [
           "What were the key financial results reported by Meta Platforms, Inc. for the fourth quarter and full year ended December 31, 2024, including revenue, advertising revenue, cash flows, and year-over-year growth percentages?"
          ],
          [
           "What operational and strategic challenges did Netflix, Inc. identify in its 2024 fiscal year report as it expanded its streaming service, introduced new features like games and advertising, and scaled its content production and international offerings?"
          ],
          [
           "Question:  \nWhere, as required by law, does NVIDIA Corporation file lobbying disclosure reports in 2024, and where can information about its public policy and lobbying activities be found?"
          ],
          [
           "What highlights or key financial metrics are included in Oracle Corporation's fiscal year 2024 Form 10-K report?"
          ],
          [
           "How does Reddit, Inc. plan to manage the potential decline in users due to a reduction in third-party applications during the fiscal year ended December 31, 2024?"
          ],
          [
           "Which Tesla, Inc. executives signed the company's annual report for the fiscal year ended December 31, 2024, and what were their titles at the time?[1]"
          ],
          [
           "How could challenges in hiring, retaining, and managing qualified personnel, as well as risks related to supplier relationships and commercial agreements, negatively impact Amazon’s business operations and results in 2024?"
          ],
          [
           "What was the total lease liability for Apple Inc. as of September 28, 2024, and how did it compare to the total lease liability as of September 30, 2023?"
          ],
          [
           "What are the key competitive challenges Cisco faced in 2024 due to market dynamics, changes in technology, and new entrants, and how did these factors impact its revenue growth and competitive positioning?"
          ],
          [
           "Based on the Alphabet Inc. fiscal year ended December 31, 2024, what were the basic and diluted net income per share amounts for Class A, Class B, and Class C shares, and how did these compare to the previous year ended December 31, 2023?"
          ],
          [
           "What were the key financial results reported by Meta Platforms, Inc. for the fourth quarter and full year ended December 31, 2024, including revenue, advertising revenue, cash flows, and year-over-year growth percentages?"
          ],
          [
           "What operational and strategic challenges did Netflix, Inc. identify in its 2024 fiscal year report as it expanded its streaming service, introduced new features like games and advertising, and scaled its content production and international offerings?"
          ],
          [
           "Question:  \nWhere, as required by law, does NVIDIA Corporation file lobbying disclosure reports in 2024, and where can information about its public policy and lobbying activities be found?"
          ],
          [
           "What highlights or key financial metrics are included in Oracle Corporation's fiscal year 2024 Form 10-K report?"
          ],
          [
           "How does Reddit, Inc. plan to manage the potential decline in users due to a reduction in third-party applications during the fiscal year ended December 31, 2024?"
          ],
          [
           "Which Tesla, Inc. executives signed the company's annual report for the fiscal year ended December 31, 2024, and what were their titles at the time?[1]"
          ],
          [
           "How could challenges in hiring, retaining, and managing qualified personnel, as well as risks related to supplier relationships and commercial agreements, negatively impact Amazon’s business operations and results in 2024?"
          ],
          [
           "What was the total lease liability for Apple Inc. as of September 28, 2024, and how did it compare to the total lease liability as of September 30, 2023?"
          ],
          [
           "What are the key competitive challenges Cisco faced in 2024 due to market dynamics, changes in technology, and new entrants, and how did these factors impact its revenue growth and competitive positioning?"
          ],
          [
           "Based on the Alphabet Inc. fiscal year ended December 31, 2024, what were the basic and diluted net income per share amounts for Class A, Class B, and Class C shares, and how did these compare to the previous year ended December 31, 2023?"
          ],
          [
           "What were the key financial results reported by Meta Platforms, Inc. for the fourth quarter and full year ended December 31, 2024, including revenue, advertising revenue, cash flows, and year-over-year growth percentages?"
          ],
          [
           "What operational and strategic challenges did Netflix, Inc. identify in its 2024 fiscal year report as it expanded its streaming service, introduced new features like games and advertising, and scaled its content production and international offerings?"
          ],
          [
           "Question:  \nWhere, as required by law, does NVIDIA Corporation file lobbying disclosure reports in 2024, and where can information about its public policy and lobbying activities be found?"
          ],
          [
           "What highlights or key financial metrics are included in Oracle Corporation's fiscal year 2024 Form 10-K report?"
          ],
          [
           "How does Reddit, Inc. plan to manage the potential decline in users due to a reduction in third-party applications during the fiscal year ended December 31, 2024?"
          ],
          [
           "Which Tesla, Inc. executives signed the company's annual report for the fiscal year ended December 31, 2024, and what were their titles at the time?[1]"
          ]
         ],
         "hovertemplate": "Metric=%{x}<br>Score=%{y}<br>question=%{customdata[0]}<extra></extra>",
         "legendgroup": "",
         "marker": {
          "color": "#636efa"
         },
         "name": "",
         "notched": false,
         "offsetgroup": "",
         "orientation": "v",
         "showlegend": false,
         "type": "box",
         "x": [
          "Factual Correctness",
          "Factual Correctness",
          "Factual Correctness",
          "Factual Correctness",
          "Factual Correctness",
          "Factual Correctness",
          "Factual Correctness",
          "Factual Correctness",
          "Factual Correctness",
          "Factual Correctness",
          "Completeness",
          "Completeness",
          "Completeness",
          "Completeness",
          "Completeness",
          "Completeness",
          "Completeness",
          "Completeness",
          "Completeness",
          "Completeness",
          "Clarity",
          "Clarity",
          "Clarity",
          "Clarity",
          "Clarity",
          "Clarity",
          "Clarity",
          "Clarity",
          "Clarity",
          "Clarity",
          "Overall",
          "Overall",
          "Overall",
          "Overall",
          "Overall",
          "Overall",
          "Overall",
          "Overall",
          "Overall",
          "Overall"
         ],
         "x0": " ",
         "xaxis": "x",
         "y": {
          "bdata": "AAAAAAAAFEAAAAAAAAAIQAAAAAAAABRAAAAAAAAA8D8AAAAAAAAUQAAAAAAAABRAAAAAAAAAEEAAAAAAAAAAQAAAAAAAAPA/AAAAAAAACEAAAAAAAAAUQAAAAAAAAAhAAAAAAAAAEEAAAAAAAAAAQAAAAAAAABBAAAAAAAAAFEAAAAAAAAAIQAAAAAAAAAhAAAAAAAAA8D8AAAAAAAAAQAAAAAAAABRAAAAAAAAAEEAAAAAAAAAUQAAAAAAAABBAAAAAAAAAFEAAAAAAAAAUQAAAAAAAABRAAAAAAAAAFEAAAAAAAAAUQAAAAAAAABBAAAAAAAAAFECrqqqqqqoKQKuqqqqqqhJAq6qqqqqqAkCrqqqqqqoSQAAAAAAAABRAAAAAAAAAEECrqqqqqqoKQKuqqqqqqgJAAAAAAAAACEA=",
          "dtype": "f8"
         },
         "y0": " ",
         "yaxis": "y"
        }
       ],
       "layout": {
        "boxmode": "group",
        "height": 500,
        "legend": {
         "tracegroupgap": 0
        },
        "template": {
         "data": {
          "bar": [
           {
            "error_x": {
             "color": "#2a3f5f"
            },
            "error_y": {
             "color": "#2a3f5f"
            },
            "marker": {
             "line": {
              "color": "#E5ECF6",
              "width": 0.5
             },
             "pattern": {
              "fillmode": "overlay",
              "size": 10,
              "solidity": 0.2
             }
            },
            "type": "bar"
           }
          ],
          "barpolar": [
           {
            "marker": {
             "line": {
              "color": "#E5ECF6",
              "width": 0.5
             },
             "pattern": {
              "fillmode": "overlay",
              "size": 10,
              "solidity": 0.2
             }
            },
            "type": "barpolar"
           }
          ],
          "carpet": [
           {
            "aaxis": {
             "endlinecolor": "#2a3f5f",
             "gridcolor": "white",
             "linecolor": "white",
             "minorgridcolor": "white",
             "startlinecolor": "#2a3f5f"
            },
            "baxis": {
             "endlinecolor": "#2a3f5f",
             "gridcolor": "white",
             "linecolor": "white",
             "minorgridcolor": "white",
             "startlinecolor": "#2a3f5f"
            },
            "type": "carpet"
           }
          ],
          "choropleth": [
           {
            "colorbar": {
             "outlinewidth": 0,
             "ticks": ""
            },
            "type": "choropleth"
           }
          ],
          "contour": [
           {
            "colorbar": {
             "outlinewidth": 0,
             "ticks": ""
            },
            "colorscale": [
             [
              0,
              "#0d0887"
             ],
             [
              0.1111111111111111,
              "#46039f"
             ],
             [
              0.2222222222222222,
              "#7201a8"
             ],
             [
              0.3333333333333333,
              "#9c179e"
             ],
             [
              0.4444444444444444,
              "#bd3786"
             ],
             [
              0.5555555555555556,
              "#d8576b"
             ],
             [
              0.6666666666666666,
              "#ed7953"
             ],
             [
              0.7777777777777778,
              "#fb9f3a"
             ],
             [
              0.8888888888888888,
              "#fdca26"
             ],
             [
              1,
              "#f0f921"
             ]
            ],
            "type": "contour"
           }
          ],
          "contourcarpet": [
           {
            "colorbar": {
             "outlinewidth": 0,
             "ticks": ""
            },
            "type": "contourcarpet"
           }
          ],
          "heatmap": [
           {
            "colorbar": {
             "outlinewidth": 0,
             "ticks": ""
            },
            "colorscale": [
             [
              0,
              "#0d0887"
             ],
             [
              0.1111111111111111,
              "#46039f"
             ],
             [
              0.2222222222222222,
              "#7201a8"
             ],
             [
              0.3333333333333333,
              "#9c179e"
             ],
             [
              0.4444444444444444,
              "#bd3786"
             ],
             [
              0.5555555555555556,
              "#d8576b"
             ],
             [
              0.6666666666666666,
              "#ed7953"
             ],
             [
              0.7777777777777778,
              "#fb9f3a"
             ],
             [
              0.8888888888888888,
              "#fdca26"
             ],
             [
              1,
              "#f0f921"
             ]
            ],
            "type": "heatmap"
           }
          ],
          "histogram": [
           {
            "marker": {
             "pattern": {
              "fillmode": "overlay",
              "size": 10,
              "solidity": 0.2
             }
            },
            "type": "histogram"
           }
          ],
          "histogram2d": [
           {
            "colorbar": {
             "outlinewidth": 0,
             "ticks": ""
            },
            "colorscale": [
             [
              0,
              "#0d0887"
             ],
             [
              0.1111111111111111,
              "#46039f"
             ],
             [
              0.2222222222222222,
              "#7201a8"
             ],
             [
              0.3333333333333333,
              "#9c179e"
             ],
             [
              0.4444444444444444,
              "#bd3786"
             ],
             [
              0.5555555555555556,
              "#d8576b"
             ],
             [
              0.6666666666666666,
              "#ed7953"
             ],
             [
              0.7777777777777778,
              "#fb9f3a"
             ],
             [
              0.8888888888888888,
              "#fdca26"
             ],
             [
              1,
              "#f0f921"
             ]
            ],
            "type": "histogram2d"
           }
          ],
          "histogram2dcontour": [
           {
            "colorbar": {
             "outlinewidth": 0,
             "ticks": ""
            },
            "colorscale": [
             [
              0,
              "#0d0887"
             ],
             [
              0.1111111111111111,
              "#46039f"
             ],
             [
              0.2222222222222222,
              "#7201a8"
             ],
             [
              0.3333333333333333,
              "#9c179e"
             ],
             [
              0.4444444444444444,
              "#bd3786"
             ],
             [
              0.5555555555555556,
              "#d8576b"
             ],
             [
              0.6666666666666666,
              "#ed7953"
             ],
             [
              0.7777777777777778,
              "#fb9f3a"
             ],
             [
              0.8888888888888888,
              "#fdca26"
             ],
             [
              1,
              "#f0f921"
             ]
            ],
            "type": "histogram2dcontour"
           }
          ],
          "mesh3d": [
           {
            "colorbar": {
             "outlinewidth": 0,
             "ticks": ""
            },
            "type": "mesh3d"
           }
          ],
          "parcoords": [
           {
            "line": {
             "colorbar": {
              "outlinewidth": 0,
              "ticks": ""
             }
            },
            "type": "parcoords"
           }
          ],
          "pie": [
           {
            "automargin": true,
            "type": "pie"
           }
          ],
          "scatter": [
           {
            "fillpattern": {
             "fillmode": "overlay",
             "size": 10,
             "solidity": 0.2
            },
            "type": "scatter"
           }
          ],
          "scatter3d": [
           {
            "line": {
             "colorbar": {
              "outlinewidth": 0,
              "ticks": ""
             }
            },
            "marker": {
             "colorbar": {
              "outlinewidth": 0,
              "ticks": ""
             }
            },
            "type": "scatter3d"
           }
          ],
          "scattercarpet": [
           {
            "marker": {
             "colorbar": {
              "outlinewidth": 0,
              "ticks": ""
             }
            },
            "type": "scattercarpet"
           }
          ],
          "scattergeo": [
           {
            "marker": {
             "colorbar": {
              "outlinewidth": 0,
              "ticks": ""
             }
            },
            "type": "scattergeo"
           }
          ],
          "scattergl": [
           {
            "marker": {
             "colorbar": {
              "outlinewidth": 0,
              "ticks": ""
             }
            },
            "type": "scattergl"
           }
          ],
          "scattermap": [
           {
            "marker": {
             "colorbar": {
              "outlinewidth": 0,
              "ticks": ""
             }
            },
            "type": "scattermap"
           }
          ],
          "scattermapbox": [
           {
            "marker": {
             "colorbar": {
              "outlinewidth": 0,
              "ticks": ""
             }
            },
            "type": "scattermapbox"
           }
          ],
          "scatterpolar": [
           {
            "marker": {
             "colorbar": {
              "outlinewidth": 0,
              "ticks": ""
             }
            },
            "type": "scatterpolar"
           }
          ],
          "scatterpolargl": [
           {
            "marker": {
             "colorbar": {
              "outlinewidth": 0,
              "ticks": ""
             }
            },
            "type": "scatterpolargl"
           }
          ],
          "scatterternary": [
           {
            "marker": {
             "colorbar": {
              "outlinewidth": 0,
              "ticks": ""
             }
            },
            "type": "scatterternary"
           }
          ],
          "surface": [
           {
            "colorbar": {
             "outlinewidth": 0,
             "ticks": ""
            },
            "colorscale": [
             [
              0,
              "#0d0887"
             ],
             [
              0.1111111111111111,
              "#46039f"
             ],
             [
              0.2222222222222222,
              "#7201a8"
             ],
             [
              0.3333333333333333,
              "#9c179e"
             ],
             [
              0.4444444444444444,
              "#bd3786"
             ],
             [
              0.5555555555555556,
              "#d8576b"
             ],
             [
              0.6666666666666666,
              "#ed7953"
             ],
             [
              0.7777777777777778,
              "#fb9f3a"
             ],
             [
              0.8888888888888888,
              "#fdca26"
             ],
             [
              1,
              "#f0f921"
             ]
            ],
            "type": "surface"
           }
          ],
          "table": [
           {
            "cells": {
             "fill": {
              "color": "#EBF0F8"
             },
             "line": {
              "color": "white"
             }
            },
            "header": {
             "fill": {
              "color": "#C8D4E3"
             },
             "line": {
              "color": "white"
             }
            },
            "type": "table"
           }
          ]
         },
         "layout": {
          "annotationdefaults": {
           "arrowcolor": "#2a3f5f",
           "arrowhead": 0,
           "arrowwidth": 1
          },
          "autotypenumbers": "strict",
          "coloraxis": {
           "colorbar": {
            "outlinewidth": 0,
            "ticks": ""
           }
          },
          "colorscale": {
           "diverging": [
            [
             0,
             "#8e0152"
            ],
            [
             0.1,
             "#c51b7d"
            ],
            [
             0.2,
             "#de77ae"
            ],
            [
             0.3,
             "#f1b6da"
            ],
            [
             0.4,
             "#fde0ef"
            ],
            [
             0.5,
             "#f7f7f7"
            ],
            [
             0.6,
             "#e6f5d0"
            ],
            [
             0.7,
             "#b8e186"
            ],
            [
             0.8,
             "#7fbc41"
            ],
            [
             0.9,
             "#4d9221"
            ],
            [
             1,
             "#276419"
            ]
           ],
           "sequential": [
            [
             0,
             "#0d0887"
            ],
            [
             0.1111111111111111,
             "#46039f"
            ],
            [
             0.2222222222222222,
             "#7201a8"
            ],
            [
             0.3333333333333333,
             "#9c179e"
            ],
            [
             0.4444444444444444,
             "#bd3786"
            ],
            [
             0.5555555555555556,
             "#d8576b"
            ],
            [
             0.6666666666666666,
             "#ed7953"
            ],
            [
             0.7777777777777778,
             "#fb9f3a"
            ],
            [
             0.8888888888888888,
             "#fdca26"
            ],
            [
             1,
             "#f0f921"
            ]
           ],
           "sequentialminus": [
            [
             0,
             "#0d0887"
            ],
            [
             0.1111111111111111,
             "#46039f"
            ],
            [
             0.2222222222222222,
             "#7201a8"
            ],
            [
             0.3333333333333333,
             "#9c179e"
            ],
            [
             0.4444444444444444,
             "#bd3786"
            ],
            [
             0.5555555555555556,
             "#d8576b"
            ],
            [
             0.6666666666666666,
             "#ed7953"
            ],
            [
             0.7777777777777778,
             "#fb9f3a"
            ],
            [
             0.8888888888888888,
             "#fdca26"
            ],
            [
             1,
             "#f0f921"
            ]
           ]
          },
          "colorway": [
           "#636efa",
           "#EF553B",
           "#00cc96",
           "#ab63fa",
           "#FFA15A",
           "#19d3f3",
           "#FF6692",
           "#B6E880",
           "#FF97FF",
           "#FECB52"
          ],
          "font": {
           "color": "#2a3f5f"
          },
          "geo": {
           "bgcolor": "white",
           "lakecolor": "white",
           "landcolor": "#E5ECF6",
           "showlakes": true,
           "showland": true,
           "subunitcolor": "white"
          },
          "hoverlabel": {
           "align": "left"
          },
          "hovermode": "closest",
          "mapbox": {
           "style": "light"
          },
          "paper_bgcolor": "white",
          "plot_bgcolor": "#E5ECF6",
          "polar": {
           "angularaxis": {
            "gridcolor": "white",
            "linecolor": "white",
            "ticks": ""
           },
           "bgcolor": "#E5ECF6",
           "radialaxis": {
            "gridcolor": "white",
            "linecolor": "white",
            "ticks": ""
           }
          },
          "scene": {
           "xaxis": {
            "backgroundcolor": "#E5ECF6",
            "gridcolor": "white",
            "gridwidth": 2,
            "linecolor": "white",
            "showbackground": true,
            "ticks": "",
            "zerolinecolor": "white"
           },
           "yaxis": {
            "backgroundcolor": "#E5ECF6",
            "gridcolor": "white",
            "gridwidth": 2,
            "linecolor": "white",
            "showbackground": true,
            "ticks": "",
            "zerolinecolor": "white"
           },
           "zaxis": {
            "backgroundcolor": "#E5ECF6",
            "gridcolor": "white",
            "gridwidth": 2,
            "linecolor": "white",
            "showbackground": true,
            "ticks": "",
            "zerolinecolor": "white"
           }
          },
          "shapedefaults": {
           "line": {
            "color": "#2a3f5f"
           }
          },
          "ternary": {
           "aaxis": {
            "gridcolor": "white",
            "linecolor": "white",
            "ticks": ""
           },
           "baxis": {
            "gridcolor": "white",
            "linecolor": "white",
            "ticks": ""
           },
           "bgcolor": "#E5ECF6",
           "caxis": {
            "gridcolor": "white",
            "linecolor": "white",
            "ticks": ""
           }
          },
          "title": {
           "x": 0.05
          },
          "xaxis": {
           "automargin": true,
           "gridcolor": "white",
           "linecolor": "white",
           "ticks": "",
           "title": {
            "standoff": 15
           },
           "zerolinecolor": "white",
           "zerolinewidth": 2
          },
          "yaxis": {
           "automargin": true,
           "gridcolor": "white",
           "linecolor": "white",
           "ticks": "",
           "title": {
            "standoff": 15
           },
           "zerolinecolor": "white",
           "zerolinewidth": 2
          }
         }
        },
        "title": {
         "text": "Score Distributions per Metric (with Overall Score)"
        },
        "xaxis": {
         "anchor": "y",
         "domain": [
          0,
          1
         ],
         "title": {
          "text": "Metric"
         }
        },
        "yaxis": {
         "anchor": "x",
         "domain": [
          0,
          1
         ],
         "dtick": 1,
         "range": [
          0,
          6
         ],
         "title": {
          "text": "Score (1-5)"
         }
        }
       }
      }
     },
     "metadata": {},
     "output_type": "display_data"
    }
   ],
   "source": [
    "import plotly.express as px\n",
    "import pandas as pd\n",
    "\n",
    "# Make sure relevant columns are numeric\n",
    "numeric_cols = [\n",
    "    'evaluation_factual_correctness_score', \n",
    "    'evaluation_completeness_score', \n",
    "    'evaluation_clarity_score'\n",
    "]\n",
    "\n",
    "df = final_df.copy()\n",
    "for col in numeric_cols:\n",
    "    df[col] = pd.to_numeric(df[col], errors='coerce')  # convert invalid to NaN\n",
    "\n",
    "# Calculate overall average score per question\n",
    "df['overall_score'] = df[numeric_cols].mean(axis=1)\n",
    "\n",
    "# Melt DataFrame to long format (including overall score)\n",
    "melted_df = df.melt(\n",
    "    id_vars=['question'],\n",
    "    value_vars=numeric_cols + ['overall_score'],\n",
    "    var_name='Metric',\n",
    "    value_name='Score'\n",
    ")\n",
    "\n",
    "# Clean up metric names for display\n",
    "melted_df['Metric'] = (\n",
    "    melted_df['Metric']\n",
    "    .str.replace('evaluation_', '', regex=False)\n",
    "    .str.replace('_score', '', regex=False)\n",
    "    .str.replace('_', ' ')\n",
    "    .str.title()\n",
    ")\n",
    "\n",
    "# Drop rows with missing scores (optional, if needed)\n",
    "melted_df = melted_df.dropna(subset=['Score'])\n",
    "\n",
    "# Plot boxplot\n",
    "fig = px.box(\n",
    "    melted_df,\n",
    "    x='Metric',\n",
    "    y='Score',\n",
    "    points='all',  # show individual points\n",
    "    hover_data=['question'],\n",
    "    title='Score Distributions per Metric (with Overall Score)',\n",
    "    height=500\n",
    ")\n",
    "\n",
    "fig.update_layout(\n",
    "    yaxis=dict(range=[0, 6], dtick=1),\n",
    "    xaxis_title='Metric',\n",
    "    yaxis_title='Score (1-5)'\n",
    ")\n",
    "\n",
    "fig.show()"
   ]
  },
  {
   "cell_type": "code",
   "execution_count": 12,
   "id": "1cdb25dd",
   "metadata": {},
   "outputs": [
    {
     "data": {
      "application/vnd.plotly.v1+json": {
       "config": {
        "plotlyServerURL": "https://plot.ly"
       },
       "data": [
        {
         "colorscale": [
          [
           0,
           "rgb(247,251,255)"
          ],
          [
           0.125,
           "rgb(222,235,247)"
          ],
          [
           0.25,
           "rgb(198,219,239)"
          ],
          [
           0.375,
           "rgb(158,202,225)"
          ],
          [
           0.5,
           "rgb(107,174,214)"
          ],
          [
           0.625,
           "rgb(66,146,198)"
          ],
          [
           0.75,
           "rgb(33,113,181)"
          ],
          [
           0.875,
           "rgb(8,81,156)"
          ],
          [
           1,
           "rgb(8,48,107)"
          ]
         ],
         "reversescale": false,
         "showscale": true,
         "type": "heatmap",
         "x": [
          "evaluation_factual_correctness_score",
          "evaluation_completeness_score",
          "evaluation_clarity_score",
          "overall_score"
         ],
         "y": [
          "evaluation_factual_correctness_score",
          "evaluation_completeness_score",
          "evaluation_clarity_score",
          "overall_score"
         ],
         "z": {
          "bdata": "AAAAAAAA8D8pXI/C9SjsP83MzMzMzNw/CtejcD0K7z8pXI/C9SjsPwAAAAAAAPA/zczMzMzM3D9mZmZmZmbuP83MzMzMzNw/zczMzMzM3D8AAAAAAADwP4/C9Shcj+I/CtejcD0K7z9mZmZmZmbuP4/C9Shcj+I/AAAAAAAA8D8=",
          "dtype": "f8",
          "shape": "4, 4"
         }
        }
       ],
       "layout": {
        "annotations": [
         {
          "font": {
           "color": "#FFFFFF"
          },
          "showarrow": false,
          "text": "1.0",
          "x": "evaluation_factual_correctness_score",
          "xref": "x",
          "y": "evaluation_factual_correctness_score",
          "yref": "y"
         },
         {
          "font": {
           "color": "#FFFFFF"
          },
          "showarrow": false,
          "text": "0.88",
          "x": "evaluation_completeness_score",
          "xref": "x",
          "y": "evaluation_factual_correctness_score",
          "yref": "y"
         },
         {
          "font": {
           "color": "#000000"
          },
          "showarrow": false,
          "text": "0.45",
          "x": "evaluation_clarity_score",
          "xref": "x",
          "y": "evaluation_factual_correctness_score",
          "yref": "y"
         },
         {
          "font": {
           "color": "#FFFFFF"
          },
          "showarrow": false,
          "text": "0.97",
          "x": "overall_score",
          "xref": "x",
          "y": "evaluation_factual_correctness_score",
          "yref": "y"
         },
         {
          "font": {
           "color": "#FFFFFF"
          },
          "showarrow": false,
          "text": "0.88",
          "x": "evaluation_factual_correctness_score",
          "xref": "x",
          "y": "evaluation_completeness_score",
          "yref": "y"
         },
         {
          "font": {
           "color": "#FFFFFF"
          },
          "showarrow": false,
          "text": "1.0",
          "x": "evaluation_completeness_score",
          "xref": "x",
          "y": "evaluation_completeness_score",
          "yref": "y"
         },
         {
          "font": {
           "color": "#000000"
          },
          "showarrow": false,
          "text": "0.45",
          "x": "evaluation_clarity_score",
          "xref": "x",
          "y": "evaluation_completeness_score",
          "yref": "y"
         },
         {
          "font": {
           "color": "#FFFFFF"
          },
          "showarrow": false,
          "text": "0.95",
          "x": "overall_score",
          "xref": "x",
          "y": "evaluation_completeness_score",
          "yref": "y"
         },
         {
          "font": {
           "color": "#000000"
          },
          "showarrow": false,
          "text": "0.45",
          "x": "evaluation_factual_correctness_score",
          "xref": "x",
          "y": "evaluation_clarity_score",
          "yref": "y"
         },
         {
          "font": {
           "color": "#000000"
          },
          "showarrow": false,
          "text": "0.45",
          "x": "evaluation_completeness_score",
          "xref": "x",
          "y": "evaluation_clarity_score",
          "yref": "y"
         },
         {
          "font": {
           "color": "#FFFFFF"
          },
          "showarrow": false,
          "text": "1.0",
          "x": "evaluation_clarity_score",
          "xref": "x",
          "y": "evaluation_clarity_score",
          "yref": "y"
         },
         {
          "font": {
           "color": "#000000"
          },
          "showarrow": false,
          "text": "0.58",
          "x": "overall_score",
          "xref": "x",
          "y": "evaluation_clarity_score",
          "yref": "y"
         },
         {
          "font": {
           "color": "#FFFFFF"
          },
          "showarrow": false,
          "text": "0.97",
          "x": "evaluation_factual_correctness_score",
          "xref": "x",
          "y": "overall_score",
          "yref": "y"
         },
         {
          "font": {
           "color": "#FFFFFF"
          },
          "showarrow": false,
          "text": "0.95",
          "x": "evaluation_completeness_score",
          "xref": "x",
          "y": "overall_score",
          "yref": "y"
         },
         {
          "font": {
           "color": "#000000"
          },
          "showarrow": false,
          "text": "0.58",
          "x": "evaluation_clarity_score",
          "xref": "x",
          "y": "overall_score",
          "yref": "y"
         },
         {
          "font": {
           "color": "#FFFFFF"
          },
          "showarrow": false,
          "text": "1.0",
          "x": "overall_score",
          "xref": "x",
          "y": "overall_score",
          "yref": "y"
         }
        ],
        "height": 600,
        "template": {
         "data": {
          "bar": [
           {
            "error_x": {
             "color": "#2a3f5f"
            },
            "error_y": {
             "color": "#2a3f5f"
            },
            "marker": {
             "line": {
              "color": "#E5ECF6",
              "width": 0.5
             },
             "pattern": {
              "fillmode": "overlay",
              "size": 10,
              "solidity": 0.2
             }
            },
            "type": "bar"
           }
          ],
          "barpolar": [
           {
            "marker": {
             "line": {
              "color": "#E5ECF6",
              "width": 0.5
             },
             "pattern": {
              "fillmode": "overlay",
              "size": 10,
              "solidity": 0.2
             }
            },
            "type": "barpolar"
           }
          ],
          "carpet": [
           {
            "aaxis": {
             "endlinecolor": "#2a3f5f",
             "gridcolor": "white",
             "linecolor": "white",
             "minorgridcolor": "white",
             "startlinecolor": "#2a3f5f"
            },
            "baxis": {
             "endlinecolor": "#2a3f5f",
             "gridcolor": "white",
             "linecolor": "white",
             "minorgridcolor": "white",
             "startlinecolor": "#2a3f5f"
            },
            "type": "carpet"
           }
          ],
          "choropleth": [
           {
            "colorbar": {
             "outlinewidth": 0,
             "ticks": ""
            },
            "type": "choropleth"
           }
          ],
          "contour": [
           {
            "colorbar": {
             "outlinewidth": 0,
             "ticks": ""
            },
            "colorscale": [
             [
              0,
              "#0d0887"
             ],
             [
              0.1111111111111111,
              "#46039f"
             ],
             [
              0.2222222222222222,
              "#7201a8"
             ],
             [
              0.3333333333333333,
              "#9c179e"
             ],
             [
              0.4444444444444444,
              "#bd3786"
             ],
             [
              0.5555555555555556,
              "#d8576b"
             ],
             [
              0.6666666666666666,
              "#ed7953"
             ],
             [
              0.7777777777777778,
              "#fb9f3a"
             ],
             [
              0.8888888888888888,
              "#fdca26"
             ],
             [
              1,
              "#f0f921"
             ]
            ],
            "type": "contour"
           }
          ],
          "contourcarpet": [
           {
            "colorbar": {
             "outlinewidth": 0,
             "ticks": ""
            },
            "type": "contourcarpet"
           }
          ],
          "heatmap": [
           {
            "colorbar": {
             "outlinewidth": 0,
             "ticks": ""
            },
            "colorscale": [
             [
              0,
              "#0d0887"
             ],
             [
              0.1111111111111111,
              "#46039f"
             ],
             [
              0.2222222222222222,
              "#7201a8"
             ],
             [
              0.3333333333333333,
              "#9c179e"
             ],
             [
              0.4444444444444444,
              "#bd3786"
             ],
             [
              0.5555555555555556,
              "#d8576b"
             ],
             [
              0.6666666666666666,
              "#ed7953"
             ],
             [
              0.7777777777777778,
              "#fb9f3a"
             ],
             [
              0.8888888888888888,
              "#fdca26"
             ],
             [
              1,
              "#f0f921"
             ]
            ],
            "type": "heatmap"
           }
          ],
          "histogram": [
           {
            "marker": {
             "pattern": {
              "fillmode": "overlay",
              "size": 10,
              "solidity": 0.2
             }
            },
            "type": "histogram"
           }
          ],
          "histogram2d": [
           {
            "colorbar": {
             "outlinewidth": 0,
             "ticks": ""
            },
            "colorscale": [
             [
              0,
              "#0d0887"
             ],
             [
              0.1111111111111111,
              "#46039f"
             ],
             [
              0.2222222222222222,
              "#7201a8"
             ],
             [
              0.3333333333333333,
              "#9c179e"
             ],
             [
              0.4444444444444444,
              "#bd3786"
             ],
             [
              0.5555555555555556,
              "#d8576b"
             ],
             [
              0.6666666666666666,
              "#ed7953"
             ],
             [
              0.7777777777777778,
              "#fb9f3a"
             ],
             [
              0.8888888888888888,
              "#fdca26"
             ],
             [
              1,
              "#f0f921"
             ]
            ],
            "type": "histogram2d"
           }
          ],
          "histogram2dcontour": [
           {
            "colorbar": {
             "outlinewidth": 0,
             "ticks": ""
            },
            "colorscale": [
             [
              0,
              "#0d0887"
             ],
             [
              0.1111111111111111,
              "#46039f"
             ],
             [
              0.2222222222222222,
              "#7201a8"
             ],
             [
              0.3333333333333333,
              "#9c179e"
             ],
             [
              0.4444444444444444,
              "#bd3786"
             ],
             [
              0.5555555555555556,
              "#d8576b"
             ],
             [
              0.6666666666666666,
              "#ed7953"
             ],
             [
              0.7777777777777778,
              "#fb9f3a"
             ],
             [
              0.8888888888888888,
              "#fdca26"
             ],
             [
              1,
              "#f0f921"
             ]
            ],
            "type": "histogram2dcontour"
           }
          ],
          "mesh3d": [
           {
            "colorbar": {
             "outlinewidth": 0,
             "ticks": ""
            },
            "type": "mesh3d"
           }
          ],
          "parcoords": [
           {
            "line": {
             "colorbar": {
              "outlinewidth": 0,
              "ticks": ""
             }
            },
            "type": "parcoords"
           }
          ],
          "pie": [
           {
            "automargin": true,
            "type": "pie"
           }
          ],
          "scatter": [
           {
            "fillpattern": {
             "fillmode": "overlay",
             "size": 10,
             "solidity": 0.2
            },
            "type": "scatter"
           }
          ],
          "scatter3d": [
           {
            "line": {
             "colorbar": {
              "outlinewidth": 0,
              "ticks": ""
             }
            },
            "marker": {
             "colorbar": {
              "outlinewidth": 0,
              "ticks": ""
             }
            },
            "type": "scatter3d"
           }
          ],
          "scattercarpet": [
           {
            "marker": {
             "colorbar": {
              "outlinewidth": 0,
              "ticks": ""
             }
            },
            "type": "scattercarpet"
           }
          ],
          "scattergeo": [
           {
            "marker": {
             "colorbar": {
              "outlinewidth": 0,
              "ticks": ""
             }
            },
            "type": "scattergeo"
           }
          ],
          "scattergl": [
           {
            "marker": {
             "colorbar": {
              "outlinewidth": 0,
              "ticks": ""
             }
            },
            "type": "scattergl"
           }
          ],
          "scattermap": [
           {
            "marker": {
             "colorbar": {
              "outlinewidth": 0,
              "ticks": ""
             }
            },
            "type": "scattermap"
           }
          ],
          "scattermapbox": [
           {
            "marker": {
             "colorbar": {
              "outlinewidth": 0,
              "ticks": ""
             }
            },
            "type": "scattermapbox"
           }
          ],
          "scatterpolar": [
           {
            "marker": {
             "colorbar": {
              "outlinewidth": 0,
              "ticks": ""
             }
            },
            "type": "scatterpolar"
           }
          ],
          "scatterpolargl": [
           {
            "marker": {
             "colorbar": {
              "outlinewidth": 0,
              "ticks": ""
             }
            },
            "type": "scatterpolargl"
           }
          ],
          "scatterternary": [
           {
            "marker": {
             "colorbar": {
              "outlinewidth": 0,
              "ticks": ""
             }
            },
            "type": "scatterternary"
           }
          ],
          "surface": [
           {
            "colorbar": {
             "outlinewidth": 0,
             "ticks": ""
            },
            "colorscale": [
             [
              0,
              "#0d0887"
             ],
             [
              0.1111111111111111,
              "#46039f"
             ],
             [
              0.2222222222222222,
              "#7201a8"
             ],
             [
              0.3333333333333333,
              "#9c179e"
             ],
             [
              0.4444444444444444,
              "#bd3786"
             ],
             [
              0.5555555555555556,
              "#d8576b"
             ],
             [
              0.6666666666666666,
              "#ed7953"
             ],
             [
              0.7777777777777778,
              "#fb9f3a"
             ],
             [
              0.8888888888888888,
              "#fdca26"
             ],
             [
              1,
              "#f0f921"
             ]
            ],
            "type": "surface"
           }
          ],
          "table": [
           {
            "cells": {
             "fill": {
              "color": "#EBF0F8"
             },
             "line": {
              "color": "white"
             }
            },
            "header": {
             "fill": {
              "color": "#C8D4E3"
             },
             "line": {
              "color": "white"
             }
            },
            "type": "table"
           }
          ]
         },
         "layout": {
          "annotationdefaults": {
           "arrowcolor": "#2a3f5f",
           "arrowhead": 0,
           "arrowwidth": 1
          },
          "autotypenumbers": "strict",
          "coloraxis": {
           "colorbar": {
            "outlinewidth": 0,
            "ticks": ""
           }
          },
          "colorscale": {
           "diverging": [
            [
             0,
             "#8e0152"
            ],
            [
             0.1,
             "#c51b7d"
            ],
            [
             0.2,
             "#de77ae"
            ],
            [
             0.3,
             "#f1b6da"
            ],
            [
             0.4,
             "#fde0ef"
            ],
            [
             0.5,
             "#f7f7f7"
            ],
            [
             0.6,
             "#e6f5d0"
            ],
            [
             0.7,
             "#b8e186"
            ],
            [
             0.8,
             "#7fbc41"
            ],
            [
             0.9,
             "#4d9221"
            ],
            [
             1,
             "#276419"
            ]
           ],
           "sequential": [
            [
             0,
             "#0d0887"
            ],
            [
             0.1111111111111111,
             "#46039f"
            ],
            [
             0.2222222222222222,
             "#7201a8"
            ],
            [
             0.3333333333333333,
             "#9c179e"
            ],
            [
             0.4444444444444444,
             "#bd3786"
            ],
            [
             0.5555555555555556,
             "#d8576b"
            ],
            [
             0.6666666666666666,
             "#ed7953"
            ],
            [
             0.7777777777777778,
             "#fb9f3a"
            ],
            [
             0.8888888888888888,
             "#fdca26"
            ],
            [
             1,
             "#f0f921"
            ]
           ],
           "sequentialminus": [
            [
             0,
             "#0d0887"
            ],
            [
             0.1111111111111111,
             "#46039f"
            ],
            [
             0.2222222222222222,
             "#7201a8"
            ],
            [
             0.3333333333333333,
             "#9c179e"
            ],
            [
             0.4444444444444444,
             "#bd3786"
            ],
            [
             0.5555555555555556,
             "#d8576b"
            ],
            [
             0.6666666666666666,
             "#ed7953"
            ],
            [
             0.7777777777777778,
             "#fb9f3a"
            ],
            [
             0.8888888888888888,
             "#fdca26"
            ],
            [
             1,
             "#f0f921"
            ]
           ]
          },
          "colorway": [
           "#636efa",
           "#EF553B",
           "#00cc96",
           "#ab63fa",
           "#FFA15A",
           "#19d3f3",
           "#FF6692",
           "#B6E880",
           "#FF97FF",
           "#FECB52"
          ],
          "font": {
           "color": "#2a3f5f"
          },
          "geo": {
           "bgcolor": "white",
           "lakecolor": "white",
           "landcolor": "#E5ECF6",
           "showlakes": true,
           "showland": true,
           "subunitcolor": "white"
          },
          "hoverlabel": {
           "align": "left"
          },
          "hovermode": "closest",
          "mapbox": {
           "style": "light"
          },
          "paper_bgcolor": "white",
          "plot_bgcolor": "#E5ECF6",
          "polar": {
           "angularaxis": {
            "gridcolor": "white",
            "linecolor": "white",
            "ticks": ""
           },
           "bgcolor": "#E5ECF6",
           "radialaxis": {
            "gridcolor": "white",
            "linecolor": "white",
            "ticks": ""
           }
          },
          "scene": {
           "xaxis": {
            "backgroundcolor": "#E5ECF6",
            "gridcolor": "white",
            "gridwidth": 2,
            "linecolor": "white",
            "showbackground": true,
            "ticks": "",
            "zerolinecolor": "white"
           },
           "yaxis": {
            "backgroundcolor": "#E5ECF6",
            "gridcolor": "white",
            "gridwidth": 2,
            "linecolor": "white",
            "showbackground": true,
            "ticks": "",
            "zerolinecolor": "white"
           },
           "zaxis": {
            "backgroundcolor": "#E5ECF6",
            "gridcolor": "white",
            "gridwidth": 2,
            "linecolor": "white",
            "showbackground": true,
            "ticks": "",
            "zerolinecolor": "white"
           }
          },
          "shapedefaults": {
           "line": {
            "color": "#2a3f5f"
           }
          },
          "ternary": {
           "aaxis": {
            "gridcolor": "white",
            "linecolor": "white",
            "ticks": ""
           },
           "baxis": {
            "gridcolor": "white",
            "linecolor": "white",
            "ticks": ""
           },
           "bgcolor": "#E5ECF6",
           "caxis": {
            "gridcolor": "white",
            "linecolor": "white",
            "ticks": ""
           }
          },
          "title": {
           "x": 0.05
          },
          "xaxis": {
           "automargin": true,
           "gridcolor": "white",
           "linecolor": "white",
           "ticks": "",
           "title": {
            "standoff": 15
           },
           "zerolinecolor": "white",
           "zerolinewidth": 2
          },
          "yaxis": {
           "automargin": true,
           "gridcolor": "white",
           "linecolor": "white",
           "ticks": "",
           "title": {
            "standoff": 15
           },
           "zerolinecolor": "white",
           "zerolinewidth": 2
          }
         }
        },
        "title": {
         "text": "Correlation Heatmap of Evaluation Metrics"
        },
        "width": 600,
        "xaxis": {
         "dtick": 1,
         "gridcolor": "rgb(0, 0, 0)",
         "side": "top",
         "ticks": ""
        },
        "yaxis": {
         "dtick": 1,
         "ticks": "",
         "ticksuffix": "  "
        }
       }
      }
     },
     "metadata": {},
     "output_type": "display_data"
    }
   ],
   "source": [
    "import plotly.figure_factory as ff\n",
    "\n",
    "# Select relevant columns\n",
    "metrics = [\n",
    "    'evaluation_factual_correctness_score',\n",
    "    'evaluation_completeness_score',\n",
    "    'evaluation_clarity_score',\n",
    "    'overall_score'\n",
    "]\n",
    "\n",
    "# Calculate correlation matrix\n",
    "corr_matrix = df[metrics].corr().round(2)\n",
    "\n",
    "# Create heatmap\n",
    "fig = ff.create_annotated_heatmap(\n",
    "    z=corr_matrix.values,\n",
    "    x=corr_matrix.columns.tolist(),\n",
    "    y=corr_matrix.index.tolist(),\n",
    "    annotation_text=corr_matrix.values,\n",
    "    colorscale='Blues',\n",
    "    showscale=True\n",
    ")\n",
    "\n",
    "fig.update_layout(\n",
    "    title='Correlation Heatmap of Evaluation Metrics',\n",
    "    width=600,\n",
    "    height=600\n",
    ")\n",
    "\n",
    "fig.show()\n"
   ]
  },
  {
   "cell_type": "code",
   "execution_count": 13,
   "id": "12b50e20",
   "metadata": {},
   "outputs": [
    {
     "name": "stdout",
     "output_type": "stream",
     "text": [
      "Worst Answer by Overall Score: 2.3333333333333335\n",
      "Question: Based on the Alphabet Inc. fiscal year ended December 31, 2024, what were the basic and diluted net income per share amounts for Class A, Class B, and Class C shares, and how did these compare to the previous year ended December 31, 2023?\n",
      "Reasons: The answer contains completely incorrect EPS values and does not reflect the actual EPS figures from Alphabet's 2023 and 2024 financials; also, the document chunk does not support the breakdown by share class for basic and diluted EPS.\n"
     ]
    }
   ],
   "source": [
    "#Worst answer by overall\n",
    "worst_answer = df.loc[df['overall_score'].idxmin()]\n",
    "print(f\"Worst Answer by Overall Score: {df['overall_score'].min()}\")\n",
    "print(f\"Question: {worst_answer['question']}\")\n",
    "# print(f\"Answer: {worst_answer['answer']}\")\n",
    "print(f\"Reasons: {worst_answer['evaluation_comments']}\")"
   ]
  }
 ],
 "metadata": {
  "kernelspec": {
   "display_name": "Python 3",
   "language": "python",
   "name": "python3"
  },
  "language_info": {
   "codemirror_mode": {
    "name": "ipython",
    "version": 3
   },
   "file_extension": ".py",
   "mimetype": "text/x-python",
   "name": "python",
   "nbconvert_exporter": "python",
   "pygments_lexer": "ipython3",
   "version": "3.9.13"
  }
 },
 "nbformat": 4,
 "nbformat_minor": 5
}
