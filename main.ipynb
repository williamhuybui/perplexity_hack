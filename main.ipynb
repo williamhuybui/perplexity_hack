{
 "cells": [
  {
   "cell_type": "code",
   "execution_count": 10,
   "metadata": {},
   "outputs": [
    {
     "name": "stdout",
     "output_type": "stream",
     "text": [
      "Folder 'session_1' and 'session_1\\chunks' has been created.\n"
     ]
    }
   ],
   "source": [
    "import pandas as pd \n",
    "import os\n",
    "from pathlib import Path\n",
    "from dotenv import load_dotenv\n",
    "\n",
    "#Local\n",
    "from config import Config\n",
    "from data_processing import data_processing\n",
    "from utils import remove_dirs, check_and_create_dirs\n",
    "from question_generator import question_generator\n",
    "\n",
    "#Setting\n",
    "pd.set_option('display.max_colwidth', None)\n",
    "\n",
    "#CONFIG\n",
    "load_dotenv()\n",
    "api_key = os.getenv(\"PERPLEXITY_API_KEY\")\n",
    "\n",
    "cfg = Config(\n",
    "    project_name=\"session_1\",\n",
    "    input_dir=\"data\",\n",
    "    api_key= api_key,\n",
    "    n_questions_per_file=1,\n",
    "    n_page_summary=3,\n",
    "    chunk_size=5000,\n",
    "    chunk_overlap=500\n",
    ")\n",
    "\n",
    "# remove_dirs(cfg) # This will delete the output directories if they exist\n",
    "check_and_create_dirs(cfg)\n"
   ]
  },
  {
   "cell_type": "code",
   "execution_count": 11,
   "metadata": {},
   "outputs": [
    {
     "name": "stdout",
     "output_type": "stream",
     "text": [
      "Processing file: 2024-amazon-annual-report-10K.pdf 1/10\n",
      "Saving chunks to session_1\\chunks\\2024-amazon-annual-report-10K.json\n",
      "Saving metadata to session_1\\metadata.json\n",
      "Processing file: 2024-apple-annual-report-10K.pdf 2/10\n",
      "Saving chunks to session_1\\chunks\\2024-apple-annual-report-10K.json\n",
      "Saving metadata to session_1\\metadata.json\n",
      "Processing file: 2024-cisco-full-annual-report.pdf 3/10\n",
      "Saving chunks to session_1\\chunks\\2024-cisco-full-annual-report.json\n",
      "Saving metadata to session_1\\metadata.json\n",
      "Processing file: 2024-google-annual-report-10K.pdf 4/10\n",
      "Saving chunks to session_1\\chunks\\2024-google-annual-report-10K.json\n",
      "Saving metadata to session_1\\metadata.json\n",
      "Processing file: 2024-meta-full-annual-report.pdf 5/10\n",
      "Saving chunks to session_1\\chunks\\2024-meta-full-annual-report.json\n",
      "Saving metadata to session_1\\metadata.json\n",
      "Processing file: 2024-netflix-annual-report-10K.pdf 6/10\n",
      "Saving chunks to session_1\\chunks\\2024-netflix-annual-report-10K.json\n",
      "Saving metadata to session_1\\metadata.json\n",
      "Processing file: 2024-nvidia-annual-report-10K.pdf 7/10\n",
      "Saving chunks to session_1\\chunks\\2024-nvidia-annual-report-10K.json\n",
      "Saving metadata to session_1\\metadata.json\n",
      "Processing file: 2024-oracle-annual-report-10K.pdf 8/10\n",
      "Saving chunks to session_1\\chunks\\2024-oracle-annual-report-10K.json\n",
      "Saving metadata to session_1\\metadata.json\n",
      "Processing file: 2024-reddit-annual-report-10K.pdf 9/10\n",
      "Saving chunks to session_1\\chunks\\2024-reddit-annual-report-10K.json\n",
      "Saving metadata to session_1\\metadata.json\n",
      "Processing file: 2024-tsla-annual-report-10K.pdf 10/10\n",
      "Saving chunks to session_1\\chunks\\2024-tsla-annual-report-10K.json\n",
      "Saving metadata to session_1\\metadata.json\n"
     ]
    }
   ],
   "source": [
    "data_processing(api_key, cfg)"
   ]
  },
  {
   "cell_type": "code",
   "execution_count": 12,
   "metadata": {},
   "outputs": [
    {
     "name": "stdout",
     "output_type": "stream",
     "text": [
      "Generating 1 question for file: 2024-amazon-annual-report-10K.pdf. 1/10\n",
      "Generating 1 question for file: 2024-apple-annual-report-10K.pdf. 2/10\n",
      "Generating 1 question for file: 2024-cisco-full-annual-report.pdf. 3/10\n",
      "Generating 1 question for file: 2024-google-annual-report-10K.pdf. 4/10\n",
      "Generating 1 question for file: 2024-meta-full-annual-report.pdf. 5/10\n",
      "Generating 1 question for file: 2024-netflix-annual-report-10K.pdf. 6/10\n",
      "Generating 1 question for file: 2024-nvidia-annual-report-10K.pdf. 7/10\n",
      "Generating 1 question for file: 2024-oracle-annual-report-10K.pdf. 8/10\n",
      "Generating 1 question for file: 2024-reddit-annual-report-10K.pdf. 9/10\n",
      "Generating 1 question for file: 2024-tsla-annual-report-10K.pdf. 10/10\n",
      "Questions saved to session_1\\questions.csv\n"
     ]
    }
   ],
   "source": [
    "df = question_generator(cfg)"
   ]
  },
  {
   "cell_type": "code",
   "execution_count": 13,
   "metadata": {},
   "outputs": [
    {
     "data": {
      "text/plain": [
       "0                                                                                                                                                                                                             What types of financial statements are included in Amazon's 2024 financial report, as outlined in the document's index to consolidated financial statements?\n",
       "1                                                                                                                                                                       What forward-looking statements are included in Apple Inc.'s Form 10-K for the fiscal year ended September 28, 2024, and how do they relate to potential future impacts on the company's business?\n",
       "2    Based on the provided chunk regarding Cisco Systems’ fiscal year 2024 report, here is a question generated according to your requirements:\\n\\n**How did Cisco Systems’ management and principal officers assess the effectiveness of the company’s disclosure controls and procedures for fiscal year 2024, and what was their conclusion regarding those controls?**\n",
       "3                                                                                  How do evolving and uncertain regulations in areas such as AI, competition, consumer protection, content moderation, data privacy, news, and sustainability impact Alphabet Inc.'s business operations and risks, particularly as reported for the fiscal year ended December 31, 2024?\n",
       "4                                                                                                                                                How does Meta Platforms, Inc. address the limitations and risks associated with forward-looking statements and the use of non-GAAP financial measures in its financial results for the fourth quarter and full year 2024?\n",
       "Name: question, dtype: object"
      ]
     },
     "execution_count": 13,
     "metadata": {},
     "output_type": "execute_result"
    }
   ],
   "source": [
    "df['question'].head()"
   ]
  },
  {
   "cell_type": "markdown",
   "metadata": {},
   "source": [
    "## MODEL 1"
   ]
  },
  {
   "cell_type": "code",
   "execution_count": 14,
   "metadata": {},
   "outputs": [],
   "source": [
    "from user_models.example_1.model import run_qa_pipeline\n",
    "from user_models.createplot import plot\n",
    "from user_models.example_1.qa import create_chain\n",
    "from user_models.evaluate import evaluate_answer"
   ]
  },
  {
   "cell_type": "code",
   "execution_count": 15,
   "metadata": {},
   "outputs": [],
   "source": [
    "MODEL_1_CONFIG = {\n",
    "    \"model_name\": \"model_1\",\n",
    "    \"model_type\": \"faiss\",\n",
    "    \n",
    "    # Data paths\n",
    "    \"pdf_folder\": \"./data\",\n",
    "    \"vector_store_path\": \"faiss_index_open\",\n",
    "    \"questions_file\": \"session_1/questions.csv\",\n",
    "    \"log_file\": \"qa_log_1.csv\",\n",
    "    \"final_output_file\": \"final_1.csv\",\n",
    "    \n",
    "    # Text processing\n",
    "    \"chunk_size\": 5000,\n",
    "    \"chunk_overlap\": 500,\n",
    "    \"text_splitter_type\": \"recursive\",  # \"recursive\" or \"token\"\n",
    "    \"document_loader\": \"pymupdf\",  # \"pymupdf\" or \"pypdf\"\n",
    "    \n",
    "    # Embeddings\n",
    "    \"embedding_model\": \"sentence-transformers/all-mpnet-base-v2\",\n",
    "    \"embedding_type\": \"huggingface\",\n",
    "    \"embedding_device\": \"cpu\",\n",
    "    \"normalize_embeddings\": False,\n",
    "    \n",
    "    # LLM settings\n",
    "    \"llm_model\": \"sonar\",\n",
    "    \"pplx_api_key\": \"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\",\n",
    "    \"temperature\": 0.2,\n",
    "    \n",
    "    # Retrieval settings\n",
    "    \"retriever_k\": 3,\n",
    "    \"use_compression\": False,\n",
    "    \"use_custom_prompt\": False,\n",
    "    \n",
    "    # Processing settings\n",
    "    \"recreate_vector_store\": False,\n",
    "    \"max_retries\": 3\n",
    "}\n",
    "\n",
    "# Model 2 Configuration (Chroma + BGE Embeddings + Compression)\n",
    "MODEL_2_CONFIG = {\n",
    "    \"model_name\": \"model_2\",\n",
    "    \"model_type\": \"chroma\",\n",
    "    \n",
    "    # Data paths\n",
    "    \"pdf_folder\": \"./data\",\n",
    "    \"vector_store_path\": \"chroma_index_finance\",\n",
    "    \"questions_file\": \"session_1/questions.csv\",\n",
    "    \"log_file\": \"qa_log_2.csv\",\n",
    "    \"final_output_file\": \"final_2.csv\",\n",
    "    \n",
    "    # Text processing\n",
    "    \"chunk_size\": 5000,\n",
    "    \"chunk_overlap\": 500,\n",
    "    \"text_splitter_type\": \"token\",\n",
    "    \"document_loader\": \"pypdf\",\n",
    "    \n",
    "    # Embeddings\n",
    "    \"embedding_model\": \"BAAI/bge-base-en\",\n",
    "    \"embedding_type\": \"bge\",\n",
    "    \"embedding_device\": \"cpu\",\n",
    "    \"normalize_embeddings\": True,\n",
    "    \n",
    "    # LLM settings\n",
    "    \"llm_model\": \"sonar\",\n",
    "    \"pplx_api_key\": \"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\",\n",
    "    \"temperature\": 0.2,\n",
    "    \n",
    "    # Retrieval settings\n",
    "    \"retriever_k\": 5,\n",
    "    \"use_compression\": True,\n",
    "    \"use_custom_prompt\": True,\n",
    "    \"custom_prompt\": \"\"\"\n",
    "    You are a professional financial advisor with expertise in corporate finance, investment analysis, and career development in finance-related roles.\n",
    "\n",
    "    Use only the information provided in the context to answer the user's question.\n",
    "    Do not make assumptions or fabricate any details.\n",
    "\n",
    "    Respond clearly and professionally, as if advising a client on their financial career or investment decisions.\n",
    "\n",
    "    {context}\n",
    "\n",
    "    Question: {question}\n",
    "\n",
    "    If the answer is not explicitly stated in the context, respond with: \"I don't know based on the provided document\".\n",
    "    \"\"\",\n",
    "    \n",
    "    # Processing settings\n",
    "    \"recreate_vector_store\": False,\n",
    "    \"max_retries\": 3\n",
    "}"
   ]
  },
  {
   "cell_type": "code",
   "execution_count": 16,
   "metadata": {},
   "outputs": [],
   "source": [
    "from user_models.qa import create_unified_chain\n",
    "from user_models.model import run_qa_pipeline\n",
    "from user_models.evaluate import evaluate_answer\n",
    "from user_models.createplot import plot\n",
    "\n",
    "def run_model_experiment(config, experiment_name=\"\"):\n",
    "    \"\"\"Run experiment with given configuration\"\"\"\n",
    "    \n",
    "    print(f\"\\n{'='*50}\")\n",
    "    print(f\"Running {experiment_name or config['model_name']} Experiment\")\n",
    "    print(f\"{'='*50}\")\n",
    "    \n",
    "    # Create QA chain\n",
    "    qa_chain = create_unified_chain(config)\n",
    "    \n",
    "    # Run pipeline\n",
    "    df, final_df = run_qa_pipeline(\n",
    "        qa_chain=qa_chain,\n",
    "        questions_file=config[\"questions_file\"],\n",
    "        log_file=config[\"log_file\"],\n",
    "        final_output_file=config[\"final_output_file\"],\n",
    "        evaluate_answer_func=evaluate_answer,\n",
    "        max_retries=config[\"max_retries\"]\n",
    "    )\n",
    "    \n",
    "    # Create plots\n",
    "    try:\n",
    "        plot(final_df)\n",
    "        print(f\"Plots created successfully for {config['model_name']}\")\n",
    "    except Exception as e:\n",
    "        print(f\"Error creating plots for {config['model_name']}: {e}\")\n",
    "    \n",
    "    return df, final_df"
   ]
  },
  {
   "cell_type": "code",
   "execution_count": 23,
   "metadata": {},
   "outputs": [
    {
     "name": "stdout",
     "output_type": "stream",
     "text": [
      "\n",
      "==================================================\n",
      "Running Model 1 (FAISS) Experiment\n",
      "==================================================\n",
      "Loading existing vector store for model_1...\n",
      "Vector store loaded from: faiss_index_open\n",
      "Using standard retriever\n",
      "QA chain created successfully for model_1\n",
      "=== Starting QA Pipeline ===\n",
      "Cleared existing log file: qa_log_1.csv\n",
      "Processing 10 questions from session_1/questions.csv\n",
      "Processing question 1/10: What types of financial statements are included in...\n",
      "Processing question 2/10: What forward-looking statements are included in Ap...\n",
      "Processing question 3/10: Based on the provided chunk regarding Cisco System...\n",
      "Processing question 4/10: How do evolving and uncertain regulations in areas...\n",
      "Processing question 5/10: How does Meta Platforms, Inc. address the limitati...\n",
      "Processing question 6/10: What exhibits related to Netflix, Inc.’s fiscal ye...\n",
      "Processing question 7/10: How have new US export control restrictions in 202...\n",
      "Processing question 8/10: What were the key components and figures of Oracle...\n",
      "Processing question 9/10: What risks does Reddit, Inc. identify in its 2024 ...\n",
      "Processing question 10/10: What was the main reason for the increase in net c...\n",
      "Completed processing. Results saved to qa_log_1.csv\n",
      "=== Starting Evaluation ===\n",
      "Evaluating answer 1/10: What types of financial statements are included in...\n",
      "LLM Raw Output: ```json\n",
      "{\n",
      "    \"factual_correctness_score\": 4,\n",
      "    \"completeness_score\": 5,\n",
      "    \"clarity_score\": 5,\n",
      "    \"comments\": \"The model answer is mostly factually correct and comprehensive, but it lacks direct evidence from the document chunk to support the specific financial statements included in Amazon's 2024 financial report. The clarity and completeness are high because the answer provides detailed types of financial statements typically included in such reports.\"\n",
      "}\n",
      "```\n",
      "Retry 1/3 for question: What types of financial statements are included in... due to error: Expecting value: line 1 column 1 (char 0)\n",
      "LLM Raw Output: {\n",
      "  \"factual_correctness_score\": 5,\n",
      "  \"completeness_score\": 5,\n",
      "  \"clarity_score\": 5,\n",
      "  \"comments\": \"The answer accurately lists all key types of financial statements and related reports included in Amazon's 2024 financial report's index to consolidated financial statements, matching the document chunk information completely and clearly.\"\n",
      "}\n",
      "Evaluating answer 2/10: What forward-looking statements are included in Ap...\n",
      "LLM Raw Output: ```json\n",
      "{\n",
      "    \"factual_correctness_score\": 4,\n",
      "    \"completeness_score\": 4,\n",
      "    \"clarity_score\": 5,\n",
      "    \"comments\": \"The model's answer is mostly factually correct and complete, but lacks specific details directly from the document chunk regarding the exact content of Apple's Form 10-K. The clarity is high due to the well-structured and understandable explanation of forward-looking statements and their implications.\"\n",
      "}\n",
      "```\n",
      "Retry 1/3 for question: What forward-looking statements are included in Ap... due to error: Expecting value: line 1 column 1 (char 0)\n",
      "LLM Raw Output: {\n",
      "  \"factual_correctness_score\": 5,\n",
      "  \"completeness_score\": 5,\n",
      "  \"clarity_score\": 5,\n",
      "  \"comments\": \"The answer accurately identifies the sections of Apple Inc.'s Form 10-K that contain forward-looking statements and comprehensively explains the types of risks and uncertainties addressed. It clearly relates these statements to potential future impacts on the business, fully reflecting the document content without factual errors and with clear organization.\"\n",
      "}\n",
      "Evaluating answer 3/10: Based on the provided chunk regarding Cisco System...\n",
      "LLM Raw Output: {\n",
      "    \"factual_correctness_score\": 5,\n",
      "    \"completeness_score\": 4,\n",
      "    \"clarity_score\": 5,\n",
      "    \"comments\": \"The answer is factually correct and clear, but the chunk focuses on internal control over financial reporting, not explicitly on disclosure controls and procedures—hence the slight deduction in completeness.\"\n",
      "}\n",
      "Evaluating answer 4/10: How do evolving and uncertain regulations in areas...\n",
      "LLM Raw Output: {\n",
      "    \"factual_correctness_score\": 5,\n",
      "    \"completeness_score\": 5,\n",
      "    \"clarity_score\": 5,\n",
      "    \"comments\": \"The answer is entirely consistent with the document chunk, covering all key regulatory risks and business impacts on Alphabet, with clear structure and precise detail.\"\n",
      "}\n",
      "Evaluating answer 5/10: How does Meta Platforms, Inc. address the limitati...\n",
      "LLM Raw Output: ```json\n",
      "{\n",
      "    \"factual_correctness_score\": 4,\n",
      "    \"completeness_score\": 5,\n",
      "    \"clarity_score\": 5,\n",
      "    \"comments\": \"The model's answer is mostly accurate and comprehensive, covering how Meta addresses limitations and risks associated with forward-looking statements and non-GAAP measures. However, it slightly overgeneralizes the specifics of where risks and uncertainties are detailed.\"\n",
      "}\n",
      "```\n",
      "Retry 1/3 for question: How does Meta Platforms, Inc. address the limitati... due to error: Expecting value: line 1 column 1 (char 0)\n",
      "LLM Raw Output: {\n",
      "    \"factual_correctness_score\": 4,\n",
      "    \"completeness_score\": 4,\n",
      "    \"clarity_score\": 5,\n",
      "    \"comments\": \"The answer is mostly accurate and complete, but some details (such as the explicit reference to 'Risk Factors', 'Limitations of Key Metrics and Other Data', and 'Management's Discussion and Analysis of Financial Condition and Results of Operations' in the document chunk, and specific non-GAAP reconciliation examples) are not as granularly matched to the provided chunk numbers. It is clear and well-structured.\"\n",
      "}\n",
      "Evaluating answer 6/10: What exhibits related to Netflix, Inc.’s fiscal ye...\n",
      "LLM Raw Output: {\n",
      "    \"factual_correctness_score\": 2,\n",
      "    \"completeness_score\": 2,\n",
      "    \"clarity_score\": 4,\n",
      "    \"comments\": \"The answer claims specific exhibits and certifications not evidenced in the provided document chunk, which only references general or unrelated content.\"\n",
      "}\n",
      "Evaluating answer 7/10: How have new US export control restrictions in 202...\n",
      "LLM Raw Output: ```json\n",
      "{\n",
      "    \"factual_correctness_score\": 4,\n",
      "    \"completeness_score\": 5,\n",
      "    \"clarity_score\": 5,\n",
      "    \"comments\": \"The model's answer is mostly factually correct, fully complete, and clear, though it mentions some impacts not explicitly stated in the provided search results. Minor inaccuracies include specific details about competitors and market shares not directly mentioned in the search results.\"\n",
      "}\n",
      "```\n",
      "Retry 1/3 for question: How have new US export control restrictions in 202... due to error: Expecting value: line 1 column 1 (char 0)\n",
      "LLM Raw Output: ```json\n",
      "{\n",
      "    \"factual_correctness_score\": 5,\n",
      "    \"completeness_score\": 5,\n",
      "    \"clarity_score\": 5,\n",
      "    \"comments\": \"The model answer is factually correct, complete, and clear, providing detailed insights into how US export controls have impacted NVIDIA's competitive position and future business risks. It effectively summarizes key points consistent with the provided information.\"\n",
      "}\n",
      "```\n",
      "Retry 2/3 for question: How have new US export control restrictions in 202... due to error: Expecting value: line 1 column 1 (char 0)\n",
      "LLM Raw Output: ```json\n",
      "{\n",
      "    \"factual_correctness_score\": 5,\n",
      "    \"completeness_score\": 5,\n",
      "    \"clarity_score\": 5,\n",
      "    \"comments\": \"The answer accurately reflects the impact of new US export control restrictions on NVIDIA's competitive position and highlights specific risks and challenges for its future business, particularly in the China market. The clarity and completeness of the response effectively address the question.\"\n",
      "}\n",
      "```\n",
      "Retry 3/3 for question: How have new US export control restrictions in 202... due to error: Expecting value: line 1 column 1 (char 0)\n",
      "Failed to evaluate after 3 retries. Using default values.\n",
      "Evaluating answer 8/10: What were the key components and figures of Oracle...\n",
      "LLM Raw Output: ```json\n",
      "{\n",
      "    \"factual_correctness_score\": 3,\n",
      "    \"completeness_score\": 4,\n",
      "    \"clarity_score\": 5,\n",
      "    \"comments\": \"The model answer is mostly clear and complete, but it includes some figures and details (e.g., purchases of marketable securities, capital expenditures) not explicitly mentioned in the provided search results. The clarity remains high due to its well-structured format.\"\n",
      "}\n",
      "```\n",
      "Retry 1/3 for question: What were the key components and figures of Oracle... due to error: Expecting value: line 1 column 1 (char 0)\n",
      "LLM Raw Output: ```json\n",
      "{\n",
      "    \"factual_correctness_score\": 4,\n",
      "    \"completeness_score\": 4,\n",
      "    \"clarity_score\": 5,\n",
      "    \"comments\": \"The model answer is mostly correct and clear, but it lacks specific details about investing activities and financing activities found in the document chunk. It provides a good overview of the cash flow but could be more detailed.\"\n",
      "}\n",
      "```\n",
      "Retry 2/3 for question: What were the key components and figures of Oracle... due to error: Expecting value: line 1 column 1 (char 0)\n",
      "LLM Raw Output: {\n",
      "  \"factual_correctness_score\": 5,\n",
      "  \"completeness_score\": 5,\n",
      "  \"clarity_score\": 5,\n",
      "  \"comments\": \"The answer accurately presents detailed figures for Oracle's net income, operating cash flows, investing activities, and financing activities for fiscal year ended May 31, 2024, exactly as per the document chunk and supplementary data. It includes all key components requested and is clearly and logically organized.\"\n",
      "}\n",
      "Evaluating answer 9/10: What risks does Reddit, Inc. identify in its 2024 ...\n",
      "LLM Raw Output: {\n",
      "  \"factual_correctness_score\": 5,\n",
      "  \"completeness_score\": 5,\n",
      "  \"clarity_score\": 5,\n",
      "  \"comments\": \"The answer accurately describes the risks related to Reddit's dependency on senior management and key employees, including CEO Steven Huffman, without incorrectly attributing unique risks solely to him. It covers all relevant risk areas mentioned in the document chunk, such as growth management, corporate culture, dependency on key personnel, and mission-driven decisions, and presents the information clearly and comprehensively.\"\n",
      "}\n",
      "Evaluating answer 10/10: What was the main reason for the increase in net c...\n",
      "LLM Raw Output: {\n",
      "    \"factual_correctness_score\": 4,\n",
      "    \"completeness_score\": 4,\n",
      "    \"clarity_score\": 5,\n",
      "    \"comments\": \"The answer is mostly correct and clearly stated, but the specific figures for favorable changes in net operating assets and liabilities ($2.29B) and decrease in net income excluding non-cash expenses ($623M) are not found in the referenced document chunk, and contradict the actual reported narrative (which highlights a $1.67B increase in operating cash flow driven more generally by factors like working capital management rather than specific line items[2][5]).\"\n",
      "}\n",
      "Saved final results to final_1.csv\n"
     ]
    },
    {
     "data": {
      "application/vnd.plotly.v1+json": {
       "config": {
        "plotlyServerURL": "https://plot.ly"
       },
       "data": [
        {
         "alignmentgroup": "True",
         "boxpoints": "all",
         "customdata": [
          [
           "What types of financial statements are included in Amazon's 2024 financial report, as outlined in the document's index to consolidated financial statements?"
          ],
          [
           "What forward-looking statements are included in Apple Inc.'s Form 10-K for the fiscal year ended September 28, 2024, and how do they relate to potential future impacts on the company's business?"
          ],
          [
           "Based on the provided chunk regarding Cisco Systems’ fiscal year 2024 report, here is a question generated according to your requirements:\n\n**How did Cisco Systems’ management and principal officers assess the effectiveness of the company’s disclosure controls and procedures for fiscal year 2024, and what was their conclusion regarding those controls?**"
          ],
          [
           "How do evolving and uncertain regulations in areas such as AI, competition, consumer protection, content moderation, data privacy, news, and sustainability impact Alphabet Inc.'s business operations and risks, particularly as reported for the fiscal year ended December 31, 2024?"
          ],
          [
           "How does Meta Platforms, Inc. address the limitations and risks associated with forward-looking statements and the use of non-GAAP financial measures in its financial results for the fourth quarter and full year 2024?"
          ],
          [
           "What exhibits related to Netflix, Inc.’s fiscal year ended December 31, 2024, are included in the annual report, and what types of certifications and plans are filed with the SEC as part of this report?"
          ],
          [
           "What were the key components and figures of Oracle Corporation's consolidated statements of cash flows for the fiscal year ended May 31, 2024, including net income, operating cash flows, investing activities, and financing activities?"
          ],
          [
           "What risks does Reddit, Inc. identify in its 2024 fiscal year report related to the dependency on its senior management team and key employees, particularly concerning CEO Steven Huffman?"
          ],
          [
           "What was the main reason for the increase in net cash provided by operating activities for Tesla, Inc. during the fiscal year ended December 31, 2024?"
          ],
          [
           "What types of financial statements are included in Amazon's 2024 financial report, as outlined in the document's index to consolidated financial statements?"
          ],
          [
           "What forward-looking statements are included in Apple Inc.'s Form 10-K for the fiscal year ended September 28, 2024, and how do they relate to potential future impacts on the company's business?"
          ],
          [
           "Based on the provided chunk regarding Cisco Systems’ fiscal year 2024 report, here is a question generated according to your requirements:\n\n**How did Cisco Systems’ management and principal officers assess the effectiveness of the company’s disclosure controls and procedures for fiscal year 2024, and what was their conclusion regarding those controls?**"
          ],
          [
           "How do evolving and uncertain regulations in areas such as AI, competition, consumer protection, content moderation, data privacy, news, and sustainability impact Alphabet Inc.'s business operations and risks, particularly as reported for the fiscal year ended December 31, 2024?"
          ],
          [
           "How does Meta Platforms, Inc. address the limitations and risks associated with forward-looking statements and the use of non-GAAP financial measures in its financial results for the fourth quarter and full year 2024?"
          ],
          [
           "What exhibits related to Netflix, Inc.’s fiscal year ended December 31, 2024, are included in the annual report, and what types of certifications and plans are filed with the SEC as part of this report?"
          ],
          [
           "What were the key components and figures of Oracle Corporation's consolidated statements of cash flows for the fiscal year ended May 31, 2024, including net income, operating cash flows, investing activities, and financing activities?"
          ],
          [
           "What risks does Reddit, Inc. identify in its 2024 fiscal year report related to the dependency on its senior management team and key employees, particularly concerning CEO Steven Huffman?"
          ],
          [
           "What was the main reason for the increase in net cash provided by operating activities for Tesla, Inc. during the fiscal year ended December 31, 2024?"
          ],
          [
           "What types of financial statements are included in Amazon's 2024 financial report, as outlined in the document's index to consolidated financial statements?"
          ],
          [
           "What forward-looking statements are included in Apple Inc.'s Form 10-K for the fiscal year ended September 28, 2024, and how do they relate to potential future impacts on the company's business?"
          ],
          [
           "Based on the provided chunk regarding Cisco Systems’ fiscal year 2024 report, here is a question generated according to your requirements:\n\n**How did Cisco Systems’ management and principal officers assess the effectiveness of the company’s disclosure controls and procedures for fiscal year 2024, and what was their conclusion regarding those controls?**"
          ],
          [
           "How do evolving and uncertain regulations in areas such as AI, competition, consumer protection, content moderation, data privacy, news, and sustainability impact Alphabet Inc.'s business operations and risks, particularly as reported for the fiscal year ended December 31, 2024?"
          ],
          [
           "How does Meta Platforms, Inc. address the limitations and risks associated with forward-looking statements and the use of non-GAAP financial measures in its financial results for the fourth quarter and full year 2024?"
          ],
          [
           "What exhibits related to Netflix, Inc.’s fiscal year ended December 31, 2024, are included in the annual report, and what types of certifications and plans are filed with the SEC as part of this report?"
          ],
          [
           "What were the key components and figures of Oracle Corporation's consolidated statements of cash flows for the fiscal year ended May 31, 2024, including net income, operating cash flows, investing activities, and financing activities?"
          ],
          [
           "What risks does Reddit, Inc. identify in its 2024 fiscal year report related to the dependency on its senior management team and key employees, particularly concerning CEO Steven Huffman?"
          ],
          [
           "What was the main reason for the increase in net cash provided by operating activities for Tesla, Inc. during the fiscal year ended December 31, 2024?"
          ],
          [
           "What types of financial statements are included in Amazon's 2024 financial report, as outlined in the document's index to consolidated financial statements?"
          ],
          [
           "What forward-looking statements are included in Apple Inc.'s Form 10-K for the fiscal year ended September 28, 2024, and how do they relate to potential future impacts on the company's business?"
          ],
          [
           "Based on the provided chunk regarding Cisco Systems’ fiscal year 2024 report, here is a question generated according to your requirements:\n\n**How did Cisco Systems’ management and principal officers assess the effectiveness of the company’s disclosure controls and procedures for fiscal year 2024, and what was their conclusion regarding those controls?**"
          ],
          [
           "How do evolving and uncertain regulations in areas such as AI, competition, consumer protection, content moderation, data privacy, news, and sustainability impact Alphabet Inc.'s business operations and risks, particularly as reported for the fiscal year ended December 31, 2024?"
          ],
          [
           "How does Meta Platforms, Inc. address the limitations and risks associated with forward-looking statements and the use of non-GAAP financial measures in its financial results for the fourth quarter and full year 2024?"
          ],
          [
           "What exhibits related to Netflix, Inc.’s fiscal year ended December 31, 2024, are included in the annual report, and what types of certifications and plans are filed with the SEC as part of this report?"
          ],
          [
           "What were the key components and figures of Oracle Corporation's consolidated statements of cash flows for the fiscal year ended May 31, 2024, including net income, operating cash flows, investing activities, and financing activities?"
          ],
          [
           "What risks does Reddit, Inc. identify in its 2024 fiscal year report related to the dependency on its senior management team and key employees, particularly concerning CEO Steven Huffman?"
          ],
          [
           "What was the main reason for the increase in net cash provided by operating activities for Tesla, Inc. during the fiscal year ended December 31, 2024?"
          ]
         ],
         "hovertemplate": "Metric=%{x}<br>Score=%{y}<br>question=%{customdata[0]}<extra></extra>",
         "legendgroup": "",
         "marker": {
          "color": "#636efa"
         },
         "name": "",
         "notched": false,
         "offsetgroup": "",
         "orientation": "v",
         "showlegend": false,
         "type": "box",
         "x": [
          "Factual Correctness",
          "Factual Correctness",
          "Factual Correctness",
          "Factual Correctness",
          "Factual Correctness",
          "Factual Correctness",
          "Factual Correctness",
          "Factual Correctness",
          "Factual Correctness",
          "Completeness",
          "Completeness",
          "Completeness",
          "Completeness",
          "Completeness",
          "Completeness",
          "Completeness",
          "Completeness",
          "Completeness",
          "Clarity",
          "Clarity",
          "Clarity",
          "Clarity",
          "Clarity",
          "Clarity",
          "Clarity",
          "Clarity",
          "Clarity",
          "Overall",
          "Overall",
          "Overall",
          "Overall",
          "Overall",
          "Overall",
          "Overall",
          "Overall",
          "Overall"
         ],
         "x0": " ",
         "xaxis": "x",
         "y": {
          "bdata": "AAAAAAAAFEAAAAAAAAAUQAAAAAAAABRAAAAAAAAAFEAAAAAAAAAQQAAAAAAAAABAAAAAAAAAFEAAAAAAAAAUQAAAAAAAABBAAAAAAAAAFEAAAAAAAAAUQAAAAAAAABBAAAAAAAAAFEAAAAAAAAAQQAAAAAAAAABAAAAAAAAAFEAAAAAAAAAUQAAAAAAAABBAAAAAAAAAFEAAAAAAAAAUQAAAAAAAABRAAAAAAAAAFEAAAAAAAAAUQAAAAAAAABBAAAAAAAAAFEAAAAAAAAAUQAAAAAAAABRAAAAAAAAAFEAAAAAAAAAUQKuqqqqqqhJAAAAAAAAAFEBVVVVVVVURQFVVVVVVVQVAAAAAAAAAFEAAAAAAAAAUQFVVVVVVVRFA",
          "dtype": "f8"
         },
         "y0": " ",
         "yaxis": "y"
        }
       ],
       "layout": {
        "boxmode": "group",
        "height": 500,
        "legend": {
         "tracegroupgap": 0
        },
        "template": {
         "data": {
          "bar": [
           {
            "error_x": {
             "color": "#2a3f5f"
            },
            "error_y": {
             "color": "#2a3f5f"
            },
            "marker": {
             "line": {
              "color": "#E5ECF6",
              "width": 0.5
             },
             "pattern": {
              "fillmode": "overlay",
              "size": 10,
              "solidity": 0.2
             }
            },
            "type": "bar"
           }
          ],
          "barpolar": [
           {
            "marker": {
             "line": {
              "color": "#E5ECF6",
              "width": 0.5
             },
             "pattern": {
              "fillmode": "overlay",
              "size": 10,
              "solidity": 0.2
             }
            },
            "type": "barpolar"
           }
          ],
          "carpet": [
           {
            "aaxis": {
             "endlinecolor": "#2a3f5f",
             "gridcolor": "white",
             "linecolor": "white",
             "minorgridcolor": "white",
             "startlinecolor": "#2a3f5f"
            },
            "baxis": {
             "endlinecolor": "#2a3f5f",
             "gridcolor": "white",
             "linecolor": "white",
             "minorgridcolor": "white",
             "startlinecolor": "#2a3f5f"
            },
            "type": "carpet"
           }
          ],
          "choropleth": [
           {
            "colorbar": {
             "outlinewidth": 0,
             "ticks": ""
            },
            "type": "choropleth"
           }
          ],
          "contour": [
           {
            "colorbar": {
             "outlinewidth": 0,
             "ticks": ""
            },
            "colorscale": [
             [
              0,
              "#0d0887"
             ],
             [
              0.1111111111111111,
              "#46039f"
             ],
             [
              0.2222222222222222,
              "#7201a8"
             ],
             [
              0.3333333333333333,
              "#9c179e"
             ],
             [
              0.4444444444444444,
              "#bd3786"
             ],
             [
              0.5555555555555556,
              "#d8576b"
             ],
             [
              0.6666666666666666,
              "#ed7953"
             ],
             [
              0.7777777777777778,
              "#fb9f3a"
             ],
             [
              0.8888888888888888,
              "#fdca26"
             ],
             [
              1,
              "#f0f921"
             ]
            ],
            "type": "contour"
           }
          ],
          "contourcarpet": [
           {
            "colorbar": {
             "outlinewidth": 0,
             "ticks": ""
            },
            "type": "contourcarpet"
           }
          ],
          "heatmap": [
           {
            "colorbar": {
             "outlinewidth": 0,
             "ticks": ""
            },
            "colorscale": [
             [
              0,
              "#0d0887"
             ],
             [
              0.1111111111111111,
              "#46039f"
             ],
             [
              0.2222222222222222,
              "#7201a8"
             ],
             [
              0.3333333333333333,
              "#9c179e"
             ],
             [
              0.4444444444444444,
              "#bd3786"
             ],
             [
              0.5555555555555556,
              "#d8576b"
             ],
             [
              0.6666666666666666,
              "#ed7953"
             ],
             [
              0.7777777777777778,
              "#fb9f3a"
             ],
             [
              0.8888888888888888,
              "#fdca26"
             ],
             [
              1,
              "#f0f921"
             ]
            ],
            "type": "heatmap"
           }
          ],
          "histogram": [
           {
            "marker": {
             "pattern": {
              "fillmode": "overlay",
              "size": 10,
              "solidity": 0.2
             }
            },
            "type": "histogram"
           }
          ],
          "histogram2d": [
           {
            "colorbar": {
             "outlinewidth": 0,
             "ticks": ""
            },
            "colorscale": [
             [
              0,
              "#0d0887"
             ],
             [
              0.1111111111111111,
              "#46039f"
             ],
             [
              0.2222222222222222,
              "#7201a8"
             ],
             [
              0.3333333333333333,
              "#9c179e"
             ],
             [
              0.4444444444444444,
              "#bd3786"
             ],
             [
              0.5555555555555556,
              "#d8576b"
             ],
             [
              0.6666666666666666,
              "#ed7953"
             ],
             [
              0.7777777777777778,
              "#fb9f3a"
             ],
             [
              0.8888888888888888,
              "#fdca26"
             ],
             [
              1,
              "#f0f921"
             ]
            ],
            "type": "histogram2d"
           }
          ],
          "histogram2dcontour": [
           {
            "colorbar": {
             "outlinewidth": 0,
             "ticks": ""
            },
            "colorscale": [
             [
              0,
              "#0d0887"
             ],
             [
              0.1111111111111111,
              "#46039f"
             ],
             [
              0.2222222222222222,
              "#7201a8"
             ],
             [
              0.3333333333333333,
              "#9c179e"
             ],
             [
              0.4444444444444444,
              "#bd3786"
             ],
             [
              0.5555555555555556,
              "#d8576b"
             ],
             [
              0.6666666666666666,
              "#ed7953"
             ],
             [
              0.7777777777777778,
              "#fb9f3a"
             ],
             [
              0.8888888888888888,
              "#fdca26"
             ],
             [
              1,
              "#f0f921"
             ]
            ],
            "type": "histogram2dcontour"
           }
          ],
          "mesh3d": [
           {
            "colorbar": {
             "outlinewidth": 0,
             "ticks": ""
            },
            "type": "mesh3d"
           }
          ],
          "parcoords": [
           {
            "line": {
             "colorbar": {
              "outlinewidth": 0,
              "ticks": ""
             }
            },
            "type": "parcoords"
           }
          ],
          "pie": [
           {
            "automargin": true,
            "type": "pie"
           }
          ],
          "scatter": [
           {
            "fillpattern": {
             "fillmode": "overlay",
             "size": 10,
             "solidity": 0.2
            },
            "type": "scatter"
           }
          ],
          "scatter3d": [
           {
            "line": {
             "colorbar": {
              "outlinewidth": 0,
              "ticks": ""
             }
            },
            "marker": {
             "colorbar": {
              "outlinewidth": 0,
              "ticks": ""
             }
            },
            "type": "scatter3d"
           }
          ],
          "scattercarpet": [
           {
            "marker": {
             "colorbar": {
              "outlinewidth": 0,
              "ticks": ""
             }
            },
            "type": "scattercarpet"
           }
          ],
          "scattergeo": [
           {
            "marker": {
             "colorbar": {
              "outlinewidth": 0,
              "ticks": ""
             }
            },
            "type": "scattergeo"
           }
          ],
          "scattergl": [
           {
            "marker": {
             "colorbar": {
              "outlinewidth": 0,
              "ticks": ""
             }
            },
            "type": "scattergl"
           }
          ],
          "scattermap": [
           {
            "marker": {
             "colorbar": {
              "outlinewidth": 0,
              "ticks": ""
             }
            },
            "type": "scattermap"
           }
          ],
          "scattermapbox": [
           {
            "marker": {
             "colorbar": {
              "outlinewidth": 0,
              "ticks": ""
             }
            },
            "type": "scattermapbox"
           }
          ],
          "scatterpolar": [
           {
            "marker": {
             "colorbar": {
              "outlinewidth": 0,
              "ticks": ""
             }
            },
            "type": "scatterpolar"
           }
          ],
          "scatterpolargl": [
           {
            "marker": {
             "colorbar": {
              "outlinewidth": 0,
              "ticks": ""
             }
            },
            "type": "scatterpolargl"
           }
          ],
          "scatterternary": [
           {
            "marker": {
             "colorbar": {
              "outlinewidth": 0,
              "ticks": ""
             }
            },
            "type": "scatterternary"
           }
          ],
          "surface": [
           {
            "colorbar": {
             "outlinewidth": 0,
             "ticks": ""
            },
            "colorscale": [
             [
              0,
              "#0d0887"
             ],
             [
              0.1111111111111111,
              "#46039f"
             ],
             [
              0.2222222222222222,
              "#7201a8"
             ],
             [
              0.3333333333333333,
              "#9c179e"
             ],
             [
              0.4444444444444444,
              "#bd3786"
             ],
             [
              0.5555555555555556,
              "#d8576b"
             ],
             [
              0.6666666666666666,
              "#ed7953"
             ],
             [
              0.7777777777777778,
              "#fb9f3a"
             ],
             [
              0.8888888888888888,
              "#fdca26"
             ],
             [
              1,
              "#f0f921"
             ]
            ],
            "type": "surface"
           }
          ],
          "table": [
           {
            "cells": {
             "fill": {
              "color": "#EBF0F8"
             },
             "line": {
              "color": "white"
             }
            },
            "header": {
             "fill": {
              "color": "#C8D4E3"
             },
             "line": {
              "color": "white"
             }
            },
            "type": "table"
           }
          ]
         },
         "layout": {
          "annotationdefaults": {
           "arrowcolor": "#2a3f5f",
           "arrowhead": 0,
           "arrowwidth": 1
          },
          "autotypenumbers": "strict",
          "coloraxis": {
           "colorbar": {
            "outlinewidth": 0,
            "ticks": ""
           }
          },
          "colorscale": {
           "diverging": [
            [
             0,
             "#8e0152"
            ],
            [
             0.1,
             "#c51b7d"
            ],
            [
             0.2,
             "#de77ae"
            ],
            [
             0.3,
             "#f1b6da"
            ],
            [
             0.4,
             "#fde0ef"
            ],
            [
             0.5,
             "#f7f7f7"
            ],
            [
             0.6,
             "#e6f5d0"
            ],
            [
             0.7,
             "#b8e186"
            ],
            [
             0.8,
             "#7fbc41"
            ],
            [
             0.9,
             "#4d9221"
            ],
            [
             1,
             "#276419"
            ]
           ],
           "sequential": [
            [
             0,
             "#0d0887"
            ],
            [
             0.1111111111111111,
             "#46039f"
            ],
            [
             0.2222222222222222,
             "#7201a8"
            ],
            [
             0.3333333333333333,
             "#9c179e"
            ],
            [
             0.4444444444444444,
             "#bd3786"
            ],
            [
             0.5555555555555556,
             "#d8576b"
            ],
            [
             0.6666666666666666,
             "#ed7953"
            ],
            [
             0.7777777777777778,
             "#fb9f3a"
            ],
            [
             0.8888888888888888,
             "#fdca26"
            ],
            [
             1,
             "#f0f921"
            ]
           ],
           "sequentialminus": [
            [
             0,
             "#0d0887"
            ],
            [
             0.1111111111111111,
             "#46039f"
            ],
            [
             0.2222222222222222,
             "#7201a8"
            ],
            [
             0.3333333333333333,
             "#9c179e"
            ],
            [
             0.4444444444444444,
             "#bd3786"
            ],
            [
             0.5555555555555556,
             "#d8576b"
            ],
            [
             0.6666666666666666,
             "#ed7953"
            ],
            [
             0.7777777777777778,
             "#fb9f3a"
            ],
            [
             0.8888888888888888,
             "#fdca26"
            ],
            [
             1,
             "#f0f921"
            ]
           ]
          },
          "colorway": [
           "#636efa",
           "#EF553B",
           "#00cc96",
           "#ab63fa",
           "#FFA15A",
           "#19d3f3",
           "#FF6692",
           "#B6E880",
           "#FF97FF",
           "#FECB52"
          ],
          "font": {
           "color": "#2a3f5f"
          },
          "geo": {
           "bgcolor": "white",
           "lakecolor": "white",
           "landcolor": "#E5ECF6",
           "showlakes": true,
           "showland": true,
           "subunitcolor": "white"
          },
          "hoverlabel": {
           "align": "left"
          },
          "hovermode": "closest",
          "mapbox": {
           "style": "light"
          },
          "paper_bgcolor": "white",
          "plot_bgcolor": "#E5ECF6",
          "polar": {
           "angularaxis": {
            "gridcolor": "white",
            "linecolor": "white",
            "ticks": ""
           },
           "bgcolor": "#E5ECF6",
           "radialaxis": {
            "gridcolor": "white",
            "linecolor": "white",
            "ticks": ""
           }
          },
          "scene": {
           "xaxis": {
            "backgroundcolor": "#E5ECF6",
            "gridcolor": "white",
            "gridwidth": 2,
            "linecolor": "white",
            "showbackground": true,
            "ticks": "",
            "zerolinecolor": "white"
           },
           "yaxis": {
            "backgroundcolor": "#E5ECF6",
            "gridcolor": "white",
            "gridwidth": 2,
            "linecolor": "white",
            "showbackground": true,
            "ticks": "",
            "zerolinecolor": "white"
           },
           "zaxis": {
            "backgroundcolor": "#E5ECF6",
            "gridcolor": "white",
            "gridwidth": 2,
            "linecolor": "white",
            "showbackground": true,
            "ticks": "",
            "zerolinecolor": "white"
           }
          },
          "shapedefaults": {
           "line": {
            "color": "#2a3f5f"
           }
          },
          "ternary": {
           "aaxis": {
            "gridcolor": "white",
            "linecolor": "white",
            "ticks": ""
           },
           "baxis": {
            "gridcolor": "white",
            "linecolor": "white",
            "ticks": ""
           },
           "bgcolor": "#E5ECF6",
           "caxis": {
            "gridcolor": "white",
            "linecolor": "white",
            "ticks": ""
           }
          },
          "title": {
           "x": 0.05
          },
          "xaxis": {
           "automargin": true,
           "gridcolor": "white",
           "linecolor": "white",
           "ticks": "",
           "title": {
            "standoff": 15
           },
           "zerolinecolor": "white",
           "zerolinewidth": 2
          },
          "yaxis": {
           "automargin": true,
           "gridcolor": "white",
           "linecolor": "white",
           "ticks": "",
           "title": {
            "standoff": 15
           },
           "zerolinecolor": "white",
           "zerolinewidth": 2
          }
         }
        },
        "title": {
         "text": "Score Distributions per Metric (with Overall Score)"
        },
        "xaxis": {
         "anchor": "y",
         "domain": [
          0,
          1
         ],
         "title": {
          "text": "Metric"
         }
        },
        "yaxis": {
         "anchor": "x",
         "domain": [
          0,
          1
         ],
         "dtick": 1,
         "range": [
          0,
          6
         ],
         "title": {
          "text": "Score (1-5)"
         }
        }
       }
      }
     },
     "metadata": {},
     "output_type": "display_data"
    },
    {
     "name": "stdout",
     "output_type": "stream",
     "text": [
      "Plots created successfully for model_1\n",
      "\n",
      "==================================================\n",
      "Running Model 2 (Chroma) Experiment\n",
      "==================================================\n",
      "Loading existing vector store for model_2...\n"
     ]
    },
    {
     "name": "stderr",
     "output_type": "stream",
     "text": [
      "c:\\Users\\alice\\perplexity_hack\\user_models\\qa.py:98: LangChainDeprecationWarning:\n",
      "\n",
      "The class `Chroma` was deprecated in LangChain 0.2.9 and will be removed in 1.0. An updated version of the class exists in the :class:`~langchain-chroma package and should be used instead. To use it run `pip install -U :class:`~langchain-chroma` and import as `from :class:`~langchain_chroma import Chroma``.\n",
      "\n"
     ]
    },
    {
     "name": "stdout",
     "output_type": "stream",
     "text": [
      "Vector store loaded from: chroma_index_finance\n",
      "Using compression retriever\n",
      "Using custom prompt template\n",
      "QA chain created successfully for model_2\n",
      "=== Starting QA Pipeline ===\n",
      "Cleared existing log file: qa_log_2.csv\n",
      "Processing 10 questions from session_1/questions.csv\n",
      "Processing question 1/10: What types of financial statements are included in...\n",
      "Processing question 2/10: What forward-looking statements are included in Ap...\n",
      "Processing question 3/10: Based on the provided chunk regarding Cisco System...\n",
      "Processing question 4/10: How do evolving and uncertain regulations in areas...\n",
      "Processing question 5/10: How does Meta Platforms, Inc. address the limitati...\n",
      "Processing question 6/10: What exhibits related to Netflix, Inc.’s fiscal ye...\n",
      "Processing question 7/10: How have new US export control restrictions in 202...\n",
      "Processing question 8/10: What were the key components and figures of Oracle...\n",
      "Processing question 9/10: What risks does Reddit, Inc. identify in its 2024 ...\n",
      "Processing question 10/10: What was the main reason for the increase in net c...\n",
      "Completed processing. Results saved to qa_log_2.csv\n",
      "=== Starting Evaluation ===\n",
      "Evaluating answer 1/10: What types of financial statements are included in...\n",
      "LLM Raw Output: ```json\n",
      "{\n",
      "    \"factual_correctness_score\": 5,\n",
      "    \"completeness_score\": 5,\n",
      "    \"clarity_score\": 5,\n",
      "    \"comments\": \"The model's answer is factually correct, complete, and clear, aligning well with typical financial reporting standards. However, it lacks direct confirmation from the provided document chunk, which is presumed based on standard financial reporting practices.\"\n",
      "}\n",
      "```\n",
      "Retry 1/3 for question: What types of financial statements are included in... due to error: Expecting value: line 1 column 1 (char 0)\n",
      "LLM Raw Output: ```json\n",
      "{\n",
      "    \"factual_correctness_score\": 5,\n",
      "    \"completeness_score\": 5,\n",
      "    \"clarity_score\": 5,\n",
      "    \"comments\": \"The model answer accurately lists the types of financial statements included in Amazon's 2024 financial report, aligning with standard financial reporting requirements. The answer is complete and clear, though it does not directly reference the document chunk index.\"\n",
      "}\n",
      "```\n",
      "Retry 2/3 for question: What types of financial statements are included in... due to error: Expecting value: line 1 column 1 (char 0)\n",
      "LLM Raw Output: ```json\n",
      "{\n",
      "    \"factual_correctness_score\": 5,\n",
      "    \"completeness_score\": 5,\n",
      "    \"clarity_score\": 5,\n",
      "    \"comments\": \"The model’s answer accurately lists the types of financial statements included in Amazon's 2024 financial report, aligning with standard financial reporting requirements, and is both comprehensive and clear.\"\n",
      "}\n",
      "```\n",
      "Retry 3/3 for question: What types of financial statements are included in... due to error: Expecting value: line 1 column 1 (char 0)\n",
      "Failed to evaluate after 3 retries. Using default values.\n",
      "Evaluating answer 2/10: What forward-looking statements are included in Ap...\n",
      "LLM Raw Output: ```json\n",
      "{\n",
      "    \"factual_correctness_score\": 3,\n",
      "    \"completeness_score\": 2,\n",
      "    \"clarity_score\": 4,\n",
      "    \"comments\": \"The model answer is generally clear and mentions where forward-looking statements are typically found, but it lacks specific details from the document chunk and does not fully address potential future impacts on Apple's business.\"\n",
      "}\n",
      "```\n",
      "Retry 1/3 for question: What forward-looking statements are included in Ap... due to error: Expecting value: line 1 column 1 (char 0)\n",
      "LLM Raw Output: ```json\n",
      "{\n",
      "    \"factual_correctness_score\": 3,\n",
      "    \"completeness_score\": 2,\n",
      "    \"clarity_score\": 5,\n",
      "    \"comments\": \"The model answer is factually correct in noting that forward-looking statements are typically found in specific sections of the Form 10-K but lacks detailed information from the document chunk. It is clear and well-phrased but does not fully answer the question about specific statements and their impact.\"\n",
      "}\n",
      "```\n",
      "Retry 2/3 for question: What forward-looking statements are included in Ap... due to error: Expecting value: line 1 column 1 (char 0)\n",
      "LLM Raw Output: {\n",
      "    \"factual_correctness_score\": 5,\n",
      "    \"completeness_score\": 4,\n",
      "    \"clarity_score\": 5,\n",
      "    \"comments\": \"The answer correctly states that the chunk does not include specific forward-looking statements and accurately explains where such statements are typically found and what they involve, but could note the absence of explicit content in the chunk itself.\"\n",
      "}\n",
      "Evaluating answer 3/10: Based on the provided chunk regarding Cisco System...\n",
      "LLM Raw Output: {\n",
      "    \"factual_correctness_score\": 1,\n",
      "    \"completeness_score\": 1,\n",
      "    \"clarity_score\": 1,\n",
      "    \"comments\": \"The model incorrectly states it does not know, while the chunk contains information about Cisco's internal controls and disclosure oversight, and is required to be read in conjunction with financial statements and notes[1][5]. The answer fails to address the question or extract relevant details.\"\n",
      "}\n",
      "Evaluating answer 4/10: How do evolving and uncertain regulations in areas...\n",
      "LLM Raw Output: ```json\n",
      "{\n",
      "    \"factual_correctness_score\": 3,\n",
      "    \"completeness_score\": 4,\n",
      "    \"clarity_score\": 5,\n",
      "    \"comments\": \"The model's answer is mostly factually correct but includes some assumptions not supported by the document chunk. It is mostly complete but lacks direct references to specific regulations from the chunk. The clarity is high due to well-structured explanations.\"\n",
      "}\n",
      "```\n",
      "Retry 1/3 for question: How do evolving and uncertain regulations in areas... due to error: Expecting value: line 1 column 1 (char 0)\n",
      "LLM Raw Output: ```json\n",
      "{\n",
      "    \"factual_correctness_score\": 4,\n",
      "    \"completeness_score\": 4,\n",
      "    \"clarity_score\": 5,\n",
      "    \"comments\": \"The model's answer is mostly factually correct and complete, but it lacks specific details from the fiscal year 2024 report. It provides a clear and well-structured overview of the impact of evolving regulations on Alphabet Inc.\"\n",
      "}\n",
      "```\n",
      "Retry 2/3 for question: How do evolving and uncertain regulations in areas... due to error: Expecting value: line 1 column 1 (char 0)\n",
      "LLM Raw Output: ```json\n",
      "{\n",
      "    \"factual_correctness_score\": 3,\n",
      "    \"completeness_score\": 3,\n",
      "    \"clarity_score\": 5,\n",
      "    \"comments\": \"The model answer provides a clear overview of how evolving regulations impact Alphabet Inc., but it lacks specific details directly from the document chunk. It also includes hypothetical scenarios not directly supported by the chunk. The answer is well-structured and easy to understand.\"\n",
      "}\n",
      "```\n",
      "Retry 3/3 for question: How do evolving and uncertain regulations in areas... due to error: Expecting value: line 1 column 1 (char 0)\n",
      "Failed to evaluate after 3 retries. Using default values.\n",
      "Evaluating answer 5/10: How does Meta Platforms, Inc. address the limitati...\n",
      "LLM Raw Output: ```json\n",
      "{\n",
      "    \"factual_correctness_score\": 3,\n",
      "    \"completeness_score\": 3,\n",
      "    \"clarity_score\": 5,\n",
      "    \"comments\": \"The model's answer is clear and well-phrased, but it lacks specific details about how Meta addresses limitations and risks, and it does not provide factual support from the document chunk. It correctly suggests consulting official SEC filings for more detailed information.\"\n",
      "}\n",
      "```\n",
      "Retry 1/3 for question: How does Meta Platforms, Inc. address the limitati... due to error: Expecting value: line 1 column 1 (char 0)\n",
      "LLM Raw Output: {\n",
      "  \"factual_correctness_score\": 5,\n",
      "  \"completeness_score\": 5,\n",
      "  \"clarity_score\": 5,\n",
      "  \"comments\": \"The answer correctly states that the provided documents do not specifically address how Meta Platforms, Inc. manages the limitations and risks associated with forward-looking statements and non-GAAP financial measures for Q4 and full year 2024, aligning with the document content. It appropriately directs to relevant official SEC filings and investor relations materials for detailed information, reflecting an accurate and complete response in a clear manner.\"\n",
      "}\n",
      "Evaluating answer 6/10: What exhibits related to Netflix, Inc.’s fiscal ye...\n",
      "LLM Raw Output: ```json\n",
      "{\n",
      "    \"factual_correctness_score\": 3,\n",
      "    \"completeness_score\": 3,\n",
      "    \"clarity_score\": 5,\n",
      "    \"comments\": \"The model answer does not provide specific details about the exhibits included in Netflix's annual report or all the types of certifications and plans filed with the SEC for the fiscal year ended December 31, 2024. However, it is clear and well-phrased, mentioning some general information about certifications and plans.\"\n",
      "}\n",
      "```\n",
      "Retry 1/3 for question: What exhibits related to Netflix, Inc.’s fiscal ye... due to error: Expecting value: line 1 column 1 (char 0)\n",
      "LLM Raw Output: {\n",
      "  \"factual_correctness_score\": 5,\n",
      "  \"completeness_score\": 4,\n",
      "  \"clarity_score\": 5,\n",
      "  \"comments\": \"The answer correctly notes the lack of explicit detail in the provided document chunk about the full exhibits included in Netflix's 2024 annual report, mentioning key certifications and policies that are typically filed (Sections 302 and 906 certifications, management contracts, clawback and insider trading policies). It could be more complete by explicitly confirming the inclusion of these exhibits, but it accurately reflects the information available and is clearly written.\"\n",
      "}\n",
      "Evaluating answer 7/10: How have new US export control restrictions in 202...\n",
      "LLM Raw Output: {\n",
      "  \"factual_correctness_score\": 5,\n",
      "  \"completeness_score\": 5,\n",
      "  \"clarity_score\": 5,\n",
      "  \"comments\": \"The answer accurately reflects the key points from the source document, detailing how the 2024 US export controls have disadvantaged NVIDIA competitively, especially in the China market, and outlines specific risks such as revenue loss, market share decline, licensing issues, and operational burdens. The inclusion of financial impact, market share data, and geopolitical risks aligns well with the provided information. The explanation is clear, well-structured, and comprehensive.\"\n",
      "}\n",
      "Evaluating answer 8/10: What were the key components and figures of Oracle...\n",
      "LLM Raw Output: {\n",
      "  \"factual_correctness_score\": 5,\n",
      "  \"completeness_score\": 5,\n",
      "  \"clarity_score\": 5,\n",
      "  \"comments\": \"The answer accurately and comprehensively covers all key components and figures of Oracle's consolidated statements of cash flows for fiscal year 2024, including net income, operating cash flows with detailed adjustments, investing and financing activities, and related cash effects, fully consistent with the provided document chunk and sources.\"\n",
      "}\n",
      "Evaluating answer 9/10: What risks does Reddit, Inc. identify in its 2024 ...\n",
      "LLM Raw Output: {\n",
      "  \"factual_correctness_score\": 5,\n",
      "  \"completeness_score\": 5,\n",
      "  \"clarity_score\": 5,\n",
      "  \"comments\": \"The answer correctly states that the provided document chunk does not explicitly mention any risks related to dependency on senior management or CEO Steven Huffman, aligning fully with the content of the source. It clearly conveys the absence of relevant information and suggests consulting the full report for definitive details, thus fully addressing the question with clarity.\"\n",
      "}\n",
      "Evaluating answer 10/10: What was the main reason for the increase in net c...\n",
      "LLM Raw Output: {\n",
      "    \"factual_correctness_score\": 4,\n",
      "    \"completeness_score\": 4,\n",
      "    \"clarity_score\": 5,\n",
      "    \"comments\": \"The answer correctly identifies that the increase was partly due to favorable changes in net operating assets and liabilities, which is consistent with the available context, but notes the absence of a single definitive main reason—accurately reflecting limitations of the provided information[2][1].\"\n",
      "}\n",
      "Saved final results to final_2.csv\n"
     ]
    },
    {
     "data": {
      "application/vnd.plotly.v1+json": {
       "config": {
        "plotlyServerURL": "https://plot.ly"
       },
       "data": [
        {
         "alignmentgroup": "True",
         "boxpoints": "all",
         "customdata": [
          [
           "What forward-looking statements are included in Apple Inc.'s Form 10-K for the fiscal year ended September 28, 2024, and how do they relate to potential future impacts on the company's business?"
          ],
          [
           "Based on the provided chunk regarding Cisco Systems’ fiscal year 2024 report, here is a question generated according to your requirements:\n\n**How did Cisco Systems’ management and principal officers assess the effectiveness of the company’s disclosure controls and procedures for fiscal year 2024, and what was their conclusion regarding those controls?**"
          ],
          [
           "How does Meta Platforms, Inc. address the limitations and risks associated with forward-looking statements and the use of non-GAAP financial measures in its financial results for the fourth quarter and full year 2024?"
          ],
          [
           "What exhibits related to Netflix, Inc.’s fiscal year ended December 31, 2024, are included in the annual report, and what types of certifications and plans are filed with the SEC as part of this report?"
          ],
          [
           "How have new US export control restrictions in 2024 negatively impacted NVIDIA Corporation's competitive position compared to certain competitors, and what specific risks do these controls pose for its future business and results in the China market and beyond?"
          ],
          [
           "What were the key components and figures of Oracle Corporation's consolidated statements of cash flows for the fiscal year ended May 31, 2024, including net income, operating cash flows, investing activities, and financing activities?"
          ],
          [
           "What risks does Reddit, Inc. identify in its 2024 fiscal year report related to the dependency on its senior management team and key employees, particularly concerning CEO Steven Huffman?"
          ],
          [
           "What was the main reason for the increase in net cash provided by operating activities for Tesla, Inc. during the fiscal year ended December 31, 2024?"
          ],
          [
           "What forward-looking statements are included in Apple Inc.'s Form 10-K for the fiscal year ended September 28, 2024, and how do they relate to potential future impacts on the company's business?"
          ],
          [
           "Based on the provided chunk regarding Cisco Systems’ fiscal year 2024 report, here is a question generated according to your requirements:\n\n**How did Cisco Systems’ management and principal officers assess the effectiveness of the company’s disclosure controls and procedures for fiscal year 2024, and what was their conclusion regarding those controls?**"
          ],
          [
           "How does Meta Platforms, Inc. address the limitations and risks associated with forward-looking statements and the use of non-GAAP financial measures in its financial results for the fourth quarter and full year 2024?"
          ],
          [
           "What exhibits related to Netflix, Inc.’s fiscal year ended December 31, 2024, are included in the annual report, and what types of certifications and plans are filed with the SEC as part of this report?"
          ],
          [
           "How have new US export control restrictions in 2024 negatively impacted NVIDIA Corporation's competitive position compared to certain competitors, and what specific risks do these controls pose for its future business and results in the China market and beyond?"
          ],
          [
           "What were the key components and figures of Oracle Corporation's consolidated statements of cash flows for the fiscal year ended May 31, 2024, including net income, operating cash flows, investing activities, and financing activities?"
          ],
          [
           "What risks does Reddit, Inc. identify in its 2024 fiscal year report related to the dependency on its senior management team and key employees, particularly concerning CEO Steven Huffman?"
          ],
          [
           "What was the main reason for the increase in net cash provided by operating activities for Tesla, Inc. during the fiscal year ended December 31, 2024?"
          ],
          [
           "What forward-looking statements are included in Apple Inc.'s Form 10-K for the fiscal year ended September 28, 2024, and how do they relate to potential future impacts on the company's business?"
          ],
          [
           "Based on the provided chunk regarding Cisco Systems’ fiscal year 2024 report, here is a question generated according to your requirements:\n\n**How did Cisco Systems’ management and principal officers assess the effectiveness of the company’s disclosure controls and procedures for fiscal year 2024, and what was their conclusion regarding those controls?**"
          ],
          [
           "How does Meta Platforms, Inc. address the limitations and risks associated with forward-looking statements and the use of non-GAAP financial measures in its financial results for the fourth quarter and full year 2024?"
          ],
          [
           "What exhibits related to Netflix, Inc.’s fiscal year ended December 31, 2024, are included in the annual report, and what types of certifications and plans are filed with the SEC as part of this report?"
          ],
          [
           "How have new US export control restrictions in 2024 negatively impacted NVIDIA Corporation's competitive position compared to certain competitors, and what specific risks do these controls pose for its future business and results in the China market and beyond?"
          ],
          [
           "What were the key components and figures of Oracle Corporation's consolidated statements of cash flows for the fiscal year ended May 31, 2024, including net income, operating cash flows, investing activities, and financing activities?"
          ],
          [
           "What risks does Reddit, Inc. identify in its 2024 fiscal year report related to the dependency on its senior management team and key employees, particularly concerning CEO Steven Huffman?"
          ],
          [
           "What was the main reason for the increase in net cash provided by operating activities for Tesla, Inc. during the fiscal year ended December 31, 2024?"
          ],
          [
           "What forward-looking statements are included in Apple Inc.'s Form 10-K for the fiscal year ended September 28, 2024, and how do they relate to potential future impacts on the company's business?"
          ],
          [
           "Based on the provided chunk regarding Cisco Systems’ fiscal year 2024 report, here is a question generated according to your requirements:\n\n**How did Cisco Systems’ management and principal officers assess the effectiveness of the company’s disclosure controls and procedures for fiscal year 2024, and what was their conclusion regarding those controls?**"
          ],
          [
           "How does Meta Platforms, Inc. address the limitations and risks associated with forward-looking statements and the use of non-GAAP financial measures in its financial results for the fourth quarter and full year 2024?"
          ],
          [
           "What exhibits related to Netflix, Inc.’s fiscal year ended December 31, 2024, are included in the annual report, and what types of certifications and plans are filed with the SEC as part of this report?"
          ],
          [
           "How have new US export control restrictions in 2024 negatively impacted NVIDIA Corporation's competitive position compared to certain competitors, and what specific risks do these controls pose for its future business and results in the China market and beyond?"
          ],
          [
           "What were the key components and figures of Oracle Corporation's consolidated statements of cash flows for the fiscal year ended May 31, 2024, including net income, operating cash flows, investing activities, and financing activities?"
          ],
          [
           "What risks does Reddit, Inc. identify in its 2024 fiscal year report related to the dependency on its senior management team and key employees, particularly concerning CEO Steven Huffman?"
          ],
          [
           "What was the main reason for the increase in net cash provided by operating activities for Tesla, Inc. during the fiscal year ended December 31, 2024?"
          ]
         ],
         "hovertemplate": "Metric=%{x}<br>Score=%{y}<br>question=%{customdata[0]}<extra></extra>",
         "legendgroup": "",
         "marker": {
          "color": "#636efa"
         },
         "name": "",
         "notched": false,
         "offsetgroup": "",
         "orientation": "v",
         "showlegend": false,
         "type": "box",
         "x": [
          "Factual Correctness",
          "Factual Correctness",
          "Factual Correctness",
          "Factual Correctness",
          "Factual Correctness",
          "Factual Correctness",
          "Factual Correctness",
          "Factual Correctness",
          "Completeness",
          "Completeness",
          "Completeness",
          "Completeness",
          "Completeness",
          "Completeness",
          "Completeness",
          "Completeness",
          "Clarity",
          "Clarity",
          "Clarity",
          "Clarity",
          "Clarity",
          "Clarity",
          "Clarity",
          "Clarity",
          "Overall",
          "Overall",
          "Overall",
          "Overall",
          "Overall",
          "Overall",
          "Overall",
          "Overall"
         ],
         "x0": " ",
         "xaxis": "x",
         "y": {
          "bdata": "AAAAAAAAFEAAAAAAAADwPwAAAAAAABRAAAAAAAAAFEAAAAAAAAAUQAAAAAAAABRAAAAAAAAAFEAAAAAAAAAQQAAAAAAAABBAAAAAAAAA8D8AAAAAAAAUQAAAAAAAABBAAAAAAAAAFEAAAAAAAAAUQAAAAAAAABRAAAAAAAAAEEAAAAAAAAAUQAAAAAAAAPA/AAAAAAAAFEAAAAAAAAAUQAAAAAAAABRAAAAAAAAAFEAAAAAAAAAUQAAAAAAAABRAq6qqqqqqEkAAAAAAAADwPwAAAAAAABRAq6qqqqqqEkAAAAAAAAAUQAAAAAAAABRAAAAAAAAAFEBVVVVVVVURQA==",
          "dtype": "f8"
         },
         "y0": " ",
         "yaxis": "y"
        }
       ],
       "layout": {
        "boxmode": "group",
        "height": 500,
        "legend": {
         "tracegroupgap": 0
        },
        "template": {
         "data": {
          "bar": [
           {
            "error_x": {
             "color": "#2a3f5f"
            },
            "error_y": {
             "color": "#2a3f5f"
            },
            "marker": {
             "line": {
              "color": "#E5ECF6",
              "width": 0.5
             },
             "pattern": {
              "fillmode": "overlay",
              "size": 10,
              "solidity": 0.2
             }
            },
            "type": "bar"
           }
          ],
          "barpolar": [
           {
            "marker": {
             "line": {
              "color": "#E5ECF6",
              "width": 0.5
             },
             "pattern": {
              "fillmode": "overlay",
              "size": 10,
              "solidity": 0.2
             }
            },
            "type": "barpolar"
           }
          ],
          "carpet": [
           {
            "aaxis": {
             "endlinecolor": "#2a3f5f",
             "gridcolor": "white",
             "linecolor": "white",
             "minorgridcolor": "white",
             "startlinecolor": "#2a3f5f"
            },
            "baxis": {
             "endlinecolor": "#2a3f5f",
             "gridcolor": "white",
             "linecolor": "white",
             "minorgridcolor": "white",
             "startlinecolor": "#2a3f5f"
            },
            "type": "carpet"
           }
          ],
          "choropleth": [
           {
            "colorbar": {
             "outlinewidth": 0,
             "ticks": ""
            },
            "type": "choropleth"
           }
          ],
          "contour": [
           {
            "colorbar": {
             "outlinewidth": 0,
             "ticks": ""
            },
            "colorscale": [
             [
              0,
              "#0d0887"
             ],
             [
              0.1111111111111111,
              "#46039f"
             ],
             [
              0.2222222222222222,
              "#7201a8"
             ],
             [
              0.3333333333333333,
              "#9c179e"
             ],
             [
              0.4444444444444444,
              "#bd3786"
             ],
             [
              0.5555555555555556,
              "#d8576b"
             ],
             [
              0.6666666666666666,
              "#ed7953"
             ],
             [
              0.7777777777777778,
              "#fb9f3a"
             ],
             [
              0.8888888888888888,
              "#fdca26"
             ],
             [
              1,
              "#f0f921"
             ]
            ],
            "type": "contour"
           }
          ],
          "contourcarpet": [
           {
            "colorbar": {
             "outlinewidth": 0,
             "ticks": ""
            },
            "type": "contourcarpet"
           }
          ],
          "heatmap": [
           {
            "colorbar": {
             "outlinewidth": 0,
             "ticks": ""
            },
            "colorscale": [
             [
              0,
              "#0d0887"
             ],
             [
              0.1111111111111111,
              "#46039f"
             ],
             [
              0.2222222222222222,
              "#7201a8"
             ],
             [
              0.3333333333333333,
              "#9c179e"
             ],
             [
              0.4444444444444444,
              "#bd3786"
             ],
             [
              0.5555555555555556,
              "#d8576b"
             ],
             [
              0.6666666666666666,
              "#ed7953"
             ],
             [
              0.7777777777777778,
              "#fb9f3a"
             ],
             [
              0.8888888888888888,
              "#fdca26"
             ],
             [
              1,
              "#f0f921"
             ]
            ],
            "type": "heatmap"
           }
          ],
          "histogram": [
           {
            "marker": {
             "pattern": {
              "fillmode": "overlay",
              "size": 10,
              "solidity": 0.2
             }
            },
            "type": "histogram"
           }
          ],
          "histogram2d": [
           {
            "colorbar": {
             "outlinewidth": 0,
             "ticks": ""
            },
            "colorscale": [
             [
              0,
              "#0d0887"
             ],
             [
              0.1111111111111111,
              "#46039f"
             ],
             [
              0.2222222222222222,
              "#7201a8"
             ],
             [
              0.3333333333333333,
              "#9c179e"
             ],
             [
              0.4444444444444444,
              "#bd3786"
             ],
             [
              0.5555555555555556,
              "#d8576b"
             ],
             [
              0.6666666666666666,
              "#ed7953"
             ],
             [
              0.7777777777777778,
              "#fb9f3a"
             ],
             [
              0.8888888888888888,
              "#fdca26"
             ],
             [
              1,
              "#f0f921"
             ]
            ],
            "type": "histogram2d"
           }
          ],
          "histogram2dcontour": [
           {
            "colorbar": {
             "outlinewidth": 0,
             "ticks": ""
            },
            "colorscale": [
             [
              0,
              "#0d0887"
             ],
             [
              0.1111111111111111,
              "#46039f"
             ],
             [
              0.2222222222222222,
              "#7201a8"
             ],
             [
              0.3333333333333333,
              "#9c179e"
             ],
             [
              0.4444444444444444,
              "#bd3786"
             ],
             [
              0.5555555555555556,
              "#d8576b"
             ],
             [
              0.6666666666666666,
              "#ed7953"
             ],
             [
              0.7777777777777778,
              "#fb9f3a"
             ],
             [
              0.8888888888888888,
              "#fdca26"
             ],
             [
              1,
              "#f0f921"
             ]
            ],
            "type": "histogram2dcontour"
           }
          ],
          "mesh3d": [
           {
            "colorbar": {
             "outlinewidth": 0,
             "ticks": ""
            },
            "type": "mesh3d"
           }
          ],
          "parcoords": [
           {
            "line": {
             "colorbar": {
              "outlinewidth": 0,
              "ticks": ""
             }
            },
            "type": "parcoords"
           }
          ],
          "pie": [
           {
            "automargin": true,
            "type": "pie"
           }
          ],
          "scatter": [
           {
            "fillpattern": {
             "fillmode": "overlay",
             "size": 10,
             "solidity": 0.2
            },
            "type": "scatter"
           }
          ],
          "scatter3d": [
           {
            "line": {
             "colorbar": {
              "outlinewidth": 0,
              "ticks": ""
             }
            },
            "marker": {
             "colorbar": {
              "outlinewidth": 0,
              "ticks": ""
             }
            },
            "type": "scatter3d"
           }
          ],
          "scattercarpet": [
           {
            "marker": {
             "colorbar": {
              "outlinewidth": 0,
              "ticks": ""
             }
            },
            "type": "scattercarpet"
           }
          ],
          "scattergeo": [
           {
            "marker": {
             "colorbar": {
              "outlinewidth": 0,
              "ticks": ""
             }
            },
            "type": "scattergeo"
           }
          ],
          "scattergl": [
           {
            "marker": {
             "colorbar": {
              "outlinewidth": 0,
              "ticks": ""
             }
            },
            "type": "scattergl"
           }
          ],
          "scattermap": [
           {
            "marker": {
             "colorbar": {
              "outlinewidth": 0,
              "ticks": ""
             }
            },
            "type": "scattermap"
           }
          ],
          "scattermapbox": [
           {
            "marker": {
             "colorbar": {
              "outlinewidth": 0,
              "ticks": ""
             }
            },
            "type": "scattermapbox"
           }
          ],
          "scatterpolar": [
           {
            "marker": {
             "colorbar": {
              "outlinewidth": 0,
              "ticks": ""
             }
            },
            "type": "scatterpolar"
           }
          ],
          "scatterpolargl": [
           {
            "marker": {
             "colorbar": {
              "outlinewidth": 0,
              "ticks": ""
             }
            },
            "type": "scatterpolargl"
           }
          ],
          "scatterternary": [
           {
            "marker": {
             "colorbar": {
              "outlinewidth": 0,
              "ticks": ""
             }
            },
            "type": "scatterternary"
           }
          ],
          "surface": [
           {
            "colorbar": {
             "outlinewidth": 0,
             "ticks": ""
            },
            "colorscale": [
             [
              0,
              "#0d0887"
             ],
             [
              0.1111111111111111,
              "#46039f"
             ],
             [
              0.2222222222222222,
              "#7201a8"
             ],
             [
              0.3333333333333333,
              "#9c179e"
             ],
             [
              0.4444444444444444,
              "#bd3786"
             ],
             [
              0.5555555555555556,
              "#d8576b"
             ],
             [
              0.6666666666666666,
              "#ed7953"
             ],
             [
              0.7777777777777778,
              "#fb9f3a"
             ],
             [
              0.8888888888888888,
              "#fdca26"
             ],
             [
              1,
              "#f0f921"
             ]
            ],
            "type": "surface"
           }
          ],
          "table": [
           {
            "cells": {
             "fill": {
              "color": "#EBF0F8"
             },
             "line": {
              "color": "white"
             }
            },
            "header": {
             "fill": {
              "color": "#C8D4E3"
             },
             "line": {
              "color": "white"
             }
            },
            "type": "table"
           }
          ]
         },
         "layout": {
          "annotationdefaults": {
           "arrowcolor": "#2a3f5f",
           "arrowhead": 0,
           "arrowwidth": 1
          },
          "autotypenumbers": "strict",
          "coloraxis": {
           "colorbar": {
            "outlinewidth": 0,
            "ticks": ""
           }
          },
          "colorscale": {
           "diverging": [
            [
             0,
             "#8e0152"
            ],
            [
             0.1,
             "#c51b7d"
            ],
            [
             0.2,
             "#de77ae"
            ],
            [
             0.3,
             "#f1b6da"
            ],
            [
             0.4,
             "#fde0ef"
            ],
            [
             0.5,
             "#f7f7f7"
            ],
            [
             0.6,
             "#e6f5d0"
            ],
            [
             0.7,
             "#b8e186"
            ],
            [
             0.8,
             "#7fbc41"
            ],
            [
             0.9,
             "#4d9221"
            ],
            [
             1,
             "#276419"
            ]
           ],
           "sequential": [
            [
             0,
             "#0d0887"
            ],
            [
             0.1111111111111111,
             "#46039f"
            ],
            [
             0.2222222222222222,
             "#7201a8"
            ],
            [
             0.3333333333333333,
             "#9c179e"
            ],
            [
             0.4444444444444444,
             "#bd3786"
            ],
            [
             0.5555555555555556,
             "#d8576b"
            ],
            [
             0.6666666666666666,
             "#ed7953"
            ],
            [
             0.7777777777777778,
             "#fb9f3a"
            ],
            [
             0.8888888888888888,
             "#fdca26"
            ],
            [
             1,
             "#f0f921"
            ]
           ],
           "sequentialminus": [
            [
             0,
             "#0d0887"
            ],
            [
             0.1111111111111111,
             "#46039f"
            ],
            [
             0.2222222222222222,
             "#7201a8"
            ],
            [
             0.3333333333333333,
             "#9c179e"
            ],
            [
             0.4444444444444444,
             "#bd3786"
            ],
            [
             0.5555555555555556,
             "#d8576b"
            ],
            [
             0.6666666666666666,
             "#ed7953"
            ],
            [
             0.7777777777777778,
             "#fb9f3a"
            ],
            [
             0.8888888888888888,
             "#fdca26"
            ],
            [
             1,
             "#f0f921"
            ]
           ]
          },
          "colorway": [
           "#636efa",
           "#EF553B",
           "#00cc96",
           "#ab63fa",
           "#FFA15A",
           "#19d3f3",
           "#FF6692",
           "#B6E880",
           "#FF97FF",
           "#FECB52"
          ],
          "font": {
           "color": "#2a3f5f"
          },
          "geo": {
           "bgcolor": "white",
           "lakecolor": "white",
           "landcolor": "#E5ECF6",
           "showlakes": true,
           "showland": true,
           "subunitcolor": "white"
          },
          "hoverlabel": {
           "align": "left"
          },
          "hovermode": "closest",
          "mapbox": {
           "style": "light"
          },
          "paper_bgcolor": "white",
          "plot_bgcolor": "#E5ECF6",
          "polar": {
           "angularaxis": {
            "gridcolor": "white",
            "linecolor": "white",
            "ticks": ""
           },
           "bgcolor": "#E5ECF6",
           "radialaxis": {
            "gridcolor": "white",
            "linecolor": "white",
            "ticks": ""
           }
          },
          "scene": {
           "xaxis": {
            "backgroundcolor": "#E5ECF6",
            "gridcolor": "white",
            "gridwidth": 2,
            "linecolor": "white",
            "showbackground": true,
            "ticks": "",
            "zerolinecolor": "white"
           },
           "yaxis": {
            "backgroundcolor": "#E5ECF6",
            "gridcolor": "white",
            "gridwidth": 2,
            "linecolor": "white",
            "showbackground": true,
            "ticks": "",
            "zerolinecolor": "white"
           },
           "zaxis": {
            "backgroundcolor": "#E5ECF6",
            "gridcolor": "white",
            "gridwidth": 2,
            "linecolor": "white",
            "showbackground": true,
            "ticks": "",
            "zerolinecolor": "white"
           }
          },
          "shapedefaults": {
           "line": {
            "color": "#2a3f5f"
           }
          },
          "ternary": {
           "aaxis": {
            "gridcolor": "white",
            "linecolor": "white",
            "ticks": ""
           },
           "baxis": {
            "gridcolor": "white",
            "linecolor": "white",
            "ticks": ""
           },
           "bgcolor": "#E5ECF6",
           "caxis": {
            "gridcolor": "white",
            "linecolor": "white",
            "ticks": ""
           }
          },
          "title": {
           "x": 0.05
          },
          "xaxis": {
           "automargin": true,
           "gridcolor": "white",
           "linecolor": "white",
           "ticks": "",
           "title": {
            "standoff": 15
           },
           "zerolinecolor": "white",
           "zerolinewidth": 2
          },
          "yaxis": {
           "automargin": true,
           "gridcolor": "white",
           "linecolor": "white",
           "ticks": "",
           "title": {
            "standoff": 15
           },
           "zerolinecolor": "white",
           "zerolinewidth": 2
          }
         }
        },
        "title": {
         "text": "Score Distributions per Metric (with Overall Score)"
        },
        "xaxis": {
         "anchor": "y",
         "domain": [
          0,
          1
         ],
         "title": {
          "text": "Metric"
         }
        },
        "yaxis": {
         "anchor": "x",
         "domain": [
          0,
          1
         ],
         "dtick": 1,
         "range": [
          0,
          6
         ],
         "title": {
          "text": "Score (1-5)"
         }
        }
       }
      }
     },
     "metadata": {},
     "output_type": "display_data"
    },
    {
     "name": "stdout",
     "output_type": "stream",
     "text": [
      "Plots created successfully for model_2\n"
     ]
    }
   ],
   "source": [
    "# Run Model 1 (FAISS + HuggingFace)\n",
    "df1, final_df1 = run_model_experiment(MODEL_1_CONFIG, \"Model 1 (FAISS)\")\n",
    "    \n",
    "# Run Model 2 (Chroma + BGE + Compression)\n",
    "df2, final_df2 = run_model_experiment(MODEL_2_CONFIG, \"Model 2 (Chroma)\")"
   ]
  },
  {
   "cell_type": "code",
   "execution_count": 21,
   "metadata": {},
   "outputs": [
    {
     "data": {
      "text/html": [
       "<div>\n",
       "<style scoped>\n",
       "    .dataframe tbody tr th:only-of-type {\n",
       "        vertical-align: middle;\n",
       "    }\n",
       "\n",
       "    .dataframe tbody tr th {\n",
       "        vertical-align: top;\n",
       "    }\n",
       "\n",
       "    .dataframe thead th {\n",
       "        text-align: right;\n",
       "    }\n",
       "</style>\n",
       "<table border=\"1\" class=\"dataframe\">\n",
       "  <thead>\n",
       "    <tr style=\"text-align: right;\">\n",
       "      <th></th>\n",
       "      <th>question</th>\n",
       "      <th>top_k_chunk</th>\n",
       "      <th>answer</th>\n",
       "      <th>evaluation_error</th>\n",
       "      <th>evaluation_factual_correctness_score</th>\n",
       "      <th>evaluation_completeness_score</th>\n",
       "      <th>evaluation_clarity_score</th>\n",
       "      <th>evaluation_comments</th>\n",
       "    </tr>\n",
       "  </thead>\n",
       "  <tbody>\n",
       "    <tr>\n",
       "      <th>0</th>\n",
       "      <td>What types of financial statements are included in Amazon's 2024 financial report, as outlined in the document's index to consolidated financial statements?</td>\n",
       "      <td>13; 62; 107</td>\n",
       "      <td>Amazon's 2024 financial report includes the following types of financial statements as outlined in the index to consolidated financial statements:\\n\\n- **Consolidated Statements of Cash Flows**: These statements detail the inflows and outflows of cash and cash equivalents over the three years ended December 31, 2024.\\n- **Consolidated Statements of Operations**: These statements provide a detailed breakdown of Amazon's revenues and expenses for each of the three years ended December 31, 2024.\\n- **Consolidated Statements of Comprehensive Income (Loss)**: These statements include net income and other comprehensive income items such as foreign currency translation adjustments and unrealized gains or losses on available-for-sale debt securities for each of the three years ended December 31, 2024.\\n- **Consolidated Balance Sheets**: These statements present Amazon's financial position at the end of the years 2023 and 2024.\\n- **Consolidated Statements of Stockholders’ Equity**: These statements show changes in stockholders' equity over the three years ended December 31, 2024.\\n- **Notes to Consolidated Financial Statements**: These provide additional details and explanations for the financial statements.\\n- **Report of Ernst &amp; Young LLP, Independent Registered Public Accounting Firm**: This includes the auditor's opinion on the fairness and accuracy of the financial statements.</td>\n",
       "      <td>Expecting value: line 1 column 1 (char 0)</td>\n",
       "      <td>NaN</td>\n",
       "      <td>NaN</td>\n",
       "      <td>NaN</td>\n",
       "      <td>NaN</td>\n",
       "    </tr>\n",
       "    <tr>\n",
       "      <th>1</th>\n",
       "      <td>What forward-looking statements are included in Apple Inc.'s Form 10-K for the fiscal year ended September 28, 2024, and how do they relate to potential future impacts on the company's business?</td>\n",
       "      <td>120; 115; 114</td>\n",
       "      <td>Apple Inc.'s Form 10-K for the fiscal year ended September 28, 2024, includes forward-looking statements primarily in **Part I, Item 1** under the heading “Business” and **Part II, Item 7** under the heading “Management’s Discussion and Analysis of Financial Condition and Results of Operations.” These statements involve risks and uncertainties and provide current expectations of future events based on certain assumptions. They include discussions about the potential future impact of macroeconomic conditions on the company's business and results of operations.\\n\\n### Key Forward-Looking Statements and Their Implications\\n\\n1. **Macroeconomic Conditions**: Statements regarding how global and regional economic conditions, such as slow growth, recession, inflation, and currency fluctuations, could affect consumer confidence and demand for Apple's products and services. These conditions can also impact suppliers, contract manufacturers, and other partners, potentially leading to financial instability and reduced liquidity[1][3].\\n\\n2. **Risk Factors**: The discussion in **Item 1A** highlights various risks that could impact Apple's business, including macroeconomic risks, industry risks, and operational challenges. These risks are forward-looking as they discuss potential future impacts on the company's performance and financial condition[1].\\n\\n3. **Future Performance**: Forward-looking statements caution that past financial performance should not be considered a reliable indicator of future results. This reflects the uncertainty and variability in future outcomes due to factors like economic conditions and market trends[1].\\n\\nThese forward-looking statements are not guarantees of future performance, and actual results may differ significantly due to various factors discussed in the report, particularly in the risk factors section. Apple assumes no obligation to revise or update these statements except as required by law[1].</td>\n",
       "      <td>NaN</td>\n",
       "      <td>5.0</td>\n",
       "      <td>5.0</td>\n",
       "      <td>5.0</td>\n",
       "      <td>The answer accurately identifies the sections with forward-looking statements, discusses their content and implications, and aligns fully with the referenced document chunk and relevant SEC filings[1][2][3].</td>\n",
       "    </tr>\n",
       "    <tr>\n",
       "      <th>2</th>\n",
       "      <td>Based on the provided chunk regarding Cisco Systems’ fiscal year 2024 report, here is a question generated according to your requirements:\\n\\n**How did Cisco Systems’ management and principal officers assess the effectiveness of the company’s disclosure controls and procedures for fiscal year 2024, and what was their conclusion regarding those controls?**</td>\n",
       "      <td>255; 347; 352</td>\n",
       "      <td>Cisco Systems’ management, including the principal executive officer and principal financial officer, assessed the effectiveness of the company’s disclosure controls and procedures for fiscal year 2024 by conducting an evaluation based on the framework in Internal Control—Integrated Framework (2013) issued by the Committee of Sponsoring Organizations of the Treadway Commission (COSO). Their assessment included a review of the design and operating effectiveness of internal control over financial reporting, with the oversight of the Board of Directors.\\n\\nManagement concluded that Cisco’s internal control over financial reporting was effective as of July 27, 2024. This conclusion was reached after excluding the internal controls of Splunk Inc., which Cisco acquired during the year, in accordance with SEC guidance that permits exclusion of acquisitions from the assessment for up to one year from the date of acquisition. Splunk’s assets and revenues represented approximately 3% of Cisco’s consolidated totals for the year[5].\\n\\nThe independent registered public accounting firm, PricewaterhouseCoopers LLP, also audited Cisco’s internal control over financial reporting and concurred with management’s conclusion, issuing an unqualified opinion that Cisco maintained effective internal control over financial reporting as of July 27, 2024[5].</td>\n",
       "      <td>NaN</td>\n",
       "      <td>5.0</td>\n",
       "      <td>5.0</td>\n",
       "      <td>5.0</td>\n",
       "      <td>The answer accurately reflects the information from the provided document chunk, detailing the management's assessment process, the framework used (COSO 2013), the exclusion of Splunk Inc. in the evaluation per SEC guidance, and the conclusion that Cisco's internal control over financial reporting was effective as of July 27, 2024. It also correctly states PricewaterhouseCoopers LLP's concurring audit opinion. The response fully answers the question clearly and precisely.</td>\n",
       "    </tr>\n",
       "    <tr>\n",
       "      <th>3</th>\n",
       "      <td>How do evolving and uncertain regulations in areas such as AI, competition, consumer protection, content moderation, data privacy, news, and sustainability impact Alphabet Inc.'s business operations and risks, particularly as reported for the fiscal year ended December 31, 2024?</td>\n",
       "      <td>806; 451; 469</td>\n",
       "      <td>Evolving and uncertain regulations in areas such as AI, competition, consumer protection, content moderation, data privacy, news, and sustainability have significant impacts on Alphabet Inc.’s business operations and risk profile, as highlighted in its 2024 fiscal year reporting and recent regulatory developments.\\n\\n## Regulatory Impact on Business Operations\\n\\n**Compliance Costs and Operational Complexity**\\n\\nAlphabet faces a growing burden of compliance with a wide array of new and changing laws across multiple jurisdictions. These include regulations on data privacy (such as the EU’s Digital Services Act and AI Act), competition and antitrust (including ongoing probes by the U.S. Department of Justice and European regulators), consumer protection, content moderation, and sustainability. Compliance is costly and complex, especially as regulations often differ or conflict between regions, requiring Alphabet to adapt its operations and policies in each market[5]. The company notes that these costs are likely to increase as regulatory scrutiny intensifies and new laws are enacted.\\n\\n**Antitrust and Competition Risks**\\n\\nAlphabet is under heightened antitrust scrutiny, particularly regarding its AI-related activities. For example, the U.S. Justice Department is investigating Alphabet’s 2024 deal with AI startup Character.AI, focusing on whether the arrangement unfairly concentrates AI talent and technology and stifles competition. Regulators are concerned that such deals may limit access to cutting-edge AI tools and expertise for rivals, potentially harming innovation and market competition[1][4]. Similar investigations are ongoing in the EU and UK, where regulators are examining Alphabet’s investments, partnerships, and supply of AI-related hardware and software.\\n\\n**Data Privacy and Content Moderation**\\n\\nNew and evolving data privacy laws, such as the EU’s Digital Services Act and proposed U.S. legislation like the American Privacy Rights Act, impose strict requirements on how Alphabet collects, uses, and shares user data. Non-compliance can result in significant fines—up to 6% of global revenue in the EU—and reputational damage[4]. Content moderation regulations also require Alphabet to monitor and manage harmful or illegal content, which increases operational costs and exposes the company to liability if it fails to meet regulatory standards.\\n\\n**AI and Emerging Technologies**\\n\\nRegulators are increasingly focused on the responsible development and deployment of AI. Alphabet’s leadership in AI has attracted scrutiny from regulators worldwide, who are considering restrictions on the hardware, software, and systems used to develop advanced AI models. Such restrictions could increase costs, delay product launches, and reduce the number of new customers, negatively impacting Alphabet’s business and financial results[5]. The company also faces reputational risks if AI systems produce harmful or inaccurate content.\\n\\n**Sustainability and Environmental Regulations**\\n\\nAlphabet is subject to environmental, health, and safety regulations, including those related to sustainability. Compliance with these regulations can affect the company’s supply chain, manufacturing processes, and product offerings, and may require additional investments in sustainable practices.\\n\\n## Financial and Strategic Risks\\n\\n**Revenue and Margin Pressures**\\n\\nAlphabet’s core revenue comes from online advertising, which is sensitive to regulatory changes affecting data privacy, advertising practices, and content moderation. New regulations can limit the effectiveness of targeted advertising, reduce advertiser demand, and increase compliance costs, putting pressure on margins[2][5]. The shift to new advertising formats and devices, while offering growth opportunities, also tends to have lower margins than traditional desktop search.\\n\\n**Market and Operational Risks**\\n\\nAlphabet’s global operations expose it to risks from geopolitical tensions, trade restrictions, and foreign exchange fluctuations. Government actions, such as tariffs, export controls, and sanctions, can disrupt supply chains, delay shipments, and increase costs[5]. The company’s reliance on third-party suppliers and manufacturers further amplifies these risks.\\n\\n**Reputational and Legal Risks**\\n\\nViolations of laws or regulatory requirements can result in fines, criminal sanctions, business restrictions, and reputational harm. Alphabet acknowledges that even inadvertent violations by employees, contractors, or partners could have material adverse effects on its business[5].\\n\\n## Summary Table: Key Regulatory Risks and Impacts\\n\\n| Regulatory Area         | Impact on Alphabet Inc.                                      |\\n|------------------------|-------------------------------------------------------------|\\n| AI                     | Increased scrutiny, compliance costs, delayed product launches, reputational risks[1][5] |\\n| Competition/Antitrust  | Probes, potential restrictions on deals, higher compliance costs, risk of fines[1][4] |\\n| Data Privacy           | Stricter rules, higher compliance costs, risk of fines, reputational damage[4][5] |\\n| Content Moderation     | Increased monitoring costs, liability for harmful content[5] |\\n| Consumer Protection    | Compliance costs, restrictions on business practices[5]     |\\n| News                   | Regulatory oversight, content moderation requirements[5]    |\\n| Sustainability         | Compliance costs, supply chain impacts, investment needs[5] |\\n\\n## Conclusion\\n\\nEvolving and uncertain regulations in AI, competition, consumer protection, content moderation, data privacy, news, and sustainability present significant operational, financial, and reputational risks for Alphabet Inc. The company faces rising compliance costs, increased regulatory scrutiny, and potential restrictions on its business activities, all of which could negatively impact its financial results and competitive position in the digital economy[5][1][4].</td>\n",
       "      <td>NaN</td>\n",
       "      <td>5.0</td>\n",
       "      <td>5.0</td>\n",
       "      <td>5.0</td>\n",
       "      <td>The answer aligns well with the document chunk, accurately describing the impact of evolving regulations on Alphabet Inc.'s operations and risks for fiscal year 2024, including compliance costs, antitrust scrutiny, data privacy, AI, sustainability, and financial risks, all supported by the referenced documents. The presentation is thorough, clearly structured, and covers all relevant regulatory areas mentioned in the question.</td>\n",
       "    </tr>\n",
       "    <tr>\n",
       "      <th>4</th>\n",
       "      <td>How does Meta Platforms, Inc. address the limitations and risks associated with forward-looking statements and the use of non-GAAP financial measures in its financial results for the fourth quarter and full year 2024?</td>\n",
       "      <td>549; 552; 550</td>\n",
       "      <td>Meta Platforms, Inc. addresses the limitations and risks associated with forward-looking statements and the use of non-GAAP financial measures in its financial results for the fourth quarter and full year 2024 through several explicit disclosures and methodological clarifications:\\n\\n## Forward-Looking Statements\\n\\n- Meta clearly identifies forward-looking statements by using terms such as \"believe,\" \"may,\" \"will,\" \"estimate,\" \"continue,\" \"anticipate,\" \"intend,\" and \"expect\" to signal predictions about future events or results[1].\\n\\n- These statements are subject to numerous assumptions, risks, and uncertainties that could cause actual outcomes to differ materially from those expressed or implied. Meta references detailed risk factors and limitations in its filings with the Securities and Exchange Commission (SEC), specifically in sections like \"Risk Factors,\" \"Limitations of Key Metrics and Other Data,\" and \"Management's Discussion and Analysis of Financial Condition and Results of Operations\" in its Annual Report on Form 10-K and Quarterly Report on Form 10-Q[1][2][4].\\n\\n- Meta emphasizes that forward-looking statements speak only as of the date they are made and disclaims any obligation to update or revise these statements in the future, including archived materials which are provided solely for reference[1].\\n\\n- During earnings calls, Meta reiterates that actual results may differ materially from forward-looking statements, reinforcing the caution investors should exercise[5].\\n\\n## Non-GAAP Financial Measures\\n\\n- Meta adjusts its non-GAAP financial measures to provide supplemental information that it believes helps investors better understand underlying business trends. For example, it adjusts revenue for foreign exchange effects by translating revenue using prior year's exchange rates to facilitate comparison with historical performance[3].\\n\\n- In calculating free cash flow, Meta subtracts both purchases of property and equipment and principal payments on finance leases, considering these collectively as the capital expenditures needed to support the business regardless of financing method. This approach aims to provide a clearer picture of the company's capital investment trends[3].\\n\\n- Meta explicitly states that non-GAAP measures are not intended to represent residual cash flow available for discretionary expenditures, clarifying their purpose and limitations[3].\\n\\n- The company provides reconciliations of GAAP to non-GAAP measures in its press releases and SEC filings to ensure transparency and allow investors to understand the adjustments made[3].\\n\\nIn summary, Meta Platforms, Inc. manages the risks and limitations of forward-looking statements by clearly labeling them, disclosing associated risks comprehensively in SEC filings, and disclaiming update obligations. For non-GAAP financial measures, Meta explains its adjustment methodologies, clarifies the intent and limitations of these metrics, and provides reconciliations to GAAP figures to maintain transparency and assist investor understanding[1][2][3][4][5].</td>\n",
       "      <td>NaN</td>\n",
       "      <td>5.0</td>\n",
       "      <td>5.0</td>\n",
       "      <td>5.0</td>\n",
       "      <td>The answer accurately reflects how Meta Platforms, Inc. addresses forward-looking statements and non-GAAP financial measures by citing specific disclosures, risk factors, disclaimers, and reconciliation practices found in the referenced documents. It comprehensively covers both topics with clear, well-organized explanations directly supported by the search results.</td>\n",
       "    </tr>\n",
       "    <tr>\n",
       "      <th>5</th>\n",
       "      <td>What exhibits related to Netflix, Inc.’s fiscal year ended December 31, 2024, are included in the annual report, and what types of certifications and plans are filed with the SEC as part of this report?</td>\n",
       "      <td>659; 645; 555</td>\n",
       "      <td>The annual report for Netflix, Inc.'s fiscal year ended December 31, 2024, includes several exhibits and certifications filed with the SEC. Here are some key components:\\n\\n## Exhibits Included in the Annual Report\\n\\n1. **Exhibit 10.5**: Amended and Restated Performance Bonus Plan.\\n2. **Exhibit 10.6**: Form of Stock Option Agreement under the 2011 Stock Plan.\\n3. **Exhibit 10.7**: Form of Stock Option Agreement under the 2020 Stock Plan.\\n4. **Exhibit 10.8**: Form of Stock Option Agreement under the 2020 Stock Plan (Options Subject to Vesting).\\n5. **Exhibit 10.9**: Netflix, Inc. 2020 Stock Plan Form of Restricted Stock Unit Award Agreement.\\n6. **Exhibit 10.10**: Netflix, Inc. 2020 Stock Plan Form of Performance-Based Restricted Stock Unit Award Agreement.\\n7. **Exhibit 10.11**: Netflix, Inc. Executive Officer Severance Plan.\\n8. **Exhibit 19.1**: Netflix, Inc. Insider Trading Policy.\\n9. **Exhibit 21.1**: List of Significant Subsidiaries.\\n10. **Exhibit 23.1**: Consent of Ernst &amp; Young LLP.\\n11. **Exhibit 31.1, 31.2, 31.3**: Certifications of Co-Chief Executive Officers and Chief Financial Officer Pursuant to Section 302 of the Sarbanes-Oxley Act of 2002.\\n12. **Exhibit 32.1**: Certifications of Co-Chief Executive Officers and Chief Financial Officer Pursuant to Section 906 of the Sarbanes-Oxley Act of 2002.\\n13. **Exhibit 97.1**: Netflix, Inc. Clawback Policy.\\n14. **Exhibit 101**: Financial statements formatted in Inline XBRL.\\n15. **Exhibit 104**: Cover page from the Annual Report on Form 10-K, formatted in Inline XBRL.\\n\\n## Certifications and Plans\\n\\n- **Section 302 Certifications**: These are certifications by the Co-Chief Executive Officers and the Chief Financial Officer that the report complies with the requirements of the Securities Exchange Act of 1934 and fairly presents the financial condition and results of operations of Netflix, Inc. (Exhibits 31.1, 31.2, 31.3).\\n- **Section 906 Certifications**: These are certifications by the Co-Chief Executive Officers and the Chief Financial Officer pursuant to Section 906 of the Sarbanes-Oxley Act of 2002, affirming that the report complies with the Securities Exchange Act of 1934 and fairly presents the financial condition and results of operations (Exhibit 32.1).\\n- **Stock Plans and Agreements**: Various stock option agreements and restricted stock unit award agreements are included, which outline compensation plans for executives and employees.\\n- **Clawback Policy**: This policy allows Netflix to recover certain compensation from executives under specific circumstances (Exhibit 97.1).\\n- **Insider Trading Policy**: This policy governs the trading of Netflix securities by insiders to prevent insider trading violations (Exhibit 19.1).</td>\n",
       "      <td>NaN</td>\n",
       "      <td>3.0</td>\n",
       "      <td>3.0</td>\n",
       "      <td>4.0</td>\n",
       "      <td>The answer lists exhibits and certifications plausibly present in a major SEC filing, but since the document chunk (pages 659, 645, 555) is not detailed here, actual accuracy is indeterminable; completeness is partial as it makes assumptions not verifiable from the snippet; clarity is good, but structure assumes content not confirmed.</td>\n",
       "    </tr>\n",
       "    <tr>\n",
       "      <th>6</th>\n",
       "      <td>How have new US export control restrictions in 2024 negatively impacted NVIDIA Corporation's competitive position compared to certain competitors, and what specific risks do these controls pose for its future business and results in the China market and beyond?</td>\n",
       "      <td>810; 811; 808</td>\n",
       "      <td>The new US export control restrictions imposed in 2024 have significantly impacted NVIDIA Corporation’s competitive position, especially in the China market, and introduced several specific risks for its future business and financial results.\\n\\n## Negative Impact on Competitive Position\\n\\n- **Disadvantage Against Competitors:** NVIDIA is now at a competitive disadvantage compared to certain competitors whose products are not subject to the same export restrictions or who may more easily obtain licenses. This has led to lost sales and market share in China, a region where NVIDIA reported $17 billion in sales in 2024[5].\\n- **Compliance and Licensing Burden:** The management of new licenses and compliance requirements is complex and time-consuming, making NVIDIA’s pre- and post-sale technical support efforts more cumbersome and less certain. This encourages customers in China to seek alternatives, including semiconductor suppliers from China, Europe, and Israel[5].\\n- **Product and Market Exclusion:** The US government has imposed indefinite licensing requirements on NVIDIA’s H20 chip sales to China, and similar controls may be extended to other products. This has already resulted in a $5.5 billion write-down due to unsellable inventory and stranded sales[5].\\n\\n## Specific Risks Posed by Export Controls\\n\\n- **Loss of Market Access:** Further changes or expansions in export controls could exclude NVIDIA from all or part of the China market, as well as other impacted regions such as the Middle East. This could also affect markets in Europe, Latin America, and Southeast Asia if customers choose to “design-out” US semiconductors to reduce compliance risk[5].\\n- **Supply Chain Disruption:** Export controls may disrupt NVIDIA’s supply and distribution chains, particularly for products warehoused in and distributed from Hong Kong. Restrictions on datacenter GPUs could also negatively impact demand for NVIDIA’s networking products used in servers[5].\\n- **Product Development and Inventory Risks:** The possibility of new controls being imposed at any time increases the risk that new products may be subject to export restrictions before they reach the market, leading to excess inventory and stranded investments[5].\\n- **Customer and End-User Restrictions:** Export controls may subject downstream users to additional restrictions on the use, resale, repair, or transfer of NVIDIA products, further complicating customer relationships and service obligations[5].\\n- **Regulatory and Geopolitical Risks:** Increased scrutiny from regulators in China and other regions, as well as potential retaliatory measures, could result in penalties or restrictions on NVIDIA’s ability to conduct business. For example, Chinese regulators have already inquired about NVIDIA’s sales and fulfillment of commitments related to the Mellanox acquisition[5].\\n- **Impact on Cloud and AI Services:** Controls could negatively impact NVIDIA’s ability to provide AI cloud services and affect the cost and availability of services for cloud providers and their end customers, even outside China[5].\\n- **Investment and Innovation Risks:** The uncertainty created by shifting export controls may discourage investment in NVIDIA’s advanced semiconductor products and encourage investment in foreign competitors less likely to be restricted by US controls[5].\\n\\n## Summary Table: Key Risks and Impacts\\n\\n| Risk/Impact Area                | Description                                                                                 |\\n|----------------------------------|---------------------------------------------------------------------------------------------|\\n| Competitive Disadvantage         | Competitors not subject to controls gain market share; customers seek alternatives          |\\n| Compliance Burden                | Licensing and management requirements increase costs and complexity                         |\\n| Market Exclusion                 | Potential loss of access to China and other key markets                                     |\\n| Supply Chain Disruption          | Disruption of warehousing and distribution, especially in Hong Kong                         |\\n| Product Development Risks        | New products may be restricted before launch, leading to stranded inventory                 |\\n| Customer/End-User Restrictions   | Additional restrictions on use, resale, repair, or transfer of products                     |\\n| Regulatory/Geopolitical Risks    | Increased scrutiny, potential penalties, and retaliatory measures                           |\\n| Cloud/AI Service Impact          | Reduced ability to provide and support cloud and AI services                                |\\n| Investment/Innovation Risks      | Uncertainty discourages investment in NVIDIA, benefits foreign competitors                  |\\n\\n## Conclusion\\n\\nThe new US export controls have placed NVIDIA at a significant competitive disadvantage, particularly in the China market, and introduced a range of risks that could materially impact its business, revenue, and financial results. The company faces ongoing challenges related to compliance, market access, supply chain stability, and regulatory scrutiny, all of which could be exacerbated by further changes in export control policies[5][3][1].</td>\n",
       "      <td>NaN</td>\n",
       "      <td>4.0</td>\n",
       "      <td>5.0</td>\n",
       "      <td>5.0</td>\n",
       "      <td>The answer is highly accurate and comprehensive, but a minor factual error exists in the claim of '$17 billion in sales in China in 2024'—no supporting evidence is found in the provided chunks, and the closest validated figure from the chunk refers to projected $12 billion from H20 AI chips[3][5]. The answer otherwise well-covers the risks, competitive impacts, and regulatory issues.</td>\n",
       "    </tr>\n",
       "    <tr>\n",
       "      <th>7</th>\n",
       "      <td>What were the key components and figures of Oracle Corporation's consolidated statements of cash flows for the fiscal year ended May 31, 2024, including net income, operating cash flows, investing activities, and financing activities?</td>\n",
       "      <td>1022; 1016; 1019</td>\n",
       "      <td>For the fiscal year ended May 31, 2024, Oracle Corporation's consolidated statements of cash flows included the following key components and figures:\\n\\n**Net Income:**\\n- Oracle reported a net income of $10.467 billion for fiscal year 2024[2].\\n\\n**Cash Flows from Operating Activities:**\\n- Net cash provided by operating activities was $18.673 billion, reflecting strong cash generation from core business operations.\\n- Key adjustments to reconcile net income to operating cash flow included:\\n  - Depreciation: $3.129 billion\\n  - Amortization of intangible assets: $3.010 billion\\n  - Deferred income taxes (a reduction): $(2.139) billion\\n  - Stock-based compensation: $3.974 billion\\n  - Changes in working capital items such as an increase in trade receivables $(965) million and an increase in deferred revenues $656 million also impacted operating cash flow[2].\\n\\n**Cash Flows from Investing Activities:**\\n- Net cash used for investing activities was $(7.360) billion.\\n- Major investing cash flows included:\\n  - Purchases of marketable securities and other investments: $(1.003) billion\\n  - Proceeds from sales and maturities of marketable securities and other investments: $572 million\\n  - Acquisitions, net of cash acquired: $(63) million\\n  - Capital expenditures: $(6.866) billion[2].\\n\\n**Cash Flows from Financing Activities:**\\n- Net cash used for financing activities was $(10.554) billion.\\n- Significant financing cash flows included:\\n  - Payments for repurchases of common stock: $(1.202) billion\\n  - Proceeds from issuances of common stock: $742 million\\n  - Shares repurchased for tax withholdings upon vesting of restricted stock-based awards: $(2.040) billion\\n  - Payments of dividends to stockholders: $(4.391) billion\\n  - Repayments of senior notes and other borrowings: $(3.500) billion[2].\\n\\n**Cash and Cash Equivalents:**\\n- Cash and cash equivalents at the end of the fiscal year were $10.454 billion, up from $9.765 billion at the beginning of the year[2].\\n\\nIn summary, Oracle generated strong operating cash flow of $18.7 billion in fiscal 2024, invested $7.4 billion primarily in capital expenditures and securities, and returned significant capital to shareholders through dividends and stock repurchases, resulting in a net cash outflow from financing activities of $10.6 billion[2][1].</td>\n",
       "      <td>Expecting value: line 1 column 1 (char 0)</td>\n",
       "      <td>NaN</td>\n",
       "      <td>NaN</td>\n",
       "      <td>NaN</td>\n",
       "      <td>NaN</td>\n",
       "    </tr>\n",
       "    <tr>\n",
       "      <th>8</th>\n",
       "      <td>What risks does Reddit, Inc. identify in its 2024 fiscal year report related to the dependency on its senior management team and key employees, particularly concerning CEO Steven Huffman?</td>\n",
       "      <td>1140; 1121; 1143</td>\n",
       "      <td>The provided search results and context do not specifically mention risks related to Reddit's dependency on its senior management team, particularly concerning CEO Steven Huffman, in the 2024 fiscal year report. However, the context does discuss general risks related to human capital and culture, which could indirectly involve senior management. For instance, it mentions challenges in managing growth and maintaining corporate culture, which could impact innovation and teamwork[1][5]. If you are looking for specific information about risks related to senior management, it might be necessary to review the full report or additional sources.</td>\n",
       "      <td>Expecting value: line 1 column 1 (char 0)</td>\n",
       "      <td>NaN</td>\n",
       "      <td>NaN</td>\n",
       "      <td>NaN</td>\n",
       "      <td>NaN</td>\n",
       "    </tr>\n",
       "    <tr>\n",
       "      <th>9</th>\n",
       "      <td>What was the main reason for the increase in net cash provided by operating activities for Tesla, Inc. during the fiscal year ended December 31, 2024?</td>\n",
       "      <td>1347; 1342; 1334</td>\n",
       "      <td>The main reason for the increase in net cash provided by operating activities for Tesla, Inc. during the fiscal year ended December 31, 2024, was primarily due to favorable changes in net operating assets and liabilities of $2.29 billion. This increase was partially offset by a decrease in net income excluding non-cash expenses, gains, and losses of $623 million[5]. \\n\\nIn summary, the improvement in cash flow from operating activities was largely driven by better management of working capital, which includes accounts receivable, inventory, and accounts payable, among other factors. However, the decrease in net income, excluding non-cash items, somewhat mitigated this positive effect.</td>\n",
       "      <td>NaN</td>\n",
       "      <td>2.0</td>\n",
       "      <td>1.0</td>\n",
       "      <td>3.0</td>\n",
       "      <td>The answer claims the main reason for the increase in net cash from operating activities was due to favorable changes in net operating assets and liabilities of $2.29 billion and a decrease in net income excluding non-cash items by $623 million, but these specific figures and causation are not supported or mentioned in the provided document chunk or search results. The document chunk identifiers (1347; 1342; 1334) are not linked to any concrete data in the search results. The answer also does not align well with the available data showing operating cash flow values but no explicit attribution of increases. The explanation is moderately clear but lacks support and completeness due to missing or unverifiable details.</td>\n",
       "    </tr>\n",
       "  </tbody>\n",
       "</table>\n",
       "</div>"
      ],
      "text/plain": [
       "                                                                                                                                                                                                                                                                                                                                                                question  ...                                                                                                                                                                                                                                                                                                                                                                                                                                                                                                                                                                                                                                                                                                                                   evaluation_comments\n",
       "0                                                                                                                                                                                                           What types of financial statements are included in Amazon's 2024 financial report, as outlined in the document's index to consolidated financial statements?  ...                                                                                                                                                                                                                                                                                                                                                                                                                                                                                                                                                                                                                                                                                                                                                   NaN\n",
       "1                                                                                                                                                                     What forward-looking statements are included in Apple Inc.'s Form 10-K for the fiscal year ended September 28, 2024, and how do they relate to potential future impacts on the company's business?  ...                                                                                                                                                                                                                                                                                                                                                                                                                                                                                                                                       The answer accurately identifies the sections with forward-looking statements, discusses their content and implications, and aligns fully with the referenced document chunk and relevant SEC filings[1][2][3].\n",
       "2  Based on the provided chunk regarding Cisco Systems’ fiscal year 2024 report, here is a question generated according to your requirements:\\n\\n**How did Cisco Systems’ management and principal officers assess the effectiveness of the company’s disclosure controls and procedures for fiscal year 2024, and what was their conclusion regarding those controls?**  ...                                                                                                                                                                                                                                                          The answer accurately reflects the information from the provided document chunk, detailing the management's assessment process, the framework used (COSO 2013), the exclusion of Splunk Inc. in the evaluation per SEC guidance, and the conclusion that Cisco's internal control over financial reporting was effective as of July 27, 2024. It also correctly states PricewaterhouseCoopers LLP's concurring audit opinion. The response fully answers the question clearly and precisely.\n",
       "3                                                                                How do evolving and uncertain regulations in areas such as AI, competition, consumer protection, content moderation, data privacy, news, and sustainability impact Alphabet Inc.'s business operations and risks, particularly as reported for the fiscal year ended December 31, 2024?  ...                                                                                                                                                                                                                                                                                                        The answer aligns well with the document chunk, accurately describing the impact of evolving regulations on Alphabet Inc.'s operations and risks for fiscal year 2024, including compliance costs, antitrust scrutiny, data privacy, AI, sustainability, and financial risks, all supported by the referenced documents. The presentation is thorough, clearly structured, and covers all relevant regulatory areas mentioned in the question.\n",
       "4                                                                                                                                              How does Meta Platforms, Inc. address the limitations and risks associated with forward-looking statements and the use of non-GAAP financial measures in its financial results for the fourth quarter and full year 2024?  ...                                                                                                                                                                                                                                                                                                                                                                       The answer accurately reflects how Meta Platforms, Inc. addresses forward-looking statements and non-GAAP financial measures by citing specific disclosures, risk factors, disclaimers, and reconciliation practices found in the referenced documents. It comprehensively covers both topics with clear, well-organized explanations directly supported by the search results.\n",
       "5                                                                                                                                                             What exhibits related to Netflix, Inc.’s fiscal year ended December 31, 2024, are included in the annual report, and what types of certifications and plans are filed with the SEC as part of this report?  ...                                                                                                                                                                                                                                                                                                                                                                                                      The answer lists exhibits and certifications plausibly present in a major SEC filing, but since the document chunk (pages 659, 645, 555) is not detailed here, actual accuracy is indeterminable; completeness is partial as it makes assumptions not verifiable from the snippet; clarity is good, but structure assumes content not confirmed.\n",
       "6                                                                                                  How have new US export control restrictions in 2024 negatively impacted NVIDIA Corporation's competitive position compared to certain competitors, and what specific risks do these controls pose for its future business and results in the China market and beyond?  ...                                                                                                                                                                                                                                                                                                                                                    The answer is highly accurate and comprehensive, but a minor factual error exists in the claim of '$17 billion in sales in China in 2024'—no supporting evidence is found in the provided chunks, and the closest validated figure from the chunk refers to projected $12 billion from H20 AI chips[3][5]. The answer otherwise well-covers the risks, competitive impacts, and regulatory issues.\n",
       "7                                                                                                                             What were the key components and figures of Oracle Corporation's consolidated statements of cash flows for the fiscal year ended May 31, 2024, including net income, operating cash flows, investing activities, and financing activities?  ...                                                                                                                                                                                                                                                                                                                                                                                                                                                                                                                                                                                                                                                                                                                                                   NaN\n",
       "8                                                                                                                                                                            What risks does Reddit, Inc. identify in its 2024 fiscal year report related to the dependency on its senior management team and key employees, particularly concerning CEO Steven Huffman?  ...                                                                                                                                                                                                                                                                                                                                                                                                                                                                                                                                                                                                                                                                                                                                                   NaN\n",
       "9                                                                                                                                                                                                                 What was the main reason for the increase in net cash provided by operating activities for Tesla, Inc. during the fiscal year ended December 31, 2024?  ...  The answer claims the main reason for the increase in net cash from operating activities was due to favorable changes in net operating assets and liabilities of $2.29 billion and a decrease in net income excluding non-cash items by $623 million, but these specific figures and causation are not supported or mentioned in the provided document chunk or search results. The document chunk identifiers (1347; 1342; 1334) are not linked to any concrete data in the search results. The answer also does not align well with the available data showing operating cash flow values but no explicit attribution of increases. The explanation is moderately clear but lacks support and completeness due to missing or unverifiable details.\n",
       "\n",
       "[10 rows x 8 columns]"
      ]
     },
     "execution_count": 21,
     "metadata": {},
     "output_type": "execute_result"
    }
   ],
   "source": [
    "final_df1.head(10)"
   ]
  },
  {
   "cell_type": "code",
   "execution_count": 22,
   "metadata": {},
   "outputs": [
    {
     "data": {
      "text/html": [
       "<div>\n",
       "<style scoped>\n",
       "    .dataframe tbody tr th:only-of-type {\n",
       "        vertical-align: middle;\n",
       "    }\n",
       "\n",
       "    .dataframe tbody tr th {\n",
       "        vertical-align: top;\n",
       "    }\n",
       "\n",
       "    .dataframe thead th {\n",
       "        text-align: right;\n",
       "    }\n",
       "</style>\n",
       "<table border=\"1\" class=\"dataframe\">\n",
       "  <thead>\n",
       "    <tr style=\"text-align: right;\">\n",
       "      <th></th>\n",
       "      <th>question</th>\n",
       "      <th>top_k_chunk</th>\n",
       "      <th>answer</th>\n",
       "      <th>evaluation_factual_correctness_score</th>\n",
       "      <th>evaluation_completeness_score</th>\n",
       "      <th>evaluation_clarity_score</th>\n",
       "      <th>evaluation_comments</th>\n",
       "      <th>evaluation_error</th>\n",
       "    </tr>\n",
       "  </thead>\n",
       "  <tbody>\n",
       "    <tr>\n",
       "      <th>0</th>\n",
       "      <td>What types of financial statements are included in Amazon's 2024 financial report, as outlined in the document's index to consolidated financial statements?</td>\n",
       "      <td>85; 47; 52; 45; 13</td>\n",
       "      <td>Based on the provided context, the types of financial statements included in Amazon's 2024 financial report are:\\n\\n- **Consolidated Statements of Cash Flows** for each of the three years ended December 31, 2024\\n- **Consolidated Statements of Operations** for each of the three years ended December 31, 2024\\n- **Consolidated Statements of Comprehensive Income (Loss)** for each of the three years ended December 31, 2024\\n- **Consolidated Balance Sheets** as of December 31, 2023 and 2024\\n- **Consolidated Statements of Stockholders’ Equity** for each of the three years ended December 31, 2024\\n\\nThese are explicitly mentioned in the context. However, if you are looking for a more detailed index or specific types not listed here, the provided context does not offer additional information beyond these statements.</td>\n",
       "      <td>2.0</td>\n",
       "      <td>2.0</td>\n",
       "      <td>4.0</td>\n",
       "      <td>The answer lists plausible financial statements, but none of the named statements or years are explicitly supported by the provided context (document chunk: 85; 47; 52; 45; 13), which only contains page numbers without any statement names or contents. The answer is clear but not accurate or complete based on the given chunk.</td>\n",
       "      <td>NaN</td>\n",
       "    </tr>\n",
       "    <tr>\n",
       "      <th>1</th>\n",
       "      <td>What forward-looking statements are included in Apple Inc.'s Form 10-K for the fiscal year ended September 28, 2024, and how do they relate to potential future impacts on the company's business?</td>\n",
       "      <td>120; 345; 454; 93</td>\n",
       "      <td>Based on the provided information, Apple Inc.'s Form 10-K for the fiscal year ended September 28, 2024, includes forward-looking statements that are typically located in Part I, Item 1 under the heading \"Business\" and Part II, Item 7 under the heading \"Management’s Discussion and Analysis of Financial Condition and Results of Operations\" [1][2]. These statements involve risks and uncertainties, such as the potential future impact of macroeconomic conditions on the company's business and results of operations [1]. Additionally, forward-looking statements may include those about payment of the Company's quarterly dividend and future business plans [4].\\n\\nHowever, specific details about these forward-looking statements and their relation to potential future impacts on Apple's business are not explicitly outlined in the provided context. Therefore, for detailed insights, it would be necessary to review the actual Form 10-K document. \\n\\nIn summary, while we know where to find these statements and some general topics they cover, the exact content and implications of these forward-looking statements are not detailed in the provided information.</td>\n",
       "      <td>5.0</td>\n",
       "      <td>4.0</td>\n",
       "      <td>5.0</td>\n",
       "      <td>The answer correctly identifies where forward-looking statements can be found in Apple Inc.'s Form 10-K and mentions general topics such as macroeconomic risks and dividends, consistent with the provided sources. However, it notes the lack of specific detailed content in the document chunk, making it mostly complete but not fully detailed regarding the statements' explicit content and implications.</td>\n",
       "      <td>NaN</td>\n",
       "    </tr>\n",
       "    <tr>\n",
       "      <th>2</th>\n",
       "      <td>Based on the provided chunk regarding Cisco Systems’ fiscal year 2024 report, here is a question generated according to your requirements:\\n\\n**How did Cisco Systems’ management and principal officers assess the effectiveness of the company’s disclosure controls and procedures for fiscal year 2024, and what was their conclusion regarding those controls?**</td>\n",
       "      <td>287; 224; 214; 284</td>\n",
       "      <td>I don't know based on the provided document.</td>\n",
       "      <td>5.0</td>\n",
       "      <td>5.0</td>\n",
       "      <td>5.0</td>\n",
       "      <td>The answer is consistent with the document chunk: no assessment of disclosure controls is found in the provided documents, so stating 'I don't know' is fully correct and clear.</td>\n",
       "      <td>NaN</td>\n",
       "    </tr>\n",
       "    <tr>\n",
       "      <th>3</th>\n",
       "      <td>How do evolving and uncertain regulations in areas such as AI, competition, consumer protection, content moderation, data privacy, news, and sustainability impact Alphabet Inc.'s business operations and risks, particularly as reported for the fiscal year ended December 31, 2024?</td>\n",
       "      <td>652; 347; 345; 353</td>\n",
       "      <td>Evolving and uncertain regulations in areas such as AI, competition, consumer protection, content moderation, data privacy, news, and sustainability have a significant impact on Alphabet Inc.'s business operations and risk profile, as detailed in its fiscal year 2024 disclosures.\\n\\n**Key Impacts on Business Operations and Risks**\\n\\n- **Increased Regulatory Scrutiny and Compliance Costs**  \\n  Alphabet faces heightened regulatory scrutiny from multiple jurisdictions, including the U.S., EU, UK, and China. New and evolving laws—such as the EU AI Act, Digital Markets Act, Digital Services Act, and proposed U.S. privacy legislation—impose substantial compliance obligations. These can increase operational costs, require changes to business practices, and limit the company’s ability to offer certain products or services[4].\\n- **Operational and Strategic Challenges**  \\n  The company must navigate a patchwork of regulations that are not always consistent across jurisdictions. This uncertainty can make it difficult to plan and execute global strategies, especially in areas like AI, data privacy, and content moderation. Alphabet may need to modify its business models, restrict certain activities, or delay product launches to comply with new or changing rules[4].\\n- **Legal and Financial Risks**  \\n  Alphabet is subject to ongoing investigations, lawsuits, and enforcement actions related to antitrust, data privacy, and AI. Violations of applicable laws—even unintentional ones—can result in significant fines, criminal sanctions, reputational damage, and restrictions on business operations. For example, the EU’s Digital Services Act allows for fines of up to 6% of global revenue for non-compliance[4].\\n- **Impact on Innovation and Market Position**  \\n  Regulatory restrictions on AI technologies, data usage, and advertising practices can limit Alphabet’s ability to innovate and maintain its competitive edge. Compliance burdens may also slow down the deployment of new systems and reduce the number of new entrants or customers in certain markets, potentially harming financial results[4].\\n- **Reputational and Liability Risks**  \\n  The development and use of AI, as well as issues related to harmful content and data privacy, expose Alphabet to reputational harm and increased liability. The company must continuously adapt to evolving legal standards and public expectations in these areas[4].\\n- **Global and Geopolitical Considerations**  \\n  Changes in trade policies, export controls, and geopolitical tensions—especially concerning AI-related hardware and software—can further complicate Alphabet’s operations. Restrictions on exports of GPUs and other technologies may limit the company’s ability to serve global customers and partners[4].\\n\\n**Summary Table: Regulatory Impact on Alphabet Inc.**\\n\\n| Regulatory Area         | Impact on Operations &amp; Risks                                                                 |\\n|------------------------|----------------------------------------------------------------------------------------------|\\n| AI                     | Increased compliance costs, operational challenges, liability, and reputational risks         |\\n| Competition            | Antitrust investigations, fines, restrictions on business practices, market position risks   |\\n| Consumer Protection    | Compliance costs, changes to products/services, legal and reputational risks                 |\\n| Content Moderation     | Operational complexity, reputational risks, legal liability                                  |\\n| Data Privacy           | Compliance costs, restrictions on data usage, legal and reputational risks                   |\\n| News                   | Regulatory uncertainty, potential restrictions on content and partnerships                   |\\n| Sustainability         | Compliance costs, reputational risks, operational adjustments                                |\\n\\n**Conclusion**\\n\\nAlphabet Inc. is operating in a highly dynamic and uncertain regulatory environment. The company’s ability to manage these risks is critical to its ongoing success, but evolving and inconsistent regulations across jurisdictions present ongoing challenges to its business operations, financial results, and strategic initiatives for the fiscal year ended December 31, 2024[4].</td>\n",
       "      <td>NaN</td>\n",
       "      <td>NaN</td>\n",
       "      <td>NaN</td>\n",
       "      <td>NaN</td>\n",
       "      <td>Expecting value: line 1 column 1 (char 0)</td>\n",
       "    </tr>\n",
       "    <tr>\n",
       "      <th>4</th>\n",
       "      <td>How does Meta Platforms, Inc. address the limitations and risks associated with forward-looking statements and the use of non-GAAP financial measures in its financial results for the fourth quarter and full year 2024?</td>\n",
       "      <td>442; 446; 449; 448; 447</td>\n",
       "      <td>I don't know based on the provided document. The search results do not explicitly address how Meta Platforms, Inc. handles the limitations and risks associated with forward-looking statements and the use of non-GAAP financial measures in its financial results for the fourth quarter and full year 2024. However, general information about forward-looking statements typically includes discussions of risks and uncertainties, which can be found in SEC filings and investor relations materials[1][2][3]. For specific details, referring to Meta's official financial reports or press releases for that period would be necessary.</td>\n",
       "      <td>5.0</td>\n",
       "      <td>5.0</td>\n",
       "      <td>5.0</td>\n",
       "      <td>The answer correctly states that the provided document does not explicitly address how Meta Platforms, Inc. manages the limitations and risks related to forward-looking statements and non-GAAP measures for Q4 and full year 2024. It also appropriately references general information from the cited search results about the presence of risk and uncertainty disclosures in Meta's SEC filings and financial reports, accurately reflecting the given data. The response is clear and precise in explaining the absence of direct information and suggests where such details are typically found.</td>\n",
       "      <td>NaN</td>\n",
       "    </tr>\n",
       "    <tr>\n",
       "      <th>5</th>\n",
       "      <td>What exhibits related to Netflix, Inc.’s fiscal year ended December 31, 2024, are included in the annual report, and what types of certifications and plans are filed with the SEC as part of this report?</td>\n",
       "      <td>453; 520; 521; 533; 534</td>\n",
       "      <td>Based on the provided context, the exhibits included in Netflix, Inc.'s annual report for the fiscal year ended December 31, 2024, are listed as follows:\\n\\n- **EX-31.3**: Certification of the Chief Financial Officer pursuant to Section 302 of the Sarbanes-Oxley Act of 2002.\\n- Other exhibits mentioned include **EX-19.1**, **EX-21.1**, **EX-23.1**, **EX-31.1**, **EX-31.2**, and **EX-32.1**.\\n\\nAs for certifications, the report includes those from the Co-Chief Executive Officers and the Chief Financial Officer under Sections 302 and 906 of the Sarbanes-Oxley Act of 2002.\\n\\nRegarding plans filed with the SEC, the context mentions the Netflix, Inc. 2020 Stock Plan and the Executive Officer Severance Plan.\\n\\nFor more detailed information on specific exhibits and plans, one would need to refer to the actual SEC filings or the annual report itself.</td>\n",
       "      <td>5.0</td>\n",
       "      <td>5.0</td>\n",
       "      <td>5.0</td>\n",
       "      <td>The answer correctly identifies the exhibits related to Netflix's fiscal year ended December 31, 2024, including the certifications under Sections 302 and 906 of the Sarbanes-Oxley Act and mentions specific plans such as the 2020 Stock Plan and Executive Officer Severance Plan as filed with the SEC. It fully addresses both parts of the question clearly and comprehensively.</td>\n",
       "      <td>NaN</td>\n",
       "    </tr>\n",
       "    <tr>\n",
       "      <th>6</th>\n",
       "      <td>How have new US export control restrictions in 2024 negatively impacted NVIDIA Corporation's competitive position compared to certain competitors, and what specific risks do these controls pose for its future business and results in the China market and beyond?</td>\n",
       "      <td>662; 654; 653; 585; 637</td>\n",
       "      <td>The new US export control restrictions in 2024 have negatively impacted NVIDIA Corporation's competitive position in several significant ways, particularly in the China market and beyond:\\n\\n### Negative Impact on NVIDIA's Competitive Position\\n\\n- **Restricted Sales of Key AI Chips**: The US government imposed export controls that restrict NVIDIA's ability to sell certain advanced AI chips, including the H20 chip designed specifically for the Chinese market. This chip now requires a special license for indefinite future sales in China, which has not been granted, leading to shipment delays and lost sales opportunities[2][3][5].\\n\\n- **Financial Impact**: NVIDIA has projected a $5.5 billion financial impact related to inventory, purchase commitments, and reserves tied to the H20 chip line due to these export controls. This sizable charge reflects the direct cost of restricted sales and excess inventory[2][3].\\n\\n- **Competitive Disadvantage**: Competitors who sell products not subject to these US restrictions or who can more easily acquire licenses gain a competitive advantage. The licensing process for NVIDIA is complicated, time-consuming, and uncertain, which discourages customers in China from purchasing NVIDIA products and encourages them to seek alternatives from semiconductor suppliers based in China, Europe, and Israel[Context].\\n\\n- **Supply Chain and Distribution Disruptions**: The controls also restrict gaming GPUs and networking products, potentially disrupting NVIDIA's supply and distribution chains, including those warehoused in Hong Kong. This disruption further harms NVIDIA's ability to serve demand efficiently[Context].\\n\\n- **Customer and Market Shifts**: Due to the cumbersome licensing and compliance requirements, customers in China and other affected regions may switch to competitors' products to avoid compliance burdens. Additionally, customers outside China might redesign their systems to exclude US semiconductors, further eroding NVIDIA's market share globally, including in Europe, Latin America, and Southeast Asia[Context].\\n\\n### Specific Risks for Future Business and Results\\n\\n- **Exclusion from Key Markets**: The export controls risk excluding NVIDIA from all or part of the China market and other impacted markets such as the Middle East. This exclusion could substantially reduce NVIDIA's revenue from these regions[Context].\\n\\n- **Increased Compliance Costs and Operational Complexity**: Managing licenses and compliance requirements is complicated and time-consuming, increasing operational costs and creating uncertainty in pre-sale and post-sale technical support. This complexity may harm customer relationships and future sales[Context].\\n\\n- **Potential for Further Restrictions**: Given the strategic importance of AI and geopolitical tensions, the US government may further tighten export controls, expanding the range of products subject to restrictions. This could prevent NVIDIA from selling existing inventory or developing replacement products not subject to licensing, further harming its competitive position and financial results[Context].\\n\\n- **Supply Chain Risks**: The need to transition some operations out of China and Hong Kong to comply with export controls is costly and time-consuming, potentially disrupting research, development, supply, and distribution operations during transition periods[Context].\\n\\n- **Impact on Research and Development**: Additional export restrictions may include deemed export control limitations that could negatively impact NVIDIA's ability to execute its research and development roadmap in a timely manner, affecting innovation and future product development[Context].\\n\\n- **Broader Market Impact**: Export controls not only affect sales in China but also could provoke retaliatory measures from foreign governments, negatively impacting NVIDIA's supply chain and ability to serve customers worldwide[Context].\\n\\nIn summary, the 2024 US export control restrictions have materially harmed NVIDIA's competitive position by limiting its ability to sell key AI chips in China, increasing operational and compliance burdens, disrupting supply chains, and encouraging customers to turn to less restricted competitors. These controls pose significant risks to NVIDIA's future business and financial results both in China and globally, with the potential for further deterioration if export controls expand or licenses are delayed or denied[Context][2][3][5].</td>\n",
       "      <td>5.0</td>\n",
       "      <td>5.0</td>\n",
       "      <td>5.0</td>\n",
       "      <td>The answer is fully accurate, details all key impacts and risks, and is clearly structured with no major omissions or errors relative to the document chunk.</td>\n",
       "      <td>NaN</td>\n",
       "    </tr>\n",
       "    <tr>\n",
       "      <th>7</th>\n",
       "      <td>What were the key components and figures of Oracle Corporation's consolidated statements of cash flows for the fiscal year ended May 31, 2024, including net income, operating cash flows, investing activities, and financing activities?</td>\n",
       "      <td>831; 837; 835; 829; 832</td>\n",
       "      <td>Here are the key components and figures of Oracle Corporation's consolidated statements of cash flows for the fiscal year ended May 31, 2024, based on the available information:\\n\\n## Key Components and Figures\\n\\n- **Net Income**: $10,467 million[2].\\n- **Operating Cash Flows**: Net cash provided by operating activities was $18,700 million (reported as $18.7 billion) during fiscal year 2024, up 9% in USD[1][2].\\n  - **Adjustments to Reconcile Net Income to Net Cash Provided by Operating Activities**:\\n    - **Depreciation**: $3,129 million\\n    - **Amortization of Intangible Assets**: $3,010 million\\n    - **Deferred Income Taxes**: $(2,139) million\\n    - **Stock-Based Compensation**: $3,974 million\\n    - **Other, Net**: $720 million\\n  - **Changes in Operating Assets and Liabilities**:\\n    - **Increase in Trade Receivables, Net**: $(965) million\\n    - **Decrease in Prepaid Expenses and Other Assets**: $542 million\\n    - **Decrease in Accounts Payable and Other Liabilities**: $(594) million\\n    - **Decrease in Income Taxes Payable**: $(127) million\\n    - **Increase in Deferred Revenues**: $656 million[2].\\n\\nFor **Investing Activities** and **Financing Activities**, the provided context does not include detailed figures. However, the following information is available:\\n\\n- **Investing Activities**: The context does not provide specific figures for investing activities like purchases of marketable securities, proceeds from sales and maturities, acquisitions, or capital expenditures for the fiscal year ended May 31, 2024.\\n- **Financing Activities**: Similarly, detailed figures for financing activities such as payments for repurchases of common stock, proceeds from issuances of common stock, payments of dividends, and repayments of senior notes are not explicitly stated in the context.\\n\\nTo obtain comprehensive details on investing and financing activities, one would need to refer to the full financial statements.</td>\n",
       "      <td>5.0</td>\n",
       "      <td>4.0</td>\n",
       "      <td>5.0</td>\n",
       "      <td>The answer accurately presents key figures for net income and operating cash flows including detailed adjustments and changes in operating assets and liabilities, all consistent with the document chunk. It correctly notes the absence of specific investing and financing activities data in the provided context. The explanation is clear and well-structured, but completeness is slightly impacted by the lack of detailed investing and financing activities, which the answer appropriately acknowledges.</td>\n",
       "      <td>NaN</td>\n",
       "    </tr>\n",
       "    <tr>\n",
       "      <th>8</th>\n",
       "      <td>What risks does Reddit, Inc. identify in its 2024 fiscal year report related to the dependency on its senior management team and key employees, particularly concerning CEO Steven Huffman?</td>\n",
       "      <td>985; 922; 958; 929</td>\n",
       "      <td>I don't know based on the provided documents. The context does not specifically mention risks related to the dependency on Reddit's senior management team, particularly concerning CEO Steven Huffman. However, it does mention a general risk related to the ability to identify, recruit, hire, and retain skilled personnel, including key members of senior management[5].</td>\n",
       "      <td>5.0</td>\n",
       "      <td>4.0</td>\n",
       "      <td>5.0</td>\n",
       "      <td>The answer correctly states that the provided documents do not specifically mention risks related to dependency on senior management or CEO Steven Huffman but do mention general risks about hiring and retaining key personnel[5]. However, it could be slightly more complete by explicitly noting that the risk is general and not specifically linked to the CEO or senior management team as the question asks.</td>\n",
       "      <td>NaN</td>\n",
       "    </tr>\n",
       "    <tr>\n",
       "      <th>9</th>\n",
       "      <td>What was the main reason for the increase in net cash provided by operating activities for Tesla, Inc. during the fiscal year ended December 31, 2024?</td>\n",
       "      <td>416; 1098; 1086; 1091; 1093</td>\n",
       "      <td>The main reason for the increase in net cash provided by operating activities for Tesla, Inc. during the fiscal year ended December 31, 2024, was primarily due to favorable changes in net operating assets and liabilities, which contributed approximately $2.29 billion. This positive effect was partially offset by a decrease in net income excluding non-cash expenses, gains, and losses of about $623 million. Overall, these factors led to an increase of $1.67 billion in net cash provided by operating activities, rising from $13.26 billion in 2023 to $14.92 billion in 2024[2].</td>\n",
       "      <td>2.0</td>\n",
       "      <td>2.0</td>\n",
       "      <td>4.0</td>\n",
       "      <td>The answer claims a specific breakdown of asset/liability changes and net income impact not referenced in the chunk, and misrepresents the scale and cause of cash flow change seen in the documents, which only show general increases without such details.</td>\n",
       "      <td>NaN</td>\n",
       "    </tr>\n",
       "  </tbody>\n",
       "</table>\n",
       "</div>"
      ],
      "text/plain": [
       "                                                                                                                                                                                                                                                                                                                                                                question  ...                           evaluation_error\n",
       "0                                                                                                                                                                                                           What types of financial statements are included in Amazon's 2024 financial report, as outlined in the document's index to consolidated financial statements?  ...                                        NaN\n",
       "1                                                                                                                                                                     What forward-looking statements are included in Apple Inc.'s Form 10-K for the fiscal year ended September 28, 2024, and how do they relate to potential future impacts on the company's business?  ...                                        NaN\n",
       "2  Based on the provided chunk regarding Cisco Systems’ fiscal year 2024 report, here is a question generated according to your requirements:\\n\\n**How did Cisco Systems’ management and principal officers assess the effectiveness of the company’s disclosure controls and procedures for fiscal year 2024, and what was their conclusion regarding those controls?**  ...                                        NaN\n",
       "3                                                                                How do evolving and uncertain regulations in areas such as AI, competition, consumer protection, content moderation, data privacy, news, and sustainability impact Alphabet Inc.'s business operations and risks, particularly as reported for the fiscal year ended December 31, 2024?  ...  Expecting value: line 1 column 1 (char 0)\n",
       "4                                                                                                                                              How does Meta Platforms, Inc. address the limitations and risks associated with forward-looking statements and the use of non-GAAP financial measures in its financial results for the fourth quarter and full year 2024?  ...                                        NaN\n",
       "5                                                                                                                                                             What exhibits related to Netflix, Inc.’s fiscal year ended December 31, 2024, are included in the annual report, and what types of certifications and plans are filed with the SEC as part of this report?  ...                                        NaN\n",
       "6                                                                                                  How have new US export control restrictions in 2024 negatively impacted NVIDIA Corporation's competitive position compared to certain competitors, and what specific risks do these controls pose for its future business and results in the China market and beyond?  ...                                        NaN\n",
       "7                                                                                                                             What were the key components and figures of Oracle Corporation's consolidated statements of cash flows for the fiscal year ended May 31, 2024, including net income, operating cash flows, investing activities, and financing activities?  ...                                        NaN\n",
       "8                                                                                                                                                                            What risks does Reddit, Inc. identify in its 2024 fiscal year report related to the dependency on its senior management team and key employees, particularly concerning CEO Steven Huffman?  ...                                        NaN\n",
       "9                                                                                                                                                                                                                 What was the main reason for the increase in net cash provided by operating activities for Tesla, Inc. during the fiscal year ended December 31, 2024?  ...                                        NaN\n",
       "\n",
       "[10 rows x 8 columns]"
      ]
     },
     "execution_count": 22,
     "metadata": {},
     "output_type": "execute_result"
    }
   ],
   "source": [
    "final_df2.head(10)"
   ]
  },
  {
   "cell_type": "markdown",
   "metadata": {},
   "source": [
    "## MODEL 2"
   ]
  },
  {
   "cell_type": "code",
   "execution_count": 20,
   "metadata": {},
   "outputs": [
    {
     "ename": "ImportError",
     "evalue": "cannot import name 'QA2' from 'user_models.example_2.qa' (c:\\Users\\alice\\perplexity_hack\\user_models\\example_2\\qa.py)",
     "output_type": "error",
     "traceback": [
      "\u001b[31m---------------------------------------------------------------------------\u001b[39m",
      "\u001b[31mImportError\u001b[39m                               Traceback (most recent call last)",
      "\u001b[36mCell\u001b[39m\u001b[36m \u001b[39m\u001b[32mIn[20]\u001b[39m\u001b[32m, line 3\u001b[39m\n\u001b[32m      1\u001b[39m \u001b[38;5;28;01mfrom\u001b[39;00m\u001b[38;5;250m \u001b[39m\u001b[34;01muser_models\u001b[39;00m\u001b[34;01m.\u001b[39;00m\u001b[34;01mexample_1\u001b[39;00m\u001b[34;01m.\u001b[39;00m\u001b[34;01mmodel\u001b[39;00m\u001b[38;5;250m \u001b[39m\u001b[38;5;28;01mimport\u001b[39;00m qa, finalize\n\u001b[32m      2\u001b[39m \u001b[38;5;28;01mfrom\u001b[39;00m\u001b[38;5;250m \u001b[39m\u001b[34;01muser_models\u001b[39;00m\u001b[34;01m.\u001b[39;00m\u001b[34;01mcreateplot\u001b[39;00m\u001b[38;5;250m \u001b[39m\u001b[38;5;28;01mimport\u001b[39;00m plot\n\u001b[32m----> \u001b[39m\u001b[32m3\u001b[39m \u001b[38;5;28;01mfrom\u001b[39;00m\u001b[38;5;250m \u001b[39m\u001b[34;01muser_models\u001b[39;00m\u001b[34;01m.\u001b[39;00m\u001b[34;01mexample_2\u001b[39;00m\u001b[34;01m.\u001b[39;00m\u001b[34;01mqa\u001b[39;00m\u001b[38;5;250m \u001b[39m\u001b[38;5;28;01mimport\u001b[39;00m QA2\n\u001b[32m      4\u001b[39m \u001b[38;5;28;01mfrom\u001b[39;00m\u001b[38;5;250m \u001b[39m\u001b[34;01muser_models\u001b[39;00m\u001b[34;01m.\u001b[39;00m\u001b[34;01mevaluate\u001b[39;00m\u001b[38;5;250m \u001b[39m\u001b[38;5;28;01mimport\u001b[39;00m evaluate_answer\n\u001b[32m      6\u001b[39m df2 = qa(QA2)\n",
      "\u001b[31mImportError\u001b[39m: cannot import name 'QA2' from 'user_models.example_2.qa' (c:\\Users\\alice\\perplexity_hack\\user_models\\example_2\\qa.py)"
     ]
    }
   ],
   "source": [
    "from user_models.example_1.model import qa, finalize\n",
    "from user_models.createplot import plot\n",
    "from user_models.example_2.qa import QA2\n",
    "from user_models.evaluate import evaluate_answer\n",
    "\n",
    "df2 = qa(QA2)\n",
    "final_df2 = finalize(evaluate_answer, df2)"
   ]
  },
  {
   "cell_type": "code",
   "execution_count": null,
   "metadata": {},
   "outputs": [
    {
     "data": {
      "text/html": [
       "<div>\n",
       "<style scoped>\n",
       "    .dataframe tbody tr th:only-of-type {\n",
       "        vertical-align: middle;\n",
       "    }\n",
       "\n",
       "    .dataframe tbody tr th {\n",
       "        vertical-align: top;\n",
       "    }\n",
       "\n",
       "    .dataframe thead th {\n",
       "        text-align: right;\n",
       "    }\n",
       "</style>\n",
       "<table border=\"1\" class=\"dataframe\">\n",
       "  <thead>\n",
       "    <tr style=\"text-align: right;\">\n",
       "      <th></th>\n",
       "      <th>question</th>\n",
       "      <th>top_k_chunk</th>\n",
       "      <th>answer</th>\n",
       "      <th>evaluation_factual_correctness_score</th>\n",
       "      <th>evaluation_completeness_score</th>\n",
       "      <th>evaluation_clarity_score</th>\n",
       "      <th>evaluation_comments</th>\n",
       "    </tr>\n",
       "  </thead>\n",
       "  <tbody>\n",
       "    <tr>\n",
       "      <th>0</th>\n",
       "      <td>How could challenges in hiring, retaining, and...</td>\n",
       "      <td>27; 1; 39</td>\n",
       "      <td>Challenges in hiring, retaining, and managing ...</td>\n",
       "      <td>5</td>\n",
       "      <td>5</td>\n",
       "      <td>5</td>\n",
       "      <td>The answer thoroughly addresses how challenges...</td>\n",
       "    </tr>\n",
       "    <tr>\n",
       "      <th>1</th>\n",
       "      <td>What was the total lease liability for Apple I...</td>\n",
       "      <td>154; 386; 157</td>\n",
       "      <td>As of September 28, 2024, Apple Inc. had fixed...</td>\n",
       "      <td>2</td>\n",
       "      <td>2</td>\n",
       "      <td>5</td>\n",
       "      <td>The answer correctly states the total lease li...</td>\n",
       "    </tr>\n",
       "    <tr>\n",
       "      <th>2</th>\n",
       "      <td>What are the key competitive challenges Cisco ...</td>\n",
       "      <td>321; 293; 248</td>\n",
       "      <td>In 2024, Cisco faced several key competitive c...</td>\n",
       "      <td>4</td>\n",
       "      <td>4</td>\n",
       "      <td>5</td>\n",
       "      <td>The answer is largely accurate, but lacks spec...</td>\n",
       "    </tr>\n",
       "    <tr>\n",
       "      <th>3</th>\n",
       "      <td>Based on the Alphabet Inc. fiscal year ended D...</td>\n",
       "      <td>528; 527; 497</td>\n",
       "      <td>For Alphabet Inc. in the fiscal year ended Dec...</td>\n",
       "      <td>2</td>\n",
       "      <td>3</td>\n",
       "      <td>4</td>\n",
       "      <td>The answer provides specific per-share figures...</td>\n",
       "    </tr>\n",
       "    <tr>\n",
       "      <th>4</th>\n",
       "      <td>What were the key financial results reported b...</td>\n",
       "      <td>544; 552; 549</td>\n",
       "      <td>Here are the key financial results reported by...</td>\n",
       "      <td>4</td>\n",
       "      <td>4</td>\n",
       "      <td>5</td>\n",
       "      <td>Most facts are correct and sourced, but there ...</td>\n",
       "    </tr>\n",
       "    <tr>\n",
       "      <th>5</th>\n",
       "      <td>What operational and strategic challenges did ...</td>\n",
       "      <td>610; 609; 617</td>\n",
       "      <td>Based on the available information, Netflix fa...</td>\n",
       "      <td>5</td>\n",
       "      <td>4</td>\n",
       "      <td>5</td>\n",
       "      <td>The answer correctly identifies all major oper...</td>\n",
       "    </tr>\n",
       "    <tr>\n",
       "      <th>6</th>\n",
       "      <td>Question:  \\r\\nWhere, as required by law, does...</td>\n",
       "      <td>768; 660; 723</td>\n",
       "      <td>NVIDIA Corporation files lobbying disclosure r...</td>\n",
       "      <td>5</td>\n",
       "      <td>5</td>\n",
       "      <td>5</td>\n",
       "      <td>The answer correctly states that NVIDIA files ...</td>\n",
       "    </tr>\n",
       "    <tr>\n",
       "      <th>7</th>\n",
       "      <td>What highlights or key financial metrics are i...</td>\n",
       "      <td>1022; 886; 1018</td>\n",
       "      <td>Oracle Corporation's fiscal year 2024 Form 10-...</td>\n",
       "      <td>5</td>\n",
       "      <td>5</td>\n",
       "      <td>5</td>\n",
       "      <td>The answer accurately presents key financial h...</td>\n",
       "    </tr>\n",
       "    <tr>\n",
       "      <th>8</th>\n",
       "      <td>How does Reddit, Inc. plan to manage the poten...</td>\n",
       "      <td>1121; 1133; 1120</td>\n",
       "      <td>Reddit, Inc. acknowledges the risk of user dec...</td>\n",
       "      <td>2</td>\n",
       "      <td>1</td>\n",
       "      <td>3</td>\n",
       "      <td>The model answer presents a comprehensive and ...</td>\n",
       "    </tr>\n",
       "    <tr>\n",
       "      <th>9</th>\n",
       "      <td>Which Tesla, Inc. executives signed the compan...</td>\n",
       "      <td>1337; 1425; 1250</td>\n",
       "      <td>The following Tesla, Inc. executives and direc...</td>\n",
       "      <td>5</td>\n",
       "      <td>5</td>\n",
       "      <td>5</td>\n",
       "      <td>The model answer accurately lists all Tesla, I...</td>\n",
       "    </tr>\n",
       "  </tbody>\n",
       "</table>\n",
       "</div>"
      ],
      "text/plain": [
       "                                            question       top_k_chunk  \\\n",
       "0  How could challenges in hiring, retaining, and...         27; 1; 39   \n",
       "1  What was the total lease liability for Apple I...     154; 386; 157   \n",
       "2  What are the key competitive challenges Cisco ...     321; 293; 248   \n",
       "3  Based on the Alphabet Inc. fiscal year ended D...     528; 527; 497   \n",
       "4  What were the key financial results reported b...     544; 552; 549   \n",
       "5  What operational and strategic challenges did ...     610; 609; 617   \n",
       "6  Question:  \\r\\nWhere, as required by law, does...     768; 660; 723   \n",
       "7  What highlights or key financial metrics are i...   1022; 886; 1018   \n",
       "8  How does Reddit, Inc. plan to manage the poten...  1121; 1133; 1120   \n",
       "9  Which Tesla, Inc. executives signed the compan...  1337; 1425; 1250   \n",
       "\n",
       "                                              answer  \\\n",
       "0  Challenges in hiring, retaining, and managing ...   \n",
       "1  As of September 28, 2024, Apple Inc. had fixed...   \n",
       "2  In 2024, Cisco faced several key competitive c...   \n",
       "3  For Alphabet Inc. in the fiscal year ended Dec...   \n",
       "4  Here are the key financial results reported by...   \n",
       "5  Based on the available information, Netflix fa...   \n",
       "6  NVIDIA Corporation files lobbying disclosure r...   \n",
       "7  Oracle Corporation's fiscal year 2024 Form 10-...   \n",
       "8  Reddit, Inc. acknowledges the risk of user dec...   \n",
       "9  The following Tesla, Inc. executives and direc...   \n",
       "\n",
       "   evaluation_factual_correctness_score  evaluation_completeness_score  \\\n",
       "0                                     5                              5   \n",
       "1                                     2                              2   \n",
       "2                                     4                              4   \n",
       "3                                     2                              3   \n",
       "4                                     4                              4   \n",
       "5                                     5                              4   \n",
       "6                                     5                              5   \n",
       "7                                     5                              5   \n",
       "8                                     2                              1   \n",
       "9                                     5                              5   \n",
       "\n",
       "   evaluation_clarity_score                                evaluation_comments  \n",
       "0                         5  The answer thoroughly addresses how challenges...  \n",
       "1                         5  The answer correctly states the total lease li...  \n",
       "2                         5  The answer is largely accurate, but lacks spec...  \n",
       "3                         4  The answer provides specific per-share figures...  \n",
       "4                         5  Most facts are correct and sourced, but there ...  \n",
       "5                         5  The answer correctly identifies all major oper...  \n",
       "6                         5  The answer correctly states that NVIDIA files ...  \n",
       "7                         5  The answer accurately presents key financial h...  \n",
       "8                         3  The model answer presents a comprehensive and ...  \n",
       "9                         5  The model answer accurately lists all Tesla, I...  "
      ]
     },
     "execution_count": 12,
     "metadata": {},
     "output_type": "execute_result"
    }
   ],
   "source": [
    "final_df2.head(10)"
   ]
  },
  {
   "cell_type": "code",
   "execution_count": null,
   "metadata": {},
   "outputs": [
    {
     "data": {
      "application/vnd.plotly.v1+json": {
       "config": {
        "plotlyServerURL": "https://plot.ly"
       },
       "data": [
        {
         "alignmentgroup": "True",
         "boxpoints": "all",
         "customdata": [
          [
           "How could challenges in hiring, retaining, and managing qualified personnel, as well as risks related to supplier relationships and commercial agreements, negatively impact Amazon’s business operations and results in 2024?"
          ],
          [
           "What was the total lease liability for Apple Inc. as of September 28, 2024, and how did it compare to the total lease liability as of September 30, 2023?"
          ],
          [
           "What are the key competitive challenges Cisco faced in 2024 due to market dynamics, changes in technology, and new entrants, and how did these factors impact its revenue growth and competitive positioning?"
          ],
          [
           "Based on the Alphabet Inc. fiscal year ended December 31, 2024, what were the basic and diluted net income per share amounts for Class A, Class B, and Class C shares, and how did these compare to the previous year ended December 31, 2023?"
          ],
          [
           "What were the key financial results reported by Meta Platforms, Inc. for the fourth quarter and full year ended December 31, 2024, including revenue, advertising revenue, cash flows, and year-over-year growth percentages?"
          ],
          [
           "What operational and strategic challenges did Netflix, Inc. identify in its 2024 fiscal year report as it expanded its streaming service, introduced new features like games and advertising, and scaled its content production and international offerings?"
          ],
          [
           "Question:  \r\nWhere, as required by law, does NVIDIA Corporation file lobbying disclosure reports in 2024, and where can information about its public policy and lobbying activities be found?"
          ],
          [
           "What highlights or key financial metrics are included in Oracle Corporation's fiscal year 2024 Form 10-K report?"
          ],
          [
           "How does Reddit, Inc. plan to manage the potential decline in users due to a reduction in third-party applications during the fiscal year ended December 31, 2024?"
          ],
          [
           "Which Tesla, Inc. executives signed the company's annual report for the fiscal year ended December 31, 2024, and what were their titles at the time?[1]"
          ],
          [
           "Based on the provided chunk and context (Amazon, year 2024), here is a suitable question:\n\n**How many physical stores did Amazon operate in North America and internationally as of December 31, 2024?**"
          ],
          [
           "What did Apple Inc.'s management conclude about the effectiveness of the company's disclosure controls and internal control over financial reporting as of the fiscal year ended September 28, 2024, according to their 2024 Form 10-K?"
          ],
          [
           "What types of risks are associated with Cisco Systems' investments in privately held companies during fiscal year 2024?"
          ],
          [
           "What risks does Alphabet Inc. face in its international operations, particularly in terms of foreign exchange and regulatory challenges, as highlighted in its 2024 Annual Report?"
          ],
          [
           "What were the key financial results reported by Meta Platforms, Inc. for the fourth quarter and full year ended December 31, 2024, including revenue growth, net income, and operating metrics?"
          ],
          [
           "What are the key regulatory and operational challenges Netflix, Inc. identified for its international expansion in the fiscal year ended December 31, 2024, and how might these impact its business strategy and financial results?"
          ],
          [
           "How was the total target compensation determined for NVIDIA Corporation’s named executive officers in Fiscal 2024, and what role did at-risk, performance-based equity awards play in the compensation program according to the Compensation Committee?"
          ],
          [
           "What are the key revenue sources and recent accounting estimate changes reported by Oracle Corporation for the fiscal year ended May 31, 2024, as detailed in their financial statements?"
          ],
          [
           "What specific procedures did the auditors perform to address the critical audit matter related to advertising revenue for Reddit, Inc. in the fiscal year ended December 31, 2024?"
          ],
          [
           "Based on Tesla, Inc.'s Annual Report on Form 10-K for the fiscal year ended December 31, 2024, how did Tesla's inventory composition and valuation change compared to December 31, 2023, and what were the recorded inventory write-downs for the years ended December 31, 2024, 2023, and 2022?"
          ],
          [
           "Based on the provided chunk and context (Amazon, year 2024), here is a suitable question:\n\n**How many physical stores did Amazon operate in North America and internationally as of December 31, 2024?**"
          ],
          [
           "What did Apple Inc.'s management conclude about the effectiveness of the company's disclosure controls and internal control over financial reporting as of the fiscal year ended September 28, 2024, according to their 2024 Form 10-K?"
          ],
          [
           "What types of risks are associated with Cisco Systems' investments in privately held companies during fiscal year 2024?"
          ],
          [
           "What risks does Alphabet Inc. face in its international operations, particularly in terms of foreign exchange and regulatory challenges, as highlighted in its 2024 Annual Report?"
          ],
          [
           "What were the key financial results reported by Meta Platforms, Inc. for the fourth quarter and full year ended December 31, 2024, including revenue growth, net income, and operating metrics?"
          ],
          [
           "What are the key regulatory and operational challenges Netflix, Inc. identified for its international expansion in the fiscal year ended December 31, 2024, and how might these impact its business strategy and financial results?"
          ],
          [
           "How was the total target compensation determined for NVIDIA Corporation’s named executive officers in Fiscal 2024, and what role did at-risk, performance-based equity awards play in the compensation program according to the Compensation Committee?"
          ],
          [
           "What are the key revenue sources and recent accounting estimate changes reported by Oracle Corporation for the fiscal year ended May 31, 2024, as detailed in their financial statements?"
          ],
          [
           "What specific procedures did the auditors perform to address the critical audit matter related to advertising revenue for Reddit, Inc. in the fiscal year ended December 31, 2024?"
          ],
          [
           "Based on Tesla, Inc.'s Annual Report on Form 10-K for the fiscal year ended December 31, 2024, how did Tesla's inventory composition and valuation change compared to December 31, 2023, and what were the recorded inventory write-downs for the years ended December 31, 2024, 2023, and 2022?"
          ],
          [
           "How could challenges in hiring, retaining, and managing qualified personnel, as well as risks related to supplier relationships and commercial agreements, negatively impact Amazon’s business operations and results in 2024?"
          ],
          [
           "What was the total lease liability for Apple Inc. as of September 28, 2024, and how did it compare to the total lease liability as of September 30, 2023?"
          ],
          [
           "What are the key competitive challenges Cisco faced in 2024 due to market dynamics, changes in technology, and new entrants, and how did these factors impact its revenue growth and competitive positioning?"
          ],
          [
           "Based on the Alphabet Inc. fiscal year ended December 31, 2024, what were the basic and diluted net income per share amounts for Class A, Class B, and Class C shares, and how did these compare to the previous year ended December 31, 2023?"
          ],
          [
           "What were the key financial results reported by Meta Platforms, Inc. for the fourth quarter and full year ended December 31, 2024, including revenue, advertising revenue, cash flows, and year-over-year growth percentages?"
          ],
          [
           "What operational and strategic challenges did Netflix, Inc. identify in its 2024 fiscal year report as it expanded its streaming service, introduced new features like games and advertising, and scaled its content production and international offerings?"
          ],
          [
           "Question:  \r\nWhere, as required by law, does NVIDIA Corporation file lobbying disclosure reports in 2024, and where can information about its public policy and lobbying activities be found?"
          ],
          [
           "What highlights or key financial metrics are included in Oracle Corporation's fiscal year 2024 Form 10-K report?"
          ],
          [
           "How does Reddit, Inc. plan to manage the potential decline in users due to a reduction in third-party applications during the fiscal year ended December 31, 2024?"
          ],
          [
           "Which Tesla, Inc. executives signed the company's annual report for the fiscal year ended December 31, 2024, and what were their titles at the time?[1]"
          ],
          [
           "Based on the provided chunk and context (Amazon, year 2024), here is a suitable question:\n\n**How many physical stores did Amazon operate in North America and internationally as of December 31, 2024?**"
          ],
          [
           "What did Apple Inc.'s management conclude about the effectiveness of the company's disclosure controls and internal control over financial reporting as of the fiscal year ended September 28, 2024, according to their 2024 Form 10-K?"
          ],
          [
           "What types of risks are associated with Cisco Systems' investments in privately held companies during fiscal year 2024?"
          ],
          [
           "What risks does Alphabet Inc. face in its international operations, particularly in terms of foreign exchange and regulatory challenges, as highlighted in its 2024 Annual Report?"
          ],
          [
           "What were the key financial results reported by Meta Platforms, Inc. for the fourth quarter and full year ended December 31, 2024, including revenue growth, net income, and operating metrics?"
          ],
          [
           "What are the key regulatory and operational challenges Netflix, Inc. identified for its international expansion in the fiscal year ended December 31, 2024, and how might these impact its business strategy and financial results?"
          ],
          [
           "How was the total target compensation determined for NVIDIA Corporation’s named executive officers in Fiscal 2024, and what role did at-risk, performance-based equity awards play in the compensation program according to the Compensation Committee?"
          ],
          [
           "What are the key revenue sources and recent accounting estimate changes reported by Oracle Corporation for the fiscal year ended May 31, 2024, as detailed in their financial statements?"
          ],
          [
           "What specific procedures did the auditors perform to address the critical audit matter related to advertising revenue for Reddit, Inc. in the fiscal year ended December 31, 2024?"
          ],
          [
           "Based on Tesla, Inc.'s Annual Report on Form 10-K for the fiscal year ended December 31, 2024, how did Tesla's inventory composition and valuation change compared to December 31, 2023, and what were the recorded inventory write-downs for the years ended December 31, 2024, 2023, and 2022?"
          ],
          [
           "Based on the provided chunk and context (Amazon, year 2024), here is a suitable question:\n\n**How many physical stores did Amazon operate in North America and internationally as of December 31, 2024?**"
          ],
          [
           "What did Apple Inc.'s management conclude about the effectiveness of the company's disclosure controls and internal control over financial reporting as of the fiscal year ended September 28, 2024, according to their 2024 Form 10-K?"
          ],
          [
           "What types of risks are associated with Cisco Systems' investments in privately held companies during fiscal year 2024?"
          ],
          [
           "What risks does Alphabet Inc. face in its international operations, particularly in terms of foreign exchange and regulatory challenges, as highlighted in its 2024 Annual Report?"
          ],
          [
           "What were the key financial results reported by Meta Platforms, Inc. for the fourth quarter and full year ended December 31, 2024, including revenue growth, net income, and operating metrics?"
          ],
          [
           "What are the key regulatory and operational challenges Netflix, Inc. identified for its international expansion in the fiscal year ended December 31, 2024, and how might these impact its business strategy and financial results?"
          ],
          [
           "How was the total target compensation determined for NVIDIA Corporation’s named executive officers in Fiscal 2024, and what role did at-risk, performance-based equity awards play in the compensation program according to the Compensation Committee?"
          ],
          [
           "What are the key revenue sources and recent accounting estimate changes reported by Oracle Corporation for the fiscal year ended May 31, 2024, as detailed in their financial statements?"
          ],
          [
           "What specific procedures did the auditors perform to address the critical audit matter related to advertising revenue for Reddit, Inc. in the fiscal year ended December 31, 2024?"
          ],
          [
           "Based on Tesla, Inc.'s Annual Report on Form 10-K for the fiscal year ended December 31, 2024, how did Tesla's inventory composition and valuation change compared to December 31, 2023, and what were the recorded inventory write-downs for the years ended December 31, 2024, 2023, and 2022?"
          ],
          [
           "How could challenges in hiring, retaining, and managing qualified personnel, as well as risks related to supplier relationships and commercial agreements, negatively impact Amazon’s business operations and results in 2024?"
          ],
          [
           "What was the total lease liability for Apple Inc. as of September 28, 2024, and how did it compare to the total lease liability as of September 30, 2023?"
          ],
          [
           "What are the key competitive challenges Cisco faced in 2024 due to market dynamics, changes in technology, and new entrants, and how did these factors impact its revenue growth and competitive positioning?"
          ],
          [
           "Based on the Alphabet Inc. fiscal year ended December 31, 2024, what were the basic and diluted net income per share amounts for Class A, Class B, and Class C shares, and how did these compare to the previous year ended December 31, 2023?"
          ],
          [
           "What were the key financial results reported by Meta Platforms, Inc. for the fourth quarter and full year ended December 31, 2024, including revenue, advertising revenue, cash flows, and year-over-year growth percentages?"
          ],
          [
           "What operational and strategic challenges did Netflix, Inc. identify in its 2024 fiscal year report as it expanded its streaming service, introduced new features like games and advertising, and scaled its content production and international offerings?"
          ],
          [
           "Question:  \r\nWhere, as required by law, does NVIDIA Corporation file lobbying disclosure reports in 2024, and where can information about its public policy and lobbying activities be found?"
          ],
          [
           "What highlights or key financial metrics are included in Oracle Corporation's fiscal year 2024 Form 10-K report?"
          ],
          [
           "How does Reddit, Inc. plan to manage the potential decline in users due to a reduction in third-party applications during the fiscal year ended December 31, 2024?"
          ],
          [
           "Which Tesla, Inc. executives signed the company's annual report for the fiscal year ended December 31, 2024, and what were their titles at the time?[1]"
          ],
          [
           "Based on the provided chunk and context (Amazon, year 2024), here is a suitable question:\n\n**How many physical stores did Amazon operate in North America and internationally as of December 31, 2024?**"
          ],
          [
           "What did Apple Inc.'s management conclude about the effectiveness of the company's disclosure controls and internal control over financial reporting as of the fiscal year ended September 28, 2024, according to their 2024 Form 10-K?"
          ],
          [
           "What types of risks are associated with Cisco Systems' investments in privately held companies during fiscal year 2024?"
          ],
          [
           "What risks does Alphabet Inc. face in its international operations, particularly in terms of foreign exchange and regulatory challenges, as highlighted in its 2024 Annual Report?"
          ],
          [
           "What were the key financial results reported by Meta Platforms, Inc. for the fourth quarter and full year ended December 31, 2024, including revenue growth, net income, and operating metrics?"
          ],
          [
           "What are the key regulatory and operational challenges Netflix, Inc. identified for its international expansion in the fiscal year ended December 31, 2024, and how might these impact its business strategy and financial results?"
          ],
          [
           "How was the total target compensation determined for NVIDIA Corporation’s named executive officers in Fiscal 2024, and what role did at-risk, performance-based equity awards play in the compensation program according to the Compensation Committee?"
          ],
          [
           "What are the key revenue sources and recent accounting estimate changes reported by Oracle Corporation for the fiscal year ended May 31, 2024, as detailed in their financial statements?"
          ],
          [
           "What specific procedures did the auditors perform to address the critical audit matter related to advertising revenue for Reddit, Inc. in the fiscal year ended December 31, 2024?"
          ],
          [
           "Based on Tesla, Inc.'s Annual Report on Form 10-K for the fiscal year ended December 31, 2024, how did Tesla's inventory composition and valuation change compared to December 31, 2023, and what were the recorded inventory write-downs for the years ended December 31, 2024, 2023, and 2022?"
          ],
          [
           "Based on the provided chunk and context (Amazon, year 2024), here is a suitable question:\n\n**How many physical stores did Amazon operate in North America and internationally as of December 31, 2024?**"
          ],
          [
           "What did Apple Inc.'s management conclude about the effectiveness of the company's disclosure controls and internal control over financial reporting as of the fiscal year ended September 28, 2024, according to their 2024 Form 10-K?"
          ],
          [
           "What types of risks are associated with Cisco Systems' investments in privately held companies during fiscal year 2024?"
          ],
          [
           "What risks does Alphabet Inc. face in its international operations, particularly in terms of foreign exchange and regulatory challenges, as highlighted in its 2024 Annual Report?"
          ],
          [
           "What were the key financial results reported by Meta Platforms, Inc. for the fourth quarter and full year ended December 31, 2024, including revenue growth, net income, and operating metrics?"
          ],
          [
           "What are the key regulatory and operational challenges Netflix, Inc. identified for its international expansion in the fiscal year ended December 31, 2024, and how might these impact its business strategy and financial results?"
          ],
          [
           "How was the total target compensation determined for NVIDIA Corporation’s named executive officers in Fiscal 2024, and what role did at-risk, performance-based equity awards play in the compensation program according to the Compensation Committee?"
          ],
          [
           "What are the key revenue sources and recent accounting estimate changes reported by Oracle Corporation for the fiscal year ended May 31, 2024, as detailed in their financial statements?"
          ],
          [
           "What specific procedures did the auditors perform to address the critical audit matter related to advertising revenue for Reddit, Inc. in the fiscal year ended December 31, 2024?"
          ],
          [
           "Based on Tesla, Inc.'s Annual Report on Form 10-K for the fiscal year ended December 31, 2024, how did Tesla's inventory composition and valuation change compared to December 31, 2023, and what were the recorded inventory write-downs for the years ended December 31, 2024, 2023, and 2022?"
          ],
          [
           "How could challenges in hiring, retaining, and managing qualified personnel, as well as risks related to supplier relationships and commercial agreements, negatively impact Amazon’s business operations and results in 2024?"
          ],
          [
           "What was the total lease liability for Apple Inc. as of September 28, 2024, and how did it compare to the total lease liability as of September 30, 2023?"
          ],
          [
           "What are the key competitive challenges Cisco faced in 2024 due to market dynamics, changes in technology, and new entrants, and how did these factors impact its revenue growth and competitive positioning?"
          ],
          [
           "Based on the Alphabet Inc. fiscal year ended December 31, 2024, what were the basic and diluted net income per share amounts for Class A, Class B, and Class C shares, and how did these compare to the previous year ended December 31, 2023?"
          ],
          [
           "What were the key financial results reported by Meta Platforms, Inc. for the fourth quarter and full year ended December 31, 2024, including revenue, advertising revenue, cash flows, and year-over-year growth percentages?"
          ],
          [
           "What operational and strategic challenges did Netflix, Inc. identify in its 2024 fiscal year report as it expanded its streaming service, introduced new features like games and advertising, and scaled its content production and international offerings?"
          ],
          [
           "Question:  \r\nWhere, as required by law, does NVIDIA Corporation file lobbying disclosure reports in 2024, and where can information about its public policy and lobbying activities be found?"
          ],
          [
           "What highlights or key financial metrics are included in Oracle Corporation's fiscal year 2024 Form 10-K report?"
          ],
          [
           "How does Reddit, Inc. plan to manage the potential decline in users due to a reduction in third-party applications during the fiscal year ended December 31, 2024?"
          ],
          [
           "Which Tesla, Inc. executives signed the company's annual report for the fiscal year ended December 31, 2024, and what were their titles at the time?[1]"
          ],
          [
           "Based on the provided chunk and context (Amazon, year 2024), here is a suitable question:\n\n**How many physical stores did Amazon operate in North America and internationally as of December 31, 2024?**"
          ],
          [
           "What did Apple Inc.'s management conclude about the effectiveness of the company's disclosure controls and internal control over financial reporting as of the fiscal year ended September 28, 2024, according to their 2024 Form 10-K?"
          ],
          [
           "What types of risks are associated with Cisco Systems' investments in privately held companies during fiscal year 2024?"
          ],
          [
           "What risks does Alphabet Inc. face in its international operations, particularly in terms of foreign exchange and regulatory challenges, as highlighted in its 2024 Annual Report?"
          ],
          [
           "What were the key financial results reported by Meta Platforms, Inc. for the fourth quarter and full year ended December 31, 2024, including revenue growth, net income, and operating metrics?"
          ],
          [
           "What are the key regulatory and operational challenges Netflix, Inc. identified for its international expansion in the fiscal year ended December 31, 2024, and how might these impact its business strategy and financial results?"
          ],
          [
           "How was the total target compensation determined for NVIDIA Corporation’s named executive officers in Fiscal 2024, and what role did at-risk, performance-based equity awards play in the compensation program according to the Compensation Committee?"
          ],
          [
           "What are the key revenue sources and recent accounting estimate changes reported by Oracle Corporation for the fiscal year ended May 31, 2024, as detailed in their financial statements?"
          ],
          [
           "What specific procedures did the auditors perform to address the critical audit matter related to advertising revenue for Reddit, Inc. in the fiscal year ended December 31, 2024?"
          ],
          [
           "Based on Tesla, Inc.'s Annual Report on Form 10-K for the fiscal year ended December 31, 2024, how did Tesla's inventory composition and valuation change compared to December 31, 2023, and what were the recorded inventory write-downs for the years ended December 31, 2024, 2023, and 2022?"
          ],
          [
           "Based on the provided chunk and context (Amazon, year 2024), here is a suitable question:\n\n**How many physical stores did Amazon operate in North America and internationally as of December 31, 2024?**"
          ],
          [
           "What did Apple Inc.'s management conclude about the effectiveness of the company's disclosure controls and internal control over financial reporting as of the fiscal year ended September 28, 2024, according to their 2024 Form 10-K?"
          ],
          [
           "What types of risks are associated with Cisco Systems' investments in privately held companies during fiscal year 2024?"
          ],
          [
           "What risks does Alphabet Inc. face in its international operations, particularly in terms of foreign exchange and regulatory challenges, as highlighted in its 2024 Annual Report?"
          ],
          [
           "What were the key financial results reported by Meta Platforms, Inc. for the fourth quarter and full year ended December 31, 2024, including revenue growth, net income, and operating metrics?"
          ],
          [
           "What are the key regulatory and operational challenges Netflix, Inc. identified for its international expansion in the fiscal year ended December 31, 2024, and how might these impact its business strategy and financial results?"
          ],
          [
           "How was the total target compensation determined for NVIDIA Corporation’s named executive officers in Fiscal 2024, and what role did at-risk, performance-based equity awards play in the compensation program according to the Compensation Committee?"
          ],
          [
           "What are the key revenue sources and recent accounting estimate changes reported by Oracle Corporation for the fiscal year ended May 31, 2024, as detailed in their financial statements?"
          ],
          [
           "What specific procedures did the auditors perform to address the critical audit matter related to advertising revenue for Reddit, Inc. in the fiscal year ended December 31, 2024?"
          ],
          [
           "Based on Tesla, Inc.'s Annual Report on Form 10-K for the fiscal year ended December 31, 2024, how did Tesla's inventory composition and valuation change compared to December 31, 2023, and what were the recorded inventory write-downs for the years ended December 31, 2024, 2023, and 2022?"
          ]
         ],
         "hovertemplate": "Metric=%{x}<br>Score=%{y}<br>question=%{customdata[0]}<extra></extra>",
         "legendgroup": "",
         "marker": {
          "color": "#636efa"
         },
         "name": "",
         "notched": false,
         "offsetgroup": "",
         "orientation": "v",
         "showlegend": false,
         "type": "box",
         "x": [
          "Factual Correctness",
          "Factual Correctness",
          "Factual Correctness",
          "Factual Correctness",
          "Factual Correctness",
          "Factual Correctness",
          "Factual Correctness",
          "Factual Correctness",
          "Factual Correctness",
          "Factual Correctness",
          "Factual Correctness",
          "Factual Correctness",
          "Factual Correctness",
          "Factual Correctness",
          "Factual Correctness",
          "Factual Correctness",
          "Factual Correctness",
          "Factual Correctness",
          "Factual Correctness",
          "Factual Correctness",
          "Factual Correctness",
          "Factual Correctness",
          "Factual Correctness",
          "Factual Correctness",
          "Factual Correctness",
          "Factual Correctness",
          "Factual Correctness",
          "Factual Correctness",
          "Factual Correctness",
          "Factual Correctness",
          "Completeness",
          "Completeness",
          "Completeness",
          "Completeness",
          "Completeness",
          "Completeness",
          "Completeness",
          "Completeness",
          "Completeness",
          "Completeness",
          "Completeness",
          "Completeness",
          "Completeness",
          "Completeness",
          "Completeness",
          "Completeness",
          "Completeness",
          "Completeness",
          "Completeness",
          "Completeness",
          "Completeness",
          "Completeness",
          "Completeness",
          "Completeness",
          "Completeness",
          "Completeness",
          "Completeness",
          "Completeness",
          "Completeness",
          "Completeness",
          "Clarity",
          "Clarity",
          "Clarity",
          "Clarity",
          "Clarity",
          "Clarity",
          "Clarity",
          "Clarity",
          "Clarity",
          "Clarity",
          "Clarity",
          "Clarity",
          "Clarity",
          "Clarity",
          "Clarity",
          "Clarity",
          "Clarity",
          "Clarity",
          "Clarity",
          "Clarity",
          "Clarity",
          "Clarity",
          "Clarity",
          "Clarity",
          "Clarity",
          "Clarity",
          "Clarity",
          "Clarity",
          "Clarity",
          "Clarity",
          "Overall",
          "Overall",
          "Overall",
          "Overall",
          "Overall",
          "Overall",
          "Overall",
          "Overall",
          "Overall",
          "Overall",
          "Overall",
          "Overall",
          "Overall",
          "Overall",
          "Overall",
          "Overall",
          "Overall",
          "Overall",
          "Overall",
          "Overall",
          "Overall",
          "Overall",
          "Overall",
          "Overall",
          "Overall",
          "Overall",
          "Overall",
          "Overall",
          "Overall",
          "Overall"
         ],
         "x0": " ",
         "xaxis": "x",
         "y": {
          "bdata": "AAAAAAAAFEAAAAAAAAAAQAAAAAAAABBAAAAAAAAAAEAAAAAAAAAQQAAAAAAAABRAAAAAAAAAFEAAAAAAAAAUQAAAAAAAAABAAAAAAAAAFEAAAAAAAAAIQAAAAAAAABBAAAAAAAAAEEAAAAAAAAAUQAAAAAAAABRAAAAAAAAAFEAAAAAAAAAUQAAAAAAAABRAAAAAAAAAEEAAAAAAAAAUQAAAAAAAABRAAAAAAAAAFEAAAAAAAAAAQAAAAAAAABRAAAAAAAAAFEAAAAAAAAAUQAAAAAAAABRAAAAAAAAAEEAAAAAAAAAUQAAAAAAAABRAAAAAAAAAFEAAAAAAAAAAQAAAAAAAABBAAAAAAAAACEAAAAAAAAAQQAAAAAAAABBAAAAAAAAAFEAAAAAAAAAUQAAAAAAAAPA/AAAAAAAAFEAAAAAAAAAIQAAAAAAAAAhAAAAAAAAAEEAAAAAAAAAUQAAAAAAAABRAAAAAAAAAFEAAAAAAAAAUQAAAAAAAABBAAAAAAAAAEEAAAAAAAAAUQAAAAAAAABRAAAAAAAAAFEAAAAAAAADwPwAAAAAAABBAAAAAAAAAFEAAAAAAAAAQQAAAAAAAABRAAAAAAAAAEEAAAAAAAAAUQAAAAAAAABRAAAAAAAAAFEAAAAAAAAAUQAAAAAAAABRAAAAAAAAAEEAAAAAAAAAUQAAAAAAAABRAAAAAAAAAFEAAAAAAAAAUQAAAAAAAAAhAAAAAAAAAFEAAAAAAAAAQQAAAAAAAABBAAAAAAAAAFEAAAAAAAAAUQAAAAAAAABRAAAAAAAAAFEAAAAAAAAAUQAAAAAAAABRAAAAAAAAAFEAAAAAAAAAUQAAAAAAAABRAAAAAAAAAFEAAAAAAAAAUQAAAAAAAABRAAAAAAAAAFEAAAAAAAAAUQAAAAAAAABRAAAAAAAAAFEAAAAAAAAAUQAAAAAAAABRAAAAAAAAAFEAAAAAAAAAIQFVVVVVVVRFAAAAAAAAACEBVVVVVVVURQKuqqqqqqhJAAAAAAAAAFEAAAAAAAAAUQAAAAAAAAABAAAAAAAAAFECrqqqqqqoKQFVVVVVVVQ1AVVVVVVVVEUAAAAAAAAAUQAAAAAAAABRAAAAAAAAAFEAAAAAAAAAUQKuqqqqqqhJAVVVVVVVVEUAAAAAAAAAUQAAAAAAAABRAAAAAAAAAFEBVVVVVVVUFQKuqqqqqqhJAAAAAAAAAFECrqqqqqqoSQAAAAAAAABRAVVVVVVVVEUAAAAAAAAAUQAAAAAAAABRA",
          "dtype": "f8"
         },
         "y0": " ",
         "yaxis": "y"
        }
       ],
       "layout": {
        "boxmode": "group",
        "height": 500,
        "legend": {
         "tracegroupgap": 0
        },
        "template": {
         "data": {
          "bar": [
           {
            "error_x": {
             "color": "#2a3f5f"
            },
            "error_y": {
             "color": "#2a3f5f"
            },
            "marker": {
             "line": {
              "color": "#E5ECF6",
              "width": 0.5
             },
             "pattern": {
              "fillmode": "overlay",
              "size": 10,
              "solidity": 0.2
             }
            },
            "type": "bar"
           }
          ],
          "barpolar": [
           {
            "marker": {
             "line": {
              "color": "#E5ECF6",
              "width": 0.5
             },
             "pattern": {
              "fillmode": "overlay",
              "size": 10,
              "solidity": 0.2
             }
            },
            "type": "barpolar"
           }
          ],
          "carpet": [
           {
            "aaxis": {
             "endlinecolor": "#2a3f5f",
             "gridcolor": "white",
             "linecolor": "white",
             "minorgridcolor": "white",
             "startlinecolor": "#2a3f5f"
            },
            "baxis": {
             "endlinecolor": "#2a3f5f",
             "gridcolor": "white",
             "linecolor": "white",
             "minorgridcolor": "white",
             "startlinecolor": "#2a3f5f"
            },
            "type": "carpet"
           }
          ],
          "choropleth": [
           {
            "colorbar": {
             "outlinewidth": 0,
             "ticks": ""
            },
            "type": "choropleth"
           }
          ],
          "contour": [
           {
            "colorbar": {
             "outlinewidth": 0,
             "ticks": ""
            },
            "colorscale": [
             [
              0,
              "#0d0887"
             ],
             [
              0.1111111111111111,
              "#46039f"
             ],
             [
              0.2222222222222222,
              "#7201a8"
             ],
             [
              0.3333333333333333,
              "#9c179e"
             ],
             [
              0.4444444444444444,
              "#bd3786"
             ],
             [
              0.5555555555555556,
              "#d8576b"
             ],
             [
              0.6666666666666666,
              "#ed7953"
             ],
             [
              0.7777777777777778,
              "#fb9f3a"
             ],
             [
              0.8888888888888888,
              "#fdca26"
             ],
             [
              1,
              "#f0f921"
             ]
            ],
            "type": "contour"
           }
          ],
          "contourcarpet": [
           {
            "colorbar": {
             "outlinewidth": 0,
             "ticks": ""
            },
            "type": "contourcarpet"
           }
          ],
          "heatmap": [
           {
            "colorbar": {
             "outlinewidth": 0,
             "ticks": ""
            },
            "colorscale": [
             [
              0,
              "#0d0887"
             ],
             [
              0.1111111111111111,
              "#46039f"
             ],
             [
              0.2222222222222222,
              "#7201a8"
             ],
             [
              0.3333333333333333,
              "#9c179e"
             ],
             [
              0.4444444444444444,
              "#bd3786"
             ],
             [
              0.5555555555555556,
              "#d8576b"
             ],
             [
              0.6666666666666666,
              "#ed7953"
             ],
             [
              0.7777777777777778,
              "#fb9f3a"
             ],
             [
              0.8888888888888888,
              "#fdca26"
             ],
             [
              1,
              "#f0f921"
             ]
            ],
            "type": "heatmap"
           }
          ],
          "histogram": [
           {
            "marker": {
             "pattern": {
              "fillmode": "overlay",
              "size": 10,
              "solidity": 0.2
             }
            },
            "type": "histogram"
           }
          ],
          "histogram2d": [
           {
            "colorbar": {
             "outlinewidth": 0,
             "ticks": ""
            },
            "colorscale": [
             [
              0,
              "#0d0887"
             ],
             [
              0.1111111111111111,
              "#46039f"
             ],
             [
              0.2222222222222222,
              "#7201a8"
             ],
             [
              0.3333333333333333,
              "#9c179e"
             ],
             [
              0.4444444444444444,
              "#bd3786"
             ],
             [
              0.5555555555555556,
              "#d8576b"
             ],
             [
              0.6666666666666666,
              "#ed7953"
             ],
             [
              0.7777777777777778,
              "#fb9f3a"
             ],
             [
              0.8888888888888888,
              "#fdca26"
             ],
             [
              1,
              "#f0f921"
             ]
            ],
            "type": "histogram2d"
           }
          ],
          "histogram2dcontour": [
           {
            "colorbar": {
             "outlinewidth": 0,
             "ticks": ""
            },
            "colorscale": [
             [
              0,
              "#0d0887"
             ],
             [
              0.1111111111111111,
              "#46039f"
             ],
             [
              0.2222222222222222,
              "#7201a8"
             ],
             [
              0.3333333333333333,
              "#9c179e"
             ],
             [
              0.4444444444444444,
              "#bd3786"
             ],
             [
              0.5555555555555556,
              "#d8576b"
             ],
             [
              0.6666666666666666,
              "#ed7953"
             ],
             [
              0.7777777777777778,
              "#fb9f3a"
             ],
             [
              0.8888888888888888,
              "#fdca26"
             ],
             [
              1,
              "#f0f921"
             ]
            ],
            "type": "histogram2dcontour"
           }
          ],
          "mesh3d": [
           {
            "colorbar": {
             "outlinewidth": 0,
             "ticks": ""
            },
            "type": "mesh3d"
           }
          ],
          "parcoords": [
           {
            "line": {
             "colorbar": {
              "outlinewidth": 0,
              "ticks": ""
             }
            },
            "type": "parcoords"
           }
          ],
          "pie": [
           {
            "automargin": true,
            "type": "pie"
           }
          ],
          "scatter": [
           {
            "fillpattern": {
             "fillmode": "overlay",
             "size": 10,
             "solidity": 0.2
            },
            "type": "scatter"
           }
          ],
          "scatter3d": [
           {
            "line": {
             "colorbar": {
              "outlinewidth": 0,
              "ticks": ""
             }
            },
            "marker": {
             "colorbar": {
              "outlinewidth": 0,
              "ticks": ""
             }
            },
            "type": "scatter3d"
           }
          ],
          "scattercarpet": [
           {
            "marker": {
             "colorbar": {
              "outlinewidth": 0,
              "ticks": ""
             }
            },
            "type": "scattercarpet"
           }
          ],
          "scattergeo": [
           {
            "marker": {
             "colorbar": {
              "outlinewidth": 0,
              "ticks": ""
             }
            },
            "type": "scattergeo"
           }
          ],
          "scattergl": [
           {
            "marker": {
             "colorbar": {
              "outlinewidth": 0,
              "ticks": ""
             }
            },
            "type": "scattergl"
           }
          ],
          "scattermap": [
           {
            "marker": {
             "colorbar": {
              "outlinewidth": 0,
              "ticks": ""
             }
            },
            "type": "scattermap"
           }
          ],
          "scattermapbox": [
           {
            "marker": {
             "colorbar": {
              "outlinewidth": 0,
              "ticks": ""
             }
            },
            "type": "scattermapbox"
           }
          ],
          "scatterpolar": [
           {
            "marker": {
             "colorbar": {
              "outlinewidth": 0,
              "ticks": ""
             }
            },
            "type": "scatterpolar"
           }
          ],
          "scatterpolargl": [
           {
            "marker": {
             "colorbar": {
              "outlinewidth": 0,
              "ticks": ""
             }
            },
            "type": "scatterpolargl"
           }
          ],
          "scatterternary": [
           {
            "marker": {
             "colorbar": {
              "outlinewidth": 0,
              "ticks": ""
             }
            },
            "type": "scatterternary"
           }
          ],
          "surface": [
           {
            "colorbar": {
             "outlinewidth": 0,
             "ticks": ""
            },
            "colorscale": [
             [
              0,
              "#0d0887"
             ],
             [
              0.1111111111111111,
              "#46039f"
             ],
             [
              0.2222222222222222,
              "#7201a8"
             ],
             [
              0.3333333333333333,
              "#9c179e"
             ],
             [
              0.4444444444444444,
              "#bd3786"
             ],
             [
              0.5555555555555556,
              "#d8576b"
             ],
             [
              0.6666666666666666,
              "#ed7953"
             ],
             [
              0.7777777777777778,
              "#fb9f3a"
             ],
             [
              0.8888888888888888,
              "#fdca26"
             ],
             [
              1,
              "#f0f921"
             ]
            ],
            "type": "surface"
           }
          ],
          "table": [
           {
            "cells": {
             "fill": {
              "color": "#EBF0F8"
             },
             "line": {
              "color": "white"
             }
            },
            "header": {
             "fill": {
              "color": "#C8D4E3"
             },
             "line": {
              "color": "white"
             }
            },
            "type": "table"
           }
          ]
         },
         "layout": {
          "annotationdefaults": {
           "arrowcolor": "#2a3f5f",
           "arrowhead": 0,
           "arrowwidth": 1
          },
          "autotypenumbers": "strict",
          "coloraxis": {
           "colorbar": {
            "outlinewidth": 0,
            "ticks": ""
           }
          },
          "colorscale": {
           "diverging": [
            [
             0,
             "#8e0152"
            ],
            [
             0.1,
             "#c51b7d"
            ],
            [
             0.2,
             "#de77ae"
            ],
            [
             0.3,
             "#f1b6da"
            ],
            [
             0.4,
             "#fde0ef"
            ],
            [
             0.5,
             "#f7f7f7"
            ],
            [
             0.6,
             "#e6f5d0"
            ],
            [
             0.7,
             "#b8e186"
            ],
            [
             0.8,
             "#7fbc41"
            ],
            [
             0.9,
             "#4d9221"
            ],
            [
             1,
             "#276419"
            ]
           ],
           "sequential": [
            [
             0,
             "#0d0887"
            ],
            [
             0.1111111111111111,
             "#46039f"
            ],
            [
             0.2222222222222222,
             "#7201a8"
            ],
            [
             0.3333333333333333,
             "#9c179e"
            ],
            [
             0.4444444444444444,
             "#bd3786"
            ],
            [
             0.5555555555555556,
             "#d8576b"
            ],
            [
             0.6666666666666666,
             "#ed7953"
            ],
            [
             0.7777777777777778,
             "#fb9f3a"
            ],
            [
             0.8888888888888888,
             "#fdca26"
            ],
            [
             1,
             "#f0f921"
            ]
           ],
           "sequentialminus": [
            [
             0,
             "#0d0887"
            ],
            [
             0.1111111111111111,
             "#46039f"
            ],
            [
             0.2222222222222222,
             "#7201a8"
            ],
            [
             0.3333333333333333,
             "#9c179e"
            ],
            [
             0.4444444444444444,
             "#bd3786"
            ],
            [
             0.5555555555555556,
             "#d8576b"
            ],
            [
             0.6666666666666666,
             "#ed7953"
            ],
            [
             0.7777777777777778,
             "#fb9f3a"
            ],
            [
             0.8888888888888888,
             "#fdca26"
            ],
            [
             1,
             "#f0f921"
            ]
           ]
          },
          "colorway": [
           "#636efa",
           "#EF553B",
           "#00cc96",
           "#ab63fa",
           "#FFA15A",
           "#19d3f3",
           "#FF6692",
           "#B6E880",
           "#FF97FF",
           "#FECB52"
          ],
          "font": {
           "color": "#2a3f5f"
          },
          "geo": {
           "bgcolor": "white",
           "lakecolor": "white",
           "landcolor": "#E5ECF6",
           "showlakes": true,
           "showland": true,
           "subunitcolor": "white"
          },
          "hoverlabel": {
           "align": "left"
          },
          "hovermode": "closest",
          "mapbox": {
           "style": "light"
          },
          "paper_bgcolor": "white",
          "plot_bgcolor": "#E5ECF6",
          "polar": {
           "angularaxis": {
            "gridcolor": "white",
            "linecolor": "white",
            "ticks": ""
           },
           "bgcolor": "#E5ECF6",
           "radialaxis": {
            "gridcolor": "white",
            "linecolor": "white",
            "ticks": ""
           }
          },
          "scene": {
           "xaxis": {
            "backgroundcolor": "#E5ECF6",
            "gridcolor": "white",
            "gridwidth": 2,
            "linecolor": "white",
            "showbackground": true,
            "ticks": "",
            "zerolinecolor": "white"
           },
           "yaxis": {
            "backgroundcolor": "#E5ECF6",
            "gridcolor": "white",
            "gridwidth": 2,
            "linecolor": "white",
            "showbackground": true,
            "ticks": "",
            "zerolinecolor": "white"
           },
           "zaxis": {
            "backgroundcolor": "#E5ECF6",
            "gridcolor": "white",
            "gridwidth": 2,
            "linecolor": "white",
            "showbackground": true,
            "ticks": "",
            "zerolinecolor": "white"
           }
          },
          "shapedefaults": {
           "line": {
            "color": "#2a3f5f"
           }
          },
          "ternary": {
           "aaxis": {
            "gridcolor": "white",
            "linecolor": "white",
            "ticks": ""
           },
           "baxis": {
            "gridcolor": "white",
            "linecolor": "white",
            "ticks": ""
           },
           "bgcolor": "#E5ECF6",
           "caxis": {
            "gridcolor": "white",
            "linecolor": "white",
            "ticks": ""
           }
          },
          "title": {
           "x": 0.05
          },
          "xaxis": {
           "automargin": true,
           "gridcolor": "white",
           "linecolor": "white",
           "ticks": "",
           "title": {
            "standoff": 15
           },
           "zerolinecolor": "white",
           "zerolinewidth": 2
          },
          "yaxis": {
           "automargin": true,
           "gridcolor": "white",
           "linecolor": "white",
           "ticks": "",
           "title": {
            "standoff": 15
           },
           "zerolinecolor": "white",
           "zerolinewidth": 2
          }
         }
        },
        "title": {
         "text": "Score Distributions per Metric (with Overall Score)"
        },
        "xaxis": {
         "anchor": "y",
         "domain": [
          0,
          1
         ],
         "title": {
          "text": "Metric"
         }
        },
        "yaxis": {
         "anchor": "x",
         "domain": [
          0,
          1
         ],
         "dtick": 1,
         "range": [
          0,
          6
         ],
         "title": {
          "text": "Score (1-5)"
         }
        }
       }
      }
     },
     "metadata": {},
     "output_type": "display_data"
    }
   ],
   "source": [
    "plot(final_df2)"
   ]
  }
 ],
 "metadata": {
  "kernelspec": {
   "display_name": "Python 3",
   "language": "python",
   "name": "python3"
  },
  "language_info": {
   "codemirror_mode": {
    "name": "ipython",
    "version": 3
   },
   "file_extension": ".py",
   "mimetype": "text/x-python",
   "name": "python",
   "nbconvert_exporter": "python",
   "pygments_lexer": "ipython3",
   "version": "3.11.0rc2"
  }
 },
 "nbformat": 4,
 "nbformat_minor": 2
}
