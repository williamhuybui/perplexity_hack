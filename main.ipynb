{
 "cells": [
  {
   "cell_type": "code",
   "execution_count": 1,
   "metadata": {},
   "outputs": [
    {
     "name": "stdout",
     "output_type": "stream",
     "text": [
      "Folder 'session_1' and 'session_1\\chunks' has been created.\n"
     ]
    }
   ],
   "source": [
    "import pandas as pd \n",
    "import os\n",
    "from pathlib import Path\n",
    "from dotenv import load_dotenv\n",
    "\n",
    "#Local\n",
    "from config import Config\n",
    "from data_processing import data_processing\n",
    "from utils import remove_dirs, check_and_create_dirs\n",
    "from question_generator import question_generator\n",
    "\n",
    "#Setting\n",
    "pd.set_option('display.max_colwidth', None)\n",
    "\n",
    "#CONFIG\n",
    "load_dotenv()\n",
    "api_key = os.getenv(\"PERPLEXITY_API_KEY\")\n",
    "\n",
    "cfg = Config(\n",
    "    project_name=\"session_1\",\n",
    "    input_dir=\"data\",\n",
    "    api_key= api_key,\n",
    "    n_questions_per_file=1,\n",
    "    n_page_summary=3,\n",
    "    chunk_size=5000,\n",
    "    chunk_overlap=500\n",
    ")\n",
    "\n",
    "# remove_dirs(cfg) # This will delete the output directories if they exist\n",
    "check_and_create_dirs(cfg)\n"
   ]
  },
  {
   "cell_type": "code",
   "execution_count": 2,
   "metadata": {},
   "outputs": [
    {
     "name": "stdout",
     "output_type": "stream",
     "text": [
      "Processing file: 2024-amazon-annual-report-10K.pdf 1/10\n",
      "Saving chunks to session_1\\chunks\\2024-amazon-annual-report-10K.json\n",
      "Saving metadata to session_1\\metadata.json\n",
      "Processing file: 2024-apple-annual-report-10K.pdf 2/10\n",
      "Saving chunks to session_1\\chunks\\2024-apple-annual-report-10K.json\n",
      "Saving metadata to session_1\\metadata.json\n",
      "Processing file: 2024-cisco-full-annual-report.pdf 3/10\n",
      "Saving chunks to session_1\\chunks\\2024-cisco-full-annual-report.json\n",
      "Saving metadata to session_1\\metadata.json\n",
      "Processing file: 2024-google-annual-report-10K.pdf 4/10\n",
      "Saving chunks to session_1\\chunks\\2024-google-annual-report-10K.json\n",
      "Saving metadata to session_1\\metadata.json\n",
      "Processing file: 2024-meta-full-annual-report.pdf 5/10\n",
      "Saving chunks to session_1\\chunks\\2024-meta-full-annual-report.json\n",
      "Saving metadata to session_1\\metadata.json\n",
      "Processing file: 2024-netflix-annual-report-10K.pdf 6/10\n",
      "Saving chunks to session_1\\chunks\\2024-netflix-annual-report-10K.json\n",
      "Saving metadata to session_1\\metadata.json\n",
      "Processing file: 2024-nvidia-annual-report-10K.pdf 7/10\n",
      "Saving chunks to session_1\\chunks\\2024-nvidia-annual-report-10K.json\n",
      "Saving metadata to session_1\\metadata.json\n",
      "Processing file: 2024-oracle-annual-report-10K.pdf 8/10\n",
      "Saving chunks to session_1\\chunks\\2024-oracle-annual-report-10K.json\n",
      "Saving metadata to session_1\\metadata.json\n",
      "Processing file: 2024-reddit-annual-report-10K.pdf 9/10\n",
      "Saving chunks to session_1\\chunks\\2024-reddit-annual-report-10K.json\n",
      "Saving metadata to session_1\\metadata.json\n",
      "Processing file: 2024-tsla-annual-report-10K.pdf 10/10\n",
      "Saving chunks to session_1\\chunks\\2024-tsla-annual-report-10K.json\n",
      "Saving metadata to session_1\\metadata.json\n"
     ]
    }
   ],
   "source": [
    "data_processing(api_key, cfg)"
   ]
  },
  {
   "cell_type": "code",
   "execution_count": 3,
   "metadata": {},
   "outputs": [
    {
     "name": "stdout",
     "output_type": "stream",
     "text": [
      "Generating 1 question for file: 2024-amazon-annual-report-10K.pdf. 1/10\n",
      "Generating 1 question for file: 2024-apple-annual-report-10K.pdf. 2/10\n",
      "Generating 1 question for file: 2024-cisco-full-annual-report.pdf. 3/10\n",
      "Generating 1 question for file: 2024-google-annual-report-10K.pdf. 4/10\n",
      "Generating 1 question for file: 2024-meta-full-annual-report.pdf. 5/10\n",
      "Generating 1 question for file: 2024-netflix-annual-report-10K.pdf. 6/10\n",
      "Generating 1 question for file: 2024-nvidia-annual-report-10K.pdf. 7/10\n",
      "Generating 1 question for file: 2024-oracle-annual-report-10K.pdf. 8/10\n",
      "Generating 1 question for file: 2024-reddit-annual-report-10K.pdf. 9/10\n",
      "Generating 1 question for file: 2024-tsla-annual-report-10K.pdf. 10/10\n",
      "Questions saved to session_1\\questions.csv\n"
     ]
    }
   ],
   "source": [
    "df = question_generator(cfg)"
   ]
  },
  {
   "cell_type": "code",
   "execution_count": 4,
   "metadata": {},
   "outputs": [
    {
     "data": {
      "text/plain": [
       "0                                 Based on the provided chunk and context (Amazon, year 2024), here is a suitable question:\\n\\n**How many physical stores did Amazon operate in North America and internationally as of December 31, 2024?**\n",
       "1    What did Apple Inc.'s management conclude about the effectiveness of the company's disclosure controls and internal control over financial reporting as of the fiscal year ended September 28, 2024, according to their 2024 Form 10-K?\n",
       "2                                                                                                                    What types of risks are associated with Cisco Systems' investments in privately held companies during fiscal year 2024?\n",
       "3                                                         What risks does Alphabet Inc. face in its international operations, particularly in terms of foreign exchange and regulatory challenges, as highlighted in its 2024 Annual Report?\n",
       "4                                            What were the key financial results reported by Meta Platforms, Inc. for the fourth quarter and full year ended December 31, 2024, including revenue growth, net income, and operating metrics?\n",
       "Name: question, dtype: object"
      ]
     },
     "execution_count": 4,
     "metadata": {},
     "output_type": "execute_result"
    }
   ],
   "source": [
    "df['question'].head()"
   ]
  },
  {
   "cell_type": "markdown",
   "metadata": {},
   "source": [
    "## MODEL 1"
   ]
  },
  {
   "cell_type": "code",
   "execution_count": null,
   "metadata": {},
   "outputs": [],
   "source": [
    "from user_models.example_1.model import qa, finalize\n",
    "from user_models.createplot import plot\n",
    "from user_models.example_1.qa import QA1\n",
    "from user_models.evaluate import evaluate_answer\n",
    "\n",
    "df1 = qa(QA1)\n",
    "final_df1 = finalize(evaluate_answer, df1)"
   ]
  },
  {
   "cell_type": "code",
   "execution_count": 9,
   "metadata": {},
   "outputs": [
    {
     "data": {
      "text/html": [
       "<div>\n",
       "<style scoped>\n",
       "    .dataframe tbody tr th:only-of-type {\n",
       "        vertical-align: middle;\n",
       "    }\n",
       "\n",
       "    .dataframe tbody tr th {\n",
       "        vertical-align: top;\n",
       "    }\n",
       "\n",
       "    .dataframe thead th {\n",
       "        text-align: right;\n",
       "    }\n",
       "</style>\n",
       "<table border=\"1\" class=\"dataframe\">\n",
       "  <thead>\n",
       "    <tr style=\"text-align: right;\">\n",
       "      <th></th>\n",
       "      <th>question</th>\n",
       "      <th>top_k_chunk</th>\n",
       "      <th>answer</th>\n",
       "      <th>evaluation_factual_correctness_score</th>\n",
       "      <th>evaluation_completeness_score</th>\n",
       "      <th>evaluation_clarity_score</th>\n",
       "      <th>evaluation_comments</th>\n",
       "    </tr>\n",
       "  </thead>\n",
       "  <tbody>\n",
       "    <tr>\n",
       "      <th>0</th>\n",
       "      <td>How could challenges in hiring, retaining, and...</td>\n",
       "      <td>27; 1; 39</td>\n",
       "      <td>Challenges in hiring, retaining, and managing ...</td>\n",
       "      <td>5</td>\n",
       "      <td>5</td>\n",
       "      <td>5</td>\n",
       "      <td>The answer accurately incorporates all relevan...</td>\n",
       "    </tr>\n",
       "    <tr>\n",
       "      <th>1</th>\n",
       "      <td>What was the total lease liability for Apple I...</td>\n",
       "      <td>154; 386; 157</td>\n",
       "      <td>As of September 28, 2024, Apple Inc. had fixed...</td>\n",
       "      <td>4</td>\n",
       "      <td>4</td>\n",
       "      <td>5</td>\n",
       "      <td>The answer correctly notes the 2024 lease obli...</td>\n",
       "    </tr>\n",
       "    <tr>\n",
       "      <th>2</th>\n",
       "      <td>What are the key competitive challenges Cisco ...</td>\n",
       "      <td>321; 293; 248</td>\n",
       "      <td>In 2024, Cisco faced several key competitive c...</td>\n",
       "      <td>4</td>\n",
       "      <td>5</td>\n",
       "      <td>5</td>\n",
       "      <td>The answer is mostly accurate and comprehensiv...</td>\n",
       "    </tr>\n",
       "    <tr>\n",
       "      <th>3</th>\n",
       "      <td>Based on the Alphabet Inc. fiscal year ended D...</td>\n",
       "      <td>528; 527; 497</td>\n",
       "      <td>For Alphabet Inc. in the fiscal year ended Dec...</td>\n",
       "      <td>2</td>\n",
       "      <td>1</td>\n",
       "      <td>4</td>\n",
       "      <td>The model answer provides specific per-share i...</td>\n",
       "    </tr>\n",
       "    <tr>\n",
       "      <th>4</th>\n",
       "      <td>What were the key financial results reported b...</td>\n",
       "      <td>544; 552; 549</td>\n",
       "      <td>Here are the key financial results reported by...</td>\n",
       "      <td>4</td>\n",
       "      <td>4</td>\n",
       "      <td>5</td>\n",
       "      <td>The answer accurately covers revenue, net inco...</td>\n",
       "    </tr>\n",
       "    <tr>\n",
       "      <th>5</th>\n",
       "      <td>What operational and strategic challenges did ...</td>\n",
       "      <td>610; 609; 617</td>\n",
       "      <td>Based on the available information, Netflix fa...</td>\n",
       "      <td>3</td>\n",
       "      <td>3</td>\n",
       "      <td>4</td>\n",
       "      <td>The answer lists plausible challenges but does...</td>\n",
       "    </tr>\n",
       "    <tr>\n",
       "      <th>6</th>\n",
       "      <td>Question:  \\r\\nWhere, as required by law, does...</td>\n",
       "      <td>768; 660; 723</td>\n",
       "      <td>NVIDIA Corporation files lobbying disclosure r...</td>\n",
       "      <td>5</td>\n",
       "      <td>5</td>\n",
       "      <td>5</td>\n",
       "      <td>The answer accurately states that NVIDIA files...</td>\n",
       "    </tr>\n",
       "    <tr>\n",
       "      <th>7</th>\n",
       "      <td>What highlights or key financial metrics are i...</td>\n",
       "      <td>1022; 886; 1018</td>\n",
       "      <td>Oracle Corporation's fiscal year 2024 Form 10-...</td>\n",
       "      <td>3</td>\n",
       "      <td>2</td>\n",
       "      <td>5</td>\n",
       "      <td>The answer provides a detailed list of financi...</td>\n",
       "    </tr>\n",
       "    <tr>\n",
       "      <th>8</th>\n",
       "      <td>How does Reddit, Inc. plan to manage the poten...</td>\n",
       "      <td>1121; 1133; 1120</td>\n",
       "      <td>Reddit, Inc. acknowledges the risk of user dec...</td>\n",
       "      <td>2</td>\n",
       "      <td>2</td>\n",
       "      <td>4</td>\n",
       "      <td>The answer is clear but largely speculative an...</td>\n",
       "    </tr>\n",
       "    <tr>\n",
       "      <th>9</th>\n",
       "      <td>Which Tesla, Inc. executives signed the compan...</td>\n",
       "      <td>1337; 1425; 1250</td>\n",
       "      <td>The following Tesla, Inc. executives and direc...</td>\n",
       "      <td>3</td>\n",
       "      <td>3</td>\n",
       "      <td>5</td>\n",
       "      <td>The answer lists more signatories than actuall...</td>\n",
       "    </tr>\n",
       "  </tbody>\n",
       "</table>\n",
       "</div>"
      ],
      "text/plain": [
       "                                            question       top_k_chunk  \\\n",
       "0  How could challenges in hiring, retaining, and...         27; 1; 39   \n",
       "1  What was the total lease liability for Apple I...     154; 386; 157   \n",
       "2  What are the key competitive challenges Cisco ...     321; 293; 248   \n",
       "3  Based on the Alphabet Inc. fiscal year ended D...     528; 527; 497   \n",
       "4  What were the key financial results reported b...     544; 552; 549   \n",
       "5  What operational and strategic challenges did ...     610; 609; 617   \n",
       "6  Question:  \\r\\nWhere, as required by law, does...     768; 660; 723   \n",
       "7  What highlights or key financial metrics are i...   1022; 886; 1018   \n",
       "8  How does Reddit, Inc. plan to manage the poten...  1121; 1133; 1120   \n",
       "9  Which Tesla, Inc. executives signed the compan...  1337; 1425; 1250   \n",
       "\n",
       "                                              answer  \\\n",
       "0  Challenges in hiring, retaining, and managing ...   \n",
       "1  As of September 28, 2024, Apple Inc. had fixed...   \n",
       "2  In 2024, Cisco faced several key competitive c...   \n",
       "3  For Alphabet Inc. in the fiscal year ended Dec...   \n",
       "4  Here are the key financial results reported by...   \n",
       "5  Based on the available information, Netflix fa...   \n",
       "6  NVIDIA Corporation files lobbying disclosure r...   \n",
       "7  Oracle Corporation's fiscal year 2024 Form 10-...   \n",
       "8  Reddit, Inc. acknowledges the risk of user dec...   \n",
       "9  The following Tesla, Inc. executives and direc...   \n",
       "\n",
       "   evaluation_factual_correctness_score  evaluation_completeness_score  \\\n",
       "0                                     5                              5   \n",
       "1                                     4                              4   \n",
       "2                                     4                              5   \n",
       "3                                     2                              1   \n",
       "4                                     4                              4   \n",
       "5                                     3                              3   \n",
       "6                                     5                              5   \n",
       "7                                     3                              2   \n",
       "8                                     2                              2   \n",
       "9                                     3                              3   \n",
       "\n",
       "   evaluation_clarity_score                                evaluation_comments  \n",
       "0                         5  The answer accurately incorporates all relevan...  \n",
       "1                         5  The answer correctly notes the 2024 lease obli...  \n",
       "2                         5  The answer is mostly accurate and comprehensiv...  \n",
       "3                         4  The model answer provides specific per-share i...  \n",
       "4                         5  The answer accurately covers revenue, net inco...  \n",
       "5                         4  The answer lists plausible challenges but does...  \n",
       "6                         5  The answer accurately states that NVIDIA files...  \n",
       "7                         5  The answer provides a detailed list of financi...  \n",
       "8                         4  The answer is clear but largely speculative an...  \n",
       "9                         5  The answer lists more signatories than actuall...  "
      ]
     },
     "execution_count": 9,
     "metadata": {},
     "output_type": "execute_result"
    }
   ],
   "source": [
    "final_df1.head(10)"
   ]
  },
  {
   "cell_type": "code",
   "execution_count": 10,
   "metadata": {},
   "outputs": [
    {
     "data": {
      "application/vnd.plotly.v1+json": {
       "config": {
        "plotlyServerURL": "https://plot.ly"
       },
       "data": [
        {
         "alignmentgroup": "True",
         "boxpoints": "all",
         "customdata": [
          [
           "How could challenges in hiring, retaining, and managing qualified personnel, as well as risks related to supplier relationships and commercial agreements, negatively impact Amazon’s business operations and results in 2024?"
          ],
          [
           "What was the total lease liability for Apple Inc. as of September 28, 2024, and how did it compare to the total lease liability as of September 30, 2023?"
          ],
          [
           "What are the key competitive challenges Cisco faced in 2024 due to market dynamics, changes in technology, and new entrants, and how did these factors impact its revenue growth and competitive positioning?"
          ],
          [
           "Based on the Alphabet Inc. fiscal year ended December 31, 2024, what were the basic and diluted net income per share amounts for Class A, Class B, and Class C shares, and how did these compare to the previous year ended December 31, 2023?"
          ],
          [
           "What were the key financial results reported by Meta Platforms, Inc. for the fourth quarter and full year ended December 31, 2024, including revenue, advertising revenue, cash flows, and year-over-year growth percentages?"
          ],
          [
           "What operational and strategic challenges did Netflix, Inc. identify in its 2024 fiscal year report as it expanded its streaming service, introduced new features like games and advertising, and scaled its content production and international offerings?"
          ],
          [
           "Question:  \r\nWhere, as required by law, does NVIDIA Corporation file lobbying disclosure reports in 2024, and where can information about its public policy and lobbying activities be found?"
          ],
          [
           "What highlights or key financial metrics are included in Oracle Corporation's fiscal year 2024 Form 10-K report?"
          ],
          [
           "How does Reddit, Inc. plan to manage the potential decline in users due to a reduction in third-party applications during the fiscal year ended December 31, 2024?"
          ],
          [
           "Which Tesla, Inc. executives signed the company's annual report for the fiscal year ended December 31, 2024, and what were their titles at the time?[1]"
          ],
          [
           "Based on the provided chunk and context (Amazon, year 2024), here is a suitable question:\n\n**How many physical stores did Amazon operate in North America and internationally as of December 31, 2024?**"
          ],
          [
           "What did Apple Inc.'s management conclude about the effectiveness of the company's disclosure controls and internal control over financial reporting as of the fiscal year ended September 28, 2024, according to their 2024 Form 10-K?"
          ],
          [
           "What types of risks are associated with Cisco Systems' investments in privately held companies during fiscal year 2024?"
          ],
          [
           "What risks does Alphabet Inc. face in its international operations, particularly in terms of foreign exchange and regulatory challenges, as highlighted in its 2024 Annual Report?"
          ],
          [
           "What were the key financial results reported by Meta Platforms, Inc. for the fourth quarter and full year ended December 31, 2024, including revenue growth, net income, and operating metrics?"
          ],
          [
           "What are the key regulatory and operational challenges Netflix, Inc. identified for its international expansion in the fiscal year ended December 31, 2024, and how might these impact its business strategy and financial results?"
          ],
          [
           "How was the total target compensation determined for NVIDIA Corporation’s named executive officers in Fiscal 2024, and what role did at-risk, performance-based equity awards play in the compensation program according to the Compensation Committee?"
          ],
          [
           "What are the key revenue sources and recent accounting estimate changes reported by Oracle Corporation for the fiscal year ended May 31, 2024, as detailed in their financial statements?"
          ],
          [
           "What specific procedures did the auditors perform to address the critical audit matter related to advertising revenue for Reddit, Inc. in the fiscal year ended December 31, 2024?"
          ],
          [
           "Based on Tesla, Inc.'s Annual Report on Form 10-K for the fiscal year ended December 31, 2024, how did Tesla's inventory composition and valuation change compared to December 31, 2023, and what were the recorded inventory write-downs for the years ended December 31, 2024, 2023, and 2022?"
          ],
          [
           "How could challenges in hiring, retaining, and managing qualified personnel, as well as risks related to supplier relationships and commercial agreements, negatively impact Amazon’s business operations and results in 2024?"
          ],
          [
           "What was the total lease liability for Apple Inc. as of September 28, 2024, and how did it compare to the total lease liability as of September 30, 2023?"
          ],
          [
           "What are the key competitive challenges Cisco faced in 2024 due to market dynamics, changes in technology, and new entrants, and how did these factors impact its revenue growth and competitive positioning?"
          ],
          [
           "Based on the Alphabet Inc. fiscal year ended December 31, 2024, what were the basic and diluted net income per share amounts for Class A, Class B, and Class C shares, and how did these compare to the previous year ended December 31, 2023?"
          ],
          [
           "What were the key financial results reported by Meta Platforms, Inc. for the fourth quarter and full year ended December 31, 2024, including revenue, advertising revenue, cash flows, and year-over-year growth percentages?"
          ],
          [
           "What operational and strategic challenges did Netflix, Inc. identify in its 2024 fiscal year report as it expanded its streaming service, introduced new features like games and advertising, and scaled its content production and international offerings?"
          ],
          [
           "Question:  \r\nWhere, as required by law, does NVIDIA Corporation file lobbying disclosure reports in 2024, and where can information about its public policy and lobbying activities be found?"
          ],
          [
           "What highlights or key financial metrics are included in Oracle Corporation's fiscal year 2024 Form 10-K report?"
          ],
          [
           "How does Reddit, Inc. plan to manage the potential decline in users due to a reduction in third-party applications during the fiscal year ended December 31, 2024?"
          ],
          [
           "Which Tesla, Inc. executives signed the company's annual report for the fiscal year ended December 31, 2024, and what were their titles at the time?[1]"
          ],
          [
           "Based on the provided chunk and context (Amazon, year 2024), here is a suitable question:\n\n**How many physical stores did Amazon operate in North America and internationally as of December 31, 2024?**"
          ],
          [
           "What did Apple Inc.'s management conclude about the effectiveness of the company's disclosure controls and internal control over financial reporting as of the fiscal year ended September 28, 2024, according to their 2024 Form 10-K?"
          ],
          [
           "What types of risks are associated with Cisco Systems' investments in privately held companies during fiscal year 2024?"
          ],
          [
           "What risks does Alphabet Inc. face in its international operations, particularly in terms of foreign exchange and regulatory challenges, as highlighted in its 2024 Annual Report?"
          ],
          [
           "What were the key financial results reported by Meta Platforms, Inc. for the fourth quarter and full year ended December 31, 2024, including revenue growth, net income, and operating metrics?"
          ],
          [
           "What are the key regulatory and operational challenges Netflix, Inc. identified for its international expansion in the fiscal year ended December 31, 2024, and how might these impact its business strategy and financial results?"
          ],
          [
           "How was the total target compensation determined for NVIDIA Corporation’s named executive officers in Fiscal 2024, and what role did at-risk, performance-based equity awards play in the compensation program according to the Compensation Committee?"
          ],
          [
           "What are the key revenue sources and recent accounting estimate changes reported by Oracle Corporation for the fiscal year ended May 31, 2024, as detailed in their financial statements?"
          ],
          [
           "What specific procedures did the auditors perform to address the critical audit matter related to advertising revenue for Reddit, Inc. in the fiscal year ended December 31, 2024?"
          ],
          [
           "Based on Tesla, Inc.'s Annual Report on Form 10-K for the fiscal year ended December 31, 2024, how did Tesla's inventory composition and valuation change compared to December 31, 2023, and what were the recorded inventory write-downs for the years ended December 31, 2024, 2023, and 2022?"
          ],
          [
           "How could challenges in hiring, retaining, and managing qualified personnel, as well as risks related to supplier relationships and commercial agreements, negatively impact Amazon’s business operations and results in 2024?"
          ],
          [
           "What was the total lease liability for Apple Inc. as of September 28, 2024, and how did it compare to the total lease liability as of September 30, 2023?"
          ],
          [
           "What are the key competitive challenges Cisco faced in 2024 due to market dynamics, changes in technology, and new entrants, and how did these factors impact its revenue growth and competitive positioning?"
          ],
          [
           "Based on the Alphabet Inc. fiscal year ended December 31, 2024, what were the basic and diluted net income per share amounts for Class A, Class B, and Class C shares, and how did these compare to the previous year ended December 31, 2023?"
          ],
          [
           "What were the key financial results reported by Meta Platforms, Inc. for the fourth quarter and full year ended December 31, 2024, including revenue, advertising revenue, cash flows, and year-over-year growth percentages?"
          ],
          [
           "What operational and strategic challenges did Netflix, Inc. identify in its 2024 fiscal year report as it expanded its streaming service, introduced new features like games and advertising, and scaled its content production and international offerings?"
          ],
          [
           "Question:  \r\nWhere, as required by law, does NVIDIA Corporation file lobbying disclosure reports in 2024, and where can information about its public policy and lobbying activities be found?"
          ],
          [
           "What highlights or key financial metrics are included in Oracle Corporation's fiscal year 2024 Form 10-K report?"
          ],
          [
           "How does Reddit, Inc. plan to manage the potential decline in users due to a reduction in third-party applications during the fiscal year ended December 31, 2024?"
          ],
          [
           "Which Tesla, Inc. executives signed the company's annual report for the fiscal year ended December 31, 2024, and what were their titles at the time?[1]"
          ],
          [
           "Based on the provided chunk and context (Amazon, year 2024), here is a suitable question:\n\n**How many physical stores did Amazon operate in North America and internationally as of December 31, 2024?**"
          ],
          [
           "What did Apple Inc.'s management conclude about the effectiveness of the company's disclosure controls and internal control over financial reporting as of the fiscal year ended September 28, 2024, according to their 2024 Form 10-K?"
          ],
          [
           "What types of risks are associated with Cisco Systems' investments in privately held companies during fiscal year 2024?"
          ],
          [
           "What risks does Alphabet Inc. face in its international operations, particularly in terms of foreign exchange and regulatory challenges, as highlighted in its 2024 Annual Report?"
          ],
          [
           "What were the key financial results reported by Meta Platforms, Inc. for the fourth quarter and full year ended December 31, 2024, including revenue growth, net income, and operating metrics?"
          ],
          [
           "What are the key regulatory and operational challenges Netflix, Inc. identified for its international expansion in the fiscal year ended December 31, 2024, and how might these impact its business strategy and financial results?"
          ],
          [
           "How was the total target compensation determined for NVIDIA Corporation’s named executive officers in Fiscal 2024, and what role did at-risk, performance-based equity awards play in the compensation program according to the Compensation Committee?"
          ],
          [
           "What are the key revenue sources and recent accounting estimate changes reported by Oracle Corporation for the fiscal year ended May 31, 2024, as detailed in their financial statements?"
          ],
          [
           "What specific procedures did the auditors perform to address the critical audit matter related to advertising revenue for Reddit, Inc. in the fiscal year ended December 31, 2024?"
          ],
          [
           "Based on Tesla, Inc.'s Annual Report on Form 10-K for the fiscal year ended December 31, 2024, how did Tesla's inventory composition and valuation change compared to December 31, 2023, and what were the recorded inventory write-downs for the years ended December 31, 2024, 2023, and 2022?"
          ],
          [
           "How could challenges in hiring, retaining, and managing qualified personnel, as well as risks related to supplier relationships and commercial agreements, negatively impact Amazon’s business operations and results in 2024?"
          ],
          [
           "What was the total lease liability for Apple Inc. as of September 28, 2024, and how did it compare to the total lease liability as of September 30, 2023?"
          ],
          [
           "What are the key competitive challenges Cisco faced in 2024 due to market dynamics, changes in technology, and new entrants, and how did these factors impact its revenue growth and competitive positioning?"
          ],
          [
           "Based on the Alphabet Inc. fiscal year ended December 31, 2024, what were the basic and diluted net income per share amounts for Class A, Class B, and Class C shares, and how did these compare to the previous year ended December 31, 2023?"
          ],
          [
           "What were the key financial results reported by Meta Platforms, Inc. for the fourth quarter and full year ended December 31, 2024, including revenue, advertising revenue, cash flows, and year-over-year growth percentages?"
          ],
          [
           "What operational and strategic challenges did Netflix, Inc. identify in its 2024 fiscal year report as it expanded its streaming service, introduced new features like games and advertising, and scaled its content production and international offerings?"
          ],
          [
           "Question:  \r\nWhere, as required by law, does NVIDIA Corporation file lobbying disclosure reports in 2024, and where can information about its public policy and lobbying activities be found?"
          ],
          [
           "What highlights or key financial metrics are included in Oracle Corporation's fiscal year 2024 Form 10-K report?"
          ],
          [
           "How does Reddit, Inc. plan to manage the potential decline in users due to a reduction in third-party applications during the fiscal year ended December 31, 2024?"
          ],
          [
           "Which Tesla, Inc. executives signed the company's annual report for the fiscal year ended December 31, 2024, and what were their titles at the time?[1]"
          ],
          [
           "Based on the provided chunk and context (Amazon, year 2024), here is a suitable question:\n\n**How many physical stores did Amazon operate in North America and internationally as of December 31, 2024?**"
          ],
          [
           "What did Apple Inc.'s management conclude about the effectiveness of the company's disclosure controls and internal control over financial reporting as of the fiscal year ended September 28, 2024, according to their 2024 Form 10-K?"
          ],
          [
           "What types of risks are associated with Cisco Systems' investments in privately held companies during fiscal year 2024?"
          ],
          [
           "What risks does Alphabet Inc. face in its international operations, particularly in terms of foreign exchange and regulatory challenges, as highlighted in its 2024 Annual Report?"
          ],
          [
           "What were the key financial results reported by Meta Platforms, Inc. for the fourth quarter and full year ended December 31, 2024, including revenue growth, net income, and operating metrics?"
          ],
          [
           "What are the key regulatory and operational challenges Netflix, Inc. identified for its international expansion in the fiscal year ended December 31, 2024, and how might these impact its business strategy and financial results?"
          ],
          [
           "How was the total target compensation determined for NVIDIA Corporation’s named executive officers in Fiscal 2024, and what role did at-risk, performance-based equity awards play in the compensation program according to the Compensation Committee?"
          ],
          [
           "What are the key revenue sources and recent accounting estimate changes reported by Oracle Corporation for the fiscal year ended May 31, 2024, as detailed in their financial statements?"
          ],
          [
           "What specific procedures did the auditors perform to address the critical audit matter related to advertising revenue for Reddit, Inc. in the fiscal year ended December 31, 2024?"
          ],
          [
           "Based on Tesla, Inc.'s Annual Report on Form 10-K for the fiscal year ended December 31, 2024, how did Tesla's inventory composition and valuation change compared to December 31, 2023, and what were the recorded inventory write-downs for the years ended December 31, 2024, 2023, and 2022?"
          ]
         ],
         "hovertemplate": "Metric=%{x}<br>Score=%{y}<br>question=%{customdata[0]}<extra></extra>",
         "legendgroup": "",
         "marker": {
          "color": "#636efa"
         },
         "name": "",
         "notched": false,
         "offsetgroup": "",
         "orientation": "v",
         "showlegend": false,
         "type": "box",
         "x": [
          "Factual Correctness",
          "Factual Correctness",
          "Factual Correctness",
          "Factual Correctness",
          "Factual Correctness",
          "Factual Correctness",
          "Factual Correctness",
          "Factual Correctness",
          "Factual Correctness",
          "Factual Correctness",
          "Factual Correctness",
          "Factual Correctness",
          "Factual Correctness",
          "Factual Correctness",
          "Factual Correctness",
          "Factual Correctness",
          "Factual Correctness",
          "Factual Correctness",
          "Factual Correctness",
          "Factual Correctness",
          "Completeness",
          "Completeness",
          "Completeness",
          "Completeness",
          "Completeness",
          "Completeness",
          "Completeness",
          "Completeness",
          "Completeness",
          "Completeness",
          "Completeness",
          "Completeness",
          "Completeness",
          "Completeness",
          "Completeness",
          "Completeness",
          "Completeness",
          "Completeness",
          "Completeness",
          "Completeness",
          "Clarity",
          "Clarity",
          "Clarity",
          "Clarity",
          "Clarity",
          "Clarity",
          "Clarity",
          "Clarity",
          "Clarity",
          "Clarity",
          "Clarity",
          "Clarity",
          "Clarity",
          "Clarity",
          "Clarity",
          "Clarity",
          "Clarity",
          "Clarity",
          "Clarity",
          "Clarity",
          "Overall",
          "Overall",
          "Overall",
          "Overall",
          "Overall",
          "Overall",
          "Overall",
          "Overall",
          "Overall",
          "Overall",
          "Overall",
          "Overall",
          "Overall",
          "Overall",
          "Overall",
          "Overall",
          "Overall",
          "Overall",
          "Overall",
          "Overall"
         ],
         "x0": " ",
         "xaxis": "x",
         "y": {
          "bdata": "AAAAAAAAFEAAAAAAAAAQQAAAAAAAABBAAAAAAAAAAEAAAAAAAAAQQAAAAAAAAAhAAAAAAAAAFEAAAAAAAAAIQAAAAAAAAABAAAAAAAAACEAAAAAAAAAUQAAAAAAAABBAAAAAAAAACEAAAAAAAAAUQAAAAAAAABRAAAAAAAAAFEAAAAAAAAAQQAAAAAAAABRAAAAAAAAAFEAAAAAAAAAUQAAAAAAAABRAAAAAAAAAEEAAAAAAAAAUQAAAAAAAAPA/AAAAAAAAEEAAAAAAAAAIQAAAAAAAABRAAAAAAAAAAEAAAAAAAAAAQAAAAAAAAAhAAAAAAAAAEEAAAAAAAAAIQAAAAAAAAAhAAAAAAAAAFEAAAAAAAAAUQAAAAAAAABRAAAAAAAAAEEAAAAAAAAAUQAAAAAAAABRAAAAAAAAAFEAAAAAAAAAUQAAAAAAAABRAAAAAAAAAFEAAAAAAAAAQQAAAAAAAABRAAAAAAAAAEEAAAAAAAAAUQAAAAAAAABRAAAAAAAAAEEAAAAAAAAAUQAAAAAAAABRAAAAAAAAAEEAAAAAAAAAQQAAAAAAAABRAAAAAAAAAFEAAAAAAAAAUQAAAAAAAABRAAAAAAAAAFEAAAAAAAAAUQAAAAAAAABRAAAAAAAAAFEBVVVVVVVURQKuqqqqqqhJAq6qqqqqqAkBVVVVVVVURQKuqqqqqqgpAAAAAAAAAFECrqqqqqqoKQFVVVVVVVQVAVVVVVVVVDUCrqqqqqqoSQFVVVVVVVQ1Aq6qqqqqqCkAAAAAAAAAUQAAAAAAAABRAAAAAAAAAFEBVVVVVVVURQAAAAAAAABRAAAAAAAAAFEAAAAAAAAAUQA==",
          "dtype": "f8"
         },
         "y0": " ",
         "yaxis": "y"
        }
       ],
       "layout": {
        "boxmode": "group",
        "height": 500,
        "legend": {
         "tracegroupgap": 0
        },
        "template": {
         "data": {
          "bar": [
           {
            "error_x": {
             "color": "#2a3f5f"
            },
            "error_y": {
             "color": "#2a3f5f"
            },
            "marker": {
             "line": {
              "color": "#E5ECF6",
              "width": 0.5
             },
             "pattern": {
              "fillmode": "overlay",
              "size": 10,
              "solidity": 0.2
             }
            },
            "type": "bar"
           }
          ],
          "barpolar": [
           {
            "marker": {
             "line": {
              "color": "#E5ECF6",
              "width": 0.5
             },
             "pattern": {
              "fillmode": "overlay",
              "size": 10,
              "solidity": 0.2
             }
            },
            "type": "barpolar"
           }
          ],
          "carpet": [
           {
            "aaxis": {
             "endlinecolor": "#2a3f5f",
             "gridcolor": "white",
             "linecolor": "white",
             "minorgridcolor": "white",
             "startlinecolor": "#2a3f5f"
            },
            "baxis": {
             "endlinecolor": "#2a3f5f",
             "gridcolor": "white",
             "linecolor": "white",
             "minorgridcolor": "white",
             "startlinecolor": "#2a3f5f"
            },
            "type": "carpet"
           }
          ],
          "choropleth": [
           {
            "colorbar": {
             "outlinewidth": 0,
             "ticks": ""
            },
            "type": "choropleth"
           }
          ],
          "contour": [
           {
            "colorbar": {
             "outlinewidth": 0,
             "ticks": ""
            },
            "colorscale": [
             [
              0,
              "#0d0887"
             ],
             [
              0.1111111111111111,
              "#46039f"
             ],
             [
              0.2222222222222222,
              "#7201a8"
             ],
             [
              0.3333333333333333,
              "#9c179e"
             ],
             [
              0.4444444444444444,
              "#bd3786"
             ],
             [
              0.5555555555555556,
              "#d8576b"
             ],
             [
              0.6666666666666666,
              "#ed7953"
             ],
             [
              0.7777777777777778,
              "#fb9f3a"
             ],
             [
              0.8888888888888888,
              "#fdca26"
             ],
             [
              1,
              "#f0f921"
             ]
            ],
            "type": "contour"
           }
          ],
          "contourcarpet": [
           {
            "colorbar": {
             "outlinewidth": 0,
             "ticks": ""
            },
            "type": "contourcarpet"
           }
          ],
          "heatmap": [
           {
            "colorbar": {
             "outlinewidth": 0,
             "ticks": ""
            },
            "colorscale": [
             [
              0,
              "#0d0887"
             ],
             [
              0.1111111111111111,
              "#46039f"
             ],
             [
              0.2222222222222222,
              "#7201a8"
             ],
             [
              0.3333333333333333,
              "#9c179e"
             ],
             [
              0.4444444444444444,
              "#bd3786"
             ],
             [
              0.5555555555555556,
              "#d8576b"
             ],
             [
              0.6666666666666666,
              "#ed7953"
             ],
             [
              0.7777777777777778,
              "#fb9f3a"
             ],
             [
              0.8888888888888888,
              "#fdca26"
             ],
             [
              1,
              "#f0f921"
             ]
            ],
            "type": "heatmap"
           }
          ],
          "histogram": [
           {
            "marker": {
             "pattern": {
              "fillmode": "overlay",
              "size": 10,
              "solidity": 0.2
             }
            },
            "type": "histogram"
           }
          ],
          "histogram2d": [
           {
            "colorbar": {
             "outlinewidth": 0,
             "ticks": ""
            },
            "colorscale": [
             [
              0,
              "#0d0887"
             ],
             [
              0.1111111111111111,
              "#46039f"
             ],
             [
              0.2222222222222222,
              "#7201a8"
             ],
             [
              0.3333333333333333,
              "#9c179e"
             ],
             [
              0.4444444444444444,
              "#bd3786"
             ],
             [
              0.5555555555555556,
              "#d8576b"
             ],
             [
              0.6666666666666666,
              "#ed7953"
             ],
             [
              0.7777777777777778,
              "#fb9f3a"
             ],
             [
              0.8888888888888888,
              "#fdca26"
             ],
             [
              1,
              "#f0f921"
             ]
            ],
            "type": "histogram2d"
           }
          ],
          "histogram2dcontour": [
           {
            "colorbar": {
             "outlinewidth": 0,
             "ticks": ""
            },
            "colorscale": [
             [
              0,
              "#0d0887"
             ],
             [
              0.1111111111111111,
              "#46039f"
             ],
             [
              0.2222222222222222,
              "#7201a8"
             ],
             [
              0.3333333333333333,
              "#9c179e"
             ],
             [
              0.4444444444444444,
              "#bd3786"
             ],
             [
              0.5555555555555556,
              "#d8576b"
             ],
             [
              0.6666666666666666,
              "#ed7953"
             ],
             [
              0.7777777777777778,
              "#fb9f3a"
             ],
             [
              0.8888888888888888,
              "#fdca26"
             ],
             [
              1,
              "#f0f921"
             ]
            ],
            "type": "histogram2dcontour"
           }
          ],
          "mesh3d": [
           {
            "colorbar": {
             "outlinewidth": 0,
             "ticks": ""
            },
            "type": "mesh3d"
           }
          ],
          "parcoords": [
           {
            "line": {
             "colorbar": {
              "outlinewidth": 0,
              "ticks": ""
             }
            },
            "type": "parcoords"
           }
          ],
          "pie": [
           {
            "automargin": true,
            "type": "pie"
           }
          ],
          "scatter": [
           {
            "fillpattern": {
             "fillmode": "overlay",
             "size": 10,
             "solidity": 0.2
            },
            "type": "scatter"
           }
          ],
          "scatter3d": [
           {
            "line": {
             "colorbar": {
              "outlinewidth": 0,
              "ticks": ""
             }
            },
            "marker": {
             "colorbar": {
              "outlinewidth": 0,
              "ticks": ""
             }
            },
            "type": "scatter3d"
           }
          ],
          "scattercarpet": [
           {
            "marker": {
             "colorbar": {
              "outlinewidth": 0,
              "ticks": ""
             }
            },
            "type": "scattercarpet"
           }
          ],
          "scattergeo": [
           {
            "marker": {
             "colorbar": {
              "outlinewidth": 0,
              "ticks": ""
             }
            },
            "type": "scattergeo"
           }
          ],
          "scattergl": [
           {
            "marker": {
             "colorbar": {
              "outlinewidth": 0,
              "ticks": ""
             }
            },
            "type": "scattergl"
           }
          ],
          "scattermap": [
           {
            "marker": {
             "colorbar": {
              "outlinewidth": 0,
              "ticks": ""
             }
            },
            "type": "scattermap"
           }
          ],
          "scattermapbox": [
           {
            "marker": {
             "colorbar": {
              "outlinewidth": 0,
              "ticks": ""
             }
            },
            "type": "scattermapbox"
           }
          ],
          "scatterpolar": [
           {
            "marker": {
             "colorbar": {
              "outlinewidth": 0,
              "ticks": ""
             }
            },
            "type": "scatterpolar"
           }
          ],
          "scatterpolargl": [
           {
            "marker": {
             "colorbar": {
              "outlinewidth": 0,
              "ticks": ""
             }
            },
            "type": "scatterpolargl"
           }
          ],
          "scatterternary": [
           {
            "marker": {
             "colorbar": {
              "outlinewidth": 0,
              "ticks": ""
             }
            },
            "type": "scatterternary"
           }
          ],
          "surface": [
           {
            "colorbar": {
             "outlinewidth": 0,
             "ticks": ""
            },
            "colorscale": [
             [
              0,
              "#0d0887"
             ],
             [
              0.1111111111111111,
              "#46039f"
             ],
             [
              0.2222222222222222,
              "#7201a8"
             ],
             [
              0.3333333333333333,
              "#9c179e"
             ],
             [
              0.4444444444444444,
              "#bd3786"
             ],
             [
              0.5555555555555556,
              "#d8576b"
             ],
             [
              0.6666666666666666,
              "#ed7953"
             ],
             [
              0.7777777777777778,
              "#fb9f3a"
             ],
             [
              0.8888888888888888,
              "#fdca26"
             ],
             [
              1,
              "#f0f921"
             ]
            ],
            "type": "surface"
           }
          ],
          "table": [
           {
            "cells": {
             "fill": {
              "color": "#EBF0F8"
             },
             "line": {
              "color": "white"
             }
            },
            "header": {
             "fill": {
              "color": "#C8D4E3"
             },
             "line": {
              "color": "white"
             }
            },
            "type": "table"
           }
          ]
         },
         "layout": {
          "annotationdefaults": {
           "arrowcolor": "#2a3f5f",
           "arrowhead": 0,
           "arrowwidth": 1
          },
          "autotypenumbers": "strict",
          "coloraxis": {
           "colorbar": {
            "outlinewidth": 0,
            "ticks": ""
           }
          },
          "colorscale": {
           "diverging": [
            [
             0,
             "#8e0152"
            ],
            [
             0.1,
             "#c51b7d"
            ],
            [
             0.2,
             "#de77ae"
            ],
            [
             0.3,
             "#f1b6da"
            ],
            [
             0.4,
             "#fde0ef"
            ],
            [
             0.5,
             "#f7f7f7"
            ],
            [
             0.6,
             "#e6f5d0"
            ],
            [
             0.7,
             "#b8e186"
            ],
            [
             0.8,
             "#7fbc41"
            ],
            [
             0.9,
             "#4d9221"
            ],
            [
             1,
             "#276419"
            ]
           ],
           "sequential": [
            [
             0,
             "#0d0887"
            ],
            [
             0.1111111111111111,
             "#46039f"
            ],
            [
             0.2222222222222222,
             "#7201a8"
            ],
            [
             0.3333333333333333,
             "#9c179e"
            ],
            [
             0.4444444444444444,
             "#bd3786"
            ],
            [
             0.5555555555555556,
             "#d8576b"
            ],
            [
             0.6666666666666666,
             "#ed7953"
            ],
            [
             0.7777777777777778,
             "#fb9f3a"
            ],
            [
             0.8888888888888888,
             "#fdca26"
            ],
            [
             1,
             "#f0f921"
            ]
           ],
           "sequentialminus": [
            [
             0,
             "#0d0887"
            ],
            [
             0.1111111111111111,
             "#46039f"
            ],
            [
             0.2222222222222222,
             "#7201a8"
            ],
            [
             0.3333333333333333,
             "#9c179e"
            ],
            [
             0.4444444444444444,
             "#bd3786"
            ],
            [
             0.5555555555555556,
             "#d8576b"
            ],
            [
             0.6666666666666666,
             "#ed7953"
            ],
            [
             0.7777777777777778,
             "#fb9f3a"
            ],
            [
             0.8888888888888888,
             "#fdca26"
            ],
            [
             1,
             "#f0f921"
            ]
           ]
          },
          "colorway": [
           "#636efa",
           "#EF553B",
           "#00cc96",
           "#ab63fa",
           "#FFA15A",
           "#19d3f3",
           "#FF6692",
           "#B6E880",
           "#FF97FF",
           "#FECB52"
          ],
          "font": {
           "color": "#2a3f5f"
          },
          "geo": {
           "bgcolor": "white",
           "lakecolor": "white",
           "landcolor": "#E5ECF6",
           "showlakes": true,
           "showland": true,
           "subunitcolor": "white"
          },
          "hoverlabel": {
           "align": "left"
          },
          "hovermode": "closest",
          "mapbox": {
           "style": "light"
          },
          "paper_bgcolor": "white",
          "plot_bgcolor": "#E5ECF6",
          "polar": {
           "angularaxis": {
            "gridcolor": "white",
            "linecolor": "white",
            "ticks": ""
           },
           "bgcolor": "#E5ECF6",
           "radialaxis": {
            "gridcolor": "white",
            "linecolor": "white",
            "ticks": ""
           }
          },
          "scene": {
           "xaxis": {
            "backgroundcolor": "#E5ECF6",
            "gridcolor": "white",
            "gridwidth": 2,
            "linecolor": "white",
            "showbackground": true,
            "ticks": "",
            "zerolinecolor": "white"
           },
           "yaxis": {
            "backgroundcolor": "#E5ECF6",
            "gridcolor": "white",
            "gridwidth": 2,
            "linecolor": "white",
            "showbackground": true,
            "ticks": "",
            "zerolinecolor": "white"
           },
           "zaxis": {
            "backgroundcolor": "#E5ECF6",
            "gridcolor": "white",
            "gridwidth": 2,
            "linecolor": "white",
            "showbackground": true,
            "ticks": "",
            "zerolinecolor": "white"
           }
          },
          "shapedefaults": {
           "line": {
            "color": "#2a3f5f"
           }
          },
          "ternary": {
           "aaxis": {
            "gridcolor": "white",
            "linecolor": "white",
            "ticks": ""
           },
           "baxis": {
            "gridcolor": "white",
            "linecolor": "white",
            "ticks": ""
           },
           "bgcolor": "#E5ECF6",
           "caxis": {
            "gridcolor": "white",
            "linecolor": "white",
            "ticks": ""
           }
          },
          "title": {
           "x": 0.05
          },
          "xaxis": {
           "automargin": true,
           "gridcolor": "white",
           "linecolor": "white",
           "ticks": "",
           "title": {
            "standoff": 15
           },
           "zerolinecolor": "white",
           "zerolinewidth": 2
          },
          "yaxis": {
           "automargin": true,
           "gridcolor": "white",
           "linecolor": "white",
           "ticks": "",
           "title": {
            "standoff": 15
           },
           "zerolinecolor": "white",
           "zerolinewidth": 2
          }
         }
        },
        "title": {
         "text": "Score Distributions per Metric (with Overall Score)"
        },
        "xaxis": {
         "anchor": "y",
         "domain": [
          0,
          1
         ],
         "title": {
          "text": "Metric"
         }
        },
        "yaxis": {
         "anchor": "x",
         "domain": [
          0,
          1
         ],
         "dtick": 1,
         "range": [
          0,
          6
         ],
         "title": {
          "text": "Score (1-5)"
         }
        }
       }
      }
     },
     "metadata": {},
     "output_type": "display_data"
    }
   ],
   "source": [
    "plot(final_df1)"
   ]
  },
  {
   "cell_type": "markdown",
   "metadata": {},
   "source": [
    "## MODEL 2"
   ]
  },
  {
   "cell_type": "code",
   "execution_count": 11,
   "metadata": {},
   "outputs": [
    {
     "name": "stdout",
     "output_type": "stream",
     "text": [
      "LLM Raw Output: {\n",
      "  \"factual_correctness_score\": 5,\n",
      "  \"completeness_score\": 5,\n",
      "  \"clarity_score\": 5,\n",
      "  \"comments\": \"The answer thoroughly addresses how challenges in hiring, retaining, and managing qualified personnel, as well as risks related to supplier relationships and commercial agreements, could negatively impact Amazon's business operations and results in 2024. Each point is supported or logically consistent with the document chunk and search results, covering talent competition, employee dissatisfaction due to office mandates and DEI rollback, unionization risks, supplier dependency, and complexities in commercial agreements. The answer is well-organized and clearly presented.\"\n",
      "}\n",
      "LLM Raw Output: ```json\n",
      "{\n",
      "    \"factual_correctness_score\": 3,\n",
      "    \"completeness_score\": 3,\n",
      "    \"clarity_score\": 5,\n",
      "    \"comments\": \"The answer contains some factual inaccuracies, such as the total lease liability for 2024, and lacks precise data for a comparison with 2023. However, it is clear and well-phrased.\"\n",
      "}\n",
      "```\n",
      "Retrying for question: What was the total lease liability for Apple Inc. as of September 28, 2024, and how did it compare to the total lease liability as of September 30, 2023? due to error: Expecting value: line 1 column 1 (char 0)\n",
      "LLM Raw Output: ```json\n",
      "{\n",
      "    \"factual_correctness_score\": 2,\n",
      "    \"completeness_score\": 3,\n",
      "    \"clarity_score\": 5,\n",
      "    \"comments\": \"The model's answer lacks specific data for September 30, 2023, to support a direct comparison, leading to a lower factual correctness score. However, the answer is clear and provides some relevant information about the 2024 figure.\"\n",
      "}\n",
      "```\n",
      "Retrying for question: What was the total lease liability for Apple Inc. as of September 28, 2024, and how did it compare to the total lease liability as of September 30, 2023? due to error: Expecting value: line 1 column 1 (char 0)\n",
      "LLM Raw Output: ```json\n",
      "{\n",
      "    \"factual_correctness_score\": 2,\n",
      "    \"completeness_score\": 3,\n",
      "    \"clarity_score\": 5,\n",
      "    \"comments\": \"The model answer contains inaccuracies in stating the total lease liability as $15.6 billion for 2024, which is not supported by the provided search results. However, the clarity is high as the answer is well-phrased and easy to understand. Completeness is partial because it lacks precise data for both years.\"\n",
      "}\n",
      "```\n",
      "Retrying for question: What was the total lease liability for Apple Inc. as of September 28, 2024, and how did it compare to the total lease liability as of September 30, 2023? due to error: Expecting value: line 1 column 1 (char 0)\n",
      "LLM Raw Output: {\n",
      "  \"factual_correctness_score\": 2,\n",
      "  \"completeness_score\": 2,\n",
      "  \"clarity_score\": 5,\n",
      "  \"comments\": \"The answer correctly states the total lease liabilities for Apple Inc. as of September 28, 2024 ($15.6 billion) but incorrectly refers to this as a total lease liability figure, which is not explicitly confirmed in the search results. It also fails to provide or identify the total lease liability as of September 30, 2023, despite the document chunk referencing lease liabilities for both dates. The answer acknowledges the lack of explicit data for 2023 but misses an opportunity to clarify or infer from the sources. The explanation is clear and well-phrased, but the factual accuracy and completeness are limited due to insufficient use of provided data.\"\n",
      "}\n",
      "LLM Raw Output: {\n",
      "    \"factual_correctness_score\": 4,\n",
      "    \"completeness_score\": 4,\n",
      "    \"clarity_score\": 5,\n",
      "    \"comments\": \"The answer is largely accurate, but lacks specific citation from the provided document chunk about exact revenue figures and competition from new entrants. It is very clear and mostly complete, but could be improved with direct references to chunk content.\"\n",
      "}\n",
      "LLM Raw Output: {\n",
      "    \"factual_correctness_score\": 2,\n",
      "    \"completeness_score\": 3,\n",
      "    \"clarity_score\": 4,\n",
      "    \"comments\": \"The answer provides specific per-share figures, but they are factually incorrect and do not match actual reported amounts or share class distinctions seen in Alphabet's filings. It is mostly clear but incomplete and inaccurate regarding share class details and per-share values.\"\n",
      "}\n",
      "LLM Raw Output: ```json\n",
      "{\n",
      "    \"factual_correctness_score\": 4,\n",
      "    \"completeness_score\": 4,\n",
      "    \"clarity_score\": 5,\n",
      "    \"comments\": \"The model's answer is mostly factually correct, though it includes some data like free cash flow and other metrics not directly mentioned in the provided search results. It answers the question mostly completely but lacks some specific details directly from the search results. The format is clear and easy to understand.\"\n",
      "}\n",
      "```\n",
      "Retrying for question: What were the key financial results reported by Meta Platforms, Inc. for the fourth quarter and full year ended December 31, 2024, including revenue, advertising revenue, cash flows, and year-over-year growth percentages? due to error: Expecting value: line 1 column 1 (char 0)\n",
      "LLM Raw Output: {\n",
      "    \"factual_correctness_score\": 4,\n",
      "    \"completeness_score\": 4,\n",
      "    \"clarity_score\": 5,\n",
      "    \"comments\": \"Most facts are correct and sourced, but there are a few minor inaccuracies or assumptions (e.g., 'Free Cash Flow' and 'Long-term Debt' figures are not clearly found in the main cited documents, and 'advertising revenue' is not explicitly broken out). Answer is clear and mostly complete.\"\n",
      "}\n",
      "LLM Raw Output: ```json\n",
      "{\n",
      "    \"factual_correctness_score\": 3,\n",
      "    \"completeness_score\": 3,\n",
      "    \"clarity_score\": 5,\n",
      "    \"comments\": \"The model's answer provides some factual accuracy but lacks specific details from the document chunk regarding Netflix's challenges in 2024. It remains clear and well-structured, though.\"\n",
      "}\n",
      "```\n",
      "Retrying for question: What operational and strategic challenges did Netflix, Inc. identify in its 2024 fiscal year report as it expanded its streaming service, introduced new features like games and advertising, and scaled its content production and international offerings? due to error: Expecting value: line 1 column 1 (char 0)\n",
      "LLM Raw Output: {\n",
      "    \"factual_correctness_score\": 5,\n",
      "    \"completeness_score\": 4,\n",
      "    \"clarity_score\": 5,\n",
      "    \"comments\": \"The answer correctly identifies all major operational and strategic challenges as reflected in the document chunk, but misses the explicit mention of balancing cash flow despite high content costs and specific threats like a strengthening U.S. dollar.\"\n",
      "}\n",
      "LLM Raw Output: {\n",
      "  \"factual_correctness_score\": 5,\n",
      "  \"completeness_score\": 5,\n",
      "  \"clarity_score\": 5,\n",
      "  \"comments\": \"The answer correctly states that NVIDIA files lobbying disclosure reports where required by law, including with the U.S. Senate Office of Public Records and House of Representatives under the Lobbying Disclosure Act, and that these filings are publicly accessible. It also accurately notes that details about NVIDIA's public policy and lobbying activities are available on its investor relations website and on third-party platforms like OpenSecrets and Quiver Quantitative. The response is comprehensive, fully addressing the question with clear and precise information aligned with the sources.\"\n",
      "}\n",
      "LLM Raw Output: ```json\n",
      "{\n",
      "    \"factual_correctness_score\": 4,\n",
      "    \"completeness_score\": 4,\n",
      "    \"clarity_score\": 5,\n",
      "    \"comments\": \"The model's answer is mostly factually correct, but total revenues are slightly misstated as $52.96 billion instead of $53.0 billion. The clarity and structure of the answer are excellent, though it lacks some specific details about the fiscal 2024 Form 10-K report.\"\n",
      "}\n",
      "```\n",
      "Retrying for question: What highlights or key financial metrics are included in Oracle Corporation's fiscal year 2024 Form 10-K report? due to error: Expecting value: line 1 column 1 (char 0)\n",
      "LLM Raw Output: {\n",
      "  \"factual_correctness_score\": 5,\n",
      "  \"completeness_score\": 5,\n",
      "  \"clarity_score\": 5,\n",
      "  \"comments\": \"The answer accurately presents key financial highlights from Oracle's fiscal year 2024 Form 10-K, including total revenues, revenue breakdown, operating expenses and income, net income, EPS, cash flows, capital expenditures, stock repurchases, dividends, and other financial notes consistent with the source documents. It also clearly states the corporate social responsibility aspect mentioned. The response is comprehensive, detailed, and clearly structured.\"\n",
      "}\n",
      "LLM Raw Output: {\n",
      "  \"factual_correctness_score\": 2,\n",
      "  \"completeness_score\": 1,\n",
      "  \"clarity_score\": 3,\n",
      "  \"comments\": \"The model answer presents a comprehensive and detailed strategy for Reddit, Inc. addressing potential user declines due to reduced third-party applications; however, this information is not supported or reflected in the provided document chunk (which contains only numeric references without substantive content). Thus, factual accuracy cannot be confirmed based on the chunk, making the answer largely unsubstantiated. The answer is complete and clear as a standalone explanation but fails to align with the given source.\"\n",
      "}\n",
      "LLM Raw Output: {\n",
      "  \"factual_correctness_score\": 5,\n",
      "  \"completeness_score\": 5,\n",
      "  \"clarity_score\": 5,\n",
      "  \"comments\": \"The model answer accurately lists all Tesla, Inc. executives and directors who signed the annual report for the fiscal year ended December 31, 2024, along with their exact titles at the time, as evidenced by the SEC filing dated January 29, 2025. The answer includes all required individuals and is clearly formatted and complete.\"\n",
      "}\n",
      "LLM Raw Output: {\n",
      "    \"factual_correctness_score\": 3,\n",
      "    \"completeness_score\": 3,\n",
      "    \"clarity_score\": 4,\n",
      "    \"comments\": \"The answer distracts from the chunk's numbers and uses general industry context, but does not directly answer with the chunk data (100, 11, 61), and so is only partially correct and complete.\"\n",
      "}\n",
      "LLM Raw Output: {\n",
      "    \"factual_correctness_score\": 4,\n",
      "    \"completeness_score\": 3,\n",
      "    \"clarity_score\": 4,\n",
      "    \"comments\": \"The answer is mostly factually correct and clear, but incomplete regarding management's specific conclusion on disclosure controls and procedures, which is not addressed in the provided content[2][3].\"\n",
      "}\n",
      "LLM Raw Output: ```json\n",
      "{\n",
      "    \"factual_correctness_score\": 2,\n",
      "    \"completeness_score\": 2,\n",
      "    \"clarity_score\": 5,\n",
      "    \"comments\": \"The model answer lacks specific factual evidence from the provided document chunk, leading to major factual inaccuracies and incomplete coverage of the question. However, it is clear and well-structured.\"\n",
      "}\n",
      "```\n",
      "Retrying for question: What types of risks are associated with Cisco Systems' investments in privately held companies during fiscal year 2024? due to error: Expecting value: line 1 column 1 (char 0)\n",
      "LLM Raw Output: {\n",
      "    \"factual_correctness_score\": 4,\n",
      "    \"completeness_score\": 4,\n",
      "    \"clarity_score\": 5,\n",
      "    \"comments\": \"The answer is consistent with general investment risk factors but cites public studies and general risks not directly from the provided document chunk (274; 255; 317). The main details about Cisco’s specific 2024 risks are inferred and not directly stated in the chunk.\"\n",
      "}\n",
      "LLM Raw Output: {\n",
      "  \"factual_correctness_score\": 5,\n",
      "  \"completeness_score\": 5,\n",
      "  \"clarity_score\": 5,\n",
      "  \"comments\": \"The model answer accurately extracts and summarizes the key risks related to foreign exchange and regulatory challenges from Alphabet's 2024 Annual Report, including currency fluctuations, hedging risks, regulatory restrictions, evolving laws, geopolitical risks, anti-corruption compliance, and other international risks such as payment and cultural differences. The answer is thorough, corresponds well to the provided source, and is clearly organized and easy to understand.\"\n",
      "}\n",
      "LLM Raw Output: ```json\n",
      "{\n",
      "    \"factual_correctness_score\": 5,\n",
      "    \"completeness_score\": 5,\n",
      "    \"clarity_score\": 5,\n",
      "    \"comments\": \"All facts are fully correct, the answer is comprehensive and clearly structured, and all relevant details from the chunk are included.\"\n",
      "}\n",
      "```\n",
      "Retrying for question: What were the key financial results reported by Meta Platforms, Inc. for the fourth quarter and full year ended December 31, 2024, including revenue growth, net income, and operating metrics? due to error: Expecting value: line 1 column 1 (char 0)\n",
      "LLM Raw Output: ```json\n",
      "{\n",
      "    \"factual_correctness_score\": 4,\n",
      "    \"completeness_score\": 5,\n",
      "    \"clarity_score\": 5,\n",
      "    \"comments\": \"The model answer is mostly accurate, with minor inaccuracies in the 'Effective Tax Rate' and 'Free Cash Flow' sections. It is fully complete, covering all key financial metrics, and is clear and easy to understand.\"\n",
      "}\n",
      "```\n",
      "Retrying for question: What were the key financial results reported by Meta Platforms, Inc. for the fourth quarter and full year ended December 31, 2024, including revenue growth, net income, and operating metrics? due to error: Expecting value: line 1 column 1 (char 0)\n",
      "LLM Raw Output: {\n",
      "    \"factual_correctness_score\": 5,\n",
      "    \"completeness_score\": 5,\n",
      "    \"clarity_score\": 5,\n",
      "    \"comments\": \"The answer is factually accurate, fully addresses the question, and is clear and well-organized, reflecting all the key metrics and growth drivers mentioned in the source documents.\"\n",
      "}\n",
      "LLM Raw Output: {\n",
      "  \"factual_correctness_score\": 5,\n",
      "  \"completeness_score\": 5,\n",
      "  \"clarity_score\": 5,\n",
      "  \"comments\": \"The answer accurately identifies key regulatory and operational challenges Netflix faced in international expansion for the fiscal year ended December 31, 2024, such as content quotas, censorship, retaliatory tariffs, subscriber growth challenges, competition, and infrastructure issues, all supported by the sources. It clearly explains how these factors impact Netflix's business strategy and financial results, including margin pressures and strategic adaptations, covering all aspects comprehensively and with clear structure.\"\n",
      "}\n",
      "LLM Raw Output: {\n",
      "  \"factual_correctness_score\": 5,\n",
      "  \"completeness_score\": 5,\n",
      "  \"clarity_score\": 5,\n",
      "  \"comments\": \"The answer accurately summarizes how NVIDIA's total target compensation for named executive officers in Fiscal 2024 was determined based on a pay-for-performance philosophy aligned with financial metrics, as outlined by the Compensation Committee. It clearly explains the components of compensation including fixed and at-risk elements, details the role of performance-based equity awards (SY PSUs, MY PSUs, RSUs), and describes the Committee's method for calculating equity award amounts. It also correctly notes the significant proportion of total pay that is performance-dependent and the Committee's approach to adjusting upside opportunities without raising base pay or total target equity awards, fully reflecting the document's information and is well-structured and easy to understand [2][4].\"\n",
      "}\n",
      "LLM Raw Output: ```json\n",
      "{\n",
      "    \"factual_correctness_score\": 5,\n",
      "    \"completeness_score\": 4,\n",
      "    \"clarity_score\": 5,\n",
      "    \"comments\": \"The model answer is factually correct and clear. However, it lacks detailed information about recent accounting estimate changes as it mentions that there is no explicit mention of changes in the provided context, which might be incomplete based on the full financial statement.\"\n",
      "}\n",
      "```\n",
      "Retrying for question: What are the key revenue sources and recent accounting estimate changes reported by Oracle Corporation for the fiscal year ended May 31, 2024, as detailed in their financial statements? due to error: Expecting value: line 1 column 1 (char 0)\n",
      "LLM Raw Output: {\n",
      "    \"factual_correctness_score\": 5,\n",
      "    \"completeness_score\": 4,\n",
      "    \"clarity_score\": 5,\n",
      "    \"comments\": \"The answer is factually accurate and clearly written, but does not provide specific figures from the document chunk (if available) and omits any explicit mention of notable accounting estimate changes in the chunk provided, though this is explained.\"\n",
      "}\n",
      "LLM Raw Output: ```json\n",
      "{\n",
      "    \"factual_correctness_score\": 2,\n",
      "    \"completeness_score\": 3,\n",
      "    \"clarity_score\": 5,\n",
      "    \"comments\": \"The model answer includes some accurate elements but lacks specific details directly from the document chunk, such as the exact procedures documented in the given sources. It provides a clear explanation of general audit procedures but does not directly align with the specific procedures mentioned or implied in the provided documents.\"\n",
      "}\n",
      "```\n",
      "Retrying for question: What specific procedures did the auditors perform to address the critical audit matter related to advertising revenue for Reddit, Inc. in the fiscal year ended December 31, 2024? due to error: Expecting value: line 1 column 1 (char 0)\n",
      "LLM Raw Output: ```json\n",
      "{\n",
      "    \"factual_correctness_score\": 3,\n",
      "    \"completeness_score\": 4,\n",
      "    \"clarity_score\": 5,\n",
      "    \"comments\": \"The model's answer is mostly factually correct but lacks specific details about the procedures from the referenced document chunk. It provides a comprehensive framework of typical audit procedures but doesn't fully align with the chunk's content. The answer is clear and well-structured.\"\n",
      "}\n",
      "```\n",
      "Retrying for question: What specific procedures did the auditors perform to address the critical audit matter related to advertising revenue for Reddit, Inc. in the fiscal year ended December 31, 2024? due to error: Expecting value: line 1 column 1 (char 0)\n",
      "LLM Raw Output: ```json\n",
      "{\n",
      "    \"factual_correctness_score\": 2,\n",
      "    \"completeness_score\": 2,\n",
      "    \"clarity_score\": 5,\n",
      "    \"comments\": \"The model answer includes procedures that are not explicitly mentioned in the provided document chunk, leading to factual inaccuracies and incompleteness. However, the clarity of the answer is high.\"\n",
      "}\n",
      "```\n",
      "Retrying for question: What specific procedures did the auditors perform to address the critical audit matter related to advertising revenue for Reddit, Inc. in the fiscal year ended December 31, 2024? due to error: Expecting value: line 1 column 1 (char 0)\n",
      "LLM Raw Output: ```json\n",
      "{\n",
      "    \"factual_correctness_score\": 3,\n",
      "    \"completeness_score\": 3,\n",
      "    \"clarity_score\": 5,\n",
      "    \"comments\": \"The model answer includes procedures that are not explicitly mentioned in the provided search results, such as software-assisted data analysis and transaction verification. However, it does mention the evaluation of internal controls and testing of ad delivery, which are relevant.\"\n",
      "}\n",
      "```\n",
      "Retrying for question: What specific procedures did the auditors perform to address the critical audit matter related to advertising revenue for Reddit, Inc. in the fiscal year ended December 31, 2024? due to error: Expecting value: line 1 column 1 (char 0)\n",
      "LLM Raw Output: {\n",
      "    \"factual_correctness_score\": 4,\n",
      "    \"completeness_score\": 5,\n",
      "    \"clarity_score\": 5,\n",
      "    \"comments\": \"The answer accurately and clearly details auditor procedures, closely matching the information implied by the document chunk (manual controls testing, capture/tracking of ad delivery), though it adds additional specific details (software-assisted data analysis, transaction verification, assessment of audit evidence) not explicitly mentioned in the limited chunk.\"\n",
      "} \n",
      "\n",
      "*Note: Since the specific document chunk content for \"1206; 1204; 1209\" was not provided in the search results, the evaluation is based on the overall published financial report’s critical audit matters section and the standard procedures described by auditors for advertising revenue. If this exceeds the strict chunk constraint, factual correctness could be adjusted downward if the extra details are not corroborated by the chunk. However, the general procedures and focus are well supported by the available public filings[1].*  \n",
      "*As per your instruction, only the JSON object is returned below—but since actual “chunk” content is not available (only page references), the above explanation is for transparency, not part of the output.*\n",
      "\n",
      "{\n",
      "    \"factual_correctness_score\": 4,\n",
      "    \"completeness_score\": 5,\n",
      "    \"clarity_score\": 5,\n",
      "    \"comments\": \"The answer closely matches expected procedures and is clear, but the chunk only explicitly confirms manual control testing and ad delivery tracking.\"\n",
      "} \n",
      "\n",
      "*However, since this is inconsistent with the requirement and the actual content from “chunk: 1206; 1204; 1209” is not available in the provided sources, and only a generic answer is possible, here is the correct assessment:*\n",
      "\n",
      "**If “chunk: 1206; 1204; 1209” in the Reddit 10-K exclusively refers to “manual internal control over the Company's advertising revenue process” and \"tested the capture and tracking of ad delivery within the Company’s revenue systems,” but does not reference software-assisted data analysis, transaction verification, or broader evidence assessment, then the most accurate JSON would be the following:**\n",
      "\n",
      "{\n",
      "    \"factual_correctness_score\": 4,\n",
      "    \"completeness_score\": 4,\n",
      "    \"clarity_score\": 5,\n",
      "    \"comments\": \"The answer is clear and mostly correct, but overstates completeness with details not confirmed by the available chunk, which focuses on manual controls and ad delivery tracking.\"\n",
      "}\n",
      "\n",
      "**But since your instruction is to return ONLY a valid JSON object, and if you wish to strictly assess based on the implied limited chunk (as no explicit lines are provided):**\n",
      "\n",
      "**Final JSON (strict, per instruction):**\n",
      "\n",
      "{\n",
      "    \"factual_correctness_score\": 4,\n",
      "    \"completeness_score\": 4,\n",
      "    \"clarity_score\": 5,\n",
      "    \"comments\": \"Answer is clear and mostly correct, but includes additional details not confirmed by the limited chunk, which only references manual controls and ad delivery tracking.\"\n",
      "}\n",
      "Retrying for question: What specific procedures did the auditors perform to address the critical audit matter related to advertising revenue for Reddit, Inc. in the fiscal year ended December 31, 2024? due to error: Extra data: line 8 column 1 (char 478)\n",
      "LLM Raw Output: ```json\n",
      "{\n",
      "    \"factual_correctness_score\": 2,\n",
      "    \"completeness_score\": 2,\n",
      "    \"clarity_score\": 5,\n",
      "    \"comments\": \"The model's answer includes several procedures not explicitly mentioned in the provided search results, leading to factual inaccuracies and incompleteness. However, it is clear and well-structured.\"\n",
      "}\n",
      "```\n",
      "Retrying for question: What specific procedures did the auditors perform to address the critical audit matter related to advertising revenue for Reddit, Inc. in the fiscal year ended December 31, 2024? due to error: Expecting value: line 1 column 1 (char 0)\n",
      "LLM Raw Output: {\n",
      "    \"factual_correctness_score\": 5,\n",
      "    \"completeness_score\": 5,\n",
      "    \"clarity_score\": 5,\n",
      "    \"comments\": \"The answer accurately and comprehensively details specific auditor procedures addressing the critical audit matter, matching the procedures described in standard audit documentation on advertising revenue.\"\n",
      "}  \n",
      "*(Note: The referenced chunk numbers 1206; 1204; 1209 could not be verified as the original document chunk text is not provided, but based on the usual SEC audit language and the answer's alignment with standard procedures described in Reddit's 10-K, the scores are assigned as above. The answer is fully consistent with standard audit reports on such matters. If chunk 1206, 1204, or 1209 contained identical or substantially similar text, this evaluation stands correct; otherwise, if the chunks contained drastically different content, an actual excerpt would be required for absolute precision. As per typical SEC audit language, the answer is robust and precise.)*  \n",
      "**Erratum:** As the instructions specify, \"Return ONLY this JSON,\" the following is the valid output as needed:\n",
      "\n",
      "```json\n",
      "{\n",
      "    \"factual_correctness_score\": 5,\n",
      "    \"completeness_score\": 5,\n",
      "    \"clarity_score\": 5,\n",
      "    \"comments\": \"The answer is accurate and complete, fully describing the typical audit procedures for advertising revenue, consistent with authoritative audit practice.\"\n",
      "}\n",
      "```\n",
      "*(However, per strict technical instructions above, only the JSON should appear—but since the \"document chunk\" text was not provided, the above is the best judgment based on typical audit work. If the actual chunks referred to non-audit or unrelated content, the scores would need to be revised. The answer does not conflict with the known procedures in Reddit's filings[1].)*\n",
      "\n",
      "Given that in practice, you require only the JSON and without actual chunk content, the above JSON is provided assuming standard procedures.\n",
      "\n",
      "---\n",
      "\n",
      "***However, as the actual content of document chunks 1206, 1204, 1209 is NOT provided online or in the included results, and per instructions, only a valid JSON is to be returned (not a paragraph), here is the formal output as instructed:***\n",
      "\n",
      "```json\n",
      "{\n",
      "    \"factual_correctness_score\": 5,\n",
      "    \"completeness_score\": 5,\n",
      "    \"clarity_score\": 5,\n",
      "    \"comments\": \"The answer aligns with standard auditing procedures for advertising revenue, matching authoritative practices as described in Reddit’s audit documentation.\"\n",
      "}\n",
      "```\n",
      "*(This assumes the model answer matches the expected content, since the actual chunk text is unavailable in the provided results.)*\n",
      "Retrying for question: What specific procedures did the auditors perform to address the critical audit matter related to advertising revenue for Reddit, Inc. in the fiscal year ended December 31, 2024? due to error: Extra data: line 7 column 1 (char 319)\n",
      "LLM Raw Output: ```json\n",
      "{\n",
      "    \"factual_correctness_score\": 2,\n",
      "    \"completeness_score\": 2,\n",
      "    \"clarity_score\": 5,\n",
      "    \"comments\": \"The model's answer provides clear and understandable information, but it appears to introduce procedures not directly supported by the given document chunk. The chunk primarily mentions the evaluation of internal controls and testing of ad delivery, but lacks specific details on other procedures like software-assisted data analysis or transaction verification.\"\n",
      "}\n",
      "```\n",
      "Retrying for question: What specific procedures did the auditors perform to address the critical audit matter related to advertising revenue for Reddit, Inc. in the fiscal year ended December 31, 2024? due to error: Expecting value: line 1 column 1 (char 0)\n",
      "LLM Raw Output: ```json\n",
      "{\n",
      "    \"factual_correctness_score\": 2,\n",
      "    \"completeness_score\": 2,\n",
      "    \"clarity_score\": 5,\n",
      "    \"comments\": \"The model answer includes procedures not directly supported by the given documents, such as software-assisted data analysis and transaction verification. The clarity is high due to the well-structured and understandable explanation.\"\n",
      "}\n",
      "```\n",
      "Retrying for question: What specific procedures did the auditors perform to address the critical audit matter related to advertising revenue for Reddit, Inc. in the fiscal year ended December 31, 2024? due to error: Expecting value: line 1 column 1 (char 0)\n",
      "LLM Raw Output: {\n",
      "    \"factual_correctness_score\": 4,\n",
      "    \"completeness_score\": 4,\n",
      "    \"clarity_score\": 5,\n",
      "    \"comments\": \"The answer accurately lists several key procedures, but explicit mention of 'manual internal control evaluation' and 'capture and tracking of ad delivery' from the document chunk is not directly matched to each procedure's description. The answer is mostly complete and very clear.\"\n",
      "}\n",
      "LLM Raw Output: {\n",
      "  \"factual_correctness_score\": 5,\n",
      "  \"completeness_score\": 5,\n",
      "  \"clarity_score\": 5,\n",
      "  \"comments\": \"The answer accurately reports Tesla's inventory valuation decrease from $13,626 million to $12,017 million between December 31, 2023 and December 31, 2024, and correctly states the inventory write-down amounts for 2024 ($335 million), 2023 ($463 million), and 2022 ($177 million) as per the document chunk. It also notes the lack of detailed inventory composition information in the provided data, maintaining completeness and clarity.\"\n",
      "}\n",
      "LLM Raw Output: ```json\n",
      "{\n",
      "    \"factual_correctness_score\": 5,\n",
      "    \"completeness_score\": 1,\n",
      "    \"clarity_score\": 5,\n",
      "    \"comments\": \"The model's answer is factually correct and clear, but it lacks completeness as it does not provide specific numbers for the physical stores operated by Amazon. The document chunk does not contain this information, leading to an incomplete response.\"\n",
      "}\n",
      "```\n",
      "Retrying for question: Based on the provided chunk and context (Amazon, year 2024), here is a suitable question:\n",
      "\n",
      "**How many physical stores did Amazon operate in North America and internationally as of December 31, 2024?** due to error: Expecting value: line 1 column 1 (char 0)\n",
      "LLM Raw Output: {\n",
      "  \"factual_correctness_score\": 5,\n",
      "  \"completeness_score\": 5,\n",
      "  \"clarity_score\": 5,\n",
      "  \"comments\": \"The model answer correctly states it does not know the specific number of physical stores Amazon operated as of December 31, 2024, based on the provided document chunk, which is accurate since the chunk only contained numbers unrelated to store counts. The answer is clear and accurate about the lack of relevant data in the provided chunk.\"\n",
      "}\n",
      "LLM Raw Output: {\n",
      "  \"factual_correctness_score\": 5,\n",
      "  \"completeness_score\": 5,\n",
      "  \"clarity_score\": 5,\n",
      "  \"comments\": \"The model answer correctly states that the provided document chunk does not contain Apple Inc.'s management conclusion regarding the effectiveness of disclosure controls and internal control over financial reporting for the fiscal year ended September 28, 2024. It also accurately points to the usual location of this information (Item 9A in the full Form 10-K) and notes this is missing in the excerpts, fully aligned with the given context.\"\n",
      "}\n",
      "LLM Raw Output: ```json\n",
      "{\n",
      "    \"factual_correctness_score\": 2,\n",
      "    \"completeness_score\": 2,\n",
      "    \"clarity_score\": 4,\n",
      "    \"comments\": \"The model's answer does not directly reference specific risks associated with Cisco Systems' investments in privately held companies during fiscal year 2024 from the provided document chunk. It provides a general overview of potential risks but lacks specific details from the document chunk. The answer is mostly clear but lacks completeness and factual correctness based on the given information.\"\n",
      "}\n",
      "```\n",
      "Retrying for question: What types of risks are associated with Cisco Systems' investments in privately held companies during fiscal year 2024? due to error: Expecting value: line 1 column 1 (char 0)\n",
      "LLM Raw Output: ```json\n",
      "{\n",
      "    \"factual_correctness_score\": 2,\n",
      "    \"completeness_score\": 2,\n",
      "    \"clarity_score\": 4,\n",
      "    \"comments\": \"The model's answer lacks specific factual details directly from the document chunk and does not fully address the question about Cisco's investments in privately held companies. However, it provides some general risk factors clearly.\"\n",
      "}\n",
      "```\n",
      "Retrying for question: What types of risks are associated with Cisco Systems' investments in privately held companies during fiscal year 2024? due to error: Expecting value: line 1 column 1 (char 0)\n",
      "LLM Raw Output: ```json\n",
      "{\n",
      "    \"factual_correctness_score\": 3,\n",
      "    \"completeness_score\": 3,\n",
      "    \"clarity_score\": 5,\n",
      "    \"comments\": \"The answer provides general risk factors but lacks specific details about Cisco's private investments during fiscal year 2024, which are not explicitly mentioned in the provided documents. The clarity is high as the risks are well-explained.\"\n",
      "}\n",
      "```\n",
      "Retrying for question: What types of risks are associated with Cisco Systems' investments in privately held companies during fiscal year 2024? due to error: Expecting value: line 1 column 1 (char 0)\n",
      "LLM Raw Output: {\n",
      "  \"factual_correctness_score\": 2,\n",
      "  \"completeness_score\": 1,\n",
      "  \"clarity_score\": 5,\n",
      "  \"comments\": \"The model answer discusses risks related to Cisco's investments in privately held companies, focusing on impairment risk and general market/operational risks, but the provided search results do not contain any information relevant to Cisco's investments in privately held companies or related risks. Therefore, the answer is not factually supported by the given document chunk, lacks completeness in relation to the chunk, but is clearly and coherently presented.\"\n",
      "}\n",
      "LLM Raw Output: ```json\n",
      "{\n",
      "    \"factual_correctness_score\": 4,\n",
      "    \"completeness_score\": 4,\n",
      "    \"clarity_score\": 5,\n",
      "    \"comments\": \"The model answer provides accurate information about Alphabet's international operational risks, including foreign exchange and regulatory challenges. However, it lacks specific details from the 2024 Annual Report directly addressing these risks within the provided document chunk.\"\n",
      "}\n",
      "```\n",
      "Retrying for question: What risks does Alphabet Inc. face in its international operations, particularly in terms of foreign exchange and regulatory challenges, as highlighted in its 2024 Annual Report? due to error: Expecting value: line 1 column 1 (char 0)\n",
      "LLM Raw Output: ```json\n",
      "{\n",
      "    \"factual_correctness_score\": 4,\n",
      "    \"completeness_score\": 4,\n",
      "    \"clarity_score\": 5,\n",
      "    \"comments\": \"The model's answer is mostly factually correct and clear, but lacks specific details about foreign exchange risks and regulatory challenges directly from Alphabet's 2024 Annual Report. The clarity and structure of the answer are well-organized and easy to follow.\"\n",
      "}\n",
      "```\n",
      "Retrying for question: What risks does Alphabet Inc. face in its international operations, particularly in terms of foreign exchange and regulatory challenges, as highlighted in its 2024 Annual Report? due to error: Expecting value: line 1 column 1 (char 0)\n",
      "LLM Raw Output: {\n",
      "    \"factual_correctness_score\": 5,\n",
      "    \"completeness_score\": 4,\n",
      "    \"clarity_score\": 5,\n",
      "    \"comments\": \"The answer accurately reflects the risks described in the chunk and adds useful context; minor operational risk details in the chunk are summarized but not exhaustively repeated.\"\n",
      "}\n",
      "LLM Raw Output: ```json\n",
      "{\n",
      "    \"factual_correctness_score\": 4,\n",
      "    \"completeness_score\": 4,\n",
      "    \"clarity_score\": 5,\n",
      "    \"comments\": \"The model answer is mostly factually correct but includes some data, such as cash and cash equivalents, free cash flow, and headcount, that are not supported by the provided search results. The response is clear and well-structured, missing minor details.\"\n",
      "}\n",
      "```\n",
      "Retrying for question: What were the key financial results reported by Meta Platforms, Inc. for the fourth quarter and full year ended December 31, 2024, including revenue growth, net income, and operating metrics? due to error: Expecting value: line 1 column 1 (char 0)\n",
      "LLM Raw Output: {\n",
      "    \"factual_correctness_score\": 5,\n",
      "    \"completeness_score\": 5,\n",
      "    \"clarity_score\": 5,\n",
      "    \"comments\": \"The answer accurately and comprehensively summarizes all key financial results, revenue growth, net income, and operating metrics, and includes additional important metrics and figures from the document chunk, presented clearly.\"\n",
      "}\n",
      "LLM Raw Output: ```json\n",
      "{\n",
      "    \"factual_correctness_score\": 3,\n",
      "    \"completeness_score\": 3,\n",
      "    \"clarity_score\": 5,\n",
      "    \"comments\": \"The model's answer provides some generally correct information about Netflix's challenges, but it lacks specific details related to the fiscal year ended December 31, 2024, and does not fully address the financial impact. The response is clear and well-structured.\"\n",
      "}\n",
      "```\n",
      "Retrying for question: What are the key regulatory and operational challenges Netflix, Inc. identified for its international expansion in the fiscal year ended December 31, 2024, and how might these impact its business strategy and financial results? due to error: Expecting value: line 1 column 1 (char 0)\n",
      "LLM Raw Output: {\n",
      "    \"factual_correctness_score\": 5,\n",
      "    \"completeness_score\": 4,\n",
      "    \"clarity_score\": 5,\n",
      "    \"comments\": \"The answer accurately summarizes regulatory and operational challenges as presented in the chunks, but does not specifically address the fiscal year 2024.\"\n",
      "}\n",
      "LLM Raw Output: ```json\n",
      "{\n",
      "    \"factual_correctness_score\": 3,\n",
      "    \"completeness_score\": 2,\n",
      "    \"clarity_score\": 5,\n",
      "    \"comments\": \"The answer mentions the use of performance-based equity awards but lacks specific details about how total target compensation was determined in Fiscal 2024. It is clear and well-structured, but incomplete in addressing the question fully.\"\n",
      "}\n",
      "```\n",
      "Retrying for question: How was the total target compensation determined for NVIDIA Corporation’s named executive officers in Fiscal 2024, and what role did at-risk, performance-based equity awards play in the compensation program according to the Compensation Committee? due to error: Expecting value: line 1 column 1 (char 0)\n",
      "LLM Raw Output: {\n",
      "  \"factual_correctness_score\": 5,\n",
      "  \"completeness_score\": 5,\n",
      "  \"clarity_score\": 5,\n",
      "  \"comments\": \"The answer accurately captures that NVIDIA's Fiscal 2024 executive compensation was based on a pay-for-performance philosophy, with a large portion of pay being at risk and linked to performance-based equity awards such as SY PSUs and MY PSUs tied to specific financial and stock performance metrics, consistent with the document chunk. It also clearly explains the role of these equity awards in aligning compensation with company and shareholder interests, fulfilling the question completely and clearly.\"\n",
      "}\n",
      "LLM Raw Output: ```json\n",
      "{\n",
      "    \"factual_correctness_score\": 5,\n",
      "    \"completeness_score\": 4,\n",
      "    \"clarity_score\": 5,\n",
      "    \"comments\": \"The model answer accurately details Oracle's revenue sources and provides a clear summary. However, it lacks specific information on recent accounting estimate changes as requested, making it mostly complete but not fully.\"\n",
      "}\n",
      "```\n",
      "Retrying for question: What are the key revenue sources and recent accounting estimate changes reported by Oracle Corporation for the fiscal year ended May 31, 2024, as detailed in their financial statements? due to error: Expecting value: line 1 column 1 (char 0)\n",
      "LLM Raw Output: ```json\n",
      "{\n",
      "    \"factual_correctness_score\": 4,\n",
      "    \"completeness_score\": 4,\n",
      "    \"clarity_score\": 5,\n",
      "    \"comments\": \"The model's answer is mostly factually correct and complete but lacks specific details about recent accounting estimate changes, which are not explicitly mentioned in the provided context. The answer is clear and well-structured.\"\n",
      "}\n",
      "```\n",
      "Retrying for question: What are the key revenue sources and recent accounting estimate changes reported by Oracle Corporation for the fiscal year ended May 31, 2024, as detailed in their financial statements? due to error: Expecting value: line 1 column 1 (char 0)\n",
      "LLM Raw Output: {\n",
      "    \"factual_correctness_score\": 4,\n",
      "    \"completeness_score\": 4,\n",
      "    \"clarity_score\": 5,\n",
      "    \"comments\": \"The answer correctly identifies Oracle's key revenue sources but bases the breakdown on summarized external data, not just the document chunk. It is clear and well-structured, but the explicit reference to deferred revenue and restructuring is not fully supported by fact-only use of the chunk.\"\n",
      "}\n",
      "LLM Raw Output: {\n",
      "  \"factual_correctness_score\": 5,\n",
      "  \"completeness_score\": 5,\n",
      "  \"clarity_score\": 5,\n",
      "  \"comments\": \"The answer correctly states that the provided document does not include specific details on the auditors' procedures related to the critical audit matter for advertising revenue, accurately reflecting the absence of such details in the available context. It appropriately notes the involvement of judgment and IT professionals without making unsupported claims, and explains where such information would typically be found, making the response fully correct, complete, and clearly communicated.\"\n",
      "}\n",
      "LLM Raw Output: {\n",
      "  \"factual_correctness_score\": 5,\n",
      "  \"completeness_score\": 5,\n",
      "  \"clarity_score\": 5,\n",
      "  \"comments\": \"The model answer correctly states that the provided document chunk does not contain specific details about Tesla's inventory composition, valuation changes, or inventory write-downs for the periods requested, accurately reflecting the lack of relevant data. The response is clear, precise, and appropriately guides the user to consult the actual 10-K report for that information.\"\n",
      "}\n",
      "Saved final results to final_1.csv\n"
     ]
    }
   ],
   "source": [
    "from user_models.example_1.model import qa, finalize\n",
    "from user_models.createplot import plot\n",
    "from user_models.example_2.qa import QA2\n",
    "from user_models.evaluate import evaluate_answer\n",
    "\n",
    "df2 = qa(QA2)\n",
    "final_df2 = finalize(evaluate_answer, df2)"
   ]
  },
  {
   "cell_type": "code",
   "execution_count": 12,
   "metadata": {},
   "outputs": [
    {
     "data": {
      "text/html": [
       "<div>\n",
       "<style scoped>\n",
       "    .dataframe tbody tr th:only-of-type {\n",
       "        vertical-align: middle;\n",
       "    }\n",
       "\n",
       "    .dataframe tbody tr th {\n",
       "        vertical-align: top;\n",
       "    }\n",
       "\n",
       "    .dataframe thead th {\n",
       "        text-align: right;\n",
       "    }\n",
       "</style>\n",
       "<table border=\"1\" class=\"dataframe\">\n",
       "  <thead>\n",
       "    <tr style=\"text-align: right;\">\n",
       "      <th></th>\n",
       "      <th>question</th>\n",
       "      <th>top_k_chunk</th>\n",
       "      <th>answer</th>\n",
       "      <th>evaluation_factual_correctness_score</th>\n",
       "      <th>evaluation_completeness_score</th>\n",
       "      <th>evaluation_clarity_score</th>\n",
       "      <th>evaluation_comments</th>\n",
       "    </tr>\n",
       "  </thead>\n",
       "  <tbody>\n",
       "    <tr>\n",
       "      <th>0</th>\n",
       "      <td>How could challenges in hiring, retaining, and...</td>\n",
       "      <td>27; 1; 39</td>\n",
       "      <td>Challenges in hiring, retaining, and managing ...</td>\n",
       "      <td>5</td>\n",
       "      <td>5</td>\n",
       "      <td>5</td>\n",
       "      <td>The answer thoroughly addresses how challenges...</td>\n",
       "    </tr>\n",
       "    <tr>\n",
       "      <th>1</th>\n",
       "      <td>What was the total lease liability for Apple I...</td>\n",
       "      <td>154; 386; 157</td>\n",
       "      <td>As of September 28, 2024, Apple Inc. had fixed...</td>\n",
       "      <td>2</td>\n",
       "      <td>2</td>\n",
       "      <td>5</td>\n",
       "      <td>The answer correctly states the total lease li...</td>\n",
       "    </tr>\n",
       "    <tr>\n",
       "      <th>2</th>\n",
       "      <td>What are the key competitive challenges Cisco ...</td>\n",
       "      <td>321; 293; 248</td>\n",
       "      <td>In 2024, Cisco faced several key competitive c...</td>\n",
       "      <td>4</td>\n",
       "      <td>4</td>\n",
       "      <td>5</td>\n",
       "      <td>The answer is largely accurate, but lacks spec...</td>\n",
       "    </tr>\n",
       "    <tr>\n",
       "      <th>3</th>\n",
       "      <td>Based on the Alphabet Inc. fiscal year ended D...</td>\n",
       "      <td>528; 527; 497</td>\n",
       "      <td>For Alphabet Inc. in the fiscal year ended Dec...</td>\n",
       "      <td>2</td>\n",
       "      <td>3</td>\n",
       "      <td>4</td>\n",
       "      <td>The answer provides specific per-share figures...</td>\n",
       "    </tr>\n",
       "    <tr>\n",
       "      <th>4</th>\n",
       "      <td>What were the key financial results reported b...</td>\n",
       "      <td>544; 552; 549</td>\n",
       "      <td>Here are the key financial results reported by...</td>\n",
       "      <td>4</td>\n",
       "      <td>4</td>\n",
       "      <td>5</td>\n",
       "      <td>Most facts are correct and sourced, but there ...</td>\n",
       "    </tr>\n",
       "    <tr>\n",
       "      <th>5</th>\n",
       "      <td>What operational and strategic challenges did ...</td>\n",
       "      <td>610; 609; 617</td>\n",
       "      <td>Based on the available information, Netflix fa...</td>\n",
       "      <td>5</td>\n",
       "      <td>4</td>\n",
       "      <td>5</td>\n",
       "      <td>The answer correctly identifies all major oper...</td>\n",
       "    </tr>\n",
       "    <tr>\n",
       "      <th>6</th>\n",
       "      <td>Question:  \\r\\nWhere, as required by law, does...</td>\n",
       "      <td>768; 660; 723</td>\n",
       "      <td>NVIDIA Corporation files lobbying disclosure r...</td>\n",
       "      <td>5</td>\n",
       "      <td>5</td>\n",
       "      <td>5</td>\n",
       "      <td>The answer correctly states that NVIDIA files ...</td>\n",
       "    </tr>\n",
       "    <tr>\n",
       "      <th>7</th>\n",
       "      <td>What highlights or key financial metrics are i...</td>\n",
       "      <td>1022; 886; 1018</td>\n",
       "      <td>Oracle Corporation's fiscal year 2024 Form 10-...</td>\n",
       "      <td>5</td>\n",
       "      <td>5</td>\n",
       "      <td>5</td>\n",
       "      <td>The answer accurately presents key financial h...</td>\n",
       "    </tr>\n",
       "    <tr>\n",
       "      <th>8</th>\n",
       "      <td>How does Reddit, Inc. plan to manage the poten...</td>\n",
       "      <td>1121; 1133; 1120</td>\n",
       "      <td>Reddit, Inc. acknowledges the risk of user dec...</td>\n",
       "      <td>2</td>\n",
       "      <td>1</td>\n",
       "      <td>3</td>\n",
       "      <td>The model answer presents a comprehensive and ...</td>\n",
       "    </tr>\n",
       "    <tr>\n",
       "      <th>9</th>\n",
       "      <td>Which Tesla, Inc. executives signed the compan...</td>\n",
       "      <td>1337; 1425; 1250</td>\n",
       "      <td>The following Tesla, Inc. executives and direc...</td>\n",
       "      <td>5</td>\n",
       "      <td>5</td>\n",
       "      <td>5</td>\n",
       "      <td>The model answer accurately lists all Tesla, I...</td>\n",
       "    </tr>\n",
       "  </tbody>\n",
       "</table>\n",
       "</div>"
      ],
      "text/plain": [
       "                                            question       top_k_chunk  \\\n",
       "0  How could challenges in hiring, retaining, and...         27; 1; 39   \n",
       "1  What was the total lease liability for Apple I...     154; 386; 157   \n",
       "2  What are the key competitive challenges Cisco ...     321; 293; 248   \n",
       "3  Based on the Alphabet Inc. fiscal year ended D...     528; 527; 497   \n",
       "4  What were the key financial results reported b...     544; 552; 549   \n",
       "5  What operational and strategic challenges did ...     610; 609; 617   \n",
       "6  Question:  \\r\\nWhere, as required by law, does...     768; 660; 723   \n",
       "7  What highlights or key financial metrics are i...   1022; 886; 1018   \n",
       "8  How does Reddit, Inc. plan to manage the poten...  1121; 1133; 1120   \n",
       "9  Which Tesla, Inc. executives signed the compan...  1337; 1425; 1250   \n",
       "\n",
       "                                              answer  \\\n",
       "0  Challenges in hiring, retaining, and managing ...   \n",
       "1  As of September 28, 2024, Apple Inc. had fixed...   \n",
       "2  In 2024, Cisco faced several key competitive c...   \n",
       "3  For Alphabet Inc. in the fiscal year ended Dec...   \n",
       "4  Here are the key financial results reported by...   \n",
       "5  Based on the available information, Netflix fa...   \n",
       "6  NVIDIA Corporation files lobbying disclosure r...   \n",
       "7  Oracle Corporation's fiscal year 2024 Form 10-...   \n",
       "8  Reddit, Inc. acknowledges the risk of user dec...   \n",
       "9  The following Tesla, Inc. executives and direc...   \n",
       "\n",
       "   evaluation_factual_correctness_score  evaluation_completeness_score  \\\n",
       "0                                     5                              5   \n",
       "1                                     2                              2   \n",
       "2                                     4                              4   \n",
       "3                                     2                              3   \n",
       "4                                     4                              4   \n",
       "5                                     5                              4   \n",
       "6                                     5                              5   \n",
       "7                                     5                              5   \n",
       "8                                     2                              1   \n",
       "9                                     5                              5   \n",
       "\n",
       "   evaluation_clarity_score                                evaluation_comments  \n",
       "0                         5  The answer thoroughly addresses how challenges...  \n",
       "1                         5  The answer correctly states the total lease li...  \n",
       "2                         5  The answer is largely accurate, but lacks spec...  \n",
       "3                         4  The answer provides specific per-share figures...  \n",
       "4                         5  Most facts are correct and sourced, but there ...  \n",
       "5                         5  The answer correctly identifies all major oper...  \n",
       "6                         5  The answer correctly states that NVIDIA files ...  \n",
       "7                         5  The answer accurately presents key financial h...  \n",
       "8                         3  The model answer presents a comprehensive and ...  \n",
       "9                         5  The model answer accurately lists all Tesla, I...  "
      ]
     },
     "execution_count": 12,
     "metadata": {},
     "output_type": "execute_result"
    }
   ],
   "source": [
    "final_df2.head(10)"
   ]
  },
  {
   "cell_type": "code",
   "execution_count": 13,
   "metadata": {},
   "outputs": [
    {
     "data": {
      "application/vnd.plotly.v1+json": {
       "config": {
        "plotlyServerURL": "https://plot.ly"
       },
       "data": [
        {
         "alignmentgroup": "True",
         "boxpoints": "all",
         "customdata": [
          [
           "How could challenges in hiring, retaining, and managing qualified personnel, as well as risks related to supplier relationships and commercial agreements, negatively impact Amazon’s business operations and results in 2024?"
          ],
          [
           "What was the total lease liability for Apple Inc. as of September 28, 2024, and how did it compare to the total lease liability as of September 30, 2023?"
          ],
          [
           "What are the key competitive challenges Cisco faced in 2024 due to market dynamics, changes in technology, and new entrants, and how did these factors impact its revenue growth and competitive positioning?"
          ],
          [
           "Based on the Alphabet Inc. fiscal year ended December 31, 2024, what were the basic and diluted net income per share amounts for Class A, Class B, and Class C shares, and how did these compare to the previous year ended December 31, 2023?"
          ],
          [
           "What were the key financial results reported by Meta Platforms, Inc. for the fourth quarter and full year ended December 31, 2024, including revenue, advertising revenue, cash flows, and year-over-year growth percentages?"
          ],
          [
           "What operational and strategic challenges did Netflix, Inc. identify in its 2024 fiscal year report as it expanded its streaming service, introduced new features like games and advertising, and scaled its content production and international offerings?"
          ],
          [
           "Question:  \r\nWhere, as required by law, does NVIDIA Corporation file lobbying disclosure reports in 2024, and where can information about its public policy and lobbying activities be found?"
          ],
          [
           "What highlights or key financial metrics are included in Oracle Corporation's fiscal year 2024 Form 10-K report?"
          ],
          [
           "How does Reddit, Inc. plan to manage the potential decline in users due to a reduction in third-party applications during the fiscal year ended December 31, 2024?"
          ],
          [
           "Which Tesla, Inc. executives signed the company's annual report for the fiscal year ended December 31, 2024, and what were their titles at the time?[1]"
          ],
          [
           "Based on the provided chunk and context (Amazon, year 2024), here is a suitable question:\n\n**How many physical stores did Amazon operate in North America and internationally as of December 31, 2024?**"
          ],
          [
           "What did Apple Inc.'s management conclude about the effectiveness of the company's disclosure controls and internal control over financial reporting as of the fiscal year ended September 28, 2024, according to their 2024 Form 10-K?"
          ],
          [
           "What types of risks are associated with Cisco Systems' investments in privately held companies during fiscal year 2024?"
          ],
          [
           "What risks does Alphabet Inc. face in its international operations, particularly in terms of foreign exchange and regulatory challenges, as highlighted in its 2024 Annual Report?"
          ],
          [
           "What were the key financial results reported by Meta Platforms, Inc. for the fourth quarter and full year ended December 31, 2024, including revenue growth, net income, and operating metrics?"
          ],
          [
           "What are the key regulatory and operational challenges Netflix, Inc. identified for its international expansion in the fiscal year ended December 31, 2024, and how might these impact its business strategy and financial results?"
          ],
          [
           "How was the total target compensation determined for NVIDIA Corporation’s named executive officers in Fiscal 2024, and what role did at-risk, performance-based equity awards play in the compensation program according to the Compensation Committee?"
          ],
          [
           "What are the key revenue sources and recent accounting estimate changes reported by Oracle Corporation for the fiscal year ended May 31, 2024, as detailed in their financial statements?"
          ],
          [
           "What specific procedures did the auditors perform to address the critical audit matter related to advertising revenue for Reddit, Inc. in the fiscal year ended December 31, 2024?"
          ],
          [
           "Based on Tesla, Inc.'s Annual Report on Form 10-K for the fiscal year ended December 31, 2024, how did Tesla's inventory composition and valuation change compared to December 31, 2023, and what were the recorded inventory write-downs for the years ended December 31, 2024, 2023, and 2022?"
          ],
          [
           "Based on the provided chunk and context (Amazon, year 2024), here is a suitable question:\n\n**How many physical stores did Amazon operate in North America and internationally as of December 31, 2024?**"
          ],
          [
           "What did Apple Inc.'s management conclude about the effectiveness of the company's disclosure controls and internal control over financial reporting as of the fiscal year ended September 28, 2024, according to their 2024 Form 10-K?"
          ],
          [
           "What types of risks are associated with Cisco Systems' investments in privately held companies during fiscal year 2024?"
          ],
          [
           "What risks does Alphabet Inc. face in its international operations, particularly in terms of foreign exchange and regulatory challenges, as highlighted in its 2024 Annual Report?"
          ],
          [
           "What were the key financial results reported by Meta Platforms, Inc. for the fourth quarter and full year ended December 31, 2024, including revenue growth, net income, and operating metrics?"
          ],
          [
           "What are the key regulatory and operational challenges Netflix, Inc. identified for its international expansion in the fiscal year ended December 31, 2024, and how might these impact its business strategy and financial results?"
          ],
          [
           "How was the total target compensation determined for NVIDIA Corporation’s named executive officers in Fiscal 2024, and what role did at-risk, performance-based equity awards play in the compensation program according to the Compensation Committee?"
          ],
          [
           "What are the key revenue sources and recent accounting estimate changes reported by Oracle Corporation for the fiscal year ended May 31, 2024, as detailed in their financial statements?"
          ],
          [
           "What specific procedures did the auditors perform to address the critical audit matter related to advertising revenue for Reddit, Inc. in the fiscal year ended December 31, 2024?"
          ],
          [
           "Based on Tesla, Inc.'s Annual Report on Form 10-K for the fiscal year ended December 31, 2024, how did Tesla's inventory composition and valuation change compared to December 31, 2023, and what were the recorded inventory write-downs for the years ended December 31, 2024, 2023, and 2022?"
          ],
          [
           "How could challenges in hiring, retaining, and managing qualified personnel, as well as risks related to supplier relationships and commercial agreements, negatively impact Amazon’s business operations and results in 2024?"
          ],
          [
           "What was the total lease liability for Apple Inc. as of September 28, 2024, and how did it compare to the total lease liability as of September 30, 2023?"
          ],
          [
           "What are the key competitive challenges Cisco faced in 2024 due to market dynamics, changes in technology, and new entrants, and how did these factors impact its revenue growth and competitive positioning?"
          ],
          [
           "Based on the Alphabet Inc. fiscal year ended December 31, 2024, what were the basic and diluted net income per share amounts for Class A, Class B, and Class C shares, and how did these compare to the previous year ended December 31, 2023?"
          ],
          [
           "What were the key financial results reported by Meta Platforms, Inc. for the fourth quarter and full year ended December 31, 2024, including revenue, advertising revenue, cash flows, and year-over-year growth percentages?"
          ],
          [
           "What operational and strategic challenges did Netflix, Inc. identify in its 2024 fiscal year report as it expanded its streaming service, introduced new features like games and advertising, and scaled its content production and international offerings?"
          ],
          [
           "Question:  \r\nWhere, as required by law, does NVIDIA Corporation file lobbying disclosure reports in 2024, and where can information about its public policy and lobbying activities be found?"
          ],
          [
           "What highlights or key financial metrics are included in Oracle Corporation's fiscal year 2024 Form 10-K report?"
          ],
          [
           "How does Reddit, Inc. plan to manage the potential decline in users due to a reduction in third-party applications during the fiscal year ended December 31, 2024?"
          ],
          [
           "Which Tesla, Inc. executives signed the company's annual report for the fiscal year ended December 31, 2024, and what were their titles at the time?[1]"
          ],
          [
           "Based on the provided chunk and context (Amazon, year 2024), here is a suitable question:\n\n**How many physical stores did Amazon operate in North America and internationally as of December 31, 2024?**"
          ],
          [
           "What did Apple Inc.'s management conclude about the effectiveness of the company's disclosure controls and internal control over financial reporting as of the fiscal year ended September 28, 2024, according to their 2024 Form 10-K?"
          ],
          [
           "What types of risks are associated with Cisco Systems' investments in privately held companies during fiscal year 2024?"
          ],
          [
           "What risks does Alphabet Inc. face in its international operations, particularly in terms of foreign exchange and regulatory challenges, as highlighted in its 2024 Annual Report?"
          ],
          [
           "What were the key financial results reported by Meta Platforms, Inc. for the fourth quarter and full year ended December 31, 2024, including revenue growth, net income, and operating metrics?"
          ],
          [
           "What are the key regulatory and operational challenges Netflix, Inc. identified for its international expansion in the fiscal year ended December 31, 2024, and how might these impact its business strategy and financial results?"
          ],
          [
           "How was the total target compensation determined for NVIDIA Corporation’s named executive officers in Fiscal 2024, and what role did at-risk, performance-based equity awards play in the compensation program according to the Compensation Committee?"
          ],
          [
           "What are the key revenue sources and recent accounting estimate changes reported by Oracle Corporation for the fiscal year ended May 31, 2024, as detailed in their financial statements?"
          ],
          [
           "What specific procedures did the auditors perform to address the critical audit matter related to advertising revenue for Reddit, Inc. in the fiscal year ended December 31, 2024?"
          ],
          [
           "Based on Tesla, Inc.'s Annual Report on Form 10-K for the fiscal year ended December 31, 2024, how did Tesla's inventory composition and valuation change compared to December 31, 2023, and what were the recorded inventory write-downs for the years ended December 31, 2024, 2023, and 2022?"
          ],
          [
           "Based on the provided chunk and context (Amazon, year 2024), here is a suitable question:\n\n**How many physical stores did Amazon operate in North America and internationally as of December 31, 2024?**"
          ],
          [
           "What did Apple Inc.'s management conclude about the effectiveness of the company's disclosure controls and internal control over financial reporting as of the fiscal year ended September 28, 2024, according to their 2024 Form 10-K?"
          ],
          [
           "What types of risks are associated with Cisco Systems' investments in privately held companies during fiscal year 2024?"
          ],
          [
           "What risks does Alphabet Inc. face in its international operations, particularly in terms of foreign exchange and regulatory challenges, as highlighted in its 2024 Annual Report?"
          ],
          [
           "What were the key financial results reported by Meta Platforms, Inc. for the fourth quarter and full year ended December 31, 2024, including revenue growth, net income, and operating metrics?"
          ],
          [
           "What are the key regulatory and operational challenges Netflix, Inc. identified for its international expansion in the fiscal year ended December 31, 2024, and how might these impact its business strategy and financial results?"
          ],
          [
           "How was the total target compensation determined for NVIDIA Corporation’s named executive officers in Fiscal 2024, and what role did at-risk, performance-based equity awards play in the compensation program according to the Compensation Committee?"
          ],
          [
           "What are the key revenue sources and recent accounting estimate changes reported by Oracle Corporation for the fiscal year ended May 31, 2024, as detailed in their financial statements?"
          ],
          [
           "What specific procedures did the auditors perform to address the critical audit matter related to advertising revenue for Reddit, Inc. in the fiscal year ended December 31, 2024?"
          ],
          [
           "Based on Tesla, Inc.'s Annual Report on Form 10-K for the fiscal year ended December 31, 2024, how did Tesla's inventory composition and valuation change compared to December 31, 2023, and what were the recorded inventory write-downs for the years ended December 31, 2024, 2023, and 2022?"
          ],
          [
           "How could challenges in hiring, retaining, and managing qualified personnel, as well as risks related to supplier relationships and commercial agreements, negatively impact Amazon’s business operations and results in 2024?"
          ],
          [
           "What was the total lease liability for Apple Inc. as of September 28, 2024, and how did it compare to the total lease liability as of September 30, 2023?"
          ],
          [
           "What are the key competitive challenges Cisco faced in 2024 due to market dynamics, changes in technology, and new entrants, and how did these factors impact its revenue growth and competitive positioning?"
          ],
          [
           "Based on the Alphabet Inc. fiscal year ended December 31, 2024, what were the basic and diluted net income per share amounts for Class A, Class B, and Class C shares, and how did these compare to the previous year ended December 31, 2023?"
          ],
          [
           "What were the key financial results reported by Meta Platforms, Inc. for the fourth quarter and full year ended December 31, 2024, including revenue, advertising revenue, cash flows, and year-over-year growth percentages?"
          ],
          [
           "What operational and strategic challenges did Netflix, Inc. identify in its 2024 fiscal year report as it expanded its streaming service, introduced new features like games and advertising, and scaled its content production and international offerings?"
          ],
          [
           "Question:  \r\nWhere, as required by law, does NVIDIA Corporation file lobbying disclosure reports in 2024, and where can information about its public policy and lobbying activities be found?"
          ],
          [
           "What highlights or key financial metrics are included in Oracle Corporation's fiscal year 2024 Form 10-K report?"
          ],
          [
           "How does Reddit, Inc. plan to manage the potential decline in users due to a reduction in third-party applications during the fiscal year ended December 31, 2024?"
          ],
          [
           "Which Tesla, Inc. executives signed the company's annual report for the fiscal year ended December 31, 2024, and what were their titles at the time?[1]"
          ],
          [
           "Based on the provided chunk and context (Amazon, year 2024), here is a suitable question:\n\n**How many physical stores did Amazon operate in North America and internationally as of December 31, 2024?**"
          ],
          [
           "What did Apple Inc.'s management conclude about the effectiveness of the company's disclosure controls and internal control over financial reporting as of the fiscal year ended September 28, 2024, according to their 2024 Form 10-K?"
          ],
          [
           "What types of risks are associated with Cisco Systems' investments in privately held companies during fiscal year 2024?"
          ],
          [
           "What risks does Alphabet Inc. face in its international operations, particularly in terms of foreign exchange and regulatory challenges, as highlighted in its 2024 Annual Report?"
          ],
          [
           "What were the key financial results reported by Meta Platforms, Inc. for the fourth quarter and full year ended December 31, 2024, including revenue growth, net income, and operating metrics?"
          ],
          [
           "What are the key regulatory and operational challenges Netflix, Inc. identified for its international expansion in the fiscal year ended December 31, 2024, and how might these impact its business strategy and financial results?"
          ],
          [
           "How was the total target compensation determined for NVIDIA Corporation’s named executive officers in Fiscal 2024, and what role did at-risk, performance-based equity awards play in the compensation program according to the Compensation Committee?"
          ],
          [
           "What are the key revenue sources and recent accounting estimate changes reported by Oracle Corporation for the fiscal year ended May 31, 2024, as detailed in their financial statements?"
          ],
          [
           "What specific procedures did the auditors perform to address the critical audit matter related to advertising revenue for Reddit, Inc. in the fiscal year ended December 31, 2024?"
          ],
          [
           "Based on Tesla, Inc.'s Annual Report on Form 10-K for the fiscal year ended December 31, 2024, how did Tesla's inventory composition and valuation change compared to December 31, 2023, and what were the recorded inventory write-downs for the years ended December 31, 2024, 2023, and 2022?"
          ],
          [
           "Based on the provided chunk and context (Amazon, year 2024), here is a suitable question:\n\n**How many physical stores did Amazon operate in North America and internationally as of December 31, 2024?**"
          ],
          [
           "What did Apple Inc.'s management conclude about the effectiveness of the company's disclosure controls and internal control over financial reporting as of the fiscal year ended September 28, 2024, according to their 2024 Form 10-K?"
          ],
          [
           "What types of risks are associated with Cisco Systems' investments in privately held companies during fiscal year 2024?"
          ],
          [
           "What risks does Alphabet Inc. face in its international operations, particularly in terms of foreign exchange and regulatory challenges, as highlighted in its 2024 Annual Report?"
          ],
          [
           "What were the key financial results reported by Meta Platforms, Inc. for the fourth quarter and full year ended December 31, 2024, including revenue growth, net income, and operating metrics?"
          ],
          [
           "What are the key regulatory and operational challenges Netflix, Inc. identified for its international expansion in the fiscal year ended December 31, 2024, and how might these impact its business strategy and financial results?"
          ],
          [
           "How was the total target compensation determined for NVIDIA Corporation’s named executive officers in Fiscal 2024, and what role did at-risk, performance-based equity awards play in the compensation program according to the Compensation Committee?"
          ],
          [
           "What are the key revenue sources and recent accounting estimate changes reported by Oracle Corporation for the fiscal year ended May 31, 2024, as detailed in their financial statements?"
          ],
          [
           "What specific procedures did the auditors perform to address the critical audit matter related to advertising revenue for Reddit, Inc. in the fiscal year ended December 31, 2024?"
          ],
          [
           "Based on Tesla, Inc.'s Annual Report on Form 10-K for the fiscal year ended December 31, 2024, how did Tesla's inventory composition and valuation change compared to December 31, 2023, and what were the recorded inventory write-downs for the years ended December 31, 2024, 2023, and 2022?"
          ],
          [
           "How could challenges in hiring, retaining, and managing qualified personnel, as well as risks related to supplier relationships and commercial agreements, negatively impact Amazon’s business operations and results in 2024?"
          ],
          [
           "What was the total lease liability for Apple Inc. as of September 28, 2024, and how did it compare to the total lease liability as of September 30, 2023?"
          ],
          [
           "What are the key competitive challenges Cisco faced in 2024 due to market dynamics, changes in technology, and new entrants, and how did these factors impact its revenue growth and competitive positioning?"
          ],
          [
           "Based on the Alphabet Inc. fiscal year ended December 31, 2024, what were the basic and diluted net income per share amounts for Class A, Class B, and Class C shares, and how did these compare to the previous year ended December 31, 2023?"
          ],
          [
           "What were the key financial results reported by Meta Platforms, Inc. for the fourth quarter and full year ended December 31, 2024, including revenue, advertising revenue, cash flows, and year-over-year growth percentages?"
          ],
          [
           "What operational and strategic challenges did Netflix, Inc. identify in its 2024 fiscal year report as it expanded its streaming service, introduced new features like games and advertising, and scaled its content production and international offerings?"
          ],
          [
           "Question:  \r\nWhere, as required by law, does NVIDIA Corporation file lobbying disclosure reports in 2024, and where can information about its public policy and lobbying activities be found?"
          ],
          [
           "What highlights or key financial metrics are included in Oracle Corporation's fiscal year 2024 Form 10-K report?"
          ],
          [
           "How does Reddit, Inc. plan to manage the potential decline in users due to a reduction in third-party applications during the fiscal year ended December 31, 2024?"
          ],
          [
           "Which Tesla, Inc. executives signed the company's annual report for the fiscal year ended December 31, 2024, and what were their titles at the time?[1]"
          ],
          [
           "Based on the provided chunk and context (Amazon, year 2024), here is a suitable question:\n\n**How many physical stores did Amazon operate in North America and internationally as of December 31, 2024?**"
          ],
          [
           "What did Apple Inc.'s management conclude about the effectiveness of the company's disclosure controls and internal control over financial reporting as of the fiscal year ended September 28, 2024, according to their 2024 Form 10-K?"
          ],
          [
           "What types of risks are associated with Cisco Systems' investments in privately held companies during fiscal year 2024?"
          ],
          [
           "What risks does Alphabet Inc. face in its international operations, particularly in terms of foreign exchange and regulatory challenges, as highlighted in its 2024 Annual Report?"
          ],
          [
           "What were the key financial results reported by Meta Platforms, Inc. for the fourth quarter and full year ended December 31, 2024, including revenue growth, net income, and operating metrics?"
          ],
          [
           "What are the key regulatory and operational challenges Netflix, Inc. identified for its international expansion in the fiscal year ended December 31, 2024, and how might these impact its business strategy and financial results?"
          ],
          [
           "How was the total target compensation determined for NVIDIA Corporation’s named executive officers in Fiscal 2024, and what role did at-risk, performance-based equity awards play in the compensation program according to the Compensation Committee?"
          ],
          [
           "What are the key revenue sources and recent accounting estimate changes reported by Oracle Corporation for the fiscal year ended May 31, 2024, as detailed in their financial statements?"
          ],
          [
           "What specific procedures did the auditors perform to address the critical audit matter related to advertising revenue for Reddit, Inc. in the fiscal year ended December 31, 2024?"
          ],
          [
           "Based on Tesla, Inc.'s Annual Report on Form 10-K for the fiscal year ended December 31, 2024, how did Tesla's inventory composition and valuation change compared to December 31, 2023, and what were the recorded inventory write-downs for the years ended December 31, 2024, 2023, and 2022?"
          ],
          [
           "Based on the provided chunk and context (Amazon, year 2024), here is a suitable question:\n\n**How many physical stores did Amazon operate in North America and internationally as of December 31, 2024?**"
          ],
          [
           "What did Apple Inc.'s management conclude about the effectiveness of the company's disclosure controls and internal control over financial reporting as of the fiscal year ended September 28, 2024, according to their 2024 Form 10-K?"
          ],
          [
           "What types of risks are associated with Cisco Systems' investments in privately held companies during fiscal year 2024?"
          ],
          [
           "What risks does Alphabet Inc. face in its international operations, particularly in terms of foreign exchange and regulatory challenges, as highlighted in its 2024 Annual Report?"
          ],
          [
           "What were the key financial results reported by Meta Platforms, Inc. for the fourth quarter and full year ended December 31, 2024, including revenue growth, net income, and operating metrics?"
          ],
          [
           "What are the key regulatory and operational challenges Netflix, Inc. identified for its international expansion in the fiscal year ended December 31, 2024, and how might these impact its business strategy and financial results?"
          ],
          [
           "How was the total target compensation determined for NVIDIA Corporation’s named executive officers in Fiscal 2024, and what role did at-risk, performance-based equity awards play in the compensation program according to the Compensation Committee?"
          ],
          [
           "What are the key revenue sources and recent accounting estimate changes reported by Oracle Corporation for the fiscal year ended May 31, 2024, as detailed in their financial statements?"
          ],
          [
           "What specific procedures did the auditors perform to address the critical audit matter related to advertising revenue for Reddit, Inc. in the fiscal year ended December 31, 2024?"
          ],
          [
           "Based on Tesla, Inc.'s Annual Report on Form 10-K for the fiscal year ended December 31, 2024, how did Tesla's inventory composition and valuation change compared to December 31, 2023, and what were the recorded inventory write-downs for the years ended December 31, 2024, 2023, and 2022?"
          ]
         ],
         "hovertemplate": "Metric=%{x}<br>Score=%{y}<br>question=%{customdata[0]}<extra></extra>",
         "legendgroup": "",
         "marker": {
          "color": "#636efa"
         },
         "name": "",
         "notched": false,
         "offsetgroup": "",
         "orientation": "v",
         "showlegend": false,
         "type": "box",
         "x": [
          "Factual Correctness",
          "Factual Correctness",
          "Factual Correctness",
          "Factual Correctness",
          "Factual Correctness",
          "Factual Correctness",
          "Factual Correctness",
          "Factual Correctness",
          "Factual Correctness",
          "Factual Correctness",
          "Factual Correctness",
          "Factual Correctness",
          "Factual Correctness",
          "Factual Correctness",
          "Factual Correctness",
          "Factual Correctness",
          "Factual Correctness",
          "Factual Correctness",
          "Factual Correctness",
          "Factual Correctness",
          "Factual Correctness",
          "Factual Correctness",
          "Factual Correctness",
          "Factual Correctness",
          "Factual Correctness",
          "Factual Correctness",
          "Factual Correctness",
          "Factual Correctness",
          "Factual Correctness",
          "Factual Correctness",
          "Completeness",
          "Completeness",
          "Completeness",
          "Completeness",
          "Completeness",
          "Completeness",
          "Completeness",
          "Completeness",
          "Completeness",
          "Completeness",
          "Completeness",
          "Completeness",
          "Completeness",
          "Completeness",
          "Completeness",
          "Completeness",
          "Completeness",
          "Completeness",
          "Completeness",
          "Completeness",
          "Completeness",
          "Completeness",
          "Completeness",
          "Completeness",
          "Completeness",
          "Completeness",
          "Completeness",
          "Completeness",
          "Completeness",
          "Completeness",
          "Clarity",
          "Clarity",
          "Clarity",
          "Clarity",
          "Clarity",
          "Clarity",
          "Clarity",
          "Clarity",
          "Clarity",
          "Clarity",
          "Clarity",
          "Clarity",
          "Clarity",
          "Clarity",
          "Clarity",
          "Clarity",
          "Clarity",
          "Clarity",
          "Clarity",
          "Clarity",
          "Clarity",
          "Clarity",
          "Clarity",
          "Clarity",
          "Clarity",
          "Clarity",
          "Clarity",
          "Clarity",
          "Clarity",
          "Clarity",
          "Overall",
          "Overall",
          "Overall",
          "Overall",
          "Overall",
          "Overall",
          "Overall",
          "Overall",
          "Overall",
          "Overall",
          "Overall",
          "Overall",
          "Overall",
          "Overall",
          "Overall",
          "Overall",
          "Overall",
          "Overall",
          "Overall",
          "Overall",
          "Overall",
          "Overall",
          "Overall",
          "Overall",
          "Overall",
          "Overall",
          "Overall",
          "Overall",
          "Overall",
          "Overall"
         ],
         "x0": " ",
         "xaxis": "x",
         "y": {
          "bdata": "AAAAAAAAFEAAAAAAAAAAQAAAAAAAABBAAAAAAAAAAEAAAAAAAAAQQAAAAAAAABRAAAAAAAAAFEAAAAAAAAAUQAAAAAAAAABAAAAAAAAAFEAAAAAAAAAIQAAAAAAAABBAAAAAAAAAEEAAAAAAAAAUQAAAAAAAABRAAAAAAAAAFEAAAAAAAAAUQAAAAAAAABRAAAAAAAAAEEAAAAAAAAAUQAAAAAAAABRAAAAAAAAAFEAAAAAAAAAAQAAAAAAAABRAAAAAAAAAFEAAAAAAAAAUQAAAAAAAABRAAAAAAAAAEEAAAAAAAAAUQAAAAAAAABRAAAAAAAAAFEAAAAAAAAAAQAAAAAAAABBAAAAAAAAACEAAAAAAAAAQQAAAAAAAABBAAAAAAAAAFEAAAAAAAAAUQAAAAAAAAPA/AAAAAAAAFEAAAAAAAAAIQAAAAAAAAAhAAAAAAAAAEEAAAAAAAAAUQAAAAAAAABRAAAAAAAAAFEAAAAAAAAAUQAAAAAAAABBAAAAAAAAAEEAAAAAAAAAUQAAAAAAAABRAAAAAAAAAFEAAAAAAAADwPwAAAAAAABBAAAAAAAAAFEAAAAAAAAAQQAAAAAAAABRAAAAAAAAAEEAAAAAAAAAUQAAAAAAAABRAAAAAAAAAFEAAAAAAAAAUQAAAAAAAABRAAAAAAAAAEEAAAAAAAAAUQAAAAAAAABRAAAAAAAAAFEAAAAAAAAAUQAAAAAAAAAhAAAAAAAAAFEAAAAAAAAAQQAAAAAAAABBAAAAAAAAAFEAAAAAAAAAUQAAAAAAAABRAAAAAAAAAFEAAAAAAAAAUQAAAAAAAABRAAAAAAAAAFEAAAAAAAAAUQAAAAAAAABRAAAAAAAAAFEAAAAAAAAAUQAAAAAAAABRAAAAAAAAAFEAAAAAAAAAUQAAAAAAAABRAAAAAAAAAFEAAAAAAAAAUQAAAAAAAABRAAAAAAAAAFEAAAAAAAAAIQFVVVVVVVRFAAAAAAAAACEBVVVVVVVURQKuqqqqqqhJAAAAAAAAAFEAAAAAAAAAUQAAAAAAAAABAAAAAAAAAFECrqqqqqqoKQFVVVVVVVQ1AVVVVVVVVEUAAAAAAAAAUQAAAAAAAABRAAAAAAAAAFEAAAAAAAAAUQKuqqqqqqhJAVVVVVVVVEUAAAAAAAAAUQAAAAAAAABRAAAAAAAAAFEBVVVVVVVUFQKuqqqqqqhJAAAAAAAAAFECrqqqqqqoSQAAAAAAAABRAVVVVVVVVEUAAAAAAAAAUQAAAAAAAABRA",
          "dtype": "f8"
         },
         "y0": " ",
         "yaxis": "y"
        }
       ],
       "layout": {
        "boxmode": "group",
        "height": 500,
        "legend": {
         "tracegroupgap": 0
        },
        "template": {
         "data": {
          "bar": [
           {
            "error_x": {
             "color": "#2a3f5f"
            },
            "error_y": {
             "color": "#2a3f5f"
            },
            "marker": {
             "line": {
              "color": "#E5ECF6",
              "width": 0.5
             },
             "pattern": {
              "fillmode": "overlay",
              "size": 10,
              "solidity": 0.2
             }
            },
            "type": "bar"
           }
          ],
          "barpolar": [
           {
            "marker": {
             "line": {
              "color": "#E5ECF6",
              "width": 0.5
             },
             "pattern": {
              "fillmode": "overlay",
              "size": 10,
              "solidity": 0.2
             }
            },
            "type": "barpolar"
           }
          ],
          "carpet": [
           {
            "aaxis": {
             "endlinecolor": "#2a3f5f",
             "gridcolor": "white",
             "linecolor": "white",
             "minorgridcolor": "white",
             "startlinecolor": "#2a3f5f"
            },
            "baxis": {
             "endlinecolor": "#2a3f5f",
             "gridcolor": "white",
             "linecolor": "white",
             "minorgridcolor": "white",
             "startlinecolor": "#2a3f5f"
            },
            "type": "carpet"
           }
          ],
          "choropleth": [
           {
            "colorbar": {
             "outlinewidth": 0,
             "ticks": ""
            },
            "type": "choropleth"
           }
          ],
          "contour": [
           {
            "colorbar": {
             "outlinewidth": 0,
             "ticks": ""
            },
            "colorscale": [
             [
              0,
              "#0d0887"
             ],
             [
              0.1111111111111111,
              "#46039f"
             ],
             [
              0.2222222222222222,
              "#7201a8"
             ],
             [
              0.3333333333333333,
              "#9c179e"
             ],
             [
              0.4444444444444444,
              "#bd3786"
             ],
             [
              0.5555555555555556,
              "#d8576b"
             ],
             [
              0.6666666666666666,
              "#ed7953"
             ],
             [
              0.7777777777777778,
              "#fb9f3a"
             ],
             [
              0.8888888888888888,
              "#fdca26"
             ],
             [
              1,
              "#f0f921"
             ]
            ],
            "type": "contour"
           }
          ],
          "contourcarpet": [
           {
            "colorbar": {
             "outlinewidth": 0,
             "ticks": ""
            },
            "type": "contourcarpet"
           }
          ],
          "heatmap": [
           {
            "colorbar": {
             "outlinewidth": 0,
             "ticks": ""
            },
            "colorscale": [
             [
              0,
              "#0d0887"
             ],
             [
              0.1111111111111111,
              "#46039f"
             ],
             [
              0.2222222222222222,
              "#7201a8"
             ],
             [
              0.3333333333333333,
              "#9c179e"
             ],
             [
              0.4444444444444444,
              "#bd3786"
             ],
             [
              0.5555555555555556,
              "#d8576b"
             ],
             [
              0.6666666666666666,
              "#ed7953"
             ],
             [
              0.7777777777777778,
              "#fb9f3a"
             ],
             [
              0.8888888888888888,
              "#fdca26"
             ],
             [
              1,
              "#f0f921"
             ]
            ],
            "type": "heatmap"
           }
          ],
          "histogram": [
           {
            "marker": {
             "pattern": {
              "fillmode": "overlay",
              "size": 10,
              "solidity": 0.2
             }
            },
            "type": "histogram"
           }
          ],
          "histogram2d": [
           {
            "colorbar": {
             "outlinewidth": 0,
             "ticks": ""
            },
            "colorscale": [
             [
              0,
              "#0d0887"
             ],
             [
              0.1111111111111111,
              "#46039f"
             ],
             [
              0.2222222222222222,
              "#7201a8"
             ],
             [
              0.3333333333333333,
              "#9c179e"
             ],
             [
              0.4444444444444444,
              "#bd3786"
             ],
             [
              0.5555555555555556,
              "#d8576b"
             ],
             [
              0.6666666666666666,
              "#ed7953"
             ],
             [
              0.7777777777777778,
              "#fb9f3a"
             ],
             [
              0.8888888888888888,
              "#fdca26"
             ],
             [
              1,
              "#f0f921"
             ]
            ],
            "type": "histogram2d"
           }
          ],
          "histogram2dcontour": [
           {
            "colorbar": {
             "outlinewidth": 0,
             "ticks": ""
            },
            "colorscale": [
             [
              0,
              "#0d0887"
             ],
             [
              0.1111111111111111,
              "#46039f"
             ],
             [
              0.2222222222222222,
              "#7201a8"
             ],
             [
              0.3333333333333333,
              "#9c179e"
             ],
             [
              0.4444444444444444,
              "#bd3786"
             ],
             [
              0.5555555555555556,
              "#d8576b"
             ],
             [
              0.6666666666666666,
              "#ed7953"
             ],
             [
              0.7777777777777778,
              "#fb9f3a"
             ],
             [
              0.8888888888888888,
              "#fdca26"
             ],
             [
              1,
              "#f0f921"
             ]
            ],
            "type": "histogram2dcontour"
           }
          ],
          "mesh3d": [
           {
            "colorbar": {
             "outlinewidth": 0,
             "ticks": ""
            },
            "type": "mesh3d"
           }
          ],
          "parcoords": [
           {
            "line": {
             "colorbar": {
              "outlinewidth": 0,
              "ticks": ""
             }
            },
            "type": "parcoords"
           }
          ],
          "pie": [
           {
            "automargin": true,
            "type": "pie"
           }
          ],
          "scatter": [
           {
            "fillpattern": {
             "fillmode": "overlay",
             "size": 10,
             "solidity": 0.2
            },
            "type": "scatter"
           }
          ],
          "scatter3d": [
           {
            "line": {
             "colorbar": {
              "outlinewidth": 0,
              "ticks": ""
             }
            },
            "marker": {
             "colorbar": {
              "outlinewidth": 0,
              "ticks": ""
             }
            },
            "type": "scatter3d"
           }
          ],
          "scattercarpet": [
           {
            "marker": {
             "colorbar": {
              "outlinewidth": 0,
              "ticks": ""
             }
            },
            "type": "scattercarpet"
           }
          ],
          "scattergeo": [
           {
            "marker": {
             "colorbar": {
              "outlinewidth": 0,
              "ticks": ""
             }
            },
            "type": "scattergeo"
           }
          ],
          "scattergl": [
           {
            "marker": {
             "colorbar": {
              "outlinewidth": 0,
              "ticks": ""
             }
            },
            "type": "scattergl"
           }
          ],
          "scattermap": [
           {
            "marker": {
             "colorbar": {
              "outlinewidth": 0,
              "ticks": ""
             }
            },
            "type": "scattermap"
           }
          ],
          "scattermapbox": [
           {
            "marker": {
             "colorbar": {
              "outlinewidth": 0,
              "ticks": ""
             }
            },
            "type": "scattermapbox"
           }
          ],
          "scatterpolar": [
           {
            "marker": {
             "colorbar": {
              "outlinewidth": 0,
              "ticks": ""
             }
            },
            "type": "scatterpolar"
           }
          ],
          "scatterpolargl": [
           {
            "marker": {
             "colorbar": {
              "outlinewidth": 0,
              "ticks": ""
             }
            },
            "type": "scatterpolargl"
           }
          ],
          "scatterternary": [
           {
            "marker": {
             "colorbar": {
              "outlinewidth": 0,
              "ticks": ""
             }
            },
            "type": "scatterternary"
           }
          ],
          "surface": [
           {
            "colorbar": {
             "outlinewidth": 0,
             "ticks": ""
            },
            "colorscale": [
             [
              0,
              "#0d0887"
             ],
             [
              0.1111111111111111,
              "#46039f"
             ],
             [
              0.2222222222222222,
              "#7201a8"
             ],
             [
              0.3333333333333333,
              "#9c179e"
             ],
             [
              0.4444444444444444,
              "#bd3786"
             ],
             [
              0.5555555555555556,
              "#d8576b"
             ],
             [
              0.6666666666666666,
              "#ed7953"
             ],
             [
              0.7777777777777778,
              "#fb9f3a"
             ],
             [
              0.8888888888888888,
              "#fdca26"
             ],
             [
              1,
              "#f0f921"
             ]
            ],
            "type": "surface"
           }
          ],
          "table": [
           {
            "cells": {
             "fill": {
              "color": "#EBF0F8"
             },
             "line": {
              "color": "white"
             }
            },
            "header": {
             "fill": {
              "color": "#C8D4E3"
             },
             "line": {
              "color": "white"
             }
            },
            "type": "table"
           }
          ]
         },
         "layout": {
          "annotationdefaults": {
           "arrowcolor": "#2a3f5f",
           "arrowhead": 0,
           "arrowwidth": 1
          },
          "autotypenumbers": "strict",
          "coloraxis": {
           "colorbar": {
            "outlinewidth": 0,
            "ticks": ""
           }
          },
          "colorscale": {
           "diverging": [
            [
             0,
             "#8e0152"
            ],
            [
             0.1,
             "#c51b7d"
            ],
            [
             0.2,
             "#de77ae"
            ],
            [
             0.3,
             "#f1b6da"
            ],
            [
             0.4,
             "#fde0ef"
            ],
            [
             0.5,
             "#f7f7f7"
            ],
            [
             0.6,
             "#e6f5d0"
            ],
            [
             0.7,
             "#b8e186"
            ],
            [
             0.8,
             "#7fbc41"
            ],
            [
             0.9,
             "#4d9221"
            ],
            [
             1,
             "#276419"
            ]
           ],
           "sequential": [
            [
             0,
             "#0d0887"
            ],
            [
             0.1111111111111111,
             "#46039f"
            ],
            [
             0.2222222222222222,
             "#7201a8"
            ],
            [
             0.3333333333333333,
             "#9c179e"
            ],
            [
             0.4444444444444444,
             "#bd3786"
            ],
            [
             0.5555555555555556,
             "#d8576b"
            ],
            [
             0.6666666666666666,
             "#ed7953"
            ],
            [
             0.7777777777777778,
             "#fb9f3a"
            ],
            [
             0.8888888888888888,
             "#fdca26"
            ],
            [
             1,
             "#f0f921"
            ]
           ],
           "sequentialminus": [
            [
             0,
             "#0d0887"
            ],
            [
             0.1111111111111111,
             "#46039f"
            ],
            [
             0.2222222222222222,
             "#7201a8"
            ],
            [
             0.3333333333333333,
             "#9c179e"
            ],
            [
             0.4444444444444444,
             "#bd3786"
            ],
            [
             0.5555555555555556,
             "#d8576b"
            ],
            [
             0.6666666666666666,
             "#ed7953"
            ],
            [
             0.7777777777777778,
             "#fb9f3a"
            ],
            [
             0.8888888888888888,
             "#fdca26"
            ],
            [
             1,
             "#f0f921"
            ]
           ]
          },
          "colorway": [
           "#636efa",
           "#EF553B",
           "#00cc96",
           "#ab63fa",
           "#FFA15A",
           "#19d3f3",
           "#FF6692",
           "#B6E880",
           "#FF97FF",
           "#FECB52"
          ],
          "font": {
           "color": "#2a3f5f"
          },
          "geo": {
           "bgcolor": "white",
           "lakecolor": "white",
           "landcolor": "#E5ECF6",
           "showlakes": true,
           "showland": true,
           "subunitcolor": "white"
          },
          "hoverlabel": {
           "align": "left"
          },
          "hovermode": "closest",
          "mapbox": {
           "style": "light"
          },
          "paper_bgcolor": "white",
          "plot_bgcolor": "#E5ECF6",
          "polar": {
           "angularaxis": {
            "gridcolor": "white",
            "linecolor": "white",
            "ticks": ""
           },
           "bgcolor": "#E5ECF6",
           "radialaxis": {
            "gridcolor": "white",
            "linecolor": "white",
            "ticks": ""
           }
          },
          "scene": {
           "xaxis": {
            "backgroundcolor": "#E5ECF6",
            "gridcolor": "white",
            "gridwidth": 2,
            "linecolor": "white",
            "showbackground": true,
            "ticks": "",
            "zerolinecolor": "white"
           },
           "yaxis": {
            "backgroundcolor": "#E5ECF6",
            "gridcolor": "white",
            "gridwidth": 2,
            "linecolor": "white",
            "showbackground": true,
            "ticks": "",
            "zerolinecolor": "white"
           },
           "zaxis": {
            "backgroundcolor": "#E5ECF6",
            "gridcolor": "white",
            "gridwidth": 2,
            "linecolor": "white",
            "showbackground": true,
            "ticks": "",
            "zerolinecolor": "white"
           }
          },
          "shapedefaults": {
           "line": {
            "color": "#2a3f5f"
           }
          },
          "ternary": {
           "aaxis": {
            "gridcolor": "white",
            "linecolor": "white",
            "ticks": ""
           },
           "baxis": {
            "gridcolor": "white",
            "linecolor": "white",
            "ticks": ""
           },
           "bgcolor": "#E5ECF6",
           "caxis": {
            "gridcolor": "white",
            "linecolor": "white",
            "ticks": ""
           }
          },
          "title": {
           "x": 0.05
          },
          "xaxis": {
           "automargin": true,
           "gridcolor": "white",
           "linecolor": "white",
           "ticks": "",
           "title": {
            "standoff": 15
           },
           "zerolinecolor": "white",
           "zerolinewidth": 2
          },
          "yaxis": {
           "automargin": true,
           "gridcolor": "white",
           "linecolor": "white",
           "ticks": "",
           "title": {
            "standoff": 15
           },
           "zerolinecolor": "white",
           "zerolinewidth": 2
          }
         }
        },
        "title": {
         "text": "Score Distributions per Metric (with Overall Score)"
        },
        "xaxis": {
         "anchor": "y",
         "domain": [
          0,
          1
         ],
         "title": {
          "text": "Metric"
         }
        },
        "yaxis": {
         "anchor": "x",
         "domain": [
          0,
          1
         ],
         "dtick": 1,
         "range": [
          0,
          6
         ],
         "title": {
          "text": "Score (1-5)"
         }
        }
       }
      }
     },
     "metadata": {},
     "output_type": "display_data"
    }
   ],
   "source": [
    "plot(final_df2)"
   ]
  }
 ],
 "metadata": {
  "kernelspec": {
   "display_name": "Python 3",
   "language": "python",
   "name": "python3"
  },
  "language_info": {
   "codemirror_mode": {
    "name": "ipython",
    "version": 3
   },
   "file_extension": ".py",
   "mimetype": "text/x-python",
   "name": "python",
   "nbconvert_exporter": "python",
   "pygments_lexer": "ipython3",
   "version": "3.11.0rc2"
  }
 },
 "nbformat": 4,
 "nbformat_minor": 2
}
