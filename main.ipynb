{
 "cells": [
  {
   "cell_type": "code",
   "execution_count": 6,
   "metadata": {},
   "outputs": [
    {
     "name": "stdout",
     "output_type": "stream",
     "text": [
      "Folder 'session_1' already exists.\n"
     ]
    }
   ],
   "source": [
    "import pandas as pd \n",
    "import os\n",
    "from pathlib import Path\n",
    "from dotenv import load_dotenv\n",
    "\n",
    "#Local\n",
    "from config import Config\n",
    "from data_processing import data_processing\n",
    "from utils import remove_dirs, check_and_create_dirs\n",
    "from question_generator import question_generator\n",
    "\n",
    "#Setting\n",
    "pd.set_option('display.max_colwidth', None)\n",
    "\n",
    "#CONFIG\n",
    "load_dotenv()\n",
    "api_key = os.getenv(\"PERPLEXITY_API_KEY\")\n",
    "\n",
    "cfg = Config(\n",
    "    project_name=\"session_1\",\n",
    "    input_dir=\"data\",\n",
    "    api_key= api_key,\n",
    "    n_questions_per_file=1,\n",
    "    n_page_summary=3,\n",
    "    chunk_size=5000,\n",
    "    chunk_overlap=500\n",
    ")\n",
    "\n",
    "# remove_dirs(cfg) # This will delete the output directories if they exist\n",
    "check_and_create_dirs(cfg)"
   ]
  },
  {
   "cell_type": "code",
   "execution_count": 7,
   "metadata": {},
   "outputs": [
    {
     "name": "stdout",
     "output_type": "stream",
     "text": [
      "File '2024-oracle-annual-report-10K.pdf' already processed. Skipping.\n",
      "File '2024-cisco-full-annual-report.pdf' already processed. Skipping.\n",
      "File '2024-netflix-annual-report-10K.pdf' already processed. Skipping.\n",
      "File '2024-amazon-annual-report-10K.pdf' already processed. Skipping.\n",
      "File '2024-meta-full-annual-report.pdf' already processed. Skipping.\n",
      "File '2024-nvidia-annual-report-10K.pdf' already processed. Skipping.\n",
      "File '2024-google-annual-report-10K.pdf' already processed. Skipping.\n",
      "File '2024-reddit-annual-report-10K.pdf' already processed. Skipping.\n",
      "File '2024-tsla-annual-report-10K.pdf' already processed. Skipping.\n",
      "File '2024-apple-annual-report-10K.pdf' already processed. Skipping.\n"
     ]
    }
   ],
   "source": [
    "data_processing(api_key, cfg)"
   ]
  },
  {
   "cell_type": "code",
   "execution_count": 8,
   "metadata": {},
   "outputs": [
    {
     "name": "stdout",
     "output_type": "stream",
     "text": [
      "Generating 1 question for file: 2024-oracle-annual-report-10K.pdf. 1/10\n",
      "Generating 1 question for file: 2024-cisco-full-annual-report.pdf. 2/10\n",
      "Generating 1 question for file: 2024-netflix-annual-report-10K.pdf. 3/10\n",
      "Generating 1 question for file: 2024-amazon-annual-report-10K.pdf. 4/10\n",
      "Generating 1 question for file: 2024-meta-full-annual-report.pdf. 5/10\n",
      "Generating 1 question for file: 2024-nvidia-annual-report-10K.pdf. 6/10\n",
      "Generating 1 question for file: 2024-google-annual-report-10K.pdf. 7/10\n",
      "Generating 1 question for file: 2024-reddit-annual-report-10K.pdf. 8/10\n",
      "Generating 1 question for file: 2024-tsla-annual-report-10K.pdf. 9/10\n",
      "Generating 1 question for file: 2024-apple-annual-report-10K.pdf. 10/10\n"
     ]
    }
   ],
   "source": [
    "df = question_generator(cfg)"
   ]
  },
  {
   "cell_type": "code",
   "execution_count": 9,
   "metadata": {},
   "outputs": [
    {
     "data": {
      "text/plain": [
       "0    Given your instructions, the provided chunk (\"116/194\") does not contain any substantive content for question generation, only its pagination. Since the chunk lacks useful content as required by your rules, the response is:\\n\\n\"\"\n",
       "1                                                                                       What is the reported aggregate market value of Cisco Systems' common stock held by non-affiliates as of January 26, 2024, in the fiscal year 2024?\n",
       "2                                                                                                                        What were the total content obligations for Netflix, Inc. as of December 31, 2024, and how were they categorized?\n",
       "3                                                                                                                           How did investments in Amazon's fulfillment network and technological infrastructure impact its costs in 2024?\n",
       "4                                                                                                        What is the percentage increase in Meta Platforms, Inc.'s cash and cash equivalents from December 31, 2023, to December 31, 2024?\n",
       "Name: question, dtype: object"
      ]
     },
     "execution_count": 9,
     "metadata": {},
     "output_type": "execute_result"
    }
   ],
   "source": [
    "df['question'].head()"
   ]
  },
  {
   "cell_type": "markdown",
   "metadata": {},
   "source": [
    "# STOP"
   ]
  },
  {
   "cell_type": "code",
   "execution_count": 10,
   "metadata": {},
   "outputs": [
    {
     "name": "stdout",
     "output_type": "stream",
     "text": [
      "Loaded 1182 total documents.\n",
      "Split into 1426 chunks.\n"
     ]
    },
    {
     "ename": "KeyboardInterrupt",
     "evalue": "",
     "output_type": "error",
     "traceback": [
      "\u001b[0;31m---------------------------------------------------------------------------\u001b[0m",
      "\u001b[0;31mKeyboardInterrupt\u001b[0m                         Traceback (most recent call last)",
      "\u001b[1;32m/Users/huybui/Desktop/SIMPLE_RAG/main.ipynb Cell 6\u001b[0m line \u001b[0;36m3\n\u001b[1;32m      <a href='vscode-notebook-cell:/Users/huybui/Desktop/SIMPLE_RAG/main.ipynb#X36sZmlsZQ%3D%3D?line=0'>1</a>\u001b[0m \u001b[39mfrom\u001b[39;00m \u001b[39muser_models\u001b[39;00m\u001b[39m.\u001b[39;00m\u001b[39mexample_1\u001b[39;00m \u001b[39mimport\u001b[39;00m model\n\u001b[0;32m----> <a href='vscode-notebook-cell:/Users/huybui/Desktop/SIMPLE_RAG/main.ipynb#X36sZmlsZQ%3D%3D?line=2'>3</a>\u001b[0m qa_chain_1 \u001b[39m=\u001b[39m model\u001b[39m.\u001b[39;49mmodel()\n",
      "File \u001b[0;32m~/Desktop/SIMPLE_RAG/user_models/example_1/model.py:43\u001b[0m, in \u001b[0;36mmodel\u001b[0;34m()\u001b[0m\n\u001b[1;32m     36\u001b[0m hf \u001b[39m=\u001b[39m HuggingFaceEmbeddings(\n\u001b[1;32m     37\u001b[0m     model_name\u001b[39m=\u001b[39mmodel_name,\n\u001b[1;32m     38\u001b[0m     model_kwargs\u001b[39m=\u001b[39mmodel_kwargs,\n\u001b[1;32m     39\u001b[0m     encode_kwargs\u001b[39m=\u001b[39mencode_kwargs\n\u001b[1;32m     40\u001b[0m )\n\u001b[1;32m     42\u001b[0m \u001b[39m# Vector Store\u001b[39;00m\n\u001b[0;32m---> 43\u001b[0m vector_store \u001b[39m=\u001b[39m FAISS\u001b[39m.\u001b[39;49mfrom_documents(chunks, hf)\n\u001b[1;32m     44\u001b[0m \u001b[39m# vector_store.save_local(\"faiss_index_open\")\u001b[39;00m\n\u001b[1;32m     45\u001b[0m \u001b[39mprint\u001b[39m(\u001b[39m\"\u001b[39m\u001b[39mVector store saved.\u001b[39m\u001b[39m\"\u001b[39m)\n",
      "File \u001b[0;32m~/Library/Python/3.9/lib/python/site-packages/langchain_core/vectorstores/base.py:848\u001b[0m, in \u001b[0;36mVectorStore.from_documents\u001b[0;34m(cls, documents, embedding, **kwargs)\u001b[0m\n\u001b[1;32m    845\u001b[0m     \u001b[39mif\u001b[39;00m \u001b[39many\u001b[39m(ids):\n\u001b[1;32m    846\u001b[0m         kwargs[\u001b[39m\"\u001b[39m\u001b[39mids\u001b[39m\u001b[39m\"\u001b[39m] \u001b[39m=\u001b[39m ids\n\u001b[0;32m--> 848\u001b[0m \u001b[39mreturn\u001b[39;00m \u001b[39mcls\u001b[39;49m\u001b[39m.\u001b[39;49mfrom_texts(texts, embedding, metadatas\u001b[39m=\u001b[39;49mmetadatas, \u001b[39m*\u001b[39;49m\u001b[39m*\u001b[39;49mkwargs)\n",
      "File \u001b[0;32m~/Library/Python/3.9/lib/python/site-packages/langchain_community/vectorstores/faiss.py:1043\u001b[0m, in \u001b[0;36mFAISS.from_texts\u001b[0;34m(cls, texts, embedding, metadatas, ids, **kwargs)\u001b[0m\n\u001b[1;32m   1016\u001b[0m \u001b[39m@classmethod\u001b[39m\n\u001b[1;32m   1017\u001b[0m \u001b[39mdef\u001b[39;00m \u001b[39mfrom_texts\u001b[39m(\n\u001b[1;32m   1018\u001b[0m     \u001b[39mcls\u001b[39m,\n\u001b[0;32m   (...)\u001b[0m\n\u001b[1;32m   1023\u001b[0m     \u001b[39m*\u001b[39m\u001b[39m*\u001b[39mkwargs: Any,\n\u001b[1;32m   1024\u001b[0m ) \u001b[39m-\u001b[39m\u001b[39m>\u001b[39m FAISS:\n\u001b[1;32m   1025\u001b[0m \u001b[39m    \u001b[39m\u001b[39m\"\"\"Construct FAISS wrapper from raw documents.\u001b[39;00m\n\u001b[1;32m   1026\u001b[0m \n\u001b[1;32m   1027\u001b[0m \u001b[39m    This is a user friendly interface that:\u001b[39;00m\n\u001b[0;32m   (...)\u001b[0m\n\u001b[1;32m   1041\u001b[0m \u001b[39m            faiss = FAISS.from_texts(texts, embeddings)\u001b[39;00m\n\u001b[1;32m   1042\u001b[0m \u001b[39m    \"\"\"\u001b[39;00m\n\u001b[0;32m-> 1043\u001b[0m     embeddings \u001b[39m=\u001b[39m embedding\u001b[39m.\u001b[39;49membed_documents(texts)\n\u001b[1;32m   1044\u001b[0m     \u001b[39mreturn\u001b[39;00m \u001b[39mcls\u001b[39m\u001b[39m.\u001b[39m__from(\n\u001b[1;32m   1045\u001b[0m         texts,\n\u001b[1;32m   1046\u001b[0m         embeddings,\n\u001b[0;32m   (...)\u001b[0m\n\u001b[1;32m   1050\u001b[0m         \u001b[39m*\u001b[39m\u001b[39m*\u001b[39mkwargs,\n\u001b[1;32m   1051\u001b[0m     )\n",
      "File \u001b[0;32m~/Library/Python/3.9/lib/python/site-packages/langchain_community/embeddings/huggingface.py:115\u001b[0m, in \u001b[0;36mHuggingFaceEmbeddings.embed_documents\u001b[0;34m(self, texts)\u001b[0m\n\u001b[1;32m    113\u001b[0m     sentence_transformers\u001b[39m.\u001b[39mSentenceTransformer\u001b[39m.\u001b[39mstop_multi_process_pool(pool)\n\u001b[1;32m    114\u001b[0m \u001b[39melse\u001b[39;00m:\n\u001b[0;32m--> 115\u001b[0m     embeddings \u001b[39m=\u001b[39m \u001b[39mself\u001b[39;49m\u001b[39m.\u001b[39;49mclient\u001b[39m.\u001b[39;49mencode(\n\u001b[1;32m    116\u001b[0m         texts, show_progress_bar\u001b[39m=\u001b[39;49m\u001b[39mself\u001b[39;49m\u001b[39m.\u001b[39;49mshow_progress, \u001b[39m*\u001b[39;49m\u001b[39m*\u001b[39;49m\u001b[39mself\u001b[39;49m\u001b[39m.\u001b[39;49mencode_kwargs\n\u001b[1;32m    117\u001b[0m     )\n\u001b[1;32m    119\u001b[0m \u001b[39mreturn\u001b[39;00m embeddings\u001b[39m.\u001b[39mtolist()\n",
      "File \u001b[0;32m~/Library/Python/3.9/lib/python/site-packages/sentence_transformers/SentenceTransformer.py:685\u001b[0m, in \u001b[0;36mSentenceTransformer.encode\u001b[0;34m(self, sentences, prompt_name, prompt, batch_size, show_progress_bar, output_value, precision, convert_to_numpy, convert_to_tensor, device, normalize_embeddings, **kwargs)\u001b[0m\n\u001b[1;32m    682\u001b[0m features\u001b[39m.\u001b[39mupdate(extra_features)\n\u001b[1;32m    684\u001b[0m \u001b[39mwith\u001b[39;00m torch\u001b[39m.\u001b[39mno_grad():\n\u001b[0;32m--> 685\u001b[0m     out_features \u001b[39m=\u001b[39m \u001b[39mself\u001b[39;49m\u001b[39m.\u001b[39;49mforward(features, \u001b[39m*\u001b[39;49m\u001b[39m*\u001b[39;49mkwargs)\n\u001b[1;32m    686\u001b[0m     \u001b[39mif\u001b[39;00m \u001b[39mself\u001b[39m\u001b[39m.\u001b[39mdevice\u001b[39m.\u001b[39mtype \u001b[39m==\u001b[39m \u001b[39m\"\u001b[39m\u001b[39mhpu\u001b[39m\u001b[39m\"\u001b[39m:\n\u001b[1;32m    687\u001b[0m         out_features \u001b[39m=\u001b[39m copy\u001b[39m.\u001b[39mdeepcopy(out_features)\n",
      "File \u001b[0;32m~/Library/Python/3.9/lib/python/site-packages/sentence_transformers/SentenceTransformer.py:758\u001b[0m, in \u001b[0;36mSentenceTransformer.forward\u001b[0;34m(self, input, **kwargs)\u001b[0m\n\u001b[1;32m    756\u001b[0m     module_kwarg_keys \u001b[39m=\u001b[39m \u001b[39mself\u001b[39m\u001b[39m.\u001b[39mmodule_kwargs\u001b[39m.\u001b[39mget(module_name, [])\n\u001b[1;32m    757\u001b[0m     module_kwargs \u001b[39m=\u001b[39m {key: value \u001b[39mfor\u001b[39;00m key, value \u001b[39min\u001b[39;00m kwargs\u001b[39m.\u001b[39mitems() \u001b[39mif\u001b[39;00m key \u001b[39min\u001b[39;00m module_kwarg_keys}\n\u001b[0;32m--> 758\u001b[0m     \u001b[39minput\u001b[39m \u001b[39m=\u001b[39m module(\u001b[39minput\u001b[39;49m, \u001b[39m*\u001b[39;49m\u001b[39m*\u001b[39;49mmodule_kwargs)\n\u001b[1;32m    759\u001b[0m \u001b[39mreturn\u001b[39;00m \u001b[39minput\u001b[39m\n",
      "File \u001b[0;32m~/Library/Python/3.9/lib/python/site-packages/torch/nn/modules/module.py:1751\u001b[0m, in \u001b[0;36mModule._wrapped_call_impl\u001b[0;34m(self, *args, **kwargs)\u001b[0m\n\u001b[1;32m   1749\u001b[0m     \u001b[39mreturn\u001b[39;00m \u001b[39mself\u001b[39m\u001b[39m.\u001b[39m_compiled_call_impl(\u001b[39m*\u001b[39margs, \u001b[39m*\u001b[39m\u001b[39m*\u001b[39mkwargs)  \u001b[39m# type: ignore[misc]\u001b[39;00m\n\u001b[1;32m   1750\u001b[0m \u001b[39melse\u001b[39;00m:\n\u001b[0;32m-> 1751\u001b[0m     \u001b[39mreturn\u001b[39;00m \u001b[39mself\u001b[39;49m\u001b[39m.\u001b[39;49m_call_impl(\u001b[39m*\u001b[39;49margs, \u001b[39m*\u001b[39;49m\u001b[39m*\u001b[39;49mkwargs)\n",
      "File \u001b[0;32m~/Library/Python/3.9/lib/python/site-packages/torch/nn/modules/module.py:1762\u001b[0m, in \u001b[0;36mModule._call_impl\u001b[0;34m(self, *args, **kwargs)\u001b[0m\n\u001b[1;32m   1757\u001b[0m \u001b[39m# If we don't have any hooks, we want to skip the rest of the logic in\u001b[39;00m\n\u001b[1;32m   1758\u001b[0m \u001b[39m# this function, and just call forward.\u001b[39;00m\n\u001b[1;32m   1759\u001b[0m \u001b[39mif\u001b[39;00m \u001b[39mnot\u001b[39;00m (\u001b[39mself\u001b[39m\u001b[39m.\u001b[39m_backward_hooks \u001b[39mor\u001b[39;00m \u001b[39mself\u001b[39m\u001b[39m.\u001b[39m_backward_pre_hooks \u001b[39mor\u001b[39;00m \u001b[39mself\u001b[39m\u001b[39m.\u001b[39m_forward_hooks \u001b[39mor\u001b[39;00m \u001b[39mself\u001b[39m\u001b[39m.\u001b[39m_forward_pre_hooks\n\u001b[1;32m   1760\u001b[0m         \u001b[39mor\u001b[39;00m _global_backward_pre_hooks \u001b[39mor\u001b[39;00m _global_backward_hooks\n\u001b[1;32m   1761\u001b[0m         \u001b[39mor\u001b[39;00m _global_forward_hooks \u001b[39mor\u001b[39;00m _global_forward_pre_hooks):\n\u001b[0;32m-> 1762\u001b[0m     \u001b[39mreturn\u001b[39;00m forward_call(\u001b[39m*\u001b[39;49margs, \u001b[39m*\u001b[39;49m\u001b[39m*\u001b[39;49mkwargs)\n\u001b[1;32m   1764\u001b[0m result \u001b[39m=\u001b[39m \u001b[39mNone\u001b[39;00m\n\u001b[1;32m   1765\u001b[0m called_always_called_hooks \u001b[39m=\u001b[39m \u001b[39mset\u001b[39m()\n",
      "File \u001b[0;32m~/Library/Python/3.9/lib/python/site-packages/sentence_transformers/models/Transformer.py:442\u001b[0m, in \u001b[0;36mTransformer.forward\u001b[0;34m(self, features, **kwargs)\u001b[0m\n\u001b[1;32m    435\u001b[0m \u001b[39m\u001b[39m\u001b[39m\"\"\"Returns token_embeddings, cls_token\"\"\"\u001b[39;00m\n\u001b[1;32m    436\u001b[0m trans_features \u001b[39m=\u001b[39m {\n\u001b[1;32m    437\u001b[0m     key: value\n\u001b[1;32m    438\u001b[0m     \u001b[39mfor\u001b[39;00m key, value \u001b[39min\u001b[39;00m features\u001b[39m.\u001b[39mitems()\n\u001b[1;32m    439\u001b[0m     \u001b[39mif\u001b[39;00m key \u001b[39min\u001b[39;00m [\u001b[39m\"\u001b[39m\u001b[39minput_ids\u001b[39m\u001b[39m\"\u001b[39m, \u001b[39m\"\u001b[39m\u001b[39mattention_mask\u001b[39m\u001b[39m\"\u001b[39m, \u001b[39m\"\u001b[39m\u001b[39mtoken_type_ids\u001b[39m\u001b[39m\"\u001b[39m, \u001b[39m\"\u001b[39m\u001b[39minputs_embeds\u001b[39m\u001b[39m\"\u001b[39m]\n\u001b[1;32m    440\u001b[0m }\n\u001b[0;32m--> 442\u001b[0m outputs \u001b[39m=\u001b[39m \u001b[39mself\u001b[39;49m\u001b[39m.\u001b[39;49mauto_model(\u001b[39m*\u001b[39;49m\u001b[39m*\u001b[39;49mtrans_features, \u001b[39m*\u001b[39;49m\u001b[39m*\u001b[39;49mkwargs, return_dict\u001b[39m=\u001b[39;49m\u001b[39mTrue\u001b[39;49;00m)\n\u001b[1;32m    443\u001b[0m token_embeddings \u001b[39m=\u001b[39m outputs[\u001b[39m0\u001b[39m]\n\u001b[1;32m    444\u001b[0m features[\u001b[39m\"\u001b[39m\u001b[39mtoken_embeddings\u001b[39m\u001b[39m\"\u001b[39m] \u001b[39m=\u001b[39m token_embeddings\n",
      "File \u001b[0;32m~/Library/Python/3.9/lib/python/site-packages/torch/nn/modules/module.py:1751\u001b[0m, in \u001b[0;36mModule._wrapped_call_impl\u001b[0;34m(self, *args, **kwargs)\u001b[0m\n\u001b[1;32m   1749\u001b[0m     \u001b[39mreturn\u001b[39;00m \u001b[39mself\u001b[39m\u001b[39m.\u001b[39m_compiled_call_impl(\u001b[39m*\u001b[39margs, \u001b[39m*\u001b[39m\u001b[39m*\u001b[39mkwargs)  \u001b[39m# type: ignore[misc]\u001b[39;00m\n\u001b[1;32m   1750\u001b[0m \u001b[39melse\u001b[39;00m:\n\u001b[0;32m-> 1751\u001b[0m     \u001b[39mreturn\u001b[39;00m \u001b[39mself\u001b[39;49m\u001b[39m.\u001b[39;49m_call_impl(\u001b[39m*\u001b[39;49margs, \u001b[39m*\u001b[39;49m\u001b[39m*\u001b[39;49mkwargs)\n",
      "File \u001b[0;32m~/Library/Python/3.9/lib/python/site-packages/torch/nn/modules/module.py:1762\u001b[0m, in \u001b[0;36mModule._call_impl\u001b[0;34m(self, *args, **kwargs)\u001b[0m\n\u001b[1;32m   1757\u001b[0m \u001b[39m# If we don't have any hooks, we want to skip the rest of the logic in\u001b[39;00m\n\u001b[1;32m   1758\u001b[0m \u001b[39m# this function, and just call forward.\u001b[39;00m\n\u001b[1;32m   1759\u001b[0m \u001b[39mif\u001b[39;00m \u001b[39mnot\u001b[39;00m (\u001b[39mself\u001b[39m\u001b[39m.\u001b[39m_backward_hooks \u001b[39mor\u001b[39;00m \u001b[39mself\u001b[39m\u001b[39m.\u001b[39m_backward_pre_hooks \u001b[39mor\u001b[39;00m \u001b[39mself\u001b[39m\u001b[39m.\u001b[39m_forward_hooks \u001b[39mor\u001b[39;00m \u001b[39mself\u001b[39m\u001b[39m.\u001b[39m_forward_pre_hooks\n\u001b[1;32m   1760\u001b[0m         \u001b[39mor\u001b[39;00m _global_backward_pre_hooks \u001b[39mor\u001b[39;00m _global_backward_hooks\n\u001b[1;32m   1761\u001b[0m         \u001b[39mor\u001b[39;00m _global_forward_hooks \u001b[39mor\u001b[39;00m _global_forward_pre_hooks):\n\u001b[0;32m-> 1762\u001b[0m     \u001b[39mreturn\u001b[39;00m forward_call(\u001b[39m*\u001b[39;49margs, \u001b[39m*\u001b[39;49m\u001b[39m*\u001b[39;49mkwargs)\n\u001b[1;32m   1764\u001b[0m result \u001b[39m=\u001b[39m \u001b[39mNone\u001b[39;00m\n\u001b[1;32m   1765\u001b[0m called_always_called_hooks \u001b[39m=\u001b[39m \u001b[39mset\u001b[39m()\n",
      "File \u001b[0;32m~/Library/Python/3.9/lib/python/site-packages/transformers/models/mpnet/modeling_mpnet.py:482\u001b[0m, in \u001b[0;36mMPNetModel.forward\u001b[0;34m(self, input_ids, attention_mask, position_ids, head_mask, inputs_embeds, output_attentions, output_hidden_states, return_dict, **kwargs)\u001b[0m\n\u001b[1;32m    480\u001b[0m head_mask \u001b[39m=\u001b[39m \u001b[39mself\u001b[39m\u001b[39m.\u001b[39mget_head_mask(head_mask, \u001b[39mself\u001b[39m\u001b[39m.\u001b[39mconfig\u001b[39m.\u001b[39mnum_hidden_layers)\n\u001b[1;32m    481\u001b[0m embedding_output \u001b[39m=\u001b[39m \u001b[39mself\u001b[39m\u001b[39m.\u001b[39membeddings(input_ids\u001b[39m=\u001b[39minput_ids, position_ids\u001b[39m=\u001b[39mposition_ids, inputs_embeds\u001b[39m=\u001b[39minputs_embeds)\n\u001b[0;32m--> 482\u001b[0m encoder_outputs \u001b[39m=\u001b[39m \u001b[39mself\u001b[39;49m\u001b[39m.\u001b[39;49mencoder(\n\u001b[1;32m    483\u001b[0m     embedding_output,\n\u001b[1;32m    484\u001b[0m     attention_mask\u001b[39m=\u001b[39;49mextended_attention_mask,\n\u001b[1;32m    485\u001b[0m     head_mask\u001b[39m=\u001b[39;49mhead_mask,\n\u001b[1;32m    486\u001b[0m     output_attentions\u001b[39m=\u001b[39;49moutput_attentions,\n\u001b[1;32m    487\u001b[0m     output_hidden_states\u001b[39m=\u001b[39;49moutput_hidden_states,\n\u001b[1;32m    488\u001b[0m     return_dict\u001b[39m=\u001b[39;49mreturn_dict,\n\u001b[1;32m    489\u001b[0m )\n\u001b[1;32m    490\u001b[0m sequence_output \u001b[39m=\u001b[39m encoder_outputs[\u001b[39m0\u001b[39m]\n\u001b[1;32m    491\u001b[0m pooled_output \u001b[39m=\u001b[39m \u001b[39mself\u001b[39m\u001b[39m.\u001b[39mpooler(sequence_output) \u001b[39mif\u001b[39;00m \u001b[39mself\u001b[39m\u001b[39m.\u001b[39mpooler \u001b[39mis\u001b[39;00m \u001b[39mnot\u001b[39;00m \u001b[39mNone\u001b[39;00m \u001b[39melse\u001b[39;00m \u001b[39mNone\u001b[39;00m\n",
      "File \u001b[0;32m~/Library/Python/3.9/lib/python/site-packages/torch/nn/modules/module.py:1751\u001b[0m, in \u001b[0;36mModule._wrapped_call_impl\u001b[0;34m(self, *args, **kwargs)\u001b[0m\n\u001b[1;32m   1749\u001b[0m     \u001b[39mreturn\u001b[39;00m \u001b[39mself\u001b[39m\u001b[39m.\u001b[39m_compiled_call_impl(\u001b[39m*\u001b[39margs, \u001b[39m*\u001b[39m\u001b[39m*\u001b[39mkwargs)  \u001b[39m# type: ignore[misc]\u001b[39;00m\n\u001b[1;32m   1750\u001b[0m \u001b[39melse\u001b[39;00m:\n\u001b[0;32m-> 1751\u001b[0m     \u001b[39mreturn\u001b[39;00m \u001b[39mself\u001b[39;49m\u001b[39m.\u001b[39;49m_call_impl(\u001b[39m*\u001b[39;49margs, \u001b[39m*\u001b[39;49m\u001b[39m*\u001b[39;49mkwargs)\n",
      "File \u001b[0;32m~/Library/Python/3.9/lib/python/site-packages/torch/nn/modules/module.py:1762\u001b[0m, in \u001b[0;36mModule._call_impl\u001b[0;34m(self, *args, **kwargs)\u001b[0m\n\u001b[1;32m   1757\u001b[0m \u001b[39m# If we don't have any hooks, we want to skip the rest of the logic in\u001b[39;00m\n\u001b[1;32m   1758\u001b[0m \u001b[39m# this function, and just call forward.\u001b[39;00m\n\u001b[1;32m   1759\u001b[0m \u001b[39mif\u001b[39;00m \u001b[39mnot\u001b[39;00m (\u001b[39mself\u001b[39m\u001b[39m.\u001b[39m_backward_hooks \u001b[39mor\u001b[39;00m \u001b[39mself\u001b[39m\u001b[39m.\u001b[39m_backward_pre_hooks \u001b[39mor\u001b[39;00m \u001b[39mself\u001b[39m\u001b[39m.\u001b[39m_forward_hooks \u001b[39mor\u001b[39;00m \u001b[39mself\u001b[39m\u001b[39m.\u001b[39m_forward_pre_hooks\n\u001b[1;32m   1760\u001b[0m         \u001b[39mor\u001b[39;00m _global_backward_pre_hooks \u001b[39mor\u001b[39;00m _global_backward_hooks\n\u001b[1;32m   1761\u001b[0m         \u001b[39mor\u001b[39;00m _global_forward_hooks \u001b[39mor\u001b[39;00m _global_forward_pre_hooks):\n\u001b[0;32m-> 1762\u001b[0m     \u001b[39mreturn\u001b[39;00m forward_call(\u001b[39m*\u001b[39;49margs, \u001b[39m*\u001b[39;49m\u001b[39m*\u001b[39;49mkwargs)\n\u001b[1;32m   1764\u001b[0m result \u001b[39m=\u001b[39m \u001b[39mNone\u001b[39;00m\n\u001b[1;32m   1765\u001b[0m called_always_called_hooks \u001b[39m=\u001b[39m \u001b[39mset\u001b[39m()\n",
      "File \u001b[0;32m~/Library/Python/3.9/lib/python/site-packages/transformers/models/mpnet/modeling_mpnet.py:334\u001b[0m, in \u001b[0;36mMPNetEncoder.forward\u001b[0;34m(self, hidden_states, attention_mask, head_mask, output_attentions, output_hidden_states, return_dict, **kwargs)\u001b[0m\n\u001b[1;32m    331\u001b[0m \u001b[39mif\u001b[39;00m output_hidden_states:\n\u001b[1;32m    332\u001b[0m     all_hidden_states \u001b[39m=\u001b[39m all_hidden_states \u001b[39m+\u001b[39m (hidden_states,)\n\u001b[0;32m--> 334\u001b[0m layer_outputs \u001b[39m=\u001b[39m layer_module(\n\u001b[1;32m    335\u001b[0m     hidden_states,\n\u001b[1;32m    336\u001b[0m     attention_mask,\n\u001b[1;32m    337\u001b[0m     head_mask[i],\n\u001b[1;32m    338\u001b[0m     position_bias,\n\u001b[1;32m    339\u001b[0m     output_attentions\u001b[39m=\u001b[39;49moutput_attentions,\n\u001b[1;32m    340\u001b[0m     \u001b[39m*\u001b[39;49m\u001b[39m*\u001b[39;49mkwargs,\n\u001b[1;32m    341\u001b[0m )\n\u001b[1;32m    342\u001b[0m hidden_states \u001b[39m=\u001b[39m layer_outputs[\u001b[39m0\u001b[39m]\n\u001b[1;32m    344\u001b[0m \u001b[39mif\u001b[39;00m output_attentions:\n",
      "File \u001b[0;32m~/Library/Python/3.9/lib/python/site-packages/torch/nn/modules/module.py:1751\u001b[0m, in \u001b[0;36mModule._wrapped_call_impl\u001b[0;34m(self, *args, **kwargs)\u001b[0m\n\u001b[1;32m   1749\u001b[0m     \u001b[39mreturn\u001b[39;00m \u001b[39mself\u001b[39m\u001b[39m.\u001b[39m_compiled_call_impl(\u001b[39m*\u001b[39margs, \u001b[39m*\u001b[39m\u001b[39m*\u001b[39mkwargs)  \u001b[39m# type: ignore[misc]\u001b[39;00m\n\u001b[1;32m   1750\u001b[0m \u001b[39melse\u001b[39;00m:\n\u001b[0;32m-> 1751\u001b[0m     \u001b[39mreturn\u001b[39;00m \u001b[39mself\u001b[39;49m\u001b[39m.\u001b[39;49m_call_impl(\u001b[39m*\u001b[39;49margs, \u001b[39m*\u001b[39;49m\u001b[39m*\u001b[39;49mkwargs)\n",
      "File \u001b[0;32m~/Library/Python/3.9/lib/python/site-packages/torch/nn/modules/module.py:1762\u001b[0m, in \u001b[0;36mModule._call_impl\u001b[0;34m(self, *args, **kwargs)\u001b[0m\n\u001b[1;32m   1757\u001b[0m \u001b[39m# If we don't have any hooks, we want to skip the rest of the logic in\u001b[39;00m\n\u001b[1;32m   1758\u001b[0m \u001b[39m# this function, and just call forward.\u001b[39;00m\n\u001b[1;32m   1759\u001b[0m \u001b[39mif\u001b[39;00m \u001b[39mnot\u001b[39;00m (\u001b[39mself\u001b[39m\u001b[39m.\u001b[39m_backward_hooks \u001b[39mor\u001b[39;00m \u001b[39mself\u001b[39m\u001b[39m.\u001b[39m_backward_pre_hooks \u001b[39mor\u001b[39;00m \u001b[39mself\u001b[39m\u001b[39m.\u001b[39m_forward_hooks \u001b[39mor\u001b[39;00m \u001b[39mself\u001b[39m\u001b[39m.\u001b[39m_forward_pre_hooks\n\u001b[1;32m   1760\u001b[0m         \u001b[39mor\u001b[39;00m _global_backward_pre_hooks \u001b[39mor\u001b[39;00m _global_backward_hooks\n\u001b[1;32m   1761\u001b[0m         \u001b[39mor\u001b[39;00m _global_forward_hooks \u001b[39mor\u001b[39;00m _global_forward_pre_hooks):\n\u001b[0;32m-> 1762\u001b[0m     \u001b[39mreturn\u001b[39;00m forward_call(\u001b[39m*\u001b[39;49margs, \u001b[39m*\u001b[39;49m\u001b[39m*\u001b[39;49mkwargs)\n\u001b[1;32m   1764\u001b[0m result \u001b[39m=\u001b[39m \u001b[39mNone\u001b[39;00m\n\u001b[1;32m   1765\u001b[0m called_always_called_hooks \u001b[39m=\u001b[39m \u001b[39mset\u001b[39m()\n",
      "File \u001b[0;32m~/Library/Python/3.9/lib/python/site-packages/transformers/models/mpnet/modeling_mpnet.py:293\u001b[0m, in \u001b[0;36mMPNetLayer.forward\u001b[0;34m(self, hidden_states, attention_mask, head_mask, position_bias, output_attentions, **kwargs)\u001b[0m\n\u001b[1;32m    284\u001b[0m \u001b[39mdef\u001b[39;00m \u001b[39mforward\u001b[39m(\n\u001b[1;32m    285\u001b[0m     \u001b[39mself\u001b[39m,\n\u001b[1;32m    286\u001b[0m     hidden_states,\n\u001b[0;32m   (...)\u001b[0m\n\u001b[1;32m    291\u001b[0m     \u001b[39m*\u001b[39m\u001b[39m*\u001b[39mkwargs,\n\u001b[1;32m    292\u001b[0m ):\n\u001b[0;32m--> 293\u001b[0m     self_attention_outputs \u001b[39m=\u001b[39m \u001b[39mself\u001b[39;49m\u001b[39m.\u001b[39;49mattention(\n\u001b[1;32m    294\u001b[0m         hidden_states,\n\u001b[1;32m    295\u001b[0m         attention_mask,\n\u001b[1;32m    296\u001b[0m         head_mask,\n\u001b[1;32m    297\u001b[0m         position_bias\u001b[39m=\u001b[39;49mposition_bias,\n\u001b[1;32m    298\u001b[0m         output_attentions\u001b[39m=\u001b[39;49moutput_attentions,\n\u001b[1;32m    299\u001b[0m     )\n\u001b[1;32m    300\u001b[0m     attention_output \u001b[39m=\u001b[39m self_attention_outputs[\u001b[39m0\u001b[39m]\n\u001b[1;32m    301\u001b[0m     outputs \u001b[39m=\u001b[39m self_attention_outputs[\u001b[39m1\u001b[39m:]  \u001b[39m# add self attentions if we output attention weights\u001b[39;00m\n",
      "File \u001b[0;32m~/Library/Python/3.9/lib/python/site-packages/torch/nn/modules/module.py:1751\u001b[0m, in \u001b[0;36mModule._wrapped_call_impl\u001b[0;34m(self, *args, **kwargs)\u001b[0m\n\u001b[1;32m   1749\u001b[0m     \u001b[39mreturn\u001b[39;00m \u001b[39mself\u001b[39m\u001b[39m.\u001b[39m_compiled_call_impl(\u001b[39m*\u001b[39margs, \u001b[39m*\u001b[39m\u001b[39m*\u001b[39mkwargs)  \u001b[39m# type: ignore[misc]\u001b[39;00m\n\u001b[1;32m   1750\u001b[0m \u001b[39melse\u001b[39;00m:\n\u001b[0;32m-> 1751\u001b[0m     \u001b[39mreturn\u001b[39;00m \u001b[39mself\u001b[39;49m\u001b[39m.\u001b[39;49m_call_impl(\u001b[39m*\u001b[39;49margs, \u001b[39m*\u001b[39;49m\u001b[39m*\u001b[39;49mkwargs)\n",
      "File \u001b[0;32m~/Library/Python/3.9/lib/python/site-packages/torch/nn/modules/module.py:1762\u001b[0m, in \u001b[0;36mModule._call_impl\u001b[0;34m(self, *args, **kwargs)\u001b[0m\n\u001b[1;32m   1757\u001b[0m \u001b[39m# If we don't have any hooks, we want to skip the rest of the logic in\u001b[39;00m\n\u001b[1;32m   1758\u001b[0m \u001b[39m# this function, and just call forward.\u001b[39;00m\n\u001b[1;32m   1759\u001b[0m \u001b[39mif\u001b[39;00m \u001b[39mnot\u001b[39;00m (\u001b[39mself\u001b[39m\u001b[39m.\u001b[39m_backward_hooks \u001b[39mor\u001b[39;00m \u001b[39mself\u001b[39m\u001b[39m.\u001b[39m_backward_pre_hooks \u001b[39mor\u001b[39;00m \u001b[39mself\u001b[39m\u001b[39m.\u001b[39m_forward_hooks \u001b[39mor\u001b[39;00m \u001b[39mself\u001b[39m\u001b[39m.\u001b[39m_forward_pre_hooks\n\u001b[1;32m   1760\u001b[0m         \u001b[39mor\u001b[39;00m _global_backward_pre_hooks \u001b[39mor\u001b[39;00m _global_backward_hooks\n\u001b[1;32m   1761\u001b[0m         \u001b[39mor\u001b[39;00m _global_forward_hooks \u001b[39mor\u001b[39;00m _global_forward_pre_hooks):\n\u001b[0;32m-> 1762\u001b[0m     \u001b[39mreturn\u001b[39;00m forward_call(\u001b[39m*\u001b[39;49margs, \u001b[39m*\u001b[39;49m\u001b[39m*\u001b[39;49mkwargs)\n\u001b[1;32m   1764\u001b[0m result \u001b[39m=\u001b[39m \u001b[39mNone\u001b[39;00m\n\u001b[1;32m   1765\u001b[0m called_always_called_hooks \u001b[39m=\u001b[39m \u001b[39mset\u001b[39m()\n",
      "File \u001b[0;32m~/Library/Python/3.9/lib/python/site-packages/transformers/models/mpnet/modeling_mpnet.py:234\u001b[0m, in \u001b[0;36mMPNetAttention.forward\u001b[0;34m(self, hidden_states, attention_mask, head_mask, position_bias, output_attentions, **kwargs)\u001b[0m\n\u001b[1;32m    225\u001b[0m \u001b[39mdef\u001b[39;00m \u001b[39mforward\u001b[39m(\n\u001b[1;32m    226\u001b[0m     \u001b[39mself\u001b[39m,\n\u001b[1;32m    227\u001b[0m     hidden_states,\n\u001b[0;32m   (...)\u001b[0m\n\u001b[1;32m    232\u001b[0m     \u001b[39m*\u001b[39m\u001b[39m*\u001b[39mkwargs,\n\u001b[1;32m    233\u001b[0m ):\n\u001b[0;32m--> 234\u001b[0m     self_outputs \u001b[39m=\u001b[39m \u001b[39mself\u001b[39;49m\u001b[39m.\u001b[39;49mattn(\n\u001b[1;32m    235\u001b[0m         hidden_states,\n\u001b[1;32m    236\u001b[0m         attention_mask,\n\u001b[1;32m    237\u001b[0m         head_mask,\n\u001b[1;32m    238\u001b[0m         position_bias,\n\u001b[1;32m    239\u001b[0m         output_attentions\u001b[39m=\u001b[39;49moutput_attentions,\n\u001b[1;32m    240\u001b[0m     )\n\u001b[1;32m    241\u001b[0m     attention_output \u001b[39m=\u001b[39m \u001b[39mself\u001b[39m\u001b[39m.\u001b[39mLayerNorm(\u001b[39mself\u001b[39m\u001b[39m.\u001b[39mdropout(self_outputs[\u001b[39m0\u001b[39m]) \u001b[39m+\u001b[39m hidden_states)\n\u001b[1;32m    242\u001b[0m     outputs \u001b[39m=\u001b[39m (attention_output,) \u001b[39m+\u001b[39m self_outputs[\u001b[39m1\u001b[39m:]  \u001b[39m# add attentions if we output them\u001b[39;00m\n",
      "File \u001b[0;32m~/Library/Python/3.9/lib/python/site-packages/torch/nn/modules/module.py:1751\u001b[0m, in \u001b[0;36mModule._wrapped_call_impl\u001b[0;34m(self, *args, **kwargs)\u001b[0m\n\u001b[1;32m   1749\u001b[0m     \u001b[39mreturn\u001b[39;00m \u001b[39mself\u001b[39m\u001b[39m.\u001b[39m_compiled_call_impl(\u001b[39m*\u001b[39margs, \u001b[39m*\u001b[39m\u001b[39m*\u001b[39mkwargs)  \u001b[39m# type: ignore[misc]\u001b[39;00m\n\u001b[1;32m   1750\u001b[0m \u001b[39melse\u001b[39;00m:\n\u001b[0;32m-> 1751\u001b[0m     \u001b[39mreturn\u001b[39;00m \u001b[39mself\u001b[39;49m\u001b[39m.\u001b[39;49m_call_impl(\u001b[39m*\u001b[39;49margs, \u001b[39m*\u001b[39;49m\u001b[39m*\u001b[39;49mkwargs)\n",
      "File \u001b[0;32m~/Library/Python/3.9/lib/python/site-packages/torch/nn/modules/module.py:1762\u001b[0m, in \u001b[0;36mModule._call_impl\u001b[0;34m(self, *args, **kwargs)\u001b[0m\n\u001b[1;32m   1757\u001b[0m \u001b[39m# If we don't have any hooks, we want to skip the rest of the logic in\u001b[39;00m\n\u001b[1;32m   1758\u001b[0m \u001b[39m# this function, and just call forward.\u001b[39;00m\n\u001b[1;32m   1759\u001b[0m \u001b[39mif\u001b[39;00m \u001b[39mnot\u001b[39;00m (\u001b[39mself\u001b[39m\u001b[39m.\u001b[39m_backward_hooks \u001b[39mor\u001b[39;00m \u001b[39mself\u001b[39m\u001b[39m.\u001b[39m_backward_pre_hooks \u001b[39mor\u001b[39;00m \u001b[39mself\u001b[39m\u001b[39m.\u001b[39m_forward_hooks \u001b[39mor\u001b[39;00m \u001b[39mself\u001b[39m\u001b[39m.\u001b[39m_forward_pre_hooks\n\u001b[1;32m   1760\u001b[0m         \u001b[39mor\u001b[39;00m _global_backward_pre_hooks \u001b[39mor\u001b[39;00m _global_backward_hooks\n\u001b[1;32m   1761\u001b[0m         \u001b[39mor\u001b[39;00m _global_forward_hooks \u001b[39mor\u001b[39;00m _global_forward_pre_hooks):\n\u001b[0;32m-> 1762\u001b[0m     \u001b[39mreturn\u001b[39;00m forward_call(\u001b[39m*\u001b[39;49margs, \u001b[39m*\u001b[39;49m\u001b[39m*\u001b[39;49mkwargs)\n\u001b[1;32m   1764\u001b[0m result \u001b[39m=\u001b[39m \u001b[39mNone\u001b[39;00m\n\u001b[1;32m   1765\u001b[0m called_always_called_hooks \u001b[39m=\u001b[39m \u001b[39mset\u001b[39m()\n",
      "File \u001b[0;32m~/Library/Python/3.9/lib/python/site-packages/transformers/models/mpnet/modeling_mpnet.py:163\u001b[0m, in \u001b[0;36mMPNetSelfAttention.forward\u001b[0;34m(self, hidden_states, attention_mask, head_mask, position_bias, output_attentions, **kwargs)\u001b[0m\n\u001b[1;32m    161\u001b[0m q \u001b[39m=\u001b[39m \u001b[39mself\u001b[39m\u001b[39m.\u001b[39mq(hidden_states)\n\u001b[1;32m    162\u001b[0m k \u001b[39m=\u001b[39m \u001b[39mself\u001b[39m\u001b[39m.\u001b[39mk(hidden_states)\n\u001b[0;32m--> 163\u001b[0m v \u001b[39m=\u001b[39m \u001b[39mself\u001b[39;49m\u001b[39m.\u001b[39;49mv(hidden_states)\n\u001b[1;32m    165\u001b[0m q \u001b[39m=\u001b[39m \u001b[39mself\u001b[39m\u001b[39m.\u001b[39mtranspose_for_scores(q)\n\u001b[1;32m    166\u001b[0m k \u001b[39m=\u001b[39m \u001b[39mself\u001b[39m\u001b[39m.\u001b[39mtranspose_for_scores(k)\n",
      "File \u001b[0;32m~/Library/Python/3.9/lib/python/site-packages/torch/nn/modules/module.py:1751\u001b[0m, in \u001b[0;36mModule._wrapped_call_impl\u001b[0;34m(self, *args, **kwargs)\u001b[0m\n\u001b[1;32m   1749\u001b[0m     \u001b[39mreturn\u001b[39;00m \u001b[39mself\u001b[39m\u001b[39m.\u001b[39m_compiled_call_impl(\u001b[39m*\u001b[39margs, \u001b[39m*\u001b[39m\u001b[39m*\u001b[39mkwargs)  \u001b[39m# type: ignore[misc]\u001b[39;00m\n\u001b[1;32m   1750\u001b[0m \u001b[39melse\u001b[39;00m:\n\u001b[0;32m-> 1751\u001b[0m     \u001b[39mreturn\u001b[39;00m \u001b[39mself\u001b[39;49m\u001b[39m.\u001b[39;49m_call_impl(\u001b[39m*\u001b[39;49margs, \u001b[39m*\u001b[39;49m\u001b[39m*\u001b[39;49mkwargs)\n",
      "File \u001b[0;32m~/Library/Python/3.9/lib/python/site-packages/torch/nn/modules/module.py:1762\u001b[0m, in \u001b[0;36mModule._call_impl\u001b[0;34m(self, *args, **kwargs)\u001b[0m\n\u001b[1;32m   1757\u001b[0m \u001b[39m# If we don't have any hooks, we want to skip the rest of the logic in\u001b[39;00m\n\u001b[1;32m   1758\u001b[0m \u001b[39m# this function, and just call forward.\u001b[39;00m\n\u001b[1;32m   1759\u001b[0m \u001b[39mif\u001b[39;00m \u001b[39mnot\u001b[39;00m (\u001b[39mself\u001b[39m\u001b[39m.\u001b[39m_backward_hooks \u001b[39mor\u001b[39;00m \u001b[39mself\u001b[39m\u001b[39m.\u001b[39m_backward_pre_hooks \u001b[39mor\u001b[39;00m \u001b[39mself\u001b[39m\u001b[39m.\u001b[39m_forward_hooks \u001b[39mor\u001b[39;00m \u001b[39mself\u001b[39m\u001b[39m.\u001b[39m_forward_pre_hooks\n\u001b[1;32m   1760\u001b[0m         \u001b[39mor\u001b[39;00m _global_backward_pre_hooks \u001b[39mor\u001b[39;00m _global_backward_hooks\n\u001b[1;32m   1761\u001b[0m         \u001b[39mor\u001b[39;00m _global_forward_hooks \u001b[39mor\u001b[39;00m _global_forward_pre_hooks):\n\u001b[0;32m-> 1762\u001b[0m     \u001b[39mreturn\u001b[39;00m forward_call(\u001b[39m*\u001b[39;49margs, \u001b[39m*\u001b[39;49m\u001b[39m*\u001b[39;49mkwargs)\n\u001b[1;32m   1764\u001b[0m result \u001b[39m=\u001b[39m \u001b[39mNone\u001b[39;00m\n\u001b[1;32m   1765\u001b[0m called_always_called_hooks \u001b[39m=\u001b[39m \u001b[39mset\u001b[39m()\n",
      "File \u001b[0;32m~/Library/Python/3.9/lib/python/site-packages/torch/nn/modules/linear.py:125\u001b[0m, in \u001b[0;36mLinear.forward\u001b[0;34m(self, input)\u001b[0m\n\u001b[1;32m    124\u001b[0m \u001b[39mdef\u001b[39;00m \u001b[39mforward\u001b[39m(\u001b[39mself\u001b[39m, \u001b[39minput\u001b[39m: Tensor) \u001b[39m-\u001b[39m\u001b[39m>\u001b[39m Tensor:\n\u001b[0;32m--> 125\u001b[0m     \u001b[39mreturn\u001b[39;00m F\u001b[39m.\u001b[39;49mlinear(\u001b[39minput\u001b[39;49m, \u001b[39mself\u001b[39;49m\u001b[39m.\u001b[39;49mweight, \u001b[39mself\u001b[39;49m\u001b[39m.\u001b[39;49mbias)\n",
      "\u001b[0;31mKeyboardInterrupt\u001b[0m: "
     ]
    }
   ],
   "source": [
    "from user_models.example_1 import model\n",
    " \n",
    "qa_chain_1 = model.model()"
   ]
  },
  {
   "cell_type": "code",
   "execution_count": 10,
   "metadata": {},
   "outputs": [
    {
     "data": {
      "text/plain": [
       "<module 'user_models.example_1.model' from '/Users/huybui/Desktop/SIMPLE_RAG/user_models/example_1/model.py'>"
      ]
     },
     "execution_count": 10,
     "metadata": {},
     "output_type": "execute_result"
    }
   ],
   "source": [
    "qa_chain_1"
   ]
  },
  {
   "cell_type": "code",
   "execution_count": 264,
   "metadata": {},
   "outputs": [],
   "source": [
    "dummy_test = {'question': [], 'answer': [], 'top_k_chunk': []} #Top 3\n",
    "\n",
    "for question in res['question']:\n",
    "    result = qa_chain.invoke(question)\n",
    "    dummy_test['question'].append(question)\n",
    "    dummy_test['answer'].append(result['result'])\n",
    "    dummy_test['top_k_chunk'].append(result['source_documents'])\n",
    "dummy_test = pd.DataFrame(dummy_test)"
   ]
  },
  {
   "cell_type": "code",
   "execution_count": 265,
   "metadata": {},
   "outputs": [
    {
     "data": {
      "text/html": [
       "<div>\n",
       "<style scoped>\n",
       "    .dataframe tbody tr th:only-of-type {\n",
       "        vertical-align: middle;\n",
       "    }\n",
       "\n",
       "    .dataframe tbody tr th {\n",
       "        vertical-align: top;\n",
       "    }\n",
       "\n",
       "    .dataframe thead th {\n",
       "        text-align: right;\n",
       "    }\n",
       "</style>\n",
       "<table border=\"1\" class=\"dataframe\">\n",
       "  <thead>\n",
       "    <tr style=\"text-align: right;\">\n",
       "      <th></th>\n",
       "      <th>question</th>\n",
       "      <th>answer</th>\n",
       "      <th>top_k_chunk</th>\n",
       "    </tr>\n",
       "  </thead>\n",
       "  <tbody>\n",
       "    <tr>\n",
       "      <th>0</th>\n",
       "      <td>What specific financial highlights or operatio...</td>\n",
       "      <td>The information provided does not directly rel...</td>\n",
       "      <td>[page_content='Oracle Financial Services Softw...</td>\n",
       "    </tr>\n",
       "    <tr>\n",
       "      <th>1</th>\n",
       "      <td>Based on the provided chunk of Huy Bui’s profe...</td>\n",
       "      <td>Based on the available information, Huy Bui ha...</td>\n",
       "      <td>[page_content='•\\nData and Analytics: provides...</td>\n",
       "    </tr>\n",
       "    <tr>\n",
       "      <th>2</th>\n",
       "      <td>How does Cisco Systems, Inc. plan to support c...</td>\n",
       "      <td>Cisco Systems, Inc. is supporting customers in...</td>\n",
       "      <td>[page_content='6\\nCisco Annual Report 2024\\nAc...</td>\n",
       "    </tr>\n",
       "    <tr>\n",
       "      <th>3</th>\n",
       "      <td>What provisions in Netflix, Inc.'s charter doc...</td>\n",
       "      <td>As of the fiscal year ended December 31, 2024,...</td>\n",
       "      <td>[page_content='EXHIBIT 4.18\\nDESCRIPTION OF TH...</td>\n",
       "    </tr>\n",
       "    <tr>\n",
       "      <th>4</th>\n",
       "      <td>What are the key factors that Amazon identifie...</td>\n",
       "      <td>Amazon identified several key factors that cou...</td>\n",
       "      <td>[page_content='Guidance\\nWe provided guidance ...</td>\n",
       "    </tr>\n",
       "    <tr>\n",
       "      <th>5</th>\n",
       "      <td>How did foreign exchange effects impact Meta P...</td>\n",
       "      <td>The search results do not provide specific inf...</td>\n",
       "      <td>[page_content='The following table presents th...</td>\n",
       "    </tr>\n",
       "    <tr>\n",
       "      <th>6</th>\n",
       "      <td>How does NVIDIA Corporation’s approach to leve...</td>\n",
       "      <td>NVIDIA Corporation leverages its intellectual ...</td>\n",
       "      <td>[page_content='Table of Contents\\nAutomotive\\n...</td>\n",
       "    </tr>\n",
       "    <tr>\n",
       "      <th>7</th>\n",
       "      <td>What criteria did the auditors use to evaluate...</td>\n",
       "      <td>The auditors evaluated Alphabet Inc.’s interna...</td>\n",
       "      <td>[page_content='REPORT OF INDEPENDENT REGISTERE...</td>\n",
       "    </tr>\n",
       "    <tr>\n",
       "      <th>8</th>\n",
       "      <td>How could changes to legal protections for con...</td>\n",
       "      <td>Changes to legal protections for content moder...</td>\n",
       "      <td>[page_content='expenditures, and may reduce th...</td>\n",
       "    </tr>\n",
       "    <tr>\n",
       "      <th>9</th>\n",
       "      <td>How did Tesla's hiring and development program...</td>\n",
       "      <td>Tesla’s hiring and development programs in 202...</td>\n",
       "      <td>[page_content='Table of Contents\\nWe believe t...</td>\n",
       "    </tr>\n",
       "    <tr>\n",
       "      <th>10</th>\n",
       "      <td>Question:\\n\\nWhat types of officer certificate...</td>\n",
       "      <td>During the fiscal year ended September 28, 202...</td>\n",
       "      <td>[page_content='12 Months Ended\\nDebt - Narrati...</td>\n",
       "    </tr>\n",
       "  </tbody>\n",
       "</table>\n",
       "</div>"
      ],
      "text/plain": [
       "                                             question  \\\n",
       "0   What specific financial highlights or operatio...   \n",
       "1   Based on the provided chunk of Huy Bui’s profe...   \n",
       "2   How does Cisco Systems, Inc. plan to support c...   \n",
       "3   What provisions in Netflix, Inc.'s charter doc...   \n",
       "4   What are the key factors that Amazon identifie...   \n",
       "5   How did foreign exchange effects impact Meta P...   \n",
       "6   How does NVIDIA Corporation’s approach to leve...   \n",
       "7   What criteria did the auditors use to evaluate...   \n",
       "8   How could changes to legal protections for con...   \n",
       "9   How did Tesla's hiring and development program...   \n",
       "10  Question:\\n\\nWhat types of officer certificate...   \n",
       "\n",
       "                                               answer  \\\n",
       "0   The information provided does not directly rel...   \n",
       "1   Based on the available information, Huy Bui ha...   \n",
       "2   Cisco Systems, Inc. is supporting customers in...   \n",
       "3   As of the fiscal year ended December 31, 2024,...   \n",
       "4   Amazon identified several key factors that cou...   \n",
       "5   The search results do not provide specific inf...   \n",
       "6   NVIDIA Corporation leverages its intellectual ...   \n",
       "7   The auditors evaluated Alphabet Inc.’s interna...   \n",
       "8   Changes to legal protections for content moder...   \n",
       "9   Tesla’s hiring and development programs in 202...   \n",
       "10  During the fiscal year ended September 28, 202...   \n",
       "\n",
       "                                          top_k_chunk  \n",
       "0   [page_content='Oracle Financial Services Softw...  \n",
       "1   [page_content='•\\nData and Analytics: provides...  \n",
       "2   [page_content='6\\nCisco Annual Report 2024\\nAc...  \n",
       "3   [page_content='EXHIBIT 4.18\\nDESCRIPTION OF TH...  \n",
       "4   [page_content='Guidance\\nWe provided guidance ...  \n",
       "5   [page_content='The following table presents th...  \n",
       "6   [page_content='Table of Contents\\nAutomotive\\n...  \n",
       "7   [page_content='REPORT OF INDEPENDENT REGISTERE...  \n",
       "8   [page_content='expenditures, and may reduce th...  \n",
       "9   [page_content='Table of Contents\\nWe believe t...  \n",
       "10  [page_content='12 Months Ended\\nDebt - Narrati...  "
      ]
     },
     "execution_count": 265,
     "metadata": {},
     "output_type": "execute_result"
    }
   ],
   "source": [
    "dummy_test"
   ]
  },
  {
   "cell_type": "code",
   "execution_count": 266,
   "metadata": {},
   "outputs": [],
   "source": [
    "# Combine ground truth and generated answer\n",
    "combined_df = pd.merge(res, dummy_test, on='question', suffixes=('_ground_truth', '_generated'))"
   ]
  },
  {
   "cell_type": "code",
   "execution_count": 267,
   "metadata": {},
   "outputs": [
    {
     "data": {
      "text/html": [
       "<div>\n",
       "<style scoped>\n",
       "    .dataframe tbody tr th:only-of-type {\n",
       "        vertical-align: middle;\n",
       "    }\n",
       "\n",
       "    .dataframe tbody tr th {\n",
       "        vertical-align: top;\n",
       "    }\n",
       "\n",
       "    .dataframe thead th {\n",
       "        text-align: right;\n",
       "    }\n",
       "</style>\n",
       "<table border=\"1\" class=\"dataframe\">\n",
       "  <thead>\n",
       "    <tr style=\"text-align: right;\">\n",
       "      <th></th>\n",
       "      <th>file_name</th>\n",
       "      <th>question</th>\n",
       "      <th>format_name</th>\n",
       "      <th>file_path</th>\n",
       "      <th>summary</th>\n",
       "      <th>chunk</th>\n",
       "      <th>chunk_id</th>\n",
       "      <th>answer</th>\n",
       "      <th>top_k_chunk</th>\n",
       "    </tr>\n",
       "  </thead>\n",
       "  <tbody>\n",
       "    <tr>\n",
       "      <th>0</th>\n",
       "      <td>2024-oracle-annual-report-10K.pdf</td>\n",
       "      <td>What specific financial highlights or operatio...</td>\n",
       "      <td>2024-oracle-annual-report-10K</td>\n",
       "      <td>data/2024-oracle-annual-report-10K.pdf</td>\n",
       "      <td>The report is about Oracle Corporation and cov...</td>\n",
       "      <td>5/25/25, 1:44 PM\\n10-K\\nhttps://www.sec.gov/Ar...</td>\n",
       "      <td>98</td>\n",
       "      <td>The information provided does not directly rel...</td>\n",
       "      <td>[page_content='Oracle Financial Services Softw...</td>\n",
       "    </tr>\n",
       "    <tr>\n",
       "      <th>1</th>\n",
       "      <td>Huy_Bui_Resume.pdf</td>\n",
       "      <td>Based on the provided chunk of Huy Bui’s profe...</td>\n",
       "      <td>Huy_Bui_Resume</td>\n",
       "      <td>data/Huy_Bui_Resume.pdf</td>\n",
       "      <td>The report does not appear to be about a speci...</td>\n",
       "      <td>Huy Bui\\nwilliamhuybui@gmail.com | linkedin.co...</td>\n",
       "      <td>0</td>\n",
       "      <td>Based on the available information, Huy Bui ha...</td>\n",
       "      <td>[page_content='•\\nData and Analytics: provides...</td>\n",
       "    </tr>\n",
       "    <tr>\n",
       "      <th>2</th>\n",
       "      <td>2024-cisco-full-annual-report.pdf</td>\n",
       "      <td>How does Cisco Systems, Inc. plan to support c...</td>\n",
       "      <td>2024-cisco-full-annual-report</td>\n",
       "      <td>data/2024-cisco-full-annual-report.pdf</td>\n",
       "      <td>The report is about Cisco Systems, Inc. and co...</td>\n",
       "      <td>Cisco can help customers connect, protect and ...</td>\n",
       "      <td>22</td>\n",
       "      <td>Cisco Systems, Inc. is supporting customers in...</td>\n",
       "      <td>[page_content='6\\nCisco Annual Report 2024\\nAc...</td>\n",
       "    </tr>\n",
       "    <tr>\n",
       "      <th>3</th>\n",
       "      <td>2024-netflix-annual-report-10K.pdf</td>\n",
       "      <td>What provisions in Netflix, Inc.'s charter doc...</td>\n",
       "      <td>2024-netflix-annual-report-10K</td>\n",
       "      <td>data/2024-netflix-annual-report-10K.pdf</td>\n",
       "      <td>The report is about Netflix, Inc. and covers t...</td>\n",
       "      <td>Table of Contents\\nRisks Related to Our Stock ...</td>\n",
       "      <td>28</td>\n",
       "      <td>As of the fiscal year ended December 31, 2024,...</td>\n",
       "      <td>[page_content='EXHIBIT 4.18\\nDESCRIPTION OF TH...</td>\n",
       "    </tr>\n",
       "    <tr>\n",
       "      <th>4</th>\n",
       "      <td>2024-amazon-annual-report-10K.pdf</td>\n",
       "      <td>What are the key factors that Amazon identifie...</td>\n",
       "      <td>2024-amazon-annual-report-10K</td>\n",
       "      <td>data/2024-amazon-annual-report-10K.pdf</td>\n",
       "      <td>This report is about Amazon and covers the com...</td>\n",
       "      <td>•\\nchanges in usage or adoption rates of the i...</td>\n",
       "      <td>24</td>\n",
       "      <td>Amazon identified several key factors that cou...</td>\n",
       "      <td>[page_content='Guidance\\nWe provided guidance ...</td>\n",
       "    </tr>\n",
       "    <tr>\n",
       "      <th>5</th>\n",
       "      <td>2024-meta-full-annual-report.pdf</td>\n",
       "      <td>How did foreign exchange effects impact Meta P...</td>\n",
       "      <td>2024-meta-full-annual-report</td>\n",
       "      <td>data/2024-meta-full-annual-report.pdf</td>\n",
       "      <td>This report is about Meta Platforms, Inc. and ...</td>\n",
       "      <td>Reconciliation of GAAP to Non-GAAP Results\\n(I...</td>\n",
       "      <td>10</td>\n",
       "      <td>The search results do not provide specific inf...</td>\n",
       "      <td>[page_content='The following table presents th...</td>\n",
       "    </tr>\n",
       "    <tr>\n",
       "      <th>6</th>\n",
       "      <td>2024-nvidia-annual-report-10K.pdf</td>\n",
       "      <td>How does NVIDIA Corporation’s approach to leve...</td>\n",
       "      <td>2024-nvidia-annual-report-10K</td>\n",
       "      <td>data/2024-nvidia-annual-report-10K.pdf</td>\n",
       "      <td>This report is about NVIDIA Corporation and co...</td>\n",
       "      <td>tier-1 suppliers, and start-ups. Our AV soluti...</td>\n",
       "      <td>117</td>\n",
       "      <td>NVIDIA Corporation leverages its intellectual ...</td>\n",
       "      <td>[page_content='Table of Contents\\nAutomotive\\n...</td>\n",
       "    </tr>\n",
       "    <tr>\n",
       "      <th>7</th>\n",
       "      <td>2024-google-annual-report-10K.pdf</td>\n",
       "      <td>What criteria did the auditors use to evaluate...</td>\n",
       "      <td>2024-google-annual-report-10K</td>\n",
       "      <td>data/2024-google-annual-report-10K.pdf</td>\n",
       "      <td>The report is about Alphabet Inc. and covers t...</td>\n",
       "      <td>REPORT OF INDEPENDENT REGISTERED PUBLIC ACCOUN...</td>\n",
       "      <td>72</td>\n",
       "      <td>The auditors evaluated Alphabet Inc.’s interna...</td>\n",
       "      <td>[page_content='REPORT OF INDEPENDENT REGISTERE...</td>\n",
       "    </tr>\n",
       "    <tr>\n",
       "      <th>8</th>\n",
       "      <td>2024-reddit-annual-report-10K.pdf</td>\n",
       "      <td>How could changes to legal protections for con...</td>\n",
       "      <td>2024-reddit-annual-report-10K</td>\n",
       "      <td>data/2024-reddit-annual-report-10K.pdf</td>\n",
       "      <td>This report is about Reddit, Inc., a Delaware ...</td>\n",
       "      <td>Our current protections from liability for con...</td>\n",
       "      <td>55</td>\n",
       "      <td>Changes to legal protections for content moder...</td>\n",
       "      <td>[page_content='expenditures, and may reduce th...</td>\n",
       "    </tr>\n",
       "    <tr>\n",
       "      <th>9</th>\n",
       "      <td>2024-tsla-annual-report-10K.pdf</td>\n",
       "      <td>How did Tesla's hiring and development program...</td>\n",
       "      <td>2024-tsla-annual-report-10K</td>\n",
       "      <td>data/2024-tsla-annual-report-10K.pdf</td>\n",
       "      <td>The report is the Annual Report on Form 10-K f...</td>\n",
       "      <td>Table of Contents\\nWe believe that sound corpo...</td>\n",
       "      <td>20</td>\n",
       "      <td>Tesla’s hiring and development programs in 202...</td>\n",
       "      <td>[page_content='Table of Contents\\nWe believe t...</td>\n",
       "    </tr>\n",
       "    <tr>\n",
       "      <th>10</th>\n",
       "      <td>2024-apple-annual-report-10K.pdf</td>\n",
       "      <td>Question:\\n\\nWhat types of officer certificate...</td>\n",
       "      <td>2024-apple-annual-report-10K</td>\n",
       "      <td>data/2024-apple-annual-report-10K.pdf</td>\n",
       "      <td>The report is about Apple Inc. and covers the ...</td>\n",
       "      <td>Incorporated by Reference\\nExhibit Number\\nExh...</td>\n",
       "      <td>69</td>\n",
       "      <td>During the fiscal year ended September 28, 202...</td>\n",
       "      <td>[page_content='12 Months Ended\\nDebt - Narrati...</td>\n",
       "    </tr>\n",
       "  </tbody>\n",
       "</table>\n",
       "</div>"
      ],
      "text/plain": [
       "                             file_name  \\\n",
       "0    2024-oracle-annual-report-10K.pdf   \n",
       "1                   Huy_Bui_Resume.pdf   \n",
       "2    2024-cisco-full-annual-report.pdf   \n",
       "3   2024-netflix-annual-report-10K.pdf   \n",
       "4    2024-amazon-annual-report-10K.pdf   \n",
       "5     2024-meta-full-annual-report.pdf   \n",
       "6    2024-nvidia-annual-report-10K.pdf   \n",
       "7    2024-google-annual-report-10K.pdf   \n",
       "8    2024-reddit-annual-report-10K.pdf   \n",
       "9      2024-tsla-annual-report-10K.pdf   \n",
       "10    2024-apple-annual-report-10K.pdf   \n",
       "\n",
       "                                             question  \\\n",
       "0   What specific financial highlights or operatio...   \n",
       "1   Based on the provided chunk of Huy Bui’s profe...   \n",
       "2   How does Cisco Systems, Inc. plan to support c...   \n",
       "3   What provisions in Netflix, Inc.'s charter doc...   \n",
       "4   What are the key factors that Amazon identifie...   \n",
       "5   How did foreign exchange effects impact Meta P...   \n",
       "6   How does NVIDIA Corporation’s approach to leve...   \n",
       "7   What criteria did the auditors use to evaluate...   \n",
       "8   How could changes to legal protections for con...   \n",
       "9   How did Tesla's hiring and development program...   \n",
       "10  Question:\\n\\nWhat types of officer certificate...   \n",
       "\n",
       "                       format_name                                file_path  \\\n",
       "0    2024-oracle-annual-report-10K   data/2024-oracle-annual-report-10K.pdf   \n",
       "1                   Huy_Bui_Resume                  data/Huy_Bui_Resume.pdf   \n",
       "2    2024-cisco-full-annual-report   data/2024-cisco-full-annual-report.pdf   \n",
       "3   2024-netflix-annual-report-10K  data/2024-netflix-annual-report-10K.pdf   \n",
       "4    2024-amazon-annual-report-10K   data/2024-amazon-annual-report-10K.pdf   \n",
       "5     2024-meta-full-annual-report    data/2024-meta-full-annual-report.pdf   \n",
       "6    2024-nvidia-annual-report-10K   data/2024-nvidia-annual-report-10K.pdf   \n",
       "7    2024-google-annual-report-10K   data/2024-google-annual-report-10K.pdf   \n",
       "8    2024-reddit-annual-report-10K   data/2024-reddit-annual-report-10K.pdf   \n",
       "9      2024-tsla-annual-report-10K     data/2024-tsla-annual-report-10K.pdf   \n",
       "10    2024-apple-annual-report-10K    data/2024-apple-annual-report-10K.pdf   \n",
       "\n",
       "                                              summary  \\\n",
       "0   The report is about Oracle Corporation and cov...   \n",
       "1   The report does not appear to be about a speci...   \n",
       "2   The report is about Cisco Systems, Inc. and co...   \n",
       "3   The report is about Netflix, Inc. and covers t...   \n",
       "4   This report is about Amazon and covers the com...   \n",
       "5   This report is about Meta Platforms, Inc. and ...   \n",
       "6   This report is about NVIDIA Corporation and co...   \n",
       "7   The report is about Alphabet Inc. and covers t...   \n",
       "8   This report is about Reddit, Inc., a Delaware ...   \n",
       "9   The report is the Annual Report on Form 10-K f...   \n",
       "10  The report is about Apple Inc. and covers the ...   \n",
       "\n",
       "                                                chunk  chunk_id  \\\n",
       "0   5/25/25, 1:44 PM\\n10-K\\nhttps://www.sec.gov/Ar...        98   \n",
       "1   Huy Bui\\nwilliamhuybui@gmail.com | linkedin.co...         0   \n",
       "2   Cisco can help customers connect, protect and ...        22   \n",
       "3   Table of Contents\\nRisks Related to Our Stock ...        28   \n",
       "4   •\\nchanges in usage or adoption rates of the i...        24   \n",
       "5   Reconciliation of GAAP to Non-GAAP Results\\n(I...        10   \n",
       "6   tier-1 suppliers, and start-ups. Our AV soluti...       117   \n",
       "7   REPORT OF INDEPENDENT REGISTERED PUBLIC ACCOUN...        72   \n",
       "8   Our current protections from liability for con...        55   \n",
       "9   Table of Contents\\nWe believe that sound corpo...        20   \n",
       "10  Incorporated by Reference\\nExhibit Number\\nExh...        69   \n",
       "\n",
       "                                               answer  \\\n",
       "0   The information provided does not directly rel...   \n",
       "1   Based on the available information, Huy Bui ha...   \n",
       "2   Cisco Systems, Inc. is supporting customers in...   \n",
       "3   As of the fiscal year ended December 31, 2024,...   \n",
       "4   Amazon identified several key factors that cou...   \n",
       "5   The search results do not provide specific inf...   \n",
       "6   NVIDIA Corporation leverages its intellectual ...   \n",
       "7   The auditors evaluated Alphabet Inc.’s interna...   \n",
       "8   Changes to legal protections for content moder...   \n",
       "9   Tesla’s hiring and development programs in 202...   \n",
       "10  During the fiscal year ended September 28, 202...   \n",
       "\n",
       "                                          top_k_chunk  \n",
       "0   [page_content='Oracle Financial Services Softw...  \n",
       "1   [page_content='•\\nData and Analytics: provides...  \n",
       "2   [page_content='6\\nCisco Annual Report 2024\\nAc...  \n",
       "3   [page_content='EXHIBIT 4.18\\nDESCRIPTION OF TH...  \n",
       "4   [page_content='Guidance\\nWe provided guidance ...  \n",
       "5   [page_content='The following table presents th...  \n",
       "6   [page_content='Table of Contents\\nAutomotive\\n...  \n",
       "7   [page_content='REPORT OF INDEPENDENT REGISTERE...  \n",
       "8   [page_content='expenditures, and may reduce th...  \n",
       "9   [page_content='Table of Contents\\nWe believe t...  \n",
       "10  [page_content='12 Months Ended\\nDebt - Narrati...  "
      ]
     },
     "execution_count": 267,
     "metadata": {},
     "output_type": "execute_result"
    }
   ],
   "source": [
    "combined_df"
   ]
  },
  {
   "cell_type": "code",
   "execution_count": 268,
   "metadata": {},
   "outputs": [],
   "source": [
    "dummy_test.to_csv(f\"{PROJECT_NAME}/dummy_test.csv\", index=False)"
   ]
  },
  {
   "cell_type": "markdown",
   "metadata": {},
   "source": [
    "# Evaluation Process"
   ]
  },
  {
   "cell_type": "code",
   "execution_count": 269,
   "metadata": {},
   "outputs": [],
   "source": [
    "prompt = \"\"\"\n",
    "    You are a financial data Q&A evaluator.\n",
    "\n",
    "    You are given:\n",
    "    - A **question** generated from a document chunk.\n",
    "    - The **document chunk** (ground truth source).\n",
    "    - A **model-generated answer** to the question.\n",
    "\n",
    "    Your job is to score the model’s answer by carefully comparing it to the document chunk.\n",
    "\n",
    "    Use the following rubric for each category:\n",
    "\n",
    "    ---\n",
    "    **Factual Correctness**\n",
    "    - 5 = All facts are fully correct and consistent with the chunk.\n",
    "    - 4 = Minor factual inaccuracies but mostly correct.\n",
    "    - 3 = Some factual inaccuracies, partly correct.\n",
    "    - 2 = Major factual mistakes, mostly incorrect.\n",
    "    - 1 = Completely factually wrong.\n",
    "\n",
    "    ---\n",
    "    **Completeness**\n",
    "    - 5 = Fully answers the question with all key details.\n",
    "    - 4 = Mostly complete, missing minor details.\n",
    "    - 3 = Partially complete, missing important parts.\n",
    "    - 2 = Mostly incomplete, only touches on part of the question.\n",
    "    - 1 = Completely incomplete.\n",
    "\n",
    "    ---\n",
    "    3**Clarity**\n",
    "    - 5 = Clear, precise, and easy to understand.\n",
    "    - 4 = Mostly clear, with minor awkwardness.\n",
    "    - 3 = Understandable but somewhat confusing or vague.\n",
    "    - 2 = Hard to understand or poorly phrased.\n",
    "    - 1 = Completely unclear or nonsensical.\n",
    "\n",
    "    ---\n",
    "    **Response Format**\n",
    "    Return ONLY this JSON (no extra explanation):\n",
    "    {\n",
    "        \"factual_correctness_score\": [1-5],\n",
    "        \"completeness_score\": [1-5],\n",
    "        \"clarity_score\": [1-5],\n",
    "        \"comments\": \"A brief explanation (1-2 sentences) why you assigned these scores.\"\n",
    "    }\n",
    "\"\"\"\n",
    "\n",
    "\n",
    "def evaluate_answer(question, chunk, answer):\n",
    "    response = client.chat.completions.create(\n",
    "        model=\"sonar\",\n",
    "        messages=[\n",
    "            {\"role\": \"system\", \"content\": prompt},\n",
    "            {\n",
    "                \"role\": \"user\",\n",
    "                \"content\": f\"\"\"\n",
    "                Please evaluate the following answer based on the provided question and document chunk. \n",
    "                Return ONLY a valid JSON object.\n",
    "\n",
    "                Question: {question}\n",
    "\n",
    "                Document Chunk: {chunk}\n",
    "\n",
    "                Model Answer: {answer}\n",
    "                \"\"\"\n",
    "            }\n",
    "        ],\n",
    "    )\n",
    "\n",
    "    response_content = response.choices[0].message.content.strip()\n",
    "    print(\"LLM Raw Output:\", response_content)\n",
    "\n",
    "    # Remove duplicate keys by keeping only the last occurrence\n",
    "    cleaned_content = re.sub(\n",
    "        r'(,\\s*\")(\\w+_score)\":\\s*\\d,\\s*\"\\2\":\\s*\\d',\n",
    "        lambda m: f',{m.group(2)}\": {m.group(0).split(\":\")[-1]}',\n",
    "        response_content\n",
    "    )\n",
    "\n",
    "    result = json.loads(cleaned_content)\n",
    "    return result\n"
   ]
  },
  {
   "cell_type": "code",
   "execution_count": 270,
   "metadata": {},
   "outputs": [
    {
     "name": "stdout",
     "output_type": "stream",
     "text": [
      "LLM Raw Output: {\n",
      "  \"factual_correctness_score\": 5,\n",
      "  \"completeness_score\": 4,\n",
      "  \"clarity_score\": 5,\n",
      "  \"comments\": \"The model answer accurately reflects key financial highlights and operational changes for Oracle's fiscal year 2024, consistent with the document and referenced filings. It covers revenue growth, cloud services expansion, and operational costs, which are the main points mentioned. However, it slightly over-attributes specific details (like exact percentages) beyond the direct chunk but supported by referenced filings. Overall, the answer is clear and mostly complete but could include more explicit mention of legal and restructuring aspects noted in the filings.\"\n",
      "}\n",
      "LLM Raw Output: ```json\n",
      "{\n",
      "    \"factual_correctness_score\": 3,\n",
      "    \"completeness_score\": 2,\n",
      "    \"clarity_score\": 4,\n",
      "    \"comments\": \"The model's answer contains some factual inaccuracies, particularly regarding the details of Huy Bui's role and achievements at Publicis Groupe. It also lacks completeness in addressing the specific contributions and awards mentioned in the question.\"\n",
      "}\n",
      "```\n",
      "Retrying for question: Based on the provided chunk of Huy Bui’s professional profile, which details his experience with Publicis Groupe from June 2022 to the present and his recognition in 2024 for innovative analytics solutions, generate the following question:\n",
      "\n",
      "**What data science initiatives and client-agnostic applications did Huy Bui lead at Publicis Groupe between 2022 and the present, and how did these contribute to increased productivity and innovation at the company, especially noted by the awards received in 2024?** due to error: Expecting value: line 1 column 1 (char 0)\n",
      "LLM Raw Output: ```json\n",
      "{\n",
      "    \"factual_correctness_score\": 3,\n",
      "    \"completeness_score\": 3,\n",
      "    \"clarity_score\": 4,\n",
      "    \"comments\": \"The model's answer has some factual inaccuracies, such as misrepresenting Huy Bui's role and initiatives at Publicis Groupe, but it provides a generally clear explanation. The answer lacks completeness because it doesn't fully address the client-agnostic applications or the specific recognition in 2024.\"\n",
      "}\n",
      "```\n",
      "Retrying for question: Based on the provided chunk of Huy Bui’s professional profile, which details his experience with Publicis Groupe from June 2022 to the present and his recognition in 2024 for innovative analytics solutions, generate the following question:\n",
      "\n",
      "**What data science initiatives and client-agnostic applications did Huy Bui lead at Publicis Groupe between 2022 and the present, and how did these contribute to increased productivity and innovation at the company, especially noted by the awards received in 2024?** due to error: Expecting value: line 1 column 1 (char 0)\n",
      "LLM Raw Output: {\n",
      "  \"factual_correctness_score\": 2,\n",
      "  \"completeness_score\": 2,\n",
      "  \"clarity_score\": 4,\n",
      "  \"comments\": \"The model answer incorrectly states Huy Bui's position as Data Science Manager and mentions development of 'ROAI,' which is not found in the provided document chunk. It also fails to mention key facts from the chunk such as the development of 7 client-agnostic applications, leadership of cross-functional data science initiatives, and explicit recognition from two 2024 awards for innovative analytics solutions at Publicis Groupe. While the answer is mostly clear, it contains inaccuracies and omits significant details relevant to the question about productivity improvements and innovation contribution.\"\n",
      "}\n",
      "LLM Raw Output: {\n",
      "    \"factual_correctness_score\": 5,\n",
      "    \"completeness_score\": 5,\n",
      "    \"clarity_score\": 5,\n",
      "    \"comments\": \"The answer accurately reflects the document chunk, addressing all key points about automation, real-time management, and Cisco’s investments in AI and infrastructure, while remaining clear and complete.\"\n",
      "}\n",
      "LLM Raw Output: ```json\n",
      "{\n",
      "    \"factual_correctness_score\": 5,\n",
      "    \"completeness_score\": 5,\n",
      "    \"clarity_score\": 5,\n",
      "    \"comments\": \"The model answer is entirely accurate and complete, mirroring the details from the document chunk. It is also clear and well-structured, providing a comprehensive overview of the provisions that could discourage a takeover.\"\n",
      "}\n",
      "```\n",
      "Retrying for question: What provisions in Netflix, Inc.'s charter documents and Delaware law could discourage a takeover that stockholders might consider favorable as of the fiscal year ended December 31, 2024? due to error: Expecting value: line 1 column 1 (char 0)\n",
      "LLM Raw Output: ```json\n",
      "{\n",
      "  \"factual_correctness_score\": 5,\n",
      "  \"completeness_score\": 5,\n",
      "  \"clarity_score\": 5,\n",
      "  \"comments\": \"The model answer is entirely accurate and comprehensive, covering all relevant provisions from Netflix's charter documents and Delaware law that could discourage a takeover. It also presents the information clearly and effectively.\"\n",
      "}\n",
      "```\n",
      "Retrying for question: What provisions in Netflix, Inc.'s charter documents and Delaware law could discourage a takeover that stockholders might consider favorable as of the fiscal year ended December 31, 2024? due to error: Expecting value: line 1 column 1 (char 0)\n",
      "LLM Raw Output: {\n",
      "    \"factual_correctness_score\": 5,\n",
      "    \"completeness_score\": 5,\n",
      "    \"clarity_score\": 5,\n",
      "    \"comments\": \"The answer accurately and completely lists all relevant provisions and state law considerations mentioned in the document chunk, presenting them clearly and precisely.\"\n",
      "}\n",
      "LLM Raw Output: {\n",
      "    \"factual_correctness_score\": 4,\n",
      "    \"completeness_score\": 4,\n",
      "    \"clarity_score\": 5,\n",
      "    \"comments\": \"The answer is highly accurate and clear, but includes some minor omissions (such as specific mentions of supply costs, regulatory risks, and technology infrastructure challenges) and a slight overemphasis on AI/analytics not entirely reflected in the document chunk.\"\n",
      "}\n",
      "LLM Raw Output: {\n",
      "  \"factual_correctness_score\": 3,\n",
      "  \"completeness_score\": 2,\n",
      "  \"clarity_score\": 4,\n",
      "  \"comments\": \"The answer correctly reports general revenue growth figures but incorrectly states that the search results do not provide foreign exchange effects, while the document chunk clearly shows the impact of foreign exchange on reported revenue and advertising revenue with specific amounts and adjusted growth rates. The answer misses the detailed reconciliation of GAAP to non-GAAP revenue growth with and without foreign exchange effects, hence is incomplete. The explanation is mostly clear but could have been more precise regarding the available data.\"\n",
      "}\n",
      "LLM Raw Output: {\n",
      "  \"factual_correctness_score\": 2,\n",
      "  \"completeness_score\": 1,\n",
      "  \"clarity_score\": 4,\n",
      "  \"comments\": \"The model answer includes extensive details about NVIDIA's autonomous vehicle platforms and software ecosystem (DGX, Omniverse, DRIVE AGX, Halos) that are not present in the provided document chunk, which only broadly states that NVIDIA provides GPU-based hardware and licenses IP to automotive partners and tier-1 suppliers to solve complex autonomous driving challenges. The detailed references to specific products, simulation tools, safety frameworks, and ecosystem support are unsupported by the chunk. Therefore, the answer contains major factual inaccuracies relative to the source and misses the key insight from the chunk about IP licensing and collaboration. Clarity is good, but the answer does not align with or rely on the provided document chunk, resulting in low factual correctness and completeness.\"\n",
      "}\n",
      "LLM Raw Output: ```json\n",
      "{\n",
      "    \"factual_correctness_score\": 5,\n",
      "    \"completeness_score\": 5,\n",
      "    \"clarity_score\": 5,\n",
      "    \"comments\": \"The model-generated answer is entirely consistent with the document chunk, providing all necessary details and clearly explaining the criteria used by auditors to evaluate Alphabet Inc.'s internal control over financial reporting.\"\n",
      "}\n",
      "```\n",
      "Retrying for question: What criteria did the auditors use to evaluate Alphabet Inc.'s internal control over financial reporting as of December 31, 2024? due to error: Expecting value: line 1 column 1 (char 0)\n",
      "LLM Raw Output: {\n",
      "  \"factual_correctness_score\": 5,\n",
      "  \"completeness_score\": 5,\n",
      "  \"clarity_score\": 5,\n",
      "  \"comments\": \"The answer accurately identifies the criteria used by the auditors, namely the COSO 2013 Internal Control—Integrated Framework, and clearly explains the five components of the COSO framework. It also correctly notes the audit standards of the PCAOB and the audit procedures performed, fully consistent with the document chunk. The response is detailed, precise, and well-structured for clarity.\"\n",
      "}\n",
      "LLM Raw Output: ```json\n",
      "{\n",
      "    \"factual_correctness_score\": 5,\n",
      "    \"completeness_score\": 5,\n",
      "    \"clarity_score\": 5,\n",
      "    \"comments\": \"The model answer accurately reflects the potential impact of legal changes on Reddit's liability and operational costs as described in the document chunk. It provides a comprehensive analysis that aligns with the information given.\"\n",
      "}\n",
      "```\n",
      "Retrying for question: How could changes to legal protections for content moderation and third-party content impact Reddit, Inc.'s potential liability and operational costs for the fiscal year ended December 31, 2024? due to error: Expecting value: line 1 column 1 (char 0)\n",
      "LLM Raw Output: {\n",
      "  \"factual_correctness_score\": 4,\n",
      "  \"completeness_score\": 4,\n",
      "  \"clarity_score\": 5,\n",
      "  \"comments\": \"The model answer accurately captures the key risks Reddit faces if legal protections for content moderation and third-party content change, including increased liability and operational costs, consistent with the document chunk. It reasonably integrates Reddit's moderation approach and potential financial impacts. However, the answer infers some operational details and internal processes not explicitly stated in the chunk but supported by related context from the sources, and it does not explicitly mention geographic-specific risks or government-imposed remedies detailed in the chunk, hence slightly deducting completeness and factual exactness.\"\n",
      "}\n",
      "LLM Raw Output: {\n",
      "  \"factual_correctness_score\": 2,\n",
      "  \"completeness_score\": 2,\n",
      "  \"clarity_score\": 5,\n",
      "  \"comments\": \"The model answer contains significant factual inaccuracies, such as overstating internal promotion rates (claims 65% vs documented 68%) and includes programs like Technician Trainee, START, and Engineering Development Program which are not mentioned in the source document. It also incorrectly exaggerates employee numbers and growth. The answer is well structured and clearly presented but fails to rely on the provided document chunk, resulting in incomplete coverage of the actual Tesla 2024 hiring and development initiatives and employee retention details.\"\n",
      "}\n",
      "LLM Raw Output: ```json\n",
      "{\n",
      "    \"factual_correctness_score\": 4,\n",
      "    \"completeness_score\": 4,\n",
      "    \"clarity_score\": 5,\n",
      "    \"comments\": \"The model's answer is mostly factually correct but contains a minor factual inaccuracy regarding the interest rate for the 2030 notes. It is mostly complete and clear, though it lacks the precise details about the 2030 note's interest rate as per the document chunk.\"\n",
      "}\n",
      "```\n",
      "Retrying for question: Question:\n",
      "\n",
      "What types of officer certificates and forms of global notes related to Apple Inc.’s debt due between 2026 and 2053 were included in the Form 8-K exhibit during the fiscal year ended September 28, 2024, and what are the respective interest rates for each note? due to error: Expecting value: line 1 column 1 (char 0)\n",
      "LLM Raw Output: ```json\n",
      "{\n",
      "    \"factual_correctness_score\": 4,\n",
      "    \"completeness_score\": 5,\n",
      "    \"clarity_score\": 5,\n",
      "    \"comments\": \"The model answer is mostly factually correct, except for the interest rate for the 2030 notes, which is inaccurately listed as 3.450% instead of the correct 4.150%. The completeness and clarity scores are high because the answer fully addresses the question with clear details and a structured format.\"\n",
      "}\n",
      "```\n",
      "Retrying for question: Question:\n",
      "\n",
      "What types of officer certificates and forms of global notes related to Apple Inc.’s debt due between 2026 and 2053 were included in the Form 8-K exhibit during the fiscal year ended September 28, 2024, and what are the respective interest rates for each note? due to error: Expecting value: line 1 column 1 (char 0)\n",
      "LLM Raw Output: {\n",
      "  \"factual_correctness_score\": 3,\n",
      "  \"completeness_score\": 3,\n",
      "  \"clarity_score\": 5,\n",
      "  \"comments\": \"The answer correctly identifies the officer certificates and forms of global notes for Apple Inc.'s debt due between 2026 and 2053 included in the Form 8-K exhibit. However, it incorrectly states the interest rates for the 2030 and 2033 notes as 3.450% and 3.700%, respectively, whereas the document chunk lists them as 4.150% and 4.300%. The answer otherwise covers all relevant notes and their rates mentioned. It is clearly presented with a helpful summary table but misses providing the exact interest rates for all notes from the source.\"\n",
      "}\n",
      "Saved final results to final.csv\n"
     ]
    }
   ],
   "source": [
    "import pandas as pd\n",
    "\n",
    "# Prepare a list to collect all processed rows\n",
    "final_rows = []\n",
    "\n",
    "for _, row in combined_df.iterrows():\n",
    "    question = row['question']\n",
    "    chunk = row['chunk']\n",
    "    answer = row['answer']\n",
    "\n",
    "    success = False\n",
    "    while not success:\n",
    "        try:\n",
    "            evaluation = evaluate_answer(question, chunk, answer)\n",
    "            success = True  # Break loop if successful\n",
    "        except Exception as e:\n",
    "            print(f\"Retrying for question: {question} due to error: {e}\")\n",
    "\n",
    "    # Build a combined result dictionary\n",
    "    result_row = {\n",
    "        'question': question,\n",
    "        'chunk': chunk,\n",
    "        'answer': answer\n",
    "    }\n",
    "    # Add evaluation results\n",
    "    for key, value in evaluation.items():\n",
    "        result_row[f'evaluation_{key}'] = value\n",
    "\n",
    "    final_rows.append(result_row)\n",
    "\n",
    "# Convert list of results to DataFrame\n",
    "final_df = pd.DataFrame(final_rows)\n",
    "\n",
    "# Save to CSV\n",
    "final_df.to_csv('final.csv', index=False)\n",
    "print(\"Saved final results to final.csv\")\n"
   ]
  },
  {
   "cell_type": "code",
   "execution_count": 271,
   "metadata": {},
   "outputs": [
    {
     "data": {
      "text/html": [
       "<div>\n",
       "<style scoped>\n",
       "    .dataframe tbody tr th:only-of-type {\n",
       "        vertical-align: middle;\n",
       "    }\n",
       "\n",
       "    .dataframe tbody tr th {\n",
       "        vertical-align: top;\n",
       "    }\n",
       "\n",
       "    .dataframe thead th {\n",
       "        text-align: right;\n",
       "    }\n",
       "</style>\n",
       "<table border=\"1\" class=\"dataframe\">\n",
       "  <thead>\n",
       "    <tr style=\"text-align: right;\">\n",
       "      <th></th>\n",
       "      <th>question</th>\n",
       "      <th>chunk</th>\n",
       "      <th>answer</th>\n",
       "      <th>evaluation_factual_correctness_score</th>\n",
       "      <th>evaluation_completeness_score</th>\n",
       "      <th>evaluation_clarity_score</th>\n",
       "      <th>evaluation_comments</th>\n",
       "    </tr>\n",
       "  </thead>\n",
       "  <tbody>\n",
       "    <tr>\n",
       "      <th>0</th>\n",
       "      <td>What specific financial highlights or operatio...</td>\n",
       "      <td>5/25/25, 1:44 PM\\n10-K\\nhttps://www.sec.gov/Ar...</td>\n",
       "      <td>The information provided does not directly rel...</td>\n",
       "      <td>5</td>\n",
       "      <td>4</td>\n",
       "      <td>5</td>\n",
       "      <td>The model answer accurately reflects key finan...</td>\n",
       "    </tr>\n",
       "    <tr>\n",
       "      <th>1</th>\n",
       "      <td>Based on the provided chunk of Huy Bui’s profe...</td>\n",
       "      <td>Huy Bui\\nwilliamhuybui@gmail.com | linkedin.co...</td>\n",
       "      <td>Based on the available information, Huy Bui ha...</td>\n",
       "      <td>2</td>\n",
       "      <td>2</td>\n",
       "      <td>4</td>\n",
       "      <td>The model answer incorrectly states Huy Bui's ...</td>\n",
       "    </tr>\n",
       "    <tr>\n",
       "      <th>2</th>\n",
       "      <td>How does Cisco Systems, Inc. plan to support c...</td>\n",
       "      <td>Cisco can help customers connect, protect and ...</td>\n",
       "      <td>Cisco Systems, Inc. is supporting customers in...</td>\n",
       "      <td>5</td>\n",
       "      <td>5</td>\n",
       "      <td>5</td>\n",
       "      <td>The answer accurately reflects the document ch...</td>\n",
       "    </tr>\n",
       "    <tr>\n",
       "      <th>3</th>\n",
       "      <td>What provisions in Netflix, Inc.'s charter doc...</td>\n",
       "      <td>Table of Contents\\nRisks Related to Our Stock ...</td>\n",
       "      <td>As of the fiscal year ended December 31, 2024,...</td>\n",
       "      <td>5</td>\n",
       "      <td>5</td>\n",
       "      <td>5</td>\n",
       "      <td>The answer accurately and completely lists all...</td>\n",
       "    </tr>\n",
       "    <tr>\n",
       "      <th>4</th>\n",
       "      <td>What are the key factors that Amazon identifie...</td>\n",
       "      <td>•\\nchanges in usage or adoption rates of the i...</td>\n",
       "      <td>Amazon identified several key factors that cou...</td>\n",
       "      <td>4</td>\n",
       "      <td>4</td>\n",
       "      <td>5</td>\n",
       "      <td>The answer is highly accurate and clear, but i...</td>\n",
       "    </tr>\n",
       "  </tbody>\n",
       "</table>\n",
       "</div>"
      ],
      "text/plain": [
       "                                            question  \\\n",
       "0  What specific financial highlights or operatio...   \n",
       "1  Based on the provided chunk of Huy Bui’s profe...   \n",
       "2  How does Cisco Systems, Inc. plan to support c...   \n",
       "3  What provisions in Netflix, Inc.'s charter doc...   \n",
       "4  What are the key factors that Amazon identifie...   \n",
       "\n",
       "                                               chunk  \\\n",
       "0  5/25/25, 1:44 PM\\n10-K\\nhttps://www.sec.gov/Ar...   \n",
       "1  Huy Bui\\nwilliamhuybui@gmail.com | linkedin.co...   \n",
       "2  Cisco can help customers connect, protect and ...   \n",
       "3  Table of Contents\\nRisks Related to Our Stock ...   \n",
       "4  •\\nchanges in usage or adoption rates of the i...   \n",
       "\n",
       "                                              answer  \\\n",
       "0  The information provided does not directly rel...   \n",
       "1  Based on the available information, Huy Bui ha...   \n",
       "2  Cisco Systems, Inc. is supporting customers in...   \n",
       "3  As of the fiscal year ended December 31, 2024,...   \n",
       "4  Amazon identified several key factors that cou...   \n",
       "\n",
       "   evaluation_factual_correctness_score  evaluation_completeness_score  \\\n",
       "0                                     5                              4   \n",
       "1                                     2                              2   \n",
       "2                                     5                              5   \n",
       "3                                     5                              5   \n",
       "4                                     4                              4   \n",
       "\n",
       "   evaluation_clarity_score                                evaluation_comments  \n",
       "0                         5  The model answer accurately reflects key finan...  \n",
       "1                         4  The model answer incorrectly states Huy Bui's ...  \n",
       "2                         5  The answer accurately reflects the document ch...  \n",
       "3                         5  The answer accurately and completely lists all...  \n",
       "4                         5  The answer is highly accurate and clear, but i...  "
      ]
     },
     "execution_count": 271,
     "metadata": {},
     "output_type": "execute_result"
    }
   ],
   "source": [
    "final_df.head()"
   ]
  },
  {
   "cell_type": "code",
   "execution_count": 275,
   "metadata": {},
   "outputs": [
    {
     "data": {
      "application/vnd.plotly.v1+json": {
       "config": {
        "plotlyServerURL": "https://plot.ly"
       },
       "data": [
        {
         "alignmentgroup": "True",
         "boxpoints": "all",
         "customdata": [
          [
           "What specific financial highlights or operational changes are mentioned in Oracle Corporation's 2024 fiscal year report, ending on May 31, 2024?"
          ],
          [
           "Based on the provided chunk of Huy Bui’s professional profile, which details his experience with Publicis Groupe from June 2022 to the present and his recognition in 2024 for innovative analytics solutions, generate the following question:\n\n**What data science initiatives and client-agnostic applications did Huy Bui lead at Publicis Groupe between 2022 and the present, and how did these contribute to increased productivity and innovation at the company, especially noted by the awards received in 2024?**"
          ],
          [
           "How does Cisco Systems, Inc. plan to support customers in modernizing their infrastructure during fiscal year 2024, particularly in terms of automation and real-time network management?"
          ],
          [
           "What provisions in Netflix, Inc.'s charter documents and Delaware law could discourage a takeover that stockholders might consider favorable as of the fiscal year ended December 31, 2024?"
          ],
          [
           "What are the key factors that Amazon identified as potentially impacting its business in 2024, including technological changes and operational risks?"
          ],
          [
           "How did foreign exchange effects impact Meta Platforms, Inc.’s reported revenue and advertising revenue, and what were the corresponding year-over-year growth rates for these metrics, as reflected in the company’s financial results for the full year ended December 31, 2024?"
          ],
          [
           "How does NVIDIA Corporation’s approach to leveraging its intellectual property and providing GPU-based hardware solutions help automotive partners, tier-1 suppliers, and start-ups address the complex challenges in autonomous driving for fiscal year 2024?"
          ],
          [
           "What criteria did the auditors use to evaluate Alphabet Inc.'s internal control over financial reporting as of December 31, 2024?"
          ],
          [
           "How could changes to legal protections for content moderation and third-party content impact Reddit, Inc.'s potential liability and operational costs for the fiscal year ended December 31, 2024?"
          ],
          [
           "How did Tesla's hiring and development programs contribute to its employee growth and retention in 2024?"
          ],
          [
           "Question:\n\nWhat types of officer certificates and forms of global notes related to Apple Inc.’s debt due between 2026 and 2053 were included in the Form 8-K exhibit during the fiscal year ended September 28, 2024, and what are the respective interest rates for each note?"
          ],
          [
           "What specific financial highlights or operational changes are mentioned in Oracle Corporation's 2024 fiscal year report, ending on May 31, 2024?"
          ],
          [
           "Based on the provided chunk of Huy Bui’s professional profile, which details his experience with Publicis Groupe from June 2022 to the present and his recognition in 2024 for innovative analytics solutions, generate the following question:\n\n**What data science initiatives and client-agnostic applications did Huy Bui lead at Publicis Groupe between 2022 and the present, and how did these contribute to increased productivity and innovation at the company, especially noted by the awards received in 2024?**"
          ],
          [
           "How does Cisco Systems, Inc. plan to support customers in modernizing their infrastructure during fiscal year 2024, particularly in terms of automation and real-time network management?"
          ],
          [
           "What provisions in Netflix, Inc.'s charter documents and Delaware law could discourage a takeover that stockholders might consider favorable as of the fiscal year ended December 31, 2024?"
          ],
          [
           "What are the key factors that Amazon identified as potentially impacting its business in 2024, including technological changes and operational risks?"
          ],
          [
           "How did foreign exchange effects impact Meta Platforms, Inc.’s reported revenue and advertising revenue, and what were the corresponding year-over-year growth rates for these metrics, as reflected in the company’s financial results for the full year ended December 31, 2024?"
          ],
          [
           "How does NVIDIA Corporation’s approach to leveraging its intellectual property and providing GPU-based hardware solutions help automotive partners, tier-1 suppliers, and start-ups address the complex challenges in autonomous driving for fiscal year 2024?"
          ],
          [
           "What criteria did the auditors use to evaluate Alphabet Inc.'s internal control over financial reporting as of December 31, 2024?"
          ],
          [
           "How could changes to legal protections for content moderation and third-party content impact Reddit, Inc.'s potential liability and operational costs for the fiscal year ended December 31, 2024?"
          ],
          [
           "How did Tesla's hiring and development programs contribute to its employee growth and retention in 2024?"
          ],
          [
           "Question:\n\nWhat types of officer certificates and forms of global notes related to Apple Inc.’s debt due between 2026 and 2053 were included in the Form 8-K exhibit during the fiscal year ended September 28, 2024, and what are the respective interest rates for each note?"
          ],
          [
           "What specific financial highlights or operational changes are mentioned in Oracle Corporation's 2024 fiscal year report, ending on May 31, 2024?"
          ],
          [
           "Based on the provided chunk of Huy Bui’s professional profile, which details his experience with Publicis Groupe from June 2022 to the present and his recognition in 2024 for innovative analytics solutions, generate the following question:\n\n**What data science initiatives and client-agnostic applications did Huy Bui lead at Publicis Groupe between 2022 and the present, and how did these contribute to increased productivity and innovation at the company, especially noted by the awards received in 2024?**"
          ],
          [
           "How does Cisco Systems, Inc. plan to support customers in modernizing their infrastructure during fiscal year 2024, particularly in terms of automation and real-time network management?"
          ],
          [
           "What provisions in Netflix, Inc.'s charter documents and Delaware law could discourage a takeover that stockholders might consider favorable as of the fiscal year ended December 31, 2024?"
          ],
          [
           "What are the key factors that Amazon identified as potentially impacting its business in 2024, including technological changes and operational risks?"
          ],
          [
           "How did foreign exchange effects impact Meta Platforms, Inc.’s reported revenue and advertising revenue, and what were the corresponding year-over-year growth rates for these metrics, as reflected in the company’s financial results for the full year ended December 31, 2024?"
          ],
          [
           "How does NVIDIA Corporation’s approach to leveraging its intellectual property and providing GPU-based hardware solutions help automotive partners, tier-1 suppliers, and start-ups address the complex challenges in autonomous driving for fiscal year 2024?"
          ],
          [
           "What criteria did the auditors use to evaluate Alphabet Inc.'s internal control over financial reporting as of December 31, 2024?"
          ],
          [
           "How could changes to legal protections for content moderation and third-party content impact Reddit, Inc.'s potential liability and operational costs for the fiscal year ended December 31, 2024?"
          ],
          [
           "How did Tesla's hiring and development programs contribute to its employee growth and retention in 2024?"
          ],
          [
           "Question:\n\nWhat types of officer certificates and forms of global notes related to Apple Inc.’s debt due between 2026 and 2053 were included in the Form 8-K exhibit during the fiscal year ended September 28, 2024, and what are the respective interest rates for each note?"
          ],
          [
           "What specific financial highlights or operational changes are mentioned in Oracle Corporation's 2024 fiscal year report, ending on May 31, 2024?"
          ],
          [
           "Based on the provided chunk of Huy Bui’s professional profile, which details his experience with Publicis Groupe from June 2022 to the present and his recognition in 2024 for innovative analytics solutions, generate the following question:\n\n**What data science initiatives and client-agnostic applications did Huy Bui lead at Publicis Groupe between 2022 and the present, and how did these contribute to increased productivity and innovation at the company, especially noted by the awards received in 2024?**"
          ],
          [
           "How does Cisco Systems, Inc. plan to support customers in modernizing their infrastructure during fiscal year 2024, particularly in terms of automation and real-time network management?"
          ],
          [
           "What provisions in Netflix, Inc.'s charter documents and Delaware law could discourage a takeover that stockholders might consider favorable as of the fiscal year ended December 31, 2024?"
          ],
          [
           "What are the key factors that Amazon identified as potentially impacting its business in 2024, including technological changes and operational risks?"
          ],
          [
           "How did foreign exchange effects impact Meta Platforms, Inc.’s reported revenue and advertising revenue, and what were the corresponding year-over-year growth rates for these metrics, as reflected in the company’s financial results for the full year ended December 31, 2024?"
          ],
          [
           "How does NVIDIA Corporation’s approach to leveraging its intellectual property and providing GPU-based hardware solutions help automotive partners, tier-1 suppliers, and start-ups address the complex challenges in autonomous driving for fiscal year 2024?"
          ],
          [
           "What criteria did the auditors use to evaluate Alphabet Inc.'s internal control over financial reporting as of December 31, 2024?"
          ],
          [
           "How could changes to legal protections for content moderation and third-party content impact Reddit, Inc.'s potential liability and operational costs for the fiscal year ended December 31, 2024?"
          ],
          [
           "How did Tesla's hiring and development programs contribute to its employee growth and retention in 2024?"
          ],
          [
           "Question:\n\nWhat types of officer certificates and forms of global notes related to Apple Inc.’s debt due between 2026 and 2053 were included in the Form 8-K exhibit during the fiscal year ended September 28, 2024, and what are the respective interest rates for each note?"
          ]
         ],
         "hovertemplate": "Metric=%{x}<br>Score=%{y}<br>question=%{customdata[0]}<extra></extra>",
         "legendgroup": "",
         "marker": {
          "color": "#636efa"
         },
         "name": "",
         "notched": false,
         "offsetgroup": "",
         "orientation": "v",
         "showlegend": false,
         "type": "box",
         "x": [
          "Factual Correctness",
          "Factual Correctness",
          "Factual Correctness",
          "Factual Correctness",
          "Factual Correctness",
          "Factual Correctness",
          "Factual Correctness",
          "Factual Correctness",
          "Factual Correctness",
          "Factual Correctness",
          "Factual Correctness",
          "Completeness",
          "Completeness",
          "Completeness",
          "Completeness",
          "Completeness",
          "Completeness",
          "Completeness",
          "Completeness",
          "Completeness",
          "Completeness",
          "Completeness",
          "Clarity",
          "Clarity",
          "Clarity",
          "Clarity",
          "Clarity",
          "Clarity",
          "Clarity",
          "Clarity",
          "Clarity",
          "Clarity",
          "Clarity",
          "Overall",
          "Overall",
          "Overall",
          "Overall",
          "Overall",
          "Overall",
          "Overall",
          "Overall",
          "Overall",
          "Overall",
          "Overall"
         ],
         "x0": " ",
         "xaxis": "x",
         "y": [
          5,
          2,
          5,
          5,
          4,
          3,
          2,
          5,
          4,
          2,
          3,
          4,
          2,
          5,
          5,
          4,
          2,
          1,
          5,
          4,
          2,
          3,
          5,
          4,
          5,
          5,
          5,
          4,
          4,
          5,
          5,
          5,
          5,
          4.666666666666667,
          2.6666666666666665,
          5,
          5,
          4.333333333333333,
          3,
          2.3333333333333335,
          5,
          4.333333333333333,
          3,
          3.6666666666666665
         ],
         "y0": " ",
         "yaxis": "y"
        }
       ],
       "layout": {
        "boxmode": "group",
        "height": 500,
        "legend": {
         "tracegroupgap": 0
        },
        "template": {
         "data": {
          "bar": [
           {
            "error_x": {
             "color": "#2a3f5f"
            },
            "error_y": {
             "color": "#2a3f5f"
            },
            "marker": {
             "line": {
              "color": "#E5ECF6",
              "width": 0.5
             },
             "pattern": {
              "fillmode": "overlay",
              "size": 10,
              "solidity": 0.2
             }
            },
            "type": "bar"
           }
          ],
          "barpolar": [
           {
            "marker": {
             "line": {
              "color": "#E5ECF6",
              "width": 0.5
             },
             "pattern": {
              "fillmode": "overlay",
              "size": 10,
              "solidity": 0.2
             }
            },
            "type": "barpolar"
           }
          ],
          "carpet": [
           {
            "aaxis": {
             "endlinecolor": "#2a3f5f",
             "gridcolor": "white",
             "linecolor": "white",
             "minorgridcolor": "white",
             "startlinecolor": "#2a3f5f"
            },
            "baxis": {
             "endlinecolor": "#2a3f5f",
             "gridcolor": "white",
             "linecolor": "white",
             "minorgridcolor": "white",
             "startlinecolor": "#2a3f5f"
            },
            "type": "carpet"
           }
          ],
          "choropleth": [
           {
            "colorbar": {
             "outlinewidth": 0,
             "ticks": ""
            },
            "type": "choropleth"
           }
          ],
          "contour": [
           {
            "colorbar": {
             "outlinewidth": 0,
             "ticks": ""
            },
            "colorscale": [
             [
              0,
              "#0d0887"
             ],
             [
              0.1111111111111111,
              "#46039f"
             ],
             [
              0.2222222222222222,
              "#7201a8"
             ],
             [
              0.3333333333333333,
              "#9c179e"
             ],
             [
              0.4444444444444444,
              "#bd3786"
             ],
             [
              0.5555555555555556,
              "#d8576b"
             ],
             [
              0.6666666666666666,
              "#ed7953"
             ],
             [
              0.7777777777777778,
              "#fb9f3a"
             ],
             [
              0.8888888888888888,
              "#fdca26"
             ],
             [
              1,
              "#f0f921"
             ]
            ],
            "type": "contour"
           }
          ],
          "contourcarpet": [
           {
            "colorbar": {
             "outlinewidth": 0,
             "ticks": ""
            },
            "type": "contourcarpet"
           }
          ],
          "heatmap": [
           {
            "colorbar": {
             "outlinewidth": 0,
             "ticks": ""
            },
            "colorscale": [
             [
              0,
              "#0d0887"
             ],
             [
              0.1111111111111111,
              "#46039f"
             ],
             [
              0.2222222222222222,
              "#7201a8"
             ],
             [
              0.3333333333333333,
              "#9c179e"
             ],
             [
              0.4444444444444444,
              "#bd3786"
             ],
             [
              0.5555555555555556,
              "#d8576b"
             ],
             [
              0.6666666666666666,
              "#ed7953"
             ],
             [
              0.7777777777777778,
              "#fb9f3a"
             ],
             [
              0.8888888888888888,
              "#fdca26"
             ],
             [
              1,
              "#f0f921"
             ]
            ],
            "type": "heatmap"
           }
          ],
          "heatmapgl": [
           {
            "colorbar": {
             "outlinewidth": 0,
             "ticks": ""
            },
            "colorscale": [
             [
              0,
              "#0d0887"
             ],
             [
              0.1111111111111111,
              "#46039f"
             ],
             [
              0.2222222222222222,
              "#7201a8"
             ],
             [
              0.3333333333333333,
              "#9c179e"
             ],
             [
              0.4444444444444444,
              "#bd3786"
             ],
             [
              0.5555555555555556,
              "#d8576b"
             ],
             [
              0.6666666666666666,
              "#ed7953"
             ],
             [
              0.7777777777777778,
              "#fb9f3a"
             ],
             [
              0.8888888888888888,
              "#fdca26"
             ],
             [
              1,
              "#f0f921"
             ]
            ],
            "type": "heatmapgl"
           }
          ],
          "histogram": [
           {
            "marker": {
             "pattern": {
              "fillmode": "overlay",
              "size": 10,
              "solidity": 0.2
             }
            },
            "type": "histogram"
           }
          ],
          "histogram2d": [
           {
            "colorbar": {
             "outlinewidth": 0,
             "ticks": ""
            },
            "colorscale": [
             [
              0,
              "#0d0887"
             ],
             [
              0.1111111111111111,
              "#46039f"
             ],
             [
              0.2222222222222222,
              "#7201a8"
             ],
             [
              0.3333333333333333,
              "#9c179e"
             ],
             [
              0.4444444444444444,
              "#bd3786"
             ],
             [
              0.5555555555555556,
              "#d8576b"
             ],
             [
              0.6666666666666666,
              "#ed7953"
             ],
             [
              0.7777777777777778,
              "#fb9f3a"
             ],
             [
              0.8888888888888888,
              "#fdca26"
             ],
             [
              1,
              "#f0f921"
             ]
            ],
            "type": "histogram2d"
           }
          ],
          "histogram2dcontour": [
           {
            "colorbar": {
             "outlinewidth": 0,
             "ticks": ""
            },
            "colorscale": [
             [
              0,
              "#0d0887"
             ],
             [
              0.1111111111111111,
              "#46039f"
             ],
             [
              0.2222222222222222,
              "#7201a8"
             ],
             [
              0.3333333333333333,
              "#9c179e"
             ],
             [
              0.4444444444444444,
              "#bd3786"
             ],
             [
              0.5555555555555556,
              "#d8576b"
             ],
             [
              0.6666666666666666,
              "#ed7953"
             ],
             [
              0.7777777777777778,
              "#fb9f3a"
             ],
             [
              0.8888888888888888,
              "#fdca26"
             ],
             [
              1,
              "#f0f921"
             ]
            ],
            "type": "histogram2dcontour"
           }
          ],
          "mesh3d": [
           {
            "colorbar": {
             "outlinewidth": 0,
             "ticks": ""
            },
            "type": "mesh3d"
           }
          ],
          "parcoords": [
           {
            "line": {
             "colorbar": {
              "outlinewidth": 0,
              "ticks": ""
             }
            },
            "type": "parcoords"
           }
          ],
          "pie": [
           {
            "automargin": true,
            "type": "pie"
           }
          ],
          "scatter": [
           {
            "fillpattern": {
             "fillmode": "overlay",
             "size": 10,
             "solidity": 0.2
            },
            "type": "scatter"
           }
          ],
          "scatter3d": [
           {
            "line": {
             "colorbar": {
              "outlinewidth": 0,
              "ticks": ""
             }
            },
            "marker": {
             "colorbar": {
              "outlinewidth": 0,
              "ticks": ""
             }
            },
            "type": "scatter3d"
           }
          ],
          "scattercarpet": [
           {
            "marker": {
             "colorbar": {
              "outlinewidth": 0,
              "ticks": ""
             }
            },
            "type": "scattercarpet"
           }
          ],
          "scattergeo": [
           {
            "marker": {
             "colorbar": {
              "outlinewidth": 0,
              "ticks": ""
             }
            },
            "type": "scattergeo"
           }
          ],
          "scattergl": [
           {
            "marker": {
             "colorbar": {
              "outlinewidth": 0,
              "ticks": ""
             }
            },
            "type": "scattergl"
           }
          ],
          "scattermapbox": [
           {
            "marker": {
             "colorbar": {
              "outlinewidth": 0,
              "ticks": ""
             }
            },
            "type": "scattermapbox"
           }
          ],
          "scatterpolar": [
           {
            "marker": {
             "colorbar": {
              "outlinewidth": 0,
              "ticks": ""
             }
            },
            "type": "scatterpolar"
           }
          ],
          "scatterpolargl": [
           {
            "marker": {
             "colorbar": {
              "outlinewidth": 0,
              "ticks": ""
             }
            },
            "type": "scatterpolargl"
           }
          ],
          "scatterternary": [
           {
            "marker": {
             "colorbar": {
              "outlinewidth": 0,
              "ticks": ""
             }
            },
            "type": "scatterternary"
           }
          ],
          "surface": [
           {
            "colorbar": {
             "outlinewidth": 0,
             "ticks": ""
            },
            "colorscale": [
             [
              0,
              "#0d0887"
             ],
             [
              0.1111111111111111,
              "#46039f"
             ],
             [
              0.2222222222222222,
              "#7201a8"
             ],
             [
              0.3333333333333333,
              "#9c179e"
             ],
             [
              0.4444444444444444,
              "#bd3786"
             ],
             [
              0.5555555555555556,
              "#d8576b"
             ],
             [
              0.6666666666666666,
              "#ed7953"
             ],
             [
              0.7777777777777778,
              "#fb9f3a"
             ],
             [
              0.8888888888888888,
              "#fdca26"
             ],
             [
              1,
              "#f0f921"
             ]
            ],
            "type": "surface"
           }
          ],
          "table": [
           {
            "cells": {
             "fill": {
              "color": "#EBF0F8"
             },
             "line": {
              "color": "white"
             }
            },
            "header": {
             "fill": {
              "color": "#C8D4E3"
             },
             "line": {
              "color": "white"
             }
            },
            "type": "table"
           }
          ]
         },
         "layout": {
          "annotationdefaults": {
           "arrowcolor": "#2a3f5f",
           "arrowhead": 0,
           "arrowwidth": 1
          },
          "autotypenumbers": "strict",
          "coloraxis": {
           "colorbar": {
            "outlinewidth": 0,
            "ticks": ""
           }
          },
          "colorscale": {
           "diverging": [
            [
             0,
             "#8e0152"
            ],
            [
             0.1,
             "#c51b7d"
            ],
            [
             0.2,
             "#de77ae"
            ],
            [
             0.3,
             "#f1b6da"
            ],
            [
             0.4,
             "#fde0ef"
            ],
            [
             0.5,
             "#f7f7f7"
            ],
            [
             0.6,
             "#e6f5d0"
            ],
            [
             0.7,
             "#b8e186"
            ],
            [
             0.8,
             "#7fbc41"
            ],
            [
             0.9,
             "#4d9221"
            ],
            [
             1,
             "#276419"
            ]
           ],
           "sequential": [
            [
             0,
             "#0d0887"
            ],
            [
             0.1111111111111111,
             "#46039f"
            ],
            [
             0.2222222222222222,
             "#7201a8"
            ],
            [
             0.3333333333333333,
             "#9c179e"
            ],
            [
             0.4444444444444444,
             "#bd3786"
            ],
            [
             0.5555555555555556,
             "#d8576b"
            ],
            [
             0.6666666666666666,
             "#ed7953"
            ],
            [
             0.7777777777777778,
             "#fb9f3a"
            ],
            [
             0.8888888888888888,
             "#fdca26"
            ],
            [
             1,
             "#f0f921"
            ]
           ],
           "sequentialminus": [
            [
             0,
             "#0d0887"
            ],
            [
             0.1111111111111111,
             "#46039f"
            ],
            [
             0.2222222222222222,
             "#7201a8"
            ],
            [
             0.3333333333333333,
             "#9c179e"
            ],
            [
             0.4444444444444444,
             "#bd3786"
            ],
            [
             0.5555555555555556,
             "#d8576b"
            ],
            [
             0.6666666666666666,
             "#ed7953"
            ],
            [
             0.7777777777777778,
             "#fb9f3a"
            ],
            [
             0.8888888888888888,
             "#fdca26"
            ],
            [
             1,
             "#f0f921"
            ]
           ]
          },
          "colorway": [
           "#636efa",
           "#EF553B",
           "#00cc96",
           "#ab63fa",
           "#FFA15A",
           "#19d3f3",
           "#FF6692",
           "#B6E880",
           "#FF97FF",
           "#FECB52"
          ],
          "font": {
           "color": "#2a3f5f"
          },
          "geo": {
           "bgcolor": "white",
           "lakecolor": "white",
           "landcolor": "#E5ECF6",
           "showlakes": true,
           "showland": true,
           "subunitcolor": "white"
          },
          "hoverlabel": {
           "align": "left"
          },
          "hovermode": "closest",
          "mapbox": {
           "style": "light"
          },
          "paper_bgcolor": "white",
          "plot_bgcolor": "#E5ECF6",
          "polar": {
           "angularaxis": {
            "gridcolor": "white",
            "linecolor": "white",
            "ticks": ""
           },
           "bgcolor": "#E5ECF6",
           "radialaxis": {
            "gridcolor": "white",
            "linecolor": "white",
            "ticks": ""
           }
          },
          "scene": {
           "xaxis": {
            "backgroundcolor": "#E5ECF6",
            "gridcolor": "white",
            "gridwidth": 2,
            "linecolor": "white",
            "showbackground": true,
            "ticks": "",
            "zerolinecolor": "white"
           },
           "yaxis": {
            "backgroundcolor": "#E5ECF6",
            "gridcolor": "white",
            "gridwidth": 2,
            "linecolor": "white",
            "showbackground": true,
            "ticks": "",
            "zerolinecolor": "white"
           },
           "zaxis": {
            "backgroundcolor": "#E5ECF6",
            "gridcolor": "white",
            "gridwidth": 2,
            "linecolor": "white",
            "showbackground": true,
            "ticks": "",
            "zerolinecolor": "white"
           }
          },
          "shapedefaults": {
           "line": {
            "color": "#2a3f5f"
           }
          },
          "ternary": {
           "aaxis": {
            "gridcolor": "white",
            "linecolor": "white",
            "ticks": ""
           },
           "baxis": {
            "gridcolor": "white",
            "linecolor": "white",
            "ticks": ""
           },
           "bgcolor": "#E5ECF6",
           "caxis": {
            "gridcolor": "white",
            "linecolor": "white",
            "ticks": ""
           }
          },
          "title": {
           "x": 0.05
          },
          "xaxis": {
           "automargin": true,
           "gridcolor": "white",
           "linecolor": "white",
           "ticks": "",
           "title": {
            "standoff": 15
           },
           "zerolinecolor": "white",
           "zerolinewidth": 2
          },
          "yaxis": {
           "automargin": true,
           "gridcolor": "white",
           "linecolor": "white",
           "ticks": "",
           "title": {
            "standoff": 15
           },
           "zerolinecolor": "white",
           "zerolinewidth": 2
          }
         }
        },
        "title": {
         "text": "Score Distributions per Metric (with Overall Score)"
        },
        "xaxis": {
         "anchor": "y",
         "domain": [
          0,
          1
         ],
         "title": {
          "text": "Metric"
         }
        },
        "yaxis": {
         "anchor": "x",
         "domain": [
          0,
          1
         ],
         "dtick": 1,
         "range": [
          0,
          6
         ],
         "title": {
          "text": "Score (1-5)"
         }
        }
       }
      }
     },
     "metadata": {},
     "output_type": "display_data"
    }
   ],
   "source": [
    "import plotly.express as px\n",
    "import pandas as pd\n",
    "\n",
    "# Make sure relevant columns are numeric\n",
    "numeric_cols = [\n",
    "    'evaluation_factual_correctness_score', \n",
    "    'evaluation_completeness_score', \n",
    "    'evaluation_clarity_score'\n",
    "]\n",
    "\n",
    "df = final_df.copy()\n",
    "for col in numeric_cols:\n",
    "    df[col] = pd.to_numeric(df[col], errors='coerce')  # convert invalid to NaN\n",
    "\n",
    "# Calculate overall average score per question\n",
    "df['overall_score'] = df[numeric_cols].mean(axis=1)\n",
    "\n",
    "# Melt DataFrame to long format (including overall score)\n",
    "melted_df = df.melt(\n",
    "    id_vars=['question'],\n",
    "    value_vars=numeric_cols + ['overall_score'],\n",
    "    var_name='Metric',\n",
    "    value_name='Score'\n",
    ")\n",
    "\n",
    "# Clean up metric names for display\n",
    "melted_df['Metric'] = (\n",
    "    melted_df['Metric']\n",
    "    .str.replace('evaluation_', '', regex=False)\n",
    "    .str.replace('_score', '', regex=False)\n",
    "    .str.replace('_', ' ')\n",
    "    .str.title()\n",
    ")\n",
    "\n",
    "# Drop rows with missing scores (optional, if needed)\n",
    "melted_df = melted_df.dropna(subset=['Score'])\n",
    "\n",
    "# Plot boxplot\n",
    "fig = px.box(\n",
    "    melted_df,\n",
    "    x='Metric',\n",
    "    y='Score',\n",
    "    points='all',  # show individual points\n",
    "    hover_data=['question'],\n",
    "    title='Score Distributions per Metric (with Overall Score)',\n",
    "    height=500\n",
    ")\n",
    "\n",
    "fig.update_layout(\n",
    "    yaxis=dict(range=[0, 6], dtick=1),\n",
    "    xaxis_title='Metric',\n",
    "    yaxis_title='Score (1-5)'\n",
    ")\n",
    "\n",
    "fig.show()\n"
   ]
  },
  {
   "cell_type": "code",
   "execution_count": 276,
   "metadata": {},
   "outputs": [
    {
     "data": {
      "application/vnd.plotly.v1+json": {
       "config": {
        "plotlyServerURL": "https://plot.ly"
       },
       "data": [
        {
         "colorscale": [
          [
           0,
           "rgb(247,251,255)"
          ],
          [
           0.125,
           "rgb(222,235,247)"
          ],
          [
           0.25,
           "rgb(198,219,239)"
          ],
          [
           0.375,
           "rgb(158,202,225)"
          ],
          [
           0.5,
           "rgb(107,174,214)"
          ],
          [
           0.625,
           "rgb(66,146,198)"
          ],
          [
           0.75,
           "rgb(33,113,181)"
          ],
          [
           0.875,
           "rgb(8,81,156)"
          ],
          [
           1,
           "rgb(8,48,107)"
          ]
         ],
         "reversescale": false,
         "showscale": true,
         "type": "heatmap",
         "x": [
          "evaluation_factual_correctness_score",
          "evaluation_completeness_score",
          "evaluation_clarity_score",
          "overall_score"
         ],
         "y": [
          "evaluation_factual_correctness_score",
          "evaluation_completeness_score",
          "evaluation_clarity_score",
          "overall_score"
         ],
         "z": [
          [
           1,
           0.95,
           0.65,
           0.97
          ],
          [
           0.95,
           1,
           0.76,
           0.99
          ],
          [
           0.65,
           0.76,
           1,
           0.79
          ],
          [
           0.97,
           0.99,
           0.79,
           1
          ]
         ]
        }
       ],
       "layout": {
        "annotations": [
         {
          "font": {
           "color": "#FFFFFF"
          },
          "showarrow": false,
          "text": "1.0",
          "x": "evaluation_factual_correctness_score",
          "xref": "x",
          "y": "evaluation_factual_correctness_score",
          "yref": "y"
         },
         {
          "font": {
           "color": "#FFFFFF"
          },
          "showarrow": false,
          "text": "0.95",
          "x": "evaluation_completeness_score",
          "xref": "x",
          "y": "evaluation_factual_correctness_score",
          "yref": "y"
         },
         {
          "font": {
           "color": "#000000"
          },
          "showarrow": false,
          "text": "0.65",
          "x": "evaluation_clarity_score",
          "xref": "x",
          "y": "evaluation_factual_correctness_score",
          "yref": "y"
         },
         {
          "font": {
           "color": "#FFFFFF"
          },
          "showarrow": false,
          "text": "0.97",
          "x": "overall_score",
          "xref": "x",
          "y": "evaluation_factual_correctness_score",
          "yref": "y"
         },
         {
          "font": {
           "color": "#FFFFFF"
          },
          "showarrow": false,
          "text": "0.95",
          "x": "evaluation_factual_correctness_score",
          "xref": "x",
          "y": "evaluation_completeness_score",
          "yref": "y"
         },
         {
          "font": {
           "color": "#FFFFFF"
          },
          "showarrow": false,
          "text": "1.0",
          "x": "evaluation_completeness_score",
          "xref": "x",
          "y": "evaluation_completeness_score",
          "yref": "y"
         },
         {
          "font": {
           "color": "#000000"
          },
          "showarrow": false,
          "text": "0.76",
          "x": "evaluation_clarity_score",
          "xref": "x",
          "y": "evaluation_completeness_score",
          "yref": "y"
         },
         {
          "font": {
           "color": "#FFFFFF"
          },
          "showarrow": false,
          "text": "0.99",
          "x": "overall_score",
          "xref": "x",
          "y": "evaluation_completeness_score",
          "yref": "y"
         },
         {
          "font": {
           "color": "#000000"
          },
          "showarrow": false,
          "text": "0.65",
          "x": "evaluation_factual_correctness_score",
          "xref": "x",
          "y": "evaluation_clarity_score",
          "yref": "y"
         },
         {
          "font": {
           "color": "#000000"
          },
          "showarrow": false,
          "text": "0.76",
          "x": "evaluation_completeness_score",
          "xref": "x",
          "y": "evaluation_clarity_score",
          "yref": "y"
         },
         {
          "font": {
           "color": "#FFFFFF"
          },
          "showarrow": false,
          "text": "1.0",
          "x": "evaluation_clarity_score",
          "xref": "x",
          "y": "evaluation_clarity_score",
          "yref": "y"
         },
         {
          "font": {
           "color": "#000000"
          },
          "showarrow": false,
          "text": "0.79",
          "x": "overall_score",
          "xref": "x",
          "y": "evaluation_clarity_score",
          "yref": "y"
         },
         {
          "font": {
           "color": "#FFFFFF"
          },
          "showarrow": false,
          "text": "0.97",
          "x": "evaluation_factual_correctness_score",
          "xref": "x",
          "y": "overall_score",
          "yref": "y"
         },
         {
          "font": {
           "color": "#FFFFFF"
          },
          "showarrow": false,
          "text": "0.99",
          "x": "evaluation_completeness_score",
          "xref": "x",
          "y": "overall_score",
          "yref": "y"
         },
         {
          "font": {
           "color": "#000000"
          },
          "showarrow": false,
          "text": "0.79",
          "x": "evaluation_clarity_score",
          "xref": "x",
          "y": "overall_score",
          "yref": "y"
         },
         {
          "font": {
           "color": "#FFFFFF"
          },
          "showarrow": false,
          "text": "1.0",
          "x": "overall_score",
          "xref": "x",
          "y": "overall_score",
          "yref": "y"
         }
        ],
        "height": 600,
        "template": {
         "data": {
          "bar": [
           {
            "error_x": {
             "color": "#2a3f5f"
            },
            "error_y": {
             "color": "#2a3f5f"
            },
            "marker": {
             "line": {
              "color": "#E5ECF6",
              "width": 0.5
             },
             "pattern": {
              "fillmode": "overlay",
              "size": 10,
              "solidity": 0.2
             }
            },
            "type": "bar"
           }
          ],
          "barpolar": [
           {
            "marker": {
             "line": {
              "color": "#E5ECF6",
              "width": 0.5
             },
             "pattern": {
              "fillmode": "overlay",
              "size": 10,
              "solidity": 0.2
             }
            },
            "type": "barpolar"
           }
          ],
          "carpet": [
           {
            "aaxis": {
             "endlinecolor": "#2a3f5f",
             "gridcolor": "white",
             "linecolor": "white",
             "minorgridcolor": "white",
             "startlinecolor": "#2a3f5f"
            },
            "baxis": {
             "endlinecolor": "#2a3f5f",
             "gridcolor": "white",
             "linecolor": "white",
             "minorgridcolor": "white",
             "startlinecolor": "#2a3f5f"
            },
            "type": "carpet"
           }
          ],
          "choropleth": [
           {
            "colorbar": {
             "outlinewidth": 0,
             "ticks": ""
            },
            "type": "choropleth"
           }
          ],
          "contour": [
           {
            "colorbar": {
             "outlinewidth": 0,
             "ticks": ""
            },
            "colorscale": [
             [
              0,
              "#0d0887"
             ],
             [
              0.1111111111111111,
              "#46039f"
             ],
             [
              0.2222222222222222,
              "#7201a8"
             ],
             [
              0.3333333333333333,
              "#9c179e"
             ],
             [
              0.4444444444444444,
              "#bd3786"
             ],
             [
              0.5555555555555556,
              "#d8576b"
             ],
             [
              0.6666666666666666,
              "#ed7953"
             ],
             [
              0.7777777777777778,
              "#fb9f3a"
             ],
             [
              0.8888888888888888,
              "#fdca26"
             ],
             [
              1,
              "#f0f921"
             ]
            ],
            "type": "contour"
           }
          ],
          "contourcarpet": [
           {
            "colorbar": {
             "outlinewidth": 0,
             "ticks": ""
            },
            "type": "contourcarpet"
           }
          ],
          "heatmap": [
           {
            "colorbar": {
             "outlinewidth": 0,
             "ticks": ""
            },
            "colorscale": [
             [
              0,
              "#0d0887"
             ],
             [
              0.1111111111111111,
              "#46039f"
             ],
             [
              0.2222222222222222,
              "#7201a8"
             ],
             [
              0.3333333333333333,
              "#9c179e"
             ],
             [
              0.4444444444444444,
              "#bd3786"
             ],
             [
              0.5555555555555556,
              "#d8576b"
             ],
             [
              0.6666666666666666,
              "#ed7953"
             ],
             [
              0.7777777777777778,
              "#fb9f3a"
             ],
             [
              0.8888888888888888,
              "#fdca26"
             ],
             [
              1,
              "#f0f921"
             ]
            ],
            "type": "heatmap"
           }
          ],
          "heatmapgl": [
           {
            "colorbar": {
             "outlinewidth": 0,
             "ticks": ""
            },
            "colorscale": [
             [
              0,
              "#0d0887"
             ],
             [
              0.1111111111111111,
              "#46039f"
             ],
             [
              0.2222222222222222,
              "#7201a8"
             ],
             [
              0.3333333333333333,
              "#9c179e"
             ],
             [
              0.4444444444444444,
              "#bd3786"
             ],
             [
              0.5555555555555556,
              "#d8576b"
             ],
             [
              0.6666666666666666,
              "#ed7953"
             ],
             [
              0.7777777777777778,
              "#fb9f3a"
             ],
             [
              0.8888888888888888,
              "#fdca26"
             ],
             [
              1,
              "#f0f921"
             ]
            ],
            "type": "heatmapgl"
           }
          ],
          "histogram": [
           {
            "marker": {
             "pattern": {
              "fillmode": "overlay",
              "size": 10,
              "solidity": 0.2
             }
            },
            "type": "histogram"
           }
          ],
          "histogram2d": [
           {
            "colorbar": {
             "outlinewidth": 0,
             "ticks": ""
            },
            "colorscale": [
             [
              0,
              "#0d0887"
             ],
             [
              0.1111111111111111,
              "#46039f"
             ],
             [
              0.2222222222222222,
              "#7201a8"
             ],
             [
              0.3333333333333333,
              "#9c179e"
             ],
             [
              0.4444444444444444,
              "#bd3786"
             ],
             [
              0.5555555555555556,
              "#d8576b"
             ],
             [
              0.6666666666666666,
              "#ed7953"
             ],
             [
              0.7777777777777778,
              "#fb9f3a"
             ],
             [
              0.8888888888888888,
              "#fdca26"
             ],
             [
              1,
              "#f0f921"
             ]
            ],
            "type": "histogram2d"
           }
          ],
          "histogram2dcontour": [
           {
            "colorbar": {
             "outlinewidth": 0,
             "ticks": ""
            },
            "colorscale": [
             [
              0,
              "#0d0887"
             ],
             [
              0.1111111111111111,
              "#46039f"
             ],
             [
              0.2222222222222222,
              "#7201a8"
             ],
             [
              0.3333333333333333,
              "#9c179e"
             ],
             [
              0.4444444444444444,
              "#bd3786"
             ],
             [
              0.5555555555555556,
              "#d8576b"
             ],
             [
              0.6666666666666666,
              "#ed7953"
             ],
             [
              0.7777777777777778,
              "#fb9f3a"
             ],
             [
              0.8888888888888888,
              "#fdca26"
             ],
             [
              1,
              "#f0f921"
             ]
            ],
            "type": "histogram2dcontour"
           }
          ],
          "mesh3d": [
           {
            "colorbar": {
             "outlinewidth": 0,
             "ticks": ""
            },
            "type": "mesh3d"
           }
          ],
          "parcoords": [
           {
            "line": {
             "colorbar": {
              "outlinewidth": 0,
              "ticks": ""
             }
            },
            "type": "parcoords"
           }
          ],
          "pie": [
           {
            "automargin": true,
            "type": "pie"
           }
          ],
          "scatter": [
           {
            "fillpattern": {
             "fillmode": "overlay",
             "size": 10,
             "solidity": 0.2
            },
            "type": "scatter"
           }
          ],
          "scatter3d": [
           {
            "line": {
             "colorbar": {
              "outlinewidth": 0,
              "ticks": ""
             }
            },
            "marker": {
             "colorbar": {
              "outlinewidth": 0,
              "ticks": ""
             }
            },
            "type": "scatter3d"
           }
          ],
          "scattercarpet": [
           {
            "marker": {
             "colorbar": {
              "outlinewidth": 0,
              "ticks": ""
             }
            },
            "type": "scattercarpet"
           }
          ],
          "scattergeo": [
           {
            "marker": {
             "colorbar": {
              "outlinewidth": 0,
              "ticks": ""
             }
            },
            "type": "scattergeo"
           }
          ],
          "scattergl": [
           {
            "marker": {
             "colorbar": {
              "outlinewidth": 0,
              "ticks": ""
             }
            },
            "type": "scattergl"
           }
          ],
          "scattermapbox": [
           {
            "marker": {
             "colorbar": {
              "outlinewidth": 0,
              "ticks": ""
             }
            },
            "type": "scattermapbox"
           }
          ],
          "scatterpolar": [
           {
            "marker": {
             "colorbar": {
              "outlinewidth": 0,
              "ticks": ""
             }
            },
            "type": "scatterpolar"
           }
          ],
          "scatterpolargl": [
           {
            "marker": {
             "colorbar": {
              "outlinewidth": 0,
              "ticks": ""
             }
            },
            "type": "scatterpolargl"
           }
          ],
          "scatterternary": [
           {
            "marker": {
             "colorbar": {
              "outlinewidth": 0,
              "ticks": ""
             }
            },
            "type": "scatterternary"
           }
          ],
          "surface": [
           {
            "colorbar": {
             "outlinewidth": 0,
             "ticks": ""
            },
            "colorscale": [
             [
              0,
              "#0d0887"
             ],
             [
              0.1111111111111111,
              "#46039f"
             ],
             [
              0.2222222222222222,
              "#7201a8"
             ],
             [
              0.3333333333333333,
              "#9c179e"
             ],
             [
              0.4444444444444444,
              "#bd3786"
             ],
             [
              0.5555555555555556,
              "#d8576b"
             ],
             [
              0.6666666666666666,
              "#ed7953"
             ],
             [
              0.7777777777777778,
              "#fb9f3a"
             ],
             [
              0.8888888888888888,
              "#fdca26"
             ],
             [
              1,
              "#f0f921"
             ]
            ],
            "type": "surface"
           }
          ],
          "table": [
           {
            "cells": {
             "fill": {
              "color": "#EBF0F8"
             },
             "line": {
              "color": "white"
             }
            },
            "header": {
             "fill": {
              "color": "#C8D4E3"
             },
             "line": {
              "color": "white"
             }
            },
            "type": "table"
           }
          ]
         },
         "layout": {
          "annotationdefaults": {
           "arrowcolor": "#2a3f5f",
           "arrowhead": 0,
           "arrowwidth": 1
          },
          "autotypenumbers": "strict",
          "coloraxis": {
           "colorbar": {
            "outlinewidth": 0,
            "ticks": ""
           }
          },
          "colorscale": {
           "diverging": [
            [
             0,
             "#8e0152"
            ],
            [
             0.1,
             "#c51b7d"
            ],
            [
             0.2,
             "#de77ae"
            ],
            [
             0.3,
             "#f1b6da"
            ],
            [
             0.4,
             "#fde0ef"
            ],
            [
             0.5,
             "#f7f7f7"
            ],
            [
             0.6,
             "#e6f5d0"
            ],
            [
             0.7,
             "#b8e186"
            ],
            [
             0.8,
             "#7fbc41"
            ],
            [
             0.9,
             "#4d9221"
            ],
            [
             1,
             "#276419"
            ]
           ],
           "sequential": [
            [
             0,
             "#0d0887"
            ],
            [
             0.1111111111111111,
             "#46039f"
            ],
            [
             0.2222222222222222,
             "#7201a8"
            ],
            [
             0.3333333333333333,
             "#9c179e"
            ],
            [
             0.4444444444444444,
             "#bd3786"
            ],
            [
             0.5555555555555556,
             "#d8576b"
            ],
            [
             0.6666666666666666,
             "#ed7953"
            ],
            [
             0.7777777777777778,
             "#fb9f3a"
            ],
            [
             0.8888888888888888,
             "#fdca26"
            ],
            [
             1,
             "#f0f921"
            ]
           ],
           "sequentialminus": [
            [
             0,
             "#0d0887"
            ],
            [
             0.1111111111111111,
             "#46039f"
            ],
            [
             0.2222222222222222,
             "#7201a8"
            ],
            [
             0.3333333333333333,
             "#9c179e"
            ],
            [
             0.4444444444444444,
             "#bd3786"
            ],
            [
             0.5555555555555556,
             "#d8576b"
            ],
            [
             0.6666666666666666,
             "#ed7953"
            ],
            [
             0.7777777777777778,
             "#fb9f3a"
            ],
            [
             0.8888888888888888,
             "#fdca26"
            ],
            [
             1,
             "#f0f921"
            ]
           ]
          },
          "colorway": [
           "#636efa",
           "#EF553B",
           "#00cc96",
           "#ab63fa",
           "#FFA15A",
           "#19d3f3",
           "#FF6692",
           "#B6E880",
           "#FF97FF",
           "#FECB52"
          ],
          "font": {
           "color": "#2a3f5f"
          },
          "geo": {
           "bgcolor": "white",
           "lakecolor": "white",
           "landcolor": "#E5ECF6",
           "showlakes": true,
           "showland": true,
           "subunitcolor": "white"
          },
          "hoverlabel": {
           "align": "left"
          },
          "hovermode": "closest",
          "mapbox": {
           "style": "light"
          },
          "paper_bgcolor": "white",
          "plot_bgcolor": "#E5ECF6",
          "polar": {
           "angularaxis": {
            "gridcolor": "white",
            "linecolor": "white",
            "ticks": ""
           },
           "bgcolor": "#E5ECF6",
           "radialaxis": {
            "gridcolor": "white",
            "linecolor": "white",
            "ticks": ""
           }
          },
          "scene": {
           "xaxis": {
            "backgroundcolor": "#E5ECF6",
            "gridcolor": "white",
            "gridwidth": 2,
            "linecolor": "white",
            "showbackground": true,
            "ticks": "",
            "zerolinecolor": "white"
           },
           "yaxis": {
            "backgroundcolor": "#E5ECF6",
            "gridcolor": "white",
            "gridwidth": 2,
            "linecolor": "white",
            "showbackground": true,
            "ticks": "",
            "zerolinecolor": "white"
           },
           "zaxis": {
            "backgroundcolor": "#E5ECF6",
            "gridcolor": "white",
            "gridwidth": 2,
            "linecolor": "white",
            "showbackground": true,
            "ticks": "",
            "zerolinecolor": "white"
           }
          },
          "shapedefaults": {
           "line": {
            "color": "#2a3f5f"
           }
          },
          "ternary": {
           "aaxis": {
            "gridcolor": "white",
            "linecolor": "white",
            "ticks": ""
           },
           "baxis": {
            "gridcolor": "white",
            "linecolor": "white",
            "ticks": ""
           },
           "bgcolor": "#E5ECF6",
           "caxis": {
            "gridcolor": "white",
            "linecolor": "white",
            "ticks": ""
           }
          },
          "title": {
           "x": 0.05
          },
          "xaxis": {
           "automargin": true,
           "gridcolor": "white",
           "linecolor": "white",
           "ticks": "",
           "title": {
            "standoff": 15
           },
           "zerolinecolor": "white",
           "zerolinewidth": 2
          },
          "yaxis": {
           "automargin": true,
           "gridcolor": "white",
           "linecolor": "white",
           "ticks": "",
           "title": {
            "standoff": 15
           },
           "zerolinecolor": "white",
           "zerolinewidth": 2
          }
         }
        },
        "title": {
         "text": "Correlation Heatmap of Evaluation Metrics"
        },
        "width": 600,
        "xaxis": {
         "dtick": 1,
         "gridcolor": "rgb(0, 0, 0)",
         "side": "top",
         "ticks": ""
        },
        "yaxis": {
         "dtick": 1,
         "ticks": "",
         "ticksuffix": "  "
        }
       }
      }
     },
     "metadata": {},
     "output_type": "display_data"
    }
   ],
   "source": [
    "import plotly.figure_factory as ff\n",
    "\n",
    "# Select relevant columns\n",
    "metrics = [\n",
    "    'evaluation_factual_correctness_score',\n",
    "    'evaluation_completeness_score',\n",
    "    'evaluation_clarity_score',\n",
    "    'overall_score'\n",
    "]\n",
    "\n",
    "# Calculate correlation matrix\n",
    "corr_matrix = df[metrics].corr().round(2)\n",
    "\n",
    "# Create heatmap\n",
    "fig = ff.create_annotated_heatmap(\n",
    "    z=corr_matrix.values,\n",
    "    x=corr_matrix.columns.tolist(),\n",
    "    y=corr_matrix.index.tolist(),\n",
    "    annotation_text=corr_matrix.values,\n",
    "    colorscale='Blues',\n",
    "    showscale=True\n",
    ")\n",
    "\n",
    "fig.update_layout(\n",
    "    title='Correlation Heatmap of Evaluation Metrics',\n",
    "    width=600,\n",
    "    height=600\n",
    ")\n",
    "\n",
    "fig.show()\n"
   ]
  },
  {
   "cell_type": "code",
   "execution_count": 277,
   "metadata": {},
   "outputs": [
    {
     "name": "stdout",
     "output_type": "stream",
     "text": [
      "Worst Answer by Overall Score: 2.3333333333333335\n",
      "Question: How does NVIDIA Corporation’s approach to leveraging its intellectual property and providing GPU-based hardware solutions help automotive partners, tier-1 suppliers, and start-ups address the complex challenges in autonomous driving for fiscal year 2024?\n",
      "Reasons: The model answer includes extensive details about NVIDIA's autonomous vehicle platforms and software ecosystem (DGX, Omniverse, DRIVE AGX, Halos) that are not present in the provided document chunk, which only broadly states that NVIDIA provides GPU-based hardware and licenses IP to automotive partners and tier-1 suppliers to solve complex autonomous driving challenges. The detailed references to specific products, simulation tools, safety frameworks, and ecosystem support are unsupported by the chunk. Therefore, the answer contains major factual inaccuracies relative to the source and misses the key insight from the chunk about IP licensing and collaboration. Clarity is good, but the answer does not align with or rely on the provided document chunk, resulting in low factual correctness and completeness.\n"
     ]
    }
   ],
   "source": [
    "#Worst answer by overall\n",
    "worst_answer = df.loc[df['overall_score'].idxmin()]\n",
    "print(f\"Worst Answer by Overall Score: {df['overall_score'].min()}\")\n",
    "print(f\"Question: {worst_answer['question']}\")\n",
    "# print(f\"Answer: {worst_answer['answer']}\")\n",
    "print(f\"Reasons: {worst_answer['evaluation_comments']}\")  "
   ]
  },
  {
   "cell_type": "code",
   "execution_count": null,
   "metadata": {},
   "outputs": [],
   "source": []
  }
 ],
 "metadata": {
  "kernelspec": {
   "display_name": "Python 3",
   "language": "python",
   "name": "python3"
  },
  "language_info": {
   "codemirror_mode": {
    "name": "ipython",
    "version": 3
   },
   "file_extension": ".py",
   "mimetype": "text/x-python",
   "name": "python",
   "nbconvert_exporter": "python",
   "pygments_lexer": "ipython3",
   "version": "3.9.6"
  }
 },
 "nbformat": 4,
 "nbformat_minor": 2
}
