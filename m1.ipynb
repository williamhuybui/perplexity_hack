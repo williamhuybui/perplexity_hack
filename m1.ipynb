{
 "cells": [
  {
   "cell_type": "markdown",
   "id": "c1fda86b",
   "metadata": {},
   "source": [
    "### Model 1"
   ]
  },
  {
   "cell_type": "code",
   "execution_count": 1,
   "id": "379a3eec",
   "metadata": {},
   "outputs": [
    {
     "name": "stdout",
     "output_type": "stream",
     "text": [
      "Loaded 1182 total documents.\n"
     ]
    },
    {
     "name": "stderr",
     "output_type": "stream",
     "text": [
      "C:\\Users\\Lan Dao\\AppData\\Local\\Temp\\ipykernel_22400\\4194669956.py:41: LangChainDeprecationWarning: The class `HuggingFaceEmbeddings` was deprecated in LangChain 0.2.2 and will be removed in 1.0. An updated version of the class exists in the :class:`~langchain-huggingface package and should be used instead. To use it run `pip install -U :class:`~langchain-huggingface` and import as `from :class:`~langchain_huggingface import HuggingFaceEmbeddings``.\n",
      "  hf = HuggingFaceEmbeddings(\n",
      "c:\\Users\\Lan Dao\\AppData\\Local\\Programs\\Python\\Python39\\lib\\site-packages\\tqdm\\auto.py:21: TqdmWarning: IProgress not found. Please update jupyter and ipywidgets. See https://ipywidgets.readthedocs.io/en/stable/user_install.html\n",
      "  from .autonotebook import tqdm as notebook_tqdm\n",
      "C:\\Users\\Lan Dao\\AppData\\Local\\Temp\\ipykernel_22400\\4194669956.py:55: LangChainDeprecationWarning: The class `ChatPerplexity` was deprecated in LangChain 0.3.21 and will be removed in 1.0. An updated version of the class exists in the :class:`~langchain-perplexity package and should be used instead. To use it run `pip install -U :class:`~langchain-perplexity` and import as `from :class:`~langchain_perplexity import ChatPerplexity``.\n",
      "  llm = ChatPerplexity(\n"
     ]
    }
   ],
   "source": [
    "from langchain.document_loaders import PyMuPDFLoader\n",
    "from langchain.text_splitter import RecursiveCharacterTextSplitter\n",
    "from langchain.embeddings import HuggingFaceEmbeddings\n",
    "from langchain.vectorstores import FAISS\n",
    "from langchain_community.chat_models import ChatPerplexity\n",
    "from langchain.chains import RetrievalQA\n",
    "import os\n",
    "\n",
    "PDF_FOLDER = \"data\"\n",
    "CHUNK_SIZE = 5000\n",
    "CHUNK_OVERLAP = 500\n",
    "VECTOR_STORE_DIR = \"chroma_index_finance\"\n",
    "LOG_FILE = \"qa_log_1.csv\"\n",
    "\n",
    "# === Load all PDFs ===\n",
    "all_documents = []\n",
    "for filename in os.listdir(PDF_FOLDER):\n",
    "    if filename.endswith(\".pdf\"):\n",
    "        file_path = os.path.join(PDF_FOLDER, filename)\n",
    "        loader = PyMuPDFLoader(file_path)\n",
    "        documents = loader.load()\n",
    "        for doc in documents:\n",
    "            doc.metadata[\"source\"] = filename  # track which PDF it came from\n",
    "        all_documents.extend(documents)\n",
    "\n",
    "print(f\"Loaded {len(all_documents)} total documents.\")\n",
    "\n",
    "# === Split text into chunks ===\n",
    "text_splitter = RecursiveCharacterTextSplitter(chunk_size=CHUNK_SIZE, chunk_overlap=CHUNK_OVERLAP)\n",
    "chunks = text_splitter.split_documents(all_documents)\n",
    "\n",
    "# Add unique chunk IDs and ensure source is in metadata\n",
    "for i, doc in enumerate(chunks):\n",
    "    doc.metadata[\"chunk_id\"] = i\n",
    "    doc.metadata[\"source\"] = doc.metadata.get(\"source\", \"unknown\")\n",
    "\n",
    "#Embbedding\n",
    "model_name = \"sentence-transformers/all-mpnet-base-v2\"\n",
    "model_kwargs = {'device': 'cpu'}\n",
    "encode_kwargs = {'normalize_embeddings': False} #False Euclidean, True cosine similarity\n",
    "hf = HuggingFaceEmbeddings(\n",
    "    model_name=model_name,\n",
    "    model_kwargs=model_kwargs,\n",
    "    encode_kwargs=encode_kwargs\n",
    ")\n",
    "\n",
    "#Vector Store\n",
    "vector_store = FAISS.from_documents(chunks, hf)\n",
    "vector_store.save_local(\"faiss_index_open\")\n",
    "\n",
    "#Retriever\n",
    "retriever = vector_store.as_retriever(search_kwargs={\"k\": 3})\n",
    "\n",
    "#LLM\n",
    "llm = ChatPerplexity(\n",
    "    model=\"sonar\",\n",
    "    pplx_api_key = \"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\",\n",
    "    temperature=0.2\n",
    ")\n",
    "\n",
    "# QA chain\n",
    "qa_chain = RetrievalQA.from_chain_type(\n",
    "    llm=llm,\n",
    "    retriever=retriever,\n",
    "    chain_type=\"stuff\",\n",
    "    return_source_documents=True\n",
    ")"
   ]
  },
  {
   "cell_type": "code",
   "execution_count": 2,
   "id": "1c19cf32",
   "metadata": {},
   "outputs": [],
   "source": [
    "import json\n",
    "import os\n",
    "import csv\n",
    "\n",
    "def process_answer(query):\n",
    "    response = qa_chain({\"query\": query})\n",
    "    \n",
    "    # Handle case where result is a JSON-formatted string\n",
    "    try:\n",
    "        result = json.loads(response[\"result\"])\n",
    "        answer_text = result.get(\"answer\", response[\"result\"])\n",
    "    except (json.JSONDecodeError, TypeError):\n",
    "        # Fallback: use the raw string if not JSON\n",
    "        answer_text = response[\"result\"]\n",
    "\n",
    "    source_docs = response['source_documents']\n",
    "\n",
    "    sources_info = []\n",
    "    for doc in source_docs:\n",
    "        chunk_id = doc.metadata.get(\"chunk_id\", \"N/A\")\n",
    "        source = doc.metadata.get(\"source\", \"N/A\")\n",
    "        sources_info.append({\"chunk_id\": str(chunk_id), \"source\": source})\n",
    "\n",
    "    # Prepare data to log\n",
    "    top_k_chunks = [src[\"chunk_id\"] for src in sources_info if src[\"chunk_id\"] != \"N/A\"]\n",
    "    sources_list = [src[\"source\"] for src in sources_info if src[\"source\"] != \"N/A\"]\n",
    "\n",
    "    # Write to CSV\n",
    "    file_exists = os.path.isfile(LOG_FILE)\n",
    "    with open(LOG_FILE, mode='a', newline='', encoding='utf-8') as f:\n",
    "        writer = csv.DictWriter(f, fieldnames=[\"question\", \"answer\", \"sources\", \"top_k_chunks\"])\n",
    "        if not file_exists:\n",
    "            writer.writeheader()\n",
    "        writer.writerow({\n",
    "            \"question\": query,\n",
    "            \"answer\": answer_text,\n",
    "            \"sources\": \"; \".join(list(set(sources_list))),\n",
    "            \"top_k_chunks\": \"; \".join(list(set(top_k_chunks)))\n",
    "        })\n"
   ]
  },
  {
   "cell_type": "code",
   "execution_count": 3,
   "id": "5c279177",
   "metadata": {},
   "outputs": [
    {
     "name": "stderr",
     "output_type": "stream",
     "text": [
      "C:\\Users\\Lan Dao\\AppData\\Local\\Temp\\ipykernel_22400\\14775218.py:6: LangChainDeprecationWarning: The method `Chain.__call__` was deprecated in langchain 0.1.0 and will be removed in 1.0. Use :meth:`~invoke` instead.\n",
      "  response = qa_chain({\"query\": query})\n"
     ]
    }
   ],
   "source": [
    "import pandas as pd\n",
    "questions= pd.read_csv(\"session_1/questions.csv\")\n",
    "\n",
    "for index, row in questions.iterrows():\n",
    "    question = row['question']\n",
    "    process_answer(question)"
   ]
  },
  {
   "cell_type": "code",
   "execution_count": 4,
   "id": "48ba7c10",
   "metadata": {},
   "outputs": [
    {
     "data": {
      "text/html": [
       "<div>\n",
       "<style scoped>\n",
       "    .dataframe tbody tr th:only-of-type {\n",
       "        vertical-align: middle;\n",
       "    }\n",
       "\n",
       "    .dataframe tbody tr th {\n",
       "        vertical-align: top;\n",
       "    }\n",
       "\n",
       "    .dataframe thead th {\n",
       "        text-align: right;\n",
       "    }\n",
       "</style>\n",
       "<table border=\"1\" class=\"dataframe\">\n",
       "  <thead>\n",
       "    <tr style=\"text-align: right;\">\n",
       "      <th></th>\n",
       "      <th>question</th>\n",
       "      <th>answer</th>\n",
       "      <th>sources</th>\n",
       "      <th>top_k_chunks</th>\n",
       "    </tr>\n",
       "  </thead>\n",
       "  <tbody>\n",
       "    <tr>\n",
       "      <th>0</th>\n",
       "      <td>How could challenges in hiring, retaining, and...</td>\n",
       "      <td>Challenges in hiring, retaining, and managing ...</td>\n",
       "      <td>2024-amazon-annual-report-10K.pdf</td>\n",
       "      <td>27; 1; 39</td>\n",
       "    </tr>\n",
       "    <tr>\n",
       "      <th>1</th>\n",
       "      <td>What was the total lease liability for Apple I...</td>\n",
       "      <td>As of September 28, 2024, Apple Inc. had fixed...</td>\n",
       "      <td>2024-cisco-full-annual-report.pdf; 2024-apple-...</td>\n",
       "      <td>154; 386; 157</td>\n",
       "    </tr>\n",
       "    <tr>\n",
       "      <th>2</th>\n",
       "      <td>What are the key competitive challenges Cisco ...</td>\n",
       "      <td>In 2024, Cisco faced several key competitive c...</td>\n",
       "      <td>2024-cisco-full-annual-report.pdf</td>\n",
       "      <td>321; 293; 248</td>\n",
       "    </tr>\n",
       "    <tr>\n",
       "      <th>3</th>\n",
       "      <td>Based on the Alphabet Inc. fiscal year ended D...</td>\n",
       "      <td>For Alphabet Inc. in the fiscal year ended Dec...</td>\n",
       "      <td>2024-google-annual-report-10K.pdf</td>\n",
       "      <td>528; 527; 497</td>\n",
       "    </tr>\n",
       "    <tr>\n",
       "      <th>4</th>\n",
       "      <td>What were the key financial results reported b...</td>\n",
       "      <td>Here are the key financial results reported by...</td>\n",
       "      <td>2024-meta-full-annual-report.pdf</td>\n",
       "      <td>544; 552; 549</td>\n",
       "    </tr>\n",
       "    <tr>\n",
       "      <th>5</th>\n",
       "      <td>What operational and strategic challenges did ...</td>\n",
       "      <td>Based on the available information, Netflix fa...</td>\n",
       "      <td>2024-netflix-annual-report-10K.pdf</td>\n",
       "      <td>610; 609; 617</td>\n",
       "    </tr>\n",
       "    <tr>\n",
       "      <th>6</th>\n",
       "      <td>Question:  \\nWhere, as required by law, does N...</td>\n",
       "      <td>NVIDIA Corporation files lobbying disclosure r...</td>\n",
       "      <td>2024-nvidia-annual-report-10K.pdf</td>\n",
       "      <td>768; 660; 723</td>\n",
       "    </tr>\n",
       "    <tr>\n",
       "      <th>7</th>\n",
       "      <td>What highlights or key financial metrics are i...</td>\n",
       "      <td>Oracle Corporation's fiscal year 2024 Form 10-...</td>\n",
       "      <td>2024-oracle-annual-report-10K.pdf</td>\n",
       "      <td>1022; 886; 1018</td>\n",
       "    </tr>\n",
       "    <tr>\n",
       "      <th>8</th>\n",
       "      <td>How does Reddit, Inc. plan to manage the poten...</td>\n",
       "      <td>Reddit, Inc. acknowledges the risk of user dec...</td>\n",
       "      <td>2024-reddit-annual-report-10K.pdf</td>\n",
       "      <td>1121; 1133; 1120</td>\n",
       "    </tr>\n",
       "    <tr>\n",
       "      <th>9</th>\n",
       "      <td>Which Tesla, Inc. executives signed the compan...</td>\n",
       "      <td>The following Tesla, Inc. executives and direc...</td>\n",
       "      <td>2024-tsla-annual-report-10K.pdf</td>\n",
       "      <td>1337; 1425; 1250</td>\n",
       "    </tr>\n",
       "  </tbody>\n",
       "</table>\n",
       "</div>"
      ],
      "text/plain": [
       "                                            question  \\\n",
       "0  How could challenges in hiring, retaining, and...   \n",
       "1  What was the total lease liability for Apple I...   \n",
       "2  What are the key competitive challenges Cisco ...   \n",
       "3  Based on the Alphabet Inc. fiscal year ended D...   \n",
       "4  What were the key financial results reported b...   \n",
       "5  What operational and strategic challenges did ...   \n",
       "6  Question:  \\nWhere, as required by law, does N...   \n",
       "7  What highlights or key financial metrics are i...   \n",
       "8  How does Reddit, Inc. plan to manage the poten...   \n",
       "9  Which Tesla, Inc. executives signed the compan...   \n",
       "\n",
       "                                              answer  \\\n",
       "0  Challenges in hiring, retaining, and managing ...   \n",
       "1  As of September 28, 2024, Apple Inc. had fixed...   \n",
       "2  In 2024, Cisco faced several key competitive c...   \n",
       "3  For Alphabet Inc. in the fiscal year ended Dec...   \n",
       "4  Here are the key financial results reported by...   \n",
       "5  Based on the available information, Netflix fa...   \n",
       "6  NVIDIA Corporation files lobbying disclosure r...   \n",
       "7  Oracle Corporation's fiscal year 2024 Form 10-...   \n",
       "8  Reddit, Inc. acknowledges the risk of user dec...   \n",
       "9  The following Tesla, Inc. executives and direc...   \n",
       "\n",
       "                                             sources      top_k_chunks  \n",
       "0                  2024-amazon-annual-report-10K.pdf         27; 1; 39  \n",
       "1  2024-cisco-full-annual-report.pdf; 2024-apple-...     154; 386; 157  \n",
       "2                  2024-cisco-full-annual-report.pdf     321; 293; 248  \n",
       "3                  2024-google-annual-report-10K.pdf     528; 527; 497  \n",
       "4                   2024-meta-full-annual-report.pdf     544; 552; 549  \n",
       "5                 2024-netflix-annual-report-10K.pdf     610; 609; 617  \n",
       "6                  2024-nvidia-annual-report-10K.pdf     768; 660; 723  \n",
       "7                  2024-oracle-annual-report-10K.pdf   1022; 886; 1018  \n",
       "8                  2024-reddit-annual-report-10K.pdf  1121; 1133; 1120  \n",
       "9                    2024-tsla-annual-report-10K.pdf  1337; 1425; 1250  "
      ]
     },
     "execution_count": 4,
     "metadata": {},
     "output_type": "execute_result"
    }
   ],
   "source": [
    "df = pd.read_csv(\"qa_log_1.csv\")\n",
    "df.head(10)"
   ]
  },
  {
   "cell_type": "code",
   "execution_count": 5,
   "id": "503b0e8a",
   "metadata": {},
   "outputs": [],
   "source": [
    "from openai import OpenAI\n",
    "import json, random, re\n",
    "\n",
    "API_KEY = \"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\"    \n",
    "#INITIALIZATION\n",
    "client = OpenAI(api_key=API_KEY, base_url=\"https://api.perplexity.ai\")"
   ]
  },
  {
   "cell_type": "code",
   "execution_count": 6,
   "id": "4edd4945",
   "metadata": {},
   "outputs": [],
   "source": [
    "prompt = \"\"\"\n",
    "    You are a financial data Q&A evaluator.\n",
    "\n",
    "    You are given:\n",
    "    - A **question** generated from a document chunk.\n",
    "    - The **document chunk** (ground truth source).\n",
    "    - A **model-generated answer** to the question.\n",
    "\n",
    "    Your job is to score the model’s answer by carefully comparing it to the document chunk.\n",
    "\n",
    "    Use the following rubric for each category:\n",
    "\n",
    "    ---\n",
    "    **Factual Correctness**\n",
    "    - 5 = All facts are fully correct and consistent with the chunk.\n",
    "    - 4 = Minor factual inaccuracies but mostly correct.\n",
    "    - 3 = Some factual inaccuracies, partly correct.\n",
    "    - 2 = Major factual mistakes, mostly incorrect.\n",
    "    - 1 = Completely factually wrong.\n",
    "\n",
    "    ---\n",
    "    **Completeness**\n",
    "    - 5 = Fully answers the question with all key details.\n",
    "    - 4 = Mostly complete, missing minor details.\n",
    "    - 3 = Partially complete, missing important parts.\n",
    "    - 2 = Mostly incomplete, only touches on part of the question.\n",
    "    - 1 = Completely incomplete.\n",
    "\n",
    "    ---\n",
    "    3**Clarity**\n",
    "    - 5 = Clear, precise, and easy to understand.\n",
    "    - 4 = Mostly clear, with minor awkwardness.\n",
    "    - 3 = Understandable but somewhat confusing or vague.\n",
    "    - 2 = Hard to understand or poorly phrased.\n",
    "    - 1 = Completely unclear or nonsensical.\n",
    "\n",
    "    ---\n",
    "    **Response Format**\n",
    "    Return ONLY this JSON (no extra explanation):\n",
    "    {\n",
    "        \"factual_correctness_score\": [1-5],\n",
    "        \"completeness_score\": [1-5],\n",
    "        \"clarity_score\": [1-5],\n",
    "        \"comments\": \"A brief explanation (1-2 sentences) why you assigned these scores.\"\n",
    "    }\n",
    "\"\"\"\n",
    "\n",
    "\n",
    "def evaluate_answer(question, chunk, answer):\n",
    "    response = client.chat.completions.create(\n",
    "        model=\"sonar\",\n",
    "        messages=[\n",
    "            {\"role\": \"system\", \"content\": prompt},\n",
    "            {\n",
    "                \"role\": \"user\",\n",
    "                \"content\": f\"\"\"\n",
    "                Please evaluate the following answer based on the provided question and document chunk. \n",
    "                Return ONLY a valid JSON object.\n",
    "\n",
    "                Question: {question}\n",
    "\n",
    "                Document Chunk: {chunk}\n",
    "\n",
    "                Model Answer: {answer}\n",
    "                \"\"\"\n",
    "            }\n",
    "        ],\n",
    "    )\n",
    "\n",
    "    response_content = response.choices[0].message.content.strip()\n",
    "    print(\"LLM Raw Output:\", response_content)\n",
    "\n",
    "    # Remove duplicate keys by keeping only the last occurrence\n",
    "    cleaned_content = re.sub(\n",
    "        r'(,\\s*\")(\\w+_score)\":\\s*\\d,\\s*\"\\2\":\\s*\\d',\n",
    "        lambda m: f',{m.group(2)}\": {m.group(0).split(\":\")[-1]}',\n",
    "        response_content\n",
    "    )\n",
    "\n",
    "    result = json.loads(cleaned_content)\n",
    "    return result"
   ]
  },
  {
   "cell_type": "code",
   "execution_count": 7,
   "id": "1a1dad36",
   "metadata": {},
   "outputs": [
    {
     "name": "stdout",
     "output_type": "stream",
     "text": [
      "LLM Raw Output: {\n",
      "    \"factual_correctness_score\": 3,\n",
      "    \"completeness_score\": 3,\n",
      "    \"clarity_score\": 4,\n",
      "    \"comments\": \"The answer is mostly clear and contains some relevant points, but several elements (like references to Item 7) are not supported by the provided document chunk. It raises valid issues related to employee dissatisfaction and DEI rollback, but misses direct evidence about supplier and commercial agreement risks in the chunk.\"\n",
      "}\n",
      "LLM Raw Output: ```json\n",
      "{\n",
      "    \"factual_correctness_score\": 4,\n",
      "    \"completeness_score\": 3,\n",
      "    \"clarity_score\": 5,\n",
      "    \"comments\": \"The model's answer is mostly clear and well-phrased, but it contains a minor factual inaccuracy regarding the specific lease liability figures for 2023. Additionally, it does not fully compare the figures for 2023 and 2024 since the 2023 data is not explicitly provided in the search results.\"\n",
      "}\n",
      "```\n",
      "Retrying for question: What was the total lease liability for Apple Inc. as of September 28, 2024, and how did it compare to the total lease liability as of September 30, 2023? due to error: Expecting value: line 1 column 1 (char 0)\n",
      "LLM Raw Output: {\n",
      "  \"factual_correctness_score\": 4,\n",
      "  \"completeness_score\": 3,\n",
      "  \"clarity_score\": 5,\n",
      "  \"comments\": \"The answer correctly states the total lease liability for Apple Inc. as of September 28, 2024 ($15.6 billion) and notes the payable amount within the next 12 months, which are accurate per the document[3]. However, it fails to provide or confirm the total lease liability as of September 30, 2023, citing lack of explicit data, which is partially correct but the document chunk suggests the possibility of comparison, so the answer is somewhat incomplete. The explanation is clear and well-structured.\"\n",
      "}\n",
      "LLM Raw Output: {\n",
      "  \"factual_correctness_score\": 3,\n",
      "  \"completeness_score\": 3,\n",
      "  \"clarity_score\": 5,\n",
      "  \"comments\": \"The answer provides a clear, well-structured overview of Cisco's competitive challenges and their impact on revenue and positioning, but it includes details (e.g., specific revenue decline percentages, global economic uncertainties, cloud transition impact) not supported by the given document chunk (which consists only of snippets '321; 293; 248' without further detail). The competitive challenges and market dynamics are described broadly but without direct citation from the provided sources, limiting factual verification. Thus, factual correctness and completeness are moderate due to lack of explicit support, though clarity is high.\"\n",
      "}\n",
      "LLM Raw Output: {\n",
      "  \"factual_correctness_score\": 2,\n",
      "  \"completeness_score\": 1,\n",
      "  \"clarity_score\": 4,\n",
      "  \"comments\": \"The model answer provides specific basic and diluted net income per share amounts for Class A, B, and C shares for 2024 and 2023, but these figures are not supported or found in the provided document chunk or search results. The document chunk references are numerical and do not contain explicit data on net income per share by class or year, and the search results discuss overall revenues and net income but not the per share breakdowns requested. Thus, the answer is mostly factually incorrect and incomplete. The answer is clearly presented but based on unsupported data.\"\n",
      "}\n",
      "LLM Raw Output: {\n",
      "    \"factual_correctness_score\": 5,\n",
      "    \"completeness_score\": 4,\n",
      "    \"clarity_score\": 5,\n",
      "    \"comments\": \"The answer is factually consistent and clear, but the question specifically asked for advertising revenue and cash flows, which are partially addressed (ad impressions and price per ad, and cash flow/capital expenditures were included, but not explicit separate headline 'advertising revenue' or operating cash flow detail).\"\n",
      "}\n",
      "LLM Raw Output: ```json\n",
      "{\n",
      "    \"factual_correctness_score\": 4,\n",
      "    \"completeness_score\": 4,\n",
      "    \"clarity_score\": 5,\n",
      "    \"comments\": \"The model's answer is mostly factually correct, though it broadly interprets the document chunk. It covers key challenges well but lacks specific details directly from the chunk. The clarity is high due to its organized structure and clear language.\"\n",
      "}\n",
      "```\n",
      "Retrying for question: What operational and strategic challenges did Netflix, Inc. identify in its 2024 fiscal year report as it expanded its streaming service, introduced new features like games and advertising, and scaled its content production and international offerings? due to error: Expecting value: line 1 column 1 (char 0)\n",
      "LLM Raw Output: {\n",
      "    \"factual_correctness_score\": 5,\n",
      "    \"completeness_score\": 5,\n",
      "    \"clarity_score\": 5,\n",
      "    \"comments\": \"The model accurately and clearly addresses all key operational and strategic challenges identified in the provided document chunks, including competition, foreign exchange, content investment, economic indicators, and stock valuation.\"\n",
      "}\n",
      "LLM Raw Output: ```json\n",
      "{\n",
      "    \"factual_correctness_score\": 5,\n",
      "    \"completeness_score\": 5,\n",
      "    \"clarity_score\": 5,\n",
      "    \"comments\": \"The model answer is factually correct, fully addresses the question, and is clear and well-structured. It accurately states where NVIDIA files lobbying reports and where information about its activities can be found, citing relevant sources.\"\n",
      "}\n",
      "```\n",
      "Retrying for question: Question:  \n",
      "Where, as required by law, does NVIDIA Corporation file lobbying disclosure reports in 2024, and where can information about its public policy and lobbying activities be found? due to error: Expecting value: line 1 column 1 (char 0)\n",
      "LLM Raw Output: ```json\n",
      "{\n",
      "    \"factual_correctness_score\": 4,\n",
      "    \"completeness_score\": 5,\n",
      "    \"clarity_score\": 5,\n",
      "    \"comments\": \"The answer is mostly factually correct and complete, providing detailed information about where NVIDIA files lobbying reports and where to find additional information. However, it includes some minor additions not explicitly mentioned in the document chunk, such as the mention of the U.S. Senate Office of Public Records and the U.S. House of Representatives.\"\n",
      "}\n",
      "```\n",
      "Retrying for question: Question:  \n",
      "Where, as required by law, does NVIDIA Corporation file lobbying disclosure reports in 2024, and where can information about its public policy and lobbying activities be found? due to error: Expecting value: line 1 column 1 (char 0)\n",
      "LLM Raw Output: {\n",
      "    \"factual_correctness_score\": 5,\n",
      "    \"completeness_score\": 4,\n",
      "    \"clarity_score\": 5,\n",
      "    \"comments\": \"The answer fully matches the factual content and direction in the source with only minor detail (specific government bodies and databases) elaborated beyond the exact chunk, but accurately and clearly.\"\n",
      "}\n",
      "LLM Raw Output: {\n",
      "  \"factual_correctness_score\": 5,\n",
      "  \"completeness_score\": 5,\n",
      "  \"clarity_score\": 5,\n",
      "  \"comments\": \"The model answer accurately reports the key financial metrics from Oracle's fiscal year 2024 Form 10-K, including revenues, operating income, net income, EPS, cash flows, capital expenditures, stock repurchases, and additional notes like intangible asset amortization and CSR contributions, all consistent with the provided sources. The answer is thorough and clearly presented without factual errors.\"\n",
      "}\n",
      "LLM Raw Output: ```json\n",
      "{\n",
      "  \"factual_correctness_score\": 1,\n",
      "  \"completeness_score\": 3,\n",
      "  \"clarity_score\": 5,\n",
      "  \"comments\": \"The model's answer lacks factual support from the provided document chunk, making it factually incorrect. However, it is well-structured and clear, and it attempts to address the question by outlining generic strategies.\"\n",
      "}\n",
      "```\n",
      "Retrying for question: How does Reddit, Inc. plan to manage the potential decline in users due to a reduction in third-party applications during the fiscal year ended December 31, 2024? due to error: Expecting value: line 1 column 1 (char 0)\n",
      "LLM Raw Output: {\n",
      "  \"factual_correctness_score\": 5,\n",
      "  \"completeness_score\": 5,\n",
      "  \"clarity_score\": 5,\n",
      "  \"comments\": \"The answer accurately reflects Reddit's strategies to mitigate user decline due to reduced third-party app access by detailing product enhancements, AI-driven recommendations, off-platform content sharing, user conversion efforts, interoperability, and brand management as outlined in the relevant sources[3][4]. It fully addresses the question with clear, well-structured points.\"\n",
      "}\n",
      "LLM Raw Output: ```json\n",
      "{\n",
      "    \"factual_correctness_score\": 4,\n",
      "    \"completeness_score\": 4,\n",
      "    \"clarity_score\": 5,\n",
      "    \"comments\": \"The model's answer is mostly factually correct and complete, providing the titles of Tesla executives who signed the annual report. However, it lacks explicit confirmation from the document chunk for all individuals listed. The clarity is high as the answer is well-structured and easy to understand.\"\n",
      "}\n",
      "```\n",
      "Retrying for question: Which Tesla, Inc. executives signed the company's annual report for the fiscal year ended December 31, 2024, and what were their titles at the time?[1] due to error: Expecting value: line 1 column 1 (char 0)\n",
      "LLM Raw Output: ```json\n",
      "{\n",
      "    \"factual_correctness_score\": 4,\n",
      "    \"completeness_score\": 4,\n",
      "    \"clarity_score\": 5,\n",
      "    \"comments\": \"The model's answer is mostly factually correct but includes some directors not listed in the provided document chunk. It is mostly complete but lacks alignment with the exact source. The response is clear and easy to understand.\"\n",
      "}\n",
      "```\n",
      "Retrying for question: Which Tesla, Inc. executives signed the company's annual report for the fiscal year ended December 31, 2024, and what were their titles at the time?[1] due to error: Expecting value: line 1 column 1 (char 0)\n",
      "LLM Raw Output: {\n",
      "    \"factual_correctness_score\": 3,\n",
      "    \"completeness_score\": 3,\n",
      "    \"clarity_score\": 5,\n",
      "    \"comments\": \"The answer lists several executives and directors but does not exclusively specify who signed the report, and it is not verified by the provided document chunk; thus, it is only partially complete and accurate, but clearly presented.\"\n",
      "}\n",
      "Saved final results to final_1.csv\n"
     ]
    }
   ],
   "source": [
    "import pandas as pd\n",
    "\n",
    "# Prepare a list to collect all processed rows\n",
    "final_rows = []\n",
    "\n",
    "for _, row in df.iterrows():\n",
    "    question = row['question']\n",
    "    top_k_chunk = row['top_k_chunks']\n",
    "    answer = row['answer']\n",
    "\n",
    "    success = False\n",
    "    while not success:\n",
    "        try:\n",
    "            evaluation = evaluate_answer(question, top_k_chunk, answer)\n",
    "            success = True  # Break loop if successful\n",
    "        except Exception as e:\n",
    "            print(f\"Retrying for question: {question} due to error: {e}\")\n",
    "\n",
    "    # Build a combined result dictionary\n",
    "    result_row = {\n",
    "        'question': question,\n",
    "        'top_k_chunk': top_k_chunk,\n",
    "        'answer': answer\n",
    "    }\n",
    "    # Add evaluation results\n",
    "    for key, value in evaluation.items():\n",
    "        result_row[f'evaluation_{key}'] = value\n",
    "\n",
    "    final_rows.append(result_row)\n",
    "\n",
    "# Convert list of results to DataFrame\n",
    "final_df = pd.DataFrame(final_rows)\n",
    "\n",
    "# Save to CSV\n",
    "final_df.to_csv('final_1.csv', index=False)\n",
    "print(\"Saved final results to final_1.csv\")"
   ]
  },
  {
   "cell_type": "code",
   "execution_count": 8,
   "id": "7c96bd85",
   "metadata": {},
   "outputs": [
    {
     "data": {
      "text/html": [
       "<div>\n",
       "<style scoped>\n",
       "    .dataframe tbody tr th:only-of-type {\n",
       "        vertical-align: middle;\n",
       "    }\n",
       "\n",
       "    .dataframe tbody tr th {\n",
       "        vertical-align: top;\n",
       "    }\n",
       "\n",
       "    .dataframe thead th {\n",
       "        text-align: right;\n",
       "    }\n",
       "</style>\n",
       "<table border=\"1\" class=\"dataframe\">\n",
       "  <thead>\n",
       "    <tr style=\"text-align: right;\">\n",
       "      <th></th>\n",
       "      <th>question</th>\n",
       "      <th>top_k_chunk</th>\n",
       "      <th>answer</th>\n",
       "      <th>evaluation_factual_correctness_score</th>\n",
       "      <th>evaluation_completeness_score</th>\n",
       "      <th>evaluation_clarity_score</th>\n",
       "      <th>evaluation_comments</th>\n",
       "    </tr>\n",
       "  </thead>\n",
       "  <tbody>\n",
       "    <tr>\n",
       "      <th>0</th>\n",
       "      <td>How could challenges in hiring, retaining, and...</td>\n",
       "      <td>27; 1; 39</td>\n",
       "      <td>Challenges in hiring, retaining, and managing ...</td>\n",
       "      <td>3</td>\n",
       "      <td>3</td>\n",
       "      <td>4</td>\n",
       "      <td>The answer is mostly clear and contains some r...</td>\n",
       "    </tr>\n",
       "    <tr>\n",
       "      <th>1</th>\n",
       "      <td>What was the total lease liability for Apple I...</td>\n",
       "      <td>154; 386; 157</td>\n",
       "      <td>As of September 28, 2024, Apple Inc. had fixed...</td>\n",
       "      <td>4</td>\n",
       "      <td>3</td>\n",
       "      <td>5</td>\n",
       "      <td>The answer correctly states the total lease li...</td>\n",
       "    </tr>\n",
       "    <tr>\n",
       "      <th>2</th>\n",
       "      <td>What are the key competitive challenges Cisco ...</td>\n",
       "      <td>321; 293; 248</td>\n",
       "      <td>In 2024, Cisco faced several key competitive c...</td>\n",
       "      <td>3</td>\n",
       "      <td>3</td>\n",
       "      <td>5</td>\n",
       "      <td>The answer provides a clear, well-structured o...</td>\n",
       "    </tr>\n",
       "    <tr>\n",
       "      <th>3</th>\n",
       "      <td>Based on the Alphabet Inc. fiscal year ended D...</td>\n",
       "      <td>528; 527; 497</td>\n",
       "      <td>For Alphabet Inc. in the fiscal year ended Dec...</td>\n",
       "      <td>2</td>\n",
       "      <td>1</td>\n",
       "      <td>4</td>\n",
       "      <td>The model answer provides specific basic and d...</td>\n",
       "    </tr>\n",
       "    <tr>\n",
       "      <th>4</th>\n",
       "      <td>What were the key financial results reported b...</td>\n",
       "      <td>544; 552; 549</td>\n",
       "      <td>Here are the key financial results reported by...</td>\n",
       "      <td>5</td>\n",
       "      <td>4</td>\n",
       "      <td>5</td>\n",
       "      <td>The answer is factually consistent and clear, ...</td>\n",
       "    </tr>\n",
       "    <tr>\n",
       "      <th>5</th>\n",
       "      <td>What operational and strategic challenges did ...</td>\n",
       "      <td>610; 609; 617</td>\n",
       "      <td>Based on the available information, Netflix fa...</td>\n",
       "      <td>5</td>\n",
       "      <td>5</td>\n",
       "      <td>5</td>\n",
       "      <td>The model accurately and clearly addresses all...</td>\n",
       "    </tr>\n",
       "    <tr>\n",
       "      <th>6</th>\n",
       "      <td>Question:  \\nWhere, as required by law, does N...</td>\n",
       "      <td>768; 660; 723</td>\n",
       "      <td>NVIDIA Corporation files lobbying disclosure r...</td>\n",
       "      <td>5</td>\n",
       "      <td>4</td>\n",
       "      <td>5</td>\n",
       "      <td>The answer fully matches the factual content a...</td>\n",
       "    </tr>\n",
       "    <tr>\n",
       "      <th>7</th>\n",
       "      <td>What highlights or key financial metrics are i...</td>\n",
       "      <td>1022; 886; 1018</td>\n",
       "      <td>Oracle Corporation's fiscal year 2024 Form 10-...</td>\n",
       "      <td>5</td>\n",
       "      <td>5</td>\n",
       "      <td>5</td>\n",
       "      <td>The model answer accurately reports the key fi...</td>\n",
       "    </tr>\n",
       "    <tr>\n",
       "      <th>8</th>\n",
       "      <td>How does Reddit, Inc. plan to manage the poten...</td>\n",
       "      <td>1121; 1133; 1120</td>\n",
       "      <td>Reddit, Inc. acknowledges the risk of user dec...</td>\n",
       "      <td>5</td>\n",
       "      <td>5</td>\n",
       "      <td>5</td>\n",
       "      <td>The answer accurately reflects Reddit's strate...</td>\n",
       "    </tr>\n",
       "    <tr>\n",
       "      <th>9</th>\n",
       "      <td>Which Tesla, Inc. executives signed the compan...</td>\n",
       "      <td>1337; 1425; 1250</td>\n",
       "      <td>The following Tesla, Inc. executives and direc...</td>\n",
       "      <td>3</td>\n",
       "      <td>3</td>\n",
       "      <td>5</td>\n",
       "      <td>The answer lists several executives and direct...</td>\n",
       "    </tr>\n",
       "  </tbody>\n",
       "</table>\n",
       "</div>"
      ],
      "text/plain": [
       "                                            question       top_k_chunk  \\\n",
       "0  How could challenges in hiring, retaining, and...         27; 1; 39   \n",
       "1  What was the total lease liability for Apple I...     154; 386; 157   \n",
       "2  What are the key competitive challenges Cisco ...     321; 293; 248   \n",
       "3  Based on the Alphabet Inc. fiscal year ended D...     528; 527; 497   \n",
       "4  What were the key financial results reported b...     544; 552; 549   \n",
       "5  What operational and strategic challenges did ...     610; 609; 617   \n",
       "6  Question:  \\nWhere, as required by law, does N...     768; 660; 723   \n",
       "7  What highlights or key financial metrics are i...   1022; 886; 1018   \n",
       "8  How does Reddit, Inc. plan to manage the poten...  1121; 1133; 1120   \n",
       "9  Which Tesla, Inc. executives signed the compan...  1337; 1425; 1250   \n",
       "\n",
       "                                              answer  \\\n",
       "0  Challenges in hiring, retaining, and managing ...   \n",
       "1  As of September 28, 2024, Apple Inc. had fixed...   \n",
       "2  In 2024, Cisco faced several key competitive c...   \n",
       "3  For Alphabet Inc. in the fiscal year ended Dec...   \n",
       "4  Here are the key financial results reported by...   \n",
       "5  Based on the available information, Netflix fa...   \n",
       "6  NVIDIA Corporation files lobbying disclosure r...   \n",
       "7  Oracle Corporation's fiscal year 2024 Form 10-...   \n",
       "8  Reddit, Inc. acknowledges the risk of user dec...   \n",
       "9  The following Tesla, Inc. executives and direc...   \n",
       "\n",
       "   evaluation_factual_correctness_score  evaluation_completeness_score  \\\n",
       "0                                     3                              3   \n",
       "1                                     4                              3   \n",
       "2                                     3                              3   \n",
       "3                                     2                              1   \n",
       "4                                     5                              4   \n",
       "5                                     5                              5   \n",
       "6                                     5                              4   \n",
       "7                                     5                              5   \n",
       "8                                     5                              5   \n",
       "9                                     3                              3   \n",
       "\n",
       "   evaluation_clarity_score                                evaluation_comments  \n",
       "0                         4  The answer is mostly clear and contains some r...  \n",
       "1                         5  The answer correctly states the total lease li...  \n",
       "2                         5  The answer provides a clear, well-structured o...  \n",
       "3                         4  The model answer provides specific basic and d...  \n",
       "4                         5  The answer is factually consistent and clear, ...  \n",
       "5                         5  The model accurately and clearly addresses all...  \n",
       "6                         5  The answer fully matches the factual content a...  \n",
       "7                         5  The model answer accurately reports the key fi...  \n",
       "8                         5  The answer accurately reflects Reddit's strate...  \n",
       "9                         5  The answer lists several executives and direct...  "
      ]
     },
     "execution_count": 8,
     "metadata": {},
     "output_type": "execute_result"
    }
   ],
   "source": [
    "final_df = pd.read_csv(\"final_1.csv\")\n",
    "final_df"
   ]
  },
  {
   "cell_type": "code",
   "execution_count": 9,
   "id": "768a9a72",
   "metadata": {},
   "outputs": [
    {
     "data": {
      "application/vnd.plotly.v1+json": {
       "config": {
        "plotlyServerURL": "https://plot.ly"
       },
       "data": [
        {
         "alignmentgroup": "True",
         "boxpoints": "all",
         "customdata": [
          [
           "How could challenges in hiring, retaining, and managing qualified personnel, as well as risks related to supplier relationships and commercial agreements, negatively impact Amazon’s business operations and results in 2024?"
          ],
          [
           "What was the total lease liability for Apple Inc. as of September 28, 2024, and how did it compare to the total lease liability as of September 30, 2023?"
          ],
          [
           "What are the key competitive challenges Cisco faced in 2024 due to market dynamics, changes in technology, and new entrants, and how did these factors impact its revenue growth and competitive positioning?"
          ],
          [
           "Based on the Alphabet Inc. fiscal year ended December 31, 2024, what were the basic and diluted net income per share amounts for Class A, Class B, and Class C shares, and how did these compare to the previous year ended December 31, 2023?"
          ],
          [
           "What were the key financial results reported by Meta Platforms, Inc. for the fourth quarter and full year ended December 31, 2024, including revenue, advertising revenue, cash flows, and year-over-year growth percentages?"
          ],
          [
           "What operational and strategic challenges did Netflix, Inc. identify in its 2024 fiscal year report as it expanded its streaming service, introduced new features like games and advertising, and scaled its content production and international offerings?"
          ],
          [
           "Question:  \nWhere, as required by law, does NVIDIA Corporation file lobbying disclosure reports in 2024, and where can information about its public policy and lobbying activities be found?"
          ],
          [
           "What highlights or key financial metrics are included in Oracle Corporation's fiscal year 2024 Form 10-K report?"
          ],
          [
           "How does Reddit, Inc. plan to manage the potential decline in users due to a reduction in third-party applications during the fiscal year ended December 31, 2024?"
          ],
          [
           "Which Tesla, Inc. executives signed the company's annual report for the fiscal year ended December 31, 2024, and what were their titles at the time?[1]"
          ],
          [
           "How could challenges in hiring, retaining, and managing qualified personnel, as well as risks related to supplier relationships and commercial agreements, negatively impact Amazon’s business operations and results in 2024?"
          ],
          [
           "What was the total lease liability for Apple Inc. as of September 28, 2024, and how did it compare to the total lease liability as of September 30, 2023?"
          ],
          [
           "What are the key competitive challenges Cisco faced in 2024 due to market dynamics, changes in technology, and new entrants, and how did these factors impact its revenue growth and competitive positioning?"
          ],
          [
           "Based on the Alphabet Inc. fiscal year ended December 31, 2024, what were the basic and diluted net income per share amounts for Class A, Class B, and Class C shares, and how did these compare to the previous year ended December 31, 2023?"
          ],
          [
           "What were the key financial results reported by Meta Platforms, Inc. for the fourth quarter and full year ended December 31, 2024, including revenue, advertising revenue, cash flows, and year-over-year growth percentages?"
          ],
          [
           "What operational and strategic challenges did Netflix, Inc. identify in its 2024 fiscal year report as it expanded its streaming service, introduced new features like games and advertising, and scaled its content production and international offerings?"
          ],
          [
           "Question:  \nWhere, as required by law, does NVIDIA Corporation file lobbying disclosure reports in 2024, and where can information about its public policy and lobbying activities be found?"
          ],
          [
           "What highlights or key financial metrics are included in Oracle Corporation's fiscal year 2024 Form 10-K report?"
          ],
          [
           "How does Reddit, Inc. plan to manage the potential decline in users due to a reduction in third-party applications during the fiscal year ended December 31, 2024?"
          ],
          [
           "Which Tesla, Inc. executives signed the company's annual report for the fiscal year ended December 31, 2024, and what were their titles at the time?[1]"
          ],
          [
           "How could challenges in hiring, retaining, and managing qualified personnel, as well as risks related to supplier relationships and commercial agreements, negatively impact Amazon’s business operations and results in 2024?"
          ],
          [
           "What was the total lease liability for Apple Inc. as of September 28, 2024, and how did it compare to the total lease liability as of September 30, 2023?"
          ],
          [
           "What are the key competitive challenges Cisco faced in 2024 due to market dynamics, changes in technology, and new entrants, and how did these factors impact its revenue growth and competitive positioning?"
          ],
          [
           "Based on the Alphabet Inc. fiscal year ended December 31, 2024, what were the basic and diluted net income per share amounts for Class A, Class B, and Class C shares, and how did these compare to the previous year ended December 31, 2023?"
          ],
          [
           "What were the key financial results reported by Meta Platforms, Inc. for the fourth quarter and full year ended December 31, 2024, including revenue, advertising revenue, cash flows, and year-over-year growth percentages?"
          ],
          [
           "What operational and strategic challenges did Netflix, Inc. identify in its 2024 fiscal year report as it expanded its streaming service, introduced new features like games and advertising, and scaled its content production and international offerings?"
          ],
          [
           "Question:  \nWhere, as required by law, does NVIDIA Corporation file lobbying disclosure reports in 2024, and where can information about its public policy and lobbying activities be found?"
          ],
          [
           "What highlights or key financial metrics are included in Oracle Corporation's fiscal year 2024 Form 10-K report?"
          ],
          [
           "How does Reddit, Inc. plan to manage the potential decline in users due to a reduction in third-party applications during the fiscal year ended December 31, 2024?"
          ],
          [
           "Which Tesla, Inc. executives signed the company's annual report for the fiscal year ended December 31, 2024, and what were their titles at the time?[1]"
          ],
          [
           "How could challenges in hiring, retaining, and managing qualified personnel, as well as risks related to supplier relationships and commercial agreements, negatively impact Amazon’s business operations and results in 2024?"
          ],
          [
           "What was the total lease liability for Apple Inc. as of September 28, 2024, and how did it compare to the total lease liability as of September 30, 2023?"
          ],
          [
           "What are the key competitive challenges Cisco faced in 2024 due to market dynamics, changes in technology, and new entrants, and how did these factors impact its revenue growth and competitive positioning?"
          ],
          [
           "Based on the Alphabet Inc. fiscal year ended December 31, 2024, what were the basic and diluted net income per share amounts for Class A, Class B, and Class C shares, and how did these compare to the previous year ended December 31, 2023?"
          ],
          [
           "What were the key financial results reported by Meta Platforms, Inc. for the fourth quarter and full year ended December 31, 2024, including revenue, advertising revenue, cash flows, and year-over-year growth percentages?"
          ],
          [
           "What operational and strategic challenges did Netflix, Inc. identify in its 2024 fiscal year report as it expanded its streaming service, introduced new features like games and advertising, and scaled its content production and international offerings?"
          ],
          [
           "Question:  \nWhere, as required by law, does NVIDIA Corporation file lobbying disclosure reports in 2024, and where can information about its public policy and lobbying activities be found?"
          ],
          [
           "What highlights or key financial metrics are included in Oracle Corporation's fiscal year 2024 Form 10-K report?"
          ],
          [
           "How does Reddit, Inc. plan to manage the potential decline in users due to a reduction in third-party applications during the fiscal year ended December 31, 2024?"
          ],
          [
           "Which Tesla, Inc. executives signed the company's annual report for the fiscal year ended December 31, 2024, and what were their titles at the time?[1]"
          ]
         ],
         "hovertemplate": "Metric=%{x}<br>Score=%{y}<br>question=%{customdata[0]}<extra></extra>",
         "legendgroup": "",
         "marker": {
          "color": "#636efa"
         },
         "name": "",
         "notched": false,
         "offsetgroup": "",
         "orientation": "v",
         "showlegend": false,
         "type": "box",
         "x": [
          "Factual Correctness",
          "Factual Correctness",
          "Factual Correctness",
          "Factual Correctness",
          "Factual Correctness",
          "Factual Correctness",
          "Factual Correctness",
          "Factual Correctness",
          "Factual Correctness",
          "Factual Correctness",
          "Completeness",
          "Completeness",
          "Completeness",
          "Completeness",
          "Completeness",
          "Completeness",
          "Completeness",
          "Completeness",
          "Completeness",
          "Completeness",
          "Clarity",
          "Clarity",
          "Clarity",
          "Clarity",
          "Clarity",
          "Clarity",
          "Clarity",
          "Clarity",
          "Clarity",
          "Clarity",
          "Overall",
          "Overall",
          "Overall",
          "Overall",
          "Overall",
          "Overall",
          "Overall",
          "Overall",
          "Overall",
          "Overall"
         ],
         "x0": " ",
         "xaxis": "x",
         "y": {
          "bdata": "AAAAAAAACEAAAAAAAAAQQAAAAAAAAAhAAAAAAAAAAEAAAAAAAAAUQAAAAAAAABRAAAAAAAAAFEAAAAAAAAAUQAAAAAAAABRAAAAAAAAACEAAAAAAAAAIQAAAAAAAAAhAAAAAAAAACEAAAAAAAADwPwAAAAAAABBAAAAAAAAAFEAAAAAAAAAQQAAAAAAAABRAAAAAAAAAFEAAAAAAAAAIQAAAAAAAABBAAAAAAAAAFEAAAAAAAAAUQAAAAAAAABBAAAAAAAAAFEAAAAAAAAAUQAAAAAAAABRAAAAAAAAAFEAAAAAAAAAUQAAAAAAAABRAq6qqqqqqCkAAAAAAAAAQQFVVVVVVVQ1Aq6qqqqqqAkCrqqqqqqoSQAAAAAAAABRAq6qqqqqqEkAAAAAAAAAUQAAAAAAAABRAVVVVVVVVDUA=",
          "dtype": "f8"
         },
         "y0": " ",
         "yaxis": "y"
        }
       ],
       "layout": {
        "boxmode": "group",
        "height": 500,
        "legend": {
         "tracegroupgap": 0
        },
        "template": {
         "data": {
          "bar": [
           {
            "error_x": {
             "color": "#2a3f5f"
            },
            "error_y": {
             "color": "#2a3f5f"
            },
            "marker": {
             "line": {
              "color": "#E5ECF6",
              "width": 0.5
             },
             "pattern": {
              "fillmode": "overlay",
              "size": 10,
              "solidity": 0.2
             }
            },
            "type": "bar"
           }
          ],
          "barpolar": [
           {
            "marker": {
             "line": {
              "color": "#E5ECF6",
              "width": 0.5
             },
             "pattern": {
              "fillmode": "overlay",
              "size": 10,
              "solidity": 0.2
             }
            },
            "type": "barpolar"
           }
          ],
          "carpet": [
           {
            "aaxis": {
             "endlinecolor": "#2a3f5f",
             "gridcolor": "white",
             "linecolor": "white",
             "minorgridcolor": "white",
             "startlinecolor": "#2a3f5f"
            },
            "baxis": {
             "endlinecolor": "#2a3f5f",
             "gridcolor": "white",
             "linecolor": "white",
             "minorgridcolor": "white",
             "startlinecolor": "#2a3f5f"
            },
            "type": "carpet"
           }
          ],
          "choropleth": [
           {
            "colorbar": {
             "outlinewidth": 0,
             "ticks": ""
            },
            "type": "choropleth"
           }
          ],
          "contour": [
           {
            "colorbar": {
             "outlinewidth": 0,
             "ticks": ""
            },
            "colorscale": [
             [
              0,
              "#0d0887"
             ],
             [
              0.1111111111111111,
              "#46039f"
             ],
             [
              0.2222222222222222,
              "#7201a8"
             ],
             [
              0.3333333333333333,
              "#9c179e"
             ],
             [
              0.4444444444444444,
              "#bd3786"
             ],
             [
              0.5555555555555556,
              "#d8576b"
             ],
             [
              0.6666666666666666,
              "#ed7953"
             ],
             [
              0.7777777777777778,
              "#fb9f3a"
             ],
             [
              0.8888888888888888,
              "#fdca26"
             ],
             [
              1,
              "#f0f921"
             ]
            ],
            "type": "contour"
           }
          ],
          "contourcarpet": [
           {
            "colorbar": {
             "outlinewidth": 0,
             "ticks": ""
            },
            "type": "contourcarpet"
           }
          ],
          "heatmap": [
           {
            "colorbar": {
             "outlinewidth": 0,
             "ticks": ""
            },
            "colorscale": [
             [
              0,
              "#0d0887"
             ],
             [
              0.1111111111111111,
              "#46039f"
             ],
             [
              0.2222222222222222,
              "#7201a8"
             ],
             [
              0.3333333333333333,
              "#9c179e"
             ],
             [
              0.4444444444444444,
              "#bd3786"
             ],
             [
              0.5555555555555556,
              "#d8576b"
             ],
             [
              0.6666666666666666,
              "#ed7953"
             ],
             [
              0.7777777777777778,
              "#fb9f3a"
             ],
             [
              0.8888888888888888,
              "#fdca26"
             ],
             [
              1,
              "#f0f921"
             ]
            ],
            "type": "heatmap"
           }
          ],
          "histogram": [
           {
            "marker": {
             "pattern": {
              "fillmode": "overlay",
              "size": 10,
              "solidity": 0.2
             }
            },
            "type": "histogram"
           }
          ],
          "histogram2d": [
           {
            "colorbar": {
             "outlinewidth": 0,
             "ticks": ""
            },
            "colorscale": [
             [
              0,
              "#0d0887"
             ],
             [
              0.1111111111111111,
              "#46039f"
             ],
             [
              0.2222222222222222,
              "#7201a8"
             ],
             [
              0.3333333333333333,
              "#9c179e"
             ],
             [
              0.4444444444444444,
              "#bd3786"
             ],
             [
              0.5555555555555556,
              "#d8576b"
             ],
             [
              0.6666666666666666,
              "#ed7953"
             ],
             [
              0.7777777777777778,
              "#fb9f3a"
             ],
             [
              0.8888888888888888,
              "#fdca26"
             ],
             [
              1,
              "#f0f921"
             ]
            ],
            "type": "histogram2d"
           }
          ],
          "histogram2dcontour": [
           {
            "colorbar": {
             "outlinewidth": 0,
             "ticks": ""
            },
            "colorscale": [
             [
              0,
              "#0d0887"
             ],
             [
              0.1111111111111111,
              "#46039f"
             ],
             [
              0.2222222222222222,
              "#7201a8"
             ],
             [
              0.3333333333333333,
              "#9c179e"
             ],
             [
              0.4444444444444444,
              "#bd3786"
             ],
             [
              0.5555555555555556,
              "#d8576b"
             ],
             [
              0.6666666666666666,
              "#ed7953"
             ],
             [
              0.7777777777777778,
              "#fb9f3a"
             ],
             [
              0.8888888888888888,
              "#fdca26"
             ],
             [
              1,
              "#f0f921"
             ]
            ],
            "type": "histogram2dcontour"
           }
          ],
          "mesh3d": [
           {
            "colorbar": {
             "outlinewidth": 0,
             "ticks": ""
            },
            "type": "mesh3d"
           }
          ],
          "parcoords": [
           {
            "line": {
             "colorbar": {
              "outlinewidth": 0,
              "ticks": ""
             }
            },
            "type": "parcoords"
           }
          ],
          "pie": [
           {
            "automargin": true,
            "type": "pie"
           }
          ],
          "scatter": [
           {
            "fillpattern": {
             "fillmode": "overlay",
             "size": 10,
             "solidity": 0.2
            },
            "type": "scatter"
           }
          ],
          "scatter3d": [
           {
            "line": {
             "colorbar": {
              "outlinewidth": 0,
              "ticks": ""
             }
            },
            "marker": {
             "colorbar": {
              "outlinewidth": 0,
              "ticks": ""
             }
            },
            "type": "scatter3d"
           }
          ],
          "scattercarpet": [
           {
            "marker": {
             "colorbar": {
              "outlinewidth": 0,
              "ticks": ""
             }
            },
            "type": "scattercarpet"
           }
          ],
          "scattergeo": [
           {
            "marker": {
             "colorbar": {
              "outlinewidth": 0,
              "ticks": ""
             }
            },
            "type": "scattergeo"
           }
          ],
          "scattergl": [
           {
            "marker": {
             "colorbar": {
              "outlinewidth": 0,
              "ticks": ""
             }
            },
            "type": "scattergl"
           }
          ],
          "scattermap": [
           {
            "marker": {
             "colorbar": {
              "outlinewidth": 0,
              "ticks": ""
             }
            },
            "type": "scattermap"
           }
          ],
          "scattermapbox": [
           {
            "marker": {
             "colorbar": {
              "outlinewidth": 0,
              "ticks": ""
             }
            },
            "type": "scattermapbox"
           }
          ],
          "scatterpolar": [
           {
            "marker": {
             "colorbar": {
              "outlinewidth": 0,
              "ticks": ""
             }
            },
            "type": "scatterpolar"
           }
          ],
          "scatterpolargl": [
           {
            "marker": {
             "colorbar": {
              "outlinewidth": 0,
              "ticks": ""
             }
            },
            "type": "scatterpolargl"
           }
          ],
          "scatterternary": [
           {
            "marker": {
             "colorbar": {
              "outlinewidth": 0,
              "ticks": ""
             }
            },
            "type": "scatterternary"
           }
          ],
          "surface": [
           {
            "colorbar": {
             "outlinewidth": 0,
             "ticks": ""
            },
            "colorscale": [
             [
              0,
              "#0d0887"
             ],
             [
              0.1111111111111111,
              "#46039f"
             ],
             [
              0.2222222222222222,
              "#7201a8"
             ],
             [
              0.3333333333333333,
              "#9c179e"
             ],
             [
              0.4444444444444444,
              "#bd3786"
             ],
             [
              0.5555555555555556,
              "#d8576b"
             ],
             [
              0.6666666666666666,
              "#ed7953"
             ],
             [
              0.7777777777777778,
              "#fb9f3a"
             ],
             [
              0.8888888888888888,
              "#fdca26"
             ],
             [
              1,
              "#f0f921"
             ]
            ],
            "type": "surface"
           }
          ],
          "table": [
           {
            "cells": {
             "fill": {
              "color": "#EBF0F8"
             },
             "line": {
              "color": "white"
             }
            },
            "header": {
             "fill": {
              "color": "#C8D4E3"
             },
             "line": {
              "color": "white"
             }
            },
            "type": "table"
           }
          ]
         },
         "layout": {
          "annotationdefaults": {
           "arrowcolor": "#2a3f5f",
           "arrowhead": 0,
           "arrowwidth": 1
          },
          "autotypenumbers": "strict",
          "coloraxis": {
           "colorbar": {
            "outlinewidth": 0,
            "ticks": ""
           }
          },
          "colorscale": {
           "diverging": [
            [
             0,
             "#8e0152"
            ],
            [
             0.1,
             "#c51b7d"
            ],
            [
             0.2,
             "#de77ae"
            ],
            [
             0.3,
             "#f1b6da"
            ],
            [
             0.4,
             "#fde0ef"
            ],
            [
             0.5,
             "#f7f7f7"
            ],
            [
             0.6,
             "#e6f5d0"
            ],
            [
             0.7,
             "#b8e186"
            ],
            [
             0.8,
             "#7fbc41"
            ],
            [
             0.9,
             "#4d9221"
            ],
            [
             1,
             "#276419"
            ]
           ],
           "sequential": [
            [
             0,
             "#0d0887"
            ],
            [
             0.1111111111111111,
             "#46039f"
            ],
            [
             0.2222222222222222,
             "#7201a8"
            ],
            [
             0.3333333333333333,
             "#9c179e"
            ],
            [
             0.4444444444444444,
             "#bd3786"
            ],
            [
             0.5555555555555556,
             "#d8576b"
            ],
            [
             0.6666666666666666,
             "#ed7953"
            ],
            [
             0.7777777777777778,
             "#fb9f3a"
            ],
            [
             0.8888888888888888,
             "#fdca26"
            ],
            [
             1,
             "#f0f921"
            ]
           ],
           "sequentialminus": [
            [
             0,
             "#0d0887"
            ],
            [
             0.1111111111111111,
             "#46039f"
            ],
            [
             0.2222222222222222,
             "#7201a8"
            ],
            [
             0.3333333333333333,
             "#9c179e"
            ],
            [
             0.4444444444444444,
             "#bd3786"
            ],
            [
             0.5555555555555556,
             "#d8576b"
            ],
            [
             0.6666666666666666,
             "#ed7953"
            ],
            [
             0.7777777777777778,
             "#fb9f3a"
            ],
            [
             0.8888888888888888,
             "#fdca26"
            ],
            [
             1,
             "#f0f921"
            ]
           ]
          },
          "colorway": [
           "#636efa",
           "#EF553B",
           "#00cc96",
           "#ab63fa",
           "#FFA15A",
           "#19d3f3",
           "#FF6692",
           "#B6E880",
           "#FF97FF",
           "#FECB52"
          ],
          "font": {
           "color": "#2a3f5f"
          },
          "geo": {
           "bgcolor": "white",
           "lakecolor": "white",
           "landcolor": "#E5ECF6",
           "showlakes": true,
           "showland": true,
           "subunitcolor": "white"
          },
          "hoverlabel": {
           "align": "left"
          },
          "hovermode": "closest",
          "mapbox": {
           "style": "light"
          },
          "paper_bgcolor": "white",
          "plot_bgcolor": "#E5ECF6",
          "polar": {
           "angularaxis": {
            "gridcolor": "white",
            "linecolor": "white",
            "ticks": ""
           },
           "bgcolor": "#E5ECF6",
           "radialaxis": {
            "gridcolor": "white",
            "linecolor": "white",
            "ticks": ""
           }
          },
          "scene": {
           "xaxis": {
            "backgroundcolor": "#E5ECF6",
            "gridcolor": "white",
            "gridwidth": 2,
            "linecolor": "white",
            "showbackground": true,
            "ticks": "",
            "zerolinecolor": "white"
           },
           "yaxis": {
            "backgroundcolor": "#E5ECF6",
            "gridcolor": "white",
            "gridwidth": 2,
            "linecolor": "white",
            "showbackground": true,
            "ticks": "",
            "zerolinecolor": "white"
           },
           "zaxis": {
            "backgroundcolor": "#E5ECF6",
            "gridcolor": "white",
            "gridwidth": 2,
            "linecolor": "white",
            "showbackground": true,
            "ticks": "",
            "zerolinecolor": "white"
           }
          },
          "shapedefaults": {
           "line": {
            "color": "#2a3f5f"
           }
          },
          "ternary": {
           "aaxis": {
            "gridcolor": "white",
            "linecolor": "white",
            "ticks": ""
           },
           "baxis": {
            "gridcolor": "white",
            "linecolor": "white",
            "ticks": ""
           },
           "bgcolor": "#E5ECF6",
           "caxis": {
            "gridcolor": "white",
            "linecolor": "white",
            "ticks": ""
           }
          },
          "title": {
           "x": 0.05
          },
          "xaxis": {
           "automargin": true,
           "gridcolor": "white",
           "linecolor": "white",
           "ticks": "",
           "title": {
            "standoff": 15
           },
           "zerolinecolor": "white",
           "zerolinewidth": 2
          },
          "yaxis": {
           "automargin": true,
           "gridcolor": "white",
           "linecolor": "white",
           "ticks": "",
           "title": {
            "standoff": 15
           },
           "zerolinecolor": "white",
           "zerolinewidth": 2
          }
         }
        },
        "title": {
         "text": "Score Distributions per Metric (with Overall Score)"
        },
        "xaxis": {
         "anchor": "y",
         "domain": [
          0,
          1
         ],
         "title": {
          "text": "Metric"
         }
        },
        "yaxis": {
         "anchor": "x",
         "domain": [
          0,
          1
         ],
         "dtick": 1,
         "range": [
          0,
          6
         ],
         "title": {
          "text": "Score (1-5)"
         }
        }
       }
      }
     },
     "metadata": {},
     "output_type": "display_data"
    }
   ],
   "source": [
    "import plotly.express as px\n",
    "import pandas as pd\n",
    "\n",
    "# Make sure relevant columns are numeric\n",
    "numeric_cols = [\n",
    "    'evaluation_factual_correctness_score', \n",
    "    'evaluation_completeness_score', \n",
    "    'evaluation_clarity_score'\n",
    "]\n",
    "\n",
    "df = final_df.copy()\n",
    "for col in numeric_cols:\n",
    "    df[col] = pd.to_numeric(df[col], errors='coerce')  # convert invalid to NaN\n",
    "\n",
    "# Calculate overall average score per question\n",
    "df['overall_score'] = df[numeric_cols].mean(axis=1)\n",
    "\n",
    "# Melt DataFrame to long format (including overall score)\n",
    "melted_df = df.melt(\n",
    "    id_vars=['question'],\n",
    "    value_vars=numeric_cols + ['overall_score'],\n",
    "    var_name='Metric',\n",
    "    value_name='Score'\n",
    ")\n",
    "\n",
    "# Clean up metric names for display\n",
    "melted_df['Metric'] = (\n",
    "    melted_df['Metric']\n",
    "    .str.replace('evaluation_', '', regex=False)\n",
    "    .str.replace('_score', '', regex=False)\n",
    "    .str.replace('_', ' ')\n",
    "    .str.title()\n",
    ")\n",
    "\n",
    "# Drop rows with missing scores (optional, if needed)\n",
    "melted_df = melted_df.dropna(subset=['Score'])\n",
    "\n",
    "# Plot boxplot\n",
    "fig = px.box(\n",
    "    melted_df,\n",
    "    x='Metric',\n",
    "    y='Score',\n",
    "    points='all',  # show individual points\n",
    "    hover_data=['question'],\n",
    "    title='Score Distributions per Metric (with Overall Score)',\n",
    "    height=500\n",
    ")\n",
    "\n",
    "fig.update_layout(\n",
    "    yaxis=dict(range=[0, 6], dtick=1),\n",
    "    xaxis_title='Metric',\n",
    "    yaxis_title='Score (1-5)'\n",
    ")\n",
    "\n",
    "fig.show()"
   ]
  },
  {
   "cell_type": "code",
   "execution_count": 10,
   "id": "f07673cd",
   "metadata": {},
   "outputs": [
    {
     "data": {
      "application/vnd.plotly.v1+json": {
       "config": {
        "plotlyServerURL": "https://plot.ly"
       },
       "data": [
        {
         "colorscale": [
          [
           0,
           "rgb(247,251,255)"
          ],
          [
           0.125,
           "rgb(222,235,247)"
          ],
          [
           0.25,
           "rgb(198,219,239)"
          ],
          [
           0.375,
           "rgb(158,202,225)"
          ],
          [
           0.5,
           "rgb(107,174,214)"
          ],
          [
           0.625,
           "rgb(66,146,198)"
          ],
          [
           0.75,
           "rgb(33,113,181)"
          ],
          [
           0.875,
           "rgb(8,81,156)"
          ],
          [
           1,
           "rgb(8,48,107)"
          ]
         ],
         "reversescale": false,
         "showscale": true,
         "type": "heatmap",
         "x": [
          "evaluation_factual_correctness_score",
          "evaluation_completeness_score",
          "evaluation_clarity_score",
          "overall_score"
         ],
         "y": [
          "evaluation_factual_correctness_score",
          "evaluation_completeness_score",
          "evaluation_clarity_score",
          "overall_score"
         ],
         "z": {
          "bdata": "AAAAAAAA8D8fhetRuB7tP8P1KFyPwuU/CtejcD0K7z8fhetRuB7tPwAAAAAAAPA/cT0K16Nw5T8K16NwPQrvP8P1KFyPwuU/cT0K16Nw5T8AAAAAAADwP6RwPQrXo+g/CtejcD0K7z8K16NwPQrvP6RwPQrXo+g/AAAAAAAA8D8=",
          "dtype": "f8",
          "shape": "4, 4"
         }
        }
       ],
       "layout": {
        "annotations": [
         {
          "font": {
           "color": "#FFFFFF"
          },
          "showarrow": false,
          "text": "1.0",
          "x": "evaluation_factual_correctness_score",
          "xref": "x",
          "y": "evaluation_factual_correctness_score",
          "yref": "y"
         },
         {
          "font": {
           "color": "#FFFFFF"
          },
          "showarrow": false,
          "text": "0.91",
          "x": "evaluation_completeness_score",
          "xref": "x",
          "y": "evaluation_factual_correctness_score",
          "yref": "y"
         },
         {
          "font": {
           "color": "#000000"
          },
          "showarrow": false,
          "text": "0.68",
          "x": "evaluation_clarity_score",
          "xref": "x",
          "y": "evaluation_factual_correctness_score",
          "yref": "y"
         },
         {
          "font": {
           "color": "#FFFFFF"
          },
          "showarrow": false,
          "text": "0.97",
          "x": "overall_score",
          "xref": "x",
          "y": "evaluation_factual_correctness_score",
          "yref": "y"
         },
         {
          "font": {
           "color": "#FFFFFF"
          },
          "showarrow": false,
          "text": "0.91",
          "x": "evaluation_factual_correctness_score",
          "xref": "x",
          "y": "evaluation_completeness_score",
          "yref": "y"
         },
         {
          "font": {
           "color": "#FFFFFF"
          },
          "showarrow": false,
          "text": "1.0",
          "x": "evaluation_completeness_score",
          "xref": "x",
          "y": "evaluation_completeness_score",
          "yref": "y"
         },
         {
          "font": {
           "color": "#000000"
          },
          "showarrow": false,
          "text": "0.67",
          "x": "evaluation_clarity_score",
          "xref": "x",
          "y": "evaluation_completeness_score",
          "yref": "y"
         },
         {
          "font": {
           "color": "#FFFFFF"
          },
          "showarrow": false,
          "text": "0.97",
          "x": "overall_score",
          "xref": "x",
          "y": "evaluation_completeness_score",
          "yref": "y"
         },
         {
          "font": {
           "color": "#000000"
          },
          "showarrow": false,
          "text": "0.68",
          "x": "evaluation_factual_correctness_score",
          "xref": "x",
          "y": "evaluation_clarity_score",
          "yref": "y"
         },
         {
          "font": {
           "color": "#000000"
          },
          "showarrow": false,
          "text": "0.67",
          "x": "evaluation_completeness_score",
          "xref": "x",
          "y": "evaluation_clarity_score",
          "yref": "y"
         },
         {
          "font": {
           "color": "#FFFFFF"
          },
          "showarrow": false,
          "text": "1.0",
          "x": "evaluation_clarity_score",
          "xref": "x",
          "y": "evaluation_clarity_score",
          "yref": "y"
         },
         {
          "font": {
           "color": "#000000"
          },
          "showarrow": false,
          "text": "0.77",
          "x": "overall_score",
          "xref": "x",
          "y": "evaluation_clarity_score",
          "yref": "y"
         },
         {
          "font": {
           "color": "#FFFFFF"
          },
          "showarrow": false,
          "text": "0.97",
          "x": "evaluation_factual_correctness_score",
          "xref": "x",
          "y": "overall_score",
          "yref": "y"
         },
         {
          "font": {
           "color": "#FFFFFF"
          },
          "showarrow": false,
          "text": "0.97",
          "x": "evaluation_completeness_score",
          "xref": "x",
          "y": "overall_score",
          "yref": "y"
         },
         {
          "font": {
           "color": "#000000"
          },
          "showarrow": false,
          "text": "0.77",
          "x": "evaluation_clarity_score",
          "xref": "x",
          "y": "overall_score",
          "yref": "y"
         },
         {
          "font": {
           "color": "#FFFFFF"
          },
          "showarrow": false,
          "text": "1.0",
          "x": "overall_score",
          "xref": "x",
          "y": "overall_score",
          "yref": "y"
         }
        ],
        "height": 600,
        "template": {
         "data": {
          "bar": [
           {
            "error_x": {
             "color": "#2a3f5f"
            },
            "error_y": {
             "color": "#2a3f5f"
            },
            "marker": {
             "line": {
              "color": "#E5ECF6",
              "width": 0.5
             },
             "pattern": {
              "fillmode": "overlay",
              "size": 10,
              "solidity": 0.2
             }
            },
            "type": "bar"
           }
          ],
          "barpolar": [
           {
            "marker": {
             "line": {
              "color": "#E5ECF6",
              "width": 0.5
             },
             "pattern": {
              "fillmode": "overlay",
              "size": 10,
              "solidity": 0.2
             }
            },
            "type": "barpolar"
           }
          ],
          "carpet": [
           {
            "aaxis": {
             "endlinecolor": "#2a3f5f",
             "gridcolor": "white",
             "linecolor": "white",
             "minorgridcolor": "white",
             "startlinecolor": "#2a3f5f"
            },
            "baxis": {
             "endlinecolor": "#2a3f5f",
             "gridcolor": "white",
             "linecolor": "white",
             "minorgridcolor": "white",
             "startlinecolor": "#2a3f5f"
            },
            "type": "carpet"
           }
          ],
          "choropleth": [
           {
            "colorbar": {
             "outlinewidth": 0,
             "ticks": ""
            },
            "type": "choropleth"
           }
          ],
          "contour": [
           {
            "colorbar": {
             "outlinewidth": 0,
             "ticks": ""
            },
            "colorscale": [
             [
              0,
              "#0d0887"
             ],
             [
              0.1111111111111111,
              "#46039f"
             ],
             [
              0.2222222222222222,
              "#7201a8"
             ],
             [
              0.3333333333333333,
              "#9c179e"
             ],
             [
              0.4444444444444444,
              "#bd3786"
             ],
             [
              0.5555555555555556,
              "#d8576b"
             ],
             [
              0.6666666666666666,
              "#ed7953"
             ],
             [
              0.7777777777777778,
              "#fb9f3a"
             ],
             [
              0.8888888888888888,
              "#fdca26"
             ],
             [
              1,
              "#f0f921"
             ]
            ],
            "type": "contour"
           }
          ],
          "contourcarpet": [
           {
            "colorbar": {
             "outlinewidth": 0,
             "ticks": ""
            },
            "type": "contourcarpet"
           }
          ],
          "heatmap": [
           {
            "colorbar": {
             "outlinewidth": 0,
             "ticks": ""
            },
            "colorscale": [
             [
              0,
              "#0d0887"
             ],
             [
              0.1111111111111111,
              "#46039f"
             ],
             [
              0.2222222222222222,
              "#7201a8"
             ],
             [
              0.3333333333333333,
              "#9c179e"
             ],
             [
              0.4444444444444444,
              "#bd3786"
             ],
             [
              0.5555555555555556,
              "#d8576b"
             ],
             [
              0.6666666666666666,
              "#ed7953"
             ],
             [
              0.7777777777777778,
              "#fb9f3a"
             ],
             [
              0.8888888888888888,
              "#fdca26"
             ],
             [
              1,
              "#f0f921"
             ]
            ],
            "type": "heatmap"
           }
          ],
          "histogram": [
           {
            "marker": {
             "pattern": {
              "fillmode": "overlay",
              "size": 10,
              "solidity": 0.2
             }
            },
            "type": "histogram"
           }
          ],
          "histogram2d": [
           {
            "colorbar": {
             "outlinewidth": 0,
             "ticks": ""
            },
            "colorscale": [
             [
              0,
              "#0d0887"
             ],
             [
              0.1111111111111111,
              "#46039f"
             ],
             [
              0.2222222222222222,
              "#7201a8"
             ],
             [
              0.3333333333333333,
              "#9c179e"
             ],
             [
              0.4444444444444444,
              "#bd3786"
             ],
             [
              0.5555555555555556,
              "#d8576b"
             ],
             [
              0.6666666666666666,
              "#ed7953"
             ],
             [
              0.7777777777777778,
              "#fb9f3a"
             ],
             [
              0.8888888888888888,
              "#fdca26"
             ],
             [
              1,
              "#f0f921"
             ]
            ],
            "type": "histogram2d"
           }
          ],
          "histogram2dcontour": [
           {
            "colorbar": {
             "outlinewidth": 0,
             "ticks": ""
            },
            "colorscale": [
             [
              0,
              "#0d0887"
             ],
             [
              0.1111111111111111,
              "#46039f"
             ],
             [
              0.2222222222222222,
              "#7201a8"
             ],
             [
              0.3333333333333333,
              "#9c179e"
             ],
             [
              0.4444444444444444,
              "#bd3786"
             ],
             [
              0.5555555555555556,
              "#d8576b"
             ],
             [
              0.6666666666666666,
              "#ed7953"
             ],
             [
              0.7777777777777778,
              "#fb9f3a"
             ],
             [
              0.8888888888888888,
              "#fdca26"
             ],
             [
              1,
              "#f0f921"
             ]
            ],
            "type": "histogram2dcontour"
           }
          ],
          "mesh3d": [
           {
            "colorbar": {
             "outlinewidth": 0,
             "ticks": ""
            },
            "type": "mesh3d"
           }
          ],
          "parcoords": [
           {
            "line": {
             "colorbar": {
              "outlinewidth": 0,
              "ticks": ""
             }
            },
            "type": "parcoords"
           }
          ],
          "pie": [
           {
            "automargin": true,
            "type": "pie"
           }
          ],
          "scatter": [
           {
            "fillpattern": {
             "fillmode": "overlay",
             "size": 10,
             "solidity": 0.2
            },
            "type": "scatter"
           }
          ],
          "scatter3d": [
           {
            "line": {
             "colorbar": {
              "outlinewidth": 0,
              "ticks": ""
             }
            },
            "marker": {
             "colorbar": {
              "outlinewidth": 0,
              "ticks": ""
             }
            },
            "type": "scatter3d"
           }
          ],
          "scattercarpet": [
           {
            "marker": {
             "colorbar": {
              "outlinewidth": 0,
              "ticks": ""
             }
            },
            "type": "scattercarpet"
           }
          ],
          "scattergeo": [
           {
            "marker": {
             "colorbar": {
              "outlinewidth": 0,
              "ticks": ""
             }
            },
            "type": "scattergeo"
           }
          ],
          "scattergl": [
           {
            "marker": {
             "colorbar": {
              "outlinewidth": 0,
              "ticks": ""
             }
            },
            "type": "scattergl"
           }
          ],
          "scattermap": [
           {
            "marker": {
             "colorbar": {
              "outlinewidth": 0,
              "ticks": ""
             }
            },
            "type": "scattermap"
           }
          ],
          "scattermapbox": [
           {
            "marker": {
             "colorbar": {
              "outlinewidth": 0,
              "ticks": ""
             }
            },
            "type": "scattermapbox"
           }
          ],
          "scatterpolar": [
           {
            "marker": {
             "colorbar": {
              "outlinewidth": 0,
              "ticks": ""
             }
            },
            "type": "scatterpolar"
           }
          ],
          "scatterpolargl": [
           {
            "marker": {
             "colorbar": {
              "outlinewidth": 0,
              "ticks": ""
             }
            },
            "type": "scatterpolargl"
           }
          ],
          "scatterternary": [
           {
            "marker": {
             "colorbar": {
              "outlinewidth": 0,
              "ticks": ""
             }
            },
            "type": "scatterternary"
           }
          ],
          "surface": [
           {
            "colorbar": {
             "outlinewidth": 0,
             "ticks": ""
            },
            "colorscale": [
             [
              0,
              "#0d0887"
             ],
             [
              0.1111111111111111,
              "#46039f"
             ],
             [
              0.2222222222222222,
              "#7201a8"
             ],
             [
              0.3333333333333333,
              "#9c179e"
             ],
             [
              0.4444444444444444,
              "#bd3786"
             ],
             [
              0.5555555555555556,
              "#d8576b"
             ],
             [
              0.6666666666666666,
              "#ed7953"
             ],
             [
              0.7777777777777778,
              "#fb9f3a"
             ],
             [
              0.8888888888888888,
              "#fdca26"
             ],
             [
              1,
              "#f0f921"
             ]
            ],
            "type": "surface"
           }
          ],
          "table": [
           {
            "cells": {
             "fill": {
              "color": "#EBF0F8"
             },
             "line": {
              "color": "white"
             }
            },
            "header": {
             "fill": {
              "color": "#C8D4E3"
             },
             "line": {
              "color": "white"
             }
            },
            "type": "table"
           }
          ]
         },
         "layout": {
          "annotationdefaults": {
           "arrowcolor": "#2a3f5f",
           "arrowhead": 0,
           "arrowwidth": 1
          },
          "autotypenumbers": "strict",
          "coloraxis": {
           "colorbar": {
            "outlinewidth": 0,
            "ticks": ""
           }
          },
          "colorscale": {
           "diverging": [
            [
             0,
             "#8e0152"
            ],
            [
             0.1,
             "#c51b7d"
            ],
            [
             0.2,
             "#de77ae"
            ],
            [
             0.3,
             "#f1b6da"
            ],
            [
             0.4,
             "#fde0ef"
            ],
            [
             0.5,
             "#f7f7f7"
            ],
            [
             0.6,
             "#e6f5d0"
            ],
            [
             0.7,
             "#b8e186"
            ],
            [
             0.8,
             "#7fbc41"
            ],
            [
             0.9,
             "#4d9221"
            ],
            [
             1,
             "#276419"
            ]
           ],
           "sequential": [
            [
             0,
             "#0d0887"
            ],
            [
             0.1111111111111111,
             "#46039f"
            ],
            [
             0.2222222222222222,
             "#7201a8"
            ],
            [
             0.3333333333333333,
             "#9c179e"
            ],
            [
             0.4444444444444444,
             "#bd3786"
            ],
            [
             0.5555555555555556,
             "#d8576b"
            ],
            [
             0.6666666666666666,
             "#ed7953"
            ],
            [
             0.7777777777777778,
             "#fb9f3a"
            ],
            [
             0.8888888888888888,
             "#fdca26"
            ],
            [
             1,
             "#f0f921"
            ]
           ],
           "sequentialminus": [
            [
             0,
             "#0d0887"
            ],
            [
             0.1111111111111111,
             "#46039f"
            ],
            [
             0.2222222222222222,
             "#7201a8"
            ],
            [
             0.3333333333333333,
             "#9c179e"
            ],
            [
             0.4444444444444444,
             "#bd3786"
            ],
            [
             0.5555555555555556,
             "#d8576b"
            ],
            [
             0.6666666666666666,
             "#ed7953"
            ],
            [
             0.7777777777777778,
             "#fb9f3a"
            ],
            [
             0.8888888888888888,
             "#fdca26"
            ],
            [
             1,
             "#f0f921"
            ]
           ]
          },
          "colorway": [
           "#636efa",
           "#EF553B",
           "#00cc96",
           "#ab63fa",
           "#FFA15A",
           "#19d3f3",
           "#FF6692",
           "#B6E880",
           "#FF97FF",
           "#FECB52"
          ],
          "font": {
           "color": "#2a3f5f"
          },
          "geo": {
           "bgcolor": "white",
           "lakecolor": "white",
           "landcolor": "#E5ECF6",
           "showlakes": true,
           "showland": true,
           "subunitcolor": "white"
          },
          "hoverlabel": {
           "align": "left"
          },
          "hovermode": "closest",
          "mapbox": {
           "style": "light"
          },
          "paper_bgcolor": "white",
          "plot_bgcolor": "#E5ECF6",
          "polar": {
           "angularaxis": {
            "gridcolor": "white",
            "linecolor": "white",
            "ticks": ""
           },
           "bgcolor": "#E5ECF6",
           "radialaxis": {
            "gridcolor": "white",
            "linecolor": "white",
            "ticks": ""
           }
          },
          "scene": {
           "xaxis": {
            "backgroundcolor": "#E5ECF6",
            "gridcolor": "white",
            "gridwidth": 2,
            "linecolor": "white",
            "showbackground": true,
            "ticks": "",
            "zerolinecolor": "white"
           },
           "yaxis": {
            "backgroundcolor": "#E5ECF6",
            "gridcolor": "white",
            "gridwidth": 2,
            "linecolor": "white",
            "showbackground": true,
            "ticks": "",
            "zerolinecolor": "white"
           },
           "zaxis": {
            "backgroundcolor": "#E5ECF6",
            "gridcolor": "white",
            "gridwidth": 2,
            "linecolor": "white",
            "showbackground": true,
            "ticks": "",
            "zerolinecolor": "white"
           }
          },
          "shapedefaults": {
           "line": {
            "color": "#2a3f5f"
           }
          },
          "ternary": {
           "aaxis": {
            "gridcolor": "white",
            "linecolor": "white",
            "ticks": ""
           },
           "baxis": {
            "gridcolor": "white",
            "linecolor": "white",
            "ticks": ""
           },
           "bgcolor": "#E5ECF6",
           "caxis": {
            "gridcolor": "white",
            "linecolor": "white",
            "ticks": ""
           }
          },
          "title": {
           "x": 0.05
          },
          "xaxis": {
           "automargin": true,
           "gridcolor": "white",
           "linecolor": "white",
           "ticks": "",
           "title": {
            "standoff": 15
           },
           "zerolinecolor": "white",
           "zerolinewidth": 2
          },
          "yaxis": {
           "automargin": true,
           "gridcolor": "white",
           "linecolor": "white",
           "ticks": "",
           "title": {
            "standoff": 15
           },
           "zerolinecolor": "white",
           "zerolinewidth": 2
          }
         }
        },
        "title": {
         "text": "Correlation Heatmap of Evaluation Metrics"
        },
        "width": 600,
        "xaxis": {
         "dtick": 1,
         "gridcolor": "rgb(0, 0, 0)",
         "side": "top",
         "ticks": ""
        },
        "yaxis": {
         "dtick": 1,
         "ticks": "",
         "ticksuffix": "  "
        }
       }
      }
     },
     "metadata": {},
     "output_type": "display_data"
    }
   ],
   "source": [
    "import plotly.figure_factory as ff\n",
    "\n",
    "# Select relevant columns\n",
    "metrics = [\n",
    "    'evaluation_factual_correctness_score',\n",
    "    'evaluation_completeness_score',\n",
    "    'evaluation_clarity_score',\n",
    "    'overall_score'\n",
    "]\n",
    "\n",
    "# Calculate correlation matrix\n",
    "corr_matrix = df[metrics].corr().round(2)\n",
    "\n",
    "# Create heatmap\n",
    "fig = ff.create_annotated_heatmap(\n",
    "    z=corr_matrix.values,\n",
    "    x=corr_matrix.columns.tolist(),\n",
    "    y=corr_matrix.index.tolist(),\n",
    "    annotation_text=corr_matrix.values,\n",
    "    colorscale='Blues',\n",
    "    showscale=True\n",
    ")\n",
    "\n",
    "fig.update_layout(\n",
    "    title='Correlation Heatmap of Evaluation Metrics',\n",
    "    width=600,\n",
    "    height=600\n",
    ")\n",
    "\n",
    "fig.show()\n"
   ]
  },
  {
   "cell_type": "code",
   "execution_count": 11,
   "id": "0cd6c4d9",
   "metadata": {},
   "outputs": [
    {
     "name": "stdout",
     "output_type": "stream",
     "text": [
      "Worst Answer by Overall Score: 2.3333333333333335\n",
      "Question: Based on the Alphabet Inc. fiscal year ended December 31, 2024, what were the basic and diluted net income per share amounts for Class A, Class B, and Class C shares, and how did these compare to the previous year ended December 31, 2023?\n",
      "Reasons: The model answer provides specific basic and diluted net income per share amounts for Class A, B, and C shares for 2024 and 2023, but these figures are not supported or found in the provided document chunk or search results. The document chunk references are numerical and do not contain explicit data on net income per share by class or year, and the search results discuss overall revenues and net income but not the per share breakdowns requested. Thus, the answer is mostly factually incorrect and incomplete. The answer is clearly presented but based on unsupported data.\n"
     ]
    }
   ],
   "source": [
    "#Worst answer by overall\n",
    "worst_answer = df.loc[df['overall_score'].idxmin()]\n",
    "print(f\"Worst Answer by Overall Score: {df['overall_score'].min()}\")\n",
    "print(f\"Question: {worst_answer['question']}\")\n",
    "# print(f\"Answer: {worst_answer['answer']}\")\n",
    "print(f\"Reasons: {worst_answer['evaluation_comments']}\")"
   ]
  }
 ],
 "metadata": {
  "kernelspec": {
   "display_name": "Python 3",
   "language": "python",
   "name": "python3"
  },
  "language_info": {
   "codemirror_mode": {
    "name": "ipython",
    "version": 3
   },
   "file_extension": ".py",
   "mimetype": "text/x-python",
   "name": "python",
   "nbconvert_exporter": "python",
   "pygments_lexer": "ipython3",
   "version": "3.9.13"
  }
 },
 "nbformat": 4,
 "nbformat_minor": 5
}
