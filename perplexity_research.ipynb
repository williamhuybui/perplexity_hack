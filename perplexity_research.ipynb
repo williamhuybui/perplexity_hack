{
 "cells": [
  {
   "cell_type": "code",
   "execution_count": 209,
   "metadata": {},
   "outputs": [
    {
     "name": "stdout",
     "output_type": "stream",
     "text": [
      "Folder 'session_1' deleted.\n",
      "Folder 'session_1' created.\n"
     ]
    }
   ],
   "source": [
    "from langchain.document_loaders import PyMuPDFLoader\n",
    "from langchain.text_splitter import RecursiveCharacterTextSplitter\n",
    "from langchain.vectorstores import FAISS\n",
    "from langchain_huggingface import HuggingFaceEmbeddings\n",
    "from openai import OpenAI\n",
    "import pandas as pd \n",
    "import os, json, random, re\n",
    "\n",
    "#USER INPUT\n",
    "N_QUESTIONS = 1\n",
    "PROJECT_NAME = \"session_1\"\n",
    "INPUT_DIR = \"finance_data\"\n",
    "\n",
    "#CONFIG\n",
    "metadata_dir = os.path.join(PROJECT_NAME, \"metadata.json\")\n",
    "CHUNK_SIZE = 5000\n",
    "CHUNK_OVERLAP = 100\n",
    "N_PAGE_SUMMARY = 3\n",
    "API_KEY = \"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\"\n",
    "\n",
    "###### DELETE THIS ON PRODUCTION #########\n",
    "#Remove session folder and everything in it\n",
    "if os.path.exists(PROJECT_NAME) :\n",
    "    import shutil\n",
    "    shutil.rmtree(PROJECT_NAME)\n",
    "    print(f\"Folder '{PROJECT_NAME}' deleted.\")\n",
    "##########################################\n",
    "    \n",
    "#INITIALIZATION\n",
    "client = OpenAI(api_key=API_KEY, base_url=\"https://api.perplexity.ai\")\n",
    "# Create folder if it doesn't already exist\n",
    "CHUNKS_DIR = os.path.join(PROJECT_NAME, \"chunks\")\n",
    "if not os.path.exists(PROJECT_NAME) :\n",
    "    os.makedirs(PROJECT_NAME)\n",
    "    os.makedirs(CHUNKS_DIR)\n",
    "    print(f\"Folder '{PROJECT_NAME}' created.\")\n",
    "else:\n",
    "    print(f\"Folder '{PROJECT_NAME}' already exists.\")"
   ]
  },
  {
   "cell_type": "code",
   "execution_count": 210,
   "metadata": {},
   "outputs": [],
   "source": [
    "def summary_extraction(first_n_pages):\n",
    "    response = client.chat.completions.create(\n",
    "    model=\"sonar\",\n",
    "    temperature=0,\n",
    "    messages= [{\n",
    "        \"role\": \"system\",\n",
    "                \"content\": \"\"\"\n",
    "                You are a financial report assistant. \n",
    "                I will provide the first few pages of a financial report, and your task is to give a concise, single-sentence summary answering: \n",
    "                (1) which company the report is about and \n",
    "                (2) what year it covers. \n",
    "                Limit the summary to 50 words, with no extra details or formatting.\n",
    "                \"\"\"\n",
    "    },\n",
    "        {   \n",
    "            \"role\": \"user\",\n",
    "            \"content\":  f\"\"\"\n",
    "            The first few pages {first_n_pages}\n",
    "            Your response: \n",
    "            \"\"\"\n",
    "            \n",
    "        },\n",
    "    ])\n",
    "    return response.choices[0].message.content.strip()\n",
    "\n",
    "\n",
    "def generate_questions(summary, chunk):\n",
    "    response = client.chat.completions.create(\n",
    "        model=\"sonar\",\n",
    "        messages=[{\n",
    "            \"role\": \"system\",\n",
    "            \"content\": \"\"\"\n",
    "            You are a question generator. \n",
    "            I will provide a chunk of information along with its PDF context. \n",
    "            Your task is to generate one question  with the following requirement\n",
    "            (1) The question should based solely on the chunk’s content\n",
    "            (2) The question should include enough context from the summary (company name and year) to make it clear what the question is about.\n",
    "            (3) Do not add any extra information. \n",
    "            (4) If the chunk lacks useful content, respond with an empty string.\n",
    "            \"\"\"\n",
    "        },\n",
    "        {\n",
    "            \"role\": \"user\",\n",
    "            \"content\": f\"\"\"\n",
    "            PDF Summary {summary}. Chunk Text: {chunk}\n",
    "            Your question:\n",
    "            \"\"\"\n",
    "        }],\n",
    "    )\n",
    "    return response.choices[0].message.content.strip()"
   ]
  },
  {
   "cell_type": "code",
   "execution_count": 211,
   "metadata": {},
   "outputs": [
    {
     "name": "stdout",
     "output_type": "stream",
     "text": [
      "Processed finance_data/nvidia.pdf, 69704 words and 167 chunks.\n",
      "Processed finance_data/cisco.pdf, 71074 words and 175 chunks.\n",
      "Processed finance_data/oracle.pdf, 91978 words and 227 chunks.\n",
      "Processed finance_data/meta.pdf, 3107 words and 11 chunks.\n",
      "Processed finance_data/tesla.pdf, 59382 words and 152 chunks.\n",
      "Processed finance_data/apple.pdf, 1475 words and 3 chunks.\n",
      "Processed finance_data/netflix.pdf, 86087 words and 387 chunks.\n",
      "Processed finance_data/reddit.pdf, 67567 words and 146 chunks.\n",
      "Processed finance_data/google.pdf, 51919 words and 123 chunks.\n",
      "Processed finance_data/amazon.pdf, 47161 words and 112 chunks.\n"
     ]
    }
   ],
   "source": [
    "pdf_list = []\n",
    "\n",
    "# Save metadata\n",
    "if os.path.exists(metadata_dir):\n",
    "    with open(metadata_dir, \"r\") as f:\n",
    "        metadata = json.load(f)\n",
    "else:\n",
    "    metadata = []\n",
    "all_filenames = [entry[\"file_name\"] for entry in metadata]\n",
    "\n",
    "# Loop through PDFs\n",
    "for file_name in os.listdir(INPUT_DIR):\n",
    "    if file_name.endswith(\".pdf\") and file_name not in all_filenames:\n",
    "        file_path = os.path.join(INPUT_DIR, file_name)\n",
    "        pdf_list.append(file_path)\n",
    "\n",
    "        # 1) Load\n",
    "        loader = PyMuPDFLoader(file_path)\n",
    "        documents = loader.load()\n",
    "\n",
    "        # 2) Split\n",
    "        splitter = RecursiveCharacterTextSplitter(chunk_size=CHUNK_SIZE, chunk_overlap=CHUNK_OVERLAP)\n",
    "        chunks = splitter.split_documents(documents)\n",
    "\n",
    "        # 3) Summary\n",
    "        first_n_pages = \"\\n\".join([doc.page_content for doc in documents[:N_PAGE_SUMMARY]])\n",
    "        summary = summary_extraction(first_n_pages)\n",
    "        \n",
    "        # Log\n",
    "        word_count = 0\n",
    "        for doc in documents:\n",
    "            word_count += doc.page_content.count(' ') \n",
    "        chunk_count = len(chunks)\n",
    "        print(f\"Processed {file_path}, {word_count} words and {chunk_count} chunks.\")\n",
    "        \n",
    "        # 4) Save metadata\n",
    "        format_name = file_name.split(\".\")[0]\n",
    "        metadata.append({\n",
    "            \"file_name\": file_name,\n",
    "            \"format_name\": format_name,\n",
    "            \"file_path\": file_path,\n",
    "            \"chunk_count\": chunk_count,\n",
    "            \"total_word_count\": word_count,\n",
    "            \"summary\": summary,\n",
    "        })\n",
    "\n",
    "        # 5) Save chunks\n",
    "        chunks_text_list = [chunk.page_content for chunk in chunks]\n",
    "        file_chunks_dir = os.path.join(CHUNKS_DIR, f\"{format_name}.json\")\n",
    "        \n",
    "        # Save all chunks into one JSON file\n",
    "        with open(file_chunks_dir, \"w\") as f:\n",
    "            json.dump(chunks_text_list, f, indent=2)\n",
    "\n",
    "# Save metadata to file\n",
    "with open(metadata_dir, \"w\") as f:\n",
    "    json.dump(metadata, f, indent=2)"
   ]
  },
  {
   "cell_type": "code",
   "execution_count": 212,
   "metadata": {},
   "outputs": [],
   "source": [
    "res = {'file_name': [], \n",
    "       'question': [], \n",
    "       'format_name': [], \n",
    "       'file_path': [], \n",
    "       'summary': [], \n",
    "       'chunk': [], \n",
    "       'chunk_id': []}\n",
    "\n",
    "for data in metadata:\n",
    "    file_name, format_name, file_path, summary = data[\"file_name\"], data[\"format_name\"], data[\"file_path\"], data[\"summary\"]\n",
    "    file_chunks_dir = os.path.join(CHUNKS_DIR, f\"{format_name}.json\")\n",
    "    chunks = json.load(open(file_chunks_dir, \"r\"))\n",
    "    for i in range(N_QUESTIONS):\n",
    "        #Pick a random chunk\n",
    "        chunk_id = random.randint(0, len(chunks) - 1)\n",
    "        chunk = chunks[chunk_id]\n",
    "        question = generate_questions(summary, chunk)\n",
    "        #Save to results\n",
    "        res['file_name'].append(file_name)\n",
    "        res['question'].append(question)\n",
    "        res['format_name'].append(format_name)\n",
    "        res['file_path'].append(file_path)\n",
    "        res['summary'].append(summary)\n",
    "        res['chunk'].append(chunk)\n",
    "        res['chunk_id'].append(chunk_id)\n",
    "res = pd.DataFrame(res)"
   ]
  },
  {
   "cell_type": "code",
   "execution_count": 213,
   "metadata": {},
   "outputs": [
    {
     "data": {
      "text/html": [
       "<div>\n",
       "<style scoped>\n",
       "    .dataframe tbody tr th:only-of-type {\n",
       "        vertical-align: middle;\n",
       "    }\n",
       "\n",
       "    .dataframe tbody tr th {\n",
       "        vertical-align: top;\n",
       "    }\n",
       "\n",
       "    .dataframe thead th {\n",
       "        text-align: right;\n",
       "    }\n",
       "</style>\n",
       "<table border=\"1\" class=\"dataframe\">\n",
       "  <thead>\n",
       "    <tr style=\"text-align: right;\">\n",
       "      <th></th>\n",
       "      <th>file_name</th>\n",
       "      <th>question</th>\n",
       "      <th>format_name</th>\n",
       "      <th>file_path</th>\n",
       "      <th>summary</th>\n",
       "      <th>chunk</th>\n",
       "      <th>chunk_id</th>\n",
       "    </tr>\n",
       "  </thead>\n",
       "  <tbody>\n",
       "    <tr>\n",
       "      <th>0</th>\n",
       "      <td>nvidia.pdf</td>\n",
       "      <td>How could extended payment term arrangements w...</td>\n",
       "      <td>nvidia</td>\n",
       "      <td>finance_data/nvidia.pdf</td>\n",
       "      <td>The report is about NVIDIA Corporation and cov...</td>\n",
       "      <td>Table of Contents\\n•\\nour extended payment ter...</td>\n",
       "      <td>40</td>\n",
       "    </tr>\n",
       "    <tr>\n",
       "      <th>1</th>\n",
       "      <td>cisco.pdf</td>\n",
       "      <td>What are the key details reported by Cisco Sys...</td>\n",
       "      <td>cisco</td>\n",
       "      <td>finance_data/cisco.pdf</td>\n",
       "      <td>The report is about Cisco Systems, Inc. and co...</td>\n",
       "      <td>UNITED STATES SECURITIES AND EXCHANGE COMMISSI...</td>\n",
       "      <td>18</td>\n",
       "    </tr>\n",
       "    <tr>\n",
       "      <th>2</th>\n",
       "      <td>oracle.pdf</td>\n",
       "      <td>How does Oracle Financial Services Software Li...</td>\n",
       "      <td>oracle</td>\n",
       "      <td>finance_data/oracle.pdf</td>\n",
       "      <td>The report is about Oracle Financial Services ...</td>\n",
       "      <td>and industry standards. The solution enables s...</td>\n",
       "      <td>46</td>\n",
       "    </tr>\n",
       "    <tr>\n",
       "      <th>3</th>\n",
       "      <td>meta.pdf</td>\n",
       "      <td>How did the operating income for Meta Platform...</td>\n",
       "      <td>meta</td>\n",
       "      <td>finance_data/meta.pdf</td>\n",
       "      <td>The report is about Meta Platforms, Inc. and c...</td>\n",
       "      <td>Segment Results\\nWe report our financial resul...</td>\n",
       "      <td>9</td>\n",
       "    </tr>\n",
       "    <tr>\n",
       "      <th>4</th>\n",
       "      <td>tesla.pdf</td>\n",
       "      <td>What details are provided in Tesla, Inc.'s rep...</td>\n",
       "      <td>tesla</td>\n",
       "      <td>finance_data/tesla.pdf</td>\n",
       "      <td>The report is about Tesla, Inc. and covers the...</td>\n",
       "      <td>Exhibit\\nNumber\\nIncorporated by Reference\\nFi...</td>\n",
       "      <td>121</td>\n",
       "    </tr>\n",
       "  </tbody>\n",
       "</table>\n",
       "</div>"
      ],
      "text/plain": [
       "    file_name                                           question format_name  \\\n",
       "0  nvidia.pdf  How could extended payment term arrangements w...      nvidia   \n",
       "1   cisco.pdf  What are the key details reported by Cisco Sys...       cisco   \n",
       "2  oracle.pdf  How does Oracle Financial Services Software Li...      oracle   \n",
       "3    meta.pdf  How did the operating income for Meta Platform...        meta   \n",
       "4   tesla.pdf  What details are provided in Tesla, Inc.'s rep...       tesla   \n",
       "\n",
       "                 file_path                                            summary  \\\n",
       "0  finance_data/nvidia.pdf  The report is about NVIDIA Corporation and cov...   \n",
       "1   finance_data/cisco.pdf  The report is about Cisco Systems, Inc. and co...   \n",
       "2  finance_data/oracle.pdf  The report is about Oracle Financial Services ...   \n",
       "3    finance_data/meta.pdf  The report is about Meta Platforms, Inc. and c...   \n",
       "4   finance_data/tesla.pdf  The report is about Tesla, Inc. and covers the...   \n",
       "\n",
       "                                               chunk  chunk_id  \n",
       "0  Table of Contents\\n•\\nour extended payment ter...        40  \n",
       "1  UNITED STATES SECURITIES AND EXCHANGE COMMISSI...        18  \n",
       "2  and industry standards. The solution enables s...        46  \n",
       "3  Segment Results\\nWe report our financial resul...         9  \n",
       "4  Exhibit\\nNumber\\nIncorporated by Reference\\nFi...       121  "
      ]
     },
     "execution_count": 213,
     "metadata": {},
     "output_type": "execute_result"
    }
   ],
   "source": [
    "res.head()"
   ]
  },
  {
   "cell_type": "code",
   "execution_count": 214,
   "metadata": {},
   "outputs": [
    {
     "data": {
      "text/plain": [
       "0    How could extended payment term arrangements w...\n",
       "1    What are the key details reported by Cisco Sys...\n",
       "2    How does Oracle Financial Services Software Li...\n",
       "3    How did the operating income for Meta Platform...\n",
       "4    What details are provided in Tesla, Inc.'s rep...\n",
       "5    Based on Apple Inc.'s financial report for the...\n",
       "6    What specific financial metrics or trends did ...\n",
       "7    What potential risks does Reddit, Inc. face in...\n",
       "8    How could changes in tax policies, laws, or ra...\n",
       "9    What information does Amazon's 2024 report pro...\n",
       "Name: question, dtype: object"
      ]
     },
     "execution_count": 214,
     "metadata": {},
     "output_type": "execute_result"
    }
   ],
   "source": [
    "res.to_csv(f\"{PROJECT_NAME}/questions.csv\", index=False)\n",
    "res['question']"
   ]
  },
  {
   "cell_type": "markdown",
   "metadata": {},
   "source": [
    "# Create dummy testset"
   ]
  },
  {
   "cell_type": "code",
   "execution_count": 215,
   "metadata": {},
   "outputs": [
    {
     "name": "stdout",
     "output_type": "stream",
     "text": [
      "Loaded 1159 total documents.\n",
      "Split into 1511 chunks.\n"
     ]
    },
    {
     "name": "stderr",
     "output_type": "stream",
     "text": [
      "Xet Storage is enabled for this repo, but the 'hf_xet' package is not installed. Falling back to regular HTTP download. For better performance, install the package with: `pip install huggingface_hub[hf_xet]` or `pip install hf_xet`\n"
     ]
    },
    {
     "name": "stdout",
     "output_type": "stream",
     "text": [
      "Vector store saved.\n",
      "QA chain is ready.\n"
     ]
    }
   ],
   "source": [
    "from langchain.document_loaders import PyMuPDFLoader\n",
    "from langchain.text_splitter import RecursiveCharacterTextSplitter\n",
    "from langchain.embeddings import HuggingFaceEmbeddings\n",
    "from langchain.vectorstores import FAISS\n",
    "from langchain_community.chat_models import ChatPerplexity\n",
    "from langchain.chains import RetrievalQA\n",
    "import os\n",
    "\n",
    "# Settings\n",
    "PDF_FOLDER = \"finance_data\"\n",
    "CHUNK_SIZE = 5000\n",
    "CHUNK_OVERLAP = 500\n",
    "\n",
    "# Load all PDFs\n",
    "all_documents = []\n",
    "for filename in os.listdir(PDF_FOLDER):\n",
    "    if filename.endswith(\".pdf\"):\n",
    "        file_path = os.path.join(PDF_FOLDER, filename)\n",
    "        loader = PyMuPDFLoader(file_path)\n",
    "        documents = loader.load()\n",
    "        all_documents.extend(documents)\n",
    "\n",
    "print(f\"Loaded {len(all_documents)} total documents.\")\n",
    "\n",
    "# Split\n",
    "splitter = RecursiveCharacterTextSplitter(chunk_size=CHUNK_SIZE, chunk_overlap=CHUNK_OVERLAP)\n",
    "chunks = splitter.split_documents(all_documents)\n",
    "\n",
    "print(f\"Split into {len(chunks)} chunks.\")\n",
    "\n",
    "# Embedding\n",
    "model_name = \"sentence-transformers/all-mpnet-base-v2\"\n",
    "model_kwargs = {'device': 'cpu'}\n",
    "encode_kwargs = {'normalize_embeddings': False}  # False = Euclidean, True = Cosine similarity\n",
    "\n",
    "hf = HuggingFaceEmbeddings(\n",
    "    model_name=model_name,\n",
    "    model_kwargs=model_kwargs,\n",
    "    encode_kwargs=encode_kwargs\n",
    ")\n",
    "\n",
    "# Vector Store\n",
    "vector_store = FAISS.from_documents(chunks, hf)\n",
    "vector_store.save_local(\"faiss_index_open\")\n",
    "print(\"Vector store saved.\")\n",
    "\n",
    "# Retriever\n",
    "retriever = vector_store.as_retriever(search_kwargs={\"k\": 3})\n",
    "\n",
    "# LLM setup\n",
    "llm = ChatPerplexity(\n",
    "    model=\"sonar\",\n",
    "    pplx_api_key=\"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\",\n",
    "    temperature=0.2\n",
    ")\n",
    "\n",
    "# QA chain\n",
    "qa_chain = RetrievalQA.from_chain_type(\n",
    "    llm=llm,\n",
    "    retriever=retriever,\n",
    "    chain_type=\"stuff\",\n",
    "    return_source_documents=True\n",
    ")\n",
    "\n",
    "print(\"QA chain is ready.\")\n"
   ]
  },
  {
   "cell_type": "code",
   "execution_count": 216,
   "metadata": {},
   "outputs": [],
   "source": [
    "dummy_test = {'question': [], 'answer': [], 'top_k_chunk': []} #Top 3\n",
    "\n",
    "for question in res['question']:\n",
    "    result = qa_chain.invoke(question)\n",
    "    dummy_test['question'].append(question)\n",
    "    dummy_test['answer'].append(result['result'])\n",
    "    dummy_test['top_k_chunk'].append(result['source_documents'])\n",
    "dummy_test = pd.DataFrame(dummy_test)"
   ]
  },
  {
   "cell_type": "code",
   "execution_count": 217,
   "metadata": {},
   "outputs": [
    {
     "data": {
      "text/html": [
       "<div>\n",
       "<style scoped>\n",
       "    .dataframe tbody tr th:only-of-type {\n",
       "        vertical-align: middle;\n",
       "    }\n",
       "\n",
       "    .dataframe tbody tr th {\n",
       "        vertical-align: top;\n",
       "    }\n",
       "\n",
       "    .dataframe thead th {\n",
       "        text-align: right;\n",
       "    }\n",
       "</style>\n",
       "<table border=\"1\" class=\"dataframe\">\n",
       "  <thead>\n",
       "    <tr style=\"text-align: right;\">\n",
       "      <th></th>\n",
       "      <th>question</th>\n",
       "      <th>answer</th>\n",
       "      <th>top_k_chunk</th>\n",
       "    </tr>\n",
       "  </thead>\n",
       "  <tbody>\n",
       "    <tr>\n",
       "      <th>0</th>\n",
       "      <td>How could extended payment term arrangements w...</td>\n",
       "      <td>Several factors—including extended payment ter...</td>\n",
       "      <td>[page_content='Table of Contents\\nNVIDIA Corpo...</td>\n",
       "    </tr>\n",
       "    <tr>\n",
       "      <th>1</th>\n",
       "      <td>What are the key details reported by Cisco Sys...</td>\n",
       "      <td>Cisco Systems, Inc.'s 2024 Annual Report (Form...</td>\n",
       "      <td>[page_content='1\\nCisco Annual Report 2024\\n2\\...</td>\n",
       "    </tr>\n",
       "    <tr>\n",
       "      <th>2</th>\n",
       "      <td>How does Oracle Financial Services Software Li...</td>\n",
       "      <td>Oracle Financial Services Software Limited’s p...</td>\n",
       "      <td>[page_content='Oracle Financial Services Softw...</td>\n",
       "    </tr>\n",
       "    <tr>\n",
       "      <th>3</th>\n",
       "      <td>How did the operating income for Meta Platform...</td>\n",
       "      <td>For the twelve months ended December 31, 2024,...</td>\n",
       "      <td>[page_content='META PLATFORMS, INC.\\nCONDENSED...</td>\n",
       "    </tr>\n",
       "    <tr>\n",
       "      <th>4</th>\n",
       "      <td>What details are provided in Tesla, Inc.'s rep...</td>\n",
       "      <td>Tesla, Inc.’s Annual Report on Form 10-K for t...</td>\n",
       "      <td>[page_content='Tesla, Inc.\\nConsolidated State...</td>\n",
       "    </tr>\n",
       "    <tr>\n",
       "      <th>5</th>\n",
       "      <td>Based on Apple Inc.'s financial report for the...</td>\n",
       "      <td>Based on the provided financial data for Apple...</td>\n",
       "      <td>[page_content='Apple Inc. \\nCONDENSED CONSOLID...</td>\n",
       "    </tr>\n",
       "    <tr>\n",
       "      <th>6</th>\n",
       "      <td>What specific financial metrics or trends did ...</td>\n",
       "      <td>In its fiscal year ending December 31, 2022, N...</td>\n",
       "      <td>[page_content='Table of Contents\\nNETFLIX, INC...</td>\n",
       "    </tr>\n",
       "    <tr>\n",
       "      <th>7</th>\n",
       "      <td>What potential risks does Reddit, Inc. face in...</td>\n",
       "      <td>Reddit, Inc. faces several significant risks i...</td>\n",
       "      <td>[page_content='We may make decisions regarding...</td>\n",
       "    </tr>\n",
       "    <tr>\n",
       "      <th>8</th>\n",
       "      <td>How could changes in tax policies, laws, or ra...</td>\n",
       "      <td>Changes in tax policies, laws, or rates in var...</td>\n",
       "      <td>[page_content='become liable for taxes that ar...</td>\n",
       "    </tr>\n",
       "    <tr>\n",
       "      <th>9</th>\n",
       "      <td>What information does Amazon's 2024 report pro...</td>\n",
       "      <td>Amazon's 2024 annual report provides several k...</td>\n",
       "      <td>[page_content='AMAZON.COM, INC.\\nFORM 10-K\\nFo...</td>\n",
       "    </tr>\n",
       "  </tbody>\n",
       "</table>\n",
       "</div>"
      ],
      "text/plain": [
       "                                            question  \\\n",
       "0  How could extended payment term arrangements w...   \n",
       "1  What are the key details reported by Cisco Sys...   \n",
       "2  How does Oracle Financial Services Software Li...   \n",
       "3  How did the operating income for Meta Platform...   \n",
       "4  What details are provided in Tesla, Inc.'s rep...   \n",
       "5  Based on Apple Inc.'s financial report for the...   \n",
       "6  What specific financial metrics or trends did ...   \n",
       "7  What potential risks does Reddit, Inc. face in...   \n",
       "8  How could changes in tax policies, laws, or ra...   \n",
       "9  What information does Amazon's 2024 report pro...   \n",
       "\n",
       "                                              answer  \\\n",
       "0  Several factors—including extended payment ter...   \n",
       "1  Cisco Systems, Inc.'s 2024 Annual Report (Form...   \n",
       "2  Oracle Financial Services Software Limited’s p...   \n",
       "3  For the twelve months ended December 31, 2024,...   \n",
       "4  Tesla, Inc.’s Annual Report on Form 10-K for t...   \n",
       "5  Based on the provided financial data for Apple...   \n",
       "6  In its fiscal year ending December 31, 2022, N...   \n",
       "7  Reddit, Inc. faces several significant risks i...   \n",
       "8  Changes in tax policies, laws, or rates in var...   \n",
       "9  Amazon's 2024 annual report provides several k...   \n",
       "\n",
       "                                         top_k_chunk  \n",
       "0  [page_content='Table of Contents\\nNVIDIA Corpo...  \n",
       "1  [page_content='1\\nCisco Annual Report 2024\\n2\\...  \n",
       "2  [page_content='Oracle Financial Services Softw...  \n",
       "3  [page_content='META PLATFORMS, INC.\\nCONDENSED...  \n",
       "4  [page_content='Tesla, Inc.\\nConsolidated State...  \n",
       "5  [page_content='Apple Inc. \\nCONDENSED CONSOLID...  \n",
       "6  [page_content='Table of Contents\\nNETFLIX, INC...  \n",
       "7  [page_content='We may make decisions regarding...  \n",
       "8  [page_content='become liable for taxes that ar...  \n",
       "9  [page_content='AMAZON.COM, INC.\\nFORM 10-K\\nFo...  "
      ]
     },
     "execution_count": 217,
     "metadata": {},
     "output_type": "execute_result"
    }
   ],
   "source": [
    "dummy_test"
   ]
  },
  {
   "cell_type": "code",
   "execution_count": 232,
   "metadata": {},
   "outputs": [],
   "source": [
    "# Combine ground truth and generated answer\n",
    "combined_df = pd.merge(res, dummy_test, on='question', suffixes=('_ground_truth', '_generated'))"
   ]
  },
  {
   "cell_type": "code",
   "execution_count": 233,
   "metadata": {},
   "outputs": [
    {
     "data": {
      "text/html": [
       "<div>\n",
       "<style scoped>\n",
       "    .dataframe tbody tr th:only-of-type {\n",
       "        vertical-align: middle;\n",
       "    }\n",
       "\n",
       "    .dataframe tbody tr th {\n",
       "        vertical-align: top;\n",
       "    }\n",
       "\n",
       "    .dataframe thead th {\n",
       "        text-align: right;\n",
       "    }\n",
       "</style>\n",
       "<table border=\"1\" class=\"dataframe\">\n",
       "  <thead>\n",
       "    <tr style=\"text-align: right;\">\n",
       "      <th></th>\n",
       "      <th>file_name</th>\n",
       "      <th>question</th>\n",
       "      <th>format_name</th>\n",
       "      <th>file_path</th>\n",
       "      <th>summary</th>\n",
       "      <th>chunk</th>\n",
       "      <th>chunk_id</th>\n",
       "      <th>answer</th>\n",
       "      <th>top_k_chunk</th>\n",
       "    </tr>\n",
       "  </thead>\n",
       "  <tbody>\n",
       "    <tr>\n",
       "      <th>0</th>\n",
       "      <td>nvidia.pdf</td>\n",
       "      <td>How could extended payment term arrangements w...</td>\n",
       "      <td>nvidia</td>\n",
       "      <td>finance_data/nvidia.pdf</td>\n",
       "      <td>The report is about NVIDIA Corporation and cov...</td>\n",
       "      <td>Table of Contents\\n•\\nour extended payment ter...</td>\n",
       "      <td>40</td>\n",
       "      <td>Several factors—including extended payment ter...</td>\n",
       "      <td>[page_content='Table of Contents\\nNVIDIA Corpo...</td>\n",
       "    </tr>\n",
       "    <tr>\n",
       "      <th>1</th>\n",
       "      <td>cisco.pdf</td>\n",
       "      <td>What are the key details reported by Cisco Sys...</td>\n",
       "      <td>cisco</td>\n",
       "      <td>finance_data/cisco.pdf</td>\n",
       "      <td>The report is about Cisco Systems, Inc. and co...</td>\n",
       "      <td>UNITED STATES SECURITIES AND EXCHANGE COMMISSI...</td>\n",
       "      <td>18</td>\n",
       "      <td>Cisco Systems, Inc.'s 2024 Annual Report (Form...</td>\n",
       "      <td>[page_content='1\\nCisco Annual Report 2024\\n2\\...</td>\n",
       "    </tr>\n",
       "    <tr>\n",
       "      <th>2</th>\n",
       "      <td>oracle.pdf</td>\n",
       "      <td>How does Oracle Financial Services Software Li...</td>\n",
       "      <td>oracle</td>\n",
       "      <td>finance_data/oracle.pdf</td>\n",
       "      <td>The report is about Oracle Financial Services ...</td>\n",
       "      <td>and industry standards. The solution enables s...</td>\n",
       "      <td>46</td>\n",
       "      <td>Oracle Financial Services Software Limited’s p...</td>\n",
       "      <td>[page_content='Oracle Financial Services Softw...</td>\n",
       "    </tr>\n",
       "    <tr>\n",
       "      <th>3</th>\n",
       "      <td>meta.pdf</td>\n",
       "      <td>How did the operating income for Meta Platform...</td>\n",
       "      <td>meta</td>\n",
       "      <td>finance_data/meta.pdf</td>\n",
       "      <td>The report is about Meta Platforms, Inc. and c...</td>\n",
       "      <td>Segment Results\\nWe report our financial resul...</td>\n",
       "      <td>9</td>\n",
       "      <td>For the twelve months ended December 31, 2024,...</td>\n",
       "      <td>[page_content='META PLATFORMS, INC.\\nCONDENSED...</td>\n",
       "    </tr>\n",
       "    <tr>\n",
       "      <th>4</th>\n",
       "      <td>tesla.pdf</td>\n",
       "      <td>What details are provided in Tesla, Inc.'s rep...</td>\n",
       "      <td>tesla</td>\n",
       "      <td>finance_data/tesla.pdf</td>\n",
       "      <td>The report is about Tesla, Inc. and covers the...</td>\n",
       "      <td>Exhibit\\nNumber\\nIncorporated by Reference\\nFi...</td>\n",
       "      <td>121</td>\n",
       "      <td>Tesla, Inc.’s Annual Report on Form 10-K for t...</td>\n",
       "      <td>[page_content='Tesla, Inc.\\nConsolidated State...</td>\n",
       "    </tr>\n",
       "    <tr>\n",
       "      <th>5</th>\n",
       "      <td>apple.pdf</td>\n",
       "      <td>Based on Apple Inc.'s financial report for the...</td>\n",
       "      <td>apple</td>\n",
       "      <td>finance_data/apple.pdf</td>\n",
       "      <td>The financial report is about Apple Inc. and c...</td>\n",
       "      <td>Apple Inc. \\nCONDENSED CONSOLIDATED STATEMENTS...</td>\n",
       "      <td>0</td>\n",
       "      <td>Based on the provided financial data for Apple...</td>\n",
       "      <td>[page_content='Apple Inc. \\nCONDENSED CONSOLID...</td>\n",
       "    </tr>\n",
       "    <tr>\n",
       "      <th>6</th>\n",
       "      <td>netflix.pdf</td>\n",
       "      <td>What specific financial metrics or trends did ...</td>\n",
       "      <td>netflix</td>\n",
       "      <td>finance_data/netflix.pdf</td>\n",
       "      <td>The report is about Netflix, Inc. and covers t...</td>\n",
       "      <td>\"td\",\\n\"tr\",\\n\"table\",\\n\"div\",\\n\"body\",\\n\"html...</td>\n",
       "      <td>257</td>\n",
       "      <td>In its fiscal year ending December 31, 2022, N...</td>\n",
       "      <td>[page_content='Table of Contents\\nNETFLIX, INC...</td>\n",
       "    </tr>\n",
       "    <tr>\n",
       "      <th>7</th>\n",
       "      <td>reddit.pdf</td>\n",
       "      <td>What potential risks does Reddit, Inc. face in...</td>\n",
       "      <td>reddit</td>\n",
       "      <td>finance_data/reddit.pdf</td>\n",
       "      <td>The report is about Reddit, Inc. and covers th...</td>\n",
       "      <td>We believe that our corporate culture has cont...</td>\n",
       "      <td>42</td>\n",
       "      <td>Reddit, Inc. faces several significant risks i...</td>\n",
       "      <td>[page_content='We may make decisions regarding...</td>\n",
       "    </tr>\n",
       "    <tr>\n",
       "      <th>8</th>\n",
       "      <td>google.pdf</td>\n",
       "      <td>How could changes in tax policies, laws, or ra...</td>\n",
       "      <td>google</td>\n",
       "      <td>finance_data/google.pdf</td>\n",
       "      <td>The report is about Alphabet Inc. and covers t...</td>\n",
       "      <td>could harm our financial condition and operati...</td>\n",
       "      <td>38</td>\n",
       "      <td>Changes in tax policies, laws, or rates in var...</td>\n",
       "      <td>[page_content='become liable for taxes that ar...</td>\n",
       "    </tr>\n",
       "    <tr>\n",
       "      <th>9</th>\n",
       "      <td>amazon.pdf</td>\n",
       "      <td>What information does Amazon's 2024 report pro...</td>\n",
       "      <td>amazon</td>\n",
       "      <td>finance_data/amazon.pdf</td>\n",
       "      <td>The report is about Amazon and covers the year...</td>\n",
       "      <td>PART II\\nItem 5.\\nMarket for the Registrant’s ...</td>\n",
       "      <td>38</td>\n",
       "      <td>Amazon's 2024 annual report provides several k...</td>\n",
       "      <td>[page_content='AMAZON.COM, INC.\\nFORM 10-K\\nFo...</td>\n",
       "    </tr>\n",
       "  </tbody>\n",
       "</table>\n",
       "</div>"
      ],
      "text/plain": [
       "     file_name                                           question format_name  \\\n",
       "0   nvidia.pdf  How could extended payment term arrangements w...      nvidia   \n",
       "1    cisco.pdf  What are the key details reported by Cisco Sys...       cisco   \n",
       "2   oracle.pdf  How does Oracle Financial Services Software Li...      oracle   \n",
       "3     meta.pdf  How did the operating income for Meta Platform...        meta   \n",
       "4    tesla.pdf  What details are provided in Tesla, Inc.'s rep...       tesla   \n",
       "5    apple.pdf  Based on Apple Inc.'s financial report for the...       apple   \n",
       "6  netflix.pdf  What specific financial metrics or trends did ...     netflix   \n",
       "7   reddit.pdf  What potential risks does Reddit, Inc. face in...      reddit   \n",
       "8   google.pdf  How could changes in tax policies, laws, or ra...      google   \n",
       "9   amazon.pdf  What information does Amazon's 2024 report pro...      amazon   \n",
       "\n",
       "                  file_path  \\\n",
       "0   finance_data/nvidia.pdf   \n",
       "1    finance_data/cisco.pdf   \n",
       "2   finance_data/oracle.pdf   \n",
       "3     finance_data/meta.pdf   \n",
       "4    finance_data/tesla.pdf   \n",
       "5    finance_data/apple.pdf   \n",
       "6  finance_data/netflix.pdf   \n",
       "7   finance_data/reddit.pdf   \n",
       "8   finance_data/google.pdf   \n",
       "9   finance_data/amazon.pdf   \n",
       "\n",
       "                                             summary  \\\n",
       "0  The report is about NVIDIA Corporation and cov...   \n",
       "1  The report is about Cisco Systems, Inc. and co...   \n",
       "2  The report is about Oracle Financial Services ...   \n",
       "3  The report is about Meta Platforms, Inc. and c...   \n",
       "4  The report is about Tesla, Inc. and covers the...   \n",
       "5  The financial report is about Apple Inc. and c...   \n",
       "6  The report is about Netflix, Inc. and covers t...   \n",
       "7  The report is about Reddit, Inc. and covers th...   \n",
       "8  The report is about Alphabet Inc. and covers t...   \n",
       "9  The report is about Amazon and covers the year...   \n",
       "\n",
       "                                               chunk  chunk_id  \\\n",
       "0  Table of Contents\\n•\\nour extended payment ter...        40   \n",
       "1  UNITED STATES SECURITIES AND EXCHANGE COMMISSI...        18   \n",
       "2  and industry standards. The solution enables s...        46   \n",
       "3  Segment Results\\nWe report our financial resul...         9   \n",
       "4  Exhibit\\nNumber\\nIncorporated by Reference\\nFi...       121   \n",
       "5  Apple Inc. \\nCONDENSED CONSOLIDATED STATEMENTS...         0   \n",
       "6  \"td\",\\n\"tr\",\\n\"table\",\\n\"div\",\\n\"body\",\\n\"html...       257   \n",
       "7  We believe that our corporate culture has cont...        42   \n",
       "8  could harm our financial condition and operati...        38   \n",
       "9  PART II\\nItem 5.\\nMarket for the Registrant’s ...        38   \n",
       "\n",
       "                                              answer  \\\n",
       "0  Several factors—including extended payment ter...   \n",
       "1  Cisco Systems, Inc.'s 2024 Annual Report (Form...   \n",
       "2  Oracle Financial Services Software Limited’s p...   \n",
       "3  For the twelve months ended December 31, 2024,...   \n",
       "4  Tesla, Inc.’s Annual Report on Form 10-K for t...   \n",
       "5  Based on the provided financial data for Apple...   \n",
       "6  In its fiscal year ending December 31, 2022, N...   \n",
       "7  Reddit, Inc. faces several significant risks i...   \n",
       "8  Changes in tax policies, laws, or rates in var...   \n",
       "9  Amazon's 2024 annual report provides several k...   \n",
       "\n",
       "                                         top_k_chunk  \n",
       "0  [page_content='Table of Contents\\nNVIDIA Corpo...  \n",
       "1  [page_content='1\\nCisco Annual Report 2024\\n2\\...  \n",
       "2  [page_content='Oracle Financial Services Softw...  \n",
       "3  [page_content='META PLATFORMS, INC.\\nCONDENSED...  \n",
       "4  [page_content='Tesla, Inc.\\nConsolidated State...  \n",
       "5  [page_content='Apple Inc. \\nCONDENSED CONSOLID...  \n",
       "6  [page_content='Table of Contents\\nNETFLIX, INC...  \n",
       "7  [page_content='We may make decisions regarding...  \n",
       "8  [page_content='become liable for taxes that ar...  \n",
       "9  [page_content='AMAZON.COM, INC.\\nFORM 10-K\\nFo...  "
      ]
     },
     "execution_count": 233,
     "metadata": {},
     "output_type": "execute_result"
    }
   ],
   "source": [
    "combined_df"
   ]
  },
  {
   "cell_type": "code",
   "execution_count": 234,
   "metadata": {},
   "outputs": [],
   "source": [
    "dummy_test.to_csv(f\"{PROJECT_NAME}/dummy_test.csv\", index=False)"
   ]
  },
  {
   "cell_type": "markdown",
   "metadata": {},
   "source": [
    "# Evaluation Process"
   ]
  },
  {
   "cell_type": "code",
   "execution_count": 235,
   "metadata": {},
   "outputs": [],
   "source": [
    "prompt = \"\"\"\n",
    "    You are a financial data Q&A evaluator.\n",
    "\n",
    "    You are given:\n",
    "    - A **question** generated from a document chunk.\n",
    "    - The **document chunk** (ground truth source).\n",
    "    - A **model-generated answer** to the question.\n",
    "\n",
    "    Your job is to score the model’s answer by carefully comparing it to the document chunk.\n",
    "\n",
    "    Use the following rubric for each category:\n",
    "\n",
    "    ---\n",
    "    **Factual Correctness**\n",
    "    - 5 = All facts are fully correct and consistent with the chunk.\n",
    "    - 4 = Minor factual inaccuracies but mostly correct.\n",
    "    - 3 = Some factual inaccuracies, partly correct.\n",
    "    - 2 = Major factual mistakes, mostly incorrect.\n",
    "    - 1 = Completely factually wrong.\n",
    "\n",
    "    ---\n",
    "    **Completeness**\n",
    "    - 5 = Fully answers the question with all key details.\n",
    "    - 4 = Mostly complete, missing minor details.\n",
    "    - 3 = Partially complete, missing important parts.\n",
    "    - 2 = Mostly incomplete, only touches on part of the question.\n",
    "    - 1 = Completely incomplete.\n",
    "\n",
    "    ---\n",
    "    3**Clarity**\n",
    "    - 5 = Clear, precise, and easy to understand.\n",
    "    - 4 = Mostly clear, with minor awkwardness.\n",
    "    - 3 = Understandable but somewhat confusing or vague.\n",
    "    - 2 = Hard to understand or poorly phrased.\n",
    "    - 1 = Completely unclear or nonsensical.\n",
    "\n",
    "    ---\n",
    "    **Response Format**\n",
    "    Return ONLY this JSON (no extra explanation):\n",
    "    {\n",
    "        \"factual_correctness_score\": [1-5],\n",
    "        \"completeness_score\": [1-5],\n",
    "        \"clarity_score\": [1-5],\n",
    "        \"comments\": \"A brief explanation (1-2 sentences) why you assigned these scores.\"\n",
    "    }\n",
    "\"\"\"\n",
    "\n",
    "\n",
    "def evaluate_answer(question, chunk, answer):\n",
    "    response = client.chat.completions.create(\n",
    "        model=\"sonar\",\n",
    "        messages=[\n",
    "            {\"role\": \"system\", \"content\": prompt},\n",
    "            {\n",
    "                \"role\": \"user\",\n",
    "                \"content\": f\"\"\"\n",
    "                Please evaluate the following answer based on the provided question and document chunk. \n",
    "                Return ONLY a valid JSON object.\n",
    "\n",
    "                Question: {question}\n",
    "\n",
    "                Document Chunk: {chunk}\n",
    "\n",
    "                Model Answer: {answer}\n",
    "                \"\"\"\n",
    "            }\n",
    "        ],\n",
    "    )\n",
    "\n",
    "    response_content = response.choices[0].message.content.strip()\n",
    "    print(\"LLM Raw Output:\", response_content)\n",
    "\n",
    "    # Remove duplicate keys by keeping only the last occurrence\n",
    "    cleaned_content = re.sub(\n",
    "        r'(,\\s*\")(\\w+_score)\":\\s*\\d,\\s*\"\\2\":\\s*\\d',\n",
    "        lambda m: f',{m.group(2)}\": {m.group(0).split(\":\")[-1]}',\n",
    "        response_content\n",
    "    )\n",
    "\n",
    "    result = json.loads(cleaned_content)\n",
    "    return result\n"
   ]
  },
  {
   "cell_type": "code",
   "execution_count": 236,
   "metadata": {},
   "outputs": [
    {
     "name": "stdout",
     "output_type": "stream",
     "text": [
      "LLM Raw Output: ```json\n",
      "{\n",
      "    \"factual_correctness_score\": 4,\n",
      "    \"completeness_score\": 4,\n",
      "    \"clarity_score\": 5,\n",
      "    \"comments\": \"The model's answer is mostly factually correct, but includes some additional details not present in the document chunk. It is mostly complete but lacks minor details directly from the document chunk. The clarity is high, as the answer is well-structured and easy to understand.\"\n",
      "}\n",
      "```\n",
      "Retrying for question: How could extended payment term arrangements with customers, vendor payment requirements, unanticipated environmental liabilities, and changes in financial accounting standards potentially impact NVIDIA Corporation’s financial results, as highlighted in the fiscal year ending January 26, 2025 report? due to error: Expecting value: line 1 column 1 (char 0)\n",
      "LLM Raw Output: {\n",
      "  \"factual_correctness_score\": 5,\n",
      "  \"completeness_score\": 5,\n",
      "  \"clarity_score\": 5,\n",
      "  \"comments\": \"The answer accurately reflects the information from the document chunk regarding the impact of extended payment terms with customers, vendor payment requirements, unanticipated environmental liabilities, and changes in financial accounting standards on NVIDIA's financial results. It covers all key points and explains each factor clearly and comprehensively, including potential cash flow effects, risks, and disclosure impacts as stated in the source.\"\n",
      "}\n",
      "LLM Raw Output: ```json\n",
      "{\n",
      "    \"factual_correctness_score\": 3,\n",
      "    \"completeness_score\": 3,\n",
      "    \"clarity_score\": 5,\n",
      "    \"comments\": \"The model-generated answer contains some factual inaccuracies, such as revenue figures and specific stock performance details not directly supported by the document chunk. However, it is mostly clear and well-structured, but lacks completeness in directly addressing all key details from the document chunk.\"\n",
      "}\n",
      "```\n",
      "Retrying for question: What are the key details reported by Cisco Systems, Inc. in their 2024 Annual Report (Form 10-K) filed with the SEC for the fiscal year ended July 27, 2024, including their market status, stock information, and compliance acknowledgments? due to error: Expecting value: line 1 column 1 (char 0)\n",
      "LLM Raw Output: {\n",
      "    \"factual_correctness_score\": 4,\n",
      "    \"completeness_score\": 4,\n",
      "    \"clarity_score\": 5,\n",
      "    \"comments\": \"The model accurately summarizes Cisco's market status, compliance, and stock information, but misstates some financial details and share counts not verified in the provided document chunk and lacks some specific numbers from the actual filing.\"\n",
      "}\n",
      "LLM Raw Output: {\n",
      "  \"factual_correctness_score\": 2,\n",
      "  \"completeness_score\": 2,\n",
      "  \"clarity_score\": 3,\n",
      "  \"comments\": \"The answer includes many details about Oracle's retail banking portfolio and machine learning capabilities, but much of its content is not supported or mentioned in the provided document chunk. The chunk highlights specific solutions like Oracle Banking Origination, FLEXCUBE for Islamic Banking, Oracle Banking Platform, and Oracle Banking Branch with embedded machine learning, but the answer introduces unreferenced cloud services and AI-driven features not cited in the chunk. The original chunk does not mention generative AI, extensive cloud modular services, or specific customer deals, which the answer attributes to the company. While the answer attempts to be detailed and structured, many factual claims exceed or contradict the given text. The answer only partially addresses the question with some relevant points about embedded machine learning and customer-centric solutions but misses direct references from the chunk, resulting in partial completeness and mixed clarity.\"\n",
      "}\n",
      "LLM Raw Output: ```json\n",
      "{\n",
      "    \"factual_correctness_score\": 5,\n",
      "    \"completeness_score\": 5,\n",
      "    \"clarity_score\": 5,\n",
      "    \"comments\": \"The model answer accurately presents the operating income for both segments, provides a clear comparison, and is well-structured, making it fully correct and complete with excellent clarity.\"\n",
      "}\n",
      "```\n",
      "Retrying for question: How did the operating income for Meta Platforms, Inc.’s Family of Apps segment compare to its Reality Labs segment for the twelve months ended December 31, 2024? due to error: Expecting value: line 1 column 1 (char 0)\n",
      "LLM Raw Output: {\n",
      "  \"factual_correctness_score\": 5,\n",
      "  \"completeness_score\": 5,\n",
      "  \"clarity_score\": 5,\n",
      "  \"comments\": \"The answer correctly reports the operating income for Meta's Family of Apps segment ($87,109 million) and the operating loss for Reality Labs (-$17,729 million) for the twelve months ended December 31, 2024, consistent with the document chunk. It includes a clear comparative summary and a table that enhances understanding.\"\n",
      "}\n",
      "LLM Raw Output: ```json\n",
      "{\n",
      "    \"factual_correctness_score\": 4,\n",
      "    \"completeness_score\": 3,\n",
      "    \"clarity_score\": 5,\n",
      "    \"comments\": \"The model's answer is mostly factually correct but lacks specific details from the document chunk about the 2.00% Convertible Senior Notes due May 15, 2024. It is clear and well-explained, but does not provide all the key details requested in the question.\"\n",
      "}\n",
      "```\n",
      "Retrying for question: What details are provided in Tesla, Inc.'s report for the fiscal year ended December 31, 2023, regarding the 2.00% Convertible Senior Notes due May 15, 2024, including any related supplemental indentures and bond forms? due to error: Expecting value: line 1 column 1 (char 0)\n",
      "LLM Raw Output: ```json\n",
      "{\n",
      "    \"factual_correctness_score\": 2,\n",
      "    \"completeness_score\": 2,\n",
      "    \"clarity_score\": 5,\n",
      "    \"comments\": \"The model answer lacks specific factual details about the 2.00% Convertible Senior Notes due May 15, 2024, and related documents, despite the clarity of its explanation. It does not directly address the question from the provided document chunk, focusing instead on suggesting where the information might be found.\"\n",
      "}\n",
      "```\n",
      "Retrying for question: What details are provided in Tesla, Inc.'s report for the fiscal year ended December 31, 2023, regarding the 2.00% Convertible Senior Notes due May 15, 2024, including any related supplemental indentures and bond forms? due to error: Expecting value: line 1 column 1 (char 0)\n",
      "LLM Raw Output: ```json\n",
      "{\n",
      "    \"factual_correctness_score\": 3,\n",
      "    \"completeness_score\": 2,\n",
      "    \"clarity_score\": 4,\n",
      "    \"comments\": \"The answer provides some correct context but lacks specific details about the 2.00% Convertible Senior Notes due May 15, 2024, and related supplemental indentures from the document chunk. The clarity is good, but the completeness is insufficient as it does not directly address the question with information from the provided document chunk.\"\n",
      "}\n",
      "```\n",
      "Retrying for question: What details are provided in Tesla, Inc.'s report for the fiscal year ended December 31, 2023, regarding the 2.00% Convertible Senior Notes due May 15, 2024, including any related supplemental indentures and bond forms? due to error: Expecting value: line 1 column 1 (char 0)\n",
      "LLM Raw Output: {\n",
      "    \"factual_correctness_score\": 5,\n",
      "    \"completeness_score\": 4,\n",
      "    \"clarity_score\": 5,\n",
      "    \"comments\": \"The answer is factually correct and clear, but it omits that the Fifth Supplemental Indenture and the form of notes are actually referenced in the exhibits of the provided chunk, though not directly quoted in the main narrative.\"\n",
      "}\n",
      "LLM Raw Output: {\n",
      "  \"factual_correctness_score\": 5,\n",
      "  \"completeness_score\": 5,\n",
      "  \"clarity_score\": 5,\n",
      "  \"comments\": \"The model answer accurately reflects all key financial data from the document chunk with correct figures and comparisons. It covers all requested financial highlights including net sales, gross margin, operating expenses, income, EPS, product and geographic sales breakdowns. The answer is clearly structured and precise, making it easy to understand. The only addition regarding the fiscal year end clarification is a valid and useful contextual note, enhancing completeness without contradicting the source.\"\n",
      "}\n",
      "LLM Raw Output: ```json\n",
      "{\n",
      "    \"factual_correctness_score\": 3,\n",
      "    \"completeness_score\": 3,\n",
      "    \"clarity_score\": 5,\n",
      "    \"comments\": \"The model's answer includes some factual inaccuracies, such as specific revenue figures and operational income not directly mentioned in the document chunk. However, it maintains clarity and covers several key trends. Completeness is partial, as it does not fully align with the specific details from Netflix's 2022 report.\"\n",
      "}\n",
      "```\n",
      "Retrying for question: What specific financial metrics or trends did Netflix, Inc. highlight in its fiscal year ending December 31, 2022, report? due to error: Expecting value: line 1 column 1 (char 0)\n",
      "LLM Raw Output: {\n",
      "    \"factual_correctness_score\": 2,\n",
      "    \"completeness_score\": 3,\n",
      "    \"clarity_score\": 5,\n",
      "    \"comments\": \"The model answer lists several correct metrics and trends from public reports, but the revenue, operating income, and net income figures provided are not present in the document chunk (which only contains technical data tags and not financial figures or trends). Some points (like the ad-supported plan and content names) are not supported by the specified chunk but might be true elsewhere.\"\n",
      "}\n",
      "LLM Raw Output: {\n",
      "    \"factual_correctness_score\": 5,\n",
      "    \"completeness_score\": 5,\n",
      "    \"clarity_score\": 5,\n",
      "    \"comments\": \"The answer captures all key risks from the document chunk accurately, is comprehensive, and presents information clearly.\"\n",
      "}\n",
      "LLM Raw Output: ```json\n",
      "{\n",
      "  \"factual_correctness_score\": 4,\n",
      "  \"completeness_score\": 4,\n",
      "  \"clarity_score\": 5,\n",
      "  \"comments\": \"The model answer is mostly factually correct and complete, but it adds some details not explicitly mentioned in the document chunk, such as the impact of research and development tax credits. The clarity is excellent, as it is well-organized and easy to understand.\"\n",
      "}\n",
      "```\n",
      "Retrying for question: How could changes in tax policies, laws, or rates in various jurisdictions potentially impact Alphabet Inc.'s financial condition and operating results during the fiscal year ended December 31, 2024? due to error: Expecting value: line 1 column 1 (char 0)\n",
      "LLM Raw Output: ```json\n",
      "{\n",
      "    \"factual_correctness_score\": 4,\n",
      "    \"completeness_score\": 4,\n",
      "    \"clarity_score\": 5,\n",
      "    \"comments\": \"The model answer provides largely accurate and detailed information about how tax policy changes could impact Alphabet Inc. However, it includes some minor extraneous details and lacks explicit mention of UK tax strategies or specific examples like the R&D tax change potentially affecting Alphabet. The answer is clear and well-structured.\"\n",
      "}\n",
      "```\n",
      "Retrying for question: How could changes in tax policies, laws, or rates in various jurisdictions potentially impact Alphabet Inc.'s financial condition and operating results during the fiscal year ended December 31, 2024? due to error: Expecting value: line 1 column 1 (char 0)\n",
      "LLM Raw Output: ```json\n",
      "{\n",
      "    \"factual_correctness_score\": 4,\n",
      "    \"completeness_score\": 5,\n",
      "    \"clarity_score\": 5,\n",
      "    \"comments\": \"The model's answer is mostly factually correct, provides a comprehensive overview of potential impacts on Alphabet Inc.'s finances, and is clear and well-structured. It may include some minor inaccuracies by extending beyond the document chunk.\"\n",
      "}\n",
      "```\n",
      "Retrying for question: How could changes in tax policies, laws, or rates in various jurisdictions potentially impact Alphabet Inc.'s financial condition and operating results during the fiscal year ended December 31, 2024? due to error: Expecting value: line 1 column 1 (char 0)\n",
      "LLM Raw Output: ```json\n",
      "{\n",
      "    \"factual_correctness_score\": 4,\n",
      "    \"completeness_score\": 5,\n",
      "    \"clarity_score\": 5,\n",
      "    \"comments\": \"The model answer is mostly factually correct, fully addresses the question with all key details, and is clear and easy to understand. However, it includes some minor inaccuracies and additional information not present in the document chunk.\"\n",
      "}\n",
      "```\n",
      "Retrying for question: How could changes in tax policies, laws, or rates in various jurisdictions potentially impact Alphabet Inc.'s financial condition and operating results during the fiscal year ended December 31, 2024? due to error: Expecting value: line 1 column 1 (char 0)\n",
      "LLM Raw Output: ```json\n",
      "{\n",
      "    \"factual_correctness_score\": 4,\n",
      "    \"completeness_score\": 4,\n",
      "    \"clarity_score\": 5,\n",
      "    \"comments\": \"The model's answer is mostly factually correct and complete, but includes some minor details not explicitly mentioned in the document chunk, such as the impact of research and development tax credits. The clarity is high, as the answer is well-structured and easy to understand.\"\n",
      "}\n",
      "```\n",
      "Retrying for question: How could changes in tax policies, laws, or rates in various jurisdictions potentially impact Alphabet Inc.'s financial condition and operating results during the fiscal year ended December 31, 2024? due to error: Expecting value: line 1 column 1 (char 0)\n",
      "LLM Raw Output: {\n",
      "    \"factual_correctness_score\": 5,\n",
      "    \"completeness_score\": 5,\n",
      "    \"clarity_score\": 5,\n",
      "    \"comments\": \"The model answer fully and accurately addresses every point in the document chunk, clearly elaborates on risks and impacts, and organizes the response for easy understanding.\"\n",
      "}\n",
      "LLM Raw Output: {\n",
      "    \"factual_correctness_score\": 3,\n",
      "    \"completeness_score\": 3,\n",
      "    \"clarity_score\": 4,\n",
      "    \"comments\": \"The answer contains factual errors (trading symbol description was not explicit in the context, but is actually correct; it also misstates availability of number of shareholders, which is present in the chunk) and omissions regarding equity transactions, but is mostly clear and understandable.\"\n",
      "}\n",
      "Saved final results to final.csv\n"
     ]
    }
   ],
   "source": [
    "import pandas as pd\n",
    "\n",
    "# Prepare a list to collect all processed rows\n",
    "final_rows = []\n",
    "\n",
    "for _, row in combined_df.iterrows():\n",
    "    question = row['question']\n",
    "    chunk = row['chunk']\n",
    "    answer = row['answer']\n",
    "\n",
    "    success = False\n",
    "    while not success:\n",
    "        try:\n",
    "            evaluation = evaluate_answer(question, chunk, answer)\n",
    "            success = True  # Break loop if successful\n",
    "        except Exception as e:\n",
    "            print(f\"Retrying for question: {question} due to error: {e}\")\n",
    "\n",
    "    # Build a combined result dictionary\n",
    "    result_row = {\n",
    "        'question': question,\n",
    "        'chunk': chunk,\n",
    "        'answer': answer\n",
    "    }\n",
    "    # Add evaluation results\n",
    "    for key, value in evaluation.items():\n",
    "        result_row[f'evaluation_{key}'] = value\n",
    "\n",
    "    final_rows.append(result_row)\n",
    "\n",
    "# Convert list of results to DataFrame\n",
    "final_df = pd.DataFrame(final_rows)\n",
    "\n",
    "# Save to CSV\n",
    "final_df.to_csv('final.csv', index=False)\n",
    "print(\"Saved final results to final.csv\")\n"
   ]
  },
  {
   "cell_type": "code",
   "execution_count": 239,
   "metadata": {},
   "outputs": [
    {
     "data": {
      "text/html": [
       "<div>\n",
       "<style scoped>\n",
       "    .dataframe tbody tr th:only-of-type {\n",
       "        vertical-align: middle;\n",
       "    }\n",
       "\n",
       "    .dataframe tbody tr th {\n",
       "        vertical-align: top;\n",
       "    }\n",
       "\n",
       "    .dataframe thead th {\n",
       "        text-align: right;\n",
       "    }\n",
       "</style>\n",
       "<table border=\"1\" class=\"dataframe\">\n",
       "  <thead>\n",
       "    <tr style=\"text-align: right;\">\n",
       "      <th></th>\n",
       "      <th>question</th>\n",
       "      <th>chunk</th>\n",
       "      <th>answer</th>\n",
       "      <th>evaluation_factual_correctness_score</th>\n",
       "      <th>evaluation_completeness_score</th>\n",
       "      <th>evaluation_clarity_score</th>\n",
       "      <th>evaluation_comments</th>\n",
       "    </tr>\n",
       "  </thead>\n",
       "  <tbody>\n",
       "    <tr>\n",
       "      <th>0</th>\n",
       "      <td>How could extended payment term arrangements w...</td>\n",
       "      <td>Table of Contents\\n•\\nour extended payment ter...</td>\n",
       "      <td>Several factors—including extended payment ter...</td>\n",
       "      <td>5</td>\n",
       "      <td>5</td>\n",
       "      <td>5</td>\n",
       "      <td>The answer accurately reflects the information...</td>\n",
       "    </tr>\n",
       "    <tr>\n",
       "      <th>1</th>\n",
       "      <td>What are the key details reported by Cisco Sys...</td>\n",
       "      <td>UNITED STATES SECURITIES AND EXCHANGE COMMISSI...</td>\n",
       "      <td>Cisco Systems, Inc.'s 2024 Annual Report (Form...</td>\n",
       "      <td>4</td>\n",
       "      <td>4</td>\n",
       "      <td>5</td>\n",
       "      <td>The model accurately summarizes Cisco's market...</td>\n",
       "    </tr>\n",
       "    <tr>\n",
       "      <th>2</th>\n",
       "      <td>How does Oracle Financial Services Software Li...</td>\n",
       "      <td>and industry standards. The solution enables s...</td>\n",
       "      <td>Oracle Financial Services Software Limited’s p...</td>\n",
       "      <td>2</td>\n",
       "      <td>2</td>\n",
       "      <td>3</td>\n",
       "      <td>The answer includes many details about Oracle'...</td>\n",
       "    </tr>\n",
       "    <tr>\n",
       "      <th>3</th>\n",
       "      <td>How did the operating income for Meta Platform...</td>\n",
       "      <td>Segment Results\\nWe report our financial resul...</td>\n",
       "      <td>For the twelve months ended December 31, 2024,...</td>\n",
       "      <td>5</td>\n",
       "      <td>5</td>\n",
       "      <td>5</td>\n",
       "      <td>The answer correctly reports the operating inc...</td>\n",
       "    </tr>\n",
       "    <tr>\n",
       "      <th>4</th>\n",
       "      <td>What details are provided in Tesla, Inc.'s rep...</td>\n",
       "      <td>Exhibit\\nNumber\\nIncorporated by Reference\\nFi...</td>\n",
       "      <td>Tesla, Inc.’s Annual Report on Form 10-K for t...</td>\n",
       "      <td>5</td>\n",
       "      <td>4</td>\n",
       "      <td>5</td>\n",
       "      <td>The answer is factually correct and clear, but...</td>\n",
       "    </tr>\n",
       "  </tbody>\n",
       "</table>\n",
       "</div>"
      ],
      "text/plain": [
       "                                            question  \\\n",
       "0  How could extended payment term arrangements w...   \n",
       "1  What are the key details reported by Cisco Sys...   \n",
       "2  How does Oracle Financial Services Software Li...   \n",
       "3  How did the operating income for Meta Platform...   \n",
       "4  What details are provided in Tesla, Inc.'s rep...   \n",
       "\n",
       "                                               chunk  \\\n",
       "0  Table of Contents\\n•\\nour extended payment ter...   \n",
       "1  UNITED STATES SECURITIES AND EXCHANGE COMMISSI...   \n",
       "2  and industry standards. The solution enables s...   \n",
       "3  Segment Results\\nWe report our financial resul...   \n",
       "4  Exhibit\\nNumber\\nIncorporated by Reference\\nFi...   \n",
       "\n",
       "                                              answer  \\\n",
       "0  Several factors—including extended payment ter...   \n",
       "1  Cisco Systems, Inc.'s 2024 Annual Report (Form...   \n",
       "2  Oracle Financial Services Software Limited’s p...   \n",
       "3  For the twelve months ended December 31, 2024,...   \n",
       "4  Tesla, Inc.’s Annual Report on Form 10-K for t...   \n",
       "\n",
       "   evaluation_factual_correctness_score  evaluation_completeness_score  \\\n",
       "0                                     5                              5   \n",
       "1                                     4                              4   \n",
       "2                                     2                              2   \n",
       "3                                     5                              5   \n",
       "4                                     5                              4   \n",
       "\n",
       "   evaluation_clarity_score                                evaluation_comments  \n",
       "0                         5  The answer accurately reflects the information...  \n",
       "1                         5  The model accurately summarizes Cisco's market...  \n",
       "2                         3  The answer includes many details about Oracle'...  \n",
       "3                         5  The answer correctly reports the operating inc...  \n",
       "4                         5  The answer is factually correct and clear, but...  "
      ]
     },
     "execution_count": 239,
     "metadata": {},
     "output_type": "execute_result"
    }
   ],
   "source": [
    "final_df.head()"
   ]
  },
  {
   "cell_type": "code",
   "execution_count": 245,
   "metadata": {},
   "outputs": [
    {
     "data": {
      "application/vnd.plotly.v1+json": {
       "config": {
        "plotlyServerURL": "https://plot.ly"
       },
       "data": [
        {
         "alignmentgroup": "True",
         "boxpoints": "all",
         "customdata": [
          [
           "How could extended payment term arrangements with customers, vendor payment requirements, unanticipated environmental liabilities, and changes in financial accounting standards potentially impact NVIDIA Corporation’s financial results, as highlighted in the fiscal year ending January 26, 2025 report?"
          ],
          [
           "What are the key details reported by Cisco Systems, Inc. in their 2024 Annual Report (Form 10-K) filed with the SEC for the fiscal year ended July 27, 2024, including their market status, stock information, and compliance acknowledgments?"
          ],
          [
           "How does Oracle Financial Services Software Limited’s portfolio for the financial year ended March 31, 2024, support innovation and efficiency for retail banking clients, as highlighted by its machine learning capabilities and customer-centric digital solutions?"
          ],
          [
           "How did the operating income for Meta Platforms, Inc.’s Family of Apps segment compare to its Reality Labs segment for the twelve months ended December 31, 2024?"
          ],
          [
           "What details are provided in Tesla, Inc.'s report for the fiscal year ended December 31, 2023, regarding the 2.00% Convertible Senior Notes due May 15, 2024, including any related supplemental indentures and bond forms?"
          ],
          [
           "Based on Apple Inc.'s financial report for the fiscal year 2023 ending July 1, 2023, here are the key financial highlights and details:\n\n## Net Sales\n- Total net sales for the three months ended July 1, 2023, were $81.8 billion, slightly down from $83.0 billion for the same period in 2022.\n- For the nine months ended July 1, 2023, total net sales were $293.8 billion, compared to $304.2 billion for the prior year period.\n- Product net sales were $60.6 billion for the quarter and $230.9 billion year-to-date, showing a decline from the previous year.\n- Services net sales increased to $21.2 billion for the quarter and $62.9 billion for nine months, up from $19.6 billion and $58.9 billion respectively.\n\n## Gross Margin\n- Gross margin was $36.4 billion for the quarter, up from $35.9 billion in 2022.\n- For nine months, gross margin was $128.7 billion, down from $132.7 billion.\n\n## Operating Expenses\n- Total operating expenses rose to $13.4 billion for the quarter from $12.8 billion.\n- For nine months, operating expenses were $41.4 billion, up from $38.1 billion.\n- Research and development expenses increased significantly, reflecting higher investment in innovation.\n\n## Operating Income and Net Income\n- Operating income was $23.0 billion for the quarter, nearly flat year-over-year.\n- Net income for the quarter was $19.9 billion, modestly up from $19.4 billion.\n- For nine months, net income totaled $74.0 billion, down from $79.1 billion.\n\n## Earnings Per Share (EPS)\n- Basic EPS for the quarter was $1.27, compared to $1.20 a year earlier.\n- Diluted EPS was $1.26 for the quarter and $4.67 for nine months.\n\n## Sales by Product Category (Quarter)\n- iPhone sales were $39.7 billion, slightly down from $40.7 billion.\n- Mac sales dropped to $6.8 billion from $7.4 billion.\n- iPad sales declined to $5.8 billion from $7.2 billion.\n- Wearables, Home and Accessories sales increased slightly to $8.3 billion.\n- Services sales increased to $21.2 billion.\n\n## Sales by Geographic Segment (Quarter)\n- Americas: $35.4 billion\n- Europe: $20.2 billion\n- Greater China: $15.8 billion\n- Japan: $4.8 billion\n- Rest of Asia Pacific: $5.6 billion\n\nOverall, Apple showed a stable financial performance in fiscal 2023’s third quarter, with notable growth in Services offsetting some declines in Products, especially in Mac and iPad categories. The company maintained strong profitability despite a slight decrease in total sales compared to 2022[PDF chunk]."
          ],
          [
           "What specific financial metrics or trends did Netflix, Inc. highlight in its fiscal year ending December 31, 2022, report?"
          ],
          [
           "What potential risks does Reddit, Inc. face in maintaining its corporate culture and scaling its technology infrastructure in the future as described in the fiscal year ending December 31, 2024?"
          ],
          [
           "How could changes in tax policies, laws, or rates in various jurisdictions potentially impact Alphabet Inc.'s financial condition and operating results during the fiscal year ended December 31, 2024?"
          ],
          [
           "What information does Amazon's 2024 report provide about the market for its common stock, including the trading symbol, number of shareholders of record as of January 29, 2025, and recent sales or purchases of equity securities?"
          ],
          [
           "How could extended payment term arrangements with customers, vendor payment requirements, unanticipated environmental liabilities, and changes in financial accounting standards potentially impact NVIDIA Corporation’s financial results, as highlighted in the fiscal year ending January 26, 2025 report?"
          ],
          [
           "What are the key details reported by Cisco Systems, Inc. in their 2024 Annual Report (Form 10-K) filed with the SEC for the fiscal year ended July 27, 2024, including their market status, stock information, and compliance acknowledgments?"
          ],
          [
           "How does Oracle Financial Services Software Limited’s portfolio for the financial year ended March 31, 2024, support innovation and efficiency for retail banking clients, as highlighted by its machine learning capabilities and customer-centric digital solutions?"
          ],
          [
           "How did the operating income for Meta Platforms, Inc.’s Family of Apps segment compare to its Reality Labs segment for the twelve months ended December 31, 2024?"
          ],
          [
           "What details are provided in Tesla, Inc.'s report for the fiscal year ended December 31, 2023, regarding the 2.00% Convertible Senior Notes due May 15, 2024, including any related supplemental indentures and bond forms?"
          ],
          [
           "Based on Apple Inc.'s financial report for the fiscal year 2023 ending July 1, 2023, here are the key financial highlights and details:\n\n## Net Sales\n- Total net sales for the three months ended July 1, 2023, were $81.8 billion, slightly down from $83.0 billion for the same period in 2022.\n- For the nine months ended July 1, 2023, total net sales were $293.8 billion, compared to $304.2 billion for the prior year period.\n- Product net sales were $60.6 billion for the quarter and $230.9 billion year-to-date, showing a decline from the previous year.\n- Services net sales increased to $21.2 billion for the quarter and $62.9 billion for nine months, up from $19.6 billion and $58.9 billion respectively.\n\n## Gross Margin\n- Gross margin was $36.4 billion for the quarter, up from $35.9 billion in 2022.\n- For nine months, gross margin was $128.7 billion, down from $132.7 billion.\n\n## Operating Expenses\n- Total operating expenses rose to $13.4 billion for the quarter from $12.8 billion.\n- For nine months, operating expenses were $41.4 billion, up from $38.1 billion.\n- Research and development expenses increased significantly, reflecting higher investment in innovation.\n\n## Operating Income and Net Income\n- Operating income was $23.0 billion for the quarter, nearly flat year-over-year.\n- Net income for the quarter was $19.9 billion, modestly up from $19.4 billion.\n- For nine months, net income totaled $74.0 billion, down from $79.1 billion.\n\n## Earnings Per Share (EPS)\n- Basic EPS for the quarter was $1.27, compared to $1.20 a year earlier.\n- Diluted EPS was $1.26 for the quarter and $4.67 for nine months.\n\n## Sales by Product Category (Quarter)\n- iPhone sales were $39.7 billion, slightly down from $40.7 billion.\n- Mac sales dropped to $6.8 billion from $7.4 billion.\n- iPad sales declined to $5.8 billion from $7.2 billion.\n- Wearables, Home and Accessories sales increased slightly to $8.3 billion.\n- Services sales increased to $21.2 billion.\n\n## Sales by Geographic Segment (Quarter)\n- Americas: $35.4 billion\n- Europe: $20.2 billion\n- Greater China: $15.8 billion\n- Japan: $4.8 billion\n- Rest of Asia Pacific: $5.6 billion\n\nOverall, Apple showed a stable financial performance in fiscal 2023’s third quarter, with notable growth in Services offsetting some declines in Products, especially in Mac and iPad categories. The company maintained strong profitability despite a slight decrease in total sales compared to 2022[PDF chunk]."
          ],
          [
           "What specific financial metrics or trends did Netflix, Inc. highlight in its fiscal year ending December 31, 2022, report?"
          ],
          [
           "What potential risks does Reddit, Inc. face in maintaining its corporate culture and scaling its technology infrastructure in the future as described in the fiscal year ending December 31, 2024?"
          ],
          [
           "How could changes in tax policies, laws, or rates in various jurisdictions potentially impact Alphabet Inc.'s financial condition and operating results during the fiscal year ended December 31, 2024?"
          ],
          [
           "What information does Amazon's 2024 report provide about the market for its common stock, including the trading symbol, number of shareholders of record as of January 29, 2025, and recent sales or purchases of equity securities?"
          ],
          [
           "How could extended payment term arrangements with customers, vendor payment requirements, unanticipated environmental liabilities, and changes in financial accounting standards potentially impact NVIDIA Corporation’s financial results, as highlighted in the fiscal year ending January 26, 2025 report?"
          ],
          [
           "What are the key details reported by Cisco Systems, Inc. in their 2024 Annual Report (Form 10-K) filed with the SEC for the fiscal year ended July 27, 2024, including their market status, stock information, and compliance acknowledgments?"
          ],
          [
           "How does Oracle Financial Services Software Limited’s portfolio for the financial year ended March 31, 2024, support innovation and efficiency for retail banking clients, as highlighted by its machine learning capabilities and customer-centric digital solutions?"
          ],
          [
           "How did the operating income for Meta Platforms, Inc.’s Family of Apps segment compare to its Reality Labs segment for the twelve months ended December 31, 2024?"
          ],
          [
           "What details are provided in Tesla, Inc.'s report for the fiscal year ended December 31, 2023, regarding the 2.00% Convertible Senior Notes due May 15, 2024, including any related supplemental indentures and bond forms?"
          ],
          [
           "Based on Apple Inc.'s financial report for the fiscal year 2023 ending July 1, 2023, here are the key financial highlights and details:\n\n## Net Sales\n- Total net sales for the three months ended July 1, 2023, were $81.8 billion, slightly down from $83.0 billion for the same period in 2022.\n- For the nine months ended July 1, 2023, total net sales were $293.8 billion, compared to $304.2 billion for the prior year period.\n- Product net sales were $60.6 billion for the quarter and $230.9 billion year-to-date, showing a decline from the previous year.\n- Services net sales increased to $21.2 billion for the quarter and $62.9 billion for nine months, up from $19.6 billion and $58.9 billion respectively.\n\n## Gross Margin\n- Gross margin was $36.4 billion for the quarter, up from $35.9 billion in 2022.\n- For nine months, gross margin was $128.7 billion, down from $132.7 billion.\n\n## Operating Expenses\n- Total operating expenses rose to $13.4 billion for the quarter from $12.8 billion.\n- For nine months, operating expenses were $41.4 billion, up from $38.1 billion.\n- Research and development expenses increased significantly, reflecting higher investment in innovation.\n\n## Operating Income and Net Income\n- Operating income was $23.0 billion for the quarter, nearly flat year-over-year.\n- Net income for the quarter was $19.9 billion, modestly up from $19.4 billion.\n- For nine months, net income totaled $74.0 billion, down from $79.1 billion.\n\n## Earnings Per Share (EPS)\n- Basic EPS for the quarter was $1.27, compared to $1.20 a year earlier.\n- Diluted EPS was $1.26 for the quarter and $4.67 for nine months.\n\n## Sales by Product Category (Quarter)\n- iPhone sales were $39.7 billion, slightly down from $40.7 billion.\n- Mac sales dropped to $6.8 billion from $7.4 billion.\n- iPad sales declined to $5.8 billion from $7.2 billion.\n- Wearables, Home and Accessories sales increased slightly to $8.3 billion.\n- Services sales increased to $21.2 billion.\n\n## Sales by Geographic Segment (Quarter)\n- Americas: $35.4 billion\n- Europe: $20.2 billion\n- Greater China: $15.8 billion\n- Japan: $4.8 billion\n- Rest of Asia Pacific: $5.6 billion\n\nOverall, Apple showed a stable financial performance in fiscal 2023’s third quarter, with notable growth in Services offsetting some declines in Products, especially in Mac and iPad categories. The company maintained strong profitability despite a slight decrease in total sales compared to 2022[PDF chunk]."
          ],
          [
           "What specific financial metrics or trends did Netflix, Inc. highlight in its fiscal year ending December 31, 2022, report?"
          ],
          [
           "What potential risks does Reddit, Inc. face in maintaining its corporate culture and scaling its technology infrastructure in the future as described in the fiscal year ending December 31, 2024?"
          ],
          [
           "How could changes in tax policies, laws, or rates in various jurisdictions potentially impact Alphabet Inc.'s financial condition and operating results during the fiscal year ended December 31, 2024?"
          ],
          [
           "What information does Amazon's 2024 report provide about the market for its common stock, including the trading symbol, number of shareholders of record as of January 29, 2025, and recent sales or purchases of equity securities?"
          ],
          [
           "How could extended payment term arrangements with customers, vendor payment requirements, unanticipated environmental liabilities, and changes in financial accounting standards potentially impact NVIDIA Corporation’s financial results, as highlighted in the fiscal year ending January 26, 2025 report?"
          ],
          [
           "What are the key details reported by Cisco Systems, Inc. in their 2024 Annual Report (Form 10-K) filed with the SEC for the fiscal year ended July 27, 2024, including their market status, stock information, and compliance acknowledgments?"
          ],
          [
           "How does Oracle Financial Services Software Limited’s portfolio for the financial year ended March 31, 2024, support innovation and efficiency for retail banking clients, as highlighted by its machine learning capabilities and customer-centric digital solutions?"
          ],
          [
           "How did the operating income for Meta Platforms, Inc.’s Family of Apps segment compare to its Reality Labs segment for the twelve months ended December 31, 2024?"
          ],
          [
           "What details are provided in Tesla, Inc.'s report for the fiscal year ended December 31, 2023, regarding the 2.00% Convertible Senior Notes due May 15, 2024, including any related supplemental indentures and bond forms?"
          ],
          [
           "Based on Apple Inc.'s financial report for the fiscal year 2023 ending July 1, 2023, here are the key financial highlights and details:\n\n## Net Sales\n- Total net sales for the three months ended July 1, 2023, were $81.8 billion, slightly down from $83.0 billion for the same period in 2022.\n- For the nine months ended July 1, 2023, total net sales were $293.8 billion, compared to $304.2 billion for the prior year period.\n- Product net sales were $60.6 billion for the quarter and $230.9 billion year-to-date, showing a decline from the previous year.\n- Services net sales increased to $21.2 billion for the quarter and $62.9 billion for nine months, up from $19.6 billion and $58.9 billion respectively.\n\n## Gross Margin\n- Gross margin was $36.4 billion for the quarter, up from $35.9 billion in 2022.\n- For nine months, gross margin was $128.7 billion, down from $132.7 billion.\n\n## Operating Expenses\n- Total operating expenses rose to $13.4 billion for the quarter from $12.8 billion.\n- For nine months, operating expenses were $41.4 billion, up from $38.1 billion.\n- Research and development expenses increased significantly, reflecting higher investment in innovation.\n\n## Operating Income and Net Income\n- Operating income was $23.0 billion for the quarter, nearly flat year-over-year.\n- Net income for the quarter was $19.9 billion, modestly up from $19.4 billion.\n- For nine months, net income totaled $74.0 billion, down from $79.1 billion.\n\n## Earnings Per Share (EPS)\n- Basic EPS for the quarter was $1.27, compared to $1.20 a year earlier.\n- Diluted EPS was $1.26 for the quarter and $4.67 for nine months.\n\n## Sales by Product Category (Quarter)\n- iPhone sales were $39.7 billion, slightly down from $40.7 billion.\n- Mac sales dropped to $6.8 billion from $7.4 billion.\n- iPad sales declined to $5.8 billion from $7.2 billion.\n- Wearables, Home and Accessories sales increased slightly to $8.3 billion.\n- Services sales increased to $21.2 billion.\n\n## Sales by Geographic Segment (Quarter)\n- Americas: $35.4 billion\n- Europe: $20.2 billion\n- Greater China: $15.8 billion\n- Japan: $4.8 billion\n- Rest of Asia Pacific: $5.6 billion\n\nOverall, Apple showed a stable financial performance in fiscal 2023’s third quarter, with notable growth in Services offsetting some declines in Products, especially in Mac and iPad categories. The company maintained strong profitability despite a slight decrease in total sales compared to 2022[PDF chunk]."
          ],
          [
           "What specific financial metrics or trends did Netflix, Inc. highlight in its fiscal year ending December 31, 2022, report?"
          ],
          [
           "What potential risks does Reddit, Inc. face in maintaining its corporate culture and scaling its technology infrastructure in the future as described in the fiscal year ending December 31, 2024?"
          ],
          [
           "How could changes in tax policies, laws, or rates in various jurisdictions potentially impact Alphabet Inc.'s financial condition and operating results during the fiscal year ended December 31, 2024?"
          ],
          [
           "What information does Amazon's 2024 report provide about the market for its common stock, including the trading symbol, number of shareholders of record as of January 29, 2025, and recent sales or purchases of equity securities?"
          ]
         ],
         "hovertemplate": "Metric=%{x}<br>Score=%{y}<br>question=%{customdata[0]}<extra></extra>",
         "legendgroup": "",
         "marker": {
          "color": "#636efa"
         },
         "name": "",
         "notched": false,
         "offsetgroup": "",
         "orientation": "v",
         "showlegend": false,
         "type": "box",
         "x": [
          "Factual Correctness",
          "Factual Correctness",
          "Factual Correctness",
          "Factual Correctness",
          "Factual Correctness",
          "Factual Correctness",
          "Factual Correctness",
          "Factual Correctness",
          "Factual Correctness",
          "Factual Correctness",
          "Completeness",
          "Completeness",
          "Completeness",
          "Completeness",
          "Completeness",
          "Completeness",
          "Completeness",
          "Completeness",
          "Completeness",
          "Completeness",
          "Clarity",
          "Clarity",
          "Clarity",
          "Clarity",
          "Clarity",
          "Clarity",
          "Clarity",
          "Clarity",
          "Clarity",
          "Clarity",
          "Overall",
          "Overall",
          "Overall",
          "Overall",
          "Overall",
          "Overall",
          "Overall",
          "Overall",
          "Overall",
          "Overall"
         ],
         "x0": " ",
         "xaxis": "x",
         "y": [
          5,
          4,
          2,
          5,
          5,
          5,
          2,
          5,
          5,
          3,
          5,
          4,
          2,
          5,
          4,
          5,
          3,
          5,
          5,
          3,
          5,
          5,
          3,
          5,
          5,
          5,
          5,
          5,
          5,
          4,
          5,
          4.333333333333333,
          2.3333333333333335,
          5,
          4.666666666666667,
          5,
          3.3333333333333335,
          5,
          5,
          3.3333333333333335
         ],
         "y0": " ",
         "yaxis": "y"
        }
       ],
       "layout": {
        "boxmode": "group",
        "height": 500,
        "legend": {
         "tracegroupgap": 0
        },
        "template": {
         "data": {
          "bar": [
           {
            "error_x": {
             "color": "#2a3f5f"
            },
            "error_y": {
             "color": "#2a3f5f"
            },
            "marker": {
             "line": {
              "color": "#E5ECF6",
              "width": 0.5
             },
             "pattern": {
              "fillmode": "overlay",
              "size": 10,
              "solidity": 0.2
             }
            },
            "type": "bar"
           }
          ],
          "barpolar": [
           {
            "marker": {
             "line": {
              "color": "#E5ECF6",
              "width": 0.5
             },
             "pattern": {
              "fillmode": "overlay",
              "size": 10,
              "solidity": 0.2
             }
            },
            "type": "barpolar"
           }
          ],
          "carpet": [
           {
            "aaxis": {
             "endlinecolor": "#2a3f5f",
             "gridcolor": "white",
             "linecolor": "white",
             "minorgridcolor": "white",
             "startlinecolor": "#2a3f5f"
            },
            "baxis": {
             "endlinecolor": "#2a3f5f",
             "gridcolor": "white",
             "linecolor": "white",
             "minorgridcolor": "white",
             "startlinecolor": "#2a3f5f"
            },
            "type": "carpet"
           }
          ],
          "choropleth": [
           {
            "colorbar": {
             "outlinewidth": 0,
             "ticks": ""
            },
            "type": "choropleth"
           }
          ],
          "contour": [
           {
            "colorbar": {
             "outlinewidth": 0,
             "ticks": ""
            },
            "colorscale": [
             [
              0,
              "#0d0887"
             ],
             [
              0.1111111111111111,
              "#46039f"
             ],
             [
              0.2222222222222222,
              "#7201a8"
             ],
             [
              0.3333333333333333,
              "#9c179e"
             ],
             [
              0.4444444444444444,
              "#bd3786"
             ],
             [
              0.5555555555555556,
              "#d8576b"
             ],
             [
              0.6666666666666666,
              "#ed7953"
             ],
             [
              0.7777777777777778,
              "#fb9f3a"
             ],
             [
              0.8888888888888888,
              "#fdca26"
             ],
             [
              1,
              "#f0f921"
             ]
            ],
            "type": "contour"
           }
          ],
          "contourcarpet": [
           {
            "colorbar": {
             "outlinewidth": 0,
             "ticks": ""
            },
            "type": "contourcarpet"
           }
          ],
          "heatmap": [
           {
            "colorbar": {
             "outlinewidth": 0,
             "ticks": ""
            },
            "colorscale": [
             [
              0,
              "#0d0887"
             ],
             [
              0.1111111111111111,
              "#46039f"
             ],
             [
              0.2222222222222222,
              "#7201a8"
             ],
             [
              0.3333333333333333,
              "#9c179e"
             ],
             [
              0.4444444444444444,
              "#bd3786"
             ],
             [
              0.5555555555555556,
              "#d8576b"
             ],
             [
              0.6666666666666666,
              "#ed7953"
             ],
             [
              0.7777777777777778,
              "#fb9f3a"
             ],
             [
              0.8888888888888888,
              "#fdca26"
             ],
             [
              1,
              "#f0f921"
             ]
            ],
            "type": "heatmap"
           }
          ],
          "heatmapgl": [
           {
            "colorbar": {
             "outlinewidth": 0,
             "ticks": ""
            },
            "colorscale": [
             [
              0,
              "#0d0887"
             ],
             [
              0.1111111111111111,
              "#46039f"
             ],
             [
              0.2222222222222222,
              "#7201a8"
             ],
             [
              0.3333333333333333,
              "#9c179e"
             ],
             [
              0.4444444444444444,
              "#bd3786"
             ],
             [
              0.5555555555555556,
              "#d8576b"
             ],
             [
              0.6666666666666666,
              "#ed7953"
             ],
             [
              0.7777777777777778,
              "#fb9f3a"
             ],
             [
              0.8888888888888888,
              "#fdca26"
             ],
             [
              1,
              "#f0f921"
             ]
            ],
            "type": "heatmapgl"
           }
          ],
          "histogram": [
           {
            "marker": {
             "pattern": {
              "fillmode": "overlay",
              "size": 10,
              "solidity": 0.2
             }
            },
            "type": "histogram"
           }
          ],
          "histogram2d": [
           {
            "colorbar": {
             "outlinewidth": 0,
             "ticks": ""
            },
            "colorscale": [
             [
              0,
              "#0d0887"
             ],
             [
              0.1111111111111111,
              "#46039f"
             ],
             [
              0.2222222222222222,
              "#7201a8"
             ],
             [
              0.3333333333333333,
              "#9c179e"
             ],
             [
              0.4444444444444444,
              "#bd3786"
             ],
             [
              0.5555555555555556,
              "#d8576b"
             ],
             [
              0.6666666666666666,
              "#ed7953"
             ],
             [
              0.7777777777777778,
              "#fb9f3a"
             ],
             [
              0.8888888888888888,
              "#fdca26"
             ],
             [
              1,
              "#f0f921"
             ]
            ],
            "type": "histogram2d"
           }
          ],
          "histogram2dcontour": [
           {
            "colorbar": {
             "outlinewidth": 0,
             "ticks": ""
            },
            "colorscale": [
             [
              0,
              "#0d0887"
             ],
             [
              0.1111111111111111,
              "#46039f"
             ],
             [
              0.2222222222222222,
              "#7201a8"
             ],
             [
              0.3333333333333333,
              "#9c179e"
             ],
             [
              0.4444444444444444,
              "#bd3786"
             ],
             [
              0.5555555555555556,
              "#d8576b"
             ],
             [
              0.6666666666666666,
              "#ed7953"
             ],
             [
              0.7777777777777778,
              "#fb9f3a"
             ],
             [
              0.8888888888888888,
              "#fdca26"
             ],
             [
              1,
              "#f0f921"
             ]
            ],
            "type": "histogram2dcontour"
           }
          ],
          "mesh3d": [
           {
            "colorbar": {
             "outlinewidth": 0,
             "ticks": ""
            },
            "type": "mesh3d"
           }
          ],
          "parcoords": [
           {
            "line": {
             "colorbar": {
              "outlinewidth": 0,
              "ticks": ""
             }
            },
            "type": "parcoords"
           }
          ],
          "pie": [
           {
            "automargin": true,
            "type": "pie"
           }
          ],
          "scatter": [
           {
            "fillpattern": {
             "fillmode": "overlay",
             "size": 10,
             "solidity": 0.2
            },
            "type": "scatter"
           }
          ],
          "scatter3d": [
           {
            "line": {
             "colorbar": {
              "outlinewidth": 0,
              "ticks": ""
             }
            },
            "marker": {
             "colorbar": {
              "outlinewidth": 0,
              "ticks": ""
             }
            },
            "type": "scatter3d"
           }
          ],
          "scattercarpet": [
           {
            "marker": {
             "colorbar": {
              "outlinewidth": 0,
              "ticks": ""
             }
            },
            "type": "scattercarpet"
           }
          ],
          "scattergeo": [
           {
            "marker": {
             "colorbar": {
              "outlinewidth": 0,
              "ticks": ""
             }
            },
            "type": "scattergeo"
           }
          ],
          "scattergl": [
           {
            "marker": {
             "colorbar": {
              "outlinewidth": 0,
              "ticks": ""
             }
            },
            "type": "scattergl"
           }
          ],
          "scattermapbox": [
           {
            "marker": {
             "colorbar": {
              "outlinewidth": 0,
              "ticks": ""
             }
            },
            "type": "scattermapbox"
           }
          ],
          "scatterpolar": [
           {
            "marker": {
             "colorbar": {
              "outlinewidth": 0,
              "ticks": ""
             }
            },
            "type": "scatterpolar"
           }
          ],
          "scatterpolargl": [
           {
            "marker": {
             "colorbar": {
              "outlinewidth": 0,
              "ticks": ""
             }
            },
            "type": "scatterpolargl"
           }
          ],
          "scatterternary": [
           {
            "marker": {
             "colorbar": {
              "outlinewidth": 0,
              "ticks": ""
             }
            },
            "type": "scatterternary"
           }
          ],
          "surface": [
           {
            "colorbar": {
             "outlinewidth": 0,
             "ticks": ""
            },
            "colorscale": [
             [
              0,
              "#0d0887"
             ],
             [
              0.1111111111111111,
              "#46039f"
             ],
             [
              0.2222222222222222,
              "#7201a8"
             ],
             [
              0.3333333333333333,
              "#9c179e"
             ],
             [
              0.4444444444444444,
              "#bd3786"
             ],
             [
              0.5555555555555556,
              "#d8576b"
             ],
             [
              0.6666666666666666,
              "#ed7953"
             ],
             [
              0.7777777777777778,
              "#fb9f3a"
             ],
             [
              0.8888888888888888,
              "#fdca26"
             ],
             [
              1,
              "#f0f921"
             ]
            ],
            "type": "surface"
           }
          ],
          "table": [
           {
            "cells": {
             "fill": {
              "color": "#EBF0F8"
             },
             "line": {
              "color": "white"
             }
            },
            "header": {
             "fill": {
              "color": "#C8D4E3"
             },
             "line": {
              "color": "white"
             }
            },
            "type": "table"
           }
          ]
         },
         "layout": {
          "annotationdefaults": {
           "arrowcolor": "#2a3f5f",
           "arrowhead": 0,
           "arrowwidth": 1
          },
          "autotypenumbers": "strict",
          "coloraxis": {
           "colorbar": {
            "outlinewidth": 0,
            "ticks": ""
           }
          },
          "colorscale": {
           "diverging": [
            [
             0,
             "#8e0152"
            ],
            [
             0.1,
             "#c51b7d"
            ],
            [
             0.2,
             "#de77ae"
            ],
            [
             0.3,
             "#f1b6da"
            ],
            [
             0.4,
             "#fde0ef"
            ],
            [
             0.5,
             "#f7f7f7"
            ],
            [
             0.6,
             "#e6f5d0"
            ],
            [
             0.7,
             "#b8e186"
            ],
            [
             0.8,
             "#7fbc41"
            ],
            [
             0.9,
             "#4d9221"
            ],
            [
             1,
             "#276419"
            ]
           ],
           "sequential": [
            [
             0,
             "#0d0887"
            ],
            [
             0.1111111111111111,
             "#46039f"
            ],
            [
             0.2222222222222222,
             "#7201a8"
            ],
            [
             0.3333333333333333,
             "#9c179e"
            ],
            [
             0.4444444444444444,
             "#bd3786"
            ],
            [
             0.5555555555555556,
             "#d8576b"
            ],
            [
             0.6666666666666666,
             "#ed7953"
            ],
            [
             0.7777777777777778,
             "#fb9f3a"
            ],
            [
             0.8888888888888888,
             "#fdca26"
            ],
            [
             1,
             "#f0f921"
            ]
           ],
           "sequentialminus": [
            [
             0,
             "#0d0887"
            ],
            [
             0.1111111111111111,
             "#46039f"
            ],
            [
             0.2222222222222222,
             "#7201a8"
            ],
            [
             0.3333333333333333,
             "#9c179e"
            ],
            [
             0.4444444444444444,
             "#bd3786"
            ],
            [
             0.5555555555555556,
             "#d8576b"
            ],
            [
             0.6666666666666666,
             "#ed7953"
            ],
            [
             0.7777777777777778,
             "#fb9f3a"
            ],
            [
             0.8888888888888888,
             "#fdca26"
            ],
            [
             1,
             "#f0f921"
            ]
           ]
          },
          "colorway": [
           "#636efa",
           "#EF553B",
           "#00cc96",
           "#ab63fa",
           "#FFA15A",
           "#19d3f3",
           "#FF6692",
           "#B6E880",
           "#FF97FF",
           "#FECB52"
          ],
          "font": {
           "color": "#2a3f5f"
          },
          "geo": {
           "bgcolor": "white",
           "lakecolor": "white",
           "landcolor": "#E5ECF6",
           "showlakes": true,
           "showland": true,
           "subunitcolor": "white"
          },
          "hoverlabel": {
           "align": "left"
          },
          "hovermode": "closest",
          "mapbox": {
           "style": "light"
          },
          "paper_bgcolor": "white",
          "plot_bgcolor": "#E5ECF6",
          "polar": {
           "angularaxis": {
            "gridcolor": "white",
            "linecolor": "white",
            "ticks": ""
           },
           "bgcolor": "#E5ECF6",
           "radialaxis": {
            "gridcolor": "white",
            "linecolor": "white",
            "ticks": ""
           }
          },
          "scene": {
           "xaxis": {
            "backgroundcolor": "#E5ECF6",
            "gridcolor": "white",
            "gridwidth": 2,
            "linecolor": "white",
            "showbackground": true,
            "ticks": "",
            "zerolinecolor": "white"
           },
           "yaxis": {
            "backgroundcolor": "#E5ECF6",
            "gridcolor": "white",
            "gridwidth": 2,
            "linecolor": "white",
            "showbackground": true,
            "ticks": "",
            "zerolinecolor": "white"
           },
           "zaxis": {
            "backgroundcolor": "#E5ECF6",
            "gridcolor": "white",
            "gridwidth": 2,
            "linecolor": "white",
            "showbackground": true,
            "ticks": "",
            "zerolinecolor": "white"
           }
          },
          "shapedefaults": {
           "line": {
            "color": "#2a3f5f"
           }
          },
          "ternary": {
           "aaxis": {
            "gridcolor": "white",
            "linecolor": "white",
            "ticks": ""
           },
           "baxis": {
            "gridcolor": "white",
            "linecolor": "white",
            "ticks": ""
           },
           "bgcolor": "#E5ECF6",
           "caxis": {
            "gridcolor": "white",
            "linecolor": "white",
            "ticks": ""
           }
          },
          "title": {
           "x": 0.05
          },
          "xaxis": {
           "automargin": true,
           "gridcolor": "white",
           "linecolor": "white",
           "ticks": "",
           "title": {
            "standoff": 15
           },
           "zerolinecolor": "white",
           "zerolinewidth": 2
          },
          "yaxis": {
           "automargin": true,
           "gridcolor": "white",
           "linecolor": "white",
           "ticks": "",
           "title": {
            "standoff": 15
           },
           "zerolinecolor": "white",
           "zerolinewidth": 2
          }
         }
        },
        "title": {
         "text": "Score Distributions per Metric (with Overall Score)"
        },
        "xaxis": {
         "anchor": "y",
         "domain": [
          0,
          1
         ],
         "title": {
          "text": "Metric"
         }
        },
        "yaxis": {
         "anchor": "x",
         "domain": [
          0,
          1
         ],
         "dtick": 1,
         "range": [
          0,
          6
         ],
         "title": {
          "text": "Score (1-5)"
         }
        }
       }
      }
     },
     "metadata": {},
     "output_type": "display_data"
    }
   ],
   "source": [
    "import plotly.express as px\n",
    "import pandas as pd\n",
    "\n",
    "# Make sure relevant columns are numeric\n",
    "numeric_cols = [\n",
    "    'evaluation_factual_correctness_score', \n",
    "    'evaluation_completeness_score', \n",
    "    'evaluation_clarity_score'\n",
    "]\n",
    "\n",
    "df = final_df.copy()\n",
    "for col in numeric_cols:\n",
    "    df[col] = pd.to_numeric(df[col], errors='coerce')  # convert invalid to NaN\n",
    "\n",
    "# Calculate overall average score per question\n",
    "df['overall_score'] = df[numeric_cols].mean(axis=1)\n",
    "\n",
    "# Melt DataFrame to long format (including overall score)\n",
    "melted_df = df.melt(\n",
    "    id_vars=['question'],\n",
    "    value_vars=numeric_cols + ['overall_score'],\n",
    "    var_name='Metric',\n",
    "    value_name='Score'\n",
    ")\n",
    "\n",
    "# Clean up metric names for display\n",
    "melted_df['Metric'] = (\n",
    "    melted_df['Metric']\n",
    "    .str.replace('evaluation_', '', regex=False)\n",
    "    .str.replace('_score', '', regex=False)\n",
    "    .str.replace('_', ' ')\n",
    "    .str.title()\n",
    ")\n",
    "\n",
    "# Drop rows with missing scores (optional, if needed)\n",
    "melted_df = melted_df.dropna(subset=['Score'])\n",
    "\n",
    "# Plot boxplot\n",
    "fig = px.box(\n",
    "    melted_df,\n",
    "    x='Metric',\n",
    "    y='Score',\n",
    "    points='all',  # show individual points\n",
    "    hover_data=['question'],\n",
    "    title='Score Distributions per Metric (with Overall Score)',\n",
    "    height=500\n",
    ")\n",
    "\n",
    "fig.update_layout(\n",
    "    yaxis=dict(range=[0, 6], dtick=1),\n",
    "    xaxis_title='Metric',\n",
    "    yaxis_title='Score (1-5)'\n",
    ")\n",
    "\n",
    "fig.show()\n"
   ]
  },
  {
   "cell_type": "code",
   "execution_count": 249,
   "metadata": {},
   "outputs": [
    {
     "data": {
      "application/vnd.plotly.v1+json": {
       "config": {
        "plotlyServerURL": "https://plot.ly"
       },
       "data": [
        {
         "colorscale": [
          [
           0,
           "rgb(247,251,255)"
          ],
          [
           0.125,
           "rgb(222,235,247)"
          ],
          [
           0.25,
           "rgb(198,219,239)"
          ],
          [
           0.375,
           "rgb(158,202,225)"
          ],
          [
           0.5,
           "rgb(107,174,214)"
          ],
          [
           0.625,
           "rgb(66,146,198)"
          ],
          [
           0.75,
           "rgb(33,113,181)"
          ],
          [
           0.875,
           "rgb(8,81,156)"
          ],
          [
           1,
           "rgb(8,48,107)"
          ]
         ],
         "reversescale": false,
         "showscale": true,
         "type": "heatmap",
         "x": [
          "evaluation_factual_correctness_score",
          "evaluation_completeness_score",
          "evaluation_clarity_score",
          "overall_score"
         ],
         "y": [
          "evaluation_factual_correctness_score",
          "evaluation_completeness_score",
          "evaluation_clarity_score",
          "overall_score"
         ],
         "z": [
          [
           1,
           0.93,
           0.68,
           0.96
          ],
          [
           0.93,
           1,
           0.79,
           0.98
          ],
          [
           0.68,
           0.79,
           1,
           0.84
          ],
          [
           0.96,
           0.98,
           0.84,
           1
          ]
         ]
        }
       ],
       "layout": {
        "annotations": [
         {
          "font": {
           "color": "#FFFFFF"
          },
          "showarrow": false,
          "text": "1.0",
          "x": "evaluation_factual_correctness_score",
          "xref": "x",
          "y": "evaluation_factual_correctness_score",
          "yref": "y"
         },
         {
          "font": {
           "color": "#FFFFFF"
          },
          "showarrow": false,
          "text": "0.93",
          "x": "evaluation_completeness_score",
          "xref": "x",
          "y": "evaluation_factual_correctness_score",
          "yref": "y"
         },
         {
          "font": {
           "color": "#000000"
          },
          "showarrow": false,
          "text": "0.68",
          "x": "evaluation_clarity_score",
          "xref": "x",
          "y": "evaluation_factual_correctness_score",
          "yref": "y"
         },
         {
          "font": {
           "color": "#FFFFFF"
          },
          "showarrow": false,
          "text": "0.96",
          "x": "overall_score",
          "xref": "x",
          "y": "evaluation_factual_correctness_score",
          "yref": "y"
         },
         {
          "font": {
           "color": "#FFFFFF"
          },
          "showarrow": false,
          "text": "0.93",
          "x": "evaluation_factual_correctness_score",
          "xref": "x",
          "y": "evaluation_completeness_score",
          "yref": "y"
         },
         {
          "font": {
           "color": "#FFFFFF"
          },
          "showarrow": false,
          "text": "1.0",
          "x": "evaluation_completeness_score",
          "xref": "x",
          "y": "evaluation_completeness_score",
          "yref": "y"
         },
         {
          "font": {
           "color": "#000000"
          },
          "showarrow": false,
          "text": "0.79",
          "x": "evaluation_clarity_score",
          "xref": "x",
          "y": "evaluation_completeness_score",
          "yref": "y"
         },
         {
          "font": {
           "color": "#FFFFFF"
          },
          "showarrow": false,
          "text": "0.98",
          "x": "overall_score",
          "xref": "x",
          "y": "evaluation_completeness_score",
          "yref": "y"
         },
         {
          "font": {
           "color": "#000000"
          },
          "showarrow": false,
          "text": "0.68",
          "x": "evaluation_factual_correctness_score",
          "xref": "x",
          "y": "evaluation_clarity_score",
          "yref": "y"
         },
         {
          "font": {
           "color": "#000000"
          },
          "showarrow": false,
          "text": "0.79",
          "x": "evaluation_completeness_score",
          "xref": "x",
          "y": "evaluation_clarity_score",
          "yref": "y"
         },
         {
          "font": {
           "color": "#FFFFFF"
          },
          "showarrow": false,
          "text": "1.0",
          "x": "evaluation_clarity_score",
          "xref": "x",
          "y": "evaluation_clarity_score",
          "yref": "y"
         },
         {
          "font": {
           "color": "#000000"
          },
          "showarrow": false,
          "text": "0.84",
          "x": "overall_score",
          "xref": "x",
          "y": "evaluation_clarity_score",
          "yref": "y"
         },
         {
          "font": {
           "color": "#FFFFFF"
          },
          "showarrow": false,
          "text": "0.96",
          "x": "evaluation_factual_correctness_score",
          "xref": "x",
          "y": "overall_score",
          "yref": "y"
         },
         {
          "font": {
           "color": "#FFFFFF"
          },
          "showarrow": false,
          "text": "0.98",
          "x": "evaluation_completeness_score",
          "xref": "x",
          "y": "overall_score",
          "yref": "y"
         },
         {
          "font": {
           "color": "#000000"
          },
          "showarrow": false,
          "text": "0.84",
          "x": "evaluation_clarity_score",
          "xref": "x",
          "y": "overall_score",
          "yref": "y"
         },
         {
          "font": {
           "color": "#FFFFFF"
          },
          "showarrow": false,
          "text": "1.0",
          "x": "overall_score",
          "xref": "x",
          "y": "overall_score",
          "yref": "y"
         }
        ],
        "height": 600,
        "template": {
         "data": {
          "bar": [
           {
            "error_x": {
             "color": "#2a3f5f"
            },
            "error_y": {
             "color": "#2a3f5f"
            },
            "marker": {
             "line": {
              "color": "#E5ECF6",
              "width": 0.5
             },
             "pattern": {
              "fillmode": "overlay",
              "size": 10,
              "solidity": 0.2
             }
            },
            "type": "bar"
           }
          ],
          "barpolar": [
           {
            "marker": {
             "line": {
              "color": "#E5ECF6",
              "width": 0.5
             },
             "pattern": {
              "fillmode": "overlay",
              "size": 10,
              "solidity": 0.2
             }
            },
            "type": "barpolar"
           }
          ],
          "carpet": [
           {
            "aaxis": {
             "endlinecolor": "#2a3f5f",
             "gridcolor": "white",
             "linecolor": "white",
             "minorgridcolor": "white",
             "startlinecolor": "#2a3f5f"
            },
            "baxis": {
             "endlinecolor": "#2a3f5f",
             "gridcolor": "white",
             "linecolor": "white",
             "minorgridcolor": "white",
             "startlinecolor": "#2a3f5f"
            },
            "type": "carpet"
           }
          ],
          "choropleth": [
           {
            "colorbar": {
             "outlinewidth": 0,
             "ticks": ""
            },
            "type": "choropleth"
           }
          ],
          "contour": [
           {
            "colorbar": {
             "outlinewidth": 0,
             "ticks": ""
            },
            "colorscale": [
             [
              0,
              "#0d0887"
             ],
             [
              0.1111111111111111,
              "#46039f"
             ],
             [
              0.2222222222222222,
              "#7201a8"
             ],
             [
              0.3333333333333333,
              "#9c179e"
             ],
             [
              0.4444444444444444,
              "#bd3786"
             ],
             [
              0.5555555555555556,
              "#d8576b"
             ],
             [
              0.6666666666666666,
              "#ed7953"
             ],
             [
              0.7777777777777778,
              "#fb9f3a"
             ],
             [
              0.8888888888888888,
              "#fdca26"
             ],
             [
              1,
              "#f0f921"
             ]
            ],
            "type": "contour"
           }
          ],
          "contourcarpet": [
           {
            "colorbar": {
             "outlinewidth": 0,
             "ticks": ""
            },
            "type": "contourcarpet"
           }
          ],
          "heatmap": [
           {
            "colorbar": {
             "outlinewidth": 0,
             "ticks": ""
            },
            "colorscale": [
             [
              0,
              "#0d0887"
             ],
             [
              0.1111111111111111,
              "#46039f"
             ],
             [
              0.2222222222222222,
              "#7201a8"
             ],
             [
              0.3333333333333333,
              "#9c179e"
             ],
             [
              0.4444444444444444,
              "#bd3786"
             ],
             [
              0.5555555555555556,
              "#d8576b"
             ],
             [
              0.6666666666666666,
              "#ed7953"
             ],
             [
              0.7777777777777778,
              "#fb9f3a"
             ],
             [
              0.8888888888888888,
              "#fdca26"
             ],
             [
              1,
              "#f0f921"
             ]
            ],
            "type": "heatmap"
           }
          ],
          "heatmapgl": [
           {
            "colorbar": {
             "outlinewidth": 0,
             "ticks": ""
            },
            "colorscale": [
             [
              0,
              "#0d0887"
             ],
             [
              0.1111111111111111,
              "#46039f"
             ],
             [
              0.2222222222222222,
              "#7201a8"
             ],
             [
              0.3333333333333333,
              "#9c179e"
             ],
             [
              0.4444444444444444,
              "#bd3786"
             ],
             [
              0.5555555555555556,
              "#d8576b"
             ],
             [
              0.6666666666666666,
              "#ed7953"
             ],
             [
              0.7777777777777778,
              "#fb9f3a"
             ],
             [
              0.8888888888888888,
              "#fdca26"
             ],
             [
              1,
              "#f0f921"
             ]
            ],
            "type": "heatmapgl"
           }
          ],
          "histogram": [
           {
            "marker": {
             "pattern": {
              "fillmode": "overlay",
              "size": 10,
              "solidity": 0.2
             }
            },
            "type": "histogram"
           }
          ],
          "histogram2d": [
           {
            "colorbar": {
             "outlinewidth": 0,
             "ticks": ""
            },
            "colorscale": [
             [
              0,
              "#0d0887"
             ],
             [
              0.1111111111111111,
              "#46039f"
             ],
             [
              0.2222222222222222,
              "#7201a8"
             ],
             [
              0.3333333333333333,
              "#9c179e"
             ],
             [
              0.4444444444444444,
              "#bd3786"
             ],
             [
              0.5555555555555556,
              "#d8576b"
             ],
             [
              0.6666666666666666,
              "#ed7953"
             ],
             [
              0.7777777777777778,
              "#fb9f3a"
             ],
             [
              0.8888888888888888,
              "#fdca26"
             ],
             [
              1,
              "#f0f921"
             ]
            ],
            "type": "histogram2d"
           }
          ],
          "histogram2dcontour": [
           {
            "colorbar": {
             "outlinewidth": 0,
             "ticks": ""
            },
            "colorscale": [
             [
              0,
              "#0d0887"
             ],
             [
              0.1111111111111111,
              "#46039f"
             ],
             [
              0.2222222222222222,
              "#7201a8"
             ],
             [
              0.3333333333333333,
              "#9c179e"
             ],
             [
              0.4444444444444444,
              "#bd3786"
             ],
             [
              0.5555555555555556,
              "#d8576b"
             ],
             [
              0.6666666666666666,
              "#ed7953"
             ],
             [
              0.7777777777777778,
              "#fb9f3a"
             ],
             [
              0.8888888888888888,
              "#fdca26"
             ],
             [
              1,
              "#f0f921"
             ]
            ],
            "type": "histogram2dcontour"
           }
          ],
          "mesh3d": [
           {
            "colorbar": {
             "outlinewidth": 0,
             "ticks": ""
            },
            "type": "mesh3d"
           }
          ],
          "parcoords": [
           {
            "line": {
             "colorbar": {
              "outlinewidth": 0,
              "ticks": ""
             }
            },
            "type": "parcoords"
           }
          ],
          "pie": [
           {
            "automargin": true,
            "type": "pie"
           }
          ],
          "scatter": [
           {
            "fillpattern": {
             "fillmode": "overlay",
             "size": 10,
             "solidity": 0.2
            },
            "type": "scatter"
           }
          ],
          "scatter3d": [
           {
            "line": {
             "colorbar": {
              "outlinewidth": 0,
              "ticks": ""
             }
            },
            "marker": {
             "colorbar": {
              "outlinewidth": 0,
              "ticks": ""
             }
            },
            "type": "scatter3d"
           }
          ],
          "scattercarpet": [
           {
            "marker": {
             "colorbar": {
              "outlinewidth": 0,
              "ticks": ""
             }
            },
            "type": "scattercarpet"
           }
          ],
          "scattergeo": [
           {
            "marker": {
             "colorbar": {
              "outlinewidth": 0,
              "ticks": ""
             }
            },
            "type": "scattergeo"
           }
          ],
          "scattergl": [
           {
            "marker": {
             "colorbar": {
              "outlinewidth": 0,
              "ticks": ""
             }
            },
            "type": "scattergl"
           }
          ],
          "scattermapbox": [
           {
            "marker": {
             "colorbar": {
              "outlinewidth": 0,
              "ticks": ""
             }
            },
            "type": "scattermapbox"
           }
          ],
          "scatterpolar": [
           {
            "marker": {
             "colorbar": {
              "outlinewidth": 0,
              "ticks": ""
             }
            },
            "type": "scatterpolar"
           }
          ],
          "scatterpolargl": [
           {
            "marker": {
             "colorbar": {
              "outlinewidth": 0,
              "ticks": ""
             }
            },
            "type": "scatterpolargl"
           }
          ],
          "scatterternary": [
           {
            "marker": {
             "colorbar": {
              "outlinewidth": 0,
              "ticks": ""
             }
            },
            "type": "scatterternary"
           }
          ],
          "surface": [
           {
            "colorbar": {
             "outlinewidth": 0,
             "ticks": ""
            },
            "colorscale": [
             [
              0,
              "#0d0887"
             ],
             [
              0.1111111111111111,
              "#46039f"
             ],
             [
              0.2222222222222222,
              "#7201a8"
             ],
             [
              0.3333333333333333,
              "#9c179e"
             ],
             [
              0.4444444444444444,
              "#bd3786"
             ],
             [
              0.5555555555555556,
              "#d8576b"
             ],
             [
              0.6666666666666666,
              "#ed7953"
             ],
             [
              0.7777777777777778,
              "#fb9f3a"
             ],
             [
              0.8888888888888888,
              "#fdca26"
             ],
             [
              1,
              "#f0f921"
             ]
            ],
            "type": "surface"
           }
          ],
          "table": [
           {
            "cells": {
             "fill": {
              "color": "#EBF0F8"
             },
             "line": {
              "color": "white"
             }
            },
            "header": {
             "fill": {
              "color": "#C8D4E3"
             },
             "line": {
              "color": "white"
             }
            },
            "type": "table"
           }
          ]
         },
         "layout": {
          "annotationdefaults": {
           "arrowcolor": "#2a3f5f",
           "arrowhead": 0,
           "arrowwidth": 1
          },
          "autotypenumbers": "strict",
          "coloraxis": {
           "colorbar": {
            "outlinewidth": 0,
            "ticks": ""
           }
          },
          "colorscale": {
           "diverging": [
            [
             0,
             "#8e0152"
            ],
            [
             0.1,
             "#c51b7d"
            ],
            [
             0.2,
             "#de77ae"
            ],
            [
             0.3,
             "#f1b6da"
            ],
            [
             0.4,
             "#fde0ef"
            ],
            [
             0.5,
             "#f7f7f7"
            ],
            [
             0.6,
             "#e6f5d0"
            ],
            [
             0.7,
             "#b8e186"
            ],
            [
             0.8,
             "#7fbc41"
            ],
            [
             0.9,
             "#4d9221"
            ],
            [
             1,
             "#276419"
            ]
           ],
           "sequential": [
            [
             0,
             "#0d0887"
            ],
            [
             0.1111111111111111,
             "#46039f"
            ],
            [
             0.2222222222222222,
             "#7201a8"
            ],
            [
             0.3333333333333333,
             "#9c179e"
            ],
            [
             0.4444444444444444,
             "#bd3786"
            ],
            [
             0.5555555555555556,
             "#d8576b"
            ],
            [
             0.6666666666666666,
             "#ed7953"
            ],
            [
             0.7777777777777778,
             "#fb9f3a"
            ],
            [
             0.8888888888888888,
             "#fdca26"
            ],
            [
             1,
             "#f0f921"
            ]
           ],
           "sequentialminus": [
            [
             0,
             "#0d0887"
            ],
            [
             0.1111111111111111,
             "#46039f"
            ],
            [
             0.2222222222222222,
             "#7201a8"
            ],
            [
             0.3333333333333333,
             "#9c179e"
            ],
            [
             0.4444444444444444,
             "#bd3786"
            ],
            [
             0.5555555555555556,
             "#d8576b"
            ],
            [
             0.6666666666666666,
             "#ed7953"
            ],
            [
             0.7777777777777778,
             "#fb9f3a"
            ],
            [
             0.8888888888888888,
             "#fdca26"
            ],
            [
             1,
             "#f0f921"
            ]
           ]
          },
          "colorway": [
           "#636efa",
           "#EF553B",
           "#00cc96",
           "#ab63fa",
           "#FFA15A",
           "#19d3f3",
           "#FF6692",
           "#B6E880",
           "#FF97FF",
           "#FECB52"
          ],
          "font": {
           "color": "#2a3f5f"
          },
          "geo": {
           "bgcolor": "white",
           "lakecolor": "white",
           "landcolor": "#E5ECF6",
           "showlakes": true,
           "showland": true,
           "subunitcolor": "white"
          },
          "hoverlabel": {
           "align": "left"
          },
          "hovermode": "closest",
          "mapbox": {
           "style": "light"
          },
          "paper_bgcolor": "white",
          "plot_bgcolor": "#E5ECF6",
          "polar": {
           "angularaxis": {
            "gridcolor": "white",
            "linecolor": "white",
            "ticks": ""
           },
           "bgcolor": "#E5ECF6",
           "radialaxis": {
            "gridcolor": "white",
            "linecolor": "white",
            "ticks": ""
           }
          },
          "scene": {
           "xaxis": {
            "backgroundcolor": "#E5ECF6",
            "gridcolor": "white",
            "gridwidth": 2,
            "linecolor": "white",
            "showbackground": true,
            "ticks": "",
            "zerolinecolor": "white"
           },
           "yaxis": {
            "backgroundcolor": "#E5ECF6",
            "gridcolor": "white",
            "gridwidth": 2,
            "linecolor": "white",
            "showbackground": true,
            "ticks": "",
            "zerolinecolor": "white"
           },
           "zaxis": {
            "backgroundcolor": "#E5ECF6",
            "gridcolor": "white",
            "gridwidth": 2,
            "linecolor": "white",
            "showbackground": true,
            "ticks": "",
            "zerolinecolor": "white"
           }
          },
          "shapedefaults": {
           "line": {
            "color": "#2a3f5f"
           }
          },
          "ternary": {
           "aaxis": {
            "gridcolor": "white",
            "linecolor": "white",
            "ticks": ""
           },
           "baxis": {
            "gridcolor": "white",
            "linecolor": "white",
            "ticks": ""
           },
           "bgcolor": "#E5ECF6",
           "caxis": {
            "gridcolor": "white",
            "linecolor": "white",
            "ticks": ""
           }
          },
          "title": {
           "x": 0.05
          },
          "xaxis": {
           "automargin": true,
           "gridcolor": "white",
           "linecolor": "white",
           "ticks": "",
           "title": {
            "standoff": 15
           },
           "zerolinecolor": "white",
           "zerolinewidth": 2
          },
          "yaxis": {
           "automargin": true,
           "gridcolor": "white",
           "linecolor": "white",
           "ticks": "",
           "title": {
            "standoff": 15
           },
           "zerolinecolor": "white",
           "zerolinewidth": 2
          }
         }
        },
        "title": {
         "text": "Correlation Heatmap of Evaluation Metrics"
        },
        "width": 600,
        "xaxis": {
         "dtick": 1,
         "gridcolor": "rgb(0, 0, 0)",
         "side": "top",
         "ticks": ""
        },
        "yaxis": {
         "dtick": 1,
         "ticks": "",
         "ticksuffix": "  "
        }
       }
      }
     },
     "metadata": {},
     "output_type": "display_data"
    }
   ],
   "source": [
    "import plotly.figure_factory as ff\n",
    "\n",
    "# Select relevant columns\n",
    "metrics = [\n",
    "    'evaluation_factual_correctness_score',\n",
    "    'evaluation_completeness_score',\n",
    "    'evaluation_clarity_score',\n",
    "    'overall_score'\n",
    "]\n",
    "\n",
    "# Calculate correlation matrix\n",
    "corr_matrix = df[metrics].corr().round(2)\n",
    "\n",
    "# Create heatmap\n",
    "fig = ff.create_annotated_heatmap(\n",
    "    z=corr_matrix.values,\n",
    "    x=corr_matrix.columns.tolist(),\n",
    "    y=corr_matrix.index.tolist(),\n",
    "    annotation_text=corr_matrix.values,\n",
    "    colorscale='Blues',\n",
    "    showscale=True\n",
    ")\n",
    "\n",
    "fig.update_layout(\n",
    "    title='Correlation Heatmap of Evaluation Metrics',\n",
    "    width=600,\n",
    "    height=600\n",
    ")\n",
    "\n",
    "fig.show()\n"
   ]
  },
  {
   "cell_type": "code",
   "execution_count": 255,
   "metadata": {},
   "outputs": [
    {
     "name": "stdout",
     "output_type": "stream",
     "text": [
      "Worst Answer by Overall Score: 2.3333333333333335\n",
      "Question: How does Oracle Financial Services Software Limited’s portfolio for the financial year ended March 31, 2024, support innovation and efficiency for retail banking clients, as highlighted by its machine learning capabilities and customer-centric digital solutions?\n",
      "Reasons: The answer includes many details about Oracle's retail banking portfolio and machine learning capabilities, but much of its content is not supported or mentioned in the provided document chunk. The chunk highlights specific solutions like Oracle Banking Origination, FLEXCUBE for Islamic Banking, Oracle Banking Platform, and Oracle Banking Branch with embedded machine learning, but the answer introduces unreferenced cloud services and AI-driven features not cited in the chunk. The original chunk does not mention generative AI, extensive cloud modular services, or specific customer deals, which the answer attributes to the company. While the answer attempts to be detailed and structured, many factual claims exceed or contradict the given text. The answer only partially addresses the question with some relevant points about embedded machine learning and customer-centric solutions but misses direct references from the chunk, resulting in partial completeness and mixed clarity.\n"
     ]
    }
   ],
   "source": [
    "#Worst answer by overall\n",
    "worst_answer = df.loc[df['overall_score'].idxmin()]\n",
    "print(f\"Worst Answer by Overall Score: {df['overall_score'].min()}\")\n",
    "print(f\"Question: {worst_answer['question']}\")\n",
    "# print(f\"Answer: {worst_answer['answer']}\")\n",
    "print(f\"Reasons: {worst_answer['evaluation_comments']}\")  "
   ]
  }
 ],
 "metadata": {
  "kernelspec": {
   "display_name": "Python 3",
   "language": "python",
   "name": "python3"
  },
  "language_info": {
   "codemirror_mode": {
    "name": "ipython",
    "version": 3
   },
   "file_extension": ".py",
   "mimetype": "text/x-python",
   "name": "python",
   "nbconvert_exporter": "python",
   "pygments_lexer": "ipython3",
   "version": "3.9.6"
  }
 },
 "nbformat": 4,
 "nbformat_minor": 2
}
